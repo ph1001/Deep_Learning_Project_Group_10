{
 "cells": [
  {
   "cell_type": "markdown",
   "id": "periodic-skirt",
   "metadata": {},
   "source": [
    "# Deep Learning Project - Traffic Signs Image Classification"
   ]
  },
  {
   "cell_type": "code",
   "execution_count": 1,
   "id": "announced-interstate",
   "metadata": {},
   "outputs": [],
   "source": [
    "import os, shutil\n",
    "import pandas as pd\n",
    "import seaborn as sns\n",
    "import matplotlib.pyplot as plt"
   ]
  },
  {
   "cell_type": "code",
   "execution_count": 2,
   "id": "lyric-screening",
   "metadata": {},
   "outputs": [],
   "source": [
    "def save_hist_to_excel(filename):\n",
    "    df = pd.DataFrame(history.history)\n",
    "    df.to_excel(filename + '.xlsx')"
   ]
  },
  {
   "cell_type": "markdown",
   "id": "radical-winter",
   "metadata": {},
   "source": [
    "## Overview of the training data"
   ]
  },
  {
   "cell_type": "code",
   "execution_count": 3,
   "id": "dated-alert",
   "metadata": {},
   "outputs": [
    {
     "name": "stdout",
     "output_type": "stream",
     "text": [
      "There are 43 different classes within the training data!\n"
     ]
    }
   ],
   "source": [
    "#setting the training directory (the training images can be found there, already sorted by class into folders)\n",
    "base_training_dir = \"/Users/henriquevaz/NOVA IMS/YEAR 1/SPRING SEMESTER/DL/Project/my_notebooks/Data/Training/Final_Training/Images/\"\n",
    "#base_training_dir = \"/Users/philippmetzger/Documents/GitHub/Deep_Learning_Project_Group_10/Data/GTSRB_Final_Training_Images/GTSRB/Final_Training/Images/\"\n",
    "\n",
    "#setting the directory where the selected training and validation images will be stored in\n",
    "created_dir = \"/Users/henriquevaz/NOVA IMS/YEAR 1/SPRING SEMESTER/DL/Project/my_notebooks/Data/Selected\"\n",
    "#created_dir = \"/Users/philippmetzger/Documents/GitHub/Deep_Learning_Project_Group_10/Data/Selected\"\n",
    "\n",
    "#storing all the folder names that belong to the respective classes\n",
    "all_classes = sorted(i for i in os.listdir(base_training_dir) if i.startswith(\"0\"))\n",
    "\n",
    "print(\"There are\", len(all_classes), \"different classes within the training data!\")"
   ]
  },
  {
   "cell_type": "code",
   "execution_count": 4,
   "id": "departmental-torture",
   "metadata": {},
   "outputs": [],
   "source": [
    "#getting the number of images within each class of the training data\n",
    "amount_per_class = {}\n",
    "\n",
    "for i in range(len(all_classes)):\n",
    "    directory = base_training_dir + \"/\" + all_classes[i]\n",
    "    amount_per_class[i] = len(sorted(i for i in os.listdir(directory) if i.startswith(\"0\")))\n",
    "\n",
    "amount_per_class_df = pd.DataFrame.from_dict(amount_per_class, orient='index').rename(columns={0:\"amount\"})\n",
    "amount_per_class_df.index.name = 'class'\n",
    "\n",
    "#remove the \"#\" of the following line to display the number of images within each class\n",
    "#amount_per_class_df"
   ]
  },
  {
   "cell_type": "code",
   "execution_count": 5,
   "id": "saved-advantage",
   "metadata": {},
   "outputs": [
    {
     "data": {
      "image/png": "[encoded data removed]",
      "text/plain": [
       "<Figure size 1440x576 with 1 Axes>"
      ]
     },
     "metadata": {
      "needs_background": "light"
     },
     "output_type": "display_data"
    }
   ],
   "source": [
    "#displaying the number of images per class visually\n",
    "\n",
    "plt.rcParams[\"figure.figsize\"] = (20,8)\n",
    "fig, ax = plt.subplots()\n",
    "plt.bar(amount_per_class_df.index, amount_per_class_df.amount)\n",
    "plt.title(\"Number of images per class\", fontsize=20)\n",
    "plt.xlabel('class', fontsize=18)\n",
    "plt.ylabel('number of images', fontsize=18)\n",
    "ax.spines['right'].set_visible(False)\n",
    "ax.spines['top'].set_visible(False)\n",
    "plt.xticks(amount_per_class_df.index)\n",
    "plt.grid(axis=\"y\")\n",
    "plt.show()"
   ]
  },
  {
   "cell_type": "markdown",
   "id": "later-school",
   "metadata": {},
   "source": [
    "As it can be seen in the bar chart, the dataset is highly unbalanced. Some classes have over 2000 instances, while others only have 210."
   ]
  },
  {
   "cell_type": "code",
   "execution_count": 6,
   "id": "noted-coordinator",
   "metadata": {},
   "outputs": [
    {
     "data": {
      "text/html": [
       "<div>\n",
       "<style scoped>\n",
       "    .dataframe tbody tr th:only-of-type {\n",
       "        vertical-align: middle;\n",
       "    }\n",
       "\n",
       "    .dataframe tbody tr th {\n",
       "        vertical-align: top;\n",
       "    }\n",
       "\n",
       "    .dataframe thead th {\n",
       "        text-align: right;\n",
       "    }\n",
       "</style>\n",
       "<table border=\"1\" class=\"dataframe\">\n",
       "  <thead>\n",
       "    <tr style=\"text-align: right;\">\n",
       "      <th>class</th>\n",
       "      <th>0</th>\n",
       "      <th>37</th>\n",
       "      <th>19</th>\n",
       "      <th>32</th>\n",
       "      <th>27</th>\n",
       "      <th>41</th>\n",
       "      <th>42</th>\n",
       "      <th>24</th>\n",
       "      <th>29</th>\n",
       "      <th>39</th>\n",
       "      <th>21</th>\n",
       "      <th>40</th>\n",
       "      <th>20</th>\n",
       "      <th>36</th>\n",
       "      <th>22</th>\n",
       "      <th>6</th>\n",
       "      <th>16</th>\n",
       "      <th>34</th>\n",
       "      <th>30</th>\n",
       "      <th>23</th>\n",
       "    </tr>\n",
       "  </thead>\n",
       "  <tbody>\n",
       "    <tr>\n",
       "      <th>amount</th>\n",
       "      <td>210</td>\n",
       "      <td>210</td>\n",
       "      <td>210</td>\n",
       "      <td>240</td>\n",
       "      <td>240</td>\n",
       "      <td>240</td>\n",
       "      <td>240</td>\n",
       "      <td>270</td>\n",
       "      <td>270</td>\n",
       "      <td>300</td>\n",
       "      <td>330</td>\n",
       "      <td>360</td>\n",
       "      <td>360</td>\n",
       "      <td>390</td>\n",
       "      <td>390</td>\n",
       "      <td>420</td>\n",
       "      <td>420</td>\n",
       "      <td>420</td>\n",
       "      <td>450</td>\n",
       "      <td>510</td>\n",
       "    </tr>\n",
       "  </tbody>\n",
       "</table>\n",
       "</div>"
      ],
      "text/plain": [
       "class    0    37   19   32   27   41   42   24   29   39   21   40   20   36  \\\n",
       "amount  210  210  210  240  240  240  240  270  270  300  330  360  360  390   \n",
       "\n",
       "class    22   6    16   34   30   23  \n",
       "amount  390  420  420  420  450  510  "
      ]
     },
     "execution_count": 6,
     "metadata": {},
     "output_type": "execute_result"
    }
   ],
   "source": [
    "#displaying the 20 classes with the fewest images\n",
    "amount_per_class_df.sort_values(\"amount\").head(20).T"
   ]
  },
  {
   "cell_type": "markdown",
   "id": "frank-advantage",
   "metadata": {},
   "source": [
    "Within each class, there are several groups of images, that belong together (these are basically all images of the very same traffic sign, that just differ in that they were made as a series while approaching the actual sign). These series of images shouldn't be splitted later when the data is split into training and validation sets, so some precautions might be useful:"
   ]
  },
  {
   "cell_type": "code",
   "execution_count": 7,
   "id": "effective-bicycle",
   "metadata": {},
   "outputs": [
    {
     "name": "stdout",
     "output_type": "stream",
     "text": [
      "There is a series whose number doesn't match the others in class 00033 , with the prefix 00019 !\n",
      "It only contains 29 images.\n",
      "All the other series of images contain exactly 30 images!\n"
     ]
    }
   ],
   "source": [
    "#checking the size(=amount of images) of these series and whether they are all having the same size\n",
    "\n",
    "#running a for loop over all classes\n",
    "for i in range(len(all_classes)):\n",
    "    directory = base_training_dir + \"/\" + all_classes[i]\n",
    "    \n",
    "    #get the names of all images within a class\n",
    "    list_of_images = sorted(i for i in os.listdir(directory) if i.startswith(\"0\"))\n",
    "\n",
    "    image_series = []\n",
    "    \n",
    "    #store all the prefixes of the images (which correspond to the series they belong to)\n",
    "    for element in list_of_images:\n",
    "        image_series.append(element.split(\"_\")[0])\n",
    "    \n",
    "    #count the frequency of each prefix, which equals the size of each respective series\n",
    "    image_counts = pd.Series(image_series).value_counts().sort_index()\n",
    "\n",
    "    for element in image_counts.values.tolist():\n",
    "        if element != image_counts.values.tolist()[0]:\n",
    "            #this line will show if there is a series that contains not the same number of images than the others\n",
    "            print(\"There is a series whose number doesn't match the others in class\", all_classes[i], \", with the prefix\", image_counts.sort_values().index[0], \"!\\nIt only contains\", element, \"images.\")\n",
    "            \n",
    "\n",
    "#apart from only one series, all others consist of exactly 30 images\n",
    "print(\"All the other series of images contain exactly\", image_counts.values.tolist()[0], \"images!\")"
   ]
  },
  {
   "cell_type": "markdown",
   "id": "insured-spencer",
   "metadata": {},
   "source": [
    "## Split into training and validation datasets"
   ]
  },
  {
   "cell_type": "markdown",
   "id": "flexible-sympathy",
   "metadata": {},
   "source": [
    "As already mentioned, it is important for the split into training and validation sets that the individual image series stay together. As a first approach, there will be 210 images used per class, as this number corresponds to the amount of images in the \"smallest\" class. This will fix the problem of imbalance in the dataset. Subsequently, the data will be splitted by a 5:2 (150:60) ratio into training and validation set, in order to guarantee that the series will stay together."
   ]
  },
  {
   "cell_type": "code",
   "execution_count": 8,
   "id": "reported-break",
   "metadata": {},
   "outputs": [],
   "source": [
    "new_train_dir = \"/Users/henriquevaz/NOVA IMS/YEAR 1/SPRING SEMESTER/DL/Project/my_notebooks/Data/Selected/train_all\"\n",
    "new_val_dir = \"/Users/henriquevaz/NOVA IMS/YEAR 1/SPRING SEMESTER/DL/Project/my_notebooks/Data/Selected/val_all\""
   ]
  },
  {
   "cell_type": "code",
   "execution_count": 61,
   "id": "norman-broad",
   "metadata": {},
   "outputs": [],
   "source": [
    "for i in range(len(all_classes)):\n",
    "    os.mkdir(new_train_dir + \"/\" + all_classes[i])\n",
    "    os.mkdir(new_val_dir + \"/\" + all_classes[i])"
   ]
  },
  {
   "cell_type": "code",
   "execution_count": 62,
   "id": "superior-earthquake",
   "metadata": {},
   "outputs": [],
   "source": [
    "import random\n",
    "\n",
    "for i in range(len(all_classes)):\n",
    "    \n",
    "    list_ = os.listdir(base_training_dir + \"/\" + all_classes[i])\n",
    "    random.shuffle(list_)\n",
    "    new_list = []\n",
    "    for element in list_:\n",
    "        if element.startswith(\"000\"):\n",
    "            new_list.append(element)\n",
    "    \n",
    "    new_list = sorted(new_list)\n",
    "    for image in range(len(new_list)):\n",
    "        \n",
    "        \n",
    "        #setting the cut off according to the next closest number in steps of 30 according to a 70:30 ratio\n",
    "        if len(new_list) == 210 or len(new_list) == 240:\n",
    "            cut = 60\n",
    "        elif len(new_list) == 270 or len(new_list) == 300 or len(new_list) == 330:\n",
    "            cut = 90\n",
    "        elif len(new_list) == 360 or len(new_list) == 390 or len(new_list) == 420:\n",
    "            cut = 120\n",
    "        elif len(new_list) == 450 or len(new_list) == 510 or len(new_list) == 540:\n",
    "            cut = 150\n",
    "        elif len(new_list) == 600 or len(new_list) == 630:\n",
    "            cut = 180\n",
    "        elif len(new_list) == 689:\n",
    "            cut = 210 - 1\n",
    "        elif len(new_list) == 780:\n",
    "            cut = 240\n",
    "        elif len(new_list) == 1110:\n",
    "            cut = 330\n",
    "        elif len(new_list) == 1200:\n",
    "            cut = 360\n",
    "        elif len(new_list) == 1320:\n",
    "            cut = 390\n",
    "        elif len(new_list) == 1410 or len(new_list) == 1440:\n",
    "            cut = 420\n",
    "        elif len(new_list) == 1470 or len(new_list) == 1500:\n",
    "            cut = 450\n",
    "        elif len(new_list) == 1860:\n",
    "            cut = 570\n",
    "        elif len(new_list) == 1980 or len(new_list) == 2010:\n",
    "            cut = 600\n",
    "        elif len(new_list) == 2070 or len(new_list) == 2100:\n",
    "            cut = 630\n",
    "        elif len(new_list) == 2160 or len(new_list) == 2220:\n",
    "            cut = 660\n",
    "        elif len(new_list) == 2250:\n",
    "            cut = 690\n",
    "         \n",
    "        \n",
    "        if image < len(new_list) - cut:\n",
    "            \n",
    "            src = base_training_dir + \"/\" + all_classes[i] + \"/\" + new_list[image]\n",
    "            dst = new_train_dir + \"/\" + all_classes[i] + \"/\"  + new_list[image]\n",
    "            shutil.copyfile(src, dst)\n",
    "            \n",
    "        else:\n",
    "            src = base_training_dir + \"/\" + all_classes[i] + \"/\" + new_list[image]\n",
    "            dst = new_val_dir + \"/\" + all_classes[i] + \"/\"  + new_list[image]\n",
    "            shutil.copyfile(src, dst)"
   ]
  },
  {
   "cell_type": "code",
   "execution_count": 9,
   "id": "precious-society",
   "metadata": {},
   "outputs": [
    {
     "name": "stdout",
     "output_type": "stream",
     "text": [
      "Class 0 : training set size = 150 ; validation set size: 60\n",
      "Class 1 : training set size = 1560 ; validation set size: 660\n",
      "Class 2 : training set size = 1560 ; validation set size: 690\n",
      "Class 3 : training set size = 990 ; validation set size: 420\n",
      "Class 4 : training set size = 1380 ; validation set size: 600\n",
      "Class 5 : training set size = 1290 ; validation set size: 570\n",
      "Class 6 : training set size = 300 ; validation set size: 120\n",
      "Class 7 : training set size = 1020 ; validation set size: 420\n",
      "Class 8 : training set size = 990 ; validation set size: 420\n",
      "Class 9 : training set size = 1020 ; validation set size: 450\n",
      "Class 10 : training set size = 1410 ; validation set size: 600\n",
      "Class 11 : training set size = 930 ; validation set size: 390\n",
      "Class 12 : training set size = 1470 ; validation set size: 630\n",
      "Class 13 : training set size = 1500 ; validation set size: 660\n",
      "Class 14 : training set size = 540 ; validation set size: 240\n",
      "Class 15 : training set size = 450 ; validation set size: 180\n",
      "Class 16 : training set size = 300 ; validation set size: 120\n",
      "Class 17 : training set size = 780 ; validation set size: 330\n",
      "Class 18 : training set size = 840 ; validation set size: 360\n",
      "Class 19 : training set size = 150 ; validation set size: 60\n",
      "Class 20 : training set size = 240 ; validation set size: 120\n",
      "Class 21 : training set size = 240 ; validation set size: 90\n",
      "Class 22 : training set size = 270 ; validation set size: 120\n",
      "Class 23 : training set size = 360 ; validation set size: 150\n",
      "Class 24 : training set size = 180 ; validation set size: 90\n",
      "Class 25 : training set size = 1050 ; validation set size: 450\n",
      "Class 26 : training set size = 420 ; validation set size: 180\n",
      "Class 27 : training set size = 180 ; validation set size: 60\n",
      "Class 28 : training set size = 390 ; validation set size: 150\n",
      "Class 29 : training set size = 180 ; validation set size: 90\n",
      "Class 30 : training set size = 300 ; validation set size: 150\n",
      "Class 31 : training set size = 540 ; validation set size: 240\n",
      "Class 32 : training set size = 180 ; validation set size: 60\n",
      "Class 33 : training set size = 480 ; validation set size: 209\n",
      "Class 34 : training set size = 300 ; validation set size: 120\n",
      "Class 35 : training set size = 840 ; validation set size: 360\n",
      "Class 36 : training set size = 270 ; validation set size: 120\n",
      "Class 37 : training set size = 150 ; validation set size: 60\n",
      "Class 38 : training set size = 1440 ; validation set size: 630\n",
      "Class 39 : training set size = 210 ; validation set size: 90\n",
      "Class 40 : training set size = 240 ; validation set size: 120\n",
      "Class 41 : training set size = 180 ; validation set size: 60\n",
      "Class 42 : training set size = 180 ; validation set size: 60\n"
     ]
    }
   ],
   "source": [
    "size_per_class_list = []\n",
    "\n",
    "for i in range(len(all_classes)):\n",
    "    size_per_class_list.append([len(os.listdir(new_train_dir + \"/\" + all_classes[i])), len(os.listdir(new_val_dir + \"/\" + all_classes[i]))])\n",
    "    print(\"Class\", i, \": training set size =\", len(os.listdir(new_train_dir + \"/\" + all_classes[i])), \"; validation set size:\", len(os.listdir(new_val_dir + \"/\" + all_classes[i])))"
   ]
  },
  {
   "cell_type": "markdown",
   "id": "permanent-speed",
   "metadata": {},
   "source": [
    "Now, there should be exactly 150 images within the train folder of each class and 60 images within the validation folder. Having 43 different classes, this means that there are a total of 6,450 (150x43) training images and another 2,580 (60x43) validation images. A sanity check will show if this worked correctly:"
   ]
  },
  {
   "cell_type": "markdown",
   "id": "based-jamaica",
   "metadata": {},
   "source": [
    "As it can be seen, it worked correctly!"
   ]
  },
  {
   "cell_type": "markdown",
   "id": "floating-supplier",
   "metadata": {},
   "source": [
    "## Data Preprocessing"
   ]
  },
  {
   "cell_type": "markdown",
   "id": "aerial-speed",
   "metadata": {},
   "source": [
    "After running the upper part once, the notebook can be started from here from now on:"
   ]
  },
  {
   "cell_type": "code",
   "execution_count": 12,
   "id": "ready-dialogue",
   "metadata": {
    "scrolled": true
   },
   "outputs": [],
   "source": [
    "#this cell is optional and the notebook should be runned from here once the upper part has been executed once\n",
    "\n",
    "import os, shutil\n",
    "import pandas as pd\n",
    "import seaborn as sns\n",
    "import matplotlib.pyplot as plt\n",
    "import tensorflow as tf"
   ]
  },
  {
   "cell_type": "code",
   "execution_count": 13,
   "id": "precise-bridge",
   "metadata": {},
   "outputs": [],
   "source": [
    "new_train_dir = \"/Users/henriquevaz/NOVA IMS/YEAR 1/SPRING SEMESTER/DL/Project/my_notebooks/Data/Selected/train_all\"\n",
    "new_val_dir = \"/Users/henriquevaz/NOVA IMS/YEAR 1/SPRING SEMESTER/DL/Project/my_notebooks/Data/Selected/val_all\""
   ]
  },
  {
   "cell_type": "code",
   "execution_count": 14,
   "id": "foster-vampire",
   "metadata": {},
   "outputs": [],
   "source": [
    "train_dir = new_train_dir\n",
    "validation_dir = new_val_dir"
   ]
  },
  {
   "cell_type": "code",
   "execution_count": 15,
   "id": "increasing-creature",
   "metadata": {},
   "outputs": [
    {
     "name": "stdout",
     "output_type": "stream",
     "text": [
      "Found 27450 images belonging to 43 classes.\n",
      "Found 11759 images belonging to 43 classes.\n"
     ]
    }
   ],
   "source": [
    "from tensorflow.keras.preprocessing.image import ImageDataGenerator\n",
    "\n",
    "train_datagen = ImageDataGenerator(rescale=1./255)\n",
    "test_datagen = ImageDataGenerator(rescale=1./255)\n",
    "\n",
    "train_generator = train_datagen.flow_from_directory(\n",
    "    train_dir,\n",
    "    target_size=(100,100),\n",
    "    batch_size=20,\n",
    "    class_mode=\"categorical\",\n",
    "    color_mode=\"grayscale\"\n",
    "    )\n",
    "\n",
    "validation_generator = test_datagen.flow_from_directory(\n",
    "    validation_dir,\n",
    "    target_size=(100,100),\n",
    "    batch_size=20,\n",
    "    class_mode=\"categorical\",\n",
    "    color_mode=\"grayscale\"\n",
    "    )"
   ]
  },
  {
   "cell_type": "code",
   "execution_count": 16,
   "id": "second-taste",
   "metadata": {},
   "outputs": [
    {
     "name": "stdout",
     "output_type": "stream",
     "text": [
      "data batch shape: (20, 100, 100, 1)\n",
      "labels batch shape: (20, 43)\n"
     ]
    }
   ],
   "source": [
    "import sys\n",
    "from PIL import Image\n",
    "sys.modules['Image'] = Image\n",
    "\n",
    "for data_batch, labels_batch in train_generator:\n",
    "    print('data batch shape:', data_batch.shape)\n",
    "    print('labels batch shape:', labels_batch.shape)\n",
    "    break"
   ]
  },
  {
   "cell_type": "markdown",
   "id": "expected-closer",
   "metadata": {},
   "source": [
    "## Draft of the model"
   ]
  },
  {
   "cell_type": "markdown",
   "id": "raising-revelation",
   "metadata": {},
   "source": [
    "### Base model (Using the 'Down' Version)"
   ]
  },
  {
   "cell_type": "code",
   "execution_count": 28,
   "id": "forward-priority",
   "metadata": {},
   "outputs": [],
   "source": [
    "from tensorflow.keras import layers\n",
    "from tensorflow.keras import models\n",
    "\n",
    "model = models.Sequential()\n",
    "model.add(layers.Conv2D(32, (2, 2), activation='relu', input_shape=(100, 100, 1)))\n",
    "model.add(layers.MaxPooling2D((2, 2)))\n",
    "model.add(layers.Dropout(0.15))\n",
    "model.add(layers.Conv2D(64, (3, 3), activation='relu'))\n",
    "model.add(layers.MaxPooling2D((2, 2) ))\n",
    "model.add(layers.Dropout(0.15))\n",
    "model.add(layers.Conv2D(128, (4, 4), activation='relu'))\n",
    "model.add(layers.MaxPooling2D((2, 2) ))\n",
    "model.add(layers.Dropout(0.1))\n",
    "model.add(layers.Flatten())\n",
    "model.add(layers.Dense(512, activation='relu'))\n",
    "model.add(layers.Dropout(0.5))\n",
    "model.add(layers.Dense (43, activation='softmax'))"
   ]
  },
  {
   "cell_type": "code",
   "execution_count": 29,
   "id": "assigned-policy",
   "metadata": {},
   "outputs": [
    {
     "name": "stdout",
     "output_type": "stream",
     "text": [
      "Model: \"sequential_5\"\n",
      "_________________________________________________________________\n",
      "Layer (type)                 Output Shape              Param #   \n",
      "=================================================================\n",
      "conv2d_15 (Conv2D)           (None, 99, 99, 32)        160       \n",
      "_________________________________________________________________\n",
      "max_pooling2d_15 (MaxPooling (None, 49, 49, 32)        0         \n",
      "_________________________________________________________________\n",
      "dropout_20 (Dropout)         (None, 49, 49, 32)        0         \n",
      "_________________________________________________________________\n",
      "conv2d_16 (Conv2D)           (None, 47, 47, 64)        18496     \n",
      "_________________________________________________________________\n",
      "max_pooling2d_16 (MaxPooling (None, 23, 23, 64)        0         \n",
      "_________________________________________________________________\n",
      "dropout_21 (Dropout)         (None, 23, 23, 64)        0         \n",
      "_________________________________________________________________\n",
      "conv2d_17 (Conv2D)           (None, 20, 20, 128)       131200    \n",
      "_________________________________________________________________\n",
      "max_pooling2d_17 (MaxPooling (None, 10, 10, 128)       0         \n",
      "_________________________________________________________________\n",
      "dropout_22 (Dropout)         (None, 10, 10, 128)       0         \n",
      "_________________________________________________________________\n",
      "flatten_5 (Flatten)          (None, 12800)             0         \n",
      "_________________________________________________________________\n",
      "dense_10 (Dense)             (None, 512)               6554112   \n",
      "_________________________________________________________________\n",
      "dropout_23 (Dropout)         (None, 512)               0         \n",
      "_________________________________________________________________\n",
      "dense_11 (Dense)             (None, 43)                22059     \n",
      "=================================================================\n",
      "Total params: 6,726,027\n",
      "Trainable params: 6,726,027\n",
      "Non-trainable params: 0\n",
      "_________________________________________________________________\n"
     ]
    }
   ],
   "source": [
    "model.summary()"
   ]
  },
  {
   "cell_type": "code",
   "execution_count": 30,
   "id": "younger-arabic",
   "metadata": {},
   "outputs": [],
   "source": [
    "from tensorflow.keras import optimizers\n",
    "\n",
    "#compilation\n",
    "model.compile(loss=\"categorical_crossentropy\", optimizer=optimizers.Adam(learning_rate=1e-4), metrics=[\"acc\"])"
   ]
  },
  {
   "cell_type": "code",
   "execution_count": 31,
   "id": "simplified-hundred",
   "metadata": {},
   "outputs": [
    {
     "name": "stdout",
     "output_type": "stream",
     "text": [
      "Epoch 1/50\n",
      "1373/1373 [==============================] - 80s 58ms/step - loss: 31.7360 - acc: 0.1631 - val_loss: 318.2441 - val_acc: 0.5708\n",
      "Epoch 2/50\n",
      "1373/1373 [==============================] - 78s 57ms/step - loss: 1922.2049 - acc: 0.3918 - val_loss: 2208.3916 - val_acc: 0.6776\n",
      "Epoch 3/50\n",
      "1373/1373 [==============================] - 78s 57ms/step - loss: 9056.5196 - acc: 0.4836 - val_loss: 6160.5229 - val_acc: 0.7371\n",
      "Epoch 4/50\n",
      "1373/1373 [==============================] - 79s 58ms/step - loss: 22433.5167 - acc: 0.5218 - val_loss: 16711.8496 - val_acc: 0.7262\n",
      "Epoch 5/50\n",
      "1373/1373 [==============================] - 78s 57ms/step - loss: 50545.0262 - acc: 0.5211 - val_loss: 28706.0078 - val_acc: 0.7628\n",
      "Epoch 6/50\n",
      "1373/1373 [==============================] - 78s 57ms/step - loss: 81186.7391 - acc: 0.5476 - val_loss: 48958.6289 - val_acc: 0.7368\n",
      "Epoch 7/50\n",
      "1373/1373 [==============================] - 78s 57ms/step - loss: 107934.5832 - acc: 0.5779 - val_loss: 62149.0234 - val_acc: 0.7508\n",
      "Epoch 8/50\n",
      "1373/1373 [==============================] - 78s 57ms/step - loss: 123345.5540 - acc: 0.6029 - val_loss: 91825.6797 - val_acc: 0.7357\n",
      "Epoch 9/50\n",
      "1373/1373 [==============================] - 78s 57ms/step - loss: 166873.7283 - acc: 0.5962 - val_loss: 109600.1094 - val_acc: 0.7193\n",
      "Epoch 10/50\n",
      "1373/1373 [==============================] - 78s 57ms/step - loss: 206360.0093 - acc: 0.6034 - val_loss: 153644.3438 - val_acc: 0.7513\n",
      "Epoch 11/50\n",
      "1373/1373 [==============================] - 79s 57ms/step - loss: 211030.4164 - acc: 0.6296 - val_loss: 147058.5938 - val_acc: 0.7704\n",
      "Epoch 12/50\n",
      "1373/1373 [==============================] - 78s 57ms/step - loss: 210360.8452 - acc: 0.6541 - val_loss: 156131.6719 - val_acc: 0.7606\n",
      "Epoch 13/50\n",
      "1373/1373 [==============================] - 78s 57ms/step - loss: 227041.6040 - acc: 0.6518 - val_loss: 215660.8125 - val_acc: 0.7397\n",
      "Epoch 14/50\n",
      "1373/1373 [==============================] - 78s 57ms/step - loss: 284331.4997 - acc: 0.6441 - val_loss: 206050.1719 - val_acc: 0.7683\n",
      "Epoch 15/50\n",
      "1373/1373 [==============================] - 79s 57ms/step - loss: 277631.2836 - acc: 0.6555 - val_loss: 236584.5625 - val_acc: 0.7353\n",
      "Epoch 16/50\n",
      "1373/1373 [==============================] - 78s 57ms/step - loss: 248748.0015 - acc: 0.6754 - val_loss: 253036.0312 - val_acc: 0.7614\n",
      "Epoch 17/50\n",
      "1373/1373 [==============================] - 78s 57ms/step - loss: 264016.6258 - acc: 0.6814 - val_loss: 260281.9688 - val_acc: 0.7549\n",
      "Epoch 18/50\n",
      "1373/1373 [==============================] - 78s 57ms/step - loss: 262298.9638 - acc: 0.6806 - val_loss: 279763.9062 - val_acc: 0.7747\n",
      "Epoch 19/50\n",
      "1373/1373 [==============================] - 78s 57ms/step - loss: 269623.5709 - acc: 0.6871 - val_loss: 297059.4688 - val_acc: 0.7846\n",
      "Epoch 20/50\n",
      "1373/1373 [==============================] - 78s 57ms/step - loss: 287151.9665 - acc: 0.6916 - val_loss: 316905.2188 - val_acc: 0.7714\n",
      "Epoch 21/50\n",
      "1373/1373 [==============================] - 78s 57ms/step - loss: 315826.8232 - acc: 0.6885 - val_loss: 355785.2500 - val_acc: 0.7986\n",
      "Epoch 22/50\n",
      "1373/1373 [==============================] - 78s 57ms/step - loss: 277575.8119 - acc: 0.7037 - val_loss: 328685.4375 - val_acc: 0.7865\n",
      "Epoch 23/50\n",
      "1373/1373 [==============================] - 79s 57ms/step - loss: 297115.0414 - acc: 0.6999 - val_loss: 332640.1250 - val_acc: 0.7702\n",
      "Epoch 24/50\n",
      "1373/1373 [==============================] - 79s 58ms/step - loss: 306979.7216 - acc: 0.7057 - val_loss: 373120.2188 - val_acc: 0.7558\n",
      "Epoch 25/50\n",
      "1373/1373 [==============================] - 79s 58ms/step - loss: 316562.3748 - acc: 0.7145 - val_loss: 441018.3125 - val_acc: 0.7435\n",
      "Epoch 26/50\n",
      "1373/1373 [==============================] - 79s 58ms/step - loss: 347272.0756 - acc: 0.7103 - val_loss: 408967.7812 - val_acc: 0.7738\n",
      "Epoch 27/50\n",
      "1373/1373 [==============================] - 79s 57ms/step - loss: 306066.2213 - acc: 0.7279 - val_loss: 430319.4375 - val_acc: 0.7856\n",
      "Epoch 28/50\n",
      "1373/1373 [==============================] - 79s 57ms/step - loss: 345593.2563 - acc: 0.7186 - val_loss: 485095.6250 - val_acc: 0.7655\n",
      "Epoch 29/50\n",
      "1373/1373 [==============================] - 79s 57ms/step - loss: 349541.1109 - acc: 0.7264 - val_loss: 653968.6875 - val_acc: 0.7166\n",
      "Epoch 30/50\n",
      "1373/1373 [==============================] - 79s 58ms/step - loss: 349426.0990 - acc: 0.7263 - val_loss: 540018.8125 - val_acc: 0.7752\n",
      "Epoch 31/50\n",
      "1373/1373 [==============================] - 79s 58ms/step - loss: 337638.2350 - acc: 0.7379 - val_loss: 449631.3438 - val_acc: 0.7945\n",
      "Epoch 32/50\n",
      "1373/1373 [==============================] - 79s 57ms/step - loss: 338151.6661 - acc: 0.7437 - val_loss: 490962.3750 - val_acc: 0.7879\n",
      "Epoch 33/50\n",
      "1373/1373 [==============================] - 79s 57ms/step - loss: 359464.4035 - acc: 0.7305 - val_loss: 545966.3125 - val_acc: 0.7843\n",
      "Epoch 34/50\n",
      "1373/1373 [==============================] - 79s 58ms/step - loss: 396272.4737 - acc: 0.7339 - val_loss: 607016.9375 - val_acc: 0.7822\n",
      "Epoch 35/50\n",
      "1373/1373 [==============================] - 79s 58ms/step - loss: 401959.2031 - acc: 0.7334 - val_loss: 627705.1250 - val_acc: 0.7919\n",
      "Epoch 36/50\n",
      "1373/1373 [==============================] - 79s 58ms/step - loss: 411759.1001 - acc: 0.7430 - val_loss: 589320.2500 - val_acc: 0.8209\n",
      "Epoch 37/50\n",
      "1373/1373 [==============================] - 79s 57ms/step - loss: 409631.7369 - acc: 0.7371 - val_loss: 619441.8125 - val_acc: 0.8026\n",
      "Epoch 38/50\n",
      "1373/1373 [==============================] - 79s 57ms/step - loss: 452156.0204 - acc: 0.7449 - val_loss: 667783.5000 - val_acc: 0.7936\n",
      "Epoch 39/50\n",
      "1373/1373 [==============================] - 79s 58ms/step - loss: 425596.6555 - acc: 0.7454 - val_loss: 555929.6875 - val_acc: 0.8336\n",
      "Epoch 40/50\n",
      "1373/1373 [==============================] - 78s 57ms/step - loss: 444808.0530 - acc: 0.7475 - val_loss: 683005.0625 - val_acc: 0.8086\n",
      "Epoch 41/50\n",
      "1373/1373 [==============================] - 78s 57ms/step - loss: 459016.5694 - acc: 0.7445 - val_loss: 799649.5000 - val_acc: 0.7983\n",
      "Epoch 42/50\n",
      "1373/1373 [==============================] - 78s 57ms/step - loss: 460858.5413 - acc: 0.7502 - val_loss: 805891.0625 - val_acc: 0.7788\n",
      "Epoch 43/50\n",
      "1373/1373 [==============================] - 79s 57ms/step - loss: 456405.0118 - acc: 0.7550 - val_loss: 641300.1250 - val_acc: 0.8198\n",
      "Epoch 44/50\n",
      "1373/1373 [==============================] - 79s 57ms/step - loss: 463569.3668 - acc: 0.7519 - val_loss: 742686.9375 - val_acc: 0.8196\n",
      "Epoch 45/50\n",
      "1373/1373 [==============================] - 79s 58ms/step - loss: 507001.3898 - acc: 0.7548 - val_loss: 852442.5000 - val_acc: 0.8076\n",
      "Epoch 46/50\n",
      "1373/1373 [==============================] - 79s 57ms/step - loss: 505847.8284 - acc: 0.7603 - val_loss: 871280.3750 - val_acc: 0.7741\n",
      "Epoch 47/50\n",
      "1373/1373 [==============================] - 79s 57ms/step - loss: 524216.6490 - acc: 0.7558 - val_loss: 931754.3750 - val_acc: 0.8008\n",
      "Epoch 48/50\n",
      "1373/1373 [==============================] - 79s 57ms/step - loss: 541868.5086 - acc: 0.7677 - val_loss: 964966.6250 - val_acc: 0.8045\n",
      "Epoch 49/50\n",
      "1373/1373 [==============================] - 79s 57ms/step - loss: 584623.5665 - acc: 0.7633 - val_loss: 957430.5000 - val_acc: 0.7688\n",
      "Epoch 50/50\n",
      "1373/1373 [==============================] - 78s 57ms/step - loss: 558984.9857 - acc: 0.7616 - val_loss: 882990.0625 - val_acc: 0.8266\n"
     ]
    }
   ],
   "source": [
    "history = model.fit(\n",
    "    train_generator,\n",
    "    epochs=50,\n",
    "    validation_data=validation_generator,\n",
    "    )"
   ]
  },
  {
   "cell_type": "code",
   "execution_count": 32,
   "id": "medium-fortune",
   "metadata": {},
   "outputs": [
    {
     "name": "stderr",
     "output_type": "stream",
     "text": [
      "/Users/henriquevaz/miniforge3/envs/dplearn/lib/python3.8/site-packages/tensorflow/python/keras/engine/training.py:2325: UserWarning: `Model.state_updates` will be removed in a future version. This property should not be used in TensorFlow 2.0, as `updates` are applied automatically.\n",
      "  warnings.warn('`Model.state_updates` will be removed in a future version. '\n",
      "/Users/henriquevaz/miniforge3/envs/dplearn/lib/python3.8/site-packages/tensorflow/python/keras/engine/base_layer.py:1397: UserWarning: `layer.updates` will be removed in a future version. This property should not be used in TensorFlow 2.0, as `updates` are applied automatically.\n",
      "  warnings.warn('`layer.updates` will be removed in a future version. '\n"
     ]
    },
    {
     "name": "stdout",
     "output_type": "stream",
     "text": [
      "WARNING:tensorflow:FOR KERAS USERS: The object that you are saving contains one or more Keras models or layers. If you are loading the SavedModel with `tf.keras.models.load_model`, continue reading (otherwise, you may ignore the following instructions). Please change your code to save with `tf.keras.models.save_model` or `model.save`, and confirm that the file \"keras.metadata\" exists in the export directory. In the future, Keras will only load the SavedModels that have this file. In other words, `tf.saved_model.save` will no longer write SavedModels that can be recovered as Keras models (this will apply in TF 2.5).\n",
      "\n",
      "FOR DEVS: If you are overwriting _tracking_metadata in your class, this property has been used to save metadata in the SavedModel. The metadta field will be deprecated soon, so please move the metadata to a different file.\n",
      "INFO:tensorflow:Assets written to: model_all_data_4ConvLayers_grayscale_more_ropout_layers_down_0-50/assets\n"
     ]
    }
   ],
   "source": [
    "model.save('model_all_data_4ConvLayers_grayscale_more_ropout_layers_down_0-50')"
   ]
  },
  {
   "cell_type": "code",
   "execution_count": 33,
   "id": "provincial-sodium",
   "metadata": {},
   "outputs": [],
   "source": [
    "save_hist_to_excel('history_model_all_data_4ConvLayers_grayscale_more_ropout_layers_down_0-50')"
   ]
  },
  {
   "cell_type": "code",
   "execution_count": 34,
   "id": "interracial-endorsement",
   "metadata": {},
   "outputs": [
    {
     "data": {
      "image/png": "[encoded data removed]",
      "text/plain": [
       "<Figure size 1440x576 with 1 Axes>"
      ]
     },
     "metadata": {
      "needs_background": "light"
     },
     "output_type": "display_data"
    },
    {
     "data": {
      "image/png": "[encoded data removed]",
      "text/plain": [
       "<Figure size 1440x576 with 1 Axes>"
      ]
     },
     "metadata": {
      "needs_background": "light"
     },
     "output_type": "display_data"
    }
   ],
   "source": [
    "#Displaying curves of loss and accuracy during training\n",
    "\n",
    "import matplotlib.pyplot as plt\n",
    "\n",
    "acc = history.history[\"acc\"]\n",
    "val_acc = history.history[\"val_acc\"]\n",
    "loss = history.history[\"loss\"]\n",
    "val_loss = history.history[\"val_loss\"]\n",
    "\n",
    "epochs = range(1, len(acc) + 1)\n",
    "\n",
    "plt.plot(epochs, acc, \"bo\", label=\"Training acc\")\n",
    "plt.plot(epochs, val_acc, \"b\", label=\"Validation acc\")\n",
    "plt.title(\"Training and validation accuracy\")\n",
    "plt.legend()\n",
    "\n",
    "plt.show()\n",
    "\n",
    "plt.plot(epochs, loss, \"bo\", label=\"Training loss\")\n",
    "plt.plot(epochs, val_loss, \"b\", label=\"Validation loss\")\n",
    "plt.title(\"Training and validation loss\")\n",
    "plt.legend()\n",
    "\n",
    "plt.show()"
   ]
  },
  {
   "cell_type": "code",
   "execution_count": 35,
   "id": "exceptional-removal",
   "metadata": {},
   "outputs": [
    {
     "name": "stdout",
     "output_type": "stream",
     "text": [
      "Epoch 1/50\n",
      "1373/1373 [==============================] - 79s 57ms/step - loss: 582243.1875 - acc: 0.7661 - val_loss: 1079220.2500 - val_acc: 0.8278\n",
      "Epoch 2/50\n",
      "1373/1373 [==============================] - 78s 57ms/step - loss: 594423.8750 - acc: 0.7689 - val_loss: 1002675.7500 - val_acc: 0.8286\n",
      "Epoch 3/50\n",
      "1373/1373 [==============================] - 79s 57ms/step - loss: 562192.7500 - acc: 0.7738 - val_loss: 1026758.5000 - val_acc: 0.8009\n",
      "Epoch 4/50\n",
      "1373/1373 [==============================] - 79s 57ms/step - loss: 630639.1875 - acc: 0.7733 - val_loss: 1102069.7500 - val_acc: 0.8212\n",
      "Epoch 5/50\n",
      "1373/1373 [==============================] - 79s 57ms/step - loss: 633170.5000 - acc: 0.7760 - val_loss: 1081501.5000 - val_acc: 0.7950\n",
      "Epoch 6/50\n",
      "1373/1373 [==============================] - 79s 57ms/step - loss: 641311.4375 - acc: 0.7757 - val_loss: 1169571.1250 - val_acc: 0.8195\n",
      "Epoch 7/50\n",
      "1373/1373 [==============================] - 79s 57ms/step - loss: 649088.3750 - acc: 0.7791 - val_loss: 1165685.3750 - val_acc: 0.7928\n",
      "Epoch 8/50\n",
      "1373/1373 [==============================] - 79s 57ms/step - loss: 704994.2500 - acc: 0.7796 - val_loss: 1266027.2500 - val_acc: 0.7843\n",
      "Epoch 9/50\n",
      "1373/1373 [==============================] - 79s 57ms/step - loss: 722066.3750 - acc: 0.7769 - val_loss: 1192854.8750 - val_acc: 0.8049\n",
      "Epoch 10/50\n",
      "1373/1373 [==============================] - 79s 57ms/step - loss: 711870.8750 - acc: 0.7807 - val_loss: 1334975.6250 - val_acc: 0.7800\n",
      "Epoch 11/50\n",
      "1373/1373 [==============================] - 79s 57ms/step - loss: 740954.5625 - acc: 0.7806 - val_loss: 1456611.3750 - val_acc: 0.8066\n",
      "Epoch 12/50\n",
      "1373/1373 [==============================] - 78s 57ms/step - loss: 747715.1875 - acc: 0.7835 - val_loss: 1305131.6250 - val_acc: 0.8089\n",
      "Epoch 13/50\n",
      "1373/1373 [==============================] - 79s 57ms/step - loss: 754533.1250 - acc: 0.7879 - val_loss: 1454300.8750 - val_acc: 0.8122\n",
      "Epoch 14/50\n",
      "1373/1373 [==============================] - 79s 57ms/step - loss: 808037.4375 - acc: 0.7864 - val_loss: 1422607.7500 - val_acc: 0.7979\n",
      "Epoch 15/50\n",
      "1373/1373 [==============================] - 79s 57ms/step - loss: 838488.9375 - acc: 0.7893 - val_loss: 1645332.6250 - val_acc: 0.7968\n",
      "Epoch 16/50\n",
      "1373/1373 [==============================] - 79s 57ms/step - loss: 864194.6875 - acc: 0.7867 - val_loss: 1640590.6250 - val_acc: 0.8069\n",
      "Epoch 17/50\n",
      "1373/1373 [==============================] - 79s 57ms/step - loss: 928961.3125 - acc: 0.7872 - val_loss: 1576605.2500 - val_acc: 0.8173\n",
      "Epoch 18/50\n",
      "1373/1373 [==============================] - 79s 57ms/step - loss: 917420.7500 - acc: 0.7913 - val_loss: 1644324.3750 - val_acc: 0.8381\n",
      "Epoch 19/50\n",
      "1373/1373 [==============================] - 79s 57ms/step - loss: 989750.3750 - acc: 0.7901 - val_loss: 1816683.2500 - val_acc: 0.8022\n",
      "Epoch 20/50\n",
      "1373/1373 [==============================] - 78s 57ms/step - loss: 1020136.6250 - acc: 0.7900 - val_loss: 1572110.3750 - val_acc: 0.8122\n",
      "Epoch 21/50\n",
      "1373/1373 [==============================] - 79s 57ms/step - loss: 1004807.4375 - acc: 0.7901 - val_loss: 1927884.3750 - val_acc: 0.8200\n",
      "Epoch 22/50\n",
      "1373/1373 [==============================] - 78s 57ms/step - loss: 1048187.5000 - acc: 0.7922 - val_loss: 2227901.7500 - val_acc: 0.8061\n",
      "Epoch 23/50\n",
      "1373/1373 [==============================] - 79s 57ms/step - loss: 1028617.0625 - acc: 0.7941 - val_loss: 2137754.0000 - val_acc: 0.8179\n",
      "Epoch 24/50\n",
      "1373/1373 [==============================] - 79s 57ms/step - loss: 1090123.5000 - acc: 0.7948 - val_loss: 2028484.5000 - val_acc: 0.8402\n",
      "Epoch 25/50\n",
      "1373/1373 [==============================] - 79s 57ms/step - loss: 1092743.5000 - acc: 0.7954 - val_loss: 2164898.5000 - val_acc: 0.8353\n",
      "Epoch 26/50\n",
      "1373/1373 [==============================] - 79s 57ms/step - loss: 1173855.1250 - acc: 0.7949 - val_loss: 2598290.7500 - val_acc: 0.8045\n",
      "Epoch 27/50\n",
      "1373/1373 [==============================] - 78s 57ms/step - loss: 1248952.7500 - acc: 0.7945 - val_loss: 2231487.2500 - val_acc: 0.7970\n",
      "Epoch 28/50\n",
      "1373/1373 [==============================] - 78s 57ms/step - loss: 1268833.7500 - acc: 0.7921 - val_loss: 2499644.2500 - val_acc: 0.8214\n",
      "Epoch 29/50\n",
      "1373/1373 [==============================] - 79s 57ms/step - loss: 1260651.5000 - acc: 0.7948 - val_loss: 2530346.2500 - val_acc: 0.8366\n",
      "Epoch 30/50\n",
      "1373/1373 [==============================] - 79s 57ms/step - loss: 1299198.3750 - acc: 0.7995 - val_loss: 2427808.7500 - val_acc: 0.8440\n",
      "Epoch 31/50\n",
      "1373/1373 [==============================] - 79s 57ms/step - loss: 1284376.3750 - acc: 0.8004 - val_loss: 2347453.2500 - val_acc: 0.8260\n",
      "Epoch 32/50\n",
      "1373/1373 [==============================] - 79s 57ms/step - loss: 1382284.3750 - acc: 0.7981 - val_loss: 2782181.2500 - val_acc: 0.8449\n",
      "Epoch 33/50\n",
      "1373/1373 [==============================] - 79s 57ms/step - loss: 1442014.5000 - acc: 0.7996 - val_loss: 2798001.2500 - val_acc: 0.8108\n",
      "Epoch 34/50\n",
      "1373/1373 [==============================] - 79s 57ms/step - loss: 1429927.7500 - acc: 0.8024 - val_loss: 2893176.7500 - val_acc: 0.8269\n",
      "Epoch 35/50\n",
      "1373/1373 [==============================] - 79s 58ms/step - loss: 1384509.5000 - acc: 0.8100 - val_loss: 2854678.7500 - val_acc: 0.8307\n",
      "Epoch 36/50\n",
      "1373/1373 [==============================] - 79s 57ms/step - loss: 1444716.6250 - acc: 0.8056 - val_loss: 2902805.7500 - val_acc: 0.8403\n",
      "Epoch 37/50\n",
      "1373/1373 [==============================] - 79s 57ms/step - loss: 1540082.8750 - acc: 0.8021 - val_loss: 3172930.5000 - val_acc: 0.7897\n",
      "Epoch 38/50\n",
      "1373/1373 [==============================] - 79s 57ms/step - loss: 1606594.1250 - acc: 0.8067 - val_loss: 2940065.2500 - val_acc: 0.8387\n",
      "Epoch 39/50\n",
      "1373/1373 [==============================] - 79s 57ms/step - loss: 1640709.2500 - acc: 0.8058 - val_loss: 2957711.5000 - val_acc: 0.8333\n",
      "Epoch 40/50\n",
      "1373/1373 [==============================] - 79s 58ms/step - loss: 1634906.1250 - acc: 0.8086 - val_loss: 3112392.5000 - val_acc: 0.8054\n",
      "Epoch 41/50\n",
      "1373/1373 [==============================] - 79s 57ms/step - loss: 1750217.6250 - acc: 0.8056 - val_loss: 3649756.2500 - val_acc: 0.7865\n",
      "Epoch 42/50\n",
      "1373/1373 [==============================] - 79s 57ms/step - loss: 1838302.2500 - acc: 0.8033 - val_loss: 3082809.0000 - val_acc: 0.8501\n",
      "Epoch 43/50\n",
      "1373/1373 [==============================] - 79s 57ms/step - loss: 1867037.6250 - acc: 0.8058 - val_loss: 3339832.2500 - val_acc: 0.8519\n",
      "Epoch 44/50\n",
      "1373/1373 [==============================] - 79s 57ms/step - loss: 1857219.1250 - acc: 0.8090 - val_loss: 3666785.0000 - val_acc: 0.8187\n",
      "Epoch 45/50\n",
      "1373/1373 [==============================] - 79s 57ms/step - loss: 1958299.3750 - acc: 0.8063 - val_loss: 3592733.7500 - val_acc: 0.8389\n",
      "Epoch 46/50\n",
      "1373/1373 [==============================] - 79s 57ms/step - loss: 1997724.7500 - acc: 0.8074 - val_loss: 4099504.5000 - val_acc: 0.8091\n",
      "Epoch 47/50\n",
      "1373/1373 [==============================] - 79s 57ms/step - loss: 2199945.0000 - acc: 0.8048 - val_loss: 3777865.2500 - val_acc: 0.8427\n",
      "Epoch 48/50\n",
      "1373/1373 [==============================] - 79s 57ms/step - loss: 2195661.5000 - acc: 0.8072 - val_loss: 4180905.5000 - val_acc: 0.8215\n",
      "Epoch 49/50\n",
      "1373/1373 [==============================] - 79s 57ms/step - loss: 2173496.2500 - acc: 0.8094 - val_loss: 3923414.2500 - val_acc: 0.8479\n",
      "Epoch 50/50\n",
      "1373/1373 [==============================] - 79s 57ms/step - loss: 2158183.7500 - acc: 0.8094 - val_loss: 4435501.0000 - val_acc: 0.8407\n"
     ]
    }
   ],
   "source": [
    "history = model.fit(\n",
    "    train_generator,\n",
    "    epochs=50,\n",
    "    validation_data=validation_generator,\n",
    "    )"
   ]
  },
  {
   "cell_type": "code",
   "execution_count": 36,
   "id": "stunning-labor",
   "metadata": {},
   "outputs": [
    {
     "name": "stdout",
     "output_type": "stream",
     "text": [
      "WARNING:tensorflow:FOR KERAS USERS: The object that you are saving contains one or more Keras models or layers. If you are loading the SavedModel with `tf.keras.models.load_model`, continue reading (otherwise, you may ignore the following instructions). Please change your code to save with `tf.keras.models.save_model` or `model.save`, and confirm that the file \"keras.metadata\" exists in the export directory. In the future, Keras will only load the SavedModels that have this file. In other words, `tf.saved_model.save` will no longer write SavedModels that can be recovered as Keras models (this will apply in TF 2.5).\n",
      "\n",
      "FOR DEVS: If you are overwriting _tracking_metadata in your class, this property has been used to save metadata in the SavedModel. The metadta field will be deprecated soon, so please move the metadata to a different file.\n",
      "INFO:tensorflow:Assets written to: model_all_data_4ConvLayers_grayscale_more_ropout_layers_down_50-100/assets\n"
     ]
    }
   ],
   "source": [
    "model.save('model_all_data_4ConvLayers_grayscale_more_ropout_layers_down_50-100')"
   ]
  },
  {
   "cell_type": "code",
   "execution_count": 37,
   "id": "compact-trail",
   "metadata": {},
   "outputs": [],
   "source": [
    "save_hist_to_excel('history_model_all_data_4ConvLayers_grayscale_more_ropout_layers_down_50-100')"
   ]
  },
  {
   "cell_type": "code",
   "execution_count": 38,
   "id": "subsequent-diploma",
   "metadata": {},
   "outputs": [
    {
     "name": "stdout",
     "output_type": "stream",
     "text": [
      "Epoch 1/50\n",
      "1373/1373 [==============================] - 79s 57ms/step - loss: 2238539.7500 - acc: 0.8138 - val_loss: 5166524.0000 - val_acc: 0.7837\n",
      "Epoch 2/50\n",
      "1373/1373 [==============================] - 79s 57ms/step - loss: 2321704.5000 - acc: 0.8121 - val_loss: 4915025.0000 - val_acc: 0.8084\n",
      "Epoch 3/50\n",
      "1373/1373 [==============================] - 79s 57ms/step - loss: 2404914.7500 - acc: 0.8144 - val_loss: 4435174.5000 - val_acc: 0.8398\n",
      "Epoch 4/50\n",
      "1373/1373 [==============================] - 79s 57ms/step - loss: 2497295.7500 - acc: 0.8092 - val_loss: 4876317.5000 - val_acc: 0.8271\n",
      "Epoch 5/50\n",
      "1373/1373 [==============================] - 79s 57ms/step - loss: 2689948.5000 - acc: 0.8072 - val_loss: 6105169.0000 - val_acc: 0.7813\n",
      "Epoch 6/50\n",
      "1373/1373 [==============================] - 79s 58ms/step - loss: 2683949.2500 - acc: 0.8107 - val_loss: 5263550.0000 - val_acc: 0.8174\n",
      "Epoch 7/50\n",
      "1373/1373 [==============================] - 79s 57ms/step - loss: 2512594.7500 - acc: 0.8161 - val_loss: 4794150.5000 - val_acc: 0.8468\n",
      "Epoch 8/50\n",
      "1373/1373 [==============================] - 79s 58ms/step - loss: 2641995.0000 - acc: 0.8144 - val_loss: 5520438.5000 - val_acc: 0.8397\n",
      "Epoch 9/50\n",
      "1373/1373 [==============================] - 79s 58ms/step - loss: 2575367.7500 - acc: 0.8152 - val_loss: 5659367.5000 - val_acc: 0.8356\n",
      "Epoch 10/50\n",
      "1373/1373 [==============================] - 79s 57ms/step - loss: 2758958.5000 - acc: 0.8174 - val_loss: 6151166.5000 - val_acc: 0.8416\n",
      "Epoch 11/50\n",
      "1373/1373 [==============================] - 79s 57ms/step - loss: 2924835.5000 - acc: 0.8144 - val_loss: 6054663.5000 - val_acc: 0.8423\n",
      "Epoch 12/50\n",
      "1373/1373 [==============================] - 79s 57ms/step - loss: 2857659.0000 - acc: 0.8173 - val_loss: 6109184.0000 - val_acc: 0.8335\n",
      "Epoch 13/50\n",
      "1373/1373 [==============================] - 79s 57ms/step - loss: 2875450.5000 - acc: 0.8179 - val_loss: 5769719.5000 - val_acc: 0.8548\n",
      "Epoch 14/50\n",
      "1373/1373 [==============================] - 79s 58ms/step - loss: 2847588.5000 - acc: 0.8223 - val_loss: 6127745.0000 - val_acc: 0.8502\n",
      "Epoch 15/50\n",
      "1373/1373 [==============================] - 79s 57ms/step - loss: 2991190.5000 - acc: 0.8189 - val_loss: 6330049.0000 - val_acc: 0.8402\n",
      "Epoch 16/50\n",
      "1373/1373 [==============================] - 79s 58ms/step - loss: 3139325.5000 - acc: 0.8193 - val_loss: 5663325.5000 - val_acc: 0.8554\n",
      "Epoch 17/50\n",
      "1373/1373 [==============================] - 79s 58ms/step - loss: 3175513.2500 - acc: 0.8177 - val_loss: 6961275.0000 - val_acc: 0.8453\n",
      "Epoch 18/50\n",
      "1373/1373 [==============================] - 79s 58ms/step - loss: 3289873.7500 - acc: 0.8197 - val_loss: 7136237.5000 - val_acc: 0.8207\n",
      "Epoch 19/50\n",
      "1373/1373 [==============================] - 79s 57ms/step - loss: 3301913.5000 - acc: 0.8184 - val_loss: 7007276.0000 - val_acc: 0.8438\n",
      "Epoch 20/50\n",
      "1373/1373 [==============================] - 79s 57ms/step - loss: 3240041.7500 - acc: 0.8249 - val_loss: 7451900.0000 - val_acc: 0.8287\n",
      "Epoch 21/50\n",
      "1373/1373 [==============================] - 79s 57ms/step - loss: 3371517.5000 - acc: 0.8235 - val_loss: 6801976.5000 - val_acc: 0.8452\n",
      "Epoch 22/50\n",
      "1373/1373 [==============================] - 79s 57ms/step - loss: 3480397.5000 - acc: 0.8232 - val_loss: 7376033.0000 - val_acc: 0.8418\n",
      "Epoch 23/50\n",
      "1373/1373 [==============================] - 79s 57ms/step - loss: 3578497.0000 - acc: 0.8203 - val_loss: 8216478.0000 - val_acc: 0.8330\n",
      "Epoch 24/50\n",
      "1373/1373 [==============================] - 79s 58ms/step - loss: 3740136.7500 - acc: 0.8201 - val_loss: 7672482.0000 - val_acc: 0.8417\n",
      "Epoch 25/50\n",
      "1373/1373 [==============================] - 79s 57ms/step - loss: 3812552.2500 - acc: 0.8242 - val_loss: 8842650.0000 - val_acc: 0.8499\n",
      "Epoch 26/50\n",
      "1373/1373 [==============================] - 79s 58ms/step - loss: 3875783.2500 - acc: 0.8212 - val_loss: 8445893.0000 - val_acc: 0.8135\n",
      "Epoch 27/50\n",
      "1373/1373 [==============================] - 79s 57ms/step - loss: 4204771.5000 - acc: 0.8174 - val_loss: 8426783.0000 - val_acc: 0.8486\n",
      "Epoch 28/50\n",
      "1373/1373 [==============================] - 79s 57ms/step - loss: 4201093.5000 - acc: 0.8207 - val_loss: 9235198.0000 - val_acc: 0.8002\n",
      "Epoch 29/50\n",
      "1373/1373 [==============================] - 79s 57ms/step - loss: 4245259.0000 - acc: 0.8212 - val_loss: 8242384.5000 - val_acc: 0.8505\n",
      "Epoch 30/50\n",
      "1373/1373 [==============================] - 78s 57ms/step - loss: 4224272.5000 - acc: 0.8231 - val_loss: 8891596.0000 - val_acc: 0.8154\n",
      "Epoch 31/50\n",
      "1373/1373 [==============================] - 79s 57ms/step - loss: 4275279.0000 - acc: 0.8251 - val_loss: 9033391.0000 - val_acc: 0.8428\n",
      "Epoch 32/50\n",
      "1373/1373 [==============================] - 79s 57ms/step - loss: 4407209.0000 - acc: 0.8249 - val_loss: 9068314.0000 - val_acc: 0.8527\n",
      "Epoch 33/50\n",
      "1373/1373 [==============================] - 79s 57ms/step - loss: 4484800.5000 - acc: 0.8242 - val_loss: 9073876.0000 - val_acc: 0.8377\n",
      "Epoch 34/50\n",
      "1373/1373 [==============================] - 79s 57ms/step - loss: 4932599.5000 - acc: 0.8176 - val_loss: 9752887.0000 - val_acc: 0.8218\n",
      "Epoch 35/50\n",
      "1373/1373 [==============================] - 79s 57ms/step - loss: 4656428.5000 - acc: 0.8233 - val_loss: 10486560.0000 - val_acc: 0.8417\n",
      "Epoch 36/50\n",
      "1373/1373 [==============================] - 79s 57ms/step - loss: 4807709.5000 - acc: 0.8248 - val_loss: 10278930.0000 - val_acc: 0.8509\n",
      "Epoch 37/50\n",
      "1373/1373 [==============================] - 79s 57ms/step - loss: 4812092.0000 - acc: 0.8286 - val_loss: 9529486.0000 - val_acc: 0.8572\n",
      "Epoch 38/50\n",
      "1373/1373 [==============================] - 79s 57ms/step - loss: 5000514.5000 - acc: 0.8244 - val_loss: 11343799.0000 - val_acc: 0.8513\n",
      "Epoch 39/50\n",
      "1373/1373 [==============================] - 79s 57ms/step - loss: 4836692.0000 - acc: 0.8301 - val_loss: 10211399.0000 - val_acc: 0.8582\n",
      "Epoch 40/50\n",
      "1373/1373 [==============================] - 79s 58ms/step - loss: 5207136.0000 - acc: 0.8260 - val_loss: 11538643.0000 - val_acc: 0.8398\n",
      "Epoch 41/50\n",
      "1373/1373 [==============================] - 79s 57ms/step - loss: 5445649.5000 - acc: 0.8254 - val_loss: 11025370.0000 - val_acc: 0.8240\n",
      "Epoch 42/50\n",
      "1373/1373 [==============================] - 79s 58ms/step - loss: 5583825.0000 - acc: 0.8244 - val_loss: 11123011.0000 - val_acc: 0.8550\n",
      "Epoch 43/50\n",
      "1373/1373 [==============================] - 79s 57ms/step - loss: 5527234.0000 - acc: 0.8302 - val_loss: 11338928.0000 - val_acc: 0.8381\n",
      "Epoch 44/50\n",
      "1373/1373 [==============================] - 79s 58ms/step - loss: 5574426.5000 - acc: 0.8272 - val_loss: 10952611.0000 - val_acc: 0.8661\n",
      "Epoch 45/50\n",
      "1373/1373 [==============================] - 79s 58ms/step - loss: 5368920.0000 - acc: 0.8315 - val_loss: 13665187.0000 - val_acc: 0.8384\n",
      "Epoch 46/50\n",
      "1373/1373 [==============================] - 79s 58ms/step - loss: 5673206.0000 - acc: 0.8317 - val_loss: 13588040.0000 - val_acc: 0.8539\n",
      "Epoch 47/50\n",
      "1373/1373 [==============================] - 79s 58ms/step - loss: 6371573.0000 - acc: 0.8278 - val_loss: 13145505.0000 - val_acc: 0.8417\n",
      "Epoch 48/50\n",
      "1373/1373 [==============================] - 79s 58ms/step - loss: 6372815.5000 - acc: 0.8275 - val_loss: 11704194.0000 - val_acc: 0.8638\n",
      "Epoch 49/50\n",
      "1373/1373 [==============================] - 79s 58ms/step - loss: 6230469.5000 - acc: 0.8314 - val_loss: 12736446.0000 - val_acc: 0.8486\n",
      "Epoch 50/50\n",
      "1373/1373 [==============================] - 79s 58ms/step - loss: 6388077.0000 - acc: 0.8285 - val_loss: 14145510.0000 - val_acc: 0.8212\n"
     ]
    }
   ],
   "source": [
    "history = model.fit(\n",
    "    train_generator,\n",
    "    epochs=50,\n",
    "    validation_data=validation_generator,\n",
    "    )"
   ]
  },
  {
   "cell_type": "code",
   "execution_count": 39,
   "id": "figured-oracle",
   "metadata": {},
   "outputs": [
    {
     "name": "stdout",
     "output_type": "stream",
     "text": [
      "WARNING:tensorflow:FOR KERAS USERS: The object that you are saving contains one or more Keras models or layers. If you are loading the SavedModel with `tf.keras.models.load_model`, continue reading (otherwise, you may ignore the following instructions). Please change your code to save with `tf.keras.models.save_model` or `model.save`, and confirm that the file \"keras.metadata\" exists in the export directory. In the future, Keras will only load the SavedModels that have this file. In other words, `tf.saved_model.save` will no longer write SavedModels that can be recovered as Keras models (this will apply in TF 2.5).\n",
      "\n",
      "FOR DEVS: If you are overwriting _tracking_metadata in your class, this property has been used to save metadata in the SavedModel. The metadta field will be deprecated soon, so please move the metadata to a different file.\n",
      "INFO:tensorflow:Assets written to: model_all_data_4ConvLayers_grayscale_more_ropout_layers_down_100-150/assets\n"
     ]
    }
   ],
   "source": [
    "model.save('model_all_data_4ConvLayers_grayscale_more_ropout_layers_down_100-150')"
   ]
  },
  {
   "cell_type": "code",
   "execution_count": 40,
   "id": "eligible-output",
   "metadata": {},
   "outputs": [],
   "source": [
    "save_hist_to_excel('history_model_all_data_4ConvLayers_grayscale_more_ropout_layers_down_100-150')"
   ]
  },
  {
   "cell_type": "code",
   "execution_count": 41,
   "id": "integral-diana",
   "metadata": {},
   "outputs": [
    {
     "name": "stdout",
     "output_type": "stream",
     "text": [
      "Epoch 1/50\n",
      "1373/1373 [==============================] - 79s 57ms/step - loss: 6442334.5000 - acc: 0.8287 - val_loss: 13764877.0000 - val_acc: 0.8400\n",
      "Epoch 2/50\n",
      "1373/1373 [==============================] - 79s 57ms/step - loss: 6642301.0000 - acc: 0.8305 - val_loss: 14560368.0000 - val_acc: 0.8542\n",
      "Epoch 3/50\n",
      "1373/1373 [==============================] - 78s 57ms/step - loss: 6648624.0000 - acc: 0.8310 - val_loss: 14284245.0000 - val_acc: 0.8417\n",
      "Epoch 4/50\n",
      "1373/1373 [==============================] - 78s 57ms/step - loss: 6391051.5000 - acc: 0.8337 - val_loss: 16420757.0000 - val_acc: 0.8451\n",
      "Epoch 5/50\n",
      "1373/1373 [==============================] - 78s 57ms/step - loss: 6907255.5000 - acc: 0.8318 - val_loss: 16048913.0000 - val_acc: 0.8390\n",
      "Epoch 6/50\n",
      "1373/1373 [==============================] - 78s 57ms/step - loss: 7364450.0000 - acc: 0.8272 - val_loss: 16409385.0000 - val_acc: 0.8375\n",
      "Epoch 7/50\n",
      "1373/1373 [==============================] - 78s 57ms/step - loss: 7339818.5000 - acc: 0.8340 - val_loss: 17375350.0000 - val_acc: 0.8179\n",
      "Epoch 8/50\n",
      "1373/1373 [==============================] - 78s 57ms/step - loss: 7363280.0000 - acc: 0.8315 - val_loss: 17689320.0000 - val_acc: 0.8309\n",
      "Epoch 9/50\n",
      "1373/1373 [==============================] - 78s 57ms/step - loss: 7479548.0000 - acc: 0.8313 - val_loss: 19258758.0000 - val_acc: 0.8161\n",
      "Epoch 10/50\n",
      "1373/1373 [==============================] - 78s 57ms/step - loss: 7254142.0000 - acc: 0.8317 - val_loss: 17255886.0000 - val_acc: 0.8507\n",
      "Epoch 11/50\n",
      "1373/1373 [==============================] - 78s 57ms/step - loss: 7572022.5000 - acc: 0.8345 - val_loss: 17466874.0000 - val_acc: 0.8338\n",
      "Epoch 12/50\n",
      "1373/1373 [==============================] - 78s 57ms/step - loss: 8243477.0000 - acc: 0.8294 - val_loss: 17352580.0000 - val_acc: 0.8396\n",
      "Epoch 13/50\n",
      "1373/1373 [==============================] - 78s 57ms/step - loss: 8351253.5000 - acc: 0.8277 - val_loss: 17592368.0000 - val_acc: 0.8521\n",
      "Epoch 14/50\n",
      "1373/1373 [==============================] - 78s 57ms/step - loss: 8534517.0000 - acc: 0.8309 - val_loss: 17270888.0000 - val_acc: 0.8416\n",
      "Epoch 15/50\n",
      "1373/1373 [==============================] - 78s 57ms/step - loss: 9009152.0000 - acc: 0.8277 - val_loss: 16989966.0000 - val_acc: 0.8529\n",
      "Epoch 16/50\n",
      "1373/1373 [==============================] - 78s 57ms/step - loss: 8747079.0000 - acc: 0.8291 - val_loss: 21630776.0000 - val_acc: 0.8409\n",
      "Epoch 17/50\n",
      "1373/1373 [==============================] - 78s 57ms/step - loss: 8622890.0000 - acc: 0.8340 - val_loss: 20016664.0000 - val_acc: 0.8529\n",
      "Epoch 18/50\n",
      "1373/1373 [==============================] - 78s 57ms/step - loss: 9206611.0000 - acc: 0.8310 - val_loss: 21818784.0000 - val_acc: 0.8252\n",
      "Epoch 19/50\n",
      "1373/1373 [==============================] - 78s 57ms/step - loss: 9090414.0000 - acc: 0.8317 - val_loss: 19521102.0000 - val_acc: 0.8486\n",
      "Epoch 20/50\n",
      "1373/1373 [==============================] - 78s 57ms/step - loss: 9360204.0000 - acc: 0.8328 - val_loss: 21876468.0000 - val_acc: 0.8095\n",
      "Epoch 21/50\n",
      "1373/1373 [==============================] - 78s 57ms/step - loss: 9358315.0000 - acc: 0.8330 - val_loss: 20617954.0000 - val_acc: 0.8586\n",
      "Epoch 22/50\n",
      "1373/1373 [==============================] - 78s 57ms/step - loss: 9567599.0000 - acc: 0.8326 - val_loss: 22139758.0000 - val_acc: 0.8441\n",
      "Epoch 23/50\n",
      "1373/1373 [==============================] - 78s 57ms/step - loss: 9225168.0000 - acc: 0.8348 - val_loss: 20956304.0000 - val_acc: 0.8640\n",
      "Epoch 24/50\n",
      "1373/1373 [==============================] - 78s 57ms/step - loss: 9221211.0000 - acc: 0.8382 - val_loss: 21930500.0000 - val_acc: 0.8476\n",
      "Epoch 25/50\n",
      "1373/1373 [==============================] - 78s 57ms/step - loss: 9915485.0000 - acc: 0.8334 - val_loss: 21779096.0000 - val_acc: 0.8552\n",
      "Epoch 26/50\n",
      "1373/1373 [==============================] - 78s 57ms/step - loss: 9810934.0000 - acc: 0.8377 - val_loss: 23179958.0000 - val_acc: 0.8677\n",
      "Epoch 27/50\n",
      "1373/1373 [==============================] - 78s 57ms/step - loss: 9960630.0000 - acc: 0.8380 - val_loss: 21424840.0000 - val_acc: 0.8399\n",
      "Epoch 28/50\n",
      "1373/1373 [==============================] - 78s 57ms/step - loss: 10186603.0000 - acc: 0.8370 - val_loss: 24507370.0000 - val_acc: 0.8345\n",
      "Epoch 29/50\n",
      "1373/1373 [==============================] - 78s 57ms/step - loss: 10097244.0000 - acc: 0.8389 - val_loss: 25326406.0000 - val_acc: 0.8388\n",
      "Epoch 30/50\n",
      "1373/1373 [==============================] - 78s 57ms/step - loss: 10693321.0000 - acc: 0.8359 - val_loss: 25427818.0000 - val_acc: 0.8366\n",
      "Epoch 31/50\n",
      "1373/1373 [==============================] - 78s 57ms/step - loss: 10490275.0000 - acc: 0.8411 - val_loss: 25350212.0000 - val_acc: 0.8566\n",
      "Epoch 32/50\n",
      "1373/1373 [==============================] - 78s 57ms/step - loss: 10515920.0000 - acc: 0.8392 - val_loss: 24598848.0000 - val_acc: 0.8504\n",
      "Epoch 33/50\n",
      "1373/1373 [==============================] - 78s 57ms/step - loss: 10496929.0000 - acc: 0.8434 - val_loss: 27744972.0000 - val_acc: 0.8397\n",
      "Epoch 34/50\n",
      "1373/1373 [==============================] - 78s 57ms/step - loss: 11001493.0000 - acc: 0.8395 - val_loss: 25539642.0000 - val_acc: 0.8372\n",
      "Epoch 35/50\n",
      "1373/1373 [==============================] - 78s 57ms/step - loss: 11079104.0000 - acc: 0.8401 - val_loss: 25486492.0000 - val_acc: 0.8542\n",
      "Epoch 36/50\n",
      "1373/1373 [==============================] - 78s 57ms/step - loss: 12234694.0000 - acc: 0.8345 - val_loss: 24558378.0000 - val_acc: 0.8616\n",
      "Epoch 37/50\n",
      "1373/1373 [==============================] - 78s 57ms/step - loss: 11665173.0000 - acc: 0.8390 - val_loss: 26610692.0000 - val_acc: 0.8302\n",
      "Epoch 38/50\n",
      "1373/1373 [==============================] - 78s 57ms/step - loss: 12278012.0000 - acc: 0.8362 - val_loss: 23887084.0000 - val_acc: 0.8468\n",
      "Epoch 39/50\n",
      "1373/1373 [==============================] - 78s 57ms/step - loss: 11699754.0000 - acc: 0.8401 - val_loss: 26891112.0000 - val_acc: 0.8573\n",
      "Epoch 40/50\n",
      "1373/1373 [==============================] - 78s 57ms/step - loss: 12400685.0000 - acc: 0.8360 - val_loss: 30098274.0000 - val_acc: 0.8297\n",
      "Epoch 41/50\n",
      "1373/1373 [==============================] - 78s 57ms/step - loss: 12960598.0000 - acc: 0.8396 - val_loss: 29392564.0000 - val_acc: 0.8562\n",
      "Epoch 42/50\n",
      "1373/1373 [==============================] - 78s 57ms/step - loss: 12693741.0000 - acc: 0.8415 - val_loss: 30846138.0000 - val_acc: 0.8341\n",
      "Epoch 43/50\n",
      "1373/1373 [==============================] - 78s 57ms/step - loss: 12388738.0000 - acc: 0.8445 - val_loss: 31857878.0000 - val_acc: 0.8304\n",
      "Epoch 44/50\n",
      "1373/1373 [==============================] - 78s 57ms/step - loss: 13227814.0000 - acc: 0.8389 - val_loss: 30139006.0000 - val_acc: 0.8597\n",
      "Epoch 45/50\n",
      "1373/1373 [==============================] - 78s 57ms/step - loss: 13600661.0000 - acc: 0.8373 - val_loss: 30931874.0000 - val_acc: 0.8349\n",
      "Epoch 46/50\n",
      "1373/1373 [==============================] - 78s 57ms/step - loss: 14012565.0000 - acc: 0.8371 - val_loss: 32395486.0000 - val_acc: 0.8561\n",
      "Epoch 47/50\n",
      "1373/1373 [==============================] - 78s 57ms/step - loss: 13582434.0000 - acc: 0.8415 - val_loss: 33311878.0000 - val_acc: 0.8263\n",
      "Epoch 48/50\n",
      "1373/1373 [==============================] - 78s 57ms/step - loss: 13739981.0000 - acc: 0.8418 - val_loss: 33400492.0000 - val_acc: 0.8331\n",
      "Epoch 49/50\n",
      "1373/1373 [==============================] - 78s 57ms/step - loss: 14065015.0000 - acc: 0.8433 - val_loss: 35971684.0000 - val_acc: 0.8459\n",
      "Epoch 50/50\n",
      "1373/1373 [==============================] - 78s 57ms/step - loss: 14352484.0000 - acc: 0.8412 - val_loss: 34790064.0000 - val_acc: 0.8501\n"
     ]
    }
   ],
   "source": [
    "history = model.fit(\n",
    "    train_generator,\n",
    "    epochs=50,\n",
    "    validation_data=validation_generator,\n",
    "    )"
   ]
  },
  {
   "cell_type": "code",
   "execution_count": 42,
   "id": "expected-thanksgiving",
   "metadata": {},
   "outputs": [
    {
     "name": "stdout",
     "output_type": "stream",
     "text": [
      "WARNING:tensorflow:FOR KERAS USERS: The object that you are saving contains one or more Keras models or layers. If you are loading the SavedModel with `tf.keras.models.load_model`, continue reading (otherwise, you may ignore the following instructions). Please change your code to save with `tf.keras.models.save_model` or `model.save`, and confirm that the file \"keras.metadata\" exists in the export directory. In the future, Keras will only load the SavedModels that have this file. In other words, `tf.saved_model.save` will no longer write SavedModels that can be recovered as Keras models (this will apply in TF 2.5).\n",
      "\n",
      "FOR DEVS: If you are overwriting _tracking_metadata in your class, this property has been used to save metadata in the SavedModel. The metadta field will be deprecated soon, so please move the metadata to a different file.\n",
      "INFO:tensorflow:Assets written to: model_all_data_4ConvLayers_grayscale_more_ropout_layers_down_150-200/assets\n"
     ]
    }
   ],
   "source": [
    "model.save('model_all_data_4ConvLayers_grayscale_more_ropout_layers_down_150-200')"
   ]
  },
  {
   "cell_type": "code",
   "execution_count": 43,
   "id": "becoming-andrew",
   "metadata": {},
   "outputs": [],
   "source": [
    "save_hist_to_excel('history_model_all_data_4ConvLayers_grayscale_more_ropout_layers_down_150-200')"
   ]
  },
  {
   "cell_type": "code",
   "execution_count": null,
   "id": "lonely-radius",
   "metadata": {},
   "outputs": [],
   "source": []
  }
 ],
 "metadata": {
  "kernelspec": {
   "display_name": "Python 3",
   "language": "python",
   "name": "python3"
  },
  "language_info": {
   "codemirror_mode": {
    "name": "ipython",
    "version": 3
   },
   "file_extension": ".py",
   "mimetype": "text/x-python",
   "name": "python",
   "nbconvert_exporter": "python",
   "pygments_lexer": "ipython3",
   "version": "3.8.8"
  }
 },
 "nbformat": 4,
 "nbformat_minor": 5
}

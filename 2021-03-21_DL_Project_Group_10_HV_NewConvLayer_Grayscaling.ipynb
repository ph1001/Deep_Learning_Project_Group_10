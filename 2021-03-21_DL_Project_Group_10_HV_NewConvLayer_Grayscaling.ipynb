{
 "cells": [
  {
   "cell_type": "markdown",
   "id": "periodic-skirt",
   "metadata": {},
   "source": [
    "# Deep Learning Project - Traffic Signs Image Classification"
   ]
  },
  {
   "cell_type": "code",
   "execution_count": 109,
   "id": "announced-interstate",
   "metadata": {},
   "outputs": [],
   "source": [
    "import os, shutil\n",
    "import pandas as pd\n",
    "import seaborn as sns\n",
    "import matplotlib.pyplot as plt"
   ]
  },
  {
   "cell_type": "code",
   "execution_count": 110,
   "id": "lyric-screening",
   "metadata": {},
   "outputs": [],
   "source": [
    "def save_hist_to_excel(filename):\n",
    "    df = pd.DataFrame(history.history)\n",
    "    df.to_excel(filename + '.xlsx')"
   ]
  },
  {
   "cell_type": "markdown",
   "id": "radical-winter",
   "metadata": {},
   "source": [
    "## Overview of the training data"
   ]
  },
  {
   "cell_type": "code",
   "execution_count": 111,
   "id": "dated-alert",
   "metadata": {},
   "outputs": [
    {
     "name": "stdout",
     "output_type": "stream",
     "text": [
      "There are 43 different classes within the training data!\n"
     ]
    }
   ],
   "source": [
    "#setting the training directory (the training images can be found there, already sorted by class into folders)\n",
    "base_training_dir = \"/Users/henriquevaz/NOVA IMS/YEAR 1/SPRING SEMESTER/DL/Project/my_notebooks/Data/Training/Final_Training/Images/\"\n",
    "#base_training_dir = \"/Users/philippmetzger/Documents/GitHub/Deep_Learning_Project_Group_10/Data/GTSRB_Final_Training_Images/GTSRB/Final_Training/Images/\"\n",
    "\n",
    "#setting the directory where the selected training and validation images will be stored in\n",
    "created_dir = \"/Users/henriquevaz/NOVA IMS/YEAR 1/SPRING SEMESTER/DL/Project/my_notebooks/Data/Selected\"\n",
    "#created_dir = \"/Users/philippmetzger/Documents/GitHub/Deep_Learning_Project_Group_10/Data/Selected\"\n",
    "\n",
    "#storing all the folder names that belong to the respective classes\n",
    "all_classes = sorted(i for i in os.listdir(base_training_dir) if i.startswith(\"0\"))\n",
    "\n",
    "print(\"There are\", len(all_classes), \"different classes within the training data!\")"
   ]
  },
  {
   "cell_type": "code",
   "execution_count": 112,
   "id": "departmental-torture",
   "metadata": {},
   "outputs": [],
   "source": [
    "#getting the number of images within each class of the training data\n",
    "amount_per_class = {}\n",
    "\n",
    "for i in range(len(all_classes)):\n",
    "    directory = base_training_dir + \"/\" + all_classes[i]\n",
    "    amount_per_class[i] = len(sorted(i for i in os.listdir(directory) if i.startswith(\"0\")))\n",
    "\n",
    "amount_per_class_df = pd.DataFrame.from_dict(amount_per_class, orient='index').rename(columns={0:\"amount\"})\n",
    "amount_per_class_df.index.name = 'class'\n",
    "\n",
    "#remove the \"#\" of the following line to display the number of images within each class\n",
    "#amount_per_class_df"
   ]
  },
  {
   "cell_type": "code",
   "execution_count": 113,
   "id": "saved-advantage",
   "metadata": {},
   "outputs": [
    {
     "data": {
      "image/png": "[encoded data removed]",
      "text/plain": [
       "<Figure size 1440x576 with 1 Axes>"
      ]
     },
     "metadata": {
      "needs_background": "light"
     },
     "output_type": "display_data"
    }
   ],
   "source": [
    "#displaying the number of images per class visually\n",
    "\n",
    "plt.rcParams[\"figure.figsize\"] = (20,8)\n",
    "fig, ax = plt.subplots()\n",
    "plt.bar(amount_per_class_df.index, amount_per_class_df.amount)\n",
    "plt.title(\"Number of images per class\", fontsize=20)\n",
    "plt.xlabel('class', fontsize=18)\n",
    "plt.ylabel('number of images', fontsize=18)\n",
    "ax.spines['right'].set_visible(False)\n",
    "ax.spines['top'].set_visible(False)\n",
    "plt.xticks(amount_per_class_df.index)\n",
    "plt.grid(axis=\"y\")\n",
    "plt.show()"
   ]
  },
  {
   "cell_type": "markdown",
   "id": "later-school",
   "metadata": {},
   "source": [
    "As it can be seen in the bar chart, the dataset is highly unbalanced. Some classes have over 2000 instances, while others only have 210."
   ]
  },
  {
   "cell_type": "code",
   "execution_count": 114,
   "id": "noted-coordinator",
   "metadata": {},
   "outputs": [
    {
     "data": {
      "text/html": [
       "<div>\n",
       "<style scoped>\n",
       "    .dataframe tbody tr th:only-of-type {\n",
       "        vertical-align: middle;\n",
       "    }\n",
       "\n",
       "    .dataframe tbody tr th {\n",
       "        vertical-align: top;\n",
       "    }\n",
       "\n",
       "    .dataframe thead th {\n",
       "        text-align: right;\n",
       "    }\n",
       "</style>\n",
       "<table border=\"1\" class=\"dataframe\">\n",
       "  <thead>\n",
       "    <tr style=\"text-align: right;\">\n",
       "      <th>class</th>\n",
       "      <th>0</th>\n",
       "      <th>37</th>\n",
       "      <th>19</th>\n",
       "      <th>32</th>\n",
       "      <th>27</th>\n",
       "      <th>41</th>\n",
       "      <th>42</th>\n",
       "      <th>24</th>\n",
       "      <th>29</th>\n",
       "      <th>39</th>\n",
       "      <th>21</th>\n",
       "      <th>40</th>\n",
       "      <th>20</th>\n",
       "      <th>36</th>\n",
       "      <th>22</th>\n",
       "      <th>6</th>\n",
       "      <th>16</th>\n",
       "      <th>34</th>\n",
       "      <th>30</th>\n",
       "      <th>23</th>\n",
       "    </tr>\n",
       "  </thead>\n",
       "  <tbody>\n",
       "    <tr>\n",
       "      <th>amount</th>\n",
       "      <td>210</td>\n",
       "      <td>210</td>\n",
       "      <td>210</td>\n",
       "      <td>240</td>\n",
       "      <td>240</td>\n",
       "      <td>240</td>\n",
       "      <td>240</td>\n",
       "      <td>270</td>\n",
       "      <td>270</td>\n",
       "      <td>300</td>\n",
       "      <td>330</td>\n",
       "      <td>360</td>\n",
       "      <td>360</td>\n",
       "      <td>390</td>\n",
       "      <td>390</td>\n",
       "      <td>420</td>\n",
       "      <td>420</td>\n",
       "      <td>420</td>\n",
       "      <td>450</td>\n",
       "      <td>510</td>\n",
       "    </tr>\n",
       "  </tbody>\n",
       "</table>\n",
       "</div>"
      ],
      "text/plain": [
       "class    0    37   19   32   27   41   42   24   29   39   21   40   20   36  \\\n",
       "amount  210  210  210  240  240  240  240  270  270  300  330  360  360  390   \n",
       "\n",
       "class    22   6    16   34   30   23  \n",
       "amount  390  420  420  420  450  510  "
      ]
     },
     "execution_count": 114,
     "metadata": {},
     "output_type": "execute_result"
    }
   ],
   "source": [
    "#displaying the 20 classes with the fewest images\n",
    "amount_per_class_df.sort_values(\"amount\").head(20).T"
   ]
  },
  {
   "cell_type": "markdown",
   "id": "frank-advantage",
   "metadata": {},
   "source": [
    "Within each class, there are several groups of images, that belong together (these are basically all images of the very same traffic sign, that just differ in that they were made as a series while approaching the actual sign). These series of images shouldn't be splitted later when the data is split into training and validation sets, so some precautions might be useful:"
   ]
  },
  {
   "cell_type": "code",
   "execution_count": 115,
   "id": "effective-bicycle",
   "metadata": {},
   "outputs": [
    {
     "name": "stdout",
     "output_type": "stream",
     "text": [
      "There is a series whose number doesn't match the others in class 00033 , with the prefix 00019 !\n",
      "It only contains 29 images.\n",
      "All the other series of images contain exactly 30 images!\n"
     ]
    }
   ],
   "source": [
    "#checking the size(=amount of images) of these series and whether they are all having the same size\n",
    "\n",
    "#running a for loop over all classes\n",
    "for i in range(len(all_classes)):\n",
    "    directory = base_training_dir + \"/\" + all_classes[i]\n",
    "    \n",
    "    #get the names of all images within a class\n",
    "    list_of_images = sorted(i for i in os.listdir(directory) if i.startswith(\"0\"))\n",
    "\n",
    "    image_series = []\n",
    "    \n",
    "    #store all the prefixes of the images (which correspond to the series they belong to)\n",
    "    for element in list_of_images:\n",
    "        image_series.append(element.split(\"_\")[0])\n",
    "    \n",
    "    #count the frequency of each prefix, which equals the size of each respective series\n",
    "    image_counts = pd.Series(image_series).value_counts().sort_index()\n",
    "\n",
    "    for element in image_counts.values.tolist():\n",
    "        if element != image_counts.values.tolist()[0]:\n",
    "            #this line will show if there is a series that contains not the same number of images than the others\n",
    "            print(\"There is a series whose number doesn't match the others in class\", all_classes[i], \", with the prefix\", image_counts.sort_values().index[0], \"!\\nIt only contains\", element, \"images.\")\n",
    "            \n",
    "\n",
    "#apart from only one series, all others consist of exactly 30 images\n",
    "print(\"All the other series of images contain exactly\", image_counts.values.tolist()[0], \"images!\")"
   ]
  },
  {
   "cell_type": "markdown",
   "id": "insured-spencer",
   "metadata": {},
   "source": [
    "## Split into training and validation datasets"
   ]
  },
  {
   "cell_type": "markdown",
   "id": "flexible-sympathy",
   "metadata": {},
   "source": [
    "As already mentioned, it is important for the split into training and validation sets that the individual image series stay together. As a first approach, there will be 210 images used per class, as this number corresponds to the amount of images in the \"smallest\" class. This will fix the problem of imbalance in the dataset. Subsequently, the data will be splitted by a 5:2 (150:60) ratio into training and validation set, in order to guarantee that the series will stay together."
   ]
  },
  {
   "cell_type": "code",
   "execution_count": 116,
   "id": "reported-break",
   "metadata": {},
   "outputs": [],
   "source": [
    "new_train_dir = \"/Users/henriquevaz/NOVA IMS/YEAR 1/SPRING SEMESTER/DL/Project/my_notebooks/Data/Selected/train_all\"\n",
    "new_val_dir = \"/Users/henriquevaz/NOVA IMS/YEAR 1/SPRING SEMESTER/DL/Project/my_notebooks/Data/Selected/val_all\""
   ]
  },
  {
   "cell_type": "code",
   "execution_count": 61,
   "id": "norman-broad",
   "metadata": {},
   "outputs": [],
   "source": [
    "for i in range(len(all_classes)):\n",
    "    os.mkdir(new_train_dir + \"/\" + all_classes[i])\n",
    "    os.mkdir(new_val_dir + \"/\" + all_classes[i])"
   ]
  },
  {
   "cell_type": "code",
   "execution_count": 62,
   "id": "superior-earthquake",
   "metadata": {},
   "outputs": [],
   "source": [
    "import random\n",
    "\n",
    "for i in range(len(all_classes)):\n",
    "    \n",
    "    list_ = os.listdir(base_training_dir + \"/\" + all_classes[i])\n",
    "    random.shuffle(list_)\n",
    "    new_list = []\n",
    "    for element in list_:\n",
    "        if element.startswith(\"000\"):\n",
    "            new_list.append(element)\n",
    "    \n",
    "    new_list = sorted(new_list)\n",
    "    for image in range(len(new_list)):\n",
    "        \n",
    "        \n",
    "        #setting the cut off according to the next closest number in steps of 30 according to a 70:30 ratio\n",
    "        if len(new_list) == 210 or len(new_list) == 240:\n",
    "            cut = 60\n",
    "        elif len(new_list) == 270 or len(new_list) == 300 or len(new_list) == 330:\n",
    "            cut = 90\n",
    "        elif len(new_list) == 360 or len(new_list) == 390 or len(new_list) == 420:\n",
    "            cut = 120\n",
    "        elif len(new_list) == 450 or len(new_list) == 510 or len(new_list) == 540:\n",
    "            cut = 150\n",
    "        elif len(new_list) == 600 or len(new_list) == 630:\n",
    "            cut = 180\n",
    "        elif len(new_list) == 689:\n",
    "            cut = 210 - 1\n",
    "        elif len(new_list) == 780:\n",
    "            cut = 240\n",
    "        elif len(new_list) == 1110:\n",
    "            cut = 330\n",
    "        elif len(new_list) == 1200:\n",
    "            cut = 360\n",
    "        elif len(new_list) == 1320:\n",
    "            cut = 390\n",
    "        elif len(new_list) == 1410 or len(new_list) == 1440:\n",
    "            cut = 420\n",
    "        elif len(new_list) == 1470 or len(new_list) == 1500:\n",
    "            cut = 450\n",
    "        elif len(new_list) == 1860:\n",
    "            cut = 570\n",
    "        elif len(new_list) == 1980 or len(new_list) == 2010:\n",
    "            cut = 600\n",
    "        elif len(new_list) == 2070 or len(new_list) == 2100:\n",
    "            cut = 630\n",
    "        elif len(new_list) == 2160 or len(new_list) == 2220:\n",
    "            cut = 660\n",
    "        elif len(new_list) == 2250:\n",
    "            cut = 690\n",
    "         \n",
    "        \n",
    "        if image < len(new_list) - cut:\n",
    "            \n",
    "            src = base_training_dir + \"/\" + all_classes[i] + \"/\" + new_list[image]\n",
    "            dst = new_train_dir + \"/\" + all_classes[i] + \"/\"  + new_list[image]\n",
    "            shutil.copyfile(src, dst)\n",
    "            \n",
    "        else:\n",
    "            src = base_training_dir + \"/\" + all_classes[i] + \"/\" + new_list[image]\n",
    "            dst = new_val_dir + \"/\" + all_classes[i] + \"/\"  + new_list[image]\n",
    "            shutil.copyfile(src, dst)"
   ]
  },
  {
   "cell_type": "code",
   "execution_count": 117,
   "id": "precious-society",
   "metadata": {},
   "outputs": [
    {
     "name": "stdout",
     "output_type": "stream",
     "text": [
      "Class 0 : training set size = 150 ; validation set size: 60\n",
      "Class 1 : training set size = 1560 ; validation set size: 660\n",
      "Class 2 : training set size = 1560 ; validation set size: 690\n",
      "Class 3 : training set size = 990 ; validation set size: 420\n",
      "Class 4 : training set size = 1380 ; validation set size: 600\n",
      "Class 5 : training set size = 1290 ; validation set size: 570\n",
      "Class 6 : training set size = 300 ; validation set size: 120\n",
      "Class 7 : training set size = 1020 ; validation set size: 420\n",
      "Class 8 : training set size = 990 ; validation set size: 420\n",
      "Class 9 : training set size = 1020 ; validation set size: 450\n",
      "Class 10 : training set size = 1410 ; validation set size: 600\n",
      "Class 11 : training set size = 930 ; validation set size: 390\n",
      "Class 12 : training set size = 1470 ; validation set size: 630\n",
      "Class 13 : training set size = 1500 ; validation set size: 660\n",
      "Class 14 : training set size = 540 ; validation set size: 240\n",
      "Class 15 : training set size = 450 ; validation set size: 180\n",
      "Class 16 : training set size = 300 ; validation set size: 120\n",
      "Class 17 : training set size = 780 ; validation set size: 330\n",
      "Class 18 : training set size = 840 ; validation set size: 360\n",
      "Class 19 : training set size = 150 ; validation set size: 60\n",
      "Class 20 : training set size = 240 ; validation set size: 120\n",
      "Class 21 : training set size = 240 ; validation set size: 90\n",
      "Class 22 : training set size = 270 ; validation set size: 120\n",
      "Class 23 : training set size = 360 ; validation set size: 150\n",
      "Class 24 : training set size = 180 ; validation set size: 90\n",
      "Class 25 : training set size = 1050 ; validation set size: 450\n",
      "Class 26 : training set size = 420 ; validation set size: 180\n",
      "Class 27 : training set size = 180 ; validation set size: 60\n",
      "Class 28 : training set size = 390 ; validation set size: 150\n",
      "Class 29 : training set size = 180 ; validation set size: 90\n",
      "Class 30 : training set size = 300 ; validation set size: 150\n",
      "Class 31 : training set size = 540 ; validation set size: 240\n",
      "Class 32 : training set size = 180 ; validation set size: 60\n",
      "Class 33 : training set size = 480 ; validation set size: 209\n",
      "Class 34 : training set size = 300 ; validation set size: 120\n",
      "Class 35 : training set size = 840 ; validation set size: 360\n",
      "Class 36 : training set size = 270 ; validation set size: 120\n",
      "Class 37 : training set size = 150 ; validation set size: 60\n",
      "Class 38 : training set size = 1440 ; validation set size: 630\n",
      "Class 39 : training set size = 210 ; validation set size: 90\n",
      "Class 40 : training set size = 240 ; validation set size: 120\n",
      "Class 41 : training set size = 180 ; validation set size: 60\n",
      "Class 42 : training set size = 180 ; validation set size: 60\n"
     ]
    }
   ],
   "source": [
    "size_per_class_list = []\n",
    "\n",
    "for i in range(len(all_classes)):\n",
    "    size_per_class_list.append([len(os.listdir(new_train_dir + \"/\" + all_classes[i])), len(os.listdir(new_val_dir + \"/\" + all_classes[i]))])\n",
    "    print(\"Class\", i, \": training set size =\", len(os.listdir(new_train_dir + \"/\" + all_classes[i])), \"; validation set size:\", len(os.listdir(new_val_dir + \"/\" + all_classes[i])))"
   ]
  },
  {
   "cell_type": "markdown",
   "id": "permanent-speed",
   "metadata": {},
   "source": [
    "Now, there should be exactly 150 images within the train folder of each class and 60 images within the validation folder. Having 43 different classes, this means that there are a total of 6,450 (150x43) training images and another 2,580 (60x43) validation images. A sanity check will show if this worked correctly:"
   ]
  },
  {
   "cell_type": "markdown",
   "id": "based-jamaica",
   "metadata": {},
   "source": [
    "As it can be seen, it worked correctly!"
   ]
  },
  {
   "cell_type": "markdown",
   "id": "floating-supplier",
   "metadata": {},
   "source": [
    "## Data Preprocessing"
   ]
  },
  {
   "cell_type": "markdown",
   "id": "aerial-speed",
   "metadata": {},
   "source": [
    "After running the upper part once, the notebook can be started from here from now on:"
   ]
  },
  {
   "cell_type": "code",
   "execution_count": 118,
   "id": "ready-dialogue",
   "metadata": {
    "scrolled": true
   },
   "outputs": [],
   "source": [
    "#this cell is optional and the notebook should be runned from here once the upper part has been executed once\n",
    "\n",
    "import os, shutil\n",
    "import pandas as pd\n",
    "import seaborn as sns\n",
    "import matplotlib.pyplot as plt\n",
    "import tensorflow as tf"
   ]
  },
  {
   "cell_type": "code",
   "execution_count": 143,
   "id": "foster-vampire",
   "metadata": {},
   "outputs": [],
   "source": [
    "train_dir = new_train_dir\n",
    "validation_dir = new_val_dir"
   ]
  },
  {
   "cell_type": "code",
   "execution_count": 130,
   "id": "increasing-creature",
   "metadata": {},
   "outputs": [
    {
     "name": "stdout",
     "output_type": "stream",
     "text": [
      "Found 27450 images belonging to 43 classes.\n",
      "Found 11759 images belonging to 43 classes.\n"
     ]
    }
   ],
   "source": [
    "from tensorflow.keras.preprocessing.image import ImageDataGenerator\n",
    "\n",
    "train_datagen = ImageDataGenerator(rescale=1./255)\n",
    "test_datagen = ImageDataGenerator(rescale=1./255)\n",
    "\n",
    "train_generator = train_datagen.flow_from_directory(\n",
    "    train_dir,\n",
    "    target_size=(100,100),\n",
    "    batch_size=20,\n",
    "    class_mode=\"categorical\",\n",
    "    color_mode=\"grayscale\"\n",
    "    )\n",
    "\n",
    "validation_generator = test_datagen.flow_from_directory(\n",
    "    validation_dir,\n",
    "    target_size=(100,100),\n",
    "    batch_size=20,\n",
    "    class_mode=\"categorical\",\n",
    "    color_mode=\"grayscale\"\n",
    "    )"
   ]
  },
  {
   "cell_type": "code",
   "execution_count": 131,
   "id": "second-taste",
   "metadata": {},
   "outputs": [
    {
     "name": "stdout",
     "output_type": "stream",
     "text": [
      "data batch shape: (20, 100, 100, 1)\n",
      "labels batch shape: (20, 43)\n"
     ]
    }
   ],
   "source": [
    "import sys\n",
    "from PIL import Image\n",
    "sys.modules['Image'] = Image\n",
    "\n",
    "for data_batch, labels_batch in train_generator:\n",
    "    print('data batch shape:', data_batch.shape)\n",
    "    print('labels batch shape:', labels_batch.shape)\n",
    "    break"
   ]
  },
  {
   "cell_type": "markdown",
   "id": "expected-closer",
   "metadata": {},
   "source": [
    "## Draft of the model"
   ]
  },
  {
   "cell_type": "markdown",
   "id": "raising-revelation",
   "metadata": {},
   "source": [
    "### Base model"
   ]
  },
  {
   "cell_type": "code",
   "execution_count": 132,
   "id": "sunset-efficiency",
   "metadata": {},
   "outputs": [],
   "source": [
    "train_dir = os.path.join(created_dir, \"training\")\n",
    "# os.mkdir(train_dir)\n",
    "validation_dir = os.path.join(created_dir, \"validation\")\n",
    "# os.mkdir(validation_dir)"
   ]
  },
  {
   "cell_type": "code",
   "execution_count": 133,
   "id": "light-pepper",
   "metadata": {},
   "outputs": [],
   "source": [
    "from tensorflow.keras import layers\n",
    "from tensorflow.keras import models\n",
    "\n",
    "model = models.Sequential()\n",
    "model.add(layers.Conv2D(32, (2, 2), activation='relu', input_shape=(100, 100, 1)))\n",
    "model.add(layers.MaxPooling2D((2, 2)))\n",
    "model.add(layers.Conv2D(64, (3, 3), activation='relu'))\n",
    "model.add(layers.MaxPooling2D((2, 2) ))\n",
    "model.add(layers.Conv2D(128, (4, 4), activation='relu'))\n",
    "model.add(layers.MaxPooling2D((2, 2) ))\n",
    "model.add(layers.Flatten())\n",
    "model.add(layers.Dropout(0.5))\n",
    "model.add(layers.Dense(512, activation='relu'))\n",
    "model.add(layers.Dense (43, activation='softmax'))"
   ]
  },
  {
   "cell_type": "code",
   "execution_count": 134,
   "id": "needed-internet",
   "metadata": {},
   "outputs": [
    {
     "name": "stdout",
     "output_type": "stream",
     "text": [
      "Model: \"sequential_7\"\n",
      "_________________________________________________________________\n",
      "Layer (type)                 Output Shape              Param #   \n",
      "=================================================================\n",
      "conv2d_21 (Conv2D)           (None, 99, 99, 32)        160       \n",
      "_________________________________________________________________\n",
      "max_pooling2d_21 (MaxPooling (None, 49, 49, 32)        0         \n",
      "_________________________________________________________________\n",
      "conv2d_22 (Conv2D)           (None, 47, 47, 64)        18496     \n",
      "_________________________________________________________________\n",
      "max_pooling2d_22 (MaxPooling (None, 23, 23, 64)        0         \n",
      "_________________________________________________________________\n",
      "conv2d_23 (Conv2D)           (None, 20, 20, 128)       131200    \n",
      "_________________________________________________________________\n",
      "max_pooling2d_23 (MaxPooling (None, 10, 10, 128)       0         \n",
      "_________________________________________________________________\n",
      "flatten_7 (Flatten)          (None, 12800)             0         \n",
      "_________________________________________________________________\n",
      "dropout_7 (Dropout)          (None, 12800)             0         \n",
      "_________________________________________________________________\n",
      "dense_14 (Dense)             (None, 512)               6554112   \n",
      "_________________________________________________________________\n",
      "dense_15 (Dense)             (None, 43)                22059     \n",
      "=================================================================\n",
      "Total params: 6,726,027\n",
      "Trainable params: 6,726,027\n",
      "Non-trainable params: 0\n",
      "_________________________________________________________________\n"
     ]
    }
   ],
   "source": [
    "model.summary()"
   ]
  },
  {
   "cell_type": "code",
   "execution_count": 135,
   "id": "hairy-juice",
   "metadata": {},
   "outputs": [],
   "source": [
    "from tensorflow.keras import optimizers\n",
    "\n",
    "#compilation\n",
    "model.compile(loss=\"categorical_crossentropy\", optimizer=optimizers.RMSprop(lr=1e-4), metrics=[\"acc\"])"
   ]
  },
  {
   "cell_type": "code",
   "execution_count": 136,
   "id": "frozen-porcelain",
   "metadata": {
    "scrolled": true
   },
   "outputs": [
    {
     "name": "stdout",
     "output_type": "stream",
     "text": [
      "Epoch 1/30\n",
      "1373/1373 [==============================] - 87s 64ms/step - loss: 2.3274 - acc: 0.4057 - val_loss: 1.0214 - val_acc: 0.7689\n",
      "Epoch 2/30\n",
      "1373/1373 [==============================] - 88s 64ms/step - loss: 0.3885 - acc: 0.9001 - val_loss: 0.6719 - val_acc: 0.8702\n",
      "Epoch 3/30\n",
      "1373/1373 [==============================] - 88s 64ms/step - loss: 0.2379 - acc: 0.9410 - val_loss: 0.6888 - val_acc: 0.8789\n",
      "Epoch 4/30\n",
      "1373/1373 [==============================] - 89s 64ms/step - loss: 0.1823 - acc: 0.9593 - val_loss: 0.8525 - val_acc: 0.8877\n",
      "Epoch 5/30\n",
      "1373/1373 [==============================] - 88s 64ms/step - loss: 0.1680 - acc: 0.9667 - val_loss: 0.8902 - val_acc: 0.8951\n",
      "Epoch 6/30\n",
      "1373/1373 [==============================] - 89s 65ms/step - loss: 0.1390 - acc: 0.9734 - val_loss: 0.9183 - val_acc: 0.9045\n",
      "Epoch 7/30\n",
      "1373/1373 [==============================] - 88s 64ms/step - loss: 0.1415 - acc: 0.9748 - val_loss: 1.0955 - val_acc: 0.9047\n",
      "Epoch 8/30\n",
      "1373/1373 [==============================] - 88s 64ms/step - loss: 0.1335 - acc: 0.9797 - val_loss: 1.5064 - val_acc: 0.9007\n",
      "Epoch 9/30\n",
      "1373/1373 [==============================] - 88s 64ms/step - loss: 0.1446 - acc: 0.9798 - val_loss: 1.5198 - val_acc: 0.9045\n",
      "Epoch 10/30\n",
      "1373/1373 [==============================] - 88s 64ms/step - loss: 0.1585 - acc: 0.9808 - val_loss: 1.9722 - val_acc: 0.8999\n",
      "Epoch 11/30\n",
      "1373/1373 [==============================] - 88s 64ms/step - loss: 0.1892 - acc: 0.9800 - val_loss: 1.8925 - val_acc: 0.9097\n",
      "Epoch 12/30\n",
      "1373/1373 [==============================] - 88s 64ms/step - loss: 0.1801 - acc: 0.9825 - val_loss: 2.0639 - val_acc: 0.9117\n",
      "Epoch 13/30\n",
      "1373/1373 [==============================] - 88s 64ms/step - loss: 0.1939 - acc: 0.9831 - val_loss: 2.3629 - val_acc: 0.9170\n",
      "Epoch 14/30\n",
      "1373/1373 [==============================] - 89s 65ms/step - loss: 0.1665 - acc: 0.9848 - val_loss: 3.2973 - val_acc: 0.8936\n",
      "Epoch 15/30\n",
      "1373/1373 [==============================] - 88s 64ms/step - loss: 0.1994 - acc: 0.9839 - val_loss: 3.0999 - val_acc: 0.9031\n",
      "Epoch 16/30\n",
      "1373/1373 [==============================] - 88s 64ms/step - loss: 0.2011 - acc: 0.9857 - val_loss: 3.5372 - val_acc: 0.9037\n",
      "Epoch 17/30\n",
      "1373/1373 [==============================] - 88s 64ms/step - loss: 0.1974 - acc: 0.9866 - val_loss: 3.2734 - val_acc: 0.9183\n",
      "Epoch 18/30\n",
      "1373/1373 [==============================] - 88s 64ms/step - loss: 0.2432 - acc: 0.9864 - val_loss: 4.6332 - val_acc: 0.9065\n",
      "Epoch 19/30\n",
      "1373/1373 [==============================] - 88s 64ms/step - loss: 0.1885 - acc: 0.9882 - val_loss: 4.8375 - val_acc: 0.9083\n",
      "Epoch 20/30\n",
      "1373/1373 [==============================] - 88s 64ms/step - loss: 0.2625 - acc: 0.9868 - val_loss: 5.8170 - val_acc: 0.9031\n",
      "Epoch 21/30\n",
      "1373/1373 [==============================] - 89s 64ms/step - loss: 0.2791 - acc: 0.9873 - val_loss: 5.2080 - val_acc: 0.9208\n",
      "Epoch 22/30\n",
      "1373/1373 [==============================] - 88s 64ms/step - loss: 0.2509 - acc: 0.9891 - val_loss: 6.0194 - val_acc: 0.9169\n",
      "Epoch 23/30\n",
      "1373/1373 [==============================] - 89s 65ms/step - loss: 0.2733 - acc: 0.9893 - val_loss: 6.8099 - val_acc: 0.9048\n",
      "Epoch 24/30\n",
      "1373/1373 [==============================] - 88s 64ms/step - loss: 0.3258 - acc: 0.9877 - val_loss: 7.4281 - val_acc: 0.9070\n",
      "Epoch 25/30\n",
      "1373/1373 [==============================] - 89s 64ms/step - loss: 0.3447 - acc: 0.9893 - val_loss: 8.5547 - val_acc: 0.9113\n",
      "Epoch 26/30\n",
      "1373/1373 [==============================] - 89s 65ms/step - loss: 0.3096 - acc: 0.9902 - val_loss: 8.6620 - val_acc: 0.9179\n",
      "Epoch 27/30\n",
      "1373/1373 [==============================] - 89s 65ms/step - loss: 0.3935 - acc: 0.9880 - val_loss: 9.3590 - val_acc: 0.9192\n",
      "Epoch 28/30\n",
      "1373/1373 [==============================] - 89s 65ms/step - loss: 0.4123 - acc: 0.9883 - val_loss: 9.9166 - val_acc: 0.9128\n",
      "Epoch 29/30\n",
      "1373/1373 [==============================] - 88s 64ms/step - loss: 0.4380 - acc: 0.9889 - val_loss: 11.1372 - val_acc: 0.9086\n",
      "Epoch 30/30\n",
      "1373/1373 [==============================] - 89s 65ms/step - loss: 0.3649 - acc: 0.9900 - val_loss: 10.8485 - val_acc: 0.9118\n"
     ]
    }
   ],
   "source": [
    "history = model.fit(\n",
    "    train_generator,\n",
    "    epochs=30,\n",
    "    validation_data=validation_generator,\n",
    "    )"
   ]
  },
  {
   "cell_type": "code",
   "execution_count": 138,
   "id": "brave-participation",
   "metadata": {
    "scrolled": true
   },
   "outputs": [
    {
     "name": "stderr",
     "output_type": "stream",
     "text": [
      "/Users/henriquevaz/miniforge3/envs/dplearn/lib/python3.8/site-packages/tensorflow/python/keras/engine/training.py:2325: UserWarning: `Model.state_updates` will be removed in a future version. This property should not be used in TensorFlow 2.0, as `updates` are applied automatically.\n",
      "  warnings.warn('`Model.state_updates` will be removed in a future version. '\n",
      "/Users/henriquevaz/miniforge3/envs/dplearn/lib/python3.8/site-packages/tensorflow/python/keras/engine/base_layer.py:1397: UserWarning: `layer.updates` will be removed in a future version. This property should not be used in TensorFlow 2.0, as `updates` are applied automatically.\n",
      "  warnings.warn('`layer.updates` will be removed in a future version. '\n"
     ]
    },
    {
     "name": "stdout",
     "output_type": "stream",
     "text": [
      "WARNING:tensorflow:FOR KERAS USERS: The object that you are saving contains one or more Keras models or layers. If you are loading the SavedModel with `tf.keras.models.load_model`, continue reading (otherwise, you may ignore the following instructions). Please change your code to save with `tf.keras.models.save_model` or `model.save`, and confirm that the file \"keras.metadata\" exists in the export directory. In the future, Keras will only load the SavedModels that have this file. In other words, `tf.saved_model.save` will no longer write SavedModels that can be recovered as Keras models (this will apply in TF 2.5).\n",
      "\n",
      "FOR DEVS: If you are overwriting _tracking_metadata in your class, this property has been used to save metadata in the SavedModel. The metadta field will be deprecated soon, so please move the metadata to a different file.\n",
      "INFO:tensorflow:Assets written to: model_all_data_dropout_0_5_new_convlayer_grayscale/assets\n"
     ]
    }
   ],
   "source": [
    "model.save('model_all_data_dropout_0_5_new_convlayer_grayscale')"
   ]
  },
  {
   "cell_type": "code",
   "execution_count": 140,
   "id": "unauthorized-iceland",
   "metadata": {},
   "outputs": [],
   "source": [
    "save_hist_to_excel('history_model_all_data_dropout_0_5_new_convlayer_grayscale')"
   ]
  },
  {
   "cell_type": "code",
   "execution_count": 141,
   "id": "sophisticated-romania",
   "metadata": {},
   "outputs": [
    {
     "data": {
      "image/png": "[encoded data removed]",
      "text/plain": [
       "<Figure size 1440x576 with 1 Axes>"
      ]
     },
     "metadata": {
      "needs_background": "light"
     },
     "output_type": "display_data"
    },
    {
     "data": {
      "image/png": "[encoded data removed]",
      "text/plain": [
       "<Figure size 1440x576 with 1 Axes>"
      ]
     },
     "metadata": {
      "needs_background": "light"
     },
     "output_type": "display_data"
    }
   ],
   "source": [
    "#Displaying curves of loss and accuracy during training\n",
    "\n",
    "import matplotlib.pyplot as plt\n",
    "\n",
    "acc = history.history[\"acc\"]\n",
    "val_acc = history.history[\"val_acc\"]\n",
    "loss = history.history[\"loss\"]\n",
    "val_loss = history.history[\"val_loss\"]\n",
    "\n",
    "epochs = range(1, len(acc) + 1)\n",
    "\n",
    "plt.plot(epochs, acc, \"bo\", label=\"Training acc\")\n",
    "plt.plot(epochs, val_acc, \"b\", label=\"Validation acc\")\n",
    "plt.title(\"Training and validation accuracy\")\n",
    "plt.legend()\n",
    "\n",
    "plt.show()\n",
    "\n",
    "plt.plot(epochs, loss, \"bo\", label=\"Training loss\")\n",
    "plt.plot(epochs, val_loss, \"b\", label=\"Validation loss\")\n",
    "plt.title(\"Training and validation loss\")\n",
    "plt.legend()\n",
    "\n",
    "plt.show()"
   ]
  },
  {
   "cell_type": "markdown",
   "id": "mexican-aquatic",
   "metadata": {},
   "source": [
    "### Decreasing the batch size to check the effect on generalization error"
   ]
  },
  {
   "cell_type": "code",
   "execution_count": 146,
   "id": "personalized-myanmar",
   "metadata": {},
   "outputs": [],
   "source": [
    "train_dir = new_train_dir\n",
    "validation_dir = new_val_dir"
   ]
  },
  {
   "cell_type": "code",
   "execution_count": 147,
   "id": "surprising-estonia",
   "metadata": {},
   "outputs": [
    {
     "name": "stdout",
     "output_type": "stream",
     "text": [
      "Found 27450 images belonging to 43 classes.\n",
      "Found 11759 images belonging to 43 classes.\n"
     ]
    }
   ],
   "source": [
    "from tensorflow.keras.preprocessing.image import ImageDataGenerator\n",
    "\n",
    "train_datagen = ImageDataGenerator(rescale=1./255)\n",
    "test_datagen = ImageDataGenerator(rescale=1./255)\n",
    "\n",
    "train_generator = train_datagen.flow_from_directory(\n",
    "    train_dir,\n",
    "    target_size=(100,100),\n",
    "    batch_size=10,\n",
    "    class_mode=\"categorical\",\n",
    "    color_mode=\"grayscale\"\n",
    "    )\n",
    "\n",
    "validation_generator = test_datagen.flow_from_directory(\n",
    "    validation_dir,\n",
    "    target_size=(100,100),\n",
    "    batch_size=10,\n",
    "    class_mode=\"categorical\",\n",
    "    color_mode=\"grayscale\"\n",
    "    )"
   ]
  },
  {
   "cell_type": "code",
   "execution_count": 148,
   "id": "operating-louisiana",
   "metadata": {},
   "outputs": [
    {
     "name": "stdout",
     "output_type": "stream",
     "text": [
      "data batch shape: (10, 100, 100, 1)\n",
      "labels batch shape: (10, 43)\n"
     ]
    }
   ],
   "source": [
    "import sys\n",
    "from PIL import Image\n",
    "sys.modules['Image'] = Image\n",
    "\n",
    "for data_batch, labels_batch in train_generator:\n",
    "    print('data batch shape:', data_batch.shape)\n",
    "    print('labels batch shape:', labels_batch.shape)\n",
    "    break"
   ]
  },
  {
   "cell_type": "code",
   "execution_count": 149,
   "id": "defined-martial",
   "metadata": {},
   "outputs": [
    {
     "name": "stdout",
     "output_type": "stream",
     "text": [
      "Epoch 1/30\n",
      "2745/2745 [==============================] - 111s 40ms/step - loss: 0.5617 - acc: 0.9881 - val_loss: 11.7665 - val_acc: 0.9120\n",
      "Epoch 2/30\n",
      "2745/2745 [==============================] - 112s 41ms/step - loss: 0.6316 - acc: 0.9879 - val_loss: 12.7599 - val_acc: 0.9156\n",
      "Epoch 3/30\n",
      "2745/2745 [==============================] - 112s 41ms/step - loss: 0.5956 - acc: 0.9891 - val_loss: 13.6357 - val_acc: 0.9144\n",
      "Epoch 4/30\n",
      "2745/2745 [==============================] - 112s 41ms/step - loss: 0.6666 - acc: 0.9887 - val_loss: 18.5793 - val_acc: 0.9041\n",
      "Epoch 5/30\n",
      "2745/2745 [==============================] - 111s 41ms/step - loss: 0.6817 - acc: 0.9887 - val_loss: 14.5299 - val_acc: 0.9218\n",
      "Epoch 6/30\n",
      "2745/2745 [==============================] - 111s 41ms/step - loss: 0.6789 - acc: 0.9894 - val_loss: 20.4021 - val_acc: 0.9075\n",
      "Epoch 7/30\n",
      "2745/2745 [==============================] - 111s 41ms/step - loss: 0.8038 - acc: 0.9892 - val_loss: 20.7659 - val_acc: 0.9170\n",
      "Epoch 8/30\n",
      "2745/2745 [==============================] - 111s 41ms/step - loss: 0.8432 - acc: 0.9895 - val_loss: 19.2308 - val_acc: 0.9135\n",
      "Epoch 9/30\n",
      "2745/2745 [==============================] - 113s 41ms/step - loss: 0.8347 - acc: 0.9899 - val_loss: 23.5606 - val_acc: 0.9112\n",
      "Epoch 10/30\n",
      "2745/2745 [==============================] - 112s 41ms/step - loss: 0.9979 - acc: 0.9893 - val_loss: 22.2832 - val_acc: 0.9169\n",
      "Epoch 11/30\n",
      "2745/2745 [==============================] - 115s 42ms/step - loss: 0.8827 - acc: 0.9900 - val_loss: 24.9648 - val_acc: 0.9219\n",
      "Epoch 12/30\n",
      "2745/2745 [==============================] - 114s 41ms/step - loss: 1.0274 - acc: 0.9887 - val_loss: 32.2748 - val_acc: 0.9070\n",
      "Epoch 13/30\n",
      "2745/2745 [==============================] - 113s 41ms/step - loss: 1.0206 - acc: 0.9901 - val_loss: 29.6530 - val_acc: 0.9163\n",
      "Epoch 14/30\n",
      "2745/2745 [==============================] - 113s 41ms/step - loss: 1.2686 - acc: 0.9893 - val_loss: 31.6619 - val_acc: 0.9149\n",
      "Epoch 15/30\n",
      "2745/2745 [==============================] - 113s 41ms/step - loss: 1.0619 - acc: 0.9915 - val_loss: 29.0825 - val_acc: 0.9229\n",
      "Epoch 16/30\n",
      "2745/2745 [==============================] - 112s 41ms/step - loss: 1.1001 - acc: 0.9901 - val_loss: 38.0058 - val_acc: 0.9093\n",
      "Epoch 17/30\n",
      "2745/2745 [==============================] - 114s 41ms/step - loss: 1.5389 - acc: 0.9891 - val_loss: 38.9973 - val_acc: 0.9131\n",
      "Epoch 18/30\n",
      "2745/2745 [==============================] - 112s 41ms/step - loss: 1.3400 - acc: 0.9900 - val_loss: 46.8828 - val_acc: 0.9069\n",
      "Epoch 19/30\n",
      "2745/2745 [==============================] - 112s 41ms/step - loss: 1.1655 - acc: 0.9911 - val_loss: 48.2316 - val_acc: 0.9165\n",
      "Epoch 20/30\n",
      "2745/2745 [==============================] - 113s 41ms/step - loss: 1.6524 - acc: 0.9907 - val_loss: 49.6551 - val_acc: 0.9145\n",
      "Epoch 21/30\n",
      "2745/2745 [==============================] - 113s 41ms/step - loss: 1.5508 - acc: 0.9902 - val_loss: 63.7157 - val_acc: 0.8928\n",
      "Epoch 22/30\n",
      "2745/2745 [==============================] - 111s 41ms/step - loss: 1.7585 - acc: 0.9905 - val_loss: 51.4834 - val_acc: 0.9119\n",
      "Epoch 23/30\n",
      "2745/2745 [==============================] - 112s 41ms/step - loss: 1.6566 - acc: 0.9917 - val_loss: 54.9122 - val_acc: 0.9126\n",
      "Epoch 24/30\n",
      "2745/2745 [==============================] - 113s 41ms/step - loss: 2.0270 - acc: 0.9899 - val_loss: 51.5764 - val_acc: 0.9215\n",
      "Epoch 25/30\n",
      "2745/2745 [==============================] - 113s 41ms/step - loss: 2.3603 - acc: 0.9897 - val_loss: 58.7053 - val_acc: 0.9247\n",
      "Epoch 26/30\n",
      "2745/2745 [==============================] - 113s 41ms/step - loss: 2.2102 - acc: 0.9910 - val_loss: 62.7152 - val_acc: 0.9201\n",
      "Epoch 27/30\n",
      "2745/2745 [==============================] - 114s 42ms/step - loss: 2.6217 - acc: 0.9900 - val_loss: 72.2564 - val_acc: 0.9127\n",
      "Epoch 28/30\n",
      "2745/2745 [==============================] - 115s 42ms/step - loss: 2.6934 - acc: 0.9907 - val_loss: 79.1793 - val_acc: 0.9138\n",
      "Epoch 29/30\n",
      "2745/2745 [==============================] - 113s 41ms/step - loss: 2.2558 - acc: 0.9906 - val_loss: 76.5861 - val_acc: 0.9185\n",
      "Epoch 30/30\n",
      "2745/2745 [==============================] - 114s 42ms/step - loss: 2.2556 - acc: 0.9913 - val_loss: 86.8363 - val_acc: 0.9133\n"
     ]
    }
   ],
   "source": [
    "history = model.fit(\n",
    "    train_generator,\n",
    "    epochs=30,\n",
    "    validation_data=validation_generator,\n",
    "    )"
   ]
  },
  {
   "cell_type": "code",
   "execution_count": 150,
   "id": "measured-shoulder",
   "metadata": {},
   "outputs": [
    {
     "name": "stdout",
     "output_type": "stream",
     "text": [
      "WARNING:tensorflow:FOR KERAS USERS: The object that you are saving contains one or more Keras models or layers. If you are loading the SavedModel with `tf.keras.models.load_model`, continue reading (otherwise, you may ignore the following instructions). Please change your code to save with `tf.keras.models.save_model` or `model.save`, and confirm that the file \"keras.metadata\" exists in the export directory. In the future, Keras will only load the SavedModels that have this file. In other words, `tf.saved_model.save` will no longer write SavedModels that can be recovered as Keras models (this will apply in TF 2.5).\n",
      "\n",
      "FOR DEVS: If you are overwriting _tracking_metadata in your class, this property has been used to save metadata in the SavedModel. The metadta field will be deprecated soon, so please move the metadata to a different file.\n",
      "INFO:tensorflow:Assets written to: model_all_data_dropout_0_5_new_convlayer_grayscale_bsize10/assets\n"
     ]
    }
   ],
   "source": [
    "model.save('model_all_data_dropout_0_5_new_convlayer_grayscale_bsize10')"
   ]
  },
  {
   "cell_type": "code",
   "execution_count": 151,
   "id": "promotional-awareness",
   "metadata": {},
   "outputs": [],
   "source": [
    "save_hist_to_excel('history_model_all_data_dropout_0_5_new_convlayer_grayscale_bsize10')"
   ]
  },
  {
   "cell_type": "code",
   "execution_count": null,
   "id": "increasing-glance",
   "metadata": {},
   "outputs": [],
   "source": []
  }
 ],
 "metadata": {
  "kernelspec": {
   "display_name": "Python 3",
   "language": "python",
   "name": "python3"
  },
  "language_info": {
   "codemirror_mode": {
    "name": "ipython",
    "version": 3
   },
   "file_extension": ".py",
   "mimetype": "text/x-python",
   "name": "python",
   "nbconvert_exporter": "python",
   "pygments_lexer": "ipython3",
   "version": "3.8.8"
  }
 },
 "nbformat": 4,
 "nbformat_minor": 5
}

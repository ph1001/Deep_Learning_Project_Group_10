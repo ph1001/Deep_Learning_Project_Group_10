{
 "cells": [
  {
   "cell_type": "markdown",
   "id": "determined-remark",
   "metadata": {},
   "source": [
    "# Deep Learning Project - Traffic Signs Image Classification"
   ]
  },
  {
   "cell_type": "code",
   "execution_count": 1,
   "id": "authentic-cyprus",
   "metadata": {},
   "outputs": [],
   "source": [
    "import os, shutil\n",
    "import pandas as pd\n",
    "import seaborn as sns\n",
    "import matplotlib.pyplot as plt"
   ]
  },
  {
   "cell_type": "code",
   "execution_count": 2,
   "id": "prescription-conspiracy",
   "metadata": {},
   "outputs": [],
   "source": [
    "def save_hist_to_excel(filename):\n",
    "    df = pd.DataFrame(history.history)\n",
    "    df.to_excel(filename + '.xlsx')"
   ]
  },
  {
   "cell_type": "markdown",
   "id": "vietnamese-attention",
   "metadata": {},
   "source": [
    "## Overview of the training data"
   ]
  },
  {
   "cell_type": "code",
   "execution_count": 3,
   "id": "civic-alberta",
   "metadata": {},
   "outputs": [
    {
     "name": "stdout",
     "output_type": "stream",
     "text": [
      "There are 43 different classes within the training data!\n"
     ]
    }
   ],
   "source": [
    "#setting the training directory (the training images can be found there, already sorted by class into folders)\n",
    "#base_training_dir = \"/Users/henriquevaz/NOVA IMS/YEAR 1/SPRING SEMESTER/DL/Project/my_notebooks/Data/Training/Final_Training/Images/\"\n",
    "base_training_dir = \"/Users/philippmetzger/Documents/GitHub/Deep_Learning_Project_Group_10/Data/GTSRB_Final_Training_Images/GTSRB/Final_Training/Images/\"\n",
    "\n",
    "#setting the directory where the selected training and validation images will be stored in\n",
    "#created_dir = \"/Users/henriquevaz/NOVA IMS/YEAR 1/SPRING SEMESTER/DL/Project/my_notebooks/Data/Selected\"\n",
    "created_dir = \"/Users/philippmetzger/Documents/GitHub/Deep_Learning_Project_Group_10/Data/Selected\"\n",
    "\n",
    "#storing all the folder names that belong to the respective classes\n",
    "all_classes = sorted(i for i in os.listdir(base_training_dir) if i.startswith(\"0\"))\n",
    "\n",
    "print(\"There are\", len(all_classes), \"different classes within the training data!\")"
   ]
  },
  {
   "cell_type": "code",
   "execution_count": 4,
   "id": "passing-copper",
   "metadata": {},
   "outputs": [],
   "source": [
    "#getting the number of images within each class of the training data\n",
    "amount_per_class = {}\n",
    "\n",
    "for i in range(len(all_classes)):\n",
    "    directory = base_training_dir + \"/\" + all_classes[i]\n",
    "    amount_per_class[i] = len(sorted(i for i in os.listdir(directory) if i.startswith(\"0\")))\n",
    "\n",
    "amount_per_class_df = pd.DataFrame.from_dict(amount_per_class, orient='index').rename(columns={0:\"amount\"})\n",
    "amount_per_class_df.index.name = 'class'\n",
    "\n",
    "#remove the \"#\" of the following line to display the number of images within each class\n",
    "#amount_per_class_df"
   ]
  },
  {
   "cell_type": "code",
   "execution_count": 5,
   "id": "smart-notification",
   "metadata": {},
   "outputs": [
    {
     "data": {
      "image/png": "[encoded data removed]",
      "text/plain": [
       "<Figure size 1440x576 with 1 Axes>"
      ]
     },
     "metadata": {
      "needs_background": "light"
     },
     "output_type": "display_data"
    }
   ],
   "source": [
    "#displaying the number of images per class visually\n",
    "\n",
    "plt.rcParams[\"figure.figsize\"] = (20,8)\n",
    "fig, ax = plt.subplots()\n",
    "plt.bar(amount_per_class_df.index, amount_per_class_df.amount)\n",
    "plt.title(\"Number of images per class\", fontsize=20)\n",
    "plt.xlabel('class', fontsize=18)\n",
    "plt.ylabel('number of images', fontsize=18)\n",
    "ax.spines['right'].set_visible(False)\n",
    "ax.spines['top'].set_visible(False)\n",
    "plt.xticks(amount_per_class_df.index)\n",
    "plt.grid(axis=\"y\")\n",
    "plt.show()"
   ]
  },
  {
   "cell_type": "markdown",
   "id": "contained-certification",
   "metadata": {},
   "source": [
    "As it can be seen in the bar chart, the dataset is highly unbalanced. Some classes have over 2000 instances, while others only have 210."
   ]
  },
  {
   "cell_type": "code",
   "execution_count": 6,
   "id": "exempt-married",
   "metadata": {},
   "outputs": [
    {
     "data": {
      "text/html": [
       "<div>\n",
       "<style scoped>\n",
       "    .dataframe tbody tr th:only-of-type {\n",
       "        vertical-align: middle;\n",
       "    }\n",
       "\n",
       "    .dataframe tbody tr th {\n",
       "        vertical-align: top;\n",
       "    }\n",
       "\n",
       "    .dataframe thead th {\n",
       "        text-align: right;\n",
       "    }\n",
       "</style>\n",
       "<table border=\"1\" class=\"dataframe\">\n",
       "  <thead>\n",
       "    <tr style=\"text-align: right;\">\n",
       "      <th>class</th>\n",
       "      <th>0</th>\n",
       "      <th>37</th>\n",
       "      <th>19</th>\n",
       "      <th>32</th>\n",
       "      <th>27</th>\n",
       "      <th>41</th>\n",
       "      <th>42</th>\n",
       "      <th>24</th>\n",
       "      <th>29</th>\n",
       "      <th>39</th>\n",
       "      <th>21</th>\n",
       "      <th>40</th>\n",
       "      <th>20</th>\n",
       "      <th>36</th>\n",
       "      <th>22</th>\n",
       "      <th>6</th>\n",
       "      <th>16</th>\n",
       "      <th>34</th>\n",
       "      <th>30</th>\n",
       "      <th>23</th>\n",
       "    </tr>\n",
       "  </thead>\n",
       "  <tbody>\n",
       "    <tr>\n",
       "      <th>amount</th>\n",
       "      <td>210</td>\n",
       "      <td>210</td>\n",
       "      <td>210</td>\n",
       "      <td>240</td>\n",
       "      <td>240</td>\n",
       "      <td>240</td>\n",
       "      <td>240</td>\n",
       "      <td>270</td>\n",
       "      <td>270</td>\n",
       "      <td>300</td>\n",
       "      <td>330</td>\n",
       "      <td>360</td>\n",
       "      <td>360</td>\n",
       "      <td>390</td>\n",
       "      <td>390</td>\n",
       "      <td>420</td>\n",
       "      <td>420</td>\n",
       "      <td>420</td>\n",
       "      <td>450</td>\n",
       "      <td>510</td>\n",
       "    </tr>\n",
       "  </tbody>\n",
       "</table>\n",
       "</div>"
      ],
      "text/plain": [
       "class    0    37   19   32   27   41   42   24   29   39   21   40   20   36  \\\n",
       "amount  210  210  210  240  240  240  240  270  270  300  330  360  360  390   \n",
       "\n",
       "class    22   6    16   34   30   23  \n",
       "amount  390  420  420  420  450  510  "
      ]
     },
     "execution_count": 6,
     "metadata": {},
     "output_type": "execute_result"
    }
   ],
   "source": [
    "#displaying the 20 classes with the fewest images\n",
    "amount_per_class_df.sort_values(\"amount\").head(20).T"
   ]
  },
  {
   "cell_type": "markdown",
   "id": "favorite-romance",
   "metadata": {},
   "source": [
    "Within each class, there are several groups of images, that belong together (these are basically all images of the very same traffic sign, that just differ in that they were made as a series while approaching the actual sign). These series of images shouldn't be splitted later when the data is split into training and validation sets, so some precautions might be useful:"
   ]
  },
  {
   "cell_type": "code",
   "execution_count": 7,
   "id": "closed-romania",
   "metadata": {},
   "outputs": [
    {
     "name": "stdout",
     "output_type": "stream",
     "text": [
      "There is a series whose number doesn't match the others in class 00033 , with the prefix 00019 !\n",
      "It only contains 29 images.\n",
      "All the other series of images contain exactly 30 images!\n"
     ]
    }
   ],
   "source": [
    "#checking the size(=amount of images) of these series and whether they are all having the same size\n",
    "\n",
    "#running a for loop over all classes\n",
    "for i in range(len(all_classes)):\n",
    "    directory = base_training_dir + \"/\" + all_classes[i]\n",
    "    \n",
    "    #get the names of all images within a class\n",
    "    list_of_images = sorted(i for i in os.listdir(directory) if i.startswith(\"0\"))\n",
    "\n",
    "    image_series = []\n",
    "    \n",
    "    #store all the prefixes of the images (which correspond to the series they belong to)\n",
    "    for element in list_of_images:\n",
    "        image_series.append(element.split(\"_\")[0])\n",
    "    \n",
    "    #count the frequency of each prefix, which equals the size of each respective series\n",
    "    image_counts = pd.Series(image_series).value_counts().sort_index()\n",
    "\n",
    "    for element in image_counts.values.tolist():\n",
    "        if element != image_counts.values.tolist()[0]:\n",
    "            #this line will show if there is a series that contains not the same number of images than the others\n",
    "            print(\"There is a series whose number doesn't match the others in class\", all_classes[i], \", with the prefix\", image_counts.sort_values().index[0], \"!\\nIt only contains\", element, \"images.\")\n",
    "            \n",
    "\n",
    "#apart from only one series, all others consist of exactly 30 images\n",
    "print(\"All the other series of images contain exactly\", image_counts.values.tolist()[0], \"images!\")"
   ]
  },
  {
   "cell_type": "markdown",
   "id": "czech-watson",
   "metadata": {},
   "source": [
    "## Split into training and validation datasets"
   ]
  },
  {
   "cell_type": "markdown",
   "id": "adverse-contents",
   "metadata": {},
   "source": [
    "As already mentioned, it is important for the split into training and validation sets that the individual image series stay together. As a first approach, there will be 210 images used per class, as this number corresponds to the amount of images in the \"smallest\" class. This will fix the problem of imbalance in the dataset. Subsequently, the data will be splitted by a 5:2 (150:60) ratio into training and validation set, in order to guarantee that the series will stay together."
   ]
  },
  {
   "cell_type": "code",
   "execution_count": 10,
   "id": "ordinary-sensitivity",
   "metadata": {},
   "outputs": [],
   "source": [
    "#new_train_dir = \"/Users/henriquevaz/NOVA IMS/YEAR 1/SPRING SEMESTER/DL/Project/my_notebooks/Data/Selected/train_all\"\n",
    "#new_val_dir = \"/Users/henriquevaz/NOVA IMS/YEAR 1/SPRING SEMESTER/DL/Project/my_notebooks/Data/Selected/val_all\"\n",
    "\n",
    "#new_train_dir = \"/Users/franz/Desktop/DL Project/Selected/train_all\"\n",
    "#new_val_dir = \"/Users/franz/Desktop/DL Project/Selected/val_all\"\n",
    "\n",
    "new_train_dir = \"/Users/philippmetzger/Documents/GitHub/Deep_Learning_Project_Group_10/Data/Selected/train_all\"\n",
    "new_val_dir = \"/Users/philippmetzger/Documents/GitHub/Deep_Learning_Project_Group_10/Data/Selected/val_all\""
   ]
  },
  {
   "cell_type": "code",
   "execution_count": null,
   "id": "color-hardware",
   "metadata": {},
   "outputs": [],
   "source": [
    "for i in range(len(all_classes)):\n",
    "    os.mkdir(new_train_dir + \"/\" + all_classes[i])\n",
    "    os.mkdir(new_val_dir + \"/\" + all_classes[i])"
   ]
  },
  {
   "cell_type": "code",
   "execution_count": null,
   "id": "absolute-jones",
   "metadata": {},
   "outputs": [],
   "source": [
    "import random\n",
    "\n",
    "for i in range(len(all_classes)):\n",
    "    \n",
    "    list_ = os.listdir(base_training_dir + \"/\" + all_classes[i])\n",
    "    random.shuffle(list_)\n",
    "    new_list = []\n",
    "    for element in list_:\n",
    "        if element.startswith(\"000\"):\n",
    "            new_list.append(element)\n",
    "    \n",
    "    new_list = sorted(new_list)\n",
    "    for image in range(len(new_list)):\n",
    "        \n",
    "        \n",
    "        #setting the cut off according to the next closest number in steps of 30 according to a 70:30 ratio\n",
    "        if len(new_list) == 210 or len(new_list) == 240:\n",
    "            cut = 60\n",
    "        elif len(new_list) == 270 or len(new_list) == 300 or len(new_list) == 330:\n",
    "            cut = 90\n",
    "        elif len(new_list) == 360 or len(new_list) == 390 or len(new_list) == 420:\n",
    "            cut = 120\n",
    "        elif len(new_list) == 450 or len(new_list) == 510 or len(new_list) == 540:\n",
    "            cut = 150\n",
    "        elif len(new_list) == 600 or len(new_list) == 630:\n",
    "            cut = 180\n",
    "        elif len(new_list) == 689:\n",
    "            cut = 210 - 1\n",
    "        elif len(new_list) == 780:\n",
    "            cut = 240\n",
    "        elif len(new_list) == 1110:\n",
    "            cut = 330\n",
    "        elif len(new_list) == 1200:\n",
    "            cut = 360\n",
    "        elif len(new_list) == 1320:\n",
    "            cut = 390\n",
    "        elif len(new_list) == 1410 or len(new_list) == 1440:\n",
    "            cut = 420\n",
    "        elif len(new_list) == 1470 or len(new_list) == 1500:\n",
    "            cut = 450\n",
    "        elif len(new_list) == 1860:\n",
    "            cut = 570\n",
    "        elif len(new_list) == 1980 or len(new_list) == 2010:\n",
    "            cut = 600\n",
    "        elif len(new_list) == 2070 or len(new_list) == 2100:\n",
    "            cut = 630\n",
    "        elif len(new_list) == 2160 or len(new_list) == 2220:\n",
    "            cut = 660\n",
    "        elif len(new_list) == 2250:\n",
    "            cut = 690\n",
    "         \n",
    "        \n",
    "        if image < len(new_list) - cut:\n",
    "            \n",
    "            src = base_training_dir + \"/\" + all_classes[i] + \"/\" + new_list[image]\n",
    "            dst = new_train_dir + \"/\" + all_classes[i] + \"/\"  + new_list[image]\n",
    "            shutil.copyfile(src, dst)\n",
    "            \n",
    "        else:\n",
    "            src = base_training_dir + \"/\" + all_classes[i] + \"/\" + new_list[image]\n",
    "            dst = new_val_dir + \"/\" + all_classes[i] + \"/\"  + new_list[image]\n",
    "            shutil.copyfile(src, dst)"
   ]
  },
  {
   "cell_type": "code",
   "execution_count": 9,
   "id": "timely-diary",
   "metadata": {},
   "outputs": [
    {
     "name": "stdout",
     "output_type": "stream",
     "text": [
      "Class 0 : training set size = 150 ; validation set size: 60\n",
      "Class 1 : training set size = 1560 ; validation set size: 660\n",
      "Class 2 : training set size = 1560 ; validation set size: 690\n",
      "Class 3 : training set size = 990 ; validation set size: 420\n",
      "Class 4 : training set size = 1380 ; validation set size: 600\n",
      "Class 5 : training set size = 1290 ; validation set size: 570\n",
      "Class 6 : training set size = 300 ; validation set size: 120\n",
      "Class 7 : training set size = 1020 ; validation set size: 420\n",
      "Class 8 : training set size = 990 ; validation set size: 420\n",
      "Class 9 : training set size = 1020 ; validation set size: 450\n",
      "Class 10 : training set size = 1410 ; validation set size: 600\n",
      "Class 11 : training set size = 930 ; validation set size: 390\n",
      "Class 12 : training set size = 1470 ; validation set size: 630\n",
      "Class 13 : training set size = 1500 ; validation set size: 660\n",
      "Class 14 : training set size = 540 ; validation set size: 240\n",
      "Class 15 : training set size = 450 ; validation set size: 180\n",
      "Class 16 : training set size = 300 ; validation set size: 120\n",
      "Class 17 : training set size = 780 ; validation set size: 330\n",
      "Class 18 : training set size = 840 ; validation set size: 360\n",
      "Class 19 : training set size = 150 ; validation set size: 60\n",
      "Class 20 : training set size = 240 ; validation set size: 120\n",
      "Class 21 : training set size = 240 ; validation set size: 90\n",
      "Class 22 : training set size = 270 ; validation set size: 120\n",
      "Class 23 : training set size = 360 ; validation set size: 150\n",
      "Class 24 : training set size = 180 ; validation set size: 90\n",
      "Class 25 : training set size = 1050 ; validation set size: 450\n",
      "Class 26 : training set size = 420 ; validation set size: 180\n",
      "Class 27 : training set size = 180 ; validation set size: 60\n",
      "Class 28 : training set size = 390 ; validation set size: 150\n",
      "Class 29 : training set size = 180 ; validation set size: 90\n",
      "Class 30 : training set size = 300 ; validation set size: 150\n",
      "Class 31 : training set size = 540 ; validation set size: 240\n",
      "Class 32 : training set size = 180 ; validation set size: 60\n",
      "Class 33 : training set size = 480 ; validation set size: 209\n",
      "Class 34 : training set size = 300 ; validation set size: 120\n",
      "Class 35 : training set size = 840 ; validation set size: 360\n",
      "Class 36 : training set size = 270 ; validation set size: 120\n",
      "Class 37 : training set size = 150 ; validation set size: 60\n",
      "Class 38 : training set size = 1440 ; validation set size: 630\n",
      "Class 39 : training set size = 210 ; validation set size: 90\n",
      "Class 40 : training set size = 240 ; validation set size: 120\n",
      "Class 41 : training set size = 180 ; validation set size: 60\n",
      "Class 42 : training set size = 180 ; validation set size: 60\n"
     ]
    }
   ],
   "source": [
    "size_per_class_list = []\n",
    "\n",
    "for i in range(len(all_classes)):\n",
    "    size_per_class_list.append([len(os.listdir(new_train_dir + \"/\" + all_classes[i])), len(os.listdir(new_val_dir + \"/\" + all_classes[i]))])\n",
    "    print(\"Class\", i, \": training set size =\", len(os.listdir(new_train_dir + \"/\" + all_classes[i])), \"; validation set size:\", len(os.listdir(new_val_dir + \"/\" + all_classes[i])))"
   ]
  },
  {
   "cell_type": "markdown",
   "id": "liable-climate",
   "metadata": {},
   "source": [
    "Now, there should be exactly 150 images within the train folder of each class and 60 images within the validation folder. Having 43 different classes, this means that there are a total of 6,450 (150x43) training images and another 2,580 (60x43) validation images. A sanity check will show if this worked correctly:"
   ]
  },
  {
   "cell_type": "markdown",
   "id": "close-bloom",
   "metadata": {},
   "source": [
    "As it can be seen, it worked correctly!"
   ]
  },
  {
   "cell_type": "markdown",
   "id": "enormous-council",
   "metadata": {},
   "source": [
    "## Data Preprocessing"
   ]
  },
  {
   "cell_type": "markdown",
   "id": "infinite-attraction",
   "metadata": {},
   "source": [
    "After running the upper part once, the notebook can be started from here from now on:"
   ]
  },
  {
   "cell_type": "code",
   "execution_count": 8,
   "id": "dental-decrease",
   "metadata": {
    "scrolled": true
   },
   "outputs": [],
   "source": [
    "#this cell is optional and the notebook should be runned from here once the upper part has been executed once\n",
    "\n",
    "import os, shutil\n",
    "import pandas as pd\n",
    "import seaborn as sns\n",
    "import matplotlib.pyplot as plt\n",
    "import tensorflow as tf\n",
    "import sys\n",
    "from PIL import Image\n",
    "import numpy as np"
   ]
  },
  {
   "cell_type": "code",
   "execution_count": 11,
   "id": "beginning-dover",
   "metadata": {},
   "outputs": [],
   "source": [
    "train_dir = new_train_dir\n",
    "validation_dir = new_val_dir"
   ]
  },
  {
   "cell_type": "markdown",
   "id": "individual-cliff",
   "metadata": {},
   "source": [
    "##### Normalization"
   ]
  },
  {
   "cell_type": "code",
   "execution_count": 12,
   "id": "improving-tribute",
   "metadata": {},
   "outputs": [
    {
     "name": "stdout",
     "output_type": "stream",
     "text": [
      "Found 27450 images belonging to 43 classes.\n",
      "Found 11759 images belonging to 43 classes.\n"
     ]
    }
   ],
   "source": [
    "from tensorflow.keras.preprocessing.image import ImageDataGenerator\n",
    "\n",
    "train_datagen = ImageDataGenerator(rescale=1./255)\n",
    "test_datagen = ImageDataGenerator(rescale=1./255)\n",
    "\n",
    "train_generator = train_datagen.flow_from_directory(\n",
    "    train_dir,\n",
    "    #target_size=(100,100),\n",
    "    target_size=(150,150),\n",
    "    batch_size=20,\n",
    "    class_mode=\"categorical\",\n",
    "    #color_mode=\"grayscale\"\n",
    "    color_mode=\"rgb\"\n",
    "    )\n",
    "\n",
    "\n",
    "validation_generator = test_datagen.flow_from_directory(\n",
    "    validation_dir,\n",
    "    #target_size=(100,100),\n",
    "    target_size=(150,150),\n",
    "    batch_size=20,\n",
    "    class_mode=\"categorical\",\n",
    "    #color_mode=\"grayscale\"\n",
    "    color_mode=\"rgb\"\n",
    "    )"
   ]
  },
  {
   "cell_type": "code",
   "execution_count": 13,
   "id": "continuing-threat",
   "metadata": {},
   "outputs": [],
   "source": [
    "x_train=np.concatenate([train_generator.next()[0] for i in range(train_generator.__len__())])\n",
    "x_val=np.concatenate([validation_generator.next()[0] for i in range(validation_generator.__len__())])"
   ]
  },
  {
   "cell_type": "code",
   "execution_count": 14,
   "id": "turkish-mozambique",
   "metadata": {},
   "outputs": [],
   "source": [
    "train_datagen = ImageDataGenerator(featurewise_center=True, featurewise_std_normalization=True)\n",
    "test_datagen = ImageDataGenerator(featurewise_center=True, featurewise_std_normalization=True)\n",
    "\n",
    "train_datagen.fit(x_train)\n",
    "test_datagen.fit(x_val)"
   ]
  },
  {
   "cell_type": "markdown",
   "id": "happy-amplifier",
   "metadata": {},
   "source": [
    "##### Re-Creating the generators with the normalized image data"
   ]
  },
  {
   "cell_type": "code",
   "execution_count": 15,
   "id": "particular-fireplace",
   "metadata": {},
   "outputs": [
    {
     "name": "stdout",
     "output_type": "stream",
     "text": [
      "Found 27450 images belonging to 43 classes.\n",
      "Found 11759 images belonging to 43 classes.\n"
     ]
    }
   ],
   "source": [
    "train_generator = train_datagen.flow_from_directory(\n",
    "    train_dir,\n",
    "    #target_size=(100,100),\n",
    "    target_size=(150,150),\n",
    "    batch_size=20,\n",
    "    class_mode=\"categorical\",\n",
    "    #color_mode=\"grayscale\"\n",
    "    color_mode=\"rgb\"\n",
    "    )\n",
    "\n",
    "\n",
    "\n",
    "validation_generator = test_datagen.flow_from_directory(\n",
    "    validation_dir,\n",
    "    #target_size=(100,100),\n",
    "    target_size=(150,150),\n",
    "    batch_size=20,\n",
    "    class_mode=\"categorical\",\n",
    "    #color_mode=\"grayscale\"\n",
    "    color_mode=\"rgb\"\n",
    "    )"
   ]
  },
  {
   "cell_type": "code",
   "execution_count": 16,
   "id": "peripheral-exercise",
   "metadata": {},
   "outputs": [
    {
     "name": "stdout",
     "output_type": "stream",
     "text": [
      "data batch shape: (20, 150, 150, 3)\n",
      "labels batch shape: (20, 43)\n"
     ]
    }
   ],
   "source": [
    "sys.modules['Image'] = Image\n",
    "\n",
    "for data_batch, labels_batch in train_generator:\n",
    "    print('data batch shape:', data_batch.shape)\n",
    "    print('labels batch shape:', labels_batch.shape)\n",
    "    break"
   ]
  },
  {
   "cell_type": "markdown",
   "id": "plastic-dominican",
   "metadata": {},
   "source": [
    "## Draft of the model"
   ]
  },
  {
   "cell_type": "markdown",
   "id": "coated-sector",
   "metadata": {},
   "source": [
    "### Base model (Using the 'Down' Version)"
   ]
  },
  {
   "cell_type": "code",
   "execution_count": 21,
   "id": "placed-representation",
   "metadata": {},
   "outputs": [],
   "source": [
    "from tensorflow.keras import layers\n",
    "from tensorflow.keras import models\n",
    "\n",
    "model = models.Sequential()\n",
    "#model.add(layers.Conv2D(32, (2, 2), activation='relu', input_shape=(100, 100, 1)))\n",
    "#model.add(layers.Conv2D(32, (2, 2), activation='relu', input_shape=(150, 150, 1)))\n",
    "model.add(layers.Conv2D(32, (2, 2), activation='relu', input_shape=(150, 150, 3)))\n",
    "model.add(layers.MaxPooling2D((2, 2)))\n",
    "model.add(layers.Dropout(0.15))\n",
    "model.add(layers.Conv2D(64, (3, 3), activation='relu'))\n",
    "model.add(layers.MaxPooling2D((2, 2) ))\n",
    "model.add(layers.Dropout(0.15))\n",
    "model.add(layers.Conv2D(128, (4, 4), activation='relu'))\n",
    "model.add(layers.MaxPooling2D((2, 2) ))\n",
    "model.add(layers.Dropout(0.1))\n",
    "model.add(layers.Flatten())\n",
    "model.add(layers.Dense(512, activation='relu'))\n",
    "model.add(layers.Dropout(0.4))\n",
    "model.add(layers.Dense (43, activation='softmax'))"
   ]
  },
  {
   "cell_type": "code",
   "execution_count": 22,
   "id": "collect-dimension",
   "metadata": {},
   "outputs": [
    {
     "name": "stdout",
     "output_type": "stream",
     "text": [
      "Model: \"sequential_1\"\n",
      "_________________________________________________________________\n",
      "Layer (type)                 Output Shape              Param #   \n",
      "=================================================================\n",
      "conv2d_3 (Conv2D)            (None, 149, 149, 32)      416       \n",
      "_________________________________________________________________\n",
      "max_pooling2d_3 (MaxPooling2 (None, 74, 74, 32)        0         \n",
      "_________________________________________________________________\n",
      "dropout_4 (Dropout)          (None, 74, 74, 32)        0         \n",
      "_________________________________________________________________\n",
      "conv2d_4 (Conv2D)            (None, 72, 72, 64)        18496     \n",
      "_________________________________________________________________\n",
      "max_pooling2d_4 (MaxPooling2 (None, 36, 36, 64)        0         \n",
      "_________________________________________________________________\n",
      "dropout_5 (Dropout)          (None, 36, 36, 64)        0         \n",
      "_________________________________________________________________\n",
      "conv2d_5 (Conv2D)            (None, 33, 33, 128)       131200    \n",
      "_________________________________________________________________\n",
      "max_pooling2d_5 (MaxPooling2 (None, 16, 16, 128)       0         \n",
      "_________________________________________________________________\n",
      "dropout_6 (Dropout)          (None, 16, 16, 128)       0         \n",
      "_________________________________________________________________\n",
      "flatten_1 (Flatten)          (None, 32768)             0         \n",
      "_________________________________________________________________\n",
      "dense_2 (Dense)              (None, 512)               16777728  \n",
      "_________________________________________________________________\n",
      "dropout_7 (Dropout)          (None, 512)               0         \n",
      "_________________________________________________________________\n",
      "dense_3 (Dense)              (None, 43)                22059     \n",
      "=================================================================\n",
      "Total params: 16,949,899\n",
      "Trainable params: 16,949,899\n",
      "Non-trainable params: 0\n",
      "_________________________________________________________________\n"
     ]
    }
   ],
   "source": [
    "model.summary()"
   ]
  },
  {
   "cell_type": "code",
   "execution_count": 23,
   "id": "central-inquiry",
   "metadata": {},
   "outputs": [],
   "source": [
    "from tensorflow.keras import optimizers\n",
    "\n",
    "#compilation\n",
    "model.compile(loss=\"categorical_crossentropy\", optimizer=optimizers.RMSprop(lr=1e-4), metrics=[\"acc\"])"
   ]
  },
  {
   "cell_type": "code",
   "execution_count": 24,
   "id": "prostate-funeral",
   "metadata": {},
   "outputs": [
    {
     "name": "stdout",
     "output_type": "stream",
     "text": [
      "Epoch 1/5\n",
      "1373/1373 [==============================] - 712s 518ms/step - loss: 37.3791 - acc: 0.1579 - val_loss: 2.4326 - val_acc: 0.4538\n",
      "Epoch 2/5\n",
      "1373/1373 [==============================] - 705s 513ms/step - loss: 1.7595 - acc: 0.5616 - val_loss: 1.1422 - val_acc: 0.7393\n",
      "Epoch 3/5\n",
      "1373/1373 [==============================] - 715s 520ms/step - loss: 0.7867 - acc: 0.8061 - val_loss: 0.8085 - val_acc: 0.8322\n",
      "Epoch 4/5\n",
      "1373/1373 [==============================] - 712s 519ms/step - loss: 0.4611 - acc: 0.8883 - val_loss: 0.6455 - val_acc: 0.8791\n",
      "Epoch 5/5\n",
      "1373/1373 [==============================] - 715s 521ms/step - loss: 0.3505 - acc: 0.9201 - val_loss: 0.6536 - val_acc: 0.8870\n"
     ]
    }
   ],
   "source": [
    "# 1-5\n",
    "history = model.fit(\n",
    "    train_generator,\n",
    "    epochs=5,\n",
    "    validation_data=validation_generator,\n",
    "    )"
   ]
  },
  {
   "cell_type": "code",
   "execution_count": 25,
   "id": "identical-causing",
   "metadata": {},
   "outputs": [
    {
     "name": "stdout",
     "output_type": "stream",
     "text": [
      "INFO:tensorflow:Assets written to: model_all_data_Down_Normalization_150_150_rgb_5_epochs/assets\n"
     ]
    }
   ],
   "source": [
    "model.save('model_all_data_Down_Normalization_150_150_rgb_5_epochs')\n",
    "save_hist_to_excel('history_all_data_Down_Normalization_150_150_rgb_5_epochs')"
   ]
  },
  {
   "cell_type": "code",
   "execution_count": 26,
   "id": "danish-symposium",
   "metadata": {},
   "outputs": [
    {
     "name": "stdout",
     "output_type": "stream",
     "text": [
      "Epoch 1/5\n",
      "1373/1373 [==============================] - 737s 536ms/step - loss: 0.2532 - acc: 0.9424 - val_loss: 0.6754 - val_acc: 0.8928\n",
      "Epoch 2/5\n",
      "1373/1373 [==============================] - 740s 539ms/step - loss: 0.2047 - acc: 0.9566 - val_loss: 0.7572 - val_acc: 0.8887\n",
      "Epoch 3/5\n",
      "1373/1373 [==============================] - 745s 543ms/step - loss: 0.1906 - acc: 0.9622 - val_loss: 0.7585 - val_acc: 0.8945\n",
      "Epoch 4/5\n",
      "1373/1373 [==============================] - 693s 505ms/step - loss: 0.1807 - acc: 0.9647 - val_loss: 0.7220 - val_acc: 0.8928\n",
      "Epoch 5/5\n",
      "1373/1373 [==============================] - 680s 495ms/step - loss: 0.1491 - acc: 0.9711 - val_loss: 0.8081 - val_acc: 0.8970\n"
     ]
    }
   ],
   "source": [
    "# 6-10\n",
    "history = model.fit(\n",
    "    train_generator,\n",
    "    epochs=5,\n",
    "    validation_data=validation_generator,\n",
    "    )"
   ]
  },
  {
   "cell_type": "code",
   "execution_count": null,
   "id": "cross-frost",
   "metadata": {},
   "outputs": [],
   "source": [
    "model.save('model_all_data_Down_Normalization_150_150_rgb_10_epochs')\n",
    "save_hist_to_excel('history_all_data_Down_Normalization_150_150_rgb_10_epochs')"
   ]
  },
  {
   "cell_type": "code",
   "execution_count": 29,
   "id": "consecutive-quilt",
   "metadata": {},
   "outputs": [
    {
     "name": "stdout",
     "output_type": "stream",
     "text": [
      "Epoch 1/5\n",
      "1373/1373 [==============================] - 689s 502ms/step - loss: 0.0836 - acc: 0.9825 - val_loss: 0.4863 - val_acc: 0.9330\n",
      "Epoch 2/5\n",
      "1373/1373 [==============================] - 754s 550ms/step - loss: 0.0690 - acc: 0.9838 - val_loss: 0.3938 - val_acc: 0.9425\n",
      "Epoch 3/5\n",
      "1373/1373 [==============================] - 739s 538ms/step - loss: 0.0657 - acc: 0.9861 - val_loss: 0.5569 - val_acc: 0.9370\n",
      "Epoch 4/5\n",
      "1373/1373 [==============================] - 741s 540ms/step - loss: 0.0604 - acc: 0.9871 - val_loss: 0.5960 - val_acc: 0.9309\n",
      "Epoch 5/5\n",
      "1373/1373 [==============================] - 695s 506ms/step - loss: 0.0651 - acc: 0.9864 - val_loss: 0.4509 - val_acc: 0.9366\n"
     ]
    }
   ],
   "source": [
    "# 11-15\n",
    "history = model.fit(\n",
    "    train_generator,\n",
    "    epochs=5,\n",
    "    validation_data=validation_generator,\n",
    "    )"
   ]
  },
  {
   "cell_type": "code",
   "execution_count": null,
   "id": "amazing-church",
   "metadata": {},
   "outputs": [],
   "source": [
    "model.save('model_all_data_Down_Normalization_150_150_rgb_15_epochs')\n",
    "save_hist_to_excel('history_all_data_Down_Normalization_150_150_rgb_15_epochs')"
   ]
  },
  {
   "cell_type": "code",
   "execution_count": 32,
   "id": "refined-opera",
   "metadata": {},
   "outputs": [
    {
     "name": "stdout",
     "output_type": "stream",
     "text": [
      "Epoch 1/5\n",
      "1373/1373 [==============================] - 702s 511ms/step - loss: 0.0552 - acc: 0.9881 - val_loss: 0.4864 - val_acc: 0.9314\n",
      "Epoch 2/5\n",
      "1373/1373 [==============================] - 694s 505ms/step - loss: 0.0542 - acc: 0.9885 - val_loss: 0.6189 - val_acc: 0.9320\n",
      "Epoch 3/5\n",
      "1373/1373 [==============================] - 688s 501ms/step - loss: 0.0556 - acc: 0.9881 - val_loss: 0.5270 - val_acc: 0.9391\n",
      "Epoch 4/5\n",
      "1373/1373 [==============================] - 730s 531ms/step - loss: 0.0493 - acc: 0.9898 - val_loss: 0.6394 - val_acc: 0.9337\n",
      "Epoch 5/5\n",
      "1373/1373 [==============================] - 707s 515ms/step - loss: 0.0475 - acc: 0.9908 - val_loss: 0.5556 - val_acc: 0.9319\n"
     ]
    }
   ],
   "source": [
    "# 16-20\n",
    "history = model.fit(\n",
    "    train_generator,\n",
    "    epochs=5,\n",
    "    validation_data=validation_generator,\n",
    "    )"
   ]
  },
  {
   "cell_type": "code",
   "execution_count": null,
   "id": "annoying-travel",
   "metadata": {},
   "outputs": [],
   "source": [
    "model.save('model_all_data_Down_Normalization_150_150_rgb_20_epochs')\n",
    "save_hist_to_excel('history_all_data_Down_Normalization_150_150_rgb_20_epochs')"
   ]
  },
  {
   "cell_type": "code",
   "execution_count": 35,
   "id": "expanded-carter",
   "metadata": {},
   "outputs": [
    {
     "name": "stdout",
     "output_type": "stream",
     "text": [
      "Epoch 1/5\n",
      "1373/1373 [==============================] - 729s 531ms/step - loss: 0.0477 - acc: 0.9911 - val_loss: 0.6015 - val_acc: 0.9372\n",
      "Epoch 2/5\n",
      "1373/1373 [==============================] - 677s 493ms/step - loss: 0.0436 - acc: 0.9908 - val_loss: 0.5165 - val_acc: 0.9320\n",
      "Epoch 3/5\n",
      "1373/1373 [==============================] - 677s 493ms/step - loss: 0.0460 - acc: 0.9913 - val_loss: 0.6651 - val_acc: 0.9313\n",
      "Epoch 4/5\n",
      "1373/1373 [==============================] - 680s 495ms/step - loss: 0.0422 - acc: 0.9919 - val_loss: 0.6867 - val_acc: 0.9379\n",
      "Epoch 5/5\n",
      "1373/1373 [==============================] - 691s 503ms/step - loss: 0.0351 - acc: 0.9929 - val_loss: 0.4777 - val_acc: 0.9412\n"
     ]
    }
   ],
   "source": [
    "# 21-25\n",
    "history = model.fit(\n",
    "    train_generator,\n",
    "    epochs=5,\n",
    "    validation_data=validation_generator,\n",
    "    )"
   ]
  },
  {
   "cell_type": "code",
   "execution_count": null,
   "id": "earlier-effect",
   "metadata": {},
   "outputs": [],
   "source": [
    "model.save('model_all_data_Down_Normalization_150_150_rgb_25_epochs')\n",
    "save_hist_to_excel('history_all_data_Down_Normalization_150_150_rgb_25_epochs')"
   ]
  },
  {
   "cell_type": "code",
   "execution_count": 27,
   "id": "special-struggle",
   "metadata": {},
   "outputs": [
    {
     "data": {
      "image/png": "[encoded data removed]",
      "text/plain": [
       "<Figure size 1440x576 with 1 Axes>"
      ]
     },
     "metadata": {
      "needs_background": "light"
     },
     "output_type": "display_data"
    },
    {
     "data": {
      "image/png": "[encoded data removed]",
      "text/plain": [
       "<Figure size 1440x576 with 1 Axes>"
      ]
     },
     "metadata": {
      "needs_background": "light"
     },
     "output_type": "display_data"
    }
   ],
   "source": [
    "#Displaying curves of loss and accuracy during training\n",
    "\n",
    "import matplotlib.pyplot as plt\n",
    "\n",
    "acc = history.history[\"acc\"]\n",
    "val_acc = history.history[\"val_acc\"]\n",
    "loss = history.history[\"loss\"]\n",
    "val_loss = history.history[\"val_loss\"]\n",
    "\n",
    "epochs = range(1, len(acc) + 1)\n",
    "\n",
    "plt.plot(epochs, acc, \"bo\", label=\"Training acc\")\n",
    "plt.plot(epochs, val_acc, \"b\", label=\"Validation acc\")\n",
    "plt.title(\"Training and validation accuracy\")\n",
    "plt.legend()\n",
    "\n",
    "plt.show()\n",
    "\n",
    "plt.plot(epochs, loss, \"bo\", label=\"Training loss\")\n",
    "plt.plot(epochs, val_loss, \"b\", label=\"Validation loss\")\n",
    "plt.title(\"Training and validation loss\")\n",
    "plt.legend()\n",
    "\n",
    "plt.show()"
   ]
  },
  {
   "cell_type": "markdown",
   "id": "raised-focus",
   "metadata": {},
   "source": [
    "### Replicating the above one but with two 128 filters layers"
   ]
  },
  {
   "cell_type": "code",
   "execution_count": 28,
   "id": "conscious-journal",
   "metadata": {},
   "outputs": [
    {
     "name": "stdout",
     "output_type": "stream",
     "text": [
      "Model: \"sequential_2\"\n",
      "_________________________________________________________________\n",
      "Layer (type)                 Output Shape              Param #   \n",
      "=================================================================\n",
      "conv2d_6 (Conv2D)            (None, 99, 99, 32)        160       \n",
      "_________________________________________________________________\n",
      "max_pooling2d_6 (MaxPooling2 (None, 49, 49, 32)        0         \n",
      "_________________________________________________________________\n",
      "dropout_8 (Dropout)          (None, 49, 49, 32)        0         \n",
      "_________________________________________________________________\n",
      "conv2d_7 (Conv2D)            (None, 47, 47, 64)        18496     \n",
      "_________________________________________________________________\n",
      "max_pooling2d_7 (MaxPooling2 (None, 23, 23, 64)        0         \n",
      "_________________________________________________________________\n",
      "dropout_9 (Dropout)          (None, 23, 23, 64)        0         \n",
      "_________________________________________________________________\n",
      "conv2d_8 (Conv2D)            (None, 21, 21, 128)       73856     \n",
      "_________________________________________________________________\n",
      "max_pooling2d_8 (MaxPooling2 (None, 10, 10, 128)       0         \n",
      "_________________________________________________________________\n",
      "dropout_10 (Dropout)         (None, 10, 10, 128)       0         \n",
      "_________________________________________________________________\n",
      "conv2d_9 (Conv2D)            (None, 7, 7, 128)         262272    \n",
      "_________________________________________________________________\n",
      "max_pooling2d_9 (MaxPooling2 (None, 3, 3, 128)         0         \n",
      "_________________________________________________________________\n",
      "dropout_11 (Dropout)         (None, 3, 3, 128)         0         \n",
      "_________________________________________________________________\n",
      "flatten_2 (Flatten)          (None, 1152)              0         \n",
      "_________________________________________________________________\n",
      "dense_4 (Dense)              (None, 512)               590336    \n",
      "_________________________________________________________________\n",
      "dropout_12 (Dropout)         (None, 512)               0         \n",
      "_________________________________________________________________\n",
      "dense_5 (Dense)              (None, 43)                22059     \n",
      "=================================================================\n",
      "Total params: 967,179\n",
      "Trainable params: 967,179\n",
      "Non-trainable params: 0\n",
      "_________________________________________________________________\n"
     ]
    }
   ],
   "source": [
    "from tensorflow.keras import layers\n",
    "from tensorflow.keras import models\n",
    "\n",
    "model = models.Sequential()\n",
    "model.add(layers.Conv2D(32, (2, 2), activation='relu', input_shape=(100, 100, 1)))\n",
    "model.add(layers.MaxPooling2D((2, 2)))\n",
    "model.add(layers.Dropout(0.15))\n",
    "model.add(layers.Conv2D(64, (3, 3), activation='relu'))\n",
    "model.add(layers.MaxPooling2D((2, 2) ))\n",
    "model.add(layers.Dropout(0.15))\n",
    "model.add(layers.Conv2D(128, (3, 3), activation='relu'))\n",
    "model.add(layers.MaxPooling2D((2, 2) ))\n",
    "model.add(layers.Dropout(0.15))\n",
    "model.add(layers.Conv2D(128, (4, 4), activation='relu'))\n",
    "model.add(layers.MaxPooling2D((2, 2) ))\n",
    "model.add(layers.Dropout(0.1))\n",
    "model.add(layers.Flatten())\n",
    "model.add(layers.Dense(512, activation='relu'))\n",
    "model.add(layers.Dropout(0.4))\n",
    "model.add(layers.Dense (43, activation='softmax'))\n",
    "\n",
    "model.summary()"
   ]
  },
  {
   "cell_type": "code",
   "execution_count": 29,
   "id": "endless-carroll",
   "metadata": {},
   "outputs": [],
   "source": [
    "#compilation\n",
    "model.compile(loss=\"categorical_crossentropy\", optimizer=optimizers.RMSprop(lr=1e-4), metrics=[\"acc\"])"
   ]
  },
  {
   "cell_type": "code",
   "execution_count": 30,
   "id": "normal-volleyball",
   "metadata": {},
   "outputs": [
    {
     "name": "stdout",
     "output_type": "stream",
     "text": [
      "Epoch 1/100\n",
      "1373/1373 [==============================] - 79s 57ms/step - loss: 51.8019 - acc: 0.0704 - val_loss: 43.5992 - val_acc: 0.3755\n",
      "Epoch 2/100\n",
      "1373/1373 [==============================] - 74s 54ms/step - loss: 1141.6820 - acc: 0.2084 - val_loss: 4382.6973 - val_acc: 0.5036\n",
      "Epoch 3/100\n",
      "1373/1373 [==============================] - 74s 54ms/step - loss: 41721.0396 - acc: 0.2956 - val_loss: 69036.4141 - val_acc: 0.5396\n",
      "Epoch 4/100\n",
      "1373/1373 [==============================] - 74s 54ms/step - loss: 342661.7617 - acc: 0.3483 - val_loss: 333600.0938 - val_acc: 0.6150\n",
      "Epoch 5/100\n",
      "1373/1373 [==============================] - 75s 54ms/step - loss: 1505530.3392 - acc: 0.3988 - val_loss: 1598526.7500 - val_acc: 0.5929\n",
      "Epoch 6/100\n",
      "1373/1373 [==============================] - 72s 52ms/step - loss: 5133268.8717 - acc: 0.4161 - val_loss: 4314118.5000 - val_acc: 0.6500\n",
      "Epoch 7/100\n",
      "1373/1373 [==============================] - 70s 51ms/step - loss: 13355284.5801 - acc: 0.4276 - val_loss: 9885943.0000 - val_acc: 0.6375\n",
      "Epoch 8/100\n",
      "1373/1373 [==============================] - 69s 51ms/step - loss: 22147726.7511 - acc: 0.4789 - val_loss: 16220387.0000 - val_acc: 0.6546\n",
      "Epoch 9/100\n",
      "1373/1373 [==============================] - 69s 50ms/step - loss: 37806670.0902 - acc: 0.4950 - val_loss: 26666210.0000 - val_acc: 0.6757\n",
      "Epoch 10/100\n",
      "1373/1373 [==============================] - 69s 50ms/step - loss: 59539778.0961 - acc: 0.5039 - val_loss: 39301808.0000 - val_acc: 0.6998\n",
      "Epoch 11/100\n",
      "1373/1373 [==============================] - 69s 50ms/step - loss: 91412755.3799 - acc: 0.5180 - val_loss: 59819628.0000 - val_acc: 0.7156\n",
      "Epoch 12/100\n",
      "1373/1373 [==============================] - 266s 194ms/step - loss: 127877969.3042 - acc: 0.5346 - val_loss: 90468664.0000 - val_acc: 0.7056\n",
      "Epoch 13/100\n",
      "1373/1373 [==============================] - 73s 53ms/step - loss: 168887693.3566 - acc: 0.5521 - val_loss: 111630720.0000 - val_acc: 0.7282\n",
      "Epoch 14/100\n",
      "1373/1373 [==============================] - 71s 52ms/step - loss: 213250162.5153 - acc: 0.5620 - val_loss: 145514672.0000 - val_acc: 0.7212\n",
      "Epoch 15/100\n",
      "1373/1373 [==============================] - 70s 51ms/step - loss: 240680057.1994 - acc: 0.5890 - val_loss: 194724368.0000 - val_acc: 0.7297\n",
      "Epoch 16/100\n",
      "1373/1373 [==============================] - 71s 52ms/step - loss: 317364074.1310 - acc: 0.5810 - val_loss: 237980320.0000 - val_acc: 0.7223\n",
      "Epoch 17/100\n",
      "1373/1373 [==============================] - 74s 54ms/step - loss: 402289539.6565 - acc: 0.5828 - val_loss: 294205056.0000 - val_acc: 0.7405\n",
      "Epoch 18/100\n",
      "1373/1373 [==============================] - 71s 51ms/step - loss: 519470987.3886 - acc: 0.5773 - val_loss: 321494592.0000 - val_acc: 0.7341\n",
      "Epoch 19/100\n",
      "1373/1373 [==============================] - 89s 65ms/step - loss: 534751317.2868 - acc: 0.6017 - val_loss: 395259872.0000 - val_acc: 0.7445\n",
      "Epoch 20/100\n",
      "1373/1373 [==============================] - 70s 51ms/step - loss: 593170419.6798 - acc: 0.6120 - val_loss: 523517984.0000 - val_acc: 0.7381\n",
      "Epoch 21/100\n",
      "1373/1373 [==============================] - 70s 51ms/step - loss: 677442125.3217 - acc: 0.6158 - val_loss: 535653408.0000 - val_acc: 0.7541\n",
      "Epoch 22/100\n",
      "1373/1373 [==============================] - 70s 51ms/step - loss: 715677994.4338 - acc: 0.6343 - val_loss: 616952640.0000 - val_acc: 0.7538\n",
      "Epoch 23/100\n",
      "1373/1373 [==============================] - 70s 51ms/step - loss: 776320460.1805 - acc: 0.6331 - val_loss: 659806272.0000 - val_acc: 0.7463\n",
      "Epoch 24/100\n",
      "1373/1373 [==============================] - 70s 51ms/step - loss: 813807343.6041 - acc: 0.6373 - val_loss: 788500096.0000 - val_acc: 0.7538\n",
      "Epoch 25/100\n",
      "1373/1373 [==============================] - 74s 54ms/step - loss: 877371126.5910 - acc: 0.6423 - val_loss: 804399744.0000 - val_acc: 0.7604\n",
      "Epoch 26/100\n",
      "1373/1373 [==============================] - 70s 51ms/step - loss: 949170005.9622 - acc: 0.6431 - val_loss: 936413568.0000 - val_acc: 0.7285\n",
      "Epoch 27/100\n",
      "1373/1373 [==============================] - 70s 51ms/step - loss: 941228058.0378 - acc: 0.6586 - val_loss: 985260160.0000 - val_acc: 0.7168\n",
      "Epoch 28/100\n",
      "1373/1373 [==============================] - 72s 52ms/step - loss: 964256612.5648 - acc: 0.6623 - val_loss: 989018496.0000 - val_acc: 0.7572\n",
      "Epoch 29/100\n",
      "1373/1373 [==============================] - 74s 54ms/step - loss: 1027650519.3828 - acc: 0.6653 - val_loss: 1101203200.0000 - val_acc: 0.7498\n",
      "Epoch 30/100\n",
      "1373/1373 [==============================] - 72s 53ms/step - loss: 1087459530.9229 - acc: 0.6694 - val_loss: 1060879808.0000 - val_acc: 0.7395\n",
      "Epoch 31/100\n",
      "1373/1373 [==============================] - 70s 51ms/step - loss: 1100409954.2358 - acc: 0.6704 - val_loss: 1309915008.0000 - val_acc: 0.7773\n",
      "Epoch 32/100\n",
      "1373/1373 [==============================] - 70s 51ms/step - loss: 1230301013.3333 - acc: 0.6714 - val_loss: 1250935424.0000 - val_acc: 0.7687\n",
      "Epoch 33/100\n",
      "1373/1373 [==============================] - 69s 51ms/step - loss: 1177281766.1951 - acc: 0.6811 - val_loss: 1234726272.0000 - val_acc: 0.7649\n",
      "Epoch 34/100\n",
      "1373/1373 [==============================] - 70s 51ms/step - loss: 1302894636.5298 - acc: 0.6766 - val_loss: 1589530112.0000 - val_acc: 0.7496\n",
      "Epoch 35/100\n",
      "1373/1373 [==============================] - 70s 51ms/step - loss: 1348118914.3755 - acc: 0.6699 - val_loss: 1519851520.0000 - val_acc: 0.7314\n",
      "Epoch 36/100\n",
      "1373/1373 [==============================] - 69s 51ms/step - loss: 1347158725.0597 - acc: 0.6850 - val_loss: 1446496768.0000 - val_acc: 0.7548\n",
      "Epoch 37/100\n",
      "1373/1373 [==============================] - 69s 51ms/step - loss: 1478808080.7686 - acc: 0.6827 - val_loss: 1788757376.0000 - val_acc: 0.7848\n",
      "Epoch 38/100\n",
      "1373/1373 [==============================] - 69s 51ms/step - loss: 1486900792.1747 - acc: 0.6880 - val_loss: 1875039488.0000 - val_acc: 0.7024\n",
      "Epoch 39/100\n",
      "1373/1373 [==============================] - 70s 51ms/step - loss: 1415985881.0131 - acc: 0.6933 - val_loss: 1762702336.0000 - val_acc: 0.7585\n",
      "Epoch 40/100\n",
      "1373/1373 [==============================] - 70s 51ms/step - loss: 1557378094.3930 - acc: 0.6930 - val_loss: 2092632704.0000 - val_acc: 0.7479\n",
      "Epoch 41/100\n",
      "1373/1373 [==============================] - 69s 51ms/step - loss: 1538491519.7205 - acc: 0.7049 - val_loss: 1991700992.0000 - val_acc: 0.7651\n",
      "Epoch 42/100\n",
      "1373/1373 [==============================] - 70s 51ms/step - loss: 1630878472.1980 - acc: 0.7012 - val_loss: 2137458176.0000 - val_acc: 0.7691\n",
      "Epoch 43/100\n",
      "1373/1373 [==============================] - 72s 53ms/step - loss: 1682572179.9127 - acc: 0.7019 - val_loss: 2294150400.0000 - val_acc: 0.7723\n",
      "Epoch 44/100\n",
      "1373/1373 [==============================] - 73s 53ms/step - loss: 1690765469.1587 - acc: 0.7022 - val_loss: 2496045312.0000 - val_acc: 0.7478\n",
      "Epoch 45/100\n",
      "1373/1373 [==============================] - 71s 52ms/step - loss: 1677481907.0509 - acc: 0.7074 - val_loss: 2253712128.0000 - val_acc: 0.7725\n",
      "Epoch 46/100\n",
      "1373/1373 [==============================] - 74s 54ms/step - loss: 1850797001.8748 - acc: 0.7040 - val_loss: 2360130816.0000 - val_acc: 0.7784\n",
      "Epoch 47/100\n",
      "1373/1373 [==============================] - 70s 51ms/step - loss: 1696242185.2227 - acc: 0.7057 - val_loss: 2687792128.0000 - val_acc: 0.7513\n",
      "Epoch 48/100\n",
      "1373/1373 [==============================] - 70s 51ms/step - loss: 1926843065.6186 - acc: 0.7028 - val_loss: 2566167552.0000 - val_acc: 0.7649\n",
      "Epoch 49/100\n",
      "1373/1373 [==============================] - 71s 52ms/step - loss: 1842261351.0335 - acc: 0.7106 - val_loss: 2458481664.0000 - val_acc: 0.7764\n",
      "Epoch 50/100\n",
      "1373/1373 [==============================] - 70s 51ms/step - loss: 1724622133.2868 - acc: 0.7247 - val_loss: 2934764800.0000 - val_acc: 0.7827\n",
      "Epoch 51/100\n",
      "1373/1373 [==============================] - 70s 51ms/step - loss: 1829621498.1310 - acc: 0.7175 - val_loss: 2958543104.0000 - val_acc: 0.7543\n",
      "Epoch 52/100\n",
      "1373/1373 [==============================] - 70s 51ms/step - loss: 1804479728.2562 - acc: 0.7211 - val_loss: 3044138752.0000 - val_acc: 0.7795\n",
      "Epoch 53/100\n",
      "1373/1373 [==============================] - 71s 52ms/step - loss: 1925424222.9287 - acc: 0.7190 - val_loss: 3100140544.0000 - val_acc: 0.7891\n",
      "Epoch 54/100\n",
      "1373/1373 [==============================] - 72s 52ms/step - loss: 2073869616.1164 - acc: 0.7210 - val_loss: 3246842112.0000 - val_acc: 0.7973\n",
      "Epoch 55/100\n",
      "1373/1373 [==============================] - 72s 53ms/step - loss: 1923823238.6143 - acc: 0.7223 - val_loss: 3746796032.0000 - val_acc: 0.7855\n",
      "Epoch 56/100\n",
      "1373/1373 [==============================] - 72s 53ms/step - loss: 2285303264.1164 - acc: 0.7209 - val_loss: 3772363520.0000 - val_acc: 0.7778\n",
      "Epoch 57/100\n",
      "1373/1373 [==============================] - 72s 53ms/step - loss: 2159311342.9520 - acc: 0.7232 - val_loss: 3573884672.0000 - val_acc: 0.7740\n",
      "Epoch 58/100\n",
      "1373/1373 [==============================] - 72s 52ms/step - loss: 2187821657.4323 - acc: 0.7289 - val_loss: 3701527552.0000 - val_acc: 0.7773\n",
      "Epoch 59/100\n",
      "1373/1373 [==============================] - 70s 51ms/step - loss: 2326552865.2576 - acc: 0.7261 - val_loss: 3819255040.0000 - val_acc: 0.7673\n",
      "Epoch 60/100\n",
      "1373/1373 [==============================] - 70s 51ms/step - loss: 2450831387.7613 - acc: 0.7266 - val_loss: 4058747648.0000 - val_acc: 0.7712\n",
      "Epoch 61/100\n",
      "1373/1373 [==============================] - 70s 51ms/step - loss: 2396023243.0044 - acc: 0.7332 - val_loss: 4187381504.0000 - val_acc: 0.7913\n",
      "Epoch 62/100\n",
      "1373/1373 [==============================] - 70s 51ms/step - loss: 2402339841.2111 - acc: 0.7394 - val_loss: 3870720256.0000 - val_acc: 0.7729\n",
      "Epoch 63/100\n",
      "1373/1373 [==============================] - 70s 51ms/step - loss: 2590118711.1499 - acc: 0.7341 - val_loss: 4088550656.0000 - val_acc: 0.7928\n",
      "Epoch 64/100\n",
      "1373/1373 [==============================] - 70s 51ms/step - loss: 2610961442.0029 - acc: 0.7376 - val_loss: 4504450048.0000 - val_acc: 0.7893\n",
      "Epoch 65/100\n",
      "1373/1373 [==============================] - 71s 52ms/step - loss: 2656529072.5357 - acc: 0.7357 - val_loss: 4987012608.0000 - val_acc: 0.7796\n",
      "Epoch 66/100\n",
      "1373/1373 [==============================] - 73s 53ms/step - loss: 2735194944.1863 - acc: 0.7376 - val_loss: 4718411776.0000 - val_acc: 0.7804\n",
      "Epoch 67/100\n",
      "1373/1373 [==============================] - 75s 55ms/step - loss: 2800264513.0247 - acc: 0.7356 - val_loss: 5205278720.0000 - val_acc: 0.8000\n",
      "Epoch 68/100\n",
      "1373/1373 [==============================] - 73s 53ms/step - loss: 2872955035.6681 - acc: 0.7426 - val_loss: 4728038400.0000 - val_acc: 0.7615\n",
      "Epoch 69/100\n",
      "1373/1373 [==============================] - 70s 51ms/step - loss: 2995408347.6681 - acc: 0.7350 - val_loss: 4668306432.0000 - val_acc: 0.8004\n",
      "Epoch 70/100\n",
      "1373/1373 [==============================] - 70s 51ms/step - loss: 2978529964.9025 - acc: 0.7428 - val_loss: 5113007616.0000 - val_acc: 0.7700\n",
      "Epoch 71/100\n",
      "1373/1373 [==============================] - 70s 51ms/step - loss: 2994378987.4119 - acc: 0.7441 - val_loss: 5061031936.0000 - val_acc: 0.7961\n",
      "Epoch 72/100\n",
      "1373/1373 [==============================] - 70s 51ms/step - loss: 2991313251.8661 - acc: 0.7398 - val_loss: 6046874624.0000 - val_acc: 0.7854\n",
      "Epoch 73/100\n",
      "1373/1373 [==============================] - 70s 51ms/step - loss: 3108018638.6259 - acc: 0.7503 - val_loss: 5465565184.0000 - val_acc: 0.7696\n",
      "Epoch 74/100\n",
      "1373/1373 [==============================] - 73s 53ms/step - loss: 3132603832.8268 - acc: 0.7410 - val_loss: 6025047040.0000 - val_acc: 0.7938\n",
      "Epoch 75/100\n",
      "1373/1373 [==============================] - 72s 52ms/step - loss: 2986026705.9330 - acc: 0.7512 - val_loss: 5859070464.0000 - val_acc: 0.7848\n",
      "Epoch 76/100\n",
      "1373/1373 [==============================] - 72s 52ms/step - loss: 3234126319.4178 - acc: 0.7517 - val_loss: 5804154368.0000 - val_acc: 0.7907\n",
      "Epoch 77/100\n",
      "1373/1373 [==============================] - 74s 54ms/step - loss: 3197307098.1776 - acc: 0.7486 - val_loss: 6557286400.0000 - val_acc: 0.7915\n",
      "Epoch 78/100\n",
      "1373/1373 [==============================] - 70s 51ms/step - loss: 3348435247.5109 - acc: 0.7547 - val_loss: 6580314112.0000 - val_acc: 0.7708\n",
      "Epoch 79/100\n",
      "1373/1373 [==============================] - 70s 51ms/step - loss: 3719786648.0349 - acc: 0.7517 - val_loss: 6726049280.0000 - val_acc: 0.7935\n",
      "Epoch 80/100\n",
      "1373/1373 [==============================] - 70s 51ms/step - loss: 3562824299.8195 - acc: 0.7533 - val_loss: 7046479360.0000 - val_acc: 0.7998\n",
      "Epoch 81/100\n",
      "1373/1373 [==============================] - 71s 52ms/step - loss: 3703037393.7933 - acc: 0.7516 - val_loss: 7341880320.0000 - val_acc: 0.7924\n",
      "Epoch 82/100\n",
      "1373/1373 [==============================] - 73s 53ms/step - loss: 3817997619.9825 - acc: 0.7525 - val_loss: 7701405696.0000 - val_acc: 0.7922\n",
      "Epoch 83/100\n",
      "1373/1373 [==============================] - 75s 55ms/step - loss: 3558704367.4178 - acc: 0.7619 - val_loss: 7484639232.0000 - val_acc: 0.7928\n",
      "Epoch 84/100\n",
      "1373/1373 [==============================] - 74s 54ms/step - loss: 3887976233.2111 - acc: 0.7578 - val_loss: 7335203840.0000 - val_acc: 0.7908\n",
      "Epoch 85/100\n",
      "1373/1373 [==============================] - 74s 54ms/step - loss: 3730185216.3261 - acc: 0.7587 - val_loss: 8026130944.0000 - val_acc: 0.7742\n",
      "Epoch 86/100\n",
      "1373/1373 [==============================] - 73s 53ms/step - loss: 3642130818.5153 - acc: 0.7634 - val_loss: 8269250048.0000 - val_acc: 0.7793\n",
      "Epoch 87/100\n",
      "1373/1373 [==============================] - 74s 54ms/step - loss: 4275772979.9825 - acc: 0.7590 - val_loss: 8239473664.0000 - val_acc: 0.7727\n",
      "Epoch 88/100\n",
      "1373/1373 [==============================] - 78s 57ms/step - loss: 4075620394.4803 - acc: 0.7602 - val_loss: 9405113344.0000 - val_acc: 0.7890\n",
      "Epoch 89/100\n",
      "1373/1373 [==============================] - 77s 56ms/step - loss: 4058387793.4207 - acc: 0.7578 - val_loss: 8896891904.0000 - val_acc: 0.7860\n",
      "Epoch 90/100\n",
      "1373/1373 [==============================] - 77s 56ms/step - loss: 4496611751.1266 - acc: 0.7610 - val_loss: 9123335168.0000 - val_acc: 0.7971\n",
      "Epoch 91/100\n",
      "1373/1373 [==============================] - 77s 56ms/step - loss: 4468475582.7889 - acc: 0.7579 - val_loss: 9443598336.0000 - val_acc: 0.7769\n",
      "Epoch 92/100\n",
      "1373/1373 [==============================] - 76s 55ms/step - loss: 4072083831.1499 - acc: 0.7675 - val_loss: 10045958144.0000 - val_acc: 0.7723\n",
      "Epoch 93/100\n",
      "1373/1373 [==============================] - 77s 56ms/step - loss: 4806235862.6376 - acc: 0.7582 - val_loss: 9643153408.0000 - val_acc: 0.7832\n",
      "Epoch 94/100\n",
      "1373/1373 [==============================] - 78s 57ms/step - loss: 4649656741.5429 - acc: 0.7598 - val_loss: 9432891392.0000 - val_acc: 0.7956\n",
      "Epoch 95/100\n",
      "1373/1373 [==============================] - 77s 56ms/step - loss: 4910104640.6521 - acc: 0.7565 - val_loss: 10459127808.0000 - val_acc: 0.7873\n",
      "Epoch 96/100\n",
      "1373/1373 [==============================] - 76s 55ms/step - loss: 5199504063.1616 - acc: 0.7607 - val_loss: 9852582912.0000 - val_acc: 0.7992\n",
      "Epoch 97/100\n",
      "1373/1373 [==============================] - 75s 55ms/step - loss: 5185806903.5226 - acc: 0.7653 - val_loss: 9768593408.0000 - val_acc: 0.8079\n",
      "Epoch 98/100\n",
      "1373/1373 [==============================] - 75s 55ms/step - loss: 4948124085.6594 - acc: 0.7668 - val_loss: 11354304512.0000 - val_acc: 0.8054\n",
      "Epoch 99/100\n",
      "1373/1373 [==============================] - 83s 60ms/step - loss: 5676444231.1732 - acc: 0.7639 - val_loss: 11628911616.0000 - val_acc: 0.8081\n",
      "Epoch 100/100\n",
      "1373/1373 [==============================] - 76s 56ms/step - loss: 5580798833.9330 - acc: 0.7662 - val_loss: 9436673024.0000 - val_acc: 0.8172\n"
     ]
    }
   ],
   "source": [
    "history = model.fit(\n",
    "    train_generator,\n",
    "    epochs=100,\n",
    "    validation_data=validation_generator,\n",
    "    )"
   ]
  },
  {
   "cell_type": "code",
   "execution_count": 31,
   "id": "physical-assumption",
   "metadata": {},
   "outputs": [
    {
     "name": "stdout",
     "output_type": "stream",
     "text": [
      "WARNING:tensorflow:FOR KERAS USERS: The object that you are saving contains one or more Keras models or layers. If you are loading the SavedModel with `tf.keras.models.load_model`, continue reading (otherwise, you may ignore the following instructions). Please change your code to save with `tf.keras.models.save_model` or `model.save`, and confirm that the file \"keras.metadata\" exists in the export directory. In the future, Keras will only load the SavedModels that have this file. In other words, `tf.saved_model.save` will no longer write SavedModels that can be recovered as Keras models (this will apply in TF 2.5).\n",
      "\n",
      "FOR DEVS: If you are overwriting _tracking_metadata in your class, this property has been used to save metadata in the SavedModel. The metadta field will be deprecated soon, so please move the metadata to a different file.\n",
      "INFO:tensorflow:Assets written to: model_all_data_4ConvLayers_down_normalization/assets\n"
     ]
    }
   ],
   "source": [
    "model.save('model_all_data_4ConvLayers_down_normalization')"
   ]
  },
  {
   "cell_type": "code",
   "execution_count": 32,
   "id": "polish-nebraska",
   "metadata": {},
   "outputs": [],
   "source": [
    "save_hist_to_excel('history_model_all_data_4ConvLayers_down_normalization')"
   ]
  },
  {
   "cell_type": "code",
   "execution_count": 33,
   "id": "premium-chick",
   "metadata": {},
   "outputs": [
    {
     "data": {
      "image/png": "[encoded data removed]",
      "text/plain": [
       "<Figure size 1440x576 with 1 Axes>"
      ]
     },
     "metadata": {
      "needs_background": "light"
     },
     "output_type": "display_data"
    },
    {
     "data": {
      "image/png": "[encoded data removed]",
      "text/plain": [
       "<Figure size 1440x576 with 1 Axes>"
      ]
     },
     "metadata": {
      "needs_background": "light"
     },
     "output_type": "display_data"
    }
   ],
   "source": [
    "#Displaying curves of loss and accuracy during training\n",
    "\n",
    "import matplotlib.pyplot as plt\n",
    "\n",
    "acc = history.history[\"acc\"]\n",
    "val_acc = history.history[\"val_acc\"]\n",
    "loss = history.history[\"loss\"]\n",
    "val_loss = history.history[\"val_loss\"]\n",
    "\n",
    "epochs = range(1, len(acc) + 1)\n",
    "\n",
    "plt.plot(epochs, acc, \"bo\", label=\"Training acc\")\n",
    "plt.plot(epochs, val_acc, \"b\", label=\"Validation acc\")\n",
    "plt.title(\"Training and validation accuracy\")\n",
    "plt.legend()\n",
    "\n",
    "plt.show()\n",
    "\n",
    "plt.plot(epochs, loss, \"bo\", label=\"Training loss\")\n",
    "plt.plot(epochs, val_loss, \"b\", label=\"Validation loss\")\n",
    "plt.title(\"Training and validation loss\")\n",
    "plt.legend()\n",
    "\n",
    "plt.show()"
   ]
  },
  {
   "cell_type": "code",
   "execution_count": null,
   "id": "stunning-monitoring",
   "metadata": {},
   "outputs": [],
   "source": []
  }
 ],
 "metadata": {
  "kernelspec": {
   "display_name": "Python 3",
   "language": "python",
   "name": "python3"
  },
  "language_info": {
   "codemirror_mode": {
    "name": "ipython",
    "version": 3
   },
   "file_extension": ".py",
   "mimetype": "text/x-python",
   "name": "python",
   "nbconvert_exporter": "python",
   "pygments_lexer": "ipython3",
   "version": "3.8.5"
  }
 },
 "nbformat": 4,
 "nbformat_minor": 5
}

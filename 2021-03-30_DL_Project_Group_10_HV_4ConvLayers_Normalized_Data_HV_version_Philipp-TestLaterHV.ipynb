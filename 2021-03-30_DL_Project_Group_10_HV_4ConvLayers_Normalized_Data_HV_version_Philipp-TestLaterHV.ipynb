{
 "cells": [
  {
   "cell_type": "markdown",
   "id": "determined-remark",
   "metadata": {},
   "source": [
    "# Deep Learning Project - Traffic Signs Image Classification"
   ]
  },
  {
   "cell_type": "code",
   "execution_count": 1,
   "id": "authentic-cyprus",
   "metadata": {},
   "outputs": [],
   "source": [
    "import os, shutil\n",
    "import pandas as pd\n",
    "import seaborn as sns\n",
    "import matplotlib.pyplot as plt"
   ]
  },
  {
   "cell_type": "code",
   "execution_count": 2,
   "id": "prescription-conspiracy",
   "metadata": {},
   "outputs": [],
   "source": [
    "def save_hist_to_excel(filename):\n",
    "    df = pd.DataFrame(history.history)\n",
    "    df.to_excel(filename + '.xlsx')"
   ]
  },
  {
   "cell_type": "markdown",
   "id": "vietnamese-attention",
   "metadata": {},
   "source": [
    "## Overview of the training data"
   ]
  },
  {
   "cell_type": "code",
   "execution_count": 42,
   "id": "civic-alberta",
   "metadata": {},
   "outputs": [
    {
     "name": "stdout",
     "output_type": "stream",
     "text": [
      "There are 43 different classes within the training data!\n"
     ]
    }
   ],
   "source": [
    "#setting the training directory (the training images can be found there, already sorted by class into folders)\n",
    "base_training_dir = \"/Users/henriquevaz/NOVA IMS/YEAR 1/SPRING SEMESTER/DL/Project/my_notebooks/Data/Training/Final_Training/Images/\"\n",
    "#base_training_dir = \"/Users/philippmetzger/Documents/GitHub/Deep_Learning_Project_Group_10/Data/GTSRB_Final_Training_Images/GTSRB/Final_Training/Images/\"\n",
    "\n",
    "#setting the directory where the selected training and validation images will be stored in\n",
    "created_dir = \"/Users/henriquevaz/NOVA IMS/YEAR 1/SPRING SEMESTER/DL/Project/my_notebooks/Data/Selected\"\n",
    "#created_dir = \"/Users/philippmetzger/Documents/GitHub/Deep_Learning_Project_Group_10/Data/Selected\"\n",
    "\n",
    "#storing all the folder names that belong to the respective classes\n",
    "all_classes = sorted(i for i in os.listdir(base_training_dir) if i.startswith(\"0\"))\n",
    "\n",
    "print(\"There are\", len(all_classes), \"different classes within the training data!\")"
   ]
  },
  {
   "cell_type": "code",
   "execution_count": 43,
   "id": "passing-copper",
   "metadata": {},
   "outputs": [],
   "source": [
    "#getting the number of images within each class of the training data\n",
    "amount_per_class = {}\n",
    "\n",
    "for i in range(len(all_classes)):\n",
    "    directory = base_training_dir + \"/\" + all_classes[i]\n",
    "    amount_per_class[i] = len(sorted(i for i in os.listdir(directory) if i.startswith(\"0\")))\n",
    "\n",
    "amount_per_class_df = pd.DataFrame.from_dict(amount_per_class, orient='index').rename(columns={0:\"amount\"})\n",
    "amount_per_class_df.index.name = 'class'\n",
    "\n",
    "#remove the \"#\" of the following line to display the number of images within each class\n",
    "#amount_per_class_df"
   ]
  },
  {
   "cell_type": "code",
   "execution_count": 44,
   "id": "smart-notification",
   "metadata": {},
   "outputs": [
    {
     "data": {
      "image/png": "[encoded data removed]",
      "text/plain": [
       "<Figure size 1440x576 with 1 Axes>"
      ]
     },
     "metadata": {
      "needs_background": "light"
     },
     "output_type": "display_data"
    }
   ],
   "source": [
    "#displaying the number of images per class visually\n",
    "\n",
    "plt.rcParams[\"figure.figsize\"] = (20,8)\n",
    "fig, ax = plt.subplots()\n",
    "plt.bar(amount_per_class_df.index, amount_per_class_df.amount)\n",
    "plt.title(\"Number of images per class\", fontsize=20)\n",
    "plt.xlabel('class', fontsize=18)\n",
    "plt.ylabel('number of images', fontsize=18)\n",
    "ax.spines['right'].set_visible(False)\n",
    "ax.spines['top'].set_visible(False)\n",
    "plt.xticks(amount_per_class_df.index)\n",
    "plt.grid(axis=\"y\")\n",
    "plt.show()"
   ]
  },
  {
   "cell_type": "markdown",
   "id": "contained-certification",
   "metadata": {},
   "source": [
    "As it can be seen in the bar chart, the dataset is highly unbalanced. Some classes have over 2000 instances, while others only have 210."
   ]
  },
  {
   "cell_type": "code",
   "execution_count": 45,
   "id": "exempt-married",
   "metadata": {},
   "outputs": [
    {
     "data": {
      "text/html": [
       "<div>\n",
       "<style scoped>\n",
       "    .dataframe tbody tr th:only-of-type {\n",
       "        vertical-align: middle;\n",
       "    }\n",
       "\n",
       "    .dataframe tbody tr th {\n",
       "        vertical-align: top;\n",
       "    }\n",
       "\n",
       "    .dataframe thead th {\n",
       "        text-align: right;\n",
       "    }\n",
       "</style>\n",
       "<table border=\"1\" class=\"dataframe\">\n",
       "  <thead>\n",
       "    <tr style=\"text-align: right;\">\n",
       "      <th>class</th>\n",
       "      <th>0</th>\n",
       "      <th>37</th>\n",
       "      <th>19</th>\n",
       "      <th>32</th>\n",
       "      <th>27</th>\n",
       "      <th>41</th>\n",
       "      <th>42</th>\n",
       "      <th>24</th>\n",
       "      <th>29</th>\n",
       "      <th>39</th>\n",
       "      <th>21</th>\n",
       "      <th>40</th>\n",
       "      <th>20</th>\n",
       "      <th>36</th>\n",
       "      <th>22</th>\n",
       "      <th>6</th>\n",
       "      <th>16</th>\n",
       "      <th>34</th>\n",
       "      <th>30</th>\n",
       "      <th>23</th>\n",
       "    </tr>\n",
       "  </thead>\n",
       "  <tbody>\n",
       "    <tr>\n",
       "      <th>amount</th>\n",
       "      <td>210</td>\n",
       "      <td>210</td>\n",
       "      <td>210</td>\n",
       "      <td>240</td>\n",
       "      <td>240</td>\n",
       "      <td>240</td>\n",
       "      <td>240</td>\n",
       "      <td>270</td>\n",
       "      <td>270</td>\n",
       "      <td>300</td>\n",
       "      <td>330</td>\n",
       "      <td>360</td>\n",
       "      <td>360</td>\n",
       "      <td>390</td>\n",
       "      <td>390</td>\n",
       "      <td>420</td>\n",
       "      <td>420</td>\n",
       "      <td>420</td>\n",
       "      <td>450</td>\n",
       "      <td>510</td>\n",
       "    </tr>\n",
       "  </tbody>\n",
       "</table>\n",
       "</div>"
      ],
      "text/plain": [
       "class    0    37   19   32   27   41   42   24   29   39   21   40   20   36  \\\n",
       "amount  210  210  210  240  240  240  240  270  270  300  330  360  360  390   \n",
       "\n",
       "class    22   6    16   34   30   23  \n",
       "amount  390  420  420  420  450  510  "
      ]
     },
     "execution_count": 45,
     "metadata": {},
     "output_type": "execute_result"
    }
   ],
   "source": [
    "#displaying the 20 classes with the fewest images\n",
    "amount_per_class_df.sort_values(\"amount\").head(20).T"
   ]
  },
  {
   "cell_type": "markdown",
   "id": "favorite-romance",
   "metadata": {},
   "source": [
    "Within each class, there are several groups of images, that belong together (these are basically all images of the very same traffic sign, that just differ in that they were made as a series while approaching the actual sign). These series of images shouldn't be splitted later when the data is split into training and validation sets, so some precautions might be useful:"
   ]
  },
  {
   "cell_type": "code",
   "execution_count": 46,
   "id": "closed-romania",
   "metadata": {},
   "outputs": [
    {
     "name": "stdout",
     "output_type": "stream",
     "text": [
      "There is a series whose number doesn't match the others in class 00033 , with the prefix 00019 !\n",
      "It only contains 29 images.\n",
      "All the other series of images contain exactly 30 images!\n"
     ]
    }
   ],
   "source": [
    "#checking the size(=amount of images) of these series and whether they are all having the same size\n",
    "\n",
    "#running a for loop over all classes\n",
    "for i in range(len(all_classes)):\n",
    "    directory = base_training_dir + \"/\" + all_classes[i]\n",
    "    \n",
    "    #get the names of all images within a class\n",
    "    list_of_images = sorted(i for i in os.listdir(directory) if i.startswith(\"0\"))\n",
    "\n",
    "    image_series = []\n",
    "    \n",
    "    #store all the prefixes of the images (which correspond to the series they belong to)\n",
    "    for element in list_of_images:\n",
    "        image_series.append(element.split(\"_\")[0])\n",
    "    \n",
    "    #count the frequency of each prefix, which equals the size of each respective series\n",
    "    image_counts = pd.Series(image_series).value_counts().sort_index()\n",
    "\n",
    "    for element in image_counts.values.tolist():\n",
    "        if element != image_counts.values.tolist()[0]:\n",
    "            #this line will show if there is a series that contains not the same number of images than the others\n",
    "            print(\"There is a series whose number doesn't match the others in class\", all_classes[i], \", with the prefix\", image_counts.sort_values().index[0], \"!\\nIt only contains\", element, \"images.\")\n",
    "            \n",
    "\n",
    "#apart from only one series, all others consist of exactly 30 images\n",
    "print(\"All the other series of images contain exactly\", image_counts.values.tolist()[0], \"images!\")"
   ]
  },
  {
   "cell_type": "markdown",
   "id": "czech-watson",
   "metadata": {},
   "source": [
    "## Split into training and validation datasets"
   ]
  },
  {
   "cell_type": "markdown",
   "id": "adverse-contents",
   "metadata": {},
   "source": [
    "As already mentioned, it is important for the split into training and validation sets that the individual image series stay together. As a first approach, there will be 210 images used per class, as this number corresponds to the amount of images in the \"smallest\" class. This will fix the problem of imbalance in the dataset. Subsequently, the data will be splitted by a 5:2 (150:60) ratio into training and validation set, in order to guarantee that the series will stay together."
   ]
  },
  {
   "cell_type": "code",
   "execution_count": 3,
   "id": "ordinary-sensitivity",
   "metadata": {},
   "outputs": [],
   "source": [
    "new_train_dir = \"/Users/henriquevaz/NOVA IMS/YEAR 1/SPRING SEMESTER/DL/Project/my_notebooks/Data/Selected/train_all\"\n",
    "new_val_dir = \"/Users/henriquevaz/NOVA IMS/YEAR 1/SPRING SEMESTER/DL/Project/my_notebooks/Data/Selected/val_all\"\n",
    "\n",
    "#new_train_dir = \"/Users/franz/Desktop/DL Project/Selected/train_all\"\n",
    "#new_val_dir = \"/Users/franz/Desktop/DL Project/Selected/val_all\"\n",
    "\n",
    "#new_train_dir = \"/Users/philippmetzger/Documents/GitHub/Deep_Learning_Project_Group_10/Data/Selected/train_all\"\n",
    "#new_val_dir = \"/Users/philippmetzger/Documents/GitHub/Deep_Learning_Project_Group_10/Data/Selected/val_all\""
   ]
  },
  {
   "cell_type": "code",
   "execution_count": 47,
   "id": "color-hardware",
   "metadata": {},
   "outputs": [],
   "source": [
    "for i in range(len(all_classes)):\n",
    "    os.mkdir(new_train_dir + \"/\" + all_classes[i])\n",
    "    os.mkdir(new_val_dir + \"/\" + all_classes[i])"
   ]
  },
  {
   "cell_type": "code",
   "execution_count": 48,
   "id": "absolute-jones",
   "metadata": {},
   "outputs": [],
   "source": [
    "import random\n",
    "\n",
    "for i in range(len(all_classes)):\n",
    "    \n",
    "    list_ = os.listdir(base_training_dir + \"/\" + all_classes[i])\n",
    "    random.shuffle(list_)\n",
    "    new_list = []\n",
    "    for element in list_:\n",
    "        if element.startswith(\"000\"):\n",
    "            new_list.append(element)\n",
    "    \n",
    "    new_list = sorted(new_list)\n",
    "    for image in range(len(new_list)):\n",
    "        \n",
    "        \n",
    "        #setting the cut off according to the next closest number in steps of 30 according to a 70:30 ratio\n",
    "        if len(new_list) == 210 or len(new_list) == 240:\n",
    "            cut = 60\n",
    "        elif len(new_list) == 270 or len(new_list) == 300 or len(new_list) == 330:\n",
    "            cut = 90\n",
    "        elif len(new_list) == 360 or len(new_list) == 390 or len(new_list) == 420:\n",
    "            cut = 120\n",
    "        elif len(new_list) == 450 or len(new_list) == 510 or len(new_list) == 540:\n",
    "            cut = 150\n",
    "        elif len(new_list) == 600 or len(new_list) == 630:\n",
    "            cut = 180\n",
    "        elif len(new_list) == 689:\n",
    "            cut = 210 - 1\n",
    "        elif len(new_list) == 780:\n",
    "            cut = 240\n",
    "        elif len(new_list) == 1110:\n",
    "            cut = 330\n",
    "        elif len(new_list) == 1200:\n",
    "            cut = 360\n",
    "        elif len(new_list) == 1320:\n",
    "            cut = 390\n",
    "        elif len(new_list) == 1410 or len(new_list) == 1440:\n",
    "            cut = 420\n",
    "        elif len(new_list) == 1470 or len(new_list) == 1500:\n",
    "            cut = 450\n",
    "        elif len(new_list) == 1860:\n",
    "            cut = 570\n",
    "        elif len(new_list) == 1980 or len(new_list) == 2010:\n",
    "            cut = 600\n",
    "        elif len(new_list) == 2070 or len(new_list) == 2100:\n",
    "            cut = 630\n",
    "        elif len(new_list) == 2160 or len(new_list) == 2220:\n",
    "            cut = 660\n",
    "        elif len(new_list) == 2250:\n",
    "            cut = 690\n",
    "         \n",
    "        \n",
    "        if image < len(new_list) - cut:\n",
    "            \n",
    "            src = base_training_dir + \"/\" + all_classes[i] + \"/\" + new_list[image]\n",
    "            dst = new_train_dir + \"/\" + all_classes[i] + \"/\"  + new_list[image]\n",
    "            shutil.copyfile(src, dst)\n",
    "            \n",
    "        else:\n",
    "            src = base_training_dir + \"/\" + all_classes[i] + \"/\" + new_list[image]\n",
    "            dst = new_val_dir + \"/\" + all_classes[i] + \"/\"  + new_list[image]\n",
    "            shutil.copyfile(src, dst)"
   ]
  },
  {
   "cell_type": "code",
   "execution_count": 49,
   "id": "timely-diary",
   "metadata": {},
   "outputs": [
    {
     "name": "stdout",
     "output_type": "stream",
     "text": [
      "Class 0 : training set size = 150 ; validation set size: 60\n",
      "Class 1 : training set size = 1560 ; validation set size: 660\n",
      "Class 2 : training set size = 1560 ; validation set size: 690\n",
      "Class 3 : training set size = 990 ; validation set size: 420\n",
      "Class 4 : training set size = 1380 ; validation set size: 600\n",
      "Class 5 : training set size = 1290 ; validation set size: 570\n",
      "Class 6 : training set size = 300 ; validation set size: 120\n",
      "Class 7 : training set size = 1020 ; validation set size: 420\n",
      "Class 8 : training set size = 990 ; validation set size: 420\n",
      "Class 9 : training set size = 1020 ; validation set size: 450\n",
      "Class 10 : training set size = 1410 ; validation set size: 600\n",
      "Class 11 : training set size = 930 ; validation set size: 390\n",
      "Class 12 : training set size = 1470 ; validation set size: 630\n",
      "Class 13 : training set size = 1500 ; validation set size: 660\n",
      "Class 14 : training set size = 540 ; validation set size: 240\n",
      "Class 15 : training set size = 450 ; validation set size: 180\n",
      "Class 16 : training set size = 300 ; validation set size: 120\n",
      "Class 17 : training set size = 780 ; validation set size: 330\n",
      "Class 18 : training set size = 840 ; validation set size: 360\n",
      "Class 19 : training set size = 150 ; validation set size: 60\n",
      "Class 20 : training set size = 240 ; validation set size: 120\n",
      "Class 21 : training set size = 240 ; validation set size: 90\n",
      "Class 22 : training set size = 270 ; validation set size: 120\n",
      "Class 23 : training set size = 360 ; validation set size: 150\n",
      "Class 24 : training set size = 180 ; validation set size: 90\n",
      "Class 25 : training set size = 1050 ; validation set size: 450\n",
      "Class 26 : training set size = 420 ; validation set size: 180\n",
      "Class 27 : training set size = 180 ; validation set size: 60\n",
      "Class 28 : training set size = 390 ; validation set size: 150\n",
      "Class 29 : training set size = 180 ; validation set size: 90\n",
      "Class 30 : training set size = 300 ; validation set size: 150\n",
      "Class 31 : training set size = 540 ; validation set size: 240\n",
      "Class 32 : training set size = 180 ; validation set size: 60\n",
      "Class 33 : training set size = 480 ; validation set size: 209\n",
      "Class 34 : training set size = 300 ; validation set size: 120\n",
      "Class 35 : training set size = 840 ; validation set size: 360\n",
      "Class 36 : training set size = 270 ; validation set size: 120\n",
      "Class 37 : training set size = 150 ; validation set size: 60\n",
      "Class 38 : training set size = 1440 ; validation set size: 630\n",
      "Class 39 : training set size = 210 ; validation set size: 90\n",
      "Class 40 : training set size = 240 ; validation set size: 120\n",
      "Class 41 : training set size = 180 ; validation set size: 60\n",
      "Class 42 : training set size = 180 ; validation set size: 60\n"
     ]
    }
   ],
   "source": [
    "size_per_class_list = []\n",
    "\n",
    "for i in range(len(all_classes)):\n",
    "    size_per_class_list.append([len(os.listdir(new_train_dir + \"/\" + all_classes[i])), len(os.listdir(new_val_dir + \"/\" + all_classes[i]))])\n",
    "    print(\"Class\", i, \": training set size =\", len(os.listdir(new_train_dir + \"/\" + all_classes[i])), \"; validation set size:\", len(os.listdir(new_val_dir + \"/\" + all_classes[i])))"
   ]
  },
  {
   "cell_type": "markdown",
   "id": "liable-climate",
   "metadata": {},
   "source": [
    "Now, there should be exactly 150 images within the train folder of each class and 60 images within the validation folder. Having 43 different classes, this means that there are a total of 6,450 (150x43) training images and another 2,580 (60x43) validation images. A sanity check will show if this worked correctly:"
   ]
  },
  {
   "cell_type": "markdown",
   "id": "close-bloom",
   "metadata": {},
   "source": [
    "As it can be seen, it worked correctly!"
   ]
  },
  {
   "cell_type": "markdown",
   "id": "enormous-council",
   "metadata": {},
   "source": [
    "## Data Preprocessing"
   ]
  },
  {
   "cell_type": "markdown",
   "id": "infinite-attraction",
   "metadata": {},
   "source": [
    "After running the upper part once, the notebook can be started from here from now on:"
   ]
  },
  {
   "cell_type": "code",
   "execution_count": 50,
   "id": "dental-decrease",
   "metadata": {
    "scrolled": true
   },
   "outputs": [],
   "source": [
    "#this cell is optional and the notebook should be runned from here once the upper part has been executed once\n",
    "\n",
    "import os, shutil\n",
    "import pandas as pd\n",
    "import seaborn as sns\n",
    "import matplotlib.pyplot as plt\n",
    "import tensorflow as tf\n",
    "import sys\n",
    "from PIL import Image\n",
    "import numpy as np"
   ]
  },
  {
   "cell_type": "code",
   "execution_count": 51,
   "id": "beginning-dover",
   "metadata": {},
   "outputs": [],
   "source": [
    "train_dir = new_train_dir\n",
    "validation_dir = new_val_dir"
   ]
  },
  {
   "cell_type": "markdown",
   "id": "individual-cliff",
   "metadata": {},
   "source": [
    "##### Normalization"
   ]
  },
  {
   "cell_type": "code",
   "execution_count": 52,
   "id": "improving-tribute",
   "metadata": {},
   "outputs": [
    {
     "name": "stdout",
     "output_type": "stream",
     "text": [
      "Found 27450 images belonging to 43 classes.\n",
      "Found 11759 images belonging to 43 classes.\n"
     ]
    }
   ],
   "source": [
    "from tensorflow.keras.preprocessing.image import ImageDataGenerator\n",
    "\n",
    "train_datagen = ImageDataGenerator(rescale=1./255)\n",
    "test_datagen = ImageDataGenerator(rescale=1./255)\n",
    "\n",
    "train_generator = train_datagen.flow_from_directory(\n",
    "    train_dir,\n",
    "    #target_size=(100,100),\n",
    "    target_size=(150,150),\n",
    "    batch_size=20,\n",
    "    class_mode=\"categorical\",\n",
    "    color_mode=\"grayscale\"\n",
    "    )\n",
    "\n",
    "\n",
    "validation_generator = test_datagen.flow_from_directory(\n",
    "    validation_dir,\n",
    "    #target_size=(100,100),\n",
    "    target_size=(150,150),\n",
    "    batch_size=20,\n",
    "    class_mode=\"categorical\",\n",
    "    color_mode=\"grayscale\"\n",
    "    )"
   ]
  },
  {
   "cell_type": "code",
   "execution_count": 53,
   "id": "continuing-threat",
   "metadata": {},
   "outputs": [],
   "source": [
    "x_train=np.concatenate([train_generator.next()[0] for i in range(train_generator.__len__())])\n",
    "x_val=np.concatenate([validation_generator.next()[0] for i in range(validation_generator.__len__())])"
   ]
  },
  {
   "cell_type": "code",
   "execution_count": 54,
   "id": "turkish-mozambique",
   "metadata": {},
   "outputs": [],
   "source": [
    "train_datagen = ImageDataGenerator(featurewise_center=True, featurewise_std_normalization=True)\n",
    "test_datagen = ImageDataGenerator(featurewise_center=True, featurewise_std_normalization=True)\n",
    "\n",
    "train_datagen.fit(x_train)\n",
    "test_datagen.fit(x_val)"
   ]
  },
  {
   "cell_type": "markdown",
   "id": "happy-amplifier",
   "metadata": {},
   "source": [
    "##### Re-Creating the generators with the normalized image data"
   ]
  },
  {
   "cell_type": "code",
   "execution_count": 55,
   "id": "particular-fireplace",
   "metadata": {},
   "outputs": [
    {
     "name": "stdout",
     "output_type": "stream",
     "text": [
      "Found 27450 images belonging to 43 classes.\n",
      "Found 11759 images belonging to 43 classes.\n"
     ]
    }
   ],
   "source": [
    "train_generator = train_datagen.flow_from_directory(\n",
    "    train_dir,\n",
    "    #target_size=(100,100),\n",
    "    target_size=(150,150),\n",
    "    batch_size=20,\n",
    "    class_mode=\"categorical\",\n",
    "    color_mode=\"grayscale\"\n",
    "    )\n",
    "\n",
    "\n",
    "\n",
    "validation_generator = test_datagen.flow_from_directory(\n",
    "    validation_dir,\n",
    "    #target_size=(100,100),\n",
    "    target_size=(150,150),\n",
    "    batch_size=20,\n",
    "    class_mode=\"categorical\",\n",
    "    color_mode=\"grayscale\"\n",
    "    )"
   ]
  },
  {
   "cell_type": "code",
   "execution_count": 56,
   "id": "peripheral-exercise",
   "metadata": {},
   "outputs": [
    {
     "name": "stdout",
     "output_type": "stream",
     "text": [
      "data batch shape: (20, 150, 150, 1)\n",
      "labels batch shape: (20, 43)\n"
     ]
    }
   ],
   "source": [
    "sys.modules['Image'] = Image\n",
    "\n",
    "for data_batch, labels_batch in train_generator:\n",
    "    print('data batch shape:', data_batch.shape)\n",
    "    print('labels batch shape:', labels_batch.shape)\n",
    "    break"
   ]
  },
  {
   "cell_type": "markdown",
   "id": "plastic-dominican",
   "metadata": {},
   "source": [
    "## Draft of the model"
   ]
  },
  {
   "cell_type": "markdown",
   "id": "coated-sector",
   "metadata": {},
   "source": [
    "### Base model (Using the 'Down' Version)"
   ]
  },
  {
   "cell_type": "code",
   "execution_count": 57,
   "id": "placed-representation",
   "metadata": {},
   "outputs": [],
   "source": [
    "from tensorflow.keras import layers\n",
    "from tensorflow.keras import models\n",
    "\n",
    "model = models.Sequential()\n",
    "#model.add(layers.Conv2D(32, (2, 2), activation='relu', input_shape=(100, 100, 1)))\n",
    "model.add(layers.Conv2D(32, (2, 2), activation='relu', input_shape=(150, 150, 1)))\n",
    "model.add(layers.MaxPooling2D((2, 2)))\n",
    "model.add(layers.Dropout(0.15))\n",
    "model.add(layers.Conv2D(64, (3, 3), activation='relu'))\n",
    "model.add(layers.MaxPooling2D((2, 2) ))\n",
    "model.add(layers.Dropout(0.15))\n",
    "model.add(layers.Conv2D(128, (4, 4), activation='relu'))\n",
    "model.add(layers.MaxPooling2D((2, 2) ))\n",
    "model.add(layers.Dropout(0.1))\n",
    "model.add(layers.Flatten())\n",
    "model.add(layers.Dense(512, activation='relu'))\n",
    "model.add(layers.Dropout(0.4))\n",
    "model.add(layers.Dense (43, activation='softmax'))"
   ]
  },
  {
   "cell_type": "code",
   "execution_count": 58,
   "id": "collect-dimension",
   "metadata": {},
   "outputs": [
    {
     "name": "stdout",
     "output_type": "stream",
     "text": [
      "Model: \"sequential_5\"\n",
      "_________________________________________________________________\n",
      "Layer (type)                 Output Shape              Param #   \n",
      "=================================================================\n",
      "conv2d_15 (Conv2D)           (None, 149, 149, 32)      160       \n",
      "_________________________________________________________________\n",
      "max_pooling2d_15 (MaxPooling (None, 74, 74, 32)        0         \n",
      "_________________________________________________________________\n",
      "dropout_20 (Dropout)         (None, 74, 74, 32)        0         \n",
      "_________________________________________________________________\n",
      "conv2d_16 (Conv2D)           (None, 72, 72, 64)        18496     \n",
      "_________________________________________________________________\n",
      "max_pooling2d_16 (MaxPooling (None, 36, 36, 64)        0         \n",
      "_________________________________________________________________\n",
      "dropout_21 (Dropout)         (None, 36, 36, 64)        0         \n",
      "_________________________________________________________________\n",
      "conv2d_17 (Conv2D)           (None, 33, 33, 128)       131200    \n",
      "_________________________________________________________________\n",
      "max_pooling2d_17 (MaxPooling (None, 16, 16, 128)       0         \n",
      "_________________________________________________________________\n",
      "dropout_22 (Dropout)         (None, 16, 16, 128)       0         \n",
      "_________________________________________________________________\n",
      "flatten_5 (Flatten)          (None, 32768)             0         \n",
      "_________________________________________________________________\n",
      "dense_10 (Dense)             (None, 512)               16777728  \n",
      "_________________________________________________________________\n",
      "dropout_23 (Dropout)         (None, 512)               0         \n",
      "_________________________________________________________________\n",
      "dense_11 (Dense)             (None, 43)                22059     \n",
      "=================================================================\n",
      "Total params: 16,949,643\n",
      "Trainable params: 16,949,643\n",
      "Non-trainable params: 0\n",
      "_________________________________________________________________\n"
     ]
    }
   ],
   "source": [
    "model.summary()"
   ]
  },
  {
   "cell_type": "code",
   "execution_count": 59,
   "id": "central-inquiry",
   "metadata": {},
   "outputs": [],
   "source": [
    "from tensorflow.keras import optimizers\n",
    "\n",
    "#compilation\n",
    "model.compile(loss=\"categorical_crossentropy\", optimizer=optimizers.RMSprop(lr=1e-4), metrics=[\"acc\"])"
   ]
  },
  {
   "cell_type": "code",
   "execution_count": 60,
   "id": "prostate-funeral",
   "metadata": {},
   "outputs": [
    {
     "name": "stdout",
     "output_type": "stream",
     "text": [
      "Epoch 1/5\n",
      "1373/1373 [==============================] - 216s 157ms/step - loss: 536.6936 - acc: 0.2429 - val_loss: 5139.1440 - val_acc: 0.6895\n",
      "Epoch 2/5\n",
      "1373/1373 [==============================] - 215s 157ms/step - loss: 77639.1737 - acc: 0.4519 - val_loss: 144841.7188 - val_acc: 0.7042\n",
      "Epoch 3/5\n",
      "1373/1373 [==============================] - 215s 156ms/step - loss: 582106.4947 - acc: 0.5504 - val_loss: 812835.0625 - val_acc: 0.7308\n",
      "Epoch 4/5\n",
      "1373/1373 [==============================] - 221s 161ms/step - loss: 2547601.7615 - acc: 0.5646 - val_loss: 1442844.8750 - val_acc: 0.7939\n",
      "Epoch 5/5\n",
      "1373/1373 [==============================] - 216s 157ms/step - loss: 6978588.6379 - acc: 0.5957 - val_loss: 5839011.0000 - val_acc: 0.7584\n"
     ]
    }
   ],
   "source": [
    "# 1-5\n",
    "history = model.fit(\n",
    "    train_generator,\n",
    "    epochs=5,\n",
    "    validation_data=validation_generator,\n",
    "    )"
   ]
  },
  {
   "cell_type": "code",
   "execution_count": 61,
   "id": "danish-symposium",
   "metadata": {},
   "outputs": [
    {
     "name": "stdout",
     "output_type": "stream",
     "text": [
      "Epoch 1/5\n",
      "1373/1373 [==============================] - 216s 157ms/step - loss: 24584656.0000 - acc: 0.5668 - val_loss: 12885381.0000 - val_acc: 0.7601\n",
      "Epoch 2/5\n",
      "1373/1373 [==============================] - 216s 157ms/step - loss: 40963060.0000 - acc: 0.5933 - val_loss: 17184852.0000 - val_acc: 0.8065\n",
      "Epoch 3/5\n",
      "1373/1373 [==============================] - 216s 158ms/step - loss: 58346692.0000 - acc: 0.6273 - val_loss: 30029168.0000 - val_acc: 0.7829\n",
      "Epoch 4/5\n",
      "1373/1373 [==============================] - 216s 157ms/step - loss: 73473800.0000 - acc: 0.6613 - val_loss: 47958952.0000 - val_acc: 0.7937\n",
      "Epoch 5/5\n",
      "1373/1373 [==============================] - 217s 158ms/step - loss: 96090656.0000 - acc: 0.6785 - val_loss: 54573576.0000 - val_acc: 0.8077\n"
     ]
    }
   ],
   "source": [
    "# 6-10\n",
    "history = model.fit(\n",
    "    train_generator,\n",
    "    epochs=5,\n",
    "    validation_data=validation_generator,\n",
    "    )"
   ]
  },
  {
   "cell_type": "code",
   "execution_count": 62,
   "id": "consecutive-quilt",
   "metadata": {},
   "outputs": [
    {
     "name": "stdout",
     "output_type": "stream",
     "text": [
      "Epoch 1/5\n",
      "1373/1373 [==============================] - 216s 158ms/step - loss: 124773304.0000 - acc: 0.6888 - val_loss: 83293632.0000 - val_acc: 0.8016\n",
      "Epoch 2/5\n",
      "1373/1373 [==============================] - 217s 158ms/step - loss: 152767808.0000 - acc: 0.7046 - val_loss: 99552920.0000 - val_acc: 0.8027\n",
      "Epoch 3/5\n",
      "1373/1373 [==============================] - 216s 158ms/step - loss: 173674944.0000 - acc: 0.7209 - val_loss: 110281264.0000 - val_acc: 0.8361\n",
      "Epoch 4/5\n",
      "1373/1373 [==============================] - 215s 157ms/step - loss: 185998288.0000 - acc: 0.7391 - val_loss: 131039840.0000 - val_acc: 0.8212\n",
      "Epoch 5/5\n",
      "1373/1373 [==============================] - 215s 156ms/step - loss: 186018192.0000 - acc: 0.7603 - val_loss: 163000576.0000 - val_acc: 0.8399\n"
     ]
    }
   ],
   "source": [
    "# 11-15\n",
    "history = model.fit(\n",
    "    train_generator,\n",
    "    epochs=5,\n",
    "    validation_data=validation_generator,\n",
    "    )"
   ]
  },
  {
   "cell_type": "code",
   "execution_count": 63,
   "id": "refined-opera",
   "metadata": {},
   "outputs": [
    {
     "name": "stdout",
     "output_type": "stream",
     "text": [
      "Epoch 1/5\n",
      "1373/1373 [==============================] - 215s 156ms/step - loss: 196299216.0000 - acc: 0.7741 - val_loss: 161574528.0000 - val_acc: 0.8450\n",
      "Epoch 2/5\n",
      "1373/1373 [==============================] - 216s 157ms/step - loss: 209700400.0000 - acc: 0.7852 - val_loss: 196352320.0000 - val_acc: 0.8454\n",
      "Epoch 3/5\n",
      "1373/1373 [==============================] - 217s 158ms/step - loss: 223761280.0000 - acc: 0.7909 - val_loss: 252626512.0000 - val_acc: 0.8282\n",
      "Epoch 4/5\n",
      "1373/1373 [==============================] - 217s 158ms/step - loss: 256819664.0000 - acc: 0.7888 - val_loss: 249167840.0000 - val_acc: 0.8434\n",
      "Epoch 5/5\n",
      "1373/1373 [==============================] - 215s 157ms/step - loss: 263620720.0000 - acc: 0.8016 - val_loss: 287371968.0000 - val_acc: 0.8355\n"
     ]
    }
   ],
   "source": [
    "# 16-20\n",
    "history = model.fit(\n",
    "    train_generator,\n",
    "    epochs=5,\n",
    "    validation_data=validation_generator,\n",
    "    )"
   ]
  },
  {
   "cell_type": "code",
   "execution_count": 64,
   "id": "expanded-carter",
   "metadata": {},
   "outputs": [
    {
     "name": "stdout",
     "output_type": "stream",
     "text": [
      "Epoch 1/5\n",
      "1373/1373 [==============================] - 215s 157ms/step - loss: 285514496.0000 - acc: 0.7995 - val_loss: 330322048.0000 - val_acc: 0.8525\n",
      "Epoch 2/5\n",
      "1373/1373 [==============================] - 215s 157ms/step - loss: 335231808.0000 - acc: 0.7965 - val_loss: 361119776.0000 - val_acc: 0.8371\n",
      "Epoch 3/5\n",
      "1373/1373 [==============================] - 215s 157ms/step - loss: 349668224.0000 - acc: 0.8007 - val_loss: 401825696.0000 - val_acc: 0.8466\n",
      "Epoch 4/5\n",
      "1373/1373 [==============================] - 215s 157ms/step - loss: 389495584.0000 - acc: 0.7958 - val_loss: 426500192.0000 - val_acc: 0.8582\n",
      "Epoch 5/5\n",
      "1373/1373 [==============================] - 215s 157ms/step - loss: 419530176.0000 - acc: 0.7984 - val_loss: 429860576.0000 - val_acc: 0.8531\n"
     ]
    }
   ],
   "source": [
    "# 21-25\n",
    "history = model.fit(\n",
    "    train_generator,\n",
    "    epochs=5,\n",
    "    validation_data=validation_generator,\n",
    "    )"
   ]
  },
  {
   "cell_type": "code",
   "execution_count": 65,
   "id": "related-filter",
   "metadata": {},
   "outputs": [
    {
     "name": "stdout",
     "output_type": "stream",
     "text": [
      "Epoch 1/15\n",
      "1373/1373 [==============================] - 217s 158ms/step - loss: 443923616.0000 - acc: 0.8042 - val_loss: 469569600.0000 - val_acc: 0.8532\n",
      "Epoch 2/15\n",
      "1373/1373 [==============================] - 224s 163ms/step - loss: 456614592.0000 - acc: 0.8059 - val_loss: 558118080.0000 - val_acc: 0.8501\n",
      "Epoch 3/15\n",
      "1373/1373 [==============================] - 232s 169ms/step - loss: 433647712.0000 - acc: 0.8180 - val_loss: 647899200.0000 - val_acc: 0.8292\n",
      "Epoch 4/15\n",
      "1373/1373 [==============================] - 229s 167ms/step - loss: 419466208.0000 - acc: 0.8257 - val_loss: 589558784.0000 - val_acc: 0.8458\n",
      "Epoch 5/15\n",
      "1373/1373 [==============================] - 218s 159ms/step - loss: 398158912.0000 - acc: 0.8334 - val_loss: 649756416.0000 - val_acc: 0.8457\n",
      "Epoch 6/15\n",
      "1373/1373 [==============================] - 216s 158ms/step - loss: 459035072.0000 - acc: 0.8267 - val_loss: 746620864.0000 - val_acc: 0.8300\n",
      "Epoch 7/15\n",
      "1373/1373 [==============================] - 217s 158ms/step - loss: 436686624.0000 - acc: 0.8353 - val_loss: 708277312.0000 - val_acc: 0.8303\n",
      "Epoch 8/15\n",
      "1373/1373 [==============================] - 218s 159ms/step - loss: 421202848.0000 - acc: 0.8405 - val_loss: 699012672.0000 - val_acc: 0.8445\n",
      "Epoch 9/15\n",
      "1373/1373 [==============================] - 218s 159ms/step - loss: 436137280.0000 - acc: 0.8378 - val_loss: 709446784.0000 - val_acc: 0.8525\n",
      "Epoch 10/15\n",
      "1373/1373 [==============================] - 217s 158ms/step - loss: 462863072.0000 - acc: 0.8400 - val_loss: 695814272.0000 - val_acc: 0.8472\n",
      "Epoch 11/15\n",
      "1373/1373 [==============================] - 218s 159ms/step - loss: 434668096.0000 - acc: 0.8458 - val_loss: 738494784.0000 - val_acc: 0.8586\n",
      "Epoch 12/15\n",
      "1373/1373 [==============================] - 219s 159ms/step - loss: 441125472.0000 - acc: 0.8469 - val_loss: 842814336.0000 - val_acc: 0.8269\n",
      "Epoch 13/15\n",
      "1373/1373 [==============================] - 220s 160ms/step - loss: 458748896.0000 - acc: 0.8458 - val_loss: 896637440.0000 - val_acc: 0.8547\n",
      "Epoch 14/15\n",
      "1373/1373 [==============================] - 219s 160ms/step - loss: 419387680.0000 - acc: 0.8529 - val_loss: 915846848.0000 - val_acc: 0.8451\n",
      "Epoch 15/15\n",
      "1373/1373 [==============================] - 217s 158ms/step - loss: 431670592.0000 - acc: 0.8520 - val_loss: 862411776.0000 - val_acc: 0.8557\n"
     ]
    }
   ],
   "source": [
    "# 26-40\n",
    "history = model.fit(\n",
    "    train_generator,\n",
    "    epochs=15,\n",
    "    validation_data=validation_generator,\n",
    "    )"
   ]
  },
  {
   "cell_type": "code",
   "execution_count": 66,
   "id": "electrical-stereo",
   "metadata": {},
   "outputs": [
    {
     "name": "stdout",
     "output_type": "stream",
     "text": [
      "Epoch 1/10\n",
      "1373/1373 [==============================] - 215s 157ms/step - loss: 458871328.0000 - acc: 0.8537 - val_loss: 933200704.0000 - val_acc: 0.8703\n",
      "Epoch 2/10\n",
      "1373/1373 [==============================] - 216s 157ms/step - loss: 426981728.0000 - acc: 0.8561 - val_loss: 1027965632.0000 - val_acc: 0.8303\n",
      "Epoch 3/10\n",
      "1373/1373 [==============================] - 219s 159ms/step - loss: 443017248.0000 - acc: 0.8554 - val_loss: 925058112.0000 - val_acc: 0.8681\n",
      "Epoch 4/10\n",
      "1373/1373 [==============================] - 219s 159ms/step - loss: 452266560.0000 - acc: 0.8571 - val_loss: 982299840.0000 - val_acc: 0.8535\n",
      "Epoch 5/10\n",
      "1373/1373 [==============================] - 215s 156ms/step - loss: 448400544.0000 - acc: 0.8617 - val_loss: 1069839104.0000 - val_acc: 0.8569\n",
      "Epoch 6/10\n",
      "1373/1373 [==============================] - 215s 156ms/step - loss: 427931424.0000 - acc: 0.8617 - val_loss: 1023234432.0000 - val_acc: 0.8697\n",
      "Epoch 7/10\n",
      "1373/1373 [==============================] - 215s 157ms/step - loss: 446908736.0000 - acc: 0.8584 - val_loss: 1227774080.0000 - val_acc: 0.8263\n",
      "Epoch 8/10\n",
      "1373/1373 [==============================] - 214s 156ms/step - loss: 519886272.0000 - acc: 0.8545 - val_loss: 1095462144.0000 - val_acc: 0.8593\n",
      "Epoch 9/10\n",
      "1373/1373 [==============================] - 214s 156ms/step - loss: 507590560.0000 - acc: 0.8579 - val_loss: 1195428096.0000 - val_acc: 0.8519\n",
      "Epoch 10/10\n",
      "1373/1373 [==============================] - 214s 156ms/step - loss: 492478336.0000 - acc: 0.8593 - val_loss: 1204833024.0000 - val_acc: 0.8611\n"
     ]
    }
   ],
   "source": [
    "# 26-40\n",
    "history = model.fit(\n",
    "    train_generator,\n",
    "    epochs=10,\n",
    "    validation_data=validation_generator,\n",
    "    )"
   ]
  },
  {
   "cell_type": "code",
   "execution_count": 36,
   "id": "necessary-victoria",
   "metadata": {},
   "outputs": [
    {
     "name": "stdout",
     "output_type": "stream",
     "text": [
      "INFO:tensorflow:Assets written to: model_all_data_Down_Normalization_150_150_25_epochs/assets\n"
     ]
    }
   ],
   "source": [
    "model.save('model_all_data_Down_Normalization_150_150_25_epochs')"
   ]
  },
  {
   "cell_type": "code",
   "execution_count": null,
   "id": "meaning-modem",
   "metadata": {},
   "outputs": [],
   "source": [
    "save_hist_to_excel('history_all_data_Down_Normalization_150_150_25_epochs_HenriqueTest')"
   ]
  },
  {
   "cell_type": "code",
   "execution_count": null,
   "id": "special-struggle",
   "metadata": {},
   "outputs": [],
   "source": [
    "#Displaying curves of loss and accuracy during training\n",
    "\n",
    "import matplotlib.pyplot as plt\n",
    "\n",
    "acc = history.history[\"acc\"]\n",
    "val_acc = history.history[\"val_acc\"]\n",
    "loss = history.history[\"loss\"]\n",
    "val_loss = history.history[\"val_loss\"]\n",
    "\n",
    "epochs = range(1, len(acc) + 1)\n",
    "\n",
    "plt.plot(epochs, acc, \"bo\", label=\"Training acc\")\n",
    "plt.plot(epochs, val_acc, \"b\", label=\"Validation acc\")\n",
    "plt.title(\"Training and validation accuracy\")\n",
    "plt.legend()\n",
    "\n",
    "plt.show()\n",
    "\n",
    "plt.plot(epochs, loss, \"bo\", label=\"Training loss\")\n",
    "plt.plot(epochs, val_loss, \"b\", label=\"Validation loss\")\n",
    "plt.title(\"Training and validation loss\")\n",
    "plt.legend()\n",
    "\n",
    "plt.show()"
   ]
  },
  {
   "cell_type": "code",
   "execution_count": null,
   "id": "stunning-monitoring",
   "metadata": {},
   "outputs": [],
   "source": []
  }
 ],
 "metadata": {
  "kernelspec": {
   "display_name": "Python 3",
   "language": "python",
   "name": "python3"
  },
  "language_info": {
   "codemirror_mode": {
    "name": "ipython",
    "version": 3
   },
   "file_extension": ".py",
   "mimetype": "text/x-python",
   "name": "python",
   "nbconvert_exporter": "python",
   "pygments_lexer": "ipython3",
   "version": "3.8.8"
  }
 },
 "nbformat": 4,
 "nbformat_minor": 5
}

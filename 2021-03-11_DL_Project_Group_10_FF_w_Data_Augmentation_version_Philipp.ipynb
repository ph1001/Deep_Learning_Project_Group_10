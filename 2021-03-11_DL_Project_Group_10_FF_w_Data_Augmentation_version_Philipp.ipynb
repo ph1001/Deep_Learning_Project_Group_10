{
 "cells": [
  {
   "cell_type": "markdown",
   "id": "looking-buffer",
   "metadata": {},
   "source": [
    "# Deep Learning Project - Traffic Signs Image Classification"
   ]
  },
  {
   "cell_type": "code",
   "execution_count": 1,
   "id": "subjective-passage",
   "metadata": {},
   "outputs": [],
   "source": [
    "import os, shutil\n",
    "import pandas as pd\n",
    "import seaborn as sns\n",
    "import matplotlib.pyplot as plt"
   ]
  },
  {
   "cell_type": "markdown",
   "id": "potential-strengthening",
   "metadata": {},
   "source": [
    "# Functions"
   ]
  },
  {
   "cell_type": "code",
   "execution_count": 2,
   "id": "demonstrated-enlargement",
   "metadata": {},
   "outputs": [],
   "source": [
    "def save_hist_to_excel(filename):\n",
    "    df = pd.DataFrame(history.history)\n",
    "    df.to_excel(filename + '.xlsx')"
   ]
  },
  {
   "cell_type": "markdown",
   "id": "bound-commission",
   "metadata": {},
   "source": [
    "## Overview of the training data"
   ]
  },
  {
   "cell_type": "code",
   "execution_count": 6,
   "id": "indoor-network",
   "metadata": {},
   "outputs": [
    {
     "name": "stdout",
     "output_type": "stream",
     "text": [
      "There are 43 different classes within the training data!\n"
     ]
    }
   ],
   "source": [
    "#setting the training directory (the training images can be found there, already sorted by class into folders)\n",
    "# base_training_dir = \"/Users/franz/Desktop/DL Project/Train/Final_Training/Images\"\n",
    "base_training_dir = \"/Users/philippmetzger/Documents/GitHub/Deep_Learning_Project_Group_10/Data/GTSRB_Final_Training_Images/GTSRB/Final_Training/Images/\"\n",
    "\n",
    "#setting the directory where the selected training and validation images will be stored in\n",
    "# created_dir = \"/Users/franz/Desktop/DL Project/Selected\"\n",
    "created_dir = \"/Users/philippmetzger/Documents/GitHub/Deep_Learning_Project_Group_10/Data/Selected\"\n",
    "\n",
    "#storing all the folder names that belong to the respective classes\n",
    "all_classes = sorted(i for i in os.listdir(base_training_dir) if i.startswith(\"0\"))\n",
    "\n",
    "print(\"There are\", len(all_classes), \"different classes within the training data!\")"
   ]
  },
  {
   "cell_type": "code",
   "execution_count": 4,
   "id": "olympic-cylinder",
   "metadata": {},
   "outputs": [],
   "source": [
    "#getting the number of images within each class of the training data\n",
    "amount_per_class = {}\n",
    "\n",
    "for i in range(len(all_classes)):\n",
    "    directory = base_training_dir + \"/\" + all_classes[i]\n",
    "    amount_per_class[i] = len(sorted(i for i in os.listdir(directory) if i.startswith(\"0\")))\n",
    "\n",
    "amount_per_class_df = pd.DataFrame.from_dict(amount_per_class, orient='index').rename(columns={0:\"amount\"})\n",
    "amount_per_class_df.index.name = 'class'\n",
    "\n",
    "#remove the \"#\" of the following line to display the number of images within each class\n",
    "#amount_per_class_df"
   ]
  },
  {
   "cell_type": "code",
   "execution_count": 5,
   "id": "furnished-glance",
   "metadata": {},
   "outputs": [
    {
     "data": {
      "image/png": "[encoded data removed]",
      "text/plain": [
       "<Figure size 1440x576 with 1 Axes>"
      ]
     },
     "metadata": {
      "needs_background": "light"
     },
     "output_type": "display_data"
    }
   ],
   "source": [
    "#displaying the number of images per class visually\n",
    "\n",
    "plt.rcParams[\"figure.figsize\"] = (20,8)\n",
    "fig, ax = plt.subplots()\n",
    "plt.bar(amount_per_class_df.index, amount_per_class_df.amount)\n",
    "plt.title(\"Number of images per class\", fontsize=20)\n",
    "plt.xlabel('class', fontsize=18)\n",
    "plt.ylabel('number of images', fontsize=18)\n",
    "ax.spines['right'].set_visible(False)\n",
    "ax.spines['top'].set_visible(False)\n",
    "plt.xticks(amount_per_class_df.index)\n",
    "plt.grid(axis=\"y\")\n",
    "plt.show()"
   ]
  },
  {
   "cell_type": "markdown",
   "id": "imported-monaco",
   "metadata": {},
   "source": [
    "As it can be seen in the bar chart, the dataset is highly unbalanced. Some classes have over 2000 instances, while others only have 210."
   ]
  },
  {
   "cell_type": "code",
   "execution_count": 6,
   "id": "acceptable-preserve",
   "metadata": {},
   "outputs": [
    {
     "data": {
      "text/html": [
       "<div>\n",
       "<style scoped>\n",
       "    .dataframe tbody tr th:only-of-type {\n",
       "        vertical-align: middle;\n",
       "    }\n",
       "\n",
       "    .dataframe tbody tr th {\n",
       "        vertical-align: top;\n",
       "    }\n",
       "\n",
       "    .dataframe thead th {\n",
       "        text-align: right;\n",
       "    }\n",
       "</style>\n",
       "<table border=\"1\" class=\"dataframe\">\n",
       "  <thead>\n",
       "    <tr style=\"text-align: right;\">\n",
       "      <th>class</th>\n",
       "      <th>0</th>\n",
       "      <th>37</th>\n",
       "      <th>19</th>\n",
       "      <th>32</th>\n",
       "      <th>27</th>\n",
       "      <th>41</th>\n",
       "      <th>42</th>\n",
       "      <th>24</th>\n",
       "      <th>29</th>\n",
       "      <th>39</th>\n",
       "      <th>21</th>\n",
       "      <th>40</th>\n",
       "      <th>20</th>\n",
       "      <th>36</th>\n",
       "      <th>22</th>\n",
       "      <th>6</th>\n",
       "      <th>16</th>\n",
       "      <th>34</th>\n",
       "      <th>30</th>\n",
       "      <th>23</th>\n",
       "    </tr>\n",
       "  </thead>\n",
       "  <tbody>\n",
       "    <tr>\n",
       "      <th>amount</th>\n",
       "      <td>210</td>\n",
       "      <td>210</td>\n",
       "      <td>210</td>\n",
       "      <td>240</td>\n",
       "      <td>240</td>\n",
       "      <td>240</td>\n",
       "      <td>240</td>\n",
       "      <td>270</td>\n",
       "      <td>270</td>\n",
       "      <td>300</td>\n",
       "      <td>330</td>\n",
       "      <td>360</td>\n",
       "      <td>360</td>\n",
       "      <td>390</td>\n",
       "      <td>390</td>\n",
       "      <td>420</td>\n",
       "      <td>420</td>\n",
       "      <td>420</td>\n",
       "      <td>450</td>\n",
       "      <td>510</td>\n",
       "    </tr>\n",
       "  </tbody>\n",
       "</table>\n",
       "</div>"
      ],
      "text/plain": [
       "class    0    37   19   32   27   41   42   24   29   39   21   40   20   36  \\\n",
       "amount  210  210  210  240  240  240  240  270  270  300  330  360  360  390   \n",
       "\n",
       "class    22   6    16   34   30   23  \n",
       "amount  390  420  420  420  450  510  "
      ]
     },
     "execution_count": 6,
     "metadata": {},
     "output_type": "execute_result"
    }
   ],
   "source": [
    "#displaying the 20 classes with the fewest images\n",
    "amount_per_class_df.sort_values(\"amount\").head(20).T"
   ]
  },
  {
   "cell_type": "markdown",
   "id": "medium-majority",
   "metadata": {},
   "source": [
    "Within each class, there are several groups of images, that belong together (these are basically all images of the very same traffic sign, that just differ in that they were made as a series while approaching the actual sign). These series of images shouldn't be splitted later when the data is split into training and validation sets, so some precautions might be useful:"
   ]
  },
  {
   "cell_type": "code",
   "execution_count": 7,
   "id": "strategic-senegal",
   "metadata": {},
   "outputs": [
    {
     "name": "stdout",
     "output_type": "stream",
     "text": [
      "There is a series whose number doesn't match the others in class 00033 , with the prefix 00019 !\n",
      "It only contains 29 images.\n",
      "All the other series of images contain exactly 30 images!\n"
     ]
    }
   ],
   "source": [
    "#checking the size(=amount of images) of these series and whether they are all having the same size\n",
    "\n",
    "#running a for loop over all classes\n",
    "for i in range(len(all_classes)):\n",
    "    directory = base_training_dir + \"/\" + all_classes[i]\n",
    "    \n",
    "    #get the names of all images within a class\n",
    "    list_of_images = sorted(i for i in os.listdir(directory) if i.startswith(\"0\"))\n",
    "\n",
    "    image_series = []\n",
    "    \n",
    "    #store all the prefixes of the images (which correspond to the series they belong to)\n",
    "    for element in list_of_images:\n",
    "        image_series.append(element.split(\"_\")[0])\n",
    "    \n",
    "    #count the frequency of each prefix, which equals the size of each respective series\n",
    "    image_counts = pd.Series(image_series).value_counts().sort_index()\n",
    "\n",
    "    for element in image_counts.values.tolist():\n",
    "        if element != image_counts.values.tolist()[0]:\n",
    "            #this line will show if there is a series that contains not the same number of images than the others\n",
    "            print(\"There is a series whose number doesn't match the others in class\", all_classes[i], \", with the prefix\", image_counts.sort_values().index[0], \"!\\nIt only contains\", element, \"images.\")\n",
    "            \n",
    "\n",
    "#apart from only one series, all others consist of exactly 30 images\n",
    "print(\"All the other series of images contain exactly\", image_counts.values.tolist()[0], \"images!\")"
   ]
  },
  {
   "cell_type": "markdown",
   "id": "velvet-breakdown",
   "metadata": {},
   "source": [
    "## Split into training and validation datasets"
   ]
  },
  {
   "cell_type": "markdown",
   "id": "surprised-fight",
   "metadata": {},
   "source": [
    "As already mentioned, it is important for the split into training and validation sets that the individual image series stay together. As a first approach, there will be 210 images used per class, as this number corresponds to the amount of images in the \"smallest\" class. This will fix the problem of imbalance in the dataset. Subsequently, the data will be splitted by a 5:2 (150:60) ratio into training and validation set, in order to guarantee that the series will stay together."
   ]
  },
  {
   "cell_type": "code",
   "execution_count": 8,
   "id": "wooden-willow",
   "metadata": {},
   "outputs": [],
   "source": [
    "#creating folders within the class folders for the training and validation sets\n",
    "train_dir = os.path.join(created_dir, \"training\")\n",
    "os.mkdir(train_dir)\n",
    "validation_dir = os.path.join(created_dir, \"validation\")\n",
    "os.mkdir(validation_dir)\n",
    "\n",
    "#creating folders for each class within the training and validation folders\n",
    "for i in range(len(all_classes)):\n",
    "    directory_train = os.path.join(train_dir, all_classes[i])\n",
    "    directory_val = os.path.join(validation_dir, all_classes[i])\n",
    "\n",
    "    os.mkdir(directory_train)\n",
    "    os.mkdir(directory_val)"
   ]
  },
  {
   "cell_type": "code",
   "execution_count": 9,
   "id": "common-glenn",
   "metadata": {},
   "outputs": [],
   "source": [
    "#creating a list that contains the names of the 1st, 2nd and 3rd series of images (3x30 names)\n",
    "training_names = []\n",
    "\n",
    "for i in range(5):\n",
    "    name = \"0000\" + str(i)\n",
    "    for i2 in range(30):\n",
    "        if i2 < 10:\n",
    "            name = name + \"_0000\" + str(i2) + \".ppm\"\n",
    "            training_names.append(name)\n",
    "            name = \"0000\" + str(i)\n",
    "        else:\n",
    "            name = name + \"_000\" + str(i2) + \".ppm\"\n",
    "            training_names.append(name)\n",
    "            name = \"0000\" + str(i)\n",
    "\n",
    "\n",
    "#creating a list that contains the names of the 4th and 5th series of images (2x30 names)\n",
    "val_names = []\n",
    "\n",
    "for i in range(5,7):\n",
    "    name = \"0000\" + str(i)\n",
    "    for i2 in range(30):\n",
    "        if i2 < 10:\n",
    "            name = name + \"_0000\" + str(i2) + \".ppm\"\n",
    "            val_names.append(name)\n",
    "            name = \"0000\" + str(i)\n",
    "        else:\n",
    "            name = name + \"_000\" + str(i2) + \".ppm\"\n",
    "            val_names.append(name)\n",
    "            name = \"0000\" + str(i)"
   ]
  },
  {
   "cell_type": "code",
   "execution_count": 10,
   "id": "noble-fantasy",
   "metadata": {},
   "outputs": [],
   "source": [
    "#copying the first 3 series within a class into the train folder and the 2 consecutive series into the validation folder \n",
    "for i in range(len(all_classes)):\n",
    "\n",
    "    for name in training_names:\n",
    "        src = base_training_dir + \"/\" + all_classes[i] + \"/\" + name\n",
    "        dst = train_dir + \"/\" + all_classes[i] + \"/\"  + name\n",
    "        shutil.copyfile(src, dst)\n",
    "    \n",
    "    for name in val_names:\n",
    "        src = base_training_dir + \"/\" + all_classes[i] + \"/\" + name\n",
    "        dst = validation_dir + \"/\" + all_classes[i] + \"/\"  + name\n",
    "        shutil.copyfile(src, dst)"
   ]
  },
  {
   "cell_type": "markdown",
   "id": "difficult-retailer",
   "metadata": {},
   "source": [
    "Now, there should be exactly 150 images within the train folder of each class and 60 images within the validation folder. Having 43 different classes, this means that there are a total of 6,450 (150x43) training images and another 2,580 (60x43) validation images. A sanity check will show if this worked correctly:"
   ]
  },
  {
   "cell_type": "code",
   "execution_count": 11,
   "id": "stunning-printing",
   "metadata": {},
   "outputs": [
    {
     "name": "stdout",
     "output_type": "stream",
     "text": [
      "Class 0 : training set size = 150 ; validation set size: 60\n",
      "Class 1 : training set size = 150 ; validation set size: 60\n",
      "Class 2 : training set size = 150 ; validation set size: 60\n",
      "Class 3 : training set size = 150 ; validation set size: 60\n",
      "Class 4 : training set size = 150 ; validation set size: 60\n",
      "Class 5 : training set size = 150 ; validation set size: 60\n",
      "Class 6 : training set size = 150 ; validation set size: 60\n",
      "Class 7 : training set size = 150 ; validation set size: 60\n",
      "Class 8 : training set size = 150 ; validation set size: 60\n",
      "Class 9 : training set size = 150 ; validation set size: 60\n",
      "Class 10 : training set size = 150 ; validation set size: 60\n",
      "Class 11 : training set size = 150 ; validation set size: 60\n",
      "Class 12 : training set size = 150 ; validation set size: 60\n",
      "Class 13 : training set size = 150 ; validation set size: 60\n",
      "Class 14 : training set size = 150 ; validation set size: 60\n",
      "Class 15 : training set size = 150 ; validation set size: 60\n",
      "Class 16 : training set size = 150 ; validation set size: 60\n",
      "Class 17 : training set size = 150 ; validation set size: 60\n",
      "Class 18 : training set size = 150 ; validation set size: 60\n",
      "Class 19 : training set size = 150 ; validation set size: 60\n",
      "Class 20 : training set size = 150 ; validation set size: 60\n",
      "Class 21 : training set size = 150 ; validation set size: 60\n",
      "Class 22 : training set size = 150 ; validation set size: 60\n",
      "Class 23 : training set size = 150 ; validation set size: 60\n",
      "Class 24 : training set size = 150 ; validation set size: 60\n",
      "Class 25 : training set size = 150 ; validation set size: 60\n",
      "Class 26 : training set size = 150 ; validation set size: 60\n",
      "Class 27 : training set size = 150 ; validation set size: 60\n",
      "Class 28 : training set size = 150 ; validation set size: 60\n",
      "Class 29 : training set size = 150 ; validation set size: 60\n",
      "Class 30 : training set size = 150 ; validation set size: 60\n",
      "Class 31 : training set size = 150 ; validation set size: 60\n",
      "Class 32 : training set size = 150 ; validation set size: 60\n",
      "Class 33 : training set size = 150 ; validation set size: 60\n",
      "Class 34 : training set size = 150 ; validation set size: 60\n",
      "Class 35 : training set size = 150 ; validation set size: 60\n",
      "Class 36 : training set size = 150 ; validation set size: 60\n",
      "Class 37 : training set size = 150 ; validation set size: 60\n",
      "Class 38 : training set size = 150 ; validation set size: 60\n",
      "Class 39 : training set size = 150 ; validation set size: 60\n",
      "Class 40 : training set size = 150 ; validation set size: 60\n",
      "Class 41 : training set size = 150 ; validation set size: 60\n",
      "Class 42 : training set size = 150 ; validation set size: 60\n"
     ]
    }
   ],
   "source": [
    "for i in range(len(all_classes)):\n",
    "    print(\"Class\", i, \": training set size =\", len(os.listdir(train_dir + \"/\" + all_classes[i])), \"; validation set size:\", len(os.listdir(validation_dir + \"/\" + all_classes[i])))"
   ]
  },
  {
   "cell_type": "markdown",
   "id": "powerful-bidding",
   "metadata": {},
   "source": [
    "As it can be seen, it worked correctly!"
   ]
  },
  {
   "cell_type": "markdown",
   "id": "imperial-local",
   "metadata": {},
   "source": [
    "## Data Preprocessing"
   ]
  },
  {
   "cell_type": "markdown",
   "id": "applicable-meeting",
   "metadata": {},
   "source": [
    "After running the upper part once, the notebook can be started from here from now on:"
   ]
  },
  {
   "cell_type": "code",
   "execution_count": 3,
   "id": "unique-timothy",
   "metadata": {},
   "outputs": [],
   "source": [
    "#this cell is optional and the notebook should be runned from here once the upper part has been executed once\n",
    "\n",
    "import os, shutil\n",
    "import pandas as pd\n",
    "import seaborn as sns\n",
    "import matplotlib.pyplot as plt\n",
    "\n",
    "# train_dir = \"/Users/franz/Desktop/DL Project/Selected/training\"\n",
    "# validation_dir = \"/Users/franz/Desktop/DL Project/Selected/validation\"\n",
    "\n",
    "train_dir = \"/Users/philippmetzger/Documents/GitHub/Deep_Learning_Project_Group_10/Data/Selected/training\"\n",
    "validation_dir = \"/Users/philippmetzger/Documents/GitHub/Deep_Learning_Project_Group_10/Data/Selected/validation\""
   ]
  },
  {
   "cell_type": "code",
   "execution_count": 4,
   "id": "involved-saturn",
   "metadata": {},
   "outputs": [
    {
     "name": "stdout",
     "output_type": "stream",
     "text": [
      "Found 6450 images belonging to 43 classes.\n",
      "Found 2580 images belonging to 43 classes.\n"
     ]
    }
   ],
   "source": [
    "from keras.preprocessing.image import ImageDataGenerator\n",
    "\n",
    "train_datagen = ImageDataGenerator(rescale=1./255)\n",
    "test_datagen = ImageDataGenerator(rescale=1./255)\n",
    "\n",
    "train_generator = train_datagen.flow_from_directory(\n",
    "    train_dir,\n",
    "    target_size=(150,150),\n",
    "    batch_size=20,\n",
    "    class_mode=\"categorical\")\n",
    "\n",
    "validation_generator = test_datagen.flow_from_directory(\n",
    "    validation_dir,\n",
    "    target_size=(150,150),\n",
    "    batch_size=20,\n",
    "    class_mode=\"categorical\")"
   ]
  },
  {
   "cell_type": "markdown",
   "id": "finnish-factory",
   "metadata": {},
   "source": [
    "## Draft of the model"
   ]
  },
  {
   "cell_type": "markdown",
   "id": "bibliographic-productivity",
   "metadata": {},
   "source": [
    "#### Building the model"
   ]
  },
  {
   "cell_type": "code",
   "execution_count": 6,
   "id": "thrown-compromise",
   "metadata": {},
   "outputs": [],
   "source": [
    "from keras import layers\n",
    "from keras import models\n",
    "\n",
    "model = models.Sequential()\n",
    "model.add(layers.Conv2D(32, (3, 3), activation='relu', input_shape=(150, 150, 3)))\n",
    "model.add(layers.MaxPooling2D((2, 2)))\n",
    "model.add(layers.Conv2D(64, (3, 3), activation='relu'))\n",
    "model.add(layers.MaxPooling2D((2, 2) ))\n",
    "model.add(layers.Flatten())\n",
    "model.add(layers.Dense(512, activation='relu'))\n",
    "model.add(layers.Dense (43, activation='softmax'))"
   ]
  },
  {
   "cell_type": "code",
   "execution_count": 7,
   "id": "united-coach",
   "metadata": {},
   "outputs": [
    {
     "name": "stdout",
     "output_type": "stream",
     "text": [
      "Model: \"sequential\"\n",
      "_________________________________________________________________\n",
      "Layer (type)                 Output Shape              Param #   \n",
      "=================================================================\n",
      "conv2d (Conv2D)              (None, 148, 148, 32)      896       \n",
      "_________________________________________________________________\n",
      "max_pooling2d (MaxPooling2D) (None, 74, 74, 32)        0         \n",
      "_________________________________________________________________\n",
      "conv2d_1 (Conv2D)            (None, 72, 72, 64)        18496     \n",
      "_________________________________________________________________\n",
      "max_pooling2d_1 (MaxPooling2 (None, 36, 36, 64)        0         \n",
      "_________________________________________________________________\n",
      "flatten (Flatten)            (None, 82944)             0         \n",
      "_________________________________________________________________\n",
      "dense (Dense)                (None, 512)               42467840  \n",
      "_________________________________________________________________\n",
      "dense_1 (Dense)              (None, 43)                22059     \n",
      "=================================================================\n",
      "Total params: 42,509,291\n",
      "Trainable params: 42,509,291\n",
      "Non-trainable params: 0\n",
      "_________________________________________________________________\n"
     ]
    }
   ],
   "source": [
    "model.summary()"
   ]
  },
  {
   "cell_type": "markdown",
   "id": "nutritional-country",
   "metadata": {},
   "source": [
    "#### Training the model"
   ]
  },
  {
   "cell_type": "code",
   "execution_count": 8,
   "id": "intellectual-hayes",
   "metadata": {},
   "outputs": [],
   "source": [
    "from keras import optimizers\n",
    "\n",
    "#compilation\n",
    "model.compile(loss=\"categorical_crossentropy\", optimizer=optimizers.RMSprop(lr=1e-4), metrics=[\"acc\"])"
   ]
  },
  {
   "cell_type": "code",
   "execution_count": 9,
   "id": "painful-words",
   "metadata": {},
   "outputs": [
    {
     "name": "stdout",
     "output_type": "stream",
     "text": [
      "data batch shape: (20, 150, 150, 3)\n",
      "labels batch shape: (20, 43)\n"
     ]
    }
   ],
   "source": [
    "import sys\n",
    "from PIL import Image\n",
    "sys.modules['Image'] = Image\n",
    "\n",
    "for data_batch, labels_batch in train_generator:\n",
    "    print('data batch shape:', data_batch.shape)\n",
    "    print('labels batch shape:', labels_batch.shape)\n",
    "    break"
   ]
  },
  {
   "cell_type": "code",
   "execution_count": 10,
   "id": "electrical-fleece",
   "metadata": {
    "scrolled": false
   },
   "outputs": [
    {
     "name": "stderr",
     "output_type": "stream",
     "text": [
      "/Users/philippmetzger/anaconda3/envs/dl_pip_2/lib/python3.8/site-packages/tensorflow/python/keras/engine/training.py:1844: UserWarning: `Model.fit_generator` is deprecated and will be removed in a future version. Please use `Model.fit`, which supports generators.\n",
      "  warnings.warn('`Model.fit_generator` is deprecated and '\n"
     ]
    },
    {
     "name": "stdout",
     "output_type": "stream",
     "text": [
      "Epoch 1/20\n",
      "323/323 [==============================] - 186s 576ms/step - loss: 2.9580 - acc: 0.2718 - val_loss: 2.3574 - val_acc: 0.4097\n",
      "Epoch 2/20\n",
      "323/323 [==============================] - 182s 562ms/step - loss: 0.7916 - acc: 0.8174 - val_loss: 1.8216 - val_acc: 0.5581\n",
      "Epoch 3/20\n",
      "323/323 [==============================] - 184s 571ms/step - loss: 0.3116 - acc: 0.9329 - val_loss: 1.9097 - val_acc: 0.5500\n",
      "Epoch 4/20\n",
      "323/323 [==============================] - 182s 562ms/step - loss: 0.1447 - acc: 0.9662 - val_loss: 1.8983 - val_acc: 0.6004\n",
      "Epoch 5/20\n",
      "323/323 [==============================] - 187s 578ms/step - loss: 0.0699 - acc: 0.9864 - val_loss: 2.0244 - val_acc: 0.6264\n",
      "Epoch 6/20\n",
      "323/323 [==============================] - 192s 595ms/step - loss: 0.0473 - acc: 0.9921 - val_loss: 2.0287 - val_acc: 0.6326\n",
      "Epoch 7/20\n",
      "323/323 [==============================] - 189s 584ms/step - loss: 0.0271 - acc: 0.9959 - val_loss: 1.9425 - val_acc: 0.6357\n",
      "Epoch 8/20\n",
      "323/323 [==============================] - 190s 587ms/step - loss: 0.0143 - acc: 0.9975 - val_loss: 3.1699 - val_acc: 0.5791\n",
      "Epoch 9/20\n",
      "323/323 [==============================] - 187s 580ms/step - loss: 0.0352 - acc: 0.9949 - val_loss: 1.9941 - val_acc: 0.6674\n",
      "Epoch 10/20\n",
      "323/323 [==============================] - 186s 577ms/step - loss: 0.0049 - acc: 0.9991 - val_loss: 2.5958 - val_acc: 0.6109\n",
      "Epoch 11/20\n",
      "323/323 [==============================] - 191s 591ms/step - loss: 0.0085 - acc: 0.9985 - val_loss: 2.3497 - val_acc: 0.6612\n",
      "Epoch 12/20\n",
      "323/323 [==============================] - 190s 588ms/step - loss: 0.0025 - acc: 0.9994 - val_loss: 2.7083 - val_acc: 0.6461\n",
      "Epoch 13/20\n",
      "323/323 [==============================] - 189s 586ms/step - loss: 0.0035 - acc: 0.9991 - val_loss: 2.6079 - val_acc: 0.6674\n",
      "Epoch 14/20\n",
      "323/323 [==============================] - 191s 590ms/step - loss: 0.0056 - acc: 0.9995 - val_loss: 2.6929 - val_acc: 0.6698\n",
      "Epoch 15/20\n",
      "323/323 [==============================] - 191s 592ms/step - loss: 0.0039 - acc: 0.9989 - val_loss: 2.6097 - val_acc: 0.6589\n",
      "Epoch 16/20\n",
      "323/323 [==============================] - 189s 584ms/step - loss: 0.0046 - acc: 0.9991 - val_loss: 3.0178 - val_acc: 0.6271\n",
      "Epoch 17/20\n",
      "323/323 [==============================] - 189s 586ms/step - loss: 0.0068 - acc: 0.9993 - val_loss: 2.7855 - val_acc: 0.6547\n",
      "Epoch 18/20\n",
      "323/323 [==============================] - 188s 581ms/step - loss: 0.0016 - acc: 0.9996 - val_loss: 2.8495 - val_acc: 0.6837\n",
      "Epoch 19/20\n",
      "323/323 [==============================] - 189s 585ms/step - loss: 0.0017 - acc: 0.9993 - val_loss: 3.1413 - val_acc: 0.6764\n",
      "Epoch 20/20\n",
      "323/323 [==============================] - 190s 588ms/step - loss: 0.0058 - acc: 0.9989 - val_loss: 3.9629 - val_acc: 0.6554\n"
     ]
    }
   ],
   "source": [
    "history = model.fit_generator(\n",
    "    train_generator,\n",
    "    epochs=20,\n",
    "    validation_data=validation_generator)"
   ]
  },
  {
   "cell_type": "code",
   "execution_count": 11,
   "id": "ignored-television",
   "metadata": {},
   "outputs": [],
   "source": [
    "save_hist_to_excel('history_base_2')"
   ]
  },
  {
   "cell_type": "code",
   "execution_count": 12,
   "id": "destroyed-broadway",
   "metadata": {},
   "outputs": [
    {
     "data": {
      "image/png": "[encoded data removed]",
      "text/plain": [
       "<Figure size 432x288 with 1 Axes>"
      ]
     },
     "metadata": {
      "needs_background": "light"
     },
     "output_type": "display_data"
    },
    {
     "data": {
      "image/png": "[encoded data removed]",
      "text/plain": [
       "<Figure size 432x288 with 1 Axes>"
      ]
     },
     "metadata": {
      "needs_background": "light"
     },
     "output_type": "display_data"
    }
   ],
   "source": [
    "#Displaying curves of loss and accuracy during training\n",
    "\n",
    "import matplotlib.pyplot as plt\n",
    "\n",
    "acc = history.history[\"acc\"]\n",
    "val_acc = history.history[\"val_acc\"]\n",
    "loss = history.history[\"loss\"]\n",
    "val_loss = history.history[\"val_loss\"]\n",
    "\n",
    "epochs = range(1, len(acc) + 1)\n",
    "\n",
    "plt.plot(epochs, acc, \"bo\", label=\"Training acc\")\n",
    "plt.plot(epochs, val_acc, \"b\", label=\"Validation acc\")\n",
    "plt.title(\"Training and validation accuracy\")\n",
    "plt.legend()\n",
    "\n",
    "plt.show()\n",
    "\n",
    "plt.plot(epochs, loss, \"bo\", label=\"Training loss\")\n",
    "plt.plot(epochs, val_loss, \"b\", label=\"Validation loss\")\n",
    "plt.title(\"Training and validation loss\")\n",
    "plt.legend()\n",
    "\n",
    "plt.show()"
   ]
  },
  {
   "cell_type": "markdown",
   "id": "attempted-february",
   "metadata": {},
   "source": [
    "As it can be seen, the major problem so far is overfitting!"
   ]
  },
  {
   "cell_type": "markdown",
   "id": "suffering-empire",
   "metadata": {},
   "source": [
    "## Overfitting reduce technique 1: Rebuidling the model with dropout"
   ]
  },
  {
   "cell_type": "markdown",
   "id": "loving-scratch",
   "metadata": {},
   "source": [
    "Overview of some techniques: https://towardsdatascience.com/deep-learning-3-more-on-cnns-handling-overfitting-2bd5d99abe5d"
   ]
  },
  {
   "cell_type": "code",
   "execution_count": 7,
   "id": "sacred-ceramic",
   "metadata": {},
   "outputs": [],
   "source": [
    "train_dir = os.path.join(created_dir, \"training\")\n",
    "# os.mkdir(train_dir)\n",
    "validation_dir = os.path.join(created_dir, \"validation\")\n",
    "# os.mkdir(validation_dir)"
   ]
  },
  {
   "cell_type": "code",
   "execution_count": 8,
   "id": "light-prime",
   "metadata": {},
   "outputs": [],
   "source": [
    "from keras import layers\n",
    "from keras import models\n",
    "\n",
    "model = models.Sequential()\n",
    "model.add(layers.Conv2D(32, (3, 3), activation='relu', input_shape=(150, 150, 3)))\n",
    "model.add(layers.MaxPooling2D((2, 2)))\n",
    "model.add(layers.Conv2D(64, (3, 3), activation='relu'))\n",
    "model.add(layers.MaxPooling2D((2, 2) ))\n",
    "model.add(layers.Flatten())\n",
    "model.add(layers.Dropout(0.5))\n",
    "model.add(layers.Dense(512, activation='relu'))\n",
    "model.add(layers.Dense (43, activation='softmax'))"
   ]
  },
  {
   "cell_type": "code",
   "execution_count": 9,
   "id": "binary-plasma",
   "metadata": {},
   "outputs": [
    {
     "name": "stdout",
     "output_type": "stream",
     "text": [
      "Model: \"sequential\"\n",
      "_________________________________________________________________\n",
      "Layer (type)                 Output Shape              Param #   \n",
      "=================================================================\n",
      "conv2d (Conv2D)              (None, 148, 148, 32)      896       \n",
      "_________________________________________________________________\n",
      "max_pooling2d (MaxPooling2D) (None, 74, 74, 32)        0         \n",
      "_________________________________________________________________\n",
      "conv2d_1 (Conv2D)            (None, 72, 72, 64)        18496     \n",
      "_________________________________________________________________\n",
      "max_pooling2d_1 (MaxPooling2 (None, 36, 36, 64)        0         \n",
      "_________________________________________________________________\n",
      "flatten (Flatten)            (None, 82944)             0         \n",
      "_________________________________________________________________\n",
      "dropout (Dropout)            (None, 82944)             0         \n",
      "_________________________________________________________________\n",
      "dense (Dense)                (None, 512)               42467840  \n",
      "_________________________________________________________________\n",
      "dense_1 (Dense)              (None, 43)                22059     \n",
      "=================================================================\n",
      "Total params: 42,509,291\n",
      "Trainable params: 42,509,291\n",
      "Non-trainable params: 0\n",
      "_________________________________________________________________\n"
     ]
    }
   ],
   "source": [
    "model.summary()"
   ]
  },
  {
   "cell_type": "code",
   "execution_count": 10,
   "id": "laden-likelihood",
   "metadata": {},
   "outputs": [],
   "source": [
    "from keras import optimizers\n",
    "\n",
    "#compilation\n",
    "model.compile(loss=\"categorical_crossentropy\", optimizer=optimizers.RMSprop(lr=1e-4), metrics=[\"acc\"])"
   ]
  },
  {
   "cell_type": "code",
   "execution_count": 11,
   "id": "original-center",
   "metadata": {},
   "outputs": [
    {
     "name": "stderr",
     "output_type": "stream",
     "text": [
      "/Users/philippmetzger/anaconda3/envs/dl_pip_2/lib/python3.8/site-packages/tensorflow/python/keras/engine/training.py:1844: UserWarning: `Model.fit_generator` is deprecated and will be removed in a future version. Please use `Model.fit`, which supports generators.\n",
      "  warnings.warn('`Model.fit_generator` is deprecated and '\n"
     ]
    },
    {
     "name": "stdout",
     "output_type": "stream",
     "text": [
      "Epoch 1/20\n",
      "323/323 [==============================] - 189s 584ms/step - loss: 3.0131 - acc: 0.2447 - val_loss: 2.4471 - val_acc: 0.3779\n",
      "Epoch 2/20\n",
      "323/323 [==============================] - 188s 583ms/step - loss: 0.8654 - acc: 0.7853 - val_loss: 2.2819 - val_acc: 0.4915\n",
      "Epoch 3/20\n",
      "323/323 [==============================] - 187s 579ms/step - loss: 0.3307 - acc: 0.9259 - val_loss: 2.3874 - val_acc: 0.4946\n",
      "Epoch 4/20\n",
      "323/323 [==============================] - 180s 556ms/step - loss: 0.1591 - acc: 0.9659 - val_loss: 2.4413 - val_acc: 0.5516\n",
      "Epoch 5/20\n",
      "323/323 [==============================] - 180s 558ms/step - loss: 0.0815 - acc: 0.9834 - val_loss: 2.6280 - val_acc: 0.5659\n",
      "Epoch 6/20\n",
      "323/323 [==============================] - 180s 556ms/step - loss: 0.0473 - acc: 0.9892 - val_loss: 2.8061 - val_acc: 0.5771\n",
      "Epoch 7/20\n",
      "323/323 [==============================] - 181s 562ms/step - loss: 0.0338 - acc: 0.9930 - val_loss: 2.7786 - val_acc: 0.5907\n",
      "Epoch 8/20\n",
      "323/323 [==============================] - 179s 556ms/step - loss: 0.0145 - acc: 0.9967 - val_loss: 2.9121 - val_acc: 0.5957\n",
      "Epoch 9/20\n",
      "323/323 [==============================] - 179s 554ms/step - loss: 0.0186 - acc: 0.9966 - val_loss: 2.9198 - val_acc: 0.5934\n",
      "Epoch 10/20\n",
      "323/323 [==============================] - 179s 555ms/step - loss: 0.0053 - acc: 0.9984 - val_loss: 3.1572 - val_acc: 0.6151\n",
      "Epoch 11/20\n",
      "323/323 [==============================] - 179s 555ms/step - loss: 0.0042 - acc: 0.9992 - val_loss: 3.3455 - val_acc: 0.5891\n",
      "Epoch 12/20\n",
      "323/323 [==============================] - 178s 552ms/step - loss: 0.0073 - acc: 0.9969 - val_loss: 3.4630 - val_acc: 0.5942\n",
      "Epoch 13/20\n",
      "323/323 [==============================] - 179s 555ms/step - loss: 0.0033 - acc: 0.9993 - val_loss: 3.6716 - val_acc: 0.5950\n",
      "Epoch 14/20\n",
      "323/323 [==============================] - 179s 554ms/step - loss: 0.0046 - acc: 0.9988 - val_loss: 3.4012 - val_acc: 0.6140\n",
      "Epoch 15/20\n",
      "323/323 [==============================] - 179s 555ms/step - loss: 0.0053 - acc: 0.9989 - val_loss: 3.3016 - val_acc: 0.6089\n",
      "Epoch 16/20\n",
      "323/323 [==============================] - 180s 558ms/step - loss: 6.5759e-04 - acc: 0.9998 - val_loss: 3.7280 - val_acc: 0.6132\n",
      "Epoch 17/20\n",
      "323/323 [==============================] - 178s 551ms/step - loss: 0.0018 - acc: 0.9994 - val_loss: 3.6548 - val_acc: 0.6159\n",
      "Epoch 18/20\n",
      "323/323 [==============================] - 177s 547ms/step - loss: 0.0038 - acc: 0.9991 - val_loss: 3.7240 - val_acc: 0.6221\n",
      "Epoch 19/20\n",
      "323/323 [==============================] - 176s 546ms/step - loss: 0.0016 - acc: 0.9992 - val_loss: 3.8968 - val_acc: 0.6291\n",
      "Epoch 20/20\n",
      "323/323 [==============================] - 177s 548ms/step - loss: 0.0022 - acc: 0.9991 - val_loss: 3.7678 - val_acc: 0.6186\n"
     ]
    }
   ],
   "source": [
    "history = model.fit_generator(\n",
    "    train_generator,\n",
    "    epochs=20,\n",
    "    validation_data=validation_generator\n",
    "    )"
   ]
  },
  {
   "cell_type": "code",
   "execution_count": 12,
   "id": "growing-response",
   "metadata": {},
   "outputs": [],
   "source": [
    "save_hist_to_excel('history_dropout_2_check')"
   ]
  },
  {
   "cell_type": "code",
   "execution_count": 29,
   "id": "neutral-wednesday",
   "metadata": {},
   "outputs": [
    {
     "data": {
      "image/png": "[encoded data removed]",
      "text/plain": [
       "<Figure size 1440x576 with 1 Axes>"
      ]
     },
     "metadata": {
      "needs_background": "light"
     },
     "output_type": "display_data"
    },
    {
     "data": {
      "image/png": "[encoded data removed]",
      "text/plain": [
       "<Figure size 1440x576 with 1 Axes>"
      ]
     },
     "metadata": {
      "needs_background": "light"
     },
     "output_type": "display_data"
    }
   ],
   "source": [
    "#Displaying curves of loss and accuracy during training\n",
    "\n",
    "import matplotlib.pyplot as plt\n",
    "\n",
    "acc = history.history[\"acc\"]\n",
    "val_acc = history.history[\"val_acc\"]\n",
    "loss = history.history[\"loss\"]\n",
    "val_loss = history.history[\"val_loss\"]\n",
    "\n",
    "epochs = range(1, len(acc) + 1)\n",
    "\n",
    "plt.plot(epochs, acc, \"bo\", label=\"Training acc\")\n",
    "plt.plot(epochs, val_acc, \"b\", label=\"Validation acc\")\n",
    "plt.title(\"Training and validation accuracy\")\n",
    "plt.legend()\n",
    "\n",
    "plt.show()\n",
    "\n",
    "plt.plot(epochs, loss, \"bo\", label=\"Training loss\")\n",
    "plt.plot(epochs, val_loss, \"b\", label=\"Validation loss\")\n",
    "plt.title(\"Training and validation loss\")\n",
    "plt.legend()\n",
    "\n",
    "plt.show()"
   ]
  },
  {
   "cell_type": "markdown",
   "id": "balanced-institution",
   "metadata": {},
   "source": [
    "## Overfitting reduce technique 2: Data Augmentation"
   ]
  },
  {
   "cell_type": "code",
   "execution_count": 5,
   "id": "operational-anger",
   "metadata": {},
   "outputs": [],
   "source": [
    "from keras.preprocessing.image import ImageDataGenerator\n",
    "\n",
    "#defining the parameters how the images will be adjusted\n",
    "datagen = ImageDataGenerator(\n",
    "    rotation_range=40,\n",
    "    width_shift_range=0.2,\n",
    "    shear_range=0.2,\n",
    "    zoom_range=0.2,\n",
    "    horizontal_flip=True,\n",
    "    fill_mode=\"nearest\")"
   ]
  },
  {
   "cell_type": "markdown",
   "id": "interior-beverage",
   "metadata": {},
   "source": [
    "##### Creating augmented images"
   ]
  },
  {
   "cell_type": "code",
   "execution_count": 33,
   "id": "dominant-latitude",
   "metadata": {
    "scrolled": false
   },
   "outputs": [
    {
     "name": "stdout",
     "output_type": "stream",
     "text": [
      "1/43 completed...\n",
      "2/43 completed...\n",
      "3/43 completed...\n",
      "4/43 completed...\n",
      "5/43 completed...\n",
      "6/43 completed...\n",
      "7/43 completed...\n",
      "8/43 completed...\n",
      "9/43 completed...\n",
      "10/43 completed...\n",
      "11/43 completed...\n",
      "12/43 completed...\n",
      "13/43 completed...\n",
      "14/43 completed...\n",
      "15/43 completed...\n",
      "16/43 completed...\n",
      "17/43 completed...\n",
      "18/43 completed...\n",
      "19/43 completed...\n",
      "20/43 completed...\n",
      "21/43 completed...\n",
      "22/43 completed...\n",
      "23/43 completed...\n",
      "24/43 completed...\n",
      "25/43 completed...\n",
      "26/43 completed...\n",
      "27/43 completed...\n",
      "28/43 completed...\n",
      "29/43 completed...\n",
      "30/43 completed...\n",
      "31/43 completed...\n",
      "32/43 completed...\n",
      "33/43 completed...\n",
      "34/43 completed...\n",
      "35/43 completed...\n",
      "36/43 completed...\n",
      "37/43 completed...\n",
      "38/43 completed...\n",
      "39/43 completed...\n",
      "40/43 completed...\n",
      "41/43 completed...\n",
      "42/43 completed...\n",
      "43/43 completed...\n",
      "44/43 completed...\n"
     ]
    }
   ],
   "source": [
    "from keras.preprocessing import image\n",
    "import matplotlib.pyplot as plt\n",
    "import random\n",
    "\n",
    "completed = 1\n",
    "#getting one image from each series of pictures and create 30 new augmented ones and save them\n",
    "for element in range(len(os.listdir(train_dir))):\n",
    "    if \".DS_Store\" not in os.listdir(train_dir)[element]:\n",
    "        series = []\n",
    "\n",
    "        while len(series) < 5:\n",
    "\n",
    "            names = [os.path.join(train_dir + \"/\" + os.listdir(train_dir)[element], name) for name in os.listdir(train_dir + \"/\" + os.listdir(train_dir)[element])]\n",
    "            for element_name in names:\n",
    "                if \".DS_Store\" in element_name:\n",
    "                    names.remove(element_name)\n",
    "                \n",
    "            #choosing a random image\n",
    "            number = random.randint(0, 149)\n",
    "        \n",
    "        \n",
    "            img_path = names[number]\n",
    "    \n",
    "            if img_path.split(\"/\")[-1].split(\"_\")[0] not in series:\n",
    "                #make sure that each series will be dealt with\n",
    "                series.append(img_path.split(\"/\")[-1].split(\"_\")[0])\n",
    "\n",
    "                img = image.load_img(img_path, target_size=(150, 150))\n",
    "\n",
    "                x = image.img_to_array(img)\n",
    "\n",
    "                x = x.reshape((1,) + x.shape)\n",
    "\n",
    "                i = 0\n",
    "                #create the images and save them\n",
    "                for batch in datagen.flow(x, batch_size=1):\n",
    "                    fig = plt.figure(i,frameon=False,figsize=(6,6))\n",
    "                    ax = plt.Axes(fig, [0., 0., 1., 1.])\n",
    "                    ax.set_axis_off()\n",
    "                    fig.add_axes(ax)\n",
    "                    imgplot = ax.imshow(image.array_to_img(batch[0]))\n",
    "                    image_name = str(i)\n",
    "                    plt.savefig(train_dir + \"/\" + os.listdir(train_dir)[element] + \"/\" + img_path.split(\"/\")[-1].split(\"_\")[0] +\"_augmented\"+str(i)+\".jpg\")\n",
    "                    plt.close()\n",
    "                    i += 1\n",
    "                    if i == 30:\n",
    "                        break\n",
    "                    \n",
    "    print(str(completed)+\"/43 completed...\")\n",
    "    completed += 1"
   ]
  },
  {
   "cell_type": "markdown",
   "id": "after-crash",
   "metadata": {},
   "source": [
    "##### Redefining the generators"
   ]
  },
  {
   "cell_type": "code",
   "execution_count": 5,
   "id": "cross-virgin",
   "metadata": {},
   "outputs": [
    {
     "name": "stdout",
     "output_type": "stream",
     "text": [
      "Found 12900 images belonging to 43 classes.\n",
      "Found 2580 images belonging to 43 classes.\n"
     ]
    }
   ],
   "source": [
    "from keras.preprocessing.image import ImageDataGenerator\n",
    "\n",
    "train_datagen = ImageDataGenerator(rescale=1./255)\n",
    "test_datagen = ImageDataGenerator(rescale=1./255)\n",
    "\n",
    "train_generator = train_datagen.flow_from_directory(\n",
    "    train_dir,\n",
    "    target_size=(150,150),\n",
    "    batch_size=20,\n",
    "    class_mode=\"categorical\")\n",
    "\n",
    "validation_generator = test_datagen.flow_from_directory(\n",
    "    validation_dir,\n",
    "    target_size=(150,150),\n",
    "    batch_size=20,\n",
    "    class_mode=\"categorical\")"
   ]
  },
  {
   "cell_type": "markdown",
   "id": "controlling-nature",
   "metadata": {},
   "source": [
    "##### Rebuilding the model"
   ]
  },
  {
   "cell_type": "code",
   "execution_count": 6,
   "id": "suspended-strand",
   "metadata": {},
   "outputs": [],
   "source": [
    "from keras import layers\n",
    "from keras import models\n",
    "\n",
    "model = models.Sequential()\n",
    "model.add(layers.Conv2D(32, (3, 3), activation='relu', input_shape=(150, 150, 3)))\n",
    "model.add(layers.MaxPooling2D((2, 2)))\n",
    "model.add(layers.Conv2D(64, (3, 3), activation='relu'))\n",
    "model.add(layers.MaxPooling2D((2, 2) ))\n",
    "model.add(layers.Flatten())\n",
    "\n",
    "# Added by Philipp to test dropout(0.5) and augmented in combination\n",
    "model.add(layers.Dropout(0.5))\n",
    "\n",
    "model.add(layers.Dense(512, activation='relu'))\n",
    "model.add(layers.Dense (43, activation='softmax'))"
   ]
  },
  {
   "cell_type": "code",
   "execution_count": 7,
   "id": "supposed-editing",
   "metadata": {},
   "outputs": [
    {
     "name": "stdout",
     "output_type": "stream",
     "text": [
      "Model: \"sequential\"\n",
      "_________________________________________________________________\n",
      "Layer (type)                 Output Shape              Param #   \n",
      "=================================================================\n",
      "conv2d (Conv2D)              (None, 148, 148, 32)      896       \n",
      "_________________________________________________________________\n",
      "max_pooling2d (MaxPooling2D) (None, 74, 74, 32)        0         \n",
      "_________________________________________________________________\n",
      "conv2d_1 (Conv2D)            (None, 72, 72, 64)        18496     \n",
      "_________________________________________________________________\n",
      "max_pooling2d_1 (MaxPooling2 (None, 36, 36, 64)        0         \n",
      "_________________________________________________________________\n",
      "flatten (Flatten)            (None, 82944)             0         \n",
      "_________________________________________________________________\n",
      "dense (Dense)                (None, 512)               42467840  \n",
      "_________________________________________________________________\n",
      "dense_1 (Dense)              (None, 43)                22059     \n",
      "=================================================================\n",
      "Total params: 42,509,291\n",
      "Trainable params: 42,509,291\n",
      "Non-trainable params: 0\n",
      "_________________________________________________________________\n"
     ]
    }
   ],
   "source": [
    "model.summary()"
   ]
  },
  {
   "cell_type": "markdown",
   "id": "established-strategy",
   "metadata": {},
   "source": [
    "##### Training the model"
   ]
  },
  {
   "cell_type": "code",
   "execution_count": 8,
   "id": "prerequisite-detection",
   "metadata": {},
   "outputs": [],
   "source": [
    "from keras import optimizers\n",
    "\n",
    "#compilation\n",
    "model.compile(loss=\"categorical_crossentropy\", optimizer=optimizers.RMSprop(lr=1e-4), metrics=[\"acc\"])"
   ]
  },
  {
   "cell_type": "code",
   "execution_count": 9,
   "id": "judicial-macro",
   "metadata": {},
   "outputs": [
    {
     "name": "stdout",
     "output_type": "stream",
     "text": [
      "data batch shape: (20, 150, 150, 3)\n",
      "labels batch shape: (20, 43)\n"
     ]
    }
   ],
   "source": [
    "import sys\n",
    "from PIL import Image\n",
    "sys.modules['Image'] = Image\n",
    "\n",
    "for data_batch, labels_batch in train_generator:\n",
    "    print('data batch shape:', data_batch.shape)\n",
    "    print('labels batch shape:', labels_batch.shape)\n",
    "    break"
   ]
  },
  {
   "cell_type": "code",
   "execution_count": 11,
   "id": "horizontal-creation",
   "metadata": {},
   "outputs": [
    {
     "name": "stdout",
     "output_type": "stream",
     "text": [
      "Epoch 1/20\n",
      "645/645 [==============================] - 354s 548ms/step - loss: 1.3520 - acc: 0.6289 - val_loss: 2.1274 - val_acc: 0.4442\n",
      "Epoch 2/20\n",
      "645/645 [==============================] - 355s 551ms/step - loss: 0.6726 - acc: 0.8240 - val_loss: 2.2587 - val_acc: 0.4740\n",
      "Epoch 3/20\n",
      "645/645 [==============================] - 355s 551ms/step - loss: 0.3640 - acc: 0.9062 - val_loss: 2.3538 - val_acc: 0.4822\n",
      "Epoch 4/20\n",
      "645/645 [==============================] - 375s 581ms/step - loss: 0.2018 - acc: 0.9485 - val_loss: 2.4742 - val_acc: 0.5326\n",
      "Epoch 5/20\n",
      "645/645 [==============================] - 398s 618ms/step - loss: 0.1122 - acc: 0.9716 - val_loss: 2.6648 - val_acc: 0.5457\n",
      "Epoch 6/20\n",
      "645/645 [==============================] - 368s 570ms/step - loss: 0.0690 - acc: 0.9832 - val_loss: 2.7347 - val_acc: 0.5384\n",
      "Epoch 7/20\n",
      "645/645 [==============================] - 397s 616ms/step - loss: 0.0408 - acc: 0.9913 - val_loss: 2.9653 - val_acc: 0.5457\n",
      "Epoch 8/20\n",
      "645/645 [==============================] - 394s 611ms/step - loss: 0.0275 - acc: 0.9936 - val_loss: 2.9795 - val_acc: 0.5651\n",
      "Epoch 9/20\n",
      "645/645 [==============================] - 405s 628ms/step - loss: 0.0210 - acc: 0.9952 - val_loss: 3.1359 - val_acc: 0.5508\n",
      "Epoch 10/20\n",
      "645/645 [==============================] - 392s 607ms/step - loss: 0.0144 - acc: 0.9966 - val_loss: 3.7520 - val_acc: 0.5186\n",
      "Epoch 11/20\n",
      "645/645 [==============================] - 399s 619ms/step - loss: 0.0124 - acc: 0.9966 - val_loss: 3.3595 - val_acc: 0.5694\n",
      "Epoch 12/20\n",
      "645/645 [==============================] - 397s 616ms/step - loss: 0.0090 - acc: 0.9978 - val_loss: 3.5605 - val_acc: 0.5558\n",
      "Epoch 13/20\n",
      "645/645 [==============================] - 374s 580ms/step - loss: 0.0101 - acc: 0.9979 - val_loss: 4.0285 - val_acc: 0.5674\n",
      "Epoch 14/20\n",
      "645/645 [==============================] - 376s 583ms/step - loss: 0.0061 - acc: 0.9987 - val_loss: 4.0327 - val_acc: 0.5655\n",
      "Epoch 15/20\n",
      "645/645 [==============================] - 361s 560ms/step - loss: 0.0075 - acc: 0.9980 - val_loss: 4.1541 - val_acc: 0.5884\n",
      "Epoch 16/20\n",
      "645/645 [==============================] - 361s 559ms/step - loss: 0.0056 - acc: 0.9985 - val_loss: 4.0858 - val_acc: 0.5655\n",
      "Epoch 17/20\n",
      "645/645 [==============================] - 362s 561ms/step - loss: 0.0076 - acc: 0.9982 - val_loss: 4.3485 - val_acc: 0.5585\n",
      "Epoch 18/20\n",
      "645/645 [==============================] - 357s 554ms/step - loss: 0.0048 - acc: 0.9986 - val_loss: 4.7233 - val_acc: 0.5589\n",
      "Epoch 19/20\n",
      "645/645 [==============================] - 358s 556ms/step - loss: 0.0074 - acc: 0.9984 - val_loss: 4.2762 - val_acc: 0.5833\n",
      "Epoch 20/20\n",
      "645/645 [==============================] - 362s 562ms/step - loss: 0.0022 - acc: 0.9993 - val_loss: 4.6105 - val_acc: 0.5721\n"
     ]
    }
   ],
   "source": [
    "history = model.fit_generator(\n",
    "    train_generator,\n",
    "    epochs=20,\n",
    "    validation_data=validation_generator)"
   ]
  },
  {
   "cell_type": "code",
   "execution_count": 12,
   "id": "sitting-blackberry",
   "metadata": {},
   "outputs": [],
   "source": [
    "save_hist_to_excel('history_augmented_2')"
   ]
  },
  {
   "cell_type": "code",
   "execution_count": 13,
   "id": "knowing-lease",
   "metadata": {},
   "outputs": [
    {
     "data": {
      "image/png": "[encoded data removed]",
      "text/plain": [
       "<Figure size 432x288 with 1 Axes>"
      ]
     },
     "metadata": {
      "needs_background": "light"
     },
     "output_type": "display_data"
    },
    {
     "data": {
      "image/png": "[encoded data removed]",
      "text/plain": [
       "<Figure size 432x288 with 1 Axes>"
      ]
     },
     "metadata": {
      "needs_background": "light"
     },
     "output_type": "display_data"
    }
   ],
   "source": [
    "#Displaying curves of loss and accuracy during training\n",
    "\n",
    "import matplotlib.pyplot as plt\n",
    "\n",
    "acc = history.history[\"acc\"]\n",
    "val_acc = history.history[\"val_acc\"]\n",
    "loss = history.history[\"loss\"]\n",
    "val_loss = history.history[\"val_loss\"]\n",
    "\n",
    "epochs = range(1, len(acc) + 1)\n",
    "\n",
    "plt.plot(epochs, acc, \"bo\", label=\"Training acc\")\n",
    "plt.plot(epochs, val_acc, \"b\", label=\"Validation acc\")\n",
    "plt.title(\"Training and validation accuracy\")\n",
    "plt.legend()\n",
    "\n",
    "plt.show()\n",
    "\n",
    "plt.plot(epochs, loss, \"bo\", label=\"Training loss\")\n",
    "plt.plot(epochs, val_loss, \"b\", label=\"Validation loss\")\n",
    "plt.title(\"Training and validation loss\")\n",
    "plt.legend()\n",
    "\n",
    "plt.show()"
   ]
  },
  {
   "cell_type": "code",
   "execution_count": null,
   "id": "complex-immunology",
   "metadata": {},
   "outputs": [],
   "source": []
  },
  {
   "cell_type": "markdown",
   "id": "funny-pierce",
   "metadata": {},
   "source": [
    "## Dropout like above but with diffrent values"
   ]
  },
  {
   "cell_type": "markdown",
   "id": "adjusted-economy",
   "metadata": {},
   "source": [
    "### 0.2"
   ]
  },
  {
   "cell_type": "code",
   "execution_count": 13,
   "id": "worst-hungarian",
   "metadata": {},
   "outputs": [],
   "source": [
    "from keras import layers\n",
    "from keras import models\n",
    "\n",
    "model = models.Sequential()\n",
    "model.add(layers.Conv2D(32, (3, 3), activation='relu', input_shape=(150, 150, 3)))\n",
    "model.add(layers.MaxPooling2D((2, 2)))\n",
    "model.add(layers.Conv2D(64, (3, 3), activation='relu'))\n",
    "model.add(layers.MaxPooling2D((2, 2) ))\n",
    "model.add(layers.Flatten())\n",
    "model.add(layers.Dropout(0.2))\n",
    "model.add(layers.Dense(512, activation='relu'))\n",
    "model.add(layers.Dense (43, activation='softmax'))"
   ]
  },
  {
   "cell_type": "code",
   "execution_count": 14,
   "id": "ruled-speaker",
   "metadata": {},
   "outputs": [
    {
     "name": "stdout",
     "output_type": "stream",
     "text": [
      "Model: \"sequential_1\"\n",
      "_________________________________________________________________\n",
      "Layer (type)                 Output Shape              Param #   \n",
      "=================================================================\n",
      "conv2d_2 (Conv2D)            (None, 148, 148, 32)      896       \n",
      "_________________________________________________________________\n",
      "max_pooling2d_2 (MaxPooling2 (None, 74, 74, 32)        0         \n",
      "_________________________________________________________________\n",
      "conv2d_3 (Conv2D)            (None, 72, 72, 64)        18496     \n",
      "_________________________________________________________________\n",
      "max_pooling2d_3 (MaxPooling2 (None, 36, 36, 64)        0         \n",
      "_________________________________________________________________\n",
      "flatten_1 (Flatten)          (None, 82944)             0         \n",
      "_________________________________________________________________\n",
      "dropout_1 (Dropout)          (None, 82944)             0         \n",
      "_________________________________________________________________\n",
      "dense_2 (Dense)              (None, 512)               42467840  \n",
      "_________________________________________________________________\n",
      "dense_3 (Dense)              (None, 43)                22059     \n",
      "=================================================================\n",
      "Total params: 42,509,291\n",
      "Trainable params: 42,509,291\n",
      "Non-trainable params: 0\n",
      "_________________________________________________________________\n"
     ]
    }
   ],
   "source": [
    "model.summary()"
   ]
  },
  {
   "cell_type": "code",
   "execution_count": 15,
   "id": "straight-insulin",
   "metadata": {},
   "outputs": [],
   "source": [
    "from keras import optimizers\n",
    "\n",
    "#compilation\n",
    "model.compile(loss=\"categorical_crossentropy\", optimizer=optimizers.RMSprop(lr=1e-4), metrics=[\"acc\"])"
   ]
  },
  {
   "cell_type": "code",
   "execution_count": 16,
   "id": "false-latvia",
   "metadata": {},
   "outputs": [
    {
     "name": "stdout",
     "output_type": "stream",
     "text": [
      "Epoch 1/15\n",
      "323/323 [==============================] - 178s 550ms/step - loss: 3.0649 - acc: 0.2448 - val_loss: 2.5909 - val_acc: 0.3298\n",
      "Epoch 2/15\n",
      "323/323 [==============================] - 178s 552ms/step - loss: 0.8913 - acc: 0.7890 - val_loss: 2.2547 - val_acc: 0.4492\n",
      "Epoch 3/15\n",
      "323/323 [==============================] - 179s 555ms/step - loss: 0.3748 - acc: 0.9123 - val_loss: 2.3774 - val_acc: 0.5085\n",
      "Epoch 4/15\n",
      "323/323 [==============================] - 177s 549ms/step - loss: 0.1870 - acc: 0.9591 - val_loss: 2.2665 - val_acc: 0.5407\n",
      "Epoch 5/15\n",
      "323/323 [==============================] - 179s 553ms/step - loss: 0.0923 - acc: 0.9834 - val_loss: 2.3543 - val_acc: 0.5550\n",
      "Epoch 6/15\n",
      "323/323 [==============================] - 177s 549ms/step - loss: 0.0549 - acc: 0.9892 - val_loss: 2.4443 - val_acc: 0.5519\n",
      "Epoch 7/15\n",
      "323/323 [==============================] - 178s 552ms/step - loss: 0.0375 - acc: 0.9919 - val_loss: 2.3617 - val_acc: 0.5833\n",
      "Epoch 8/15\n",
      "323/323 [==============================] - 178s 551ms/step - loss: 0.0255 - acc: 0.9952 - val_loss: 2.6421 - val_acc: 0.5961\n",
      "Epoch 9/15\n",
      "323/323 [==============================] - 178s 550ms/step - loss: 0.0120 - acc: 0.9978 - val_loss: 2.8673 - val_acc: 0.5911\n",
      "Epoch 10/15\n",
      "323/323 [==============================] - 178s 550ms/step - loss: 0.0143 - acc: 0.9972 - val_loss: 2.7437 - val_acc: 0.5895\n",
      "Epoch 11/15\n",
      "323/323 [==============================] - 178s 550ms/step - loss: 0.0057 - acc: 0.9984 - val_loss: 2.7794 - val_acc: 0.5996\n",
      "Epoch 12/15\n",
      "323/323 [==============================] - 177s 549ms/step - loss: 0.0174 - acc: 0.9980 - val_loss: 3.0496 - val_acc: 0.6039\n",
      "Epoch 13/15\n",
      "323/323 [==============================] - 179s 553ms/step - loss: 0.0031 - acc: 0.9994 - val_loss: 2.9138 - val_acc: 0.6116\n",
      "Epoch 14/15\n",
      "323/323 [==============================] - 189s 587ms/step - loss: 0.0022 - acc: 0.9994 - val_loss: 3.1653 - val_acc: 0.5984\n",
      "Epoch 15/15\n",
      "323/323 [==============================] - 186s 577ms/step - loss: 0.0033 - acc: 0.9996 - val_loss: 3.1642 - val_acc: 0.6054\n"
     ]
    }
   ],
   "source": [
    "history = model.fit_generator(\n",
    "    train_generator,\n",
    "    epochs=15,\n",
    "    validation_data=validation_generator\n",
    "    )"
   ]
  },
  {
   "cell_type": "code",
   "execution_count": 17,
   "id": "sporting-moses",
   "metadata": {},
   "outputs": [],
   "source": [
    "save_hist_to_excel('history_dropout_0_2')"
   ]
  },
  {
   "cell_type": "markdown",
   "id": "social-maria",
   "metadata": {},
   "source": [
    "### 0.3"
   ]
  },
  {
   "cell_type": "code",
   "execution_count": 18,
   "id": "gothic-enforcement",
   "metadata": {},
   "outputs": [],
   "source": [
    "from keras import layers\n",
    "from keras import models\n",
    "\n",
    "model = models.Sequential()\n",
    "model.add(layers.Conv2D(32, (3, 3), activation='relu', input_shape=(150, 150, 3)))\n",
    "model.add(layers.MaxPooling2D((2, 2)))\n",
    "model.add(layers.Conv2D(64, (3, 3), activation='relu'))\n",
    "model.add(layers.MaxPooling2D((2, 2) ))\n",
    "model.add(layers.Flatten())\n",
    "model.add(layers.Dropout(0.3))\n",
    "model.add(layers.Dense(512, activation='relu'))\n",
    "model.add(layers.Dense (43, activation='softmax'))"
   ]
  },
  {
   "cell_type": "code",
   "execution_count": 19,
   "id": "proprietary-restaurant",
   "metadata": {},
   "outputs": [
    {
     "name": "stdout",
     "output_type": "stream",
     "text": [
      "Model: \"sequential_2\"\n",
      "_________________________________________________________________\n",
      "Layer (type)                 Output Shape              Param #   \n",
      "=================================================================\n",
      "conv2d_4 (Conv2D)            (None, 148, 148, 32)      896       \n",
      "_________________________________________________________________\n",
      "max_pooling2d_4 (MaxPooling2 (None, 74, 74, 32)        0         \n",
      "_________________________________________________________________\n",
      "conv2d_5 (Conv2D)            (None, 72, 72, 64)        18496     \n",
      "_________________________________________________________________\n",
      "max_pooling2d_5 (MaxPooling2 (None, 36, 36, 64)        0         \n",
      "_________________________________________________________________\n",
      "flatten_2 (Flatten)          (None, 82944)             0         \n",
      "_________________________________________________________________\n",
      "dropout_2 (Dropout)          (None, 82944)             0         \n",
      "_________________________________________________________________\n",
      "dense_4 (Dense)              (None, 512)               42467840  \n",
      "_________________________________________________________________\n",
      "dense_5 (Dense)              (None, 43)                22059     \n",
      "=================================================================\n",
      "Total params: 42,509,291\n",
      "Trainable params: 42,509,291\n",
      "Non-trainable params: 0\n",
      "_________________________________________________________________\n"
     ]
    }
   ],
   "source": [
    "model.summary()"
   ]
  },
  {
   "cell_type": "code",
   "execution_count": 20,
   "id": "alive-reduction",
   "metadata": {},
   "outputs": [],
   "source": [
    "from keras import optimizers\n",
    "\n",
    "#compilation\n",
    "model.compile(loss=\"categorical_crossentropy\", optimizer=optimizers.RMSprop(lr=1e-4), metrics=[\"acc\"])"
   ]
  },
  {
   "cell_type": "code",
   "execution_count": null,
   "id": "equal-animal",
   "metadata": {},
   "outputs": [
    {
     "name": "stdout",
     "output_type": "stream",
     "text": [
      "Epoch 1/15\n",
      "323/323 [==============================] - 195s 603ms/step - loss: 3.0359 - acc: 0.2434 - val_loss: 2.4106 - val_acc: 0.3822\n",
      "Epoch 2/15\n",
      "323/323 [==============================] - 185s 573ms/step - loss: 0.8761 - acc: 0.7934 - val_loss: 2.2675 - val_acc: 0.4957\n",
      "Epoch 3/15\n",
      "323/323 [==============================] - 183s 567ms/step - loss: 0.3536 - acc: 0.9226 - val_loss: 2.1824 - val_acc: 0.5484\n",
      "Epoch 4/15\n",
      "323/323 [==============================] - 188s 582ms/step - loss: 0.1593 - acc: 0.9660 - val_loss: 2.3469 - val_acc: 0.5643\n",
      "Epoch 5/15\n",
      "323/323 [==============================] - 193s 597ms/step - loss: 0.0868 - acc: 0.9811 - val_loss: 2.3289 - val_acc: 0.5981\n",
      "Epoch 6/15\n",
      "323/323 [==============================] - 183s 567ms/step - loss: 0.0419 - acc: 0.9939 - val_loss: 2.5772 - val_acc: 0.5915\n",
      "Epoch 7/15\n",
      "323/323 [==============================] - 185s 572ms/step - loss: 0.0192 - acc: 0.9960 - val_loss: 2.4892 - val_acc: 0.5988\n",
      "Epoch 8/15\n",
      "323/323 [==============================] - 185s 574ms/step - loss: 0.0123 - acc: 0.9978 - val_loss: 2.4841 - val_acc: 0.6163\n",
      "Epoch 9/15\n",
      "323/323 [==============================] - 184s 570ms/step - loss: 0.0092 - acc: 0.9985 - val_loss: 2.6140 - val_acc: 0.6039\n",
      "Epoch 10/15\n",
      "323/323 [==============================] - 193s 597ms/step - loss: 0.0085 - acc: 0.9981 - val_loss: 2.6945 - val_acc: 0.6174\n",
      "Epoch 11/15\n",
      "323/323 [==============================] - 191s 591ms/step - loss: 0.0039 - acc: 0.9990 - val_loss: 2.7218 - val_acc: 0.6411\n",
      "Epoch 12/15\n",
      "323/323 [==============================] - 190s 589ms/step - loss: 0.0068 - acc: 0.9983 - val_loss: 2.7828 - val_acc: 0.6217\n",
      "Epoch 13/15\n",
      "323/323 [==============================] - 195s 602ms/step - loss: 0.0027 - acc: 0.9991 - val_loss: 2.8417 - val_acc: 0.6391\n",
      "Epoch 14/15\n",
      "323/323 [==============================] - 193s 596ms/step - loss: 0.0078 - acc: 0.9983 - val_loss: 2.8977 - val_acc: 0.6484\n",
      "Epoch 15/15\n",
      " 79/323 [======>.......................] - ETA: 2:18 - loss: 0.0012 - acc: 0.9998"
     ]
    }
   ],
   "source": [
    "history = model.fit_generator(\n",
    "    train_generator,\n",
    "    epochs=15,\n",
    "    validation_data=validation_generator\n",
    "    )"
   ]
  },
  {
   "cell_type": "code",
   "execution_count": null,
   "id": "critical-financing",
   "metadata": {},
   "outputs": [],
   "source": [
    "save_hist_to_excel('history_dropout_0_3')"
   ]
  },
  {
   "cell_type": "markdown",
   "id": "alleged-source",
   "metadata": {},
   "source": [
    "### 0.4"
   ]
  },
  {
   "cell_type": "code",
   "execution_count": null,
   "id": "posted-luther",
   "metadata": {},
   "outputs": [],
   "source": [
    "from keras import layers\n",
    "from keras import models\n",
    "\n",
    "model = models.Sequential()\n",
    "model.add(layers.Conv2D(32, (3, 3), activation='relu', input_shape=(150, 150, 3)))\n",
    "model.add(layers.MaxPooling2D((2, 2)))\n",
    "model.add(layers.Conv2D(64, (3, 3), activation='relu'))\n",
    "model.add(layers.MaxPooling2D((2, 2) ))\n",
    "model.add(layers.Flatten())\n",
    "model.add(layers.Dropout(0.4))\n",
    "model.add(layers.Dense(512, activation='relu'))\n",
    "model.add(layers.Dense (43, activation='softmax'))"
   ]
  },
  {
   "cell_type": "code",
   "execution_count": null,
   "id": "accomplished-charm",
   "metadata": {},
   "outputs": [],
   "source": [
    "model.summary()"
   ]
  },
  {
   "cell_type": "code",
   "execution_count": null,
   "id": "annoying-management",
   "metadata": {},
   "outputs": [],
   "source": [
    "from keras import optimizers\n",
    "\n",
    "#compilation\n",
    "model.compile(loss=\"categorical_crossentropy\", optimizer=optimizers.RMSprop(lr=1e-4), metrics=[\"acc\"])"
   ]
  },
  {
   "cell_type": "code",
   "execution_count": null,
   "id": "persistent-thanks",
   "metadata": {},
   "outputs": [],
   "source": [
    "history = model.fit_generator(\n",
    "    train_generator,\n",
    "    epochs=15,\n",
    "    validation_data=validation_generator\n",
    "    )"
   ]
  },
  {
   "cell_type": "code",
   "execution_count": null,
   "id": "numeric-resort",
   "metadata": {},
   "outputs": [],
   "source": [
    "save_hist_to_excel('history_dropout_0_4')"
   ]
  },
  {
   "cell_type": "markdown",
   "id": "exotic-gauge",
   "metadata": {},
   "source": [
    "### 0.7"
   ]
  },
  {
   "cell_type": "code",
   "execution_count": null,
   "id": "crazy-matter",
   "metadata": {},
   "outputs": [],
   "source": [
    "from keras import layers\n",
    "from keras import models\n",
    "\n",
    "model = models.Sequential()\n",
    "model.add(layers.Conv2D(32, (3, 3), activation='relu', input_shape=(150, 150, 3)))\n",
    "model.add(layers.MaxPooling2D((2, 2)))\n",
    "model.add(layers.Conv2D(64, (3, 3), activation='relu'))\n",
    "model.add(layers.MaxPooling2D((2, 2) ))\n",
    "model.add(layers.Flatten())\n",
    "model.add(layers.Dropout(0.7))\n",
    "model.add(layers.Dense(512, activation='relu'))\n",
    "model.add(layers.Dense (43, activation='softmax'))"
   ]
  },
  {
   "cell_type": "code",
   "execution_count": null,
   "id": "patient-overview",
   "metadata": {},
   "outputs": [],
   "source": [
    "model.summary()"
   ]
  },
  {
   "cell_type": "code",
   "execution_count": null,
   "id": "adequate-creation",
   "metadata": {},
   "outputs": [],
   "source": [
    "from keras import optimizers\n",
    "\n",
    "#compilation\n",
    "model.compile(loss=\"categorical_crossentropy\", optimizer=optimizers.RMSprop(lr=1e-4), metrics=[\"acc\"])"
   ]
  },
  {
   "cell_type": "code",
   "execution_count": null,
   "id": "greatest-dominant",
   "metadata": {},
   "outputs": [],
   "source": [
    "history = model.fit_generator(\n",
    "    train_generator,\n",
    "    epochs=15,\n",
    "    validation_data=validation_generator\n",
    "    )"
   ]
  },
  {
   "cell_type": "code",
   "execution_count": null,
   "id": "bronze-robert",
   "metadata": {},
   "outputs": [],
   "source": [
    "save_hist_to_excel('history_dropout_0_7')"
   ]
  },
  {
   "cell_type": "markdown",
   "id": "piano-executive",
   "metadata": {},
   "source": [
    "### 0.9"
   ]
  },
  {
   "cell_type": "code",
   "execution_count": null,
   "id": "coupled-clock",
   "metadata": {},
   "outputs": [],
   "source": [
    "from keras import layers\n",
    "from keras import models\n",
    "\n",
    "model = models.Sequential()\n",
    "model.add(layers.Conv2D(32, (3, 3), activation='relu', input_shape=(150, 150, 3)))\n",
    "model.add(layers.MaxPooling2D((2, 2)))\n",
    "model.add(layers.Conv2D(64, (3, 3), activation='relu'))\n",
    "model.add(layers.MaxPooling2D((2, 2) ))\n",
    "model.add(layers.Flatten())\n",
    "model.add(layers.Dropout(0.4))\n",
    "model.add(layers.Dense(512, activation='relu'))\n",
    "model.add(layers.Dense (43, activation='softmax'))"
   ]
  },
  {
   "cell_type": "code",
   "execution_count": null,
   "id": "married-jamaica",
   "metadata": {},
   "outputs": [],
   "source": [
    "model.summary()"
   ]
  },
  {
   "cell_type": "code",
   "execution_count": null,
   "id": "occasional-command",
   "metadata": {},
   "outputs": [],
   "source": [
    "from keras import optimizers\n",
    "\n",
    "#compilation\n",
    "model.compile(loss=\"categorical_crossentropy\", optimizer=optimizers.RMSprop(lr=1e-4), metrics=[\"acc\"])"
   ]
  },
  {
   "cell_type": "code",
   "execution_count": null,
   "id": "certified-patch",
   "metadata": {},
   "outputs": [],
   "source": [
    "history = model.fit_generator(\n",
    "    train_generator,\n",
    "    epochs=15,\n",
    "    validation_data=validation_generator\n",
    "    )"
   ]
  },
  {
   "cell_type": "code",
   "execution_count": null,
   "id": "macro-burning",
   "metadata": {},
   "outputs": [],
   "source": [
    "save_hist_to_excel('history_dropout_0_7')"
   ]
  }
 ],
 "metadata": {
  "kernelspec": {
   "display_name": "Python 3",
   "language": "python",
   "name": "python3"
  },
  "language_info": {
   "codemirror_mode": {
    "name": "ipython",
    "version": 3
   },
   "file_extension": ".py",
   "mimetype": "text/x-python",
   "name": "python",
   "nbconvert_exporter": "python",
   "pygments_lexer": "ipython3",
   "version": "3.8.5"
  }
 },
 "nbformat": 4,
 "nbformat_minor": 5
}

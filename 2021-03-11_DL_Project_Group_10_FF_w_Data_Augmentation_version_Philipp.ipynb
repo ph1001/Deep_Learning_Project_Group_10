{
 "cells": [
  {
   "cell_type": "markdown",
   "id": "looking-buffer",
   "metadata": {},
   "source": [
    "# Deep Learning Project - Traffic Signs Image Classification"
   ]
  },
  {
   "cell_type": "code",
   "execution_count": 1,
   "id": "subjective-passage",
   "metadata": {},
   "outputs": [],
   "source": [
    "import os, shutil\n",
    "import pandas as pd\n",
    "import seaborn as sns\n",
    "import matplotlib.pyplot as plt"
   ]
  },
  {
   "cell_type": "markdown",
   "id": "potential-strengthening",
   "metadata": {},
   "source": [
    "# Functions"
   ]
  },
  {
   "cell_type": "code",
   "execution_count": 2,
   "id": "demonstrated-enlargement",
   "metadata": {},
   "outputs": [],
   "source": [
    "def save_hist_to_excel(filename):\n",
    "    df = pd.DataFrame(history.history)\n",
    "    df.to_excel(filename + '.xlsx')"
   ]
  },
  {
   "cell_type": "markdown",
   "id": "bound-commission",
   "metadata": {},
   "source": [
    "## Overview of the training data"
   ]
  },
  {
   "cell_type": "code",
   "execution_count": 3,
   "id": "indoor-network",
   "metadata": {},
   "outputs": [
    {
     "name": "stdout",
     "output_type": "stream",
     "text": [
      "There are 43 different classes within the training data!\n"
     ]
    }
   ],
   "source": [
    "#setting the training directory (the training images can be found there, already sorted by class into folders)\n",
    "# base_training_dir = \"/Users/franz/Desktop/DL Project/Train/Final_Training/Images\"\n",
    "base_training_dir = \"/Users/philippmetzger/Documents/GitHub/Deep_Learning_Project_Group_10/Data/GTSRB_Final_Training_Images/GTSRB/Final_Training/Images/\"\n",
    "\n",
    "#setting the directory where the selected training and validation images will be stored in\n",
    "# created_dir = \"/Users/franz/Desktop/DL Project/Selected\"\n",
    "created_dir = \"/Users/philippmetzger/Documents/GitHub/Deep_Learning_Project_Group_10/Data/Selected\"\n",
    "\n",
    "#storing all the folder names that belong to the respective classes\n",
    "all_classes = sorted(i for i in os.listdir(base_training_dir) if i.startswith(\"0\"))\n",
    "\n",
    "print(\"There are\", len(all_classes), \"different classes within the training data!\")"
   ]
  },
  {
   "cell_type": "code",
   "execution_count": 4,
   "id": "olympic-cylinder",
   "metadata": {},
   "outputs": [],
   "source": [
    "#getting the number of images within each class of the training data\n",
    "amount_per_class = {}\n",
    "\n",
    "for i in range(len(all_classes)):\n",
    "    directory = base_training_dir + \"/\" + all_classes[i]\n",
    "    amount_per_class[i] = len(sorted(i for i in os.listdir(directory) if i.startswith(\"0\")))\n",
    "\n",
    "amount_per_class_df = pd.DataFrame.from_dict(amount_per_class, orient='index').rename(columns={0:\"amount\"})\n",
    "amount_per_class_df.index.name = 'class'\n",
    "\n",
    "#remove the \"#\" of the following line to display the number of images within each class\n",
    "#amount_per_class_df"
   ]
  },
  {
   "cell_type": "code",
   "execution_count": 5,
   "id": "furnished-glance",
   "metadata": {},
   "outputs": [
    {
     "data": {
      "image/png": "[encoded data removed]",
      "text/plain": [
       "<Figure size 1440x576 with 1 Axes>"
      ]
     },
     "metadata": {
      "needs_background": "light"
     },
     "output_type": "display_data"
    }
   ],
   "source": [
    "#displaying the number of images per class visually\n",
    "\n",
    "plt.rcParams[\"figure.figsize\"] = (20,8)\n",
    "fig, ax = plt.subplots()\n",
    "plt.bar(amount_per_class_df.index, amount_per_class_df.amount)\n",
    "plt.title(\"Number of images per class\", fontsize=20)\n",
    "plt.xlabel('class', fontsize=18)\n",
    "plt.ylabel('number of images', fontsize=18)\n",
    "ax.spines['right'].set_visible(False)\n",
    "ax.spines['top'].set_visible(False)\n",
    "plt.xticks(amount_per_class_df.index)\n",
    "plt.grid(axis=\"y\")\n",
    "plt.show()"
   ]
  },
  {
   "cell_type": "markdown",
   "id": "imported-monaco",
   "metadata": {},
   "source": [
    "As it can be seen in the bar chart, the dataset is highly unbalanced. Some classes have over 2000 instances, while others only have 210."
   ]
  },
  {
   "cell_type": "code",
   "execution_count": 6,
   "id": "acceptable-preserve",
   "metadata": {},
   "outputs": [
    {
     "data": {
      "text/html": [
       "<div>\n",
       "<style scoped>\n",
       "    .dataframe tbody tr th:only-of-type {\n",
       "        vertical-align: middle;\n",
       "    }\n",
       "\n",
       "    .dataframe tbody tr th {\n",
       "        vertical-align: top;\n",
       "    }\n",
       "\n",
       "    .dataframe thead th {\n",
       "        text-align: right;\n",
       "    }\n",
       "</style>\n",
       "<table border=\"1\" class=\"dataframe\">\n",
       "  <thead>\n",
       "    <tr style=\"text-align: right;\">\n",
       "      <th>class</th>\n",
       "      <th>0</th>\n",
       "      <th>37</th>\n",
       "      <th>19</th>\n",
       "      <th>32</th>\n",
       "      <th>27</th>\n",
       "      <th>41</th>\n",
       "      <th>42</th>\n",
       "      <th>24</th>\n",
       "      <th>29</th>\n",
       "      <th>39</th>\n",
       "      <th>21</th>\n",
       "      <th>40</th>\n",
       "      <th>20</th>\n",
       "      <th>36</th>\n",
       "      <th>22</th>\n",
       "      <th>6</th>\n",
       "      <th>16</th>\n",
       "      <th>34</th>\n",
       "      <th>30</th>\n",
       "      <th>23</th>\n",
       "    </tr>\n",
       "  </thead>\n",
       "  <tbody>\n",
       "    <tr>\n",
       "      <th>amount</th>\n",
       "      <td>210</td>\n",
       "      <td>210</td>\n",
       "      <td>210</td>\n",
       "      <td>240</td>\n",
       "      <td>240</td>\n",
       "      <td>240</td>\n",
       "      <td>240</td>\n",
       "      <td>270</td>\n",
       "      <td>270</td>\n",
       "      <td>300</td>\n",
       "      <td>330</td>\n",
       "      <td>360</td>\n",
       "      <td>360</td>\n",
       "      <td>390</td>\n",
       "      <td>390</td>\n",
       "      <td>420</td>\n",
       "      <td>420</td>\n",
       "      <td>420</td>\n",
       "      <td>450</td>\n",
       "      <td>510</td>\n",
       "    </tr>\n",
       "  </tbody>\n",
       "</table>\n",
       "</div>"
      ],
      "text/plain": [
       "class    0    37   19   32   27   41   42   24   29   39   21   40   20   36  \\\n",
       "amount  210  210  210  240  240  240  240  270  270  300  330  360  360  390   \n",
       "\n",
       "class    22   6    16   34   30   23  \n",
       "amount  390  420  420  420  450  510  "
      ]
     },
     "execution_count": 6,
     "metadata": {},
     "output_type": "execute_result"
    }
   ],
   "source": [
    "#displaying the 20 classes with the fewest images\n",
    "amount_per_class_df.sort_values(\"amount\").head(20).T"
   ]
  },
  {
   "cell_type": "markdown",
   "id": "medium-majority",
   "metadata": {},
   "source": [
    "Within each class, there are several groups of images, that belong together (these are basically all images of the very same traffic sign, that just differ in that they were made as a series while approaching the actual sign). These series of images shouldn't be splitted later when the data is split into training and validation sets, so some precautions might be useful:"
   ]
  },
  {
   "cell_type": "code",
   "execution_count": 7,
   "id": "strategic-senegal",
   "metadata": {},
   "outputs": [
    {
     "name": "stdout",
     "output_type": "stream",
     "text": [
      "There is a series whose number doesn't match the others in class 00033 , with the prefix 00019 !\n",
      "It only contains 29 images.\n",
      "All the other series of images contain exactly 30 images!\n"
     ]
    }
   ],
   "source": [
    "#checking the size(=amount of images) of these series and whether they are all having the same size\n",
    "\n",
    "#running a for loop over all classes\n",
    "for i in range(len(all_classes)):\n",
    "    directory = base_training_dir + \"/\" + all_classes[i]\n",
    "    \n",
    "    #get the names of all images within a class\n",
    "    list_of_images = sorted(i for i in os.listdir(directory) if i.startswith(\"0\"))\n",
    "\n",
    "    image_series = []\n",
    "    \n",
    "    #store all the prefixes of the images (which correspond to the series they belong to)\n",
    "    for element in list_of_images:\n",
    "        image_series.append(element.split(\"_\")[0])\n",
    "    \n",
    "    #count the frequency of each prefix, which equals the size of each respective series\n",
    "    image_counts = pd.Series(image_series).value_counts().sort_index()\n",
    "\n",
    "    for element in image_counts.values.tolist():\n",
    "        if element != image_counts.values.tolist()[0]:\n",
    "            #this line will show if there is a series that contains not the same number of images than the others\n",
    "            print(\"There is a series whose number doesn't match the others in class\", all_classes[i], \", with the prefix\", image_counts.sort_values().index[0], \"!\\nIt only contains\", element, \"images.\")\n",
    "            \n",
    "\n",
    "#apart from only one series, all others consist of exactly 30 images\n",
    "print(\"All the other series of images contain exactly\", image_counts.values.tolist()[0], \"images!\")"
   ]
  },
  {
   "cell_type": "markdown",
   "id": "velvet-breakdown",
   "metadata": {},
   "source": [
    "## Split into training and validation datasets"
   ]
  },
  {
   "cell_type": "markdown",
   "id": "surprised-fight",
   "metadata": {},
   "source": [
    "As already mentioned, it is important for the split into training and validation sets that the individual image series stay together. As a first approach, there will be 210 images used per class, as this number corresponds to the amount of images in the \"smallest\" class. This will fix the problem of imbalance in the dataset. Subsequently, the data will be splitted by a 5:2 (150:60) ratio into training and validation set, in order to guarantee that the series will stay together."
   ]
  },
  {
   "cell_type": "code",
   "execution_count": 8,
   "id": "wooden-willow",
   "metadata": {},
   "outputs": [],
   "source": [
    "#creating folders within the class folders for the training and validation sets\n",
    "train_dir = os.path.join(created_dir, \"training\")\n",
    "os.mkdir(train_dir)\n",
    "validation_dir = os.path.join(created_dir, \"validation\")\n",
    "os.mkdir(validation_dir)\n",
    "\n",
    "#creating folders for each class within the training and validation folders\n",
    "for i in range(len(all_classes)):\n",
    "    directory_train = os.path.join(train_dir, all_classes[i])\n",
    "    directory_val = os.path.join(validation_dir, all_classes[i])\n",
    "\n",
    "    os.mkdir(directory_train)\n",
    "    os.mkdir(directory_val)"
   ]
  },
  {
   "cell_type": "code",
   "execution_count": 9,
   "id": "common-glenn",
   "metadata": {},
   "outputs": [],
   "source": [
    "#creating a list that contains the names of the 1st, 2nd and 3rd series of images (3x30 names)\n",
    "training_names = []\n",
    "\n",
    "for i in range(5):\n",
    "    name = \"0000\" + str(i)\n",
    "    for i2 in range(30):\n",
    "        if i2 < 10:\n",
    "            name = name + \"_0000\" + str(i2) + \".ppm\"\n",
    "            training_names.append(name)\n",
    "            name = \"0000\" + str(i)\n",
    "        else:\n",
    "            name = name + \"_000\" + str(i2) + \".ppm\"\n",
    "            training_names.append(name)\n",
    "            name = \"0000\" + str(i)\n",
    "\n",
    "\n",
    "#creating a list that contains the names of the 4th and 5th series of images (2x30 names)\n",
    "val_names = []\n",
    "\n",
    "for i in range(5,7):\n",
    "    name = \"0000\" + str(i)\n",
    "    for i2 in range(30):\n",
    "        if i2 < 10:\n",
    "            name = name + \"_0000\" + str(i2) + \".ppm\"\n",
    "            val_names.append(name)\n",
    "            name = \"0000\" + str(i)\n",
    "        else:\n",
    "            name = name + \"_000\" + str(i2) + \".ppm\"\n",
    "            val_names.append(name)\n",
    "            name = \"0000\" + str(i)"
   ]
  },
  {
   "cell_type": "code",
   "execution_count": 10,
   "id": "noble-fantasy",
   "metadata": {},
   "outputs": [],
   "source": [
    "#copying the first 3 series within a class into the train folder and the 2 consecutive series into the validation folder \n",
    "for i in range(len(all_classes)):\n",
    "\n",
    "    for name in training_names:\n",
    "        src = base_training_dir + \"/\" + all_classes[i] + \"/\" + name\n",
    "        dst = train_dir + \"/\" + all_classes[i] + \"/\"  + name\n",
    "        shutil.copyfile(src, dst)\n",
    "    \n",
    "    for name in val_names:\n",
    "        src = base_training_dir + \"/\" + all_classes[i] + \"/\" + name\n",
    "        dst = validation_dir + \"/\" + all_classes[i] + \"/\"  + name\n",
    "        shutil.copyfile(src, dst)"
   ]
  },
  {
   "cell_type": "markdown",
   "id": "difficult-retailer",
   "metadata": {},
   "source": [
    "Now, there should be exactly 150 images within the train folder of each class and 60 images within the validation folder. Having 43 different classes, this means that there are a total of 6,450 (150x43) training images and another 2,580 (60x43) validation images. A sanity check will show if this worked correctly:"
   ]
  },
  {
   "cell_type": "code",
   "execution_count": 11,
   "id": "stunning-printing",
   "metadata": {},
   "outputs": [
    {
     "name": "stdout",
     "output_type": "stream",
     "text": [
      "Class 0 : training set size = 150 ; validation set size: 60\n",
      "Class 1 : training set size = 150 ; validation set size: 60\n",
      "Class 2 : training set size = 150 ; validation set size: 60\n",
      "Class 3 : training set size = 150 ; validation set size: 60\n",
      "Class 4 : training set size = 150 ; validation set size: 60\n",
      "Class 5 : training set size = 150 ; validation set size: 60\n",
      "Class 6 : training set size = 150 ; validation set size: 60\n",
      "Class 7 : training set size = 150 ; validation set size: 60\n",
      "Class 8 : training set size = 150 ; validation set size: 60\n",
      "Class 9 : training set size = 150 ; validation set size: 60\n",
      "Class 10 : training set size = 150 ; validation set size: 60\n",
      "Class 11 : training set size = 150 ; validation set size: 60\n",
      "Class 12 : training set size = 150 ; validation set size: 60\n",
      "Class 13 : training set size = 150 ; validation set size: 60\n",
      "Class 14 : training set size = 150 ; validation set size: 60\n",
      "Class 15 : training set size = 150 ; validation set size: 60\n",
      "Class 16 : training set size = 150 ; validation set size: 60\n",
      "Class 17 : training set size = 150 ; validation set size: 60\n",
      "Class 18 : training set size = 150 ; validation set size: 60\n",
      "Class 19 : training set size = 150 ; validation set size: 60\n",
      "Class 20 : training set size = 150 ; validation set size: 60\n",
      "Class 21 : training set size = 150 ; validation set size: 60\n",
      "Class 22 : training set size = 150 ; validation set size: 60\n",
      "Class 23 : training set size = 150 ; validation set size: 60\n",
      "Class 24 : training set size = 150 ; validation set size: 60\n",
      "Class 25 : training set size = 150 ; validation set size: 60\n",
      "Class 26 : training set size = 150 ; validation set size: 60\n",
      "Class 27 : training set size = 150 ; validation set size: 60\n",
      "Class 28 : training set size = 150 ; validation set size: 60\n",
      "Class 29 : training set size = 150 ; validation set size: 60\n",
      "Class 30 : training set size = 150 ; validation set size: 60\n",
      "Class 31 : training set size = 150 ; validation set size: 60\n",
      "Class 32 : training set size = 150 ; validation set size: 60\n",
      "Class 33 : training set size = 150 ; validation set size: 60\n",
      "Class 34 : training set size = 150 ; validation set size: 60\n",
      "Class 35 : training set size = 150 ; validation set size: 60\n",
      "Class 36 : training set size = 150 ; validation set size: 60\n",
      "Class 37 : training set size = 150 ; validation set size: 60\n",
      "Class 38 : training set size = 150 ; validation set size: 60\n",
      "Class 39 : training set size = 150 ; validation set size: 60\n",
      "Class 40 : training set size = 150 ; validation set size: 60\n",
      "Class 41 : training set size = 150 ; validation set size: 60\n",
      "Class 42 : training set size = 150 ; validation set size: 60\n"
     ]
    }
   ],
   "source": [
    "for i in range(len(all_classes)):\n",
    "    print(\"Class\", i, \": training set size =\", len(os.listdir(train_dir + \"/\" + all_classes[i])), \"; validation set size:\", len(os.listdir(validation_dir + \"/\" + all_classes[i])))"
   ]
  },
  {
   "cell_type": "markdown",
   "id": "powerful-bidding",
   "metadata": {},
   "source": [
    "As it can be seen, it worked correctly!"
   ]
  },
  {
   "cell_type": "markdown",
   "id": "imperial-local",
   "metadata": {},
   "source": [
    "## Data Preprocessing"
   ]
  },
  {
   "cell_type": "markdown",
   "id": "applicable-meeting",
   "metadata": {},
   "source": [
    "After running the upper part once, the notebook can be started from here from now on:"
   ]
  },
  {
   "cell_type": "code",
   "execution_count": 3,
   "id": "unique-timothy",
   "metadata": {},
   "outputs": [],
   "source": [
    "#this cell is optional and the notebook should be runned from here once the upper part has been executed once\n",
    "\n",
    "import os, shutil\n",
    "import pandas as pd\n",
    "import seaborn as sns\n",
    "import matplotlib.pyplot as plt\n",
    "\n",
    "# train_dir = \"/Users/franz/Desktop/DL Project/Selected/training\"\n",
    "# validation_dir = \"/Users/franz/Desktop/DL Project/Selected/validation\"\n",
    "\n",
    "train_dir = \"/Users/philippmetzger/Documents/GitHub/Deep_Learning_Project_Group_10/Data/Selected/training\"\n",
    "validation_dir = \"/Users/philippmetzger/Documents/GitHub/Deep_Learning_Project_Group_10/Data/Selected/validation\""
   ]
  },
  {
   "cell_type": "code",
   "execution_count": 4,
   "id": "involved-saturn",
   "metadata": {},
   "outputs": [
    {
     "name": "stdout",
     "output_type": "stream",
     "text": [
      "Found 12900 images belonging to 43 classes.\n",
      "Found 2580 images belonging to 43 classes.\n"
     ]
    }
   ],
   "source": [
    "from keras.preprocessing.image import ImageDataGenerator\n",
    "\n",
    "train_datagen = ImageDataGenerator(rescale=1./255)\n",
    "test_datagen = ImageDataGenerator(rescale=1./255)\n",
    "\n",
    "train_generator = train_datagen.flow_from_directory(\n",
    "    train_dir,\n",
    "    target_size=(150,150),\n",
    "    batch_size=20,\n",
    "    class_mode=\"categorical\")\n",
    "\n",
    "validation_generator = test_datagen.flow_from_directory(\n",
    "    validation_dir,\n",
    "    target_size=(150,150),\n",
    "    batch_size=20,\n",
    "    class_mode=\"categorical\")"
   ]
  },
  {
   "cell_type": "markdown",
   "id": "finnish-factory",
   "metadata": {},
   "source": [
    "## Draft of the model"
   ]
  },
  {
   "cell_type": "markdown",
   "id": "bibliographic-productivity",
   "metadata": {},
   "source": [
    "#### Building the model"
   ]
  },
  {
   "cell_type": "code",
   "execution_count": 13,
   "id": "thrown-compromise",
   "metadata": {},
   "outputs": [],
   "source": [
    "from keras import layers\n",
    "from keras import models\n",
    "\n",
    "model = models.Sequential()\n",
    "model.add(layers.Conv2D(32, (3, 3), activation='relu', input_shape=(150, 150, 3)))\n",
    "model.add(layers.MaxPooling2D((2, 2)))\n",
    "model.add(layers.Conv2D(64, (3, 3), activation='relu'))\n",
    "model.add(layers.MaxPooling2D((2, 2) ))\n",
    "model.add(layers.Flatten())\n",
    "model.add(layers.Dense(512, activation='relu'))\n",
    "model.add(layers.Dense (43, activation='softmax'))"
   ]
  },
  {
   "cell_type": "code",
   "execution_count": 14,
   "id": "united-coach",
   "metadata": {},
   "outputs": [
    {
     "name": "stdout",
     "output_type": "stream",
     "text": [
      "Model: \"sequential\"\n",
      "_________________________________________________________________\n",
      "Layer (type)                 Output Shape              Param #   \n",
      "=================================================================\n",
      "conv2d (Conv2D)              (None, 148, 148, 32)      896       \n",
      "_________________________________________________________________\n",
      "max_pooling2d (MaxPooling2D) (None, 74, 74, 32)        0         \n",
      "_________________________________________________________________\n",
      "conv2d_1 (Conv2D)            (None, 72, 72, 64)        18496     \n",
      "_________________________________________________________________\n",
      "max_pooling2d_1 (MaxPooling2 (None, 36, 36, 64)        0         \n",
      "_________________________________________________________________\n",
      "flatten (Flatten)            (None, 82944)             0         \n",
      "_________________________________________________________________\n",
      "dense (Dense)                (None, 512)               42467840  \n",
      "_________________________________________________________________\n",
      "dense_1 (Dense)              (None, 43)                22059     \n",
      "=================================================================\n",
      "Total params: 42,509,291\n",
      "Trainable params: 42,509,291\n",
      "Non-trainable params: 0\n",
      "_________________________________________________________________\n"
     ]
    }
   ],
   "source": [
    "model.summary()"
   ]
  },
  {
   "cell_type": "markdown",
   "id": "nutritional-country",
   "metadata": {},
   "source": [
    "#### Training the model"
   ]
  },
  {
   "cell_type": "code",
   "execution_count": 15,
   "id": "intellectual-hayes",
   "metadata": {},
   "outputs": [],
   "source": [
    "from keras import optimizers\n",
    "\n",
    "#compilation\n",
    "model.compile(loss=\"categorical_crossentropy\", optimizer=optimizers.RMSprop(lr=1e-4), metrics=[\"acc\"])"
   ]
  },
  {
   "cell_type": "code",
   "execution_count": 16,
   "id": "painful-words",
   "metadata": {},
   "outputs": [
    {
     "name": "stdout",
     "output_type": "stream",
     "text": [
      "data batch shape: (20, 150, 150, 3)\n",
      "labels batch shape: (20, 43)\n"
     ]
    }
   ],
   "source": [
    "import sys\n",
    "from PIL import Image\n",
    "sys.modules['Image'] = Image\n",
    "\n",
    "for data_batch, labels_batch in train_generator:\n",
    "    print('data batch shape:', data_batch.shape)\n",
    "    print('labels batch shape:', labels_batch.shape)\n",
    "    break"
   ]
  },
  {
   "cell_type": "code",
   "execution_count": 17,
   "id": "electrical-fleece",
   "metadata": {},
   "outputs": [
    {
     "name": "stderr",
     "output_type": "stream",
     "text": [
      "/Users/philippmetzger/anaconda3/envs/dl_pip_2/lib/python3.8/site-packages/tensorflow/python/keras/engine/training.py:1844: UserWarning: `Model.fit_generator` is deprecated and will be removed in a future version. Please use `Model.fit`, which supports generators.\n",
      "  warnings.warn('`Model.fit_generator` is deprecated and '\n"
     ]
    },
    {
     "name": "stdout",
     "output_type": "stream",
     "text": [
      "Epoch 1/30\n",
      "100/100 [==============================] - 60s 598ms/step - loss: 3.8536 - acc: 0.0725 - val_loss: 3.2002 - val_acc: 0.2260\n",
      "Epoch 2/30\n",
      "100/100 [==============================] - 58s 578ms/step - loss: 2.3935 - acc: 0.3948 - val_loss: 3.0494 - val_acc: 0.2260\n",
      "Epoch 3/30\n",
      "100/100 [==============================] - 56s 557ms/step - loss: 1.5316 - acc: 0.6347 - val_loss: 2.6101 - val_acc: 0.3400\n",
      "Epoch 4/30\n",
      "100/100 [==============================] - 56s 559ms/step - loss: 1.0389 - acc: 0.7544 - val_loss: 2.3297 - val_acc: 0.3910\n",
      "Epoch 5/30\n",
      "100/100 [==============================] - 55s 552ms/step - loss: 0.8698 - acc: 0.7937 - val_loss: 2.3948 - val_acc: 0.4420\n",
      "Epoch 6/30\n",
      "100/100 [==============================] - 56s 559ms/step - loss: 0.5911 - acc: 0.8589 - val_loss: 2.3968 - val_acc: 0.4240\n",
      "Epoch 7/30\n",
      "100/100 [==============================] - 56s 559ms/step - loss: 0.4793 - acc: 0.9013 - val_loss: 2.4756 - val_acc: 0.4540\n",
      "Epoch 8/30\n",
      "100/100 [==============================] - 60s 598ms/step - loss: 0.3885 - acc: 0.9121 - val_loss: 2.4423 - val_acc: 0.4770\n",
      "Epoch 9/30\n",
      "100/100 [==============================] - 59s 587ms/step - loss: 0.3069 - acc: 0.9270 - val_loss: 2.2723 - val_acc: 0.5250\n",
      "Epoch 10/30\n",
      "100/100 [==============================] - 60s 596ms/step - loss: 0.2019 - acc: 0.9547 - val_loss: 2.3198 - val_acc: 0.4950\n",
      "Epoch 11/30\n",
      "100/100 [==============================] - 58s 580ms/step - loss: 0.1664 - acc: 0.9689 - val_loss: 2.2923 - val_acc: 0.5310\n",
      "Epoch 12/30\n",
      "100/100 [==============================] - 60s 600ms/step - loss: 0.1640 - acc: 0.9690 - val_loss: 2.6469 - val_acc: 0.4870\n",
      "Epoch 13/30\n",
      "100/100 [==============================] - 57s 570ms/step - loss: 0.1616 - acc: 0.9657 - val_loss: 2.3419 - val_acc: 0.5430\n",
      "Epoch 14/30\n",
      "100/100 [==============================] - 57s 565ms/step - loss: 0.1002 - acc: 0.9786 - val_loss: 2.5071 - val_acc: 0.5170\n",
      "Epoch 15/30\n",
      "100/100 [==============================] - 57s 567ms/step - loss: 0.0920 - acc: 0.9800 - val_loss: 2.4956 - val_acc: 0.5290\n",
      "Epoch 16/30\n",
      "100/100 [==============================] - 56s 561ms/step - loss: 0.0639 - acc: 0.9883 - val_loss: 2.5729 - val_acc: 0.5420\n",
      "Epoch 17/30\n",
      "100/100 [==============================] - 56s 560ms/step - loss: 0.0624 - acc: 0.9850 - val_loss: 2.3720 - val_acc: 0.5610\n",
      "Epoch 18/30\n",
      "100/100 [==============================] - 56s 561ms/step - loss: 0.0496 - acc: 0.9904 - val_loss: 2.5452 - val_acc: 0.5350\n",
      "Epoch 19/30\n",
      "100/100 [==============================] - 58s 577ms/step - loss: 0.0445 - acc: 0.9928 - val_loss: 2.7019 - val_acc: 0.5490\n",
      "Epoch 20/30\n",
      "100/100 [==============================] - 59s 590ms/step - loss: 0.0394 - acc: 0.9911 - val_loss: 2.7650 - val_acc: 0.5250\n",
      "Epoch 21/30\n",
      "100/100 [==============================] - 56s 560ms/step - loss: 0.0414 - acc: 0.9917 - val_loss: 2.8470 - val_acc: 0.5400\n",
      "Epoch 22/30\n",
      "100/100 [==============================] - 57s 568ms/step - loss: 0.0414 - acc: 0.9916 - val_loss: 2.5747 - val_acc: 0.5570\n",
      "Epoch 23/30\n",
      "100/100 [==============================] - 58s 580ms/step - loss: 0.0279 - acc: 0.9937 - val_loss: 2.4870 - val_acc: 0.5710\n",
      "Epoch 24/30\n",
      "100/100 [==============================] - 57s 573ms/step - loss: 0.0201 - acc: 0.9968 - val_loss: 2.9177 - val_acc: 0.5970\n",
      "Epoch 25/30\n",
      "100/100 [==============================] - 57s 570ms/step - loss: 0.0129 - acc: 0.9988 - val_loss: 2.8093 - val_acc: 0.5540\n",
      "Epoch 26/30\n",
      "100/100 [==============================] - 58s 583ms/step - loss: 0.0234 - acc: 0.9954 - val_loss: 2.7417 - val_acc: 0.5600\n",
      "Epoch 27/30\n",
      "100/100 [==============================] - 59s 590ms/step - loss: 0.0255 - acc: 0.9929 - val_loss: 2.6014 - val_acc: 0.5790\n",
      "Epoch 28/30\n",
      "100/100 [==============================] - 59s 587ms/step - loss: 0.0166 - acc: 0.9964 - val_loss: 2.5910 - val_acc: 0.5840\n",
      "Epoch 29/30\n",
      "100/100 [==============================] - 59s 590ms/step - loss: 0.0241 - acc: 0.9963 - val_loss: 2.8353 - val_acc: 0.5810\n",
      "Epoch 30/30\n",
      "100/100 [==============================] - 59s 586ms/step - loss: 0.0154 - acc: 0.9965 - val_loss: 2.9902 - val_acc: 0.5850\n"
     ]
    }
   ],
   "source": [
    "history = model.fit_generator(\n",
    "    train_generator,\n",
    "    epochs=30,\n",
    "    validation_data=validation_generator)"
   ]
  },
  {
   "cell_type": "code",
   "execution_count": 19,
   "id": "ignored-television",
   "metadata": {},
   "outputs": [],
   "source": [
    "save_hist_to_excel('history_base_model_shuffle_true')"
   ]
  },
  {
   "cell_type": "code",
   "execution_count": 20,
   "id": "destroyed-broadway",
   "metadata": {},
   "outputs": [
    {
     "data": {
      "image/png": "[encoded data removed]",
      "text/plain": [
       "<Figure size 1440x576 with 1 Axes>"
      ]
     },
     "metadata": {
      "needs_background": "light"
     },
     "output_type": "display_data"
    },
    {
     "data": {
      "image/png": "[encoded data removed]",
      "text/plain": [
       "<Figure size 1440x576 with 1 Axes>"
      ]
     },
     "metadata": {
      "needs_background": "light"
     },
     "output_type": "display_data"
    }
   ],
   "source": [
    "#Displaying curves of loss and accuracy during training\n",
    "\n",
    "import matplotlib.pyplot as plt\n",
    "\n",
    "acc = history.history[\"acc\"]\n",
    "val_acc = history.history[\"val_acc\"]\n",
    "loss = history.history[\"loss\"]\n",
    "val_loss = history.history[\"val_loss\"]\n",
    "\n",
    "epochs = range(1, len(acc) + 1)\n",
    "\n",
    "plt.plot(epochs, acc, \"bo\", label=\"Training acc\")\n",
    "plt.plot(epochs, val_acc, \"b\", label=\"Validation acc\")\n",
    "plt.title(\"Training and validation accuracy\")\n",
    "plt.legend()\n",
    "\n",
    "plt.show()\n",
    "\n",
    "plt.plot(epochs, loss, \"bo\", label=\"Training loss\")\n",
    "plt.plot(epochs, val_loss, \"b\", label=\"Validation loss\")\n",
    "plt.title(\"Training and validation loss\")\n",
    "plt.legend()\n",
    "\n",
    "plt.show()"
   ]
  },
  {
   "cell_type": "markdown",
   "id": "attempted-february",
   "metadata": {},
   "source": [
    "As it can be seen, the major problem so far is overfitting!"
   ]
  },
  {
   "cell_type": "markdown",
   "id": "suffering-empire",
   "metadata": {},
   "source": [
    "## Overfitting reduce technique 1: Rebuidling the model with dropout"
   ]
  },
  {
   "cell_type": "markdown",
   "id": "loving-scratch",
   "metadata": {},
   "source": [
    "Overview of some techniques: https://towardsdatascience.com/deep-learning-3-more-on-cnns-handling-overfitting-2bd5d99abe5d"
   ]
  },
  {
   "cell_type": "code",
   "execution_count": 26,
   "id": "sacred-ceramic",
   "metadata": {},
   "outputs": [],
   "source": [
    "train_dir = os.path.join(created_dir, \"training\")\n",
    "# os.mkdir(train_dir)\n",
    "validation_dir = os.path.join(created_dir, \"validation\")\n",
    "# os.mkdir(validation_dir)"
   ]
  },
  {
   "cell_type": "code",
   "execution_count": 27,
   "id": "light-prime",
   "metadata": {},
   "outputs": [],
   "source": [
    "from keras import layers\n",
    "from keras import models\n",
    "\n",
    "model = models.Sequential()\n",
    "model.add(layers.Conv2D(32, (3, 3), activation='relu', input_shape=(150, 150, 3)))\n",
    "model.add(layers.MaxPooling2D((2, 2)))\n",
    "model.add(layers.Conv2D(64, (3, 3), activation='relu'))\n",
    "model.add(layers.MaxPooling2D((2, 2) ))\n",
    "model.add(layers.Flatten())\n",
    "model.add(layers.Dropout(0.5))\n",
    "model.add(layers.Dense(512, activation='relu'))\n",
    "model.add(layers.Dense (43, activation='softmax'))"
   ]
  },
  {
   "cell_type": "code",
   "execution_count": 28,
   "id": "binary-plasma",
   "metadata": {},
   "outputs": [
    {
     "name": "stdout",
     "output_type": "stream",
     "text": [
      "Model: \"sequential_2\"\n",
      "_________________________________________________________________\n",
      "Layer (type)                 Output Shape              Param #   \n",
      "=================================================================\n",
      "conv2d_4 (Conv2D)            (None, 148, 148, 32)      896       \n",
      "_________________________________________________________________\n",
      "max_pooling2d_4 (MaxPooling2 (None, 74, 74, 32)        0         \n",
      "_________________________________________________________________\n",
      "conv2d_5 (Conv2D)            (None, 72, 72, 64)        18496     \n",
      "_________________________________________________________________\n",
      "max_pooling2d_5 (MaxPooling2 (None, 36, 36, 64)        0         \n",
      "_________________________________________________________________\n",
      "flatten_2 (Flatten)          (None, 82944)             0         \n",
      "_________________________________________________________________\n",
      "dropout_1 (Dropout)          (None, 82944)             0         \n",
      "_________________________________________________________________\n",
      "dense_4 (Dense)              (None, 512)               42467840  \n",
      "_________________________________________________________________\n",
      "dense_5 (Dense)              (None, 43)                22059     \n",
      "=================================================================\n",
      "Total params: 42,509,291\n",
      "Trainable params: 42,509,291\n",
      "Non-trainable params: 0\n",
      "_________________________________________________________________\n"
     ]
    }
   ],
   "source": [
    "model.summary()"
   ]
  },
  {
   "cell_type": "code",
   "execution_count": 29,
   "id": "laden-likelihood",
   "metadata": {},
   "outputs": [],
   "source": [
    "from keras import optimizers\n",
    "\n",
    "#compilation\n",
    "model.compile(loss=\"categorical_crossentropy\", optimizer=optimizers.RMSprop(lr=1e-4), metrics=[\"acc\"])"
   ]
  },
  {
   "cell_type": "code",
   "execution_count": 30,
   "id": "original-center",
   "metadata": {},
   "outputs": [
    {
     "name": "stdout",
     "output_type": "stream",
     "text": [
      "Epoch 1/30\n",
      "100/100 [==============================] - 62s 614ms/step - loss: 3.6222 - acc: 0.0913 - val_loss: 3.2526 - val_acc: 0.1860\n",
      "Epoch 2/30\n",
      "100/100 [==============================] - 61s 613ms/step - loss: 2.4553 - acc: 0.4114 - val_loss: 2.7555 - val_acc: 0.2890\n",
      "Epoch 3/30\n",
      "100/100 [==============================] - 61s 614ms/step - loss: 1.5249 - acc: 0.6461 - val_loss: 2.3482 - val_acc: 0.3670\n",
      "Epoch 4/30\n",
      "100/100 [==============================] - 59s 592ms/step - loss: 1.0492 - acc: 0.7671 - val_loss: 2.2306 - val_acc: 0.4720\n",
      "Epoch 5/30\n",
      "100/100 [==============================] - 60s 596ms/step - loss: 0.7874 - acc: 0.8012 - val_loss: 2.0783 - val_acc: 0.4850\n",
      "Epoch 6/30\n",
      "100/100 [==============================] - 62s 620ms/step - loss: 0.5581 - acc: 0.8668 - val_loss: 1.9789 - val_acc: 0.4750\n",
      "Epoch 7/30\n",
      "100/100 [==============================] - 62s 620ms/step - loss: 0.4255 - acc: 0.9026 - val_loss: 1.9574 - val_acc: 0.5100\n",
      "Epoch 8/30\n",
      "100/100 [==============================] - 58s 583ms/step - loss: 0.3268 - acc: 0.9369 - val_loss: 2.1332 - val_acc: 0.4840\n",
      "Epoch 9/30\n",
      "100/100 [==============================] - 58s 581ms/step - loss: 0.2798 - acc: 0.9326 - val_loss: 1.7324 - val_acc: 0.5350\n",
      "Epoch 10/30\n",
      "100/100 [==============================] - 59s 586ms/step - loss: 0.2074 - acc: 0.9650 - val_loss: 2.3521 - val_acc: 0.5050\n",
      "Epoch 11/30\n",
      "100/100 [==============================] - 58s 579ms/step - loss: 0.1472 - acc: 0.9671 - val_loss: 2.1602 - val_acc: 0.5570\n",
      "Epoch 12/30\n",
      "100/100 [==============================] - 60s 604ms/step - loss: 0.1229 - acc: 0.9791 - val_loss: 1.8780 - val_acc: 0.5950\n",
      "Epoch 13/30\n",
      "100/100 [==============================] - 60s 602ms/step - loss: 0.1036 - acc: 0.9758 - val_loss: 2.3156 - val_acc: 0.5180\n",
      "Epoch 14/30\n",
      "100/100 [==============================] - 60s 595ms/step - loss: 0.0903 - acc: 0.9861 - val_loss: 2.3785 - val_acc: 0.5410\n",
      "Epoch 15/30\n",
      "100/100 [==============================] - 60s 595ms/step - loss: 0.0800 - acc: 0.9861 - val_loss: 2.1822 - val_acc: 0.5680\n",
      "Epoch 16/30\n",
      "100/100 [==============================] - 60s 602ms/step - loss: 0.0597 - acc: 0.9925 - val_loss: 2.0668 - val_acc: 0.5780\n",
      "Epoch 17/30\n",
      "100/100 [==============================] - 60s 604ms/step - loss: 0.0372 - acc: 0.9940 - val_loss: 2.3307 - val_acc: 0.5800\n",
      "Epoch 18/30\n",
      "100/100 [==============================] - 58s 581ms/step - loss: 0.0427 - acc: 0.9889 - val_loss: 2.0928 - val_acc: 0.6190\n",
      "Epoch 19/30\n",
      "100/100 [==============================] - 58s 580ms/step - loss: 0.0331 - acc: 0.9941 - val_loss: 2.2562 - val_acc: 0.5730\n",
      "Epoch 20/30\n",
      "100/100 [==============================] - 61s 611ms/step - loss: 0.0320 - acc: 0.9963 - val_loss: 2.1725 - val_acc: 0.6080\n",
      "Epoch 21/30\n",
      "100/100 [==============================] - 58s 579ms/step - loss: 0.0400 - acc: 0.9938 - val_loss: 2.3153 - val_acc: 0.6070\n",
      "Epoch 22/30\n",
      "100/100 [==============================] - 58s 582ms/step - loss: 0.0162 - acc: 0.9957 - val_loss: 2.1055 - val_acc: 0.6170\n",
      "Epoch 23/30\n",
      "100/100 [==============================] - 62s 617ms/step - loss: 0.0199 - acc: 0.9959 - val_loss: 2.2550 - val_acc: 0.6270\n",
      "Epoch 24/30\n",
      "100/100 [==============================] - 61s 613ms/step - loss: 0.0211 - acc: 0.9926 - val_loss: 2.5263 - val_acc: 0.5940\n",
      "Epoch 25/30\n",
      "100/100 [==============================] - 60s 600ms/step - loss: 0.0236 - acc: 0.9896 - val_loss: 2.3298 - val_acc: 0.5830\n",
      "Epoch 26/30\n",
      "100/100 [==============================] - 59s 587ms/step - loss: 0.0145 - acc: 0.9970 - val_loss: 2.4941 - val_acc: 0.6160\n",
      "Epoch 27/30\n",
      "100/100 [==============================] - 60s 596ms/step - loss: 0.0107 - acc: 0.9981 - val_loss: 2.1526 - val_acc: 0.6310\n",
      "Epoch 28/30\n",
      "100/100 [==============================] - 60s 600ms/step - loss: 0.0081 - acc: 0.9981 - val_loss: 2.5447 - val_acc: 0.6120\n",
      "Epoch 29/30\n",
      "100/100 [==============================] - 59s 588ms/step - loss: 0.0074 - acc: 0.9979 - val_loss: 2.5471 - val_acc: 0.6160\n",
      "Epoch 30/30\n",
      "100/100 [==============================] - 59s 594ms/step - loss: 0.0046 - acc: 0.9995 - val_loss: 2.7416 - val_acc: 0.6040\n"
     ]
    }
   ],
   "source": [
    "history = model.fit_generator(\n",
    "    train_generator,\n",
    "    epochs=30,\n",
    "    validation_data=validation_generator\n",
    "    )"
   ]
  },
  {
   "cell_type": "code",
   "execution_count": 31,
   "id": "growing-response",
   "metadata": {},
   "outputs": [],
   "source": [
    "save_hist_to_excel('history_dropout_1_shuffle_true')"
   ]
  },
  {
   "cell_type": "code",
   "execution_count": 29,
   "id": "neutral-wednesday",
   "metadata": {},
   "outputs": [
    {
     "data": {
      "image/png": "[encoded data removed]",
      "text/plain": [
       "<Figure size 1440x576 with 1 Axes>"
      ]
     },
     "metadata": {
      "needs_background": "light"
     },
     "output_type": "display_data"
    },
    {
     "data": {
      "image/png": "[encoded data removed]",
      "text/plain": [
       "<Figure size 1440x576 with 1 Axes>"
      ]
     },
     "metadata": {
      "needs_background": "light"
     },
     "output_type": "display_data"
    }
   ],
   "source": [
    "#Displaying curves of loss and accuracy during training\n",
    "\n",
    "import matplotlib.pyplot as plt\n",
    "\n",
    "acc = history.history[\"acc\"]\n",
    "val_acc = history.history[\"val_acc\"]\n",
    "loss = history.history[\"loss\"]\n",
    "val_loss = history.history[\"val_loss\"]\n",
    "\n",
    "epochs = range(1, len(acc) + 1)\n",
    "\n",
    "plt.plot(epochs, acc, \"bo\", label=\"Training acc\")\n",
    "plt.plot(epochs, val_acc, \"b\", label=\"Validation acc\")\n",
    "plt.title(\"Training and validation accuracy\")\n",
    "plt.legend()\n",
    "\n",
    "plt.show()\n",
    "\n",
    "plt.plot(epochs, loss, \"bo\", label=\"Training loss\")\n",
    "plt.plot(epochs, val_loss, \"b\", label=\"Validation loss\")\n",
    "plt.title(\"Training and validation loss\")\n",
    "plt.legend()\n",
    "\n",
    "plt.show()"
   ]
  },
  {
   "cell_type": "markdown",
   "id": "balanced-institution",
   "metadata": {},
   "source": [
    "## Overfitting reduce technique 2: Data Augmentation"
   ]
  },
  {
   "cell_type": "code",
   "execution_count": 5,
   "id": "operational-anger",
   "metadata": {},
   "outputs": [],
   "source": [
    "from keras.preprocessing.image import ImageDataGenerator\n",
    "\n",
    "#defining the parameters how the images will be adjusted\n",
    "datagen = ImageDataGenerator(\n",
    "    rotation_range=40,\n",
    "    width_shift_range=0.2,\n",
    "    shear_range=0.2,\n",
    "    zoom_range=0.2,\n",
    "    horizontal_flip=True,\n",
    "    fill_mode=\"nearest\")"
   ]
  },
  {
   "cell_type": "markdown",
   "id": "interior-beverage",
   "metadata": {},
   "source": [
    "##### Creating augmented images"
   ]
  },
  {
   "cell_type": "code",
   "execution_count": 33,
   "id": "dominant-latitude",
   "metadata": {
    "scrolled": false
   },
   "outputs": [
    {
     "name": "stdout",
     "output_type": "stream",
     "text": [
      "1/43 completed...\n",
      "2/43 completed...\n",
      "3/43 completed...\n",
      "4/43 completed...\n",
      "5/43 completed...\n",
      "6/43 completed...\n",
      "7/43 completed...\n",
      "8/43 completed...\n",
      "9/43 completed...\n",
      "10/43 completed...\n",
      "11/43 completed...\n",
      "12/43 completed...\n",
      "13/43 completed...\n",
      "14/43 completed...\n",
      "15/43 completed...\n",
      "16/43 completed...\n",
      "17/43 completed...\n",
      "18/43 completed...\n",
      "19/43 completed...\n",
      "20/43 completed...\n",
      "21/43 completed...\n",
      "22/43 completed...\n",
      "23/43 completed...\n",
      "24/43 completed...\n",
      "25/43 completed...\n",
      "26/43 completed...\n",
      "27/43 completed...\n",
      "28/43 completed...\n",
      "29/43 completed...\n",
      "30/43 completed...\n",
      "31/43 completed...\n",
      "32/43 completed...\n",
      "33/43 completed...\n",
      "34/43 completed...\n",
      "35/43 completed...\n",
      "36/43 completed...\n",
      "37/43 completed...\n",
      "38/43 completed...\n",
      "39/43 completed...\n",
      "40/43 completed...\n",
      "41/43 completed...\n",
      "42/43 completed...\n",
      "43/43 completed...\n",
      "44/43 completed...\n"
     ]
    }
   ],
   "source": [
    "from keras.preprocessing import image\n",
    "import matplotlib.pyplot as plt\n",
    "import random\n",
    "\n",
    "completed = 1\n",
    "#getting one image from each series of pictures and create 30 new augmented ones and save them\n",
    "for element in range(len(os.listdir(train_dir))):\n",
    "    if \".DS_Store\" not in os.listdir(train_dir)[element]:\n",
    "        series = []\n",
    "\n",
    "        while len(series) < 5:\n",
    "\n",
    "            names = [os.path.join(train_dir + \"/\" + os.listdir(train_dir)[element], name) for name in os.listdir(train_dir + \"/\" + os.listdir(train_dir)[element])]\n",
    "            for element_name in names:\n",
    "                if \".DS_Store\" in element_name:\n",
    "                    names.remove(element_name)\n",
    "                \n",
    "            #choosing a random image\n",
    "            number = random.randint(0, 149)\n",
    "        \n",
    "        \n",
    "            img_path = names[number]\n",
    "    \n",
    "            if img_path.split(\"/\")[-1].split(\"_\")[0] not in series:\n",
    "                #make sure that each series will be dealt with\n",
    "                series.append(img_path.split(\"/\")[-1].split(\"_\")[0])\n",
    "\n",
    "                img = image.load_img(img_path, target_size=(150, 150))\n",
    "\n",
    "                x = image.img_to_array(img)\n",
    "\n",
    "                x = x.reshape((1,) + x.shape)\n",
    "\n",
    "                i = 0\n",
    "                #create the images and save them\n",
    "                for batch in datagen.flow(x, batch_size=1):\n",
    "                    fig = plt.figure(i,frameon=False,figsize=(6,6))\n",
    "                    ax = plt.Axes(fig, [0., 0., 1., 1.])\n",
    "                    ax.set_axis_off()\n",
    "                    fig.add_axes(ax)\n",
    "                    imgplot = ax.imshow(image.array_to_img(batch[0]))\n",
    "                    image_name = str(i)\n",
    "                    plt.savefig(train_dir + \"/\" + os.listdir(train_dir)[element] + \"/\" + img_path.split(\"/\")[-1].split(\"_\")[0] +\"_augmented\"+str(i)+\".jpg\")\n",
    "                    plt.close()\n",
    "                    i += 1\n",
    "                    if i == 30:\n",
    "                        break\n",
    "                    \n",
    "    print(str(completed)+\"/43 completed...\")\n",
    "    completed += 1"
   ]
  },
  {
   "cell_type": "markdown",
   "id": "after-crash",
   "metadata": {},
   "source": [
    "##### Redefining the generators"
   ]
  },
  {
   "cell_type": "code",
   "execution_count": 5,
   "id": "cross-virgin",
   "metadata": {},
   "outputs": [
    {
     "name": "stdout",
     "output_type": "stream",
     "text": [
      "Found 12900 images belonging to 43 classes.\n",
      "Found 2580 images belonging to 43 classes.\n"
     ]
    }
   ],
   "source": [
    "from keras.preprocessing.image import ImageDataGenerator\n",
    "\n",
    "train_datagen = ImageDataGenerator(rescale=1./255)\n",
    "test_datagen = ImageDataGenerator(rescale=1./255)\n",
    "\n",
    "train_generator = train_datagen.flow_from_directory(\n",
    "    train_dir,\n",
    "    target_size=(150,150),\n",
    "    batch_size=20,\n",
    "    class_mode=\"categorical\")\n",
    "\n",
    "validation_generator = test_datagen.flow_from_directory(\n",
    "    validation_dir,\n",
    "    target_size=(150,150),\n",
    "    batch_size=20,\n",
    "    class_mode=\"categorical\")"
   ]
  },
  {
   "cell_type": "markdown",
   "id": "controlling-nature",
   "metadata": {},
   "source": [
    "##### Rebuilding the model"
   ]
  },
  {
   "cell_type": "code",
   "execution_count": 6,
   "id": "suspended-strand",
   "metadata": {},
   "outputs": [],
   "source": [
    "from keras import layers\n",
    "from keras import models\n",
    "\n",
    "model = models.Sequential()\n",
    "model.add(layers.Conv2D(32, (3, 3), activation='relu', input_shape=(150, 150, 3)))\n",
    "model.add(layers.MaxPooling2D((2, 2)))\n",
    "model.add(layers.Conv2D(64, (3, 3), activation='relu'))\n",
    "model.add(layers.MaxPooling2D((2, 2) ))\n",
    "model.add(layers.Flatten())\n",
    "model.add(layers.Dense(512, activation='relu'))\n",
    "model.add(layers.Dense (43, activation='softmax'))"
   ]
  },
  {
   "cell_type": "code",
   "execution_count": 7,
   "id": "supposed-editing",
   "metadata": {},
   "outputs": [
    {
     "name": "stdout",
     "output_type": "stream",
     "text": [
      "Model: \"sequential\"\n",
      "_________________________________________________________________\n",
      "Layer (type)                 Output Shape              Param #   \n",
      "=================================================================\n",
      "conv2d (Conv2D)              (None, 148, 148, 32)      896       \n",
      "_________________________________________________________________\n",
      "max_pooling2d (MaxPooling2D) (None, 74, 74, 32)        0         \n",
      "_________________________________________________________________\n",
      "conv2d_1 (Conv2D)            (None, 72, 72, 64)        18496     \n",
      "_________________________________________________________________\n",
      "max_pooling2d_1 (MaxPooling2 (None, 36, 36, 64)        0         \n",
      "_________________________________________________________________\n",
      "flatten (Flatten)            (None, 82944)             0         \n",
      "_________________________________________________________________\n",
      "dense (Dense)                (None, 512)               42467840  \n",
      "_________________________________________________________________\n",
      "dense_1 (Dense)              (None, 43)                22059     \n",
      "=================================================================\n",
      "Total params: 42,509,291\n",
      "Trainable params: 42,509,291\n",
      "Non-trainable params: 0\n",
      "_________________________________________________________________\n"
     ]
    }
   ],
   "source": [
    "model.summary()"
   ]
  },
  {
   "cell_type": "markdown",
   "id": "established-strategy",
   "metadata": {},
   "source": [
    "##### Training the model"
   ]
  },
  {
   "cell_type": "code",
   "execution_count": 8,
   "id": "prerequisite-detection",
   "metadata": {},
   "outputs": [],
   "source": [
    "from keras import optimizers\n",
    "\n",
    "#compilation\n",
    "model.compile(loss=\"categorical_crossentropy\", optimizer=optimizers.RMSprop(lr=1e-4), metrics=[\"acc\"])"
   ]
  },
  {
   "cell_type": "code",
   "execution_count": 9,
   "id": "judicial-macro",
   "metadata": {},
   "outputs": [
    {
     "name": "stdout",
     "output_type": "stream",
     "text": [
      "data batch shape: (20, 150, 150, 3)\n",
      "labels batch shape: (20, 43)\n"
     ]
    }
   ],
   "source": [
    "import sys\n",
    "from PIL import Image\n",
    "sys.modules['Image'] = Image\n",
    "\n",
    "for data_batch, labels_batch in train_generator:\n",
    "    print('data batch shape:', data_batch.shape)\n",
    "    print('labels batch shape:', labels_batch.shape)\n",
    "    break"
   ]
  },
  {
   "cell_type": "code",
   "execution_count": 11,
   "id": "horizontal-creation",
   "metadata": {},
   "outputs": [
    {
     "name": "stdout",
     "output_type": "stream",
     "text": [
      "Epoch 1/20\n",
      "645/645 [==============================] - 354s 548ms/step - loss: 1.3520 - acc: 0.6289 - val_loss: 2.1274 - val_acc: 0.4442\n",
      "Epoch 2/20\n",
      "645/645 [==============================] - 355s 551ms/step - loss: 0.6726 - acc: 0.8240 - val_loss: 2.2587 - val_acc: 0.4740\n",
      "Epoch 3/20\n",
      "645/645 [==============================] - 355s 551ms/step - loss: 0.3640 - acc: 0.9062 - val_loss: 2.3538 - val_acc: 0.4822\n",
      "Epoch 4/20\n",
      "645/645 [==============================] - 375s 581ms/step - loss: 0.2018 - acc: 0.9485 - val_loss: 2.4742 - val_acc: 0.5326\n",
      "Epoch 5/20\n",
      "645/645 [==============================] - 398s 618ms/step - loss: 0.1122 - acc: 0.9716 - val_loss: 2.6648 - val_acc: 0.5457\n",
      "Epoch 6/20\n",
      "645/645 [==============================] - 368s 570ms/step - loss: 0.0690 - acc: 0.9832 - val_loss: 2.7347 - val_acc: 0.5384\n",
      "Epoch 7/20\n",
      "645/645 [==============================] - 397s 616ms/step - loss: 0.0408 - acc: 0.9913 - val_loss: 2.9653 - val_acc: 0.5457\n",
      "Epoch 8/20\n",
      "645/645 [==============================] - 394s 611ms/step - loss: 0.0275 - acc: 0.9936 - val_loss: 2.9795 - val_acc: 0.5651\n",
      "Epoch 9/20\n",
      "645/645 [==============================] - 405s 628ms/step - loss: 0.0210 - acc: 0.9952 - val_loss: 3.1359 - val_acc: 0.5508\n",
      "Epoch 10/20\n",
      "645/645 [==============================] - 392s 607ms/step - loss: 0.0144 - acc: 0.9966 - val_loss: 3.7520 - val_acc: 0.5186\n",
      "Epoch 11/20\n",
      "645/645 [==============================] - 399s 619ms/step - loss: 0.0124 - acc: 0.9966 - val_loss: 3.3595 - val_acc: 0.5694\n",
      "Epoch 12/20\n",
      "645/645 [==============================] - 397s 616ms/step - loss: 0.0090 - acc: 0.9978 - val_loss: 3.5605 - val_acc: 0.5558\n",
      "Epoch 13/20\n",
      "645/645 [==============================] - 374s 580ms/step - loss: 0.0101 - acc: 0.9979 - val_loss: 4.0285 - val_acc: 0.5674\n",
      "Epoch 14/20\n",
      "645/645 [==============================] - 376s 583ms/step - loss: 0.0061 - acc: 0.9987 - val_loss: 4.0327 - val_acc: 0.5655\n",
      "Epoch 15/20\n",
      "645/645 [==============================] - 361s 560ms/step - loss: 0.0075 - acc: 0.9980 - val_loss: 4.1541 - val_acc: 0.5884\n",
      "Epoch 16/20\n",
      "645/645 [==============================] - 361s 559ms/step - loss: 0.0056 - acc: 0.9985 - val_loss: 4.0858 - val_acc: 0.5655\n",
      "Epoch 17/20\n",
      "645/645 [==============================] - 362s 561ms/step - loss: 0.0076 - acc: 0.9982 - val_loss: 4.3485 - val_acc: 0.5585\n",
      "Epoch 18/20\n",
      "645/645 [==============================] - 357s 554ms/step - loss: 0.0048 - acc: 0.9986 - val_loss: 4.7233 - val_acc: 0.5589\n",
      "Epoch 19/20\n",
      "645/645 [==============================] - 358s 556ms/step - loss: 0.0074 - acc: 0.9984 - val_loss: 4.2762 - val_acc: 0.5833\n",
      "Epoch 20/20\n",
      "645/645 [==============================] - 362s 562ms/step - loss: 0.0022 - acc: 0.9993 - val_loss: 4.6105 - val_acc: 0.5721\n"
     ]
    }
   ],
   "source": [
    "history = model.fit_generator(\n",
    "    train_generator,\n",
    "    epochs=20,\n",
    "    validation_data=validation_generator)"
   ]
  },
  {
   "cell_type": "code",
   "execution_count": 12,
   "id": "sitting-blackberry",
   "metadata": {},
   "outputs": [],
   "source": [
    "save_hist_to_excel('history_augmented_2')"
   ]
  },
  {
   "cell_type": "code",
   "execution_count": 13,
   "id": "knowing-lease",
   "metadata": {},
   "outputs": [
    {
     "data": {
      "image/png": "[encoded data removed]",
      "text/plain": [
       "<Figure size 432x288 with 1 Axes>"
      ]
     },
     "metadata": {
      "needs_background": "light"
     },
     "output_type": "display_data"
    },
    {
     "data": {
      "image/png": "[encoded data removed]",
      "text/plain": [
       "<Figure size 432x288 with 1 Axes>"
      ]
     },
     "metadata": {
      "needs_background": "light"
     },
     "output_type": "display_data"
    }
   ],
   "source": [
    "#Displaying curves of loss and accuracy during training\n",
    "\n",
    "import matplotlib.pyplot as plt\n",
    "\n",
    "acc = history.history[\"acc\"]\n",
    "val_acc = history.history[\"val_acc\"]\n",
    "loss = history.history[\"loss\"]\n",
    "val_loss = history.history[\"val_loss\"]\n",
    "\n",
    "epochs = range(1, len(acc) + 1)\n",
    "\n",
    "plt.plot(epochs, acc, \"bo\", label=\"Training acc\")\n",
    "plt.plot(epochs, val_acc, \"b\", label=\"Validation acc\")\n",
    "plt.title(\"Training and validation accuracy\")\n",
    "plt.legend()\n",
    "\n",
    "plt.show()\n",
    "\n",
    "plt.plot(epochs, loss, \"bo\", label=\"Training loss\")\n",
    "plt.plot(epochs, val_loss, \"b\", label=\"Validation loss\")\n",
    "plt.title(\"Training and validation loss\")\n",
    "plt.legend()\n",
    "\n",
    "plt.show()"
   ]
  },
  {
   "cell_type": "code",
   "execution_count": null,
   "id": "complex-immunology",
   "metadata": {},
   "outputs": [],
   "source": []
  },
  {
   "cell_type": "code",
   "execution_count": null,
   "id": "educational-variety",
   "metadata": {},
   "outputs": [],
   "source": []
  },
  {
   "cell_type": "code",
   "execution_count": null,
   "id": "worst-hungarian",
   "metadata": {},
   "outputs": [],
   "source": []
  }
 ],
 "metadata": {
  "kernelspec": {
   "display_name": "Python 3",
   "language": "python",
   "name": "python3"
  },
  "language_info": {
   "codemirror_mode": {
    "name": "ipython",
    "version": 3
   },
   "file_extension": ".py",
   "mimetype": "text/x-python",
   "name": "python",
   "nbconvert_exporter": "python",
   "pygments_lexer": "ipython3",
   "version": "3.8.5"
  }
 },
 "nbformat": 4,
 "nbformat_minor": 5
}

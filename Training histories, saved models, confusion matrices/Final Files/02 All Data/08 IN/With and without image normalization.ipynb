{
 "cells": [
  {
   "cell_type": "code",
   "execution_count": 2,
   "id": "opened-chassis",
   "metadata": {},
   "outputs": [],
   "source": [
    "import pandas as pd\n",
    "import numpy as np\n",
    "import plotly as py\n",
    "import matplotlib.pyplot as plt"
   ]
  },
  {
   "cell_type": "code",
   "execution_count": 3,
   "id": "significant-turkey",
   "metadata": {},
   "outputs": [],
   "source": [
    "lower = pd.read_excel('02 AD+3CV+GS+DO_medium_down.xlsx', index_col=0).iloc[:25, :]\n",
    "i_norma = pd.read_excel('AD+GS+3CV+DO_medium+IN.xlsx', index_col=0)"
   ]
  },
  {
   "cell_type": "code",
   "execution_count": 4,
   "id": "comprehensive-price",
   "metadata": {},
   "outputs": [
    {
     "data": {
      "text/html": [
       "<div>\n",
       "<style scoped>\n",
       "    .dataframe tbody tr th:only-of-type {\n",
       "        vertical-align: middle;\n",
       "    }\n",
       "\n",
       "    .dataframe tbody tr th {\n",
       "        vertical-align: top;\n",
       "    }\n",
       "\n",
       "    .dataframe thead th {\n",
       "        text-align: right;\n",
       "    }\n",
       "</style>\n",
       "<table border=\"1\" class=\"dataframe\">\n",
       "  <thead>\n",
       "    <tr style=\"text-align: right;\">\n",
       "      <th></th>\n",
       "      <th>loss</th>\n",
       "      <th>acc</th>\n",
       "      <th>val_loss</th>\n",
       "      <th>val_acc</th>\n",
       "    </tr>\n",
       "  </thead>\n",
       "  <tbody>\n",
       "    <tr>\n",
       "      <th>0</th>\n",
       "      <td>3.596039</td>\n",
       "      <td>0.396685</td>\n",
       "      <td>2.627808</td>\n",
       "      <td>0.745301</td>\n",
       "    </tr>\n",
       "    <tr>\n",
       "      <th>1</th>\n",
       "      <td>27.346151</td>\n",
       "      <td>0.612714</td>\n",
       "      <td>29.248833</td>\n",
       "      <td>0.770729</td>\n",
       "    </tr>\n",
       "    <tr>\n",
       "      <th>2</th>\n",
       "      <td>114.021278</td>\n",
       "      <td>0.667468</td>\n",
       "      <td>88.799347</td>\n",
       "      <td>0.817161</td>\n",
       "    </tr>\n",
       "  </tbody>\n",
       "</table>\n",
       "</div>"
      ],
      "text/plain": [
       "         loss       acc   val_loss   val_acc\n",
       "0    3.596039  0.396685   2.627808  0.745301\n",
       "1   27.346151  0.612714  29.248833  0.770729\n",
       "2  114.021278  0.667468  88.799347  0.817161"
      ]
     },
     "execution_count": 4,
     "metadata": {},
     "output_type": "execute_result"
    }
   ],
   "source": [
    "lower.head(3)"
   ]
  },
  {
   "cell_type": "code",
   "execution_count": 5,
   "id": "transparent-clear",
   "metadata": {
    "scrolled": true
   },
   "outputs": [
    {
     "data": {
      "text/html": [
       "<div>\n",
       "<style scoped>\n",
       "    .dataframe tbody tr th:only-of-type {\n",
       "        vertical-align: middle;\n",
       "    }\n",
       "\n",
       "    .dataframe tbody tr th {\n",
       "        vertical-align: top;\n",
       "    }\n",
       "\n",
       "    .dataframe thead th {\n",
       "        text-align: right;\n",
       "    }\n",
       "</style>\n",
       "<table border=\"1\" class=\"dataframe\">\n",
       "  <thead>\n",
       "    <tr style=\"text-align: right;\">\n",
       "      <th></th>\n",
       "      <th>loss</th>\n",
       "      <th>acc</th>\n",
       "      <th>val_loss</th>\n",
       "      <th>val_acc</th>\n",
       "    </tr>\n",
       "  </thead>\n",
       "  <tbody>\n",
       "    <tr>\n",
       "      <th>0</th>\n",
       "      <td>7.264599</td>\n",
       "      <td>0.158725</td>\n",
       "      <td>2.321735</td>\n",
       "      <td>0.494430</td>\n",
       "    </tr>\n",
       "    <tr>\n",
       "      <th>1</th>\n",
       "      <td>1.461462</td>\n",
       "      <td>0.640692</td>\n",
       "      <td>0.891036</td>\n",
       "      <td>0.805681</td>\n",
       "    </tr>\n",
       "    <tr>\n",
       "      <th>2</th>\n",
       "      <td>0.600379</td>\n",
       "      <td>0.857596</td>\n",
       "      <td>0.665968</td>\n",
       "      <td>0.860447</td>\n",
       "    </tr>\n",
       "  </tbody>\n",
       "</table>\n",
       "</div>"
      ],
      "text/plain": [
       "       loss       acc  val_loss   val_acc\n",
       "0  7.264599  0.158725  2.321735  0.494430\n",
       "1  1.461462  0.640692  0.891036  0.805681\n",
       "2  0.600379  0.857596  0.665968  0.860447"
      ]
     },
     "execution_count": 5,
     "metadata": {},
     "output_type": "execute_result"
    }
   ],
   "source": [
    "i_norma.head(3)"
   ]
  },
  {
   "cell_type": "code",
   "execution_count": 6,
   "id": "olympic-wholesale",
   "metadata": {
    "scrolled": true
   },
   "outputs": [
    {
     "name": "stdout",
     "output_type": "stream",
     "text": [
      "(25, 4)\n",
      "(25, 4)\n"
     ]
    }
   ],
   "source": [
    "print(lower.shape)\n",
    "print(i_norma.shape)"
   ]
  },
  {
   "cell_type": "markdown",
   "id": "selective-founder",
   "metadata": {},
   "source": [
    "### Plot accuracies"
   ]
  },
  {
   "cell_type": "markdown",
   "id": "imperial-contrast",
   "metadata": {},
   "source": [
    "#### Create a df to plot loss values"
   ]
  },
  {
   "cell_type": "code",
   "execution_count": 7,
   "id": "recent-costume",
   "metadata": {},
   "outputs": [],
   "source": [
    "# Initialize an empty df\n",
    "final_acc = pd.DataFrame()"
   ]
  },
  {
   "cell_type": "code",
   "execution_count": 8,
   "id": "endless-remove",
   "metadata": {},
   "outputs": [],
   "source": [
    "# List the columns the df will have\n",
    "final_acc_columns = ['Train Acc Lower', 'Train Acc IN', 'Val Acc Lower', 'Val Acc IN']"
   ]
  },
  {
   "cell_type": "code",
   "execution_count": 9,
   "id": "color-upgrade",
   "metadata": {},
   "outputs": [],
   "source": [
    "# Create the columns\n",
    "for column in final_acc_columns:\n",
    "    final_acc[column] = None"
   ]
  },
  {
   "cell_type": "code",
   "execution_count": 10,
   "id": "latest-massachusetts",
   "metadata": {},
   "outputs": [
    {
     "data": {
      "text/html": [
       "<div>\n",
       "<style scoped>\n",
       "    .dataframe tbody tr th:only-of-type {\n",
       "        vertical-align: middle;\n",
       "    }\n",
       "\n",
       "    .dataframe tbody tr th {\n",
       "        vertical-align: top;\n",
       "    }\n",
       "\n",
       "    .dataframe thead th {\n",
       "        text-align: right;\n",
       "    }\n",
       "</style>\n",
       "<table border=\"1\" class=\"dataframe\">\n",
       "  <thead>\n",
       "    <tr style=\"text-align: right;\">\n",
       "      <th></th>\n",
       "      <th>Train Acc Lower</th>\n",
       "      <th>Train Acc IN</th>\n",
       "      <th>Val Acc Lower</th>\n",
       "      <th>Val Acc IN</th>\n",
       "    </tr>\n",
       "  </thead>\n",
       "  <tbody>\n",
       "  </tbody>\n",
       "</table>\n",
       "</div>"
      ],
      "text/plain": [
       "Empty DataFrame\n",
       "Columns: [Train Acc Lower, Train Acc IN, Val Acc Lower, Val Acc IN]\n",
       "Index: []"
      ]
     },
     "execution_count": 10,
     "metadata": {},
     "output_type": "execute_result"
    }
   ],
   "source": [
    "# Confirm they were correctly created\n",
    "final_acc"
   ]
  },
  {
   "cell_type": "code",
   "execution_count": 11,
   "id": "quiet-angola",
   "metadata": {},
   "outputs": [],
   "source": [
    "# Add training accuracy values\n",
    "final_acc['Train Acc Lower'] = lower['acc']\n",
    "final_acc['Train Acc IN'] = i_norma['acc']\n",
    "\n",
    "\n",
    "# Add val accuracy values\n",
    "final_acc['Val Acc Lower'] = lower['val_acc']\n",
    "final_acc['Val Acc IN'] = i_norma['val_acc']"
   ]
  },
  {
   "cell_type": "code",
   "execution_count": 12,
   "id": "popular-marathon",
   "metadata": {},
   "outputs": [
    {
     "data": {
      "text/html": [
       "<div>\n",
       "<style scoped>\n",
       "    .dataframe tbody tr th:only-of-type {\n",
       "        vertical-align: middle;\n",
       "    }\n",
       "\n",
       "    .dataframe tbody tr th {\n",
       "        vertical-align: top;\n",
       "    }\n",
       "\n",
       "    .dataframe thead th {\n",
       "        text-align: right;\n",
       "    }\n",
       "</style>\n",
       "<table border=\"1\" class=\"dataframe\">\n",
       "  <thead>\n",
       "    <tr style=\"text-align: right;\">\n",
       "      <th></th>\n",
       "      <th>Train Acc Lower</th>\n",
       "      <th>Train Acc IN</th>\n",
       "      <th>Val Acc Lower</th>\n",
       "      <th>Val Acc IN</th>\n",
       "    </tr>\n",
       "  </thead>\n",
       "  <tbody>\n",
       "    <tr>\n",
       "      <th>0</th>\n",
       "      <td>0.396685</td>\n",
       "      <td>0.158725</td>\n",
       "      <td>0.745301</td>\n",
       "      <td>0.494430</td>\n",
       "    </tr>\n",
       "    <tr>\n",
       "      <th>1</th>\n",
       "      <td>0.612714</td>\n",
       "      <td>0.640692</td>\n",
       "      <td>0.770729</td>\n",
       "      <td>0.805681</td>\n",
       "    </tr>\n",
       "    <tr>\n",
       "      <th>2</th>\n",
       "      <td>0.667468</td>\n",
       "      <td>0.857596</td>\n",
       "      <td>0.817161</td>\n",
       "      <td>0.860447</td>\n",
       "    </tr>\n",
       "    <tr>\n",
       "      <th>3</th>\n",
       "      <td>0.700291</td>\n",
       "      <td>0.921020</td>\n",
       "      <td>0.821754</td>\n",
       "      <td>0.892253</td>\n",
       "    </tr>\n",
       "    <tr>\n",
       "      <th>4</th>\n",
       "      <td>0.724481</td>\n",
       "      <td>0.945173</td>\n",
       "      <td>0.806106</td>\n",
       "      <td>0.894549</td>\n",
       "    </tr>\n",
       "  </tbody>\n",
       "</table>\n",
       "</div>"
      ],
      "text/plain": [
       "   Train Acc Lower  Train Acc IN  Val Acc Lower  Val Acc IN\n",
       "0         0.396685      0.158725       0.745301    0.494430\n",
       "1         0.612714      0.640692       0.770729    0.805681\n",
       "2         0.667468      0.857596       0.817161    0.860447\n",
       "3         0.700291      0.921020       0.821754    0.892253\n",
       "4         0.724481      0.945173       0.806106    0.894549"
      ]
     },
     "execution_count": 12,
     "metadata": {},
     "output_type": "execute_result"
    }
   ],
   "source": [
    "final_acc.head(5)"
   ]
  },
  {
   "cell_type": "code",
   "execution_count": 27,
   "id": "popular-delaware",
   "metadata": {},
   "outputs": [
    {
     "data": {
      "image/png": "[encoded data removed]",
      "text/plain": [
       "<Figure size 720x360 with 1 Axes>"
      ]
     },
     "metadata": {
      "needs_background": "light"
     },
     "output_type": "display_data"
    }
   ],
   "source": [
    "# define area\n",
    "plt.figure(figsize=(10, 5))\n",
    "\n",
    "# define x axis\n",
    "x = final_acc.index\n",
    "  \n",
    "# plot lines\n",
    "plt.plot(x, final_acc['Train Acc Lower'], label = \"Train Acc Without Image Norm\", color='green')\n",
    "plt.plot(x, final_acc['Train Acc IN'], label = \"Train Acc With Image Norm\", color='red')\n",
    "\n",
    "plt.plot(x, final_acc['Val Acc Lower'], label = \"Val Acc Without Image Norm\", color='green', linestyle='-.')\n",
    "plt.plot(x, final_acc['Val Acc IN'], label = \"Val Acc With Image Norm\", color='red', linestyle='-.')\n",
    "\n",
    "plt.xticks(np.arange(0, 25, 1))\n",
    "plt.yticks(np.arange(0, 1.1, 0.1))\n",
    "plt.legend()\n",
    "plt.xlabel(\"Epochs\")\n",
    "plt.ylabel(\"Train and Val Accuracies\")\n",
    "plt.title(\"Comparing Models With and Without Image Normalization - Accuracy\")\n",
    "plt.show()"
   ]
  },
  {
   "cell_type": "markdown",
   "id": "binary-female",
   "metadata": {},
   "source": [
    "### Plot loss values"
   ]
  },
  {
   "cell_type": "markdown",
   "id": "loved-candle",
   "metadata": {},
   "source": [
    "#### Create a df to plot loss values"
   ]
  },
  {
   "cell_type": "code",
   "execution_count": 16,
   "id": "failing-translator",
   "metadata": {},
   "outputs": [],
   "source": [
    "# Initialize an empty df\n",
    "final_loss = pd.DataFrame()"
   ]
  },
  {
   "cell_type": "code",
   "execution_count": 17,
   "id": "revised-pickup",
   "metadata": {},
   "outputs": [],
   "source": [
    "# List the columns the df will have\n",
    "final_loss_columns = ['Train Loss Lower', 'Train Loss IN', 'Val Loss Lower', 'Val Loss IN']"
   ]
  },
  {
   "cell_type": "code",
   "execution_count": 18,
   "id": "sound-river",
   "metadata": {},
   "outputs": [],
   "source": [
    "# Create the columns\n",
    "for column in final_loss_columns:\n",
    "    final_loss[column] = None"
   ]
  },
  {
   "cell_type": "code",
   "execution_count": 19,
   "id": "governmental-background",
   "metadata": {},
   "outputs": [
    {
     "data": {
      "text/html": [
       "<div>\n",
       "<style scoped>\n",
       "    .dataframe tbody tr th:only-of-type {\n",
       "        vertical-align: middle;\n",
       "    }\n",
       "\n",
       "    .dataframe tbody tr th {\n",
       "        vertical-align: top;\n",
       "    }\n",
       "\n",
       "    .dataframe thead th {\n",
       "        text-align: right;\n",
       "    }\n",
       "</style>\n",
       "<table border=\"1\" class=\"dataframe\">\n",
       "  <thead>\n",
       "    <tr style=\"text-align: right;\">\n",
       "      <th></th>\n",
       "      <th>Train Loss Lower</th>\n",
       "      <th>Train Loss IN</th>\n",
       "      <th>Val Loss Lower</th>\n",
       "      <th>Val Loss IN</th>\n",
       "    </tr>\n",
       "  </thead>\n",
       "  <tbody>\n",
       "  </tbody>\n",
       "</table>\n",
       "</div>"
      ],
      "text/plain": [
       "Empty DataFrame\n",
       "Columns: [Train Loss Lower, Train Loss IN, Val Loss Lower, Val Loss IN]\n",
       "Index: []"
      ]
     },
     "execution_count": 19,
     "metadata": {},
     "output_type": "execute_result"
    }
   ],
   "source": [
    "# Confirm they were correctly created\n",
    "final_loss"
   ]
  },
  {
   "cell_type": "code",
   "execution_count": 20,
   "id": "enormous-glenn",
   "metadata": {},
   "outputs": [],
   "source": [
    "# Add training accuracy values\n",
    "final_loss['Train Loss Lower'] = lower['loss']\n",
    "final_loss['Train Loss IN'] = i_norma['loss']\n",
    "\n",
    "# Add val accuracy values\n",
    "final_loss['Val Loss Lower'] = lower['val_loss']\n",
    "final_loss['Val Loss IN'] = i_norma['val_loss']"
   ]
  },
  {
   "cell_type": "code",
   "execution_count": 21,
   "id": "floating-shore",
   "metadata": {},
   "outputs": [
    {
     "data": {
      "text/html": [
       "<div>\n",
       "<style scoped>\n",
       "    .dataframe tbody tr th:only-of-type {\n",
       "        vertical-align: middle;\n",
       "    }\n",
       "\n",
       "    .dataframe tbody tr th {\n",
       "        vertical-align: top;\n",
       "    }\n",
       "\n",
       "    .dataframe thead th {\n",
       "        text-align: right;\n",
       "    }\n",
       "</style>\n",
       "<table border=\"1\" class=\"dataframe\">\n",
       "  <thead>\n",
       "    <tr style=\"text-align: right;\">\n",
       "      <th></th>\n",
       "      <th>Train Loss Lower</th>\n",
       "      <th>Train Loss IN</th>\n",
       "      <th>Val Loss Lower</th>\n",
       "      <th>Val Loss IN</th>\n",
       "    </tr>\n",
       "  </thead>\n",
       "  <tbody>\n",
       "    <tr>\n",
       "      <th>0</th>\n",
       "      <td>3.596039</td>\n",
       "      <td>7.264599</td>\n",
       "      <td>2.627808</td>\n",
       "      <td>2.321735</td>\n",
       "    </tr>\n",
       "    <tr>\n",
       "      <th>1</th>\n",
       "      <td>27.346151</td>\n",
       "      <td>1.461462</td>\n",
       "      <td>29.248833</td>\n",
       "      <td>0.891036</td>\n",
       "    </tr>\n",
       "    <tr>\n",
       "      <th>2</th>\n",
       "      <td>114.021278</td>\n",
       "      <td>0.600379</td>\n",
       "      <td>88.799347</td>\n",
       "      <td>0.665968</td>\n",
       "    </tr>\n",
       "    <tr>\n",
       "      <th>3</th>\n",
       "      <td>319.421387</td>\n",
       "      <td>0.348970</td>\n",
       "      <td>239.794388</td>\n",
       "      <td>0.557698</td>\n",
       "    </tr>\n",
       "    <tr>\n",
       "      <th>4</th>\n",
       "      <td>629.885010</td>\n",
       "      <td>0.243041</td>\n",
       "      <td>576.906555</td>\n",
       "      <td>0.636678</td>\n",
       "    </tr>\n",
       "  </tbody>\n",
       "</table>\n",
       "</div>"
      ],
      "text/plain": [
       "   Train Loss Lower  Train Loss IN  Val Loss Lower  Val Loss IN\n",
       "0          3.596039       7.264599        2.627808     2.321735\n",
       "1         27.346151       1.461462       29.248833     0.891036\n",
       "2        114.021278       0.600379       88.799347     0.665968\n",
       "3        319.421387       0.348970      239.794388     0.557698\n",
       "4        629.885010       0.243041      576.906555     0.636678"
      ]
     },
     "execution_count": 21,
     "metadata": {},
     "output_type": "execute_result"
    }
   ],
   "source": [
    "final_loss.head(5)"
   ]
  },
  {
   "cell_type": "markdown",
   "id": "essential-crawford",
   "metadata": {},
   "source": [
    "#### Plot"
   ]
  },
  {
   "cell_type": "code",
   "execution_count": 23,
   "id": "consistent-flavor",
   "metadata": {},
   "outputs": [
    {
     "data": {
      "image/png": "[encoded data removed]",
      "text/plain": [
       "<Figure size 720x360 with 1 Axes>"
      ]
     },
     "metadata": {
      "needs_background": "light"
     },
     "output_type": "display_data"
    }
   ],
   "source": [
    "# define area\n",
    "plt.figure(figsize=(10, 5))\n",
    "\n",
    "# define x axis\n",
    "x = final_loss.index\n",
    "  \n",
    "# plot lines\n",
    "plt.plot(x, final_loss['Train Loss Lower'], label = \"Train Loss Without Image Norm\", color='green')\n",
    "plt.plot(x, final_loss['Train Loss IN'], label = \"Train Loss With Image Norm\", color='red')\n",
    "\n",
    "plt.plot(x, final_loss['Val Loss Lower'], label = \"Val Loss Without Image Norm\", color='green', linestyle='-.')\n",
    "plt.plot(x, final_loss['Val Loss IN'], label = \"Val Loss With Image Norm\", color='red', linestyle='-.')\n",
    "\n",
    "plt.xticks(np.arange(0, 25, 1))\n",
    "plt.legend()\n",
    "plt.xlabel(\"Epochs\")\n",
    "plt.ylabel(\"Train and Val Loss\")\n",
    "plt.title(\"Comparing Models With and Without Image Normalization - Loss\")\n",
    "plt.show()"
   ]
  },
  {
   "cell_type": "code",
   "execution_count": null,
   "id": "involved-address",
   "metadata": {},
   "outputs": [],
   "source": []
  }
 ],
 "metadata": {
  "kernelspec": {
   "display_name": "Python 3",
   "language": "python",
   "name": "python3"
  },
  "language_info": {
   "codemirror_mode": {
    "name": "ipython",
    "version": 3
   },
   "file_extension": ".py",
   "mimetype": "text/x-python",
   "name": "python",
   "nbconvert_exporter": "python",
   "pygments_lexer": "ipython3",
   "version": "3.8.5"
  }
 },
 "nbformat": 4,
 "nbformat_minor": 5
}

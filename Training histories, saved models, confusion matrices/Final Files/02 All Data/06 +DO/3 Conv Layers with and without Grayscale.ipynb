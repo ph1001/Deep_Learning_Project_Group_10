{
 "cells": [
  {
   "cell_type": "code",
   "execution_count": 1,
   "id": "opened-chassis",
   "metadata": {},
   "outputs": [],
   "source": [
    "import pandas as pd\n",
    "import numpy as np\n",
    "import plotly as py\n",
    "import matplotlib.pyplot as plt"
   ]
  },
  {
   "cell_type": "code",
   "execution_count": 5,
   "id": "significant-turkey",
   "metadata": {},
   "outputs": [],
   "source": [
    "lower = pd.read_excel('02 AD+3CV+GS+DO_medium_down.xlsx', index_col=0)\n",
    "higher = pd.read_excel('03 AD+3CV+GS+DO_higher.xlsx', index_col=0)"
   ]
  },
  {
   "cell_type": "code",
   "execution_count": 6,
   "id": "comprehensive-price",
   "metadata": {},
   "outputs": [
    {
     "data": {
      "text/html": [
       "<div>\n",
       "<style scoped>\n",
       "    .dataframe tbody tr th:only-of-type {\n",
       "        vertical-align: middle;\n",
       "    }\n",
       "\n",
       "    .dataframe tbody tr th {\n",
       "        vertical-align: top;\n",
       "    }\n",
       "\n",
       "    .dataframe thead th {\n",
       "        text-align: right;\n",
       "    }\n",
       "</style>\n",
       "<table border=\"1\" class=\"dataframe\">\n",
       "  <thead>\n",
       "    <tr style=\"text-align: right;\">\n",
       "      <th></th>\n",
       "      <th>loss</th>\n",
       "      <th>acc</th>\n",
       "      <th>val_loss</th>\n",
       "      <th>val_acc</th>\n",
       "    </tr>\n",
       "  </thead>\n",
       "  <tbody>\n",
       "    <tr>\n",
       "      <th>0</th>\n",
       "      <td>3.596039</td>\n",
       "      <td>0.396685</td>\n",
       "      <td>2.627808</td>\n",
       "      <td>0.745301</td>\n",
       "    </tr>\n",
       "    <tr>\n",
       "      <th>1</th>\n",
       "      <td>27.346151</td>\n",
       "      <td>0.612714</td>\n",
       "      <td>29.248833</td>\n",
       "      <td>0.770729</td>\n",
       "    </tr>\n",
       "    <tr>\n",
       "      <th>2</th>\n",
       "      <td>114.021278</td>\n",
       "      <td>0.667468</td>\n",
       "      <td>88.799347</td>\n",
       "      <td>0.817161</td>\n",
       "    </tr>\n",
       "  </tbody>\n",
       "</table>\n",
       "</div>"
      ],
      "text/plain": [
       "         loss       acc   val_loss   val_acc\n",
       "0    3.596039  0.396685   2.627808  0.745301\n",
       "1   27.346151  0.612714  29.248833  0.770729\n",
       "2  114.021278  0.667468  88.799347  0.817161"
      ]
     },
     "execution_count": 6,
     "metadata": {},
     "output_type": "execute_result"
    }
   ],
   "source": [
    "lower.head(3)"
   ]
  },
  {
   "cell_type": "code",
   "execution_count": 7,
   "id": "transparent-clear",
   "metadata": {},
   "outputs": [
    {
     "data": {
      "text/html": [
       "<div>\n",
       "<style scoped>\n",
       "    .dataframe tbody tr th:only-of-type {\n",
       "        vertical-align: middle;\n",
       "    }\n",
       "\n",
       "    .dataframe tbody tr th {\n",
       "        vertical-align: top;\n",
       "    }\n",
       "\n",
       "    .dataframe thead th {\n",
       "        text-align: right;\n",
       "    }\n",
       "</style>\n",
       "<table border=\"1\" class=\"dataframe\">\n",
       "  <thead>\n",
       "    <tr style=\"text-align: right;\">\n",
       "      <th></th>\n",
       "      <th>loss</th>\n",
       "      <th>acc</th>\n",
       "      <th>val_loss</th>\n",
       "      <th>val_acc</th>\n",
       "    </tr>\n",
       "  </thead>\n",
       "  <tbody>\n",
       "    <tr>\n",
       "      <th>0</th>\n",
       "      <td>16049.162109</td>\n",
       "      <td>0.373625</td>\n",
       "      <td>7153.622070</td>\n",
       "      <td>0.647164</td>\n",
       "    </tr>\n",
       "    <tr>\n",
       "      <th>1</th>\n",
       "      <td>30318.666016</td>\n",
       "      <td>0.425100</td>\n",
       "      <td>14657.047852</td>\n",
       "      <td>0.645548</td>\n",
       "    </tr>\n",
       "    <tr>\n",
       "      <th>2</th>\n",
       "      <td>65191.972656</td>\n",
       "      <td>0.424772</td>\n",
       "      <td>35605.921875</td>\n",
       "      <td>0.632027</td>\n",
       "    </tr>\n",
       "  </tbody>\n",
       "</table>\n",
       "</div>"
      ],
      "text/plain": [
       "           loss       acc      val_loss   val_acc\n",
       "0  16049.162109  0.373625   7153.622070  0.647164\n",
       "1  30318.666016  0.425100  14657.047852  0.645548\n",
       "2  65191.972656  0.424772  35605.921875  0.632027"
      ]
     },
     "execution_count": 7,
     "metadata": {},
     "output_type": "execute_result"
    }
   ],
   "source": [
    "higher.head(3)"
   ]
  },
  {
   "cell_type": "code",
   "execution_count": 8,
   "id": "olympic-wholesale",
   "metadata": {
    "scrolled": true
   },
   "outputs": [
    {
     "name": "stdout",
     "output_type": "stream",
     "text": [
      "(50, 4)\n",
      "(50, 4)\n"
     ]
    }
   ],
   "source": [
    "print(lower.shape)\n",
    "print(higher.shape)"
   ]
  },
  {
   "cell_type": "markdown",
   "id": "selective-founder",
   "metadata": {},
   "source": [
    "### Plot accuracies"
   ]
  },
  {
   "cell_type": "markdown",
   "id": "imperial-contrast",
   "metadata": {},
   "source": [
    "#### Create a df to plot loss values"
   ]
  },
  {
   "cell_type": "code",
   "execution_count": 9,
   "id": "recent-costume",
   "metadata": {},
   "outputs": [],
   "source": [
    "# Initialize an empty df\n",
    "final_acc = pd.DataFrame()"
   ]
  },
  {
   "cell_type": "code",
   "execution_count": 10,
   "id": "endless-remove",
   "metadata": {},
   "outputs": [],
   "source": [
    "# List the columns the df will have\n",
    "final_acc_columns = ['Train Acc Lower', 'Train Acc Higher', 'Val Acc Lower', 'Val Acc Higher']"
   ]
  },
  {
   "cell_type": "code",
   "execution_count": 11,
   "id": "color-upgrade",
   "metadata": {},
   "outputs": [],
   "source": [
    "# Create the columns\n",
    "for column in final_acc_columns:\n",
    "    final_acc[column] = None"
   ]
  },
  {
   "cell_type": "code",
   "execution_count": 12,
   "id": "latest-massachusetts",
   "metadata": {},
   "outputs": [
    {
     "data": {
      "text/html": [
       "<div>\n",
       "<style scoped>\n",
       "    .dataframe tbody tr th:only-of-type {\n",
       "        vertical-align: middle;\n",
       "    }\n",
       "\n",
       "    .dataframe tbody tr th {\n",
       "        vertical-align: top;\n",
       "    }\n",
       "\n",
       "    .dataframe thead th {\n",
       "        text-align: right;\n",
       "    }\n",
       "</style>\n",
       "<table border=\"1\" class=\"dataframe\">\n",
       "  <thead>\n",
       "    <tr style=\"text-align: right;\">\n",
       "      <th></th>\n",
       "      <th>Train Acc Lower</th>\n",
       "      <th>Train Acc Higher</th>\n",
       "      <th>Val Acc Lower</th>\n",
       "      <th>Val Acc Higher</th>\n",
       "    </tr>\n",
       "  </thead>\n",
       "  <tbody>\n",
       "  </tbody>\n",
       "</table>\n",
       "</div>"
      ],
      "text/plain": [
       "Empty DataFrame\n",
       "Columns: [Train Acc Lower, Train Acc Higher, Val Acc Lower, Val Acc Higher]\n",
       "Index: []"
      ]
     },
     "execution_count": 12,
     "metadata": {},
     "output_type": "execute_result"
    }
   ],
   "source": [
    "# Confirm they were correctly created\n",
    "final_acc"
   ]
  },
  {
   "cell_type": "code",
   "execution_count": 13,
   "id": "quiet-angola",
   "metadata": {},
   "outputs": [],
   "source": [
    "# Add training accuracy values\n",
    "final_acc['Train Acc Lower'] = lower['acc']\n",
    "final_acc['Train Acc Higher'] = higher['acc']\n",
    "\n",
    "# Add val accuracy values\n",
    "final_acc['Val Acc Lower'] = lower['val_acc']\n",
    "final_acc['Val Acc Higher'] = higher['val_acc']"
   ]
  },
  {
   "cell_type": "code",
   "execution_count": 14,
   "id": "popular-marathon",
   "metadata": {},
   "outputs": [
    {
     "data": {
      "text/html": [
       "<div>\n",
       "<style scoped>\n",
       "    .dataframe tbody tr th:only-of-type {\n",
       "        vertical-align: middle;\n",
       "    }\n",
       "\n",
       "    .dataframe tbody tr th {\n",
       "        vertical-align: top;\n",
       "    }\n",
       "\n",
       "    .dataframe thead th {\n",
       "        text-align: right;\n",
       "    }\n",
       "</style>\n",
       "<table border=\"1\" class=\"dataframe\">\n",
       "  <thead>\n",
       "    <tr style=\"text-align: right;\">\n",
       "      <th></th>\n",
       "      <th>Train Acc Lower</th>\n",
       "      <th>Train Acc Higher</th>\n",
       "      <th>Val Acc Lower</th>\n",
       "      <th>Val Acc Higher</th>\n",
       "    </tr>\n",
       "  </thead>\n",
       "  <tbody>\n",
       "    <tr>\n",
       "      <th>0</th>\n",
       "      <td>0.396685</td>\n",
       "      <td>0.373625</td>\n",
       "      <td>0.745301</td>\n",
       "      <td>0.647164</td>\n",
       "    </tr>\n",
       "    <tr>\n",
       "      <th>1</th>\n",
       "      <td>0.612714</td>\n",
       "      <td>0.425100</td>\n",
       "      <td>0.770729</td>\n",
       "      <td>0.645548</td>\n",
       "    </tr>\n",
       "    <tr>\n",
       "      <th>2</th>\n",
       "      <td>0.667468</td>\n",
       "      <td>0.424772</td>\n",
       "      <td>0.817161</td>\n",
       "      <td>0.632027</td>\n",
       "    </tr>\n",
       "    <tr>\n",
       "      <th>3</th>\n",
       "      <td>0.700291</td>\n",
       "      <td>0.437158</td>\n",
       "      <td>0.821754</td>\n",
       "      <td>0.655838</td>\n",
       "    </tr>\n",
       "    <tr>\n",
       "      <th>4</th>\n",
       "      <td>0.724481</td>\n",
       "      <td>0.457632</td>\n",
       "      <td>0.806106</td>\n",
       "      <td>0.710009</td>\n",
       "    </tr>\n",
       "  </tbody>\n",
       "</table>\n",
       "</div>"
      ],
      "text/plain": [
       "   Train Acc Lower  Train Acc Higher  Val Acc Lower  Val Acc Higher\n",
       "0         0.396685          0.373625       0.745301        0.647164\n",
       "1         0.612714          0.425100       0.770729        0.645548\n",
       "2         0.667468          0.424772       0.817161        0.632027\n",
       "3         0.700291          0.437158       0.821754        0.655838\n",
       "4         0.724481          0.457632       0.806106        0.710009"
      ]
     },
     "execution_count": 14,
     "metadata": {},
     "output_type": "execute_result"
    }
   ],
   "source": [
    "final_acc.head(5)"
   ]
  },
  {
   "cell_type": "code",
   "execution_count": 19,
   "id": "popular-delaware",
   "metadata": {},
   "outputs": [
    {
     "data": {
      "image/png": "[encoded data removed]",
      "text/plain": [
       "<Figure size 864x360 with 1 Axes>"
      ]
     },
     "metadata": {
      "needs_background": "light"
     },
     "output_type": "display_data"
    }
   ],
   "source": [
    "# define area\n",
    "plt.figure(figsize=(12, 5))\n",
    "\n",
    "# define x axis\n",
    "x = final_acc.index\n",
    "  \n",
    "# plot lines\n",
    "plt.plot(x, final_acc['Train Acc Lower'], label = \"Train Acc Lower Dropout Values\", color='blue')\n",
    "plt.plot(x, final_acc['Train Acc Higher'], label = \"Train Acc Higher Dropout Values\", color='red')\n",
    "plt.plot(x, final_acc['Val Acc Lower'], label = \"Val Acc Lower Dropout Values\", color='blue', linestyle='-.')\n",
    "plt.plot(x, final_acc['Val Acc Higher'], label = \"Val Acc Higher Dropout Values\", color='red', linestyle='-.')\n",
    "plt.xticks(np.arange(0, 50, 1))\n",
    "plt.legend()\n",
    "plt.xlabel(\"Epochs\")\n",
    "plt.ylabel(\"Train and Val Accuracies\")\n",
    "plt.title(\"Comparing Higher and Lower Values in New Dropout Layers - Accuracy\")\n",
    "plt.show()"
   ]
  },
  {
   "cell_type": "markdown",
   "id": "binary-female",
   "metadata": {},
   "source": [
    "### Plot loss values"
   ]
  },
  {
   "cell_type": "markdown",
   "id": "loved-candle",
   "metadata": {},
   "source": [
    "#### Create a df to plot loss values"
   ]
  },
  {
   "cell_type": "code",
   "execution_count": 25,
   "id": "failing-translator",
   "metadata": {},
   "outputs": [],
   "source": [
    "# Initialize an empty df\n",
    "final_loss = pd.DataFrame()"
   ]
  },
  {
   "cell_type": "code",
   "execution_count": 26,
   "id": "revised-pickup",
   "metadata": {},
   "outputs": [],
   "source": [
    "# List the columns the df will have\n",
    "final_loss_columns = ['Train Loss Lower', 'Train Loss Higher', 'Val Loss Lower', 'Val Loss Higher']"
   ]
  },
  {
   "cell_type": "code",
   "execution_count": 27,
   "id": "sound-river",
   "metadata": {},
   "outputs": [],
   "source": [
    "# Create the columns\n",
    "for column in final_loss_columns:\n",
    "    final_loss[column] = None"
   ]
  },
  {
   "cell_type": "code",
   "execution_count": 28,
   "id": "governmental-background",
   "metadata": {},
   "outputs": [
    {
     "data": {
      "text/html": [
       "<div>\n",
       "<style scoped>\n",
       "    .dataframe tbody tr th:only-of-type {\n",
       "        vertical-align: middle;\n",
       "    }\n",
       "\n",
       "    .dataframe tbody tr th {\n",
       "        vertical-align: top;\n",
       "    }\n",
       "\n",
       "    .dataframe thead th {\n",
       "        text-align: right;\n",
       "    }\n",
       "</style>\n",
       "<table border=\"1\" class=\"dataframe\">\n",
       "  <thead>\n",
       "    <tr style=\"text-align: right;\">\n",
       "      <th></th>\n",
       "      <th>Train Loss Lower</th>\n",
       "      <th>Train Loss Higher</th>\n",
       "      <th>Val Loss Lower</th>\n",
       "      <th>Val Loss Higher</th>\n",
       "    </tr>\n",
       "  </thead>\n",
       "  <tbody>\n",
       "  </tbody>\n",
       "</table>\n",
       "</div>"
      ],
      "text/plain": [
       "Empty DataFrame\n",
       "Columns: [Train Loss Lower, Train Loss Higher, Val Loss Lower, Val Loss Higher]\n",
       "Index: []"
      ]
     },
     "execution_count": 28,
     "metadata": {},
     "output_type": "execute_result"
    }
   ],
   "source": [
    "# Confirm they were correctly created\n",
    "final_loss"
   ]
  },
  {
   "cell_type": "code",
   "execution_count": 29,
   "id": "enormous-glenn",
   "metadata": {},
   "outputs": [],
   "source": [
    "# Add training accuracy values\n",
    "final_loss['Train Loss Lower'] = lower['loss']\n",
    "final_loss['Train Loss Higher'] = higher['loss']\n",
    "\n",
    "# Add val accuracy values\n",
    "final_loss['Val Loss Lower'] = lower['val_loss']\n",
    "final_loss['Val Loss Higher'] = higher['val_loss']"
   ]
  },
  {
   "cell_type": "code",
   "execution_count": 30,
   "id": "floating-shore",
   "metadata": {},
   "outputs": [
    {
     "data": {
      "text/html": [
       "<div>\n",
       "<style scoped>\n",
       "    .dataframe tbody tr th:only-of-type {\n",
       "        vertical-align: middle;\n",
       "    }\n",
       "\n",
       "    .dataframe tbody tr th {\n",
       "        vertical-align: top;\n",
       "    }\n",
       "\n",
       "    .dataframe thead th {\n",
       "        text-align: right;\n",
       "    }\n",
       "</style>\n",
       "<table border=\"1\" class=\"dataframe\">\n",
       "  <thead>\n",
       "    <tr style=\"text-align: right;\">\n",
       "      <th></th>\n",
       "      <th>Train Loss Lower</th>\n",
       "      <th>Train Loss Higher</th>\n",
       "      <th>Val Loss Lower</th>\n",
       "      <th>Val Loss Higher</th>\n",
       "    </tr>\n",
       "  </thead>\n",
       "  <tbody>\n",
       "    <tr>\n",
       "      <th>0</th>\n",
       "      <td>3.596039</td>\n",
       "      <td>16049.162109</td>\n",
       "      <td>2.627808</td>\n",
       "      <td>7153.622070</td>\n",
       "    </tr>\n",
       "    <tr>\n",
       "      <th>1</th>\n",
       "      <td>27.346151</td>\n",
       "      <td>30318.666016</td>\n",
       "      <td>29.248833</td>\n",
       "      <td>14657.047852</td>\n",
       "    </tr>\n",
       "    <tr>\n",
       "      <th>2</th>\n",
       "      <td>114.021278</td>\n",
       "      <td>65191.972656</td>\n",
       "      <td>88.799347</td>\n",
       "      <td>35605.921875</td>\n",
       "    </tr>\n",
       "    <tr>\n",
       "      <th>3</th>\n",
       "      <td>319.421387</td>\n",
       "      <td>115154.046875</td>\n",
       "      <td>239.794388</td>\n",
       "      <td>54073.066406</td>\n",
       "    </tr>\n",
       "    <tr>\n",
       "      <th>4</th>\n",
       "      <td>629.885010</td>\n",
       "      <td>175486.640625</td>\n",
       "      <td>576.906555</td>\n",
       "      <td>68452.179688</td>\n",
       "    </tr>\n",
       "  </tbody>\n",
       "</table>\n",
       "</div>"
      ],
      "text/plain": [
       "   Train Loss Lower  Train Loss Higher  Val Loss Lower  Val Loss Higher\n",
       "0          3.596039       16049.162109        2.627808      7153.622070\n",
       "1         27.346151       30318.666016       29.248833     14657.047852\n",
       "2        114.021278       65191.972656       88.799347     35605.921875\n",
       "3        319.421387      115154.046875      239.794388     54073.066406\n",
       "4        629.885010      175486.640625      576.906555     68452.179688"
      ]
     },
     "execution_count": 30,
     "metadata": {},
     "output_type": "execute_result"
    }
   ],
   "source": [
    "final_loss.head(5)"
   ]
  },
  {
   "cell_type": "markdown",
   "id": "essential-crawford",
   "metadata": {},
   "source": [
    "#### Plot"
   ]
  },
  {
   "cell_type": "code",
   "execution_count": 43,
   "id": "consistent-flavor",
   "metadata": {},
   "outputs": [
    {
     "data": {
      "image/png": "[encoded data removed]",
      "text/plain": [
       "<Figure size 800x400 with 1 Axes>"
      ]
     },
     "metadata": {
      "needs_background": "light"
     },
     "output_type": "display_data"
    }
   ],
   "source": [
    "# define area\n",
    "plt.figure(figsize=(12, 5))\n",
    "\n",
    "# define x axis\n",
    "x = final_loss.index\n",
    "  \n",
    "# plot lines\n",
    "plt.plot(x, final_loss['Train Loss Lower'], label = \"Train Loss Lower Dropout Values\", color='blue')\n",
    "plt.plot(x, final_loss['Train Loss Higher'], label = \"Train Loss Higher Dropout Values\", color='red')\n",
    "plt.plot(x, final_loss['Val Loss Lower'], label = \"Val Loss Lower Dropout Values\", color='blue', linestyle='-.')\n",
    "plt.plot(x, final_loss['Val Loss Higher'], label = \"Val Loss Higher Dropout Values\", color='red', linestyle='-.')\n",
    "plt.xticks(np.arange(0, 50, 1))\n",
    "plt.legend()\n",
    "plt.xlabel(\"Epochs\")\n",
    "plt.ylabel(\"Train and Val Lossuracies\")\n",
    "plt.title(\"Comparing Higher and Lower Values in New Dropout Layers - Lossuracy\")\n",
    "plt.show()"
   ]
  },
  {
   "cell_type": "code",
   "execution_count": null,
   "id": "involved-address",
   "metadata": {},
   "outputs": [],
   "source": []
  }
 ],
 "metadata": {
  "kernelspec": {
   "display_name": "Python 3",
   "language": "python",
   "name": "python3"
  },
  "language_info": {
   "codemirror_mode": {
    "name": "ipython",
    "version": 3
   },
   "file_extension": ".py",
   "mimetype": "text/x-python",
   "name": "python",
   "nbconvert_exporter": "python",
   "pygments_lexer": "ipython3",
   "version": "3.8.5"
  }
 },
 "nbformat": 4,
 "nbformat_minor": 5
}

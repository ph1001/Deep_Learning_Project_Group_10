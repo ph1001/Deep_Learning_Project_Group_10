{
 "cells": [
  {
   "cell_type": "code",
   "execution_count": 30,
   "id": "opened-chassis",
   "metadata": {},
   "outputs": [],
   "source": [
    "import pandas as pd\n",
    "import numpy as np\n",
    "import plotly as py\n",
    "import matplotlib.pyplot as plt"
   ]
  },
  {
   "cell_type": "code",
   "execution_count": 31,
   "id": "significant-turkey",
   "metadata": {},
   "outputs": [],
   "source": [
    "withoutw = pd.read_excel('train_and_test_accuracies_without_weights.xlsx', index_col=0)\n",
    "withw = pd.read_excel('train_and_test_accuracies_with_weights.xlsx', index_col=0)"
   ]
  },
  {
   "cell_type": "code",
   "execution_count": 32,
   "id": "comprehensive-price",
   "metadata": {},
   "outputs": [
    {
     "data": {
      "text/html": [
       "<div>\n",
       "<style scoped>\n",
       "    .dataframe tbody tr th:only-of-type {\n",
       "        vertical-align: middle;\n",
       "    }\n",
       "\n",
       "    .dataframe tbody tr th {\n",
       "        vertical-align: top;\n",
       "    }\n",
       "\n",
       "    .dataframe thead th {\n",
       "        text-align: right;\n",
       "    }\n",
       "</style>\n",
       "<table border=\"1\" class=\"dataframe\">\n",
       "  <thead>\n",
       "    <tr style=\"text-align: right;\">\n",
       "      <th></th>\n",
       "      <th>train_loss_without_weights</th>\n",
       "      <th>train_acc_without_weights</th>\n",
       "      <th>test_acc_without_weights</th>\n",
       "      <th>Difference</th>\n",
       "    </tr>\n",
       "    <tr>\n",
       "      <th>epoch</th>\n",
       "      <th></th>\n",
       "      <th></th>\n",
       "      <th></th>\n",
       "      <th></th>\n",
       "    </tr>\n",
       "  </thead>\n",
       "  <tbody>\n",
       "    <tr>\n",
       "      <th>1</th>\n",
       "      <td>3.402711</td>\n",
       "      <td>0.272641</td>\n",
       "      <td>0.705701</td>\n",
       "      <td>-0.433059</td>\n",
       "    </tr>\n",
       "    <tr>\n",
       "      <th>2</th>\n",
       "      <td>0.892642</td>\n",
       "      <td>0.775281</td>\n",
       "      <td>0.910689</td>\n",
       "      <td>-0.135408</td>\n",
       "    </tr>\n",
       "    <tr>\n",
       "      <th>3</th>\n",
       "      <td>0.301483</td>\n",
       "      <td>0.929047</td>\n",
       "      <td>0.945131</td>\n",
       "      <td>-0.016084</td>\n",
       "    </tr>\n",
       "  </tbody>\n",
       "</table>\n",
       "</div>"
      ],
      "text/plain": [
       "       train_loss_without_weights  train_acc_without_weights  \\\n",
       "epoch                                                          \n",
       "1                        3.402711                   0.272641   \n",
       "2                        0.892642                   0.775281   \n",
       "3                        0.301483                   0.929047   \n",
       "\n",
       "       test_acc_without_weights  Difference  \n",
       "epoch                                        \n",
       "1                      0.705701   -0.433059  \n",
       "2                      0.910689   -0.135408  \n",
       "3                      0.945131   -0.016084  "
      ]
     },
     "execution_count": 32,
     "metadata": {},
     "output_type": "execute_result"
    }
   ],
   "source": [
    "withoutw.head(3)"
   ]
  },
  {
   "cell_type": "code",
   "execution_count": 33,
   "id": "transparent-clear",
   "metadata": {
    "scrolled": true
   },
   "outputs": [
    {
     "data": {
      "text/html": [
       "<div>\n",
       "<style scoped>\n",
       "    .dataframe tbody tr th:only-of-type {\n",
       "        vertical-align: middle;\n",
       "    }\n",
       "\n",
       "    .dataframe tbody tr th {\n",
       "        vertical-align: top;\n",
       "    }\n",
       "\n",
       "    .dataframe thead th {\n",
       "        text-align: right;\n",
       "    }\n",
       "</style>\n",
       "<table border=\"1\" class=\"dataframe\">\n",
       "  <thead>\n",
       "    <tr style=\"text-align: right;\">\n",
       "      <th></th>\n",
       "      <th>loss_with_weights</th>\n",
       "      <th>train_acc_with_weights</th>\n",
       "      <th>test_acc_with_weights</th>\n",
       "      <th>Difference</th>\n",
       "    </tr>\n",
       "    <tr>\n",
       "      <th>epoch</th>\n",
       "      <th></th>\n",
       "      <th></th>\n",
       "      <th></th>\n",
       "      <th></th>\n",
       "    </tr>\n",
       "  </thead>\n",
       "  <tbody>\n",
       "    <tr>\n",
       "      <th>1</th>\n",
       "      <td>11.268594</td>\n",
       "      <td>0.046443</td>\n",
       "      <td>0.052969</td>\n",
       "      <td>-0.006526</td>\n",
       "    </tr>\n",
       "    <tr>\n",
       "      <th>2</th>\n",
       "      <td>9.352086</td>\n",
       "      <td>0.065801</td>\n",
       "      <td>0.055740</td>\n",
       "      <td>0.010061</td>\n",
       "    </tr>\n",
       "    <tr>\n",
       "      <th>3</th>\n",
       "      <td>7.990805</td>\n",
       "      <td>0.230126</td>\n",
       "      <td>0.378781</td>\n",
       "      <td>-0.148655</td>\n",
       "    </tr>\n",
       "  </tbody>\n",
       "</table>\n",
       "</div>"
      ],
      "text/plain": [
       "       loss_with_weights  train_acc_with_weights  test_acc_with_weights  \\\n",
       "epoch                                                                     \n",
       "1              11.268594                0.046443               0.052969   \n",
       "2               9.352086                0.065801               0.055740   \n",
       "3               7.990805                0.230126               0.378781   \n",
       "\n",
       "       Difference  \n",
       "epoch              \n",
       "1       -0.006526  \n",
       "2        0.010061  \n",
       "3       -0.148655  "
      ]
     },
     "execution_count": 33,
     "metadata": {},
     "output_type": "execute_result"
    }
   ],
   "source": [
    "withw.head(3)"
   ]
  },
  {
   "cell_type": "code",
   "execution_count": 34,
   "id": "olympic-wholesale",
   "metadata": {
    "scrolled": true
   },
   "outputs": [
    {
     "name": "stdout",
     "output_type": "stream",
     "text": [
      "(30, 4)\n",
      "(30, 4)\n"
     ]
    }
   ],
   "source": [
    "print(withoutw.shape)\n",
    "print(withw.shape)"
   ]
  },
  {
   "cell_type": "markdown",
   "id": "selective-founder",
   "metadata": {},
   "source": [
    "### Plot accuracies"
   ]
  },
  {
   "cell_type": "markdown",
   "id": "imperial-contrast",
   "metadata": {},
   "source": [
    "#### Create a df to plot loss values"
   ]
  },
  {
   "cell_type": "code",
   "execution_count": 35,
   "id": "recent-costume",
   "metadata": {},
   "outputs": [],
   "source": [
    "# Initialize an empty df\n",
    "final = pd.DataFrame()"
   ]
  },
  {
   "cell_type": "code",
   "execution_count": 36,
   "id": "endless-remove",
   "metadata": {},
   "outputs": [],
   "source": [
    "# List the columns the df will have\n",
    "final_columns = ['Train Acc With', 'Train Acc Without', 'Train Loss With', 'Train Loss Without', 'Test Acc With', 'Test Acc Without']"
   ]
  },
  {
   "cell_type": "code",
   "execution_count": 37,
   "id": "color-upgrade",
   "metadata": {},
   "outputs": [],
   "source": [
    "# Create the columns\n",
    "for column in final_columns:\n",
    "    final[column] = None"
   ]
  },
  {
   "cell_type": "code",
   "execution_count": 38,
   "id": "latest-massachusetts",
   "metadata": {},
   "outputs": [
    {
     "data": {
      "text/html": [
       "<div>\n",
       "<style scoped>\n",
       "    .dataframe tbody tr th:only-of-type {\n",
       "        vertical-align: middle;\n",
       "    }\n",
       "\n",
       "    .dataframe tbody tr th {\n",
       "        vertical-align: top;\n",
       "    }\n",
       "\n",
       "    .dataframe thead th {\n",
       "        text-align: right;\n",
       "    }\n",
       "</style>\n",
       "<table border=\"1\" class=\"dataframe\">\n",
       "  <thead>\n",
       "    <tr style=\"text-align: right;\">\n",
       "      <th></th>\n",
       "      <th>Train Acc With</th>\n",
       "      <th>Train Acc Without</th>\n",
       "      <th>Train Loss With</th>\n",
       "      <th>Train Loss Without</th>\n",
       "      <th>Test Acc With</th>\n",
       "      <th>Test Acc Without</th>\n",
       "    </tr>\n",
       "  </thead>\n",
       "  <tbody>\n",
       "  </tbody>\n",
       "</table>\n",
       "</div>"
      ],
      "text/plain": [
       "Empty DataFrame\n",
       "Columns: [Train Acc With, Train Acc Without, Train Loss With, Train Loss Without, Test Acc With, Test Acc Without]\n",
       "Index: []"
      ]
     },
     "execution_count": 38,
     "metadata": {},
     "output_type": "execute_result"
    }
   ],
   "source": [
    "# Confirm they were correctly created\n",
    "final"
   ]
  },
  {
   "cell_type": "code",
   "execution_count": 39,
   "id": "quiet-angola",
   "metadata": {},
   "outputs": [],
   "source": [
    "# Add training accuracy values\n",
    "final['Train Acc With'] = withw['train_acc_with_weights']\n",
    "final['Train Acc Without'] = withoutw['train_acc_without_weights']\n",
    "\n",
    "# Add loss values\n",
    "final['Train Loss With'] = withw['loss_with_weights']\n",
    "final['Train Loss Without'] = withoutw['train_loss_without_weights']\n",
    "\n",
    "# Add val accuracy values\n",
    "final['Test Acc With'] = withw['test_acc_with_weights']\n",
    "final['Test Acc Without'] = withoutw['test_acc_without_weights']"
   ]
  },
  {
   "cell_type": "code",
   "execution_count": 40,
   "id": "popular-marathon",
   "metadata": {},
   "outputs": [
    {
     "data": {
      "text/html": [
       "<div>\n",
       "<style scoped>\n",
       "    .dataframe tbody tr th:only-of-type {\n",
       "        vertical-align: middle;\n",
       "    }\n",
       "\n",
       "    .dataframe tbody tr th {\n",
       "        vertical-align: top;\n",
       "    }\n",
       "\n",
       "    .dataframe thead th {\n",
       "        text-align: right;\n",
       "    }\n",
       "</style>\n",
       "<table border=\"1\" class=\"dataframe\">\n",
       "  <thead>\n",
       "    <tr style=\"text-align: right;\">\n",
       "      <th></th>\n",
       "      <th>Train Acc With</th>\n",
       "      <th>Train Acc Without</th>\n",
       "      <th>Train Loss With</th>\n",
       "      <th>Train Loss Without</th>\n",
       "      <th>Test Acc With</th>\n",
       "      <th>Test Acc Without</th>\n",
       "    </tr>\n",
       "    <tr>\n",
       "      <th>epoch</th>\n",
       "      <th></th>\n",
       "      <th></th>\n",
       "      <th></th>\n",
       "      <th></th>\n",
       "      <th></th>\n",
       "      <th></th>\n",
       "    </tr>\n",
       "  </thead>\n",
       "  <tbody>\n",
       "    <tr>\n",
       "      <th>1</th>\n",
       "      <td>0.046443</td>\n",
       "      <td>0.272641</td>\n",
       "      <td>11.268594</td>\n",
       "      <td>3.402711</td>\n",
       "      <td>0.052969</td>\n",
       "      <td>0.705701</td>\n",
       "    </tr>\n",
       "    <tr>\n",
       "      <th>2</th>\n",
       "      <td>0.065801</td>\n",
       "      <td>0.775281</td>\n",
       "      <td>9.352086</td>\n",
       "      <td>0.892642</td>\n",
       "      <td>0.055740</td>\n",
       "      <td>0.910689</td>\n",
       "    </tr>\n",
       "    <tr>\n",
       "      <th>3</th>\n",
       "      <td>0.230126</td>\n",
       "      <td>0.929047</td>\n",
       "      <td>7.990805</td>\n",
       "      <td>0.301483</td>\n",
       "      <td>0.378781</td>\n",
       "      <td>0.945131</td>\n",
       "    </tr>\n",
       "    <tr>\n",
       "      <th>4</th>\n",
       "      <td>0.444082</td>\n",
       "      <td>0.961973</td>\n",
       "      <td>5.643391</td>\n",
       "      <td>0.168531</td>\n",
       "      <td>0.510293</td>\n",
       "      <td>0.947981</td>\n",
       "    </tr>\n",
       "    <tr>\n",
       "      <th>5</th>\n",
       "      <td>0.634064</td>\n",
       "      <td>0.972710</td>\n",
       "      <td>3.488557</td>\n",
       "      <td>0.131911</td>\n",
       "      <td>0.796991</td>\n",
       "      <td>0.957957</td>\n",
       "    </tr>\n",
       "  </tbody>\n",
       "</table>\n",
       "</div>"
      ],
      "text/plain": [
       "       Train Acc With  Train Acc Without  Train Loss With  Train Loss Without  \\\n",
       "epoch                                                                           \n",
       "1            0.046443           0.272641        11.268594            3.402711   \n",
       "2            0.065801           0.775281         9.352086            0.892642   \n",
       "3            0.230126           0.929047         7.990805            0.301483   \n",
       "4            0.444082           0.961973         5.643391            0.168531   \n",
       "5            0.634064           0.972710         3.488557            0.131911   \n",
       "\n",
       "       Test Acc With  Test Acc Without  \n",
       "epoch                                   \n",
       "1           0.052969          0.705701  \n",
       "2           0.055740          0.910689  \n",
       "3           0.378781          0.945131  \n",
       "4           0.510293          0.947981  \n",
       "5           0.796991          0.957957  "
      ]
     },
     "execution_count": 40,
     "metadata": {},
     "output_type": "execute_result"
    }
   ],
   "source": [
    "final.head(5)"
   ]
  },
  {
   "cell_type": "code",
   "execution_count": 47,
   "id": "popular-delaware",
   "metadata": {},
   "outputs": [
    {
     "data": {
      "image/png": "[encoded data removed]",
      "text/plain": [
       "<Figure size 720x360 with 1 Axes>"
      ]
     },
     "metadata": {
      "needs_background": "light"
     },
     "output_type": "display_data"
    }
   ],
   "source": [
    "# define area\n",
    "plt.figure(figsize=(10, 5))\n",
    "\n",
    "# define x axis\n",
    "x = final.index\n",
    "  \n",
    "# plot lines train acc\n",
    "plt.plot(x, final['Train Acc With'], label = \"Train Acc With Weights\", color='red')\n",
    "plt.plot(x, final['Train Acc Without'], label = \"Train Acc Without Weights\", color='blue')\n",
    "\n",
    "# plot lines train loss\n",
    "#plt.plot(x, final['Train Loss With'], label = \"Train Loss With Weights\", color='red', linestyle='-.')\n",
    "#plt.plot(x, final['Train Loss Without'], label = \"Train Loss Without Weights\", color='blue', linestyle='-.')\n",
    "\n",
    "# plot lines test acc\n",
    "plt.plot(x, final['Test Acc With'], label = \"Test Acc With Weights\", color='red', linestyle='-.')\n",
    "plt.plot(x, final['Test Acc Without'], label = \"Test Acc Without Weights\", color='blue', linestyle='-.')\n",
    "\n",
    "plt.xticks(np.arange(0, 30, 1))\n",
    "plt.yticks(np.arange(0, 1.1, 0.1))\n",
    "plt.legend()\n",
    "plt.xlabel(\"Epochs\")\n",
    "plt.ylabel(\"Train and Test Accuracies\")\n",
    "plt.title(\"Comparing Models With and Without Class Weights - Accuracy\")\n",
    "plt.show()"
   ]
  },
  {
   "cell_type": "markdown",
   "id": "binary-female",
   "metadata": {},
   "source": [
    "### Plot loss values"
   ]
  },
  {
   "cell_type": "markdown",
   "id": "loved-candle",
   "metadata": {},
   "source": [
    "#### Create a df to plot loss values"
   ]
  },
  {
   "cell_type": "code",
   "execution_count": 16,
   "id": "failing-translator",
   "metadata": {},
   "outputs": [],
   "source": [
    "# Initialize an empty df\n",
    "final_loss = pd.DataFrame()"
   ]
  },
  {
   "cell_type": "code",
   "execution_count": 17,
   "id": "revised-pickup",
   "metadata": {},
   "outputs": [],
   "source": [
    "# List the columns the df will have\n",
    "final_loss_columns = ['Train Loss Lower', 'Train Loss IN', 'Val Loss Lower', 'Val Loss IN']"
   ]
  },
  {
   "cell_type": "code",
   "execution_count": 18,
   "id": "sound-river",
   "metadata": {},
   "outputs": [],
   "source": [
    "# Create the columns\n",
    "for column in final_loss_columns:\n",
    "    final_loss[column] = None"
   ]
  },
  {
   "cell_type": "code",
   "execution_count": 19,
   "id": "governmental-background",
   "metadata": {},
   "outputs": [
    {
     "data": {
      "text/html": [
       "<div>\n",
       "<style scoped>\n",
       "    .dataframe tbody tr th:only-of-type {\n",
       "        vertical-align: middle;\n",
       "    }\n",
       "\n",
       "    .dataframe tbody tr th {\n",
       "        vertical-align: top;\n",
       "    }\n",
       "\n",
       "    .dataframe thead th {\n",
       "        text-align: right;\n",
       "    }\n",
       "</style>\n",
       "<table border=\"1\" class=\"dataframe\">\n",
       "  <thead>\n",
       "    <tr style=\"text-align: right;\">\n",
       "      <th></th>\n",
       "      <th>Train Loss Lower</th>\n",
       "      <th>Train Loss IN</th>\n",
       "      <th>Val Loss Lower</th>\n",
       "      <th>Val Loss IN</th>\n",
       "    </tr>\n",
       "  </thead>\n",
       "  <tbody>\n",
       "  </tbody>\n",
       "</table>\n",
       "</div>"
      ],
      "text/plain": [
       "Empty DataFrame\n",
       "Columns: [Train Loss Lower, Train Loss IN, Val Loss Lower, Val Loss IN]\n",
       "Index: []"
      ]
     },
     "execution_count": 19,
     "metadata": {},
     "output_type": "execute_result"
    }
   ],
   "source": [
    "# Confirm they were correctly created\n",
    "final_loss"
   ]
  },
  {
   "cell_type": "code",
   "execution_count": 20,
   "id": "enormous-glenn",
   "metadata": {},
   "outputs": [],
   "source": [
    "# Add training accuracy values\n",
    "final_loss['Train Loss Lower'] = lower['loss']\n",
    "final_loss['Train Loss IN'] = i_norma['loss']\n",
    "\n",
    "# Add val accuracy values\n",
    "final_loss['Val Loss Lower'] = lower['val_loss']\n",
    "final_loss['Val Loss IN'] = i_norma['val_loss']"
   ]
  },
  {
   "cell_type": "code",
   "execution_count": 21,
   "id": "floating-shore",
   "metadata": {},
   "outputs": [
    {
     "data": {
      "text/html": [
       "<div>\n",
       "<style scoped>\n",
       "    .dataframe tbody tr th:only-of-type {\n",
       "        vertical-align: middle;\n",
       "    }\n",
       "\n",
       "    .dataframe tbody tr th {\n",
       "        vertical-align: top;\n",
       "    }\n",
       "\n",
       "    .dataframe thead th {\n",
       "        text-align: right;\n",
       "    }\n",
       "</style>\n",
       "<table border=\"1\" class=\"dataframe\">\n",
       "  <thead>\n",
       "    <tr style=\"text-align: right;\">\n",
       "      <th></th>\n",
       "      <th>Train Loss Lower</th>\n",
       "      <th>Train Loss IN</th>\n",
       "      <th>Val Loss Lower</th>\n",
       "      <th>Val Loss IN</th>\n",
       "    </tr>\n",
       "  </thead>\n",
       "  <tbody>\n",
       "    <tr>\n",
       "      <th>0</th>\n",
       "      <td>3.596039</td>\n",
       "      <td>7.264599</td>\n",
       "      <td>2.627808</td>\n",
       "      <td>2.321735</td>\n",
       "    </tr>\n",
       "    <tr>\n",
       "      <th>1</th>\n",
       "      <td>27.346151</td>\n",
       "      <td>1.461462</td>\n",
       "      <td>29.248833</td>\n",
       "      <td>0.891036</td>\n",
       "    </tr>\n",
       "    <tr>\n",
       "      <th>2</th>\n",
       "      <td>114.021278</td>\n",
       "      <td>0.600379</td>\n",
       "      <td>88.799347</td>\n",
       "      <td>0.665968</td>\n",
       "    </tr>\n",
       "    <tr>\n",
       "      <th>3</th>\n",
       "      <td>319.421387</td>\n",
       "      <td>0.348970</td>\n",
       "      <td>239.794388</td>\n",
       "      <td>0.557698</td>\n",
       "    </tr>\n",
       "    <tr>\n",
       "      <th>4</th>\n",
       "      <td>629.885010</td>\n",
       "      <td>0.243041</td>\n",
       "      <td>576.906555</td>\n",
       "      <td>0.636678</td>\n",
       "    </tr>\n",
       "  </tbody>\n",
       "</table>\n",
       "</div>"
      ],
      "text/plain": [
       "   Train Loss Lower  Train Loss IN  Val Loss Lower  Val Loss IN\n",
       "0          3.596039       7.264599        2.627808     2.321735\n",
       "1         27.346151       1.461462       29.248833     0.891036\n",
       "2        114.021278       0.600379       88.799347     0.665968\n",
       "3        319.421387       0.348970      239.794388     0.557698\n",
       "4        629.885010       0.243041      576.906555     0.636678"
      ]
     },
     "execution_count": 21,
     "metadata": {},
     "output_type": "execute_result"
    }
   ],
   "source": [
    "final_loss.head(5)"
   ]
  },
  {
   "cell_type": "markdown",
   "id": "essential-crawford",
   "metadata": {},
   "source": [
    "#### Plot"
   ]
  },
  {
   "cell_type": "code",
   "execution_count": 23,
   "id": "consistent-flavor",
   "metadata": {},
   "outputs": [
    {
     "data": {
      "image/png": "[encoded data removed]",
      "text/plain": [
       "<Figure size 720x360 with 1 Axes>"
      ]
     },
     "metadata": {
      "needs_background": "light"
     },
     "output_type": "display_data"
    }
   ],
   "source": [
    "# define area\n",
    "plt.figure(figsize=(10, 5))\n",
    "\n",
    "# define x axis\n",
    "x = final_loss.index\n",
    "  \n",
    "# plot lines\n",
    "plt.plot(x, final_loss['Train Loss Lower'], label = \"Train Loss Without Image Norm\", color='green')\n",
    "plt.plot(x, final_loss['Train Loss IN'], label = \"Train Loss With Image Norm\", color='red')\n",
    "\n",
    "plt.plot(x, final_loss['Val Loss Lower'], label = \"Val Loss Without Image Norm\", color='green', linestyle='-.')\n",
    "plt.plot(x, final_loss['Val Loss IN'], label = \"Val Loss With Image Norm\", color='red', linestyle='-.')\n",
    "\n",
    "plt.xticks(np.arange(0, 25, 1))\n",
    "plt.legend()\n",
    "plt.xlabel(\"Epochs\")\n",
    "plt.ylabel(\"Train and Val Loss\")\n",
    "plt.title(\"Comparing Models With and Without Image Normalization - Loss\")\n",
    "plt.show()"
   ]
  },
  {
   "cell_type": "code",
   "execution_count": null,
   "id": "involved-address",
   "metadata": {},
   "outputs": [],
   "source": []
  }
 ],
 "metadata": {
  "kernelspec": {
   "display_name": "Python 3",
   "language": "python",
   "name": "python3"
  },
  "language_info": {
   "codemirror_mode": {
    "name": "ipython",
    "version": 3
   },
   "file_extension": ".py",
   "mimetype": "text/x-python",
   "name": "python",
   "nbconvert_exporter": "python",
   "pygments_lexer": "ipython3",
   "version": "3.8.5"
  }
 },
 "nbformat": 4,
 "nbformat_minor": 5
}

{
 "cells": [
  {
   "cell_type": "code",
   "execution_count": 1,
   "id": "opened-chassis",
   "metadata": {},
   "outputs": [],
   "source": [
    "import pandas as pd\n",
    "import numpy as np\n",
    "import plotly as py\n",
    "import matplotlib.pyplot as plt"
   ]
  },
  {
   "cell_type": "code",
   "execution_count": 7,
   "id": "significant-turkey",
   "metadata": {},
   "outputs": [],
   "source": [
    "CV3_w_GS = pd.read_excel('/Users/henriquevaz/NOVA IMS/YEAR 1/SPRING SEMESTER/DL/Project/Deep_Learning_Project_Group_10/Training histories, saved models, confusion matrices/Final Files/02 All Data/05 GS/AD+3CV+GS.xlsx', index_col=0)\n",
    "CV3 = pd.read_excel('AD+3CV.xlsx', index_col=0)"
   ]
  },
  {
   "cell_type": "code",
   "execution_count": 9,
   "id": "comprehensive-price",
   "metadata": {},
   "outputs": [
    {
     "data": {
      "text/html": [
       "<div>\n",
       "<style scoped>\n",
       "    .dataframe tbody tr th:only-of-type {\n",
       "        vertical-align: middle;\n",
       "    }\n",
       "\n",
       "    .dataframe tbody tr th {\n",
       "        vertical-align: top;\n",
       "    }\n",
       "\n",
       "    .dataframe thead th {\n",
       "        text-align: right;\n",
       "    }\n",
       "</style>\n",
       "<table border=\"1\" class=\"dataframe\">\n",
       "  <thead>\n",
       "    <tr style=\"text-align: right;\">\n",
       "      <th></th>\n",
       "      <th>loss</th>\n",
       "      <th>acc</th>\n",
       "      <th>val_loss</th>\n",
       "      <th>val_acc</th>\n",
       "    </tr>\n",
       "  </thead>\n",
       "  <tbody>\n",
       "    <tr>\n",
       "      <th>0</th>\n",
       "      <td>0.958921</td>\n",
       "      <td>0.744153</td>\n",
       "      <td>0.470147</td>\n",
       "      <td>0.882728</td>\n",
       "    </tr>\n",
       "    <tr>\n",
       "      <th>1</th>\n",
       "      <td>0.186578</td>\n",
       "      <td>0.951658</td>\n",
       "      <td>0.463460</td>\n",
       "      <td>0.884344</td>\n",
       "    </tr>\n",
       "    <tr>\n",
       "      <th>2</th>\n",
       "      <td>0.117426</td>\n",
       "      <td>0.971330</td>\n",
       "      <td>0.504574</td>\n",
       "      <td>0.903903</td>\n",
       "    </tr>\n",
       "  </tbody>\n",
       "</table>\n",
       "</div>"
      ],
      "text/plain": [
       "       loss       acc  val_loss   val_acc\n",
       "0  0.958921  0.744153  0.470147  0.882728\n",
       "1  0.186578  0.951658  0.463460  0.884344\n",
       "2  0.117426  0.971330  0.504574  0.903903"
      ]
     },
     "execution_count": 9,
     "metadata": {},
     "output_type": "execute_result"
    }
   ],
   "source": [
    "CV3.head(3)"
   ]
  },
  {
   "cell_type": "code",
   "execution_count": 10,
   "id": "transparent-clear",
   "metadata": {},
   "outputs": [
    {
     "data": {
      "text/html": [
       "<div>\n",
       "<style scoped>\n",
       "    .dataframe tbody tr th:only-of-type {\n",
       "        vertical-align: middle;\n",
       "    }\n",
       "\n",
       "    .dataframe tbody tr th {\n",
       "        vertical-align: top;\n",
       "    }\n",
       "\n",
       "    .dataframe thead th {\n",
       "        text-align: right;\n",
       "    }\n",
       "</style>\n",
       "<table border=\"1\" class=\"dataframe\">\n",
       "  <thead>\n",
       "    <tr style=\"text-align: right;\">\n",
       "      <th></th>\n",
       "      <th>loss</th>\n",
       "      <th>acc</th>\n",
       "      <th>val_loss</th>\n",
       "      <th>val_acc</th>\n",
       "    </tr>\n",
       "  </thead>\n",
       "  <tbody>\n",
       "    <tr>\n",
       "      <th>0</th>\n",
       "      <td>1.407076</td>\n",
       "      <td>0.636685</td>\n",
       "      <td>1.021382</td>\n",
       "      <td>0.768943</td>\n",
       "    </tr>\n",
       "    <tr>\n",
       "      <th>1</th>\n",
       "      <td>0.360126</td>\n",
       "      <td>0.909581</td>\n",
       "      <td>0.671883</td>\n",
       "      <td>0.870227</td>\n",
       "    </tr>\n",
       "    <tr>\n",
       "      <th>2</th>\n",
       "      <td>0.242894</td>\n",
       "      <td>0.942550</td>\n",
       "      <td>0.688761</td>\n",
       "      <td>0.878901</td>\n",
       "    </tr>\n",
       "  </tbody>\n",
       "</table>\n",
       "</div>"
      ],
      "text/plain": [
       "       loss       acc  val_loss   val_acc\n",
       "0  1.407076  0.636685  1.021382  0.768943\n",
       "1  0.360126  0.909581  0.671883  0.870227\n",
       "2  0.242894  0.942550  0.688761  0.878901"
      ]
     },
     "execution_count": 10,
     "metadata": {},
     "output_type": "execute_result"
    }
   ],
   "source": [
    "CV3_w_GS.head(3)"
   ]
  },
  {
   "cell_type": "code",
   "execution_count": 12,
   "id": "olympic-wholesale",
   "metadata": {
    "scrolled": true
   },
   "outputs": [
    {
     "name": "stdout",
     "output_type": "stream",
     "text": [
      "(30, 4)\n",
      "(30, 4)\n"
     ]
    }
   ],
   "source": [
    "print(CV3.shape)\n",
    "print(CV3_w_GS.shape)"
   ]
  },
  {
   "cell_type": "markdown",
   "id": "selective-founder",
   "metadata": {},
   "source": [
    "### Plot accuracies"
   ]
  },
  {
   "cell_type": "markdown",
   "id": "imperial-contrast",
   "metadata": {},
   "source": [
    "#### Create a df to plot loss values"
   ]
  },
  {
   "cell_type": "code",
   "execution_count": 26,
   "id": "recent-costume",
   "metadata": {},
   "outputs": [],
   "source": [
    "# Initialize an empty df\n",
    "final_acc = pd.DataFrame()"
   ]
  },
  {
   "cell_type": "code",
   "execution_count": 27,
   "id": "endless-remove",
   "metadata": {},
   "outputs": [],
   "source": [
    "# List the columns the df will have\n",
    "final_acc_columns = ['Train Acc CV3', 'Train Acc CV3 GS', 'Val Acc CV3', 'Val Acc CV3 GS']"
   ]
  },
  {
   "cell_type": "code",
   "execution_count": 28,
   "id": "color-upgrade",
   "metadata": {},
   "outputs": [],
   "source": [
    "# Create the columns\n",
    "for column in final_acc_columns:\n",
    "    final_acc[column] = None"
   ]
  },
  {
   "cell_type": "code",
   "execution_count": 29,
   "id": "latest-massachusetts",
   "metadata": {},
   "outputs": [
    {
     "data": {
      "text/html": [
       "<div>\n",
       "<style scoped>\n",
       "    .dataframe tbody tr th:only-of-type {\n",
       "        vertical-align: middle;\n",
       "    }\n",
       "\n",
       "    .dataframe tbody tr th {\n",
       "        vertical-align: top;\n",
       "    }\n",
       "\n",
       "    .dataframe thead th {\n",
       "        text-align: right;\n",
       "    }\n",
       "</style>\n",
       "<table border=\"1\" class=\"dataframe\">\n",
       "  <thead>\n",
       "    <tr style=\"text-align: right;\">\n",
       "      <th></th>\n",
       "      <th>Train Acc CV3</th>\n",
       "      <th>Train Acc CV3 GS</th>\n",
       "      <th>Val Acc CV3</th>\n",
       "      <th>Val Acc CV3 GS</th>\n",
       "    </tr>\n",
       "  </thead>\n",
       "  <tbody>\n",
       "  </tbody>\n",
       "</table>\n",
       "</div>"
      ],
      "text/plain": [
       "Empty DataFrame\n",
       "Columns: [Train Acc CV3, Train Acc CV3 GS, Val Acc CV3, Val Acc CV3 GS]\n",
       "Index: []"
      ]
     },
     "execution_count": 29,
     "metadata": {},
     "output_type": "execute_result"
    }
   ],
   "source": [
    "# Confirm they were correctly created\n",
    "final_acc"
   ]
  },
  {
   "cell_type": "code",
   "execution_count": 30,
   "id": "quiet-angola",
   "metadata": {},
   "outputs": [],
   "source": [
    "# Add training accuracy values\n",
    "final_acc['Train Acc CV3'] = CV3['acc']\n",
    "final_acc['Train Acc CV3 GS'] = CV3_w_GS['acc']\n",
    "\n",
    "# Add val accuracy values\n",
    "final_acc['Val Acc CV3'] = CV3['val_acc']\n",
    "final_acc['Val Acc CV3 GS'] = CV3_w_GS['val_acc']"
   ]
  },
  {
   "cell_type": "code",
   "execution_count": 31,
   "id": "popular-marathon",
   "metadata": {},
   "outputs": [
    {
     "data": {
      "text/html": [
       "<div>\n",
       "<style scoped>\n",
       "    .dataframe tbody tr th:only-of-type {\n",
       "        vertical-align: middle;\n",
       "    }\n",
       "\n",
       "    .dataframe tbody tr th {\n",
       "        vertical-align: top;\n",
       "    }\n",
       "\n",
       "    .dataframe thead th {\n",
       "        text-align: right;\n",
       "    }\n",
       "</style>\n",
       "<table border=\"1\" class=\"dataframe\">\n",
       "  <thead>\n",
       "    <tr style=\"text-align: right;\">\n",
       "      <th></th>\n",
       "      <th>Train Acc CV3</th>\n",
       "      <th>Train Acc CV3 GS</th>\n",
       "      <th>Val Acc CV3</th>\n",
       "      <th>Val Acc CV3 GS</th>\n",
       "    </tr>\n",
       "  </thead>\n",
       "  <tbody>\n",
       "    <tr>\n",
       "      <th>0</th>\n",
       "      <td>0.744153</td>\n",
       "      <td>0.636685</td>\n",
       "      <td>0.882728</td>\n",
       "      <td>0.768943</td>\n",
       "    </tr>\n",
       "    <tr>\n",
       "      <th>1</th>\n",
       "      <td>0.951658</td>\n",
       "      <td>0.909581</td>\n",
       "      <td>0.884344</td>\n",
       "      <td>0.870227</td>\n",
       "    </tr>\n",
       "    <tr>\n",
       "      <th>2</th>\n",
       "      <td>0.971330</td>\n",
       "      <td>0.942550</td>\n",
       "      <td>0.903903</td>\n",
       "      <td>0.878901</td>\n",
       "    </tr>\n",
       "    <tr>\n",
       "      <th>3</th>\n",
       "      <td>0.979745</td>\n",
       "      <td>0.959126</td>\n",
       "      <td>0.890382</td>\n",
       "      <td>0.887661</td>\n",
       "    </tr>\n",
       "    <tr>\n",
       "      <th>4</th>\n",
       "      <td>0.985464</td>\n",
       "      <td>0.966958</td>\n",
       "      <td>0.885109</td>\n",
       "      <td>0.895144</td>\n",
       "    </tr>\n",
       "  </tbody>\n",
       "</table>\n",
       "</div>"
      ],
      "text/plain": [
       "   Train Acc CV3  Train Acc CV3 GS  Val Acc CV3  Val Acc CV3 GS\n",
       "0       0.744153          0.636685     0.882728        0.768943\n",
       "1       0.951658          0.909581     0.884344        0.870227\n",
       "2       0.971330          0.942550     0.903903        0.878901\n",
       "3       0.979745          0.959126     0.890382        0.887661\n",
       "4       0.985464          0.966958     0.885109        0.895144"
      ]
     },
     "execution_count": 31,
     "metadata": {},
     "output_type": "execute_result"
    }
   ],
   "source": [
    "final_acc.head(5)"
   ]
  },
  {
   "cell_type": "code",
   "execution_count": 33,
   "id": "popular-delaware",
   "metadata": {},
   "outputs": [
    {
     "data": {
      "image/png": "[encoded data removed]",
      "text/plain": [
       "<Figure size 800x400 with 1 Axes>"
      ]
     },
     "metadata": {
      "needs_background": "light"
     },
     "output_type": "display_data"
    }
   ],
   "source": [
    "# define area\n",
    "plt.figure(figsize=(10, 5), dpi=80)\n",
    "\n",
    "# define x axis\n",
    "x = final_acc.index\n",
    "  \n",
    "# plot lines\n",
    "plt.plot(x, final_acc['Train Acc CV3'], label = \"Train Acc CV=3\", color='blue')\n",
    "plt.plot(x, final_acc['Train Acc CV3 GS'], label = \"Train Acc CV=3 + GS\", color='red')\n",
    "plt.plot(x, final_acc['Val Acc CV3'], label = \"Val Acc CV=3\", color='blue', linestyle='-.')\n",
    "plt.plot(x, final_acc['Val Acc CV3 GS'], label = \"Val Acc CV=3 + GS\", color='red', linestyle='-.')\n",
    "plt.xticks(np.arange(0, 30, 1))\n",
    "plt.legend()\n",
    "plt.xlabel(\"Epochs\")\n",
    "plt.ylabel(\"Train and Val Accuracies\")\n",
    "plt.title(\"Comparing 3 Conv Layers Base and 3 Conv Layers with Grayscale) - Accuracy\")\n",
    "plt.show()"
   ]
  },
  {
   "cell_type": "markdown",
   "id": "binary-female",
   "metadata": {},
   "source": [
    "### Plot loss values"
   ]
  },
  {
   "cell_type": "markdown",
   "id": "loved-candle",
   "metadata": {},
   "source": [
    "#### Create a df to plot loss values"
   ]
  },
  {
   "cell_type": "code",
   "execution_count": 34,
   "id": "failing-translator",
   "metadata": {},
   "outputs": [],
   "source": [
    "# Initialize an empty df\n",
    "final_loss = pd.DataFrame()"
   ]
  },
  {
   "cell_type": "code",
   "execution_count": 35,
   "id": "revised-pickup",
   "metadata": {},
   "outputs": [],
   "source": [
    "# List the columns the df will have\n",
    "final_loss_columns = ['Train Loss CV3', 'Train Loss CV3 GS', 'Val Loss CV3', 'Val Loss CV3 GS']"
   ]
  },
  {
   "cell_type": "code",
   "execution_count": 36,
   "id": "sound-river",
   "metadata": {},
   "outputs": [],
   "source": [
    "# Create the columns\n",
    "for column in final_loss_columns:\n",
    "    final_loss[column] = None"
   ]
  },
  {
   "cell_type": "code",
   "execution_count": 37,
   "id": "governmental-background",
   "metadata": {},
   "outputs": [
    {
     "data": {
      "text/html": [
       "<div>\n",
       "<style scoped>\n",
       "    .dataframe tbody tr th:only-of-type {\n",
       "        vertical-align: middle;\n",
       "    }\n",
       "\n",
       "    .dataframe tbody tr th {\n",
       "        vertical-align: top;\n",
       "    }\n",
       "\n",
       "    .dataframe thead th {\n",
       "        text-align: right;\n",
       "    }\n",
       "</style>\n",
       "<table border=\"1\" class=\"dataframe\">\n",
       "  <thead>\n",
       "    <tr style=\"text-align: right;\">\n",
       "      <th></th>\n",
       "      <th>Train Loss CV3</th>\n",
       "      <th>Train Loss CV3 GS</th>\n",
       "      <th>Val Loss CV3</th>\n",
       "      <th>Val Loss CV3 GS</th>\n",
       "    </tr>\n",
       "  </thead>\n",
       "  <tbody>\n",
       "  </tbody>\n",
       "</table>\n",
       "</div>"
      ],
      "text/plain": [
       "Empty DataFrame\n",
       "Columns: [Train Loss CV3, Train Loss CV3 GS, Val Loss CV3, Val Loss CV3 GS]\n",
       "Index: []"
      ]
     },
     "execution_count": 37,
     "metadata": {},
     "output_type": "execute_result"
    }
   ],
   "source": [
    "# Confirm they were correctly created\n",
    "final_loss"
   ]
  },
  {
   "cell_type": "code",
   "execution_count": 38,
   "id": "enormous-glenn",
   "metadata": {},
   "outputs": [],
   "source": [
    "# Add training accuracy values\n",
    "final_loss['Train Loss CV3'] = CV3['loss']\n",
    "final_loss['Train Loss CV3 GS'] = CV3_w_GS['loss']\n",
    "\n",
    "# Add val accuracy values\n",
    "final_loss['Val Loss CV3'] = CV3['val_loss']\n",
    "final_loss['Val Loss CV3 GS'] = CV3_w_GS['val_loss']"
   ]
  },
  {
   "cell_type": "code",
   "execution_count": 40,
   "id": "floating-shore",
   "metadata": {},
   "outputs": [
    {
     "data": {
      "text/html": [
       "<div>\n",
       "<style scoped>\n",
       "    .dataframe tbody tr th:only-of-type {\n",
       "        vertical-align: middle;\n",
       "    }\n",
       "\n",
       "    .dataframe tbody tr th {\n",
       "        vertical-align: top;\n",
       "    }\n",
       "\n",
       "    .dataframe thead th {\n",
       "        text-align: right;\n",
       "    }\n",
       "</style>\n",
       "<table border=\"1\" class=\"dataframe\">\n",
       "  <thead>\n",
       "    <tr style=\"text-align: right;\">\n",
       "      <th></th>\n",
       "      <th>Train Loss CV3</th>\n",
       "      <th>Train Loss CV3 GS</th>\n",
       "      <th>Val Loss CV3</th>\n",
       "      <th>Val Loss CV3 GS</th>\n",
       "    </tr>\n",
       "  </thead>\n",
       "  <tbody>\n",
       "    <tr>\n",
       "      <th>0</th>\n",
       "      <td>0.958921</td>\n",
       "      <td>1.407076</td>\n",
       "      <td>0.470147</td>\n",
       "      <td>1.021382</td>\n",
       "    </tr>\n",
       "    <tr>\n",
       "      <th>1</th>\n",
       "      <td>0.186578</td>\n",
       "      <td>0.360126</td>\n",
       "      <td>0.463460</td>\n",
       "      <td>0.671883</td>\n",
       "    </tr>\n",
       "    <tr>\n",
       "      <th>2</th>\n",
       "      <td>0.117426</td>\n",
       "      <td>0.242894</td>\n",
       "      <td>0.504574</td>\n",
       "      <td>0.688761</td>\n",
       "    </tr>\n",
       "    <tr>\n",
       "      <th>3</th>\n",
       "      <td>0.081759</td>\n",
       "      <td>0.186098</td>\n",
       "      <td>0.673023</td>\n",
       "      <td>0.852465</td>\n",
       "    </tr>\n",
       "    <tr>\n",
       "      <th>4</th>\n",
       "      <td>0.060141</td>\n",
       "      <td>0.168261</td>\n",
       "      <td>0.735417</td>\n",
       "      <td>0.890162</td>\n",
       "    </tr>\n",
       "  </tbody>\n",
       "</table>\n",
       "</div>"
      ],
      "text/plain": [
       "   Train Loss CV3  Train Loss CV3 GS  Val Loss CV3  Val Loss CV3 GS\n",
       "0        0.958921           1.407076      0.470147         1.021382\n",
       "1        0.186578           0.360126      0.463460         0.671883\n",
       "2        0.117426           0.242894      0.504574         0.688761\n",
       "3        0.081759           0.186098      0.673023         0.852465\n",
       "4        0.060141           0.168261      0.735417         0.890162"
      ]
     },
     "execution_count": 40,
     "metadata": {},
     "output_type": "execute_result"
    }
   ],
   "source": [
    "final_loss.head(5)"
   ]
  },
  {
   "cell_type": "markdown",
   "id": "essential-crawford",
   "metadata": {},
   "source": [
    "#### Plot"
   ]
  },
  {
   "cell_type": "code",
   "execution_count": 43,
   "id": "consistent-flavor",
   "metadata": {},
   "outputs": [
    {
     "data": {
      "image/png": "[encoded data removed]",
      "text/plain": [
       "<Figure size 800x400 with 1 Axes>"
      ]
     },
     "metadata": {
      "needs_background": "light"
     },
     "output_type": "display_data"
    }
   ],
   "source": [
    "# define area\n",
    "plt.figure(figsize=(10, 5), dpi=80)\n",
    "\n",
    "# define x axis\n",
    "x = final_loss.index\n",
    "  \n",
    "# plot lines\n",
    "plt.plot(x, final_loss['Train Loss CV3'], label = \"Train Loss CV=3\", color='blue')\n",
    "plt.plot(x, final_loss['Train Loss CV3 GS'], label = \"Train Loss CV=3 + GS\", color='red')\n",
    "plt.plot(x, final_loss['Val Loss CV3'], label = \"Val Loss CV=3\", color='blue', linestyle='-.')\n",
    "plt.plot(x, final_loss['Val Loss CV3 GS'], label = \"Val Loss CV=3 + GS\", color='red', linestyle='-.')\n",
    "plt.xticks(np.arange(0, 30, 1))\n",
    "plt.legend()\n",
    "plt.xlabel(\"Epochs\")\n",
    "plt.ylabel(\"Train and Val Loss Values\")\n",
    "plt.title(\"Comparing 3 Conv Layers Base and 3 Conv Layers with Grayscale) - Loss\")\n",
    "plt.show()"
   ]
  },
  {
   "cell_type": "code",
   "execution_count": null,
   "id": "involved-address",
   "metadata": {},
   "outputs": [],
   "source": []
  }
 ],
 "metadata": {
  "kernelspec": {
   "display_name": "Python 3",
   "language": "python",
   "name": "python3"
  },
  "language_info": {
   "codemirror_mode": {
    "name": "ipython",
    "version": 3
   },
   "file_extension": ".py",
   "mimetype": "text/x-python",
   "name": "python",
   "nbconvert_exporter": "python",
   "pygments_lexer": "ipython3",
   "version": "3.8.5"
  }
 },
 "nbformat": 4,
 "nbformat_minor": 5
}

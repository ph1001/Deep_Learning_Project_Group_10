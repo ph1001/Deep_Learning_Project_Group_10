{
 "cells": [
  {
   "cell_type": "code",
   "execution_count": 1,
   "id": "swiss-inspection",
   "metadata": {},
   "outputs": [],
   "source": [
    "import pandas as pd\n",
    "import numpy as np\n",
    "import plotly as py\n",
    "import matplotlib.pyplot as plt"
   ]
  },
  {
   "cell_type": "code",
   "execution_count": 42,
   "id": "invalid-prophet",
   "metadata": {},
   "outputs": [],
   "source": [
    "DO03 = pd.read_excel('01 AD+DO03.xlsx', index_col=0)\n",
    "DO09 = pd.read_excel('02 AD+DO09.xlsx', index_col=0)\n",
    "DO09_w_DA = pd.read_excel('AD+DO09+DA.xlsx', index_col=0)"
   ]
  },
  {
   "cell_type": "code",
   "execution_count": 5,
   "id": "atlantic-battle",
   "metadata": {},
   "outputs": [
    {
     "data": {
      "text/html": [
       "<div>\n",
       "<style scoped>\n",
       "    .dataframe tbody tr th:only-of-type {\n",
       "        vertical-align: middle;\n",
       "    }\n",
       "\n",
       "    .dataframe tbody tr th {\n",
       "        vertical-align: top;\n",
       "    }\n",
       "\n",
       "    .dataframe thead th {\n",
       "        text-align: right;\n",
       "    }\n",
       "</style>\n",
       "<table border=\"1\" class=\"dataframe\">\n",
       "  <thead>\n",
       "    <tr style=\"text-align: right;\">\n",
       "      <th></th>\n",
       "      <th>loss</th>\n",
       "      <th>acc</th>\n",
       "      <th>val_loss</th>\n",
       "      <th>val_acc</th>\n",
       "    </tr>\n",
       "  </thead>\n",
       "  <tbody>\n",
       "    <tr>\n",
       "      <th>0</th>\n",
       "      <td>1.226612</td>\n",
       "      <td>0.678288</td>\n",
       "      <td>0.825364</td>\n",
       "      <td>0.758653</td>\n",
       "    </tr>\n",
       "    <tr>\n",
       "      <th>1</th>\n",
       "      <td>0.258897</td>\n",
       "      <td>0.931038</td>\n",
       "      <td>0.602081</td>\n",
       "      <td>0.839952</td>\n",
       "    </tr>\n",
       "    <tr>\n",
       "      <th>2</th>\n",
       "      <td>0.118829</td>\n",
       "      <td>0.968415</td>\n",
       "      <td>0.564994</td>\n",
       "      <td>0.865295</td>\n",
       "    </tr>\n",
       "  </tbody>\n",
       "</table>\n",
       "</div>"
      ],
      "text/plain": [
       "       loss       acc  val_loss   val_acc\n",
       "0  1.226612  0.678288  0.825364  0.758653\n",
       "1  0.258897  0.931038  0.602081  0.839952\n",
       "2  0.118829  0.968415  0.564994  0.865295"
      ]
     },
     "execution_count": 5,
     "metadata": {},
     "output_type": "execute_result"
    }
   ],
   "source": [
    "DO03.head(3)"
   ]
  },
  {
   "cell_type": "code",
   "execution_count": 7,
   "id": "green-structure",
   "metadata": {},
   "outputs": [
    {
     "data": {
      "text/html": [
       "<div>\n",
       "<style scoped>\n",
       "    .dataframe tbody tr th:only-of-type {\n",
       "        vertical-align: middle;\n",
       "    }\n",
       "\n",
       "    .dataframe tbody tr th {\n",
       "        vertical-align: top;\n",
       "    }\n",
       "\n",
       "    .dataframe thead th {\n",
       "        text-align: right;\n",
       "    }\n",
       "</style>\n",
       "<table border=\"1\" class=\"dataframe\">\n",
       "  <thead>\n",
       "    <tr style=\"text-align: right;\">\n",
       "      <th></th>\n",
       "      <th>loss</th>\n",
       "      <th>acc</th>\n",
       "      <th>val_loss</th>\n",
       "      <th>val_acc</th>\n",
       "    </tr>\n",
       "  </thead>\n",
       "  <tbody>\n",
       "    <tr>\n",
       "      <th>0</th>\n",
       "      <td>1.647336</td>\n",
       "      <td>0.541202</td>\n",
       "      <td>1.051094</td>\n",
       "      <td>0.707203</td>\n",
       "    </tr>\n",
       "    <tr>\n",
       "      <th>1</th>\n",
       "      <td>0.630881</td>\n",
       "      <td>0.814062</td>\n",
       "      <td>0.699640</td>\n",
       "      <td>0.805511</td>\n",
       "    </tr>\n",
       "    <tr>\n",
       "      <th>2</th>\n",
       "      <td>0.400297</td>\n",
       "      <td>0.881858</td>\n",
       "      <td>0.594640</td>\n",
       "      <td>0.836976</td>\n",
       "    </tr>\n",
       "  </tbody>\n",
       "</table>\n",
       "</div>"
      ],
      "text/plain": [
       "       loss       acc  val_loss   val_acc\n",
       "0  1.647336  0.541202  1.051094  0.707203\n",
       "1  0.630881  0.814062  0.699640  0.805511\n",
       "2  0.400297  0.881858  0.594640  0.836976"
      ]
     },
     "execution_count": 7,
     "metadata": {},
     "output_type": "execute_result"
    }
   ],
   "source": [
    "DO09.head(3)"
   ]
  },
  {
   "cell_type": "code",
   "execution_count": 43,
   "id": "tender-headset",
   "metadata": {},
   "outputs": [
    {
     "data": {
      "text/html": [
       "<div>\n",
       "<style scoped>\n",
       "    .dataframe tbody tr th:only-of-type {\n",
       "        vertical-align: middle;\n",
       "    }\n",
       "\n",
       "    .dataframe tbody tr th {\n",
       "        vertical-align: top;\n",
       "    }\n",
       "\n",
       "    .dataframe thead th {\n",
       "        text-align: right;\n",
       "    }\n",
       "</style>\n",
       "<table border=\"1\" class=\"dataframe\">\n",
       "  <thead>\n",
       "    <tr style=\"text-align: right;\">\n",
       "      <th></th>\n",
       "      <th>loss</th>\n",
       "      <th>acc</th>\n",
       "      <th>val_loss</th>\n",
       "      <th>val_acc</th>\n",
       "    </tr>\n",
       "  </thead>\n",
       "  <tbody>\n",
       "    <tr>\n",
       "      <th>0</th>\n",
       "      <td>0.584720</td>\n",
       "      <td>0.830397</td>\n",
       "      <td>2.192652</td>\n",
       "      <td>0.520795</td>\n",
       "    </tr>\n",
       "    <tr>\n",
       "      <th>1</th>\n",
       "      <td>0.537183</td>\n",
       "      <td>0.842979</td>\n",
       "      <td>2.177213</td>\n",
       "      <td>0.529862</td>\n",
       "    </tr>\n",
       "    <tr>\n",
       "      <th>2</th>\n",
       "      <td>0.504127</td>\n",
       "      <td>0.853951</td>\n",
       "      <td>2.238311</td>\n",
       "      <td>0.530334</td>\n",
       "    </tr>\n",
       "  </tbody>\n",
       "</table>\n",
       "</div>"
      ],
      "text/plain": [
       "       loss       acc  val_loss   val_acc\n",
       "0  0.584720  0.830397  2.192652  0.520795\n",
       "1  0.537183  0.842979  2.177213  0.529862\n",
       "2  0.504127  0.853951  2.238311  0.530334"
      ]
     },
     "execution_count": 43,
     "metadata": {},
     "output_type": "execute_result"
    }
   ],
   "source": [
    "DO09_w_DA.head(3)"
   ]
  },
  {
   "cell_type": "code",
   "execution_count": 44,
   "id": "prime-coral",
   "metadata": {},
   "outputs": [
    {
     "name": "stdout",
     "output_type": "stream",
     "text": [
      "(5, 4)\n",
      "(5, 4)\n",
      "(4, 4)\n"
     ]
    }
   ],
   "source": [
    "print(DO03.shape)\n",
    "print(DO09.shape)\n",
    "print(DO09_w_DA.shape)"
   ]
  },
  {
   "cell_type": "markdown",
   "id": "third-hurricane",
   "metadata": {},
   "source": [
    "### Plot accuracies"
   ]
  },
  {
   "cell_type": "markdown",
   "id": "fifty-chocolate",
   "metadata": {},
   "source": [
    "#### Create a DF to plot the accuracies (train and val)"
   ]
  },
  {
   "cell_type": "code",
   "execution_count": 48,
   "id": "animated-sweden",
   "metadata": {},
   "outputs": [],
   "source": [
    "# Initialize an empty df\n",
    "final_acc = pd.DataFrame()"
   ]
  },
  {
   "cell_type": "code",
   "execution_count": 49,
   "id": "civic-license",
   "metadata": {},
   "outputs": [],
   "source": [
    "# List the columns the df will have\n",
    "final_acc_columns = ['Train Acc 03', 'Train Acc 09', 'Train Acc 09 DA', 'Val Acc 03', 'Val Acc 09', 'Val Acc 09 DA']"
   ]
  },
  {
   "cell_type": "code",
   "execution_count": 50,
   "id": "handmade-wages",
   "metadata": {},
   "outputs": [],
   "source": [
    "# Create the columns\n",
    "for column in final_acc_columns:\n",
    "    final_acc[column] = None"
   ]
  },
  {
   "cell_type": "code",
   "execution_count": 51,
   "id": "sticky-checkout",
   "metadata": {},
   "outputs": [
    {
     "data": {
      "text/html": [
       "<div>\n",
       "<style scoped>\n",
       "    .dataframe tbody tr th:only-of-type {\n",
       "        vertical-align: middle;\n",
       "    }\n",
       "\n",
       "    .dataframe tbody tr th {\n",
       "        vertical-align: top;\n",
       "    }\n",
       "\n",
       "    .dataframe thead th {\n",
       "        text-align: right;\n",
       "    }\n",
       "</style>\n",
       "<table border=\"1\" class=\"dataframe\">\n",
       "  <thead>\n",
       "    <tr style=\"text-align: right;\">\n",
       "      <th></th>\n",
       "      <th>Train Acc 03</th>\n",
       "      <th>Train Acc 09</th>\n",
       "      <th>Train Acc 09 DA</th>\n",
       "      <th>Val Acc 03</th>\n",
       "      <th>Val Acc 09</th>\n",
       "      <th>Val Acc 09 DA</th>\n",
       "    </tr>\n",
       "  </thead>\n",
       "  <tbody>\n",
       "  </tbody>\n",
       "</table>\n",
       "</div>"
      ],
      "text/plain": [
       "Empty DataFrame\n",
       "Columns: [Train Acc 03, Train Acc 09, Train Acc 09 DA, Val Acc 03, Val Acc 09, Val Acc 09 DA]\n",
       "Index: []"
      ]
     },
     "execution_count": 51,
     "metadata": {},
     "output_type": "execute_result"
    }
   ],
   "source": [
    "# Confirm they were correctly created\n",
    "final_acc"
   ]
  },
  {
   "cell_type": "code",
   "execution_count": 54,
   "id": "legislative-mouth",
   "metadata": {},
   "outputs": [],
   "source": [
    "# Add training accuracy values\n",
    "final_acc['Train Acc 03'] = DO03['acc']\n",
    "final_acc['Train Acc 09'] = DO09['acc']\n",
    "final_acc['Train Acc 09 DA'] = DO09_w_DA['acc']\n",
    "\n",
    "# Add val accuracy values\n",
    "final_acc['Val Acc 03'] = DO03['val_acc']\n",
    "final_acc['Val Acc 09'] = DO09['val_acc']\n",
    "final_acc['Val Acc 09 DA'] = DO09_w_DA['acc']"
   ]
  },
  {
   "cell_type": "code",
   "execution_count": 55,
   "id": "medical-exercise",
   "metadata": {
    "scrolled": true
   },
   "outputs": [
    {
     "data": {
      "text/html": [
       "<div>\n",
       "<style scoped>\n",
       "    .dataframe tbody tr th:only-of-type {\n",
       "        vertical-align: middle;\n",
       "    }\n",
       "\n",
       "    .dataframe tbody tr th {\n",
       "        vertical-align: top;\n",
       "    }\n",
       "\n",
       "    .dataframe thead th {\n",
       "        text-align: right;\n",
       "    }\n",
       "</style>\n",
       "<table border=\"1\" class=\"dataframe\">\n",
       "  <thead>\n",
       "    <tr style=\"text-align: right;\">\n",
       "      <th></th>\n",
       "      <th>Train Acc 03</th>\n",
       "      <th>Train Acc 09</th>\n",
       "      <th>Train Acc 09 DA</th>\n",
       "      <th>Val Acc 03</th>\n",
       "      <th>Val Acc 09</th>\n",
       "      <th>Val Acc 09 DA</th>\n",
       "    </tr>\n",
       "  </thead>\n",
       "  <tbody>\n",
       "    <tr>\n",
       "      <th>0</th>\n",
       "      <td>0.678288</td>\n",
       "      <td>0.541202</td>\n",
       "      <td>0.830397</td>\n",
       "      <td>0.758653</td>\n",
       "      <td>0.707203</td>\n",
       "      <td>0.830397</td>\n",
       "    </tr>\n",
       "    <tr>\n",
       "      <th>1</th>\n",
       "      <td>0.931038</td>\n",
       "      <td>0.814062</td>\n",
       "      <td>0.842979</td>\n",
       "      <td>0.839952</td>\n",
       "      <td>0.805511</td>\n",
       "      <td>0.842979</td>\n",
       "    </tr>\n",
       "    <tr>\n",
       "      <th>2</th>\n",
       "      <td>0.968415</td>\n",
       "      <td>0.881858</td>\n",
       "      <td>0.853951</td>\n",
       "      <td>0.865295</td>\n",
       "      <td>0.836976</td>\n",
       "      <td>0.853951</td>\n",
       "    </tr>\n",
       "    <tr>\n",
       "      <th>3</th>\n",
       "      <td>0.982441</td>\n",
       "      <td>0.911439</td>\n",
       "      <td>0.863357</td>\n",
       "      <td>0.875415</td>\n",
       "      <td>0.848116</td>\n",
       "      <td>0.863357</td>\n",
       "    </tr>\n",
       "    <tr>\n",
       "      <th>4</th>\n",
       "      <td>0.988816</td>\n",
       "      <td>0.929435</td>\n",
       "      <td>NaN</td>\n",
       "      <td>0.887661</td>\n",
       "      <td>0.846756</td>\n",
       "      <td>NaN</td>\n",
       "    </tr>\n",
       "  </tbody>\n",
       "</table>\n",
       "</div>"
      ],
      "text/plain": [
       "   Train Acc 03  Train Acc 09  Train Acc 09 DA  Val Acc 03  Val Acc 09  \\\n",
       "0      0.678288      0.541202         0.830397    0.758653    0.707203   \n",
       "1      0.931038      0.814062         0.842979    0.839952    0.805511   \n",
       "2      0.968415      0.881858         0.853951    0.865295    0.836976   \n",
       "3      0.982441      0.911439         0.863357    0.875415    0.848116   \n",
       "4      0.988816      0.929435              NaN    0.887661    0.846756   \n",
       "\n",
       "   Val Acc 09 DA  \n",
       "0       0.830397  \n",
       "1       0.842979  \n",
       "2       0.853951  \n",
       "3       0.863357  \n",
       "4            NaN  "
      ]
     },
     "execution_count": 55,
     "metadata": {},
     "output_type": "execute_result"
    }
   ],
   "source": [
    "final_acc"
   ]
  },
  {
   "cell_type": "markdown",
   "id": "engaging-causing",
   "metadata": {},
   "source": [
    "#### Plot"
   ]
  },
  {
   "cell_type": "code",
   "execution_count": 57,
   "id": "tribal-indicator",
   "metadata": {},
   "outputs": [
    {
     "data": {
      "image/png": "[encoded data removed]",
      "text/plain": [
       "<Figure size 640x320 with 1 Axes>"
      ]
     },
     "metadata": {
      "needs_background": "light"
     },
     "output_type": "display_data"
    }
   ],
   "source": [
    "# define area\n",
    "plt.figure(figsize=(8, 4), dpi=80)\n",
    "\n",
    "# define x axis\n",
    "x = final_acc.index\n",
    "  \n",
    "# plot lines\n",
    "plt.plot(x, final_acc['Train Acc 03'], label = \"Train Acc DO=0.3\", color='blue')\n",
    "plt.plot(x, final_acc['Train Acc 09'], label = \"Train Acc DO=0.9\", color='red')\n",
    "plt.plot(x, final_acc['Train Acc 09 DA'], label = \"Train Acc DO=0.9 + DA\", color='green')\n",
    "plt.plot(x, final_acc['Val Acc 03'], label = \"Val Acc DO=0.3\", color='blue', linestyle='-.')\n",
    "plt.plot(x, final_acc['Val Acc 09'], label = \"Val Acc DO=0.9\", color='red', linestyle='-.')\n",
    "plt.plot(x, final_acc['Val Acc 09 DA'], label = \"Vall Acc DO=0.9 + DA\", color='green', linestyle='-.')\n",
    "plt.xticks(np.arange(0, 5, 1))\n",
    "plt.legend()\n",
    "plt.xlabel(\"Epochs\")\n",
    "plt.ylabel(\"Train and Val Accuracies\")\n",
    "plt.title(\"Comparing Dropout Equal to 0.3 and 0.9 (with and without data augmentation) - Accuracy\")\n",
    "plt.show()"
   ]
  },
  {
   "cell_type": "markdown",
   "id": "heated-column",
   "metadata": {},
   "source": [
    "### Plot loss values"
   ]
  },
  {
   "cell_type": "markdown",
   "id": "polar-elements",
   "metadata": {},
   "source": [
    "#### Create a df to plot loss values"
   ]
  },
  {
   "cell_type": "code",
   "execution_count": 33,
   "id": "current-concern",
   "metadata": {},
   "outputs": [],
   "source": [
    "# Initialize an empty df\n",
    "final_loss = pd.DataFrame()"
   ]
  },
  {
   "cell_type": "code",
   "execution_count": 35,
   "id": "forty-supplier",
   "metadata": {},
   "outputs": [],
   "source": [
    "# List the columns the df will have\n",
    "final_loss_columns = ['Train Loss 03', 'Train Loss 09', 'Val Loss 03', 'Val Loss 09']"
   ]
  },
  {
   "cell_type": "code",
   "execution_count": 36,
   "id": "addressed-nashville",
   "metadata": {},
   "outputs": [],
   "source": [
    "# Create the columns\n",
    "for column in final_loss_columns:\n",
    "    final_loss[column] = None"
   ]
  },
  {
   "cell_type": "code",
   "execution_count": 37,
   "id": "split-delivery",
   "metadata": {},
   "outputs": [
    {
     "data": {
      "text/html": [
       "<div>\n",
       "<style scoped>\n",
       "    .dataframe tbody tr th:only-of-type {\n",
       "        vertical-align: middle;\n",
       "    }\n",
       "\n",
       "    .dataframe tbody tr th {\n",
       "        vertical-align: top;\n",
       "    }\n",
       "\n",
       "    .dataframe thead th {\n",
       "        text-align: right;\n",
       "    }\n",
       "</style>\n",
       "<table border=\"1\" class=\"dataframe\">\n",
       "  <thead>\n",
       "    <tr style=\"text-align: right;\">\n",
       "      <th></th>\n",
       "      <th>Train Loss 03</th>\n",
       "      <th>Train Loss 09</th>\n",
       "      <th>Val Loss 03</th>\n",
       "      <th>Val Loss 09</th>\n",
       "    </tr>\n",
       "  </thead>\n",
       "  <tbody>\n",
       "  </tbody>\n",
       "</table>\n",
       "</div>"
      ],
      "text/plain": [
       "Empty DataFrame\n",
       "Columns: [Train Loss 03, Train Loss 09, Val Loss 03, Val Loss 09]\n",
       "Index: []"
      ]
     },
     "execution_count": 37,
     "metadata": {},
     "output_type": "execute_result"
    }
   ],
   "source": [
    "# Confirm they were correctly created\n",
    "final_loss"
   ]
  },
  {
   "cell_type": "code",
   "execution_count": 38,
   "id": "indonesian-blood",
   "metadata": {},
   "outputs": [],
   "source": [
    "# Add training accuracy values\n",
    "final_loss['Train Loss 03'] = DO03['loss']\n",
    "final_loss['Train Loss 09'] = DO09['loss']\n",
    "\n",
    "# Add val accuracy values\n",
    "final_loss['Val Loss 03'] = DO03['val_loss']\n",
    "final_loss['Val Loss 09'] = DO09['val_loss']"
   ]
  },
  {
   "cell_type": "code",
   "execution_count": 39,
   "id": "veterinary-poster",
   "metadata": {
    "scrolled": true
   },
   "outputs": [
    {
     "data": {
      "text/html": [
       "<div>\n",
       "<style scoped>\n",
       "    .dataframe tbody tr th:only-of-type {\n",
       "        vertical-align: middle;\n",
       "    }\n",
       "\n",
       "    .dataframe tbody tr th {\n",
       "        vertical-align: top;\n",
       "    }\n",
       "\n",
       "    .dataframe thead th {\n",
       "        text-align: right;\n",
       "    }\n",
       "</style>\n",
       "<table border=\"1\" class=\"dataframe\">\n",
       "  <thead>\n",
       "    <tr style=\"text-align: right;\">\n",
       "      <th></th>\n",
       "      <th>Train Loss 03</th>\n",
       "      <th>Train Loss 09</th>\n",
       "      <th>Val Loss 03</th>\n",
       "      <th>Val Loss 09</th>\n",
       "    </tr>\n",
       "  </thead>\n",
       "  <tbody>\n",
       "    <tr>\n",
       "      <th>0</th>\n",
       "      <td>1.226612</td>\n",
       "      <td>1.647336</td>\n",
       "      <td>0.825364</td>\n",
       "      <td>1.051094</td>\n",
       "    </tr>\n",
       "    <tr>\n",
       "      <th>1</th>\n",
       "      <td>0.258897</td>\n",
       "      <td>0.630881</td>\n",
       "      <td>0.602081</td>\n",
       "      <td>0.699640</td>\n",
       "    </tr>\n",
       "    <tr>\n",
       "      <th>2</th>\n",
       "      <td>0.118829</td>\n",
       "      <td>0.400297</td>\n",
       "      <td>0.564994</td>\n",
       "      <td>0.594640</td>\n",
       "    </tr>\n",
       "    <tr>\n",
       "      <th>3</th>\n",
       "      <td>0.066607</td>\n",
       "      <td>0.306628</td>\n",
       "      <td>0.571185</td>\n",
       "      <td>0.548938</td>\n",
       "    </tr>\n",
       "    <tr>\n",
       "      <th>4</th>\n",
       "      <td>0.040366</td>\n",
       "      <td>0.246431</td>\n",
       "      <td>0.606713</td>\n",
       "      <td>0.559862</td>\n",
       "    </tr>\n",
       "  </tbody>\n",
       "</table>\n",
       "</div>"
      ],
      "text/plain": [
       "   Train Loss 03  Train Loss 09  Val Loss 03  Val Loss 09\n",
       "0       1.226612       1.647336     0.825364     1.051094\n",
       "1       0.258897       0.630881     0.602081     0.699640\n",
       "2       0.118829       0.400297     0.564994     0.594640\n",
       "3       0.066607       0.306628     0.571185     0.548938\n",
       "4       0.040366       0.246431     0.606713     0.559862"
      ]
     },
     "execution_count": 39,
     "metadata": {},
     "output_type": "execute_result"
    }
   ],
   "source": [
    "final_loss"
   ]
  },
  {
   "cell_type": "markdown",
   "id": "promotional-pleasure",
   "metadata": {},
   "source": [
    "#### Plots"
   ]
  },
  {
   "cell_type": "code",
   "execution_count": 41,
   "id": "experienced-conversation",
   "metadata": {
    "scrolled": true
   },
   "outputs": [
    {
     "data": {
      "image/png": "[encoded data removed]",
      "text/plain": [
       "<Figure size 640x320 with 1 Axes>"
      ]
     },
     "metadata": {
      "needs_background": "light"
     },
     "output_type": "display_data"
    }
   ],
   "source": [
    "# define area\n",
    "plt.figure(figsize=(8, 4), dpi=80)\n",
    "\n",
    "# define x axis\n",
    "x = final_loss.index\n",
    "  \n",
    "# plot lines\n",
    "plt.plot(x, final_loss['Train Loss 03'], label = \"Train Loss DO=0.3\", color='blue')\n",
    "plt.plot(x, final_loss['Train Loss 09'], label = \"Train Loss DO=0.9\", color='red')\n",
    "plt.plot(x, final_loss['Val Loss 03'], label = \"Val Loss DO=0.3\", color='blue', linestyle='-.')\n",
    "plt.plot(x, final_loss['Val Loss 09'], label = \"Val Loss DO=0.9\", color='red', linestyle='-.')\n",
    "plt.xticks(np.arange(0, 5, 1))\n",
    "plt.legend()\n",
    "plt.xlabel(\"Epochs\")\n",
    "plt.ylabel(\"Train and Val Loss Values\")\n",
    "plt.title(\"Comparing Dropout Equal to 0.3 and 0.9 - Loss\")\n",
    "plt.show()"
   ]
  },
  {
   "cell_type": "code",
   "execution_count": null,
   "id": "atlantic-eating",
   "metadata": {},
   "outputs": [],
   "source": []
  }
 ],
 "metadata": {
  "kernelspec": {
   "display_name": "Python 3",
   "language": "python",
   "name": "python3"
  },
  "language_info": {
   "codemirror_mode": {
    "name": "ipython",
    "version": 3
   },
   "file_extension": ".py",
   "mimetype": "text/x-python",
   "name": "python",
   "nbconvert_exporter": "python",
   "pygments_lexer": "ipython3",
   "version": "3.8.5"
  }
 },
 "nbformat": 4,
 "nbformat_minor": 5
}

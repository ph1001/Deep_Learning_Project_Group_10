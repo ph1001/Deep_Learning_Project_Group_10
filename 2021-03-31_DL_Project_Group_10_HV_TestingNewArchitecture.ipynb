{
 "cells": [
  {
   "cell_type": "markdown",
   "id": "periodic-skirt",
   "metadata": {},
   "source": [
    "# Deep Learning Project - Traffic Signs Image Classification"
   ]
  },
  {
   "cell_type": "code",
   "execution_count": 122,
   "id": "announced-interstate",
   "metadata": {},
   "outputs": [],
   "source": [
    "import os, shutil\n",
    "import pandas as pd\n",
    "import seaborn as sns\n",
    "import matplotlib.pyplot as plt"
   ]
  },
  {
   "cell_type": "code",
   "execution_count": 123,
   "id": "lyric-screening",
   "metadata": {},
   "outputs": [],
   "source": [
    "def save_hist_to_excel(filename):\n",
    "    df = pd.DataFrame(history.history)\n",
    "    df.to_excel(filename + '.xlsx')"
   ]
  },
  {
   "cell_type": "markdown",
   "id": "radical-winter",
   "metadata": {},
   "source": [
    "## Overview of the training data"
   ]
  },
  {
   "cell_type": "code",
   "execution_count": 124,
   "id": "dated-alert",
   "metadata": {},
   "outputs": [
    {
     "name": "stdout",
     "output_type": "stream",
     "text": [
      "There are 43 different classes within the training data!\n"
     ]
    }
   ],
   "source": [
    "#setting the training directory (the training images can be found there, already sorted by class into folders)\n",
    "base_training_dir = \"/Users/henriquevaz/NOVA IMS/YEAR 1/SPRING SEMESTER/DL/Project/my_notebooks/Data/Training/Final_Training/Images/\"\n",
    "#base_training_dir = \"/Users/philippmetzger/Documents/GitHub/Deep_Learning_Project_Group_10/Data/GTSRB_Final_Training_Images/GTSRB/Final_Training/Images/\"\n",
    "\n",
    "#setting the directory where the selected training and validation images will be stored in\n",
    "created_dir = \"/Users/henriquevaz/NOVA IMS/YEAR 1/SPRING SEMESTER/DL/Project/my_notebooks/Data/Selected\"\n",
    "#created_dir = \"/Users/philippmetzger/Documents/GitHub/Deep_Learning_Project_Group_10/Data/Selected\"\n",
    "\n",
    "#storing all the folder names that belong to the respective classes\n",
    "all_classes = sorted(i for i in os.listdir(base_training_dir) if i.startswith(\"0\"))\n",
    "\n",
    "print(\"There are\", len(all_classes), \"different classes within the training data!\")"
   ]
  },
  {
   "cell_type": "code",
   "execution_count": 125,
   "id": "departmental-torture",
   "metadata": {},
   "outputs": [],
   "source": [
    "#getting the number of images within each class of the training data\n",
    "amount_per_class = {}\n",
    "\n",
    "for i in range(len(all_classes)):\n",
    "    directory = base_training_dir + \"/\" + all_classes[i]\n",
    "    amount_per_class[i] = len(sorted(i for i in os.listdir(directory) if i.startswith(\"0\")))\n",
    "\n",
    "amount_per_class_df = pd.DataFrame.from_dict(amount_per_class, orient='index').rename(columns={0:\"amount\"})\n",
    "amount_per_class_df.index.name = 'class'\n",
    "\n",
    "#remove the \"#\" of the following line to display the number of images within each class\n",
    "#amount_per_class_df"
   ]
  },
  {
   "cell_type": "code",
   "execution_count": 126,
   "id": "saved-advantage",
   "metadata": {},
   "outputs": [
    {
     "data": {
      "image/png": "[encoded data removed]",
      "text/plain": [
       "<Figure size 1440x576 with 1 Axes>"
      ]
     },
     "metadata": {
      "needs_background": "light"
     },
     "output_type": "display_data"
    }
   ],
   "source": [
    "#displaying the number of images per class visually\n",
    "\n",
    "plt.rcParams[\"figure.figsize\"] = (20,8)\n",
    "fig, ax = plt.subplots()\n",
    "plt.bar(amount_per_class_df.index, amount_per_class_df.amount)\n",
    "plt.title(\"Number of images per class\", fontsize=20)\n",
    "plt.xlabel('class', fontsize=18)\n",
    "plt.ylabel('number of images', fontsize=18)\n",
    "ax.spines['right'].set_visible(False)\n",
    "ax.spines['top'].set_visible(False)\n",
    "plt.xticks(amount_per_class_df.index)\n",
    "plt.grid(axis=\"y\")\n",
    "plt.show()"
   ]
  },
  {
   "cell_type": "markdown",
   "id": "later-school",
   "metadata": {},
   "source": [
    "As it can be seen in the bar chart, the dataset is highly unbalanced. Some classes have over 2000 instances, while others only have 210."
   ]
  },
  {
   "cell_type": "code",
   "execution_count": 127,
   "id": "noted-coordinator",
   "metadata": {},
   "outputs": [
    {
     "data": {
      "text/html": [
       "<div>\n",
       "<style scoped>\n",
       "    .dataframe tbody tr th:only-of-type {\n",
       "        vertical-align: middle;\n",
       "    }\n",
       "\n",
       "    .dataframe tbody tr th {\n",
       "        vertical-align: top;\n",
       "    }\n",
       "\n",
       "    .dataframe thead th {\n",
       "        text-align: right;\n",
       "    }\n",
       "</style>\n",
       "<table border=\"1\" class=\"dataframe\">\n",
       "  <thead>\n",
       "    <tr style=\"text-align: right;\">\n",
       "      <th>class</th>\n",
       "      <th>0</th>\n",
       "      <th>37</th>\n",
       "      <th>19</th>\n",
       "      <th>32</th>\n",
       "      <th>27</th>\n",
       "      <th>41</th>\n",
       "      <th>42</th>\n",
       "      <th>24</th>\n",
       "      <th>29</th>\n",
       "      <th>39</th>\n",
       "      <th>21</th>\n",
       "      <th>40</th>\n",
       "      <th>20</th>\n",
       "      <th>36</th>\n",
       "      <th>22</th>\n",
       "      <th>6</th>\n",
       "      <th>16</th>\n",
       "      <th>34</th>\n",
       "      <th>30</th>\n",
       "      <th>23</th>\n",
       "    </tr>\n",
       "  </thead>\n",
       "  <tbody>\n",
       "    <tr>\n",
       "      <th>amount</th>\n",
       "      <td>210</td>\n",
       "      <td>210</td>\n",
       "      <td>210</td>\n",
       "      <td>240</td>\n",
       "      <td>240</td>\n",
       "      <td>240</td>\n",
       "      <td>240</td>\n",
       "      <td>270</td>\n",
       "      <td>270</td>\n",
       "      <td>300</td>\n",
       "      <td>330</td>\n",
       "      <td>360</td>\n",
       "      <td>360</td>\n",
       "      <td>390</td>\n",
       "      <td>390</td>\n",
       "      <td>420</td>\n",
       "      <td>420</td>\n",
       "      <td>420</td>\n",
       "      <td>450</td>\n",
       "      <td>510</td>\n",
       "    </tr>\n",
       "  </tbody>\n",
       "</table>\n",
       "</div>"
      ],
      "text/plain": [
       "class    0    37   19   32   27   41   42   24   29   39   21   40   20   36  \\\n",
       "amount  210  210  210  240  240  240  240  270  270  300  330  360  360  390   \n",
       "\n",
       "class    22   6    16   34   30   23  \n",
       "amount  390  420  420  420  450  510  "
      ]
     },
     "execution_count": 127,
     "metadata": {},
     "output_type": "execute_result"
    }
   ],
   "source": [
    "#displaying the 20 classes with the fewest images\n",
    "amount_per_class_df.sort_values(\"amount\").head(20).T"
   ]
  },
  {
   "cell_type": "markdown",
   "id": "frank-advantage",
   "metadata": {},
   "source": [
    "Within each class, there are several groups of images, that belong together (these are basically all images of the very same traffic sign, that just differ in that they were made as a series while approaching the actual sign). These series of images shouldn't be splitted later when the data is split into training and validation sets, so some precautions might be useful:"
   ]
  },
  {
   "cell_type": "code",
   "execution_count": 128,
   "id": "effective-bicycle",
   "metadata": {},
   "outputs": [
    {
     "name": "stdout",
     "output_type": "stream",
     "text": [
      "There is a series whose number doesn't match the others in class 00033 , with the prefix 00019 !\n",
      "It only contains 29 images.\n",
      "All the other series of images contain exactly 30 images!\n"
     ]
    }
   ],
   "source": [
    "#checking the size(=amount of images) of these series and whether they are all having the same size\n",
    "\n",
    "#running a for loop over all classes\n",
    "for i in range(len(all_classes)):\n",
    "    directory = base_training_dir + \"/\" + all_classes[i]\n",
    "    \n",
    "    #get the names of all images within a class\n",
    "    list_of_images = sorted(i for i in os.listdir(directory) if i.startswith(\"0\"))\n",
    "\n",
    "    image_series = []\n",
    "    \n",
    "    #store all the prefixes of the images (which correspond to the series they belong to)\n",
    "    for element in list_of_images:\n",
    "        image_series.append(element.split(\"_\")[0])\n",
    "    \n",
    "    #count the frequency of each prefix, which equals the size of each respective series\n",
    "    image_counts = pd.Series(image_series).value_counts().sort_index()\n",
    "\n",
    "    for element in image_counts.values.tolist():\n",
    "        if element != image_counts.values.tolist()[0]:\n",
    "            #this line will show if there is a series that contains not the same number of images than the others\n",
    "            print(\"There is a series whose number doesn't match the others in class\", all_classes[i], \", with the prefix\", image_counts.sort_values().index[0], \"!\\nIt only contains\", element, \"images.\")\n",
    "            \n",
    "\n",
    "#apart from only one series, all others consist of exactly 30 images\n",
    "print(\"All the other series of images contain exactly\", image_counts.values.tolist()[0], \"images!\")"
   ]
  },
  {
   "cell_type": "markdown",
   "id": "insured-spencer",
   "metadata": {},
   "source": [
    "## Split into training and validation datasets"
   ]
  },
  {
   "cell_type": "markdown",
   "id": "flexible-sympathy",
   "metadata": {},
   "source": [
    "As already mentioned, it is important for the split into training and validation sets that the individual image series stay together. As a first approach, there will be 210 images used per class, as this number corresponds to the amount of images in the \"smallest\" class. This will fix the problem of imbalance in the dataset. Subsequently, the data will be splitted by a 5:2 (150:60) ratio into training and validation set, in order to guarantee that the series will stay together."
   ]
  },
  {
   "cell_type": "code",
   "execution_count": 129,
   "id": "reported-break",
   "metadata": {},
   "outputs": [],
   "source": [
    "new_train_dir = \"/Users/henriquevaz/NOVA IMS/YEAR 1/SPRING SEMESTER/DL/Project/my_notebooks/Data/Selected/train_all\"\n",
    "new_val_dir = \"/Users/henriquevaz/NOVA IMS/YEAR 1/SPRING SEMESTER/DL/Project/my_notebooks/Data/Selected/val_all\""
   ]
  },
  {
   "cell_type": "code",
   "execution_count": 61,
   "id": "norman-broad",
   "metadata": {},
   "outputs": [],
   "source": [
    "for i in range(len(all_classes)):\n",
    "    os.mkdir(new_train_dir + \"/\" + all_classes[i])\n",
    "    os.mkdir(new_val_dir + \"/\" + all_classes[i])"
   ]
  },
  {
   "cell_type": "code",
   "execution_count": 62,
   "id": "superior-earthquake",
   "metadata": {},
   "outputs": [],
   "source": [
    "import random\n",
    "\n",
    "for i in range(len(all_classes)):\n",
    "    \n",
    "    list_ = os.listdir(base_training_dir + \"/\" + all_classes[i])\n",
    "    random.shuffle(list_)\n",
    "    new_list = []\n",
    "    for element in list_:\n",
    "        if element.startswith(\"000\"):\n",
    "            new_list.append(element)\n",
    "    \n",
    "    new_list = sorted(new_list)\n",
    "    for image in range(len(new_list)):\n",
    "        \n",
    "        \n",
    "        #setting the cut off according to the next closest number in steps of 30 according to a 70:30 ratio\n",
    "        if len(new_list) == 210 or len(new_list) == 240:\n",
    "            cut = 60\n",
    "        elif len(new_list) == 270 or len(new_list) == 300 or len(new_list) == 330:\n",
    "            cut = 90\n",
    "        elif len(new_list) == 360 or len(new_list) == 390 or len(new_list) == 420:\n",
    "            cut = 120\n",
    "        elif len(new_list) == 450 or len(new_list) == 510 or len(new_list) == 540:\n",
    "            cut = 150\n",
    "        elif len(new_list) == 600 or len(new_list) == 630:\n",
    "            cut = 180\n",
    "        elif len(new_list) == 689:\n",
    "            cut = 210 - 1\n",
    "        elif len(new_list) == 780:\n",
    "            cut = 240\n",
    "        elif len(new_list) == 1110:\n",
    "            cut = 330\n",
    "        elif len(new_list) == 1200:\n",
    "            cut = 360\n",
    "        elif len(new_list) == 1320:\n",
    "            cut = 390\n",
    "        elif len(new_list) == 1410 or len(new_list) == 1440:\n",
    "            cut = 420\n",
    "        elif len(new_list) == 1470 or len(new_list) == 1500:\n",
    "            cut = 450\n",
    "        elif len(new_list) == 1860:\n",
    "            cut = 570\n",
    "        elif len(new_list) == 1980 or len(new_list) == 2010:\n",
    "            cut = 600\n",
    "        elif len(new_list) == 2070 or len(new_list) == 2100:\n",
    "            cut = 630\n",
    "        elif len(new_list) == 2160 or len(new_list) == 2220:\n",
    "            cut = 660\n",
    "        elif len(new_list) == 2250:\n",
    "            cut = 690\n",
    "         \n",
    "        \n",
    "        if image < len(new_list) - cut:\n",
    "            \n",
    "            src = base_training_dir + \"/\" + all_classes[i] + \"/\" + new_list[image]\n",
    "            dst = new_train_dir + \"/\" + all_classes[i] + \"/\"  + new_list[image]\n",
    "            shutil.copyfile(src, dst)\n",
    "            \n",
    "        else:\n",
    "            src = base_training_dir + \"/\" + all_classes[i] + \"/\" + new_list[image]\n",
    "            dst = new_val_dir + \"/\" + all_classes[i] + \"/\"  + new_list[image]\n",
    "            shutil.copyfile(src, dst)"
   ]
  },
  {
   "cell_type": "code",
   "execution_count": 117,
   "id": "precious-society",
   "metadata": {},
   "outputs": [
    {
     "name": "stdout",
     "output_type": "stream",
     "text": [
      "Class 0 : training set size = 150 ; validation set size: 60\n",
      "Class 1 : training set size = 1560 ; validation set size: 660\n",
      "Class 2 : training set size = 1560 ; validation set size: 690\n",
      "Class 3 : training set size = 990 ; validation set size: 420\n",
      "Class 4 : training set size = 1380 ; validation set size: 600\n",
      "Class 5 : training set size = 1290 ; validation set size: 570\n",
      "Class 6 : training set size = 300 ; validation set size: 120\n",
      "Class 7 : training set size = 1020 ; validation set size: 420\n",
      "Class 8 : training set size = 990 ; validation set size: 420\n",
      "Class 9 : training set size = 1020 ; validation set size: 450\n",
      "Class 10 : training set size = 1410 ; validation set size: 600\n",
      "Class 11 : training set size = 930 ; validation set size: 390\n",
      "Class 12 : training set size = 1470 ; validation set size: 630\n",
      "Class 13 : training set size = 1500 ; validation set size: 660\n",
      "Class 14 : training set size = 540 ; validation set size: 240\n",
      "Class 15 : training set size = 450 ; validation set size: 180\n",
      "Class 16 : training set size = 300 ; validation set size: 120\n",
      "Class 17 : training set size = 780 ; validation set size: 330\n",
      "Class 18 : training set size = 840 ; validation set size: 360\n",
      "Class 19 : training set size = 150 ; validation set size: 60\n",
      "Class 20 : training set size = 240 ; validation set size: 120\n",
      "Class 21 : training set size = 240 ; validation set size: 90\n",
      "Class 22 : training set size = 270 ; validation set size: 120\n",
      "Class 23 : training set size = 360 ; validation set size: 150\n",
      "Class 24 : training set size = 180 ; validation set size: 90\n",
      "Class 25 : training set size = 1050 ; validation set size: 450\n",
      "Class 26 : training set size = 420 ; validation set size: 180\n",
      "Class 27 : training set size = 180 ; validation set size: 60\n",
      "Class 28 : training set size = 390 ; validation set size: 150\n",
      "Class 29 : training set size = 180 ; validation set size: 90\n",
      "Class 30 : training set size = 300 ; validation set size: 150\n",
      "Class 31 : training set size = 540 ; validation set size: 240\n",
      "Class 32 : training set size = 180 ; validation set size: 60\n",
      "Class 33 : training set size = 480 ; validation set size: 209\n",
      "Class 34 : training set size = 300 ; validation set size: 120\n",
      "Class 35 : training set size = 840 ; validation set size: 360\n",
      "Class 36 : training set size = 270 ; validation set size: 120\n",
      "Class 37 : training set size = 150 ; validation set size: 60\n",
      "Class 38 : training set size = 1440 ; validation set size: 630\n",
      "Class 39 : training set size = 210 ; validation set size: 90\n",
      "Class 40 : training set size = 240 ; validation set size: 120\n",
      "Class 41 : training set size = 180 ; validation set size: 60\n",
      "Class 42 : training set size = 180 ; validation set size: 60\n"
     ]
    }
   ],
   "source": [
    "size_per_class_list = []\n",
    "\n",
    "for i in range(len(all_classes)):\n",
    "    size_per_class_list.append([len(os.listdir(new_train_dir + \"/\" + all_classes[i])), len(os.listdir(new_val_dir + \"/\" + all_classes[i]))])\n",
    "    print(\"Class\", i, \": training set size =\", len(os.listdir(new_train_dir + \"/\" + all_classes[i])), \"; validation set size:\", len(os.listdir(new_val_dir + \"/\" + all_classes[i])))"
   ]
  },
  {
   "cell_type": "markdown",
   "id": "permanent-speed",
   "metadata": {},
   "source": [
    "Now, there should be exactly 150 images within the train folder of each class and 60 images within the validation folder. Having 43 different classes, this means that there are a total of 6,450 (150x43) training images and another 2,580 (60x43) validation images. A sanity check will show if this worked correctly:"
   ]
  },
  {
   "cell_type": "markdown",
   "id": "based-jamaica",
   "metadata": {},
   "source": [
    "As it can be seen, it worked correctly!"
   ]
  },
  {
   "cell_type": "markdown",
   "id": "floating-supplier",
   "metadata": {},
   "source": [
    "## Data Preprocessing"
   ]
  },
  {
   "cell_type": "markdown",
   "id": "facial-hayes",
   "metadata": {},
   "source": [
    "### With Image Normalization"
   ]
  },
  {
   "cell_type": "markdown",
   "id": "aerial-speed",
   "metadata": {},
   "source": [
    "After running the upper part once, the notebook can be started from here from now on:"
   ]
  },
  {
   "cell_type": "code",
   "execution_count": 85,
   "id": "ready-dialogue",
   "metadata": {
    "scrolled": true
   },
   "outputs": [],
   "source": [
    "#this cell is optional and the notebook should be runned from here once the upper part has been executed once\n",
    "\n",
    "import os, shutil\n",
    "import pandas as pd\n",
    "import seaborn as sns\n",
    "import matplotlib.pyplot as plt\n",
    "import tensorflow as tf\n",
    "import numpy as np"
   ]
  },
  {
   "cell_type": "code",
   "execution_count": 86,
   "id": "foster-vampire",
   "metadata": {},
   "outputs": [],
   "source": [
    "train_dir = new_train_dir\n",
    "validation_dir = new_val_dir"
   ]
  },
  {
   "cell_type": "code",
   "execution_count": 87,
   "id": "increasing-creature",
   "metadata": {},
   "outputs": [
    {
     "name": "stdout",
     "output_type": "stream",
     "text": [
      "Found 27450 images belonging to 43 classes.\n",
      "Found 11759 images belonging to 43 classes.\n"
     ]
    }
   ],
   "source": [
    "from tensorflow.keras.preprocessing.image import ImageDataGenerator\n",
    "\n",
    "train_datagen = ImageDataGenerator(rescale=1./255)\n",
    "test_datagen = ImageDataGenerator(rescale=1./255)\n",
    "\n",
    "train_generator = train_datagen.flow_from_directory(\n",
    "    train_dir,\n",
    "    target_size=(100,100),\n",
    "    batch_size=20,\n",
    "    class_mode=\"categorical\",\n",
    "    color_mode=\"grayscale\"\n",
    "    )\n",
    "\n",
    "validation_generator = test_datagen.flow_from_directory(\n",
    "    validation_dir,\n",
    "    target_size=(100,100),\n",
    "    batch_size=20,\n",
    "    class_mode=\"categorical\",\n",
    "    color_mode=\"grayscale\"\n",
    "    )"
   ]
  },
  {
   "cell_type": "code",
   "execution_count": 88,
   "id": "pursuant-jungle",
   "metadata": {},
   "outputs": [],
   "source": [
    "x_train=np.concatenate([train_generator.next()[0] for i in range(train_generator.__len__())])\n",
    "x_val=np.concatenate([validation_generator.next()[0] for i in range(validation_generator.__len__())])"
   ]
  },
  {
   "cell_type": "code",
   "execution_count": 89,
   "id": "cubic-immigration",
   "metadata": {},
   "outputs": [],
   "source": [
    "train_datagen = ImageDataGenerator(featurewise_center=True, featurewise_std_normalization=True)\n",
    "test_datagen = ImageDataGenerator(featurewise_center=True, featurewise_std_normalization=True)\n",
    "\n",
    "train_datagen.fit(x_train)\n",
    "test_datagen.fit(x_val)"
   ]
  },
  {
   "cell_type": "code",
   "execution_count": 90,
   "id": "demonstrated-academy",
   "metadata": {},
   "outputs": [
    {
     "name": "stdout",
     "output_type": "stream",
     "text": [
      "Found 27450 images belonging to 43 classes.\n",
      "Found 11759 images belonging to 43 classes.\n"
     ]
    }
   ],
   "source": [
    "# Recreate the generators with normalization\n",
    "\n",
    "train_generator = train_datagen.flow_from_directory(\n",
    "    train_dir,\n",
    "    target_size=(100,100),\n",
    "    batch_size=20,\n",
    "    class_mode=\"categorical\",\n",
    "    color_mode=\"grayscale\"\n",
    "    )\n",
    "\n",
    "\n",
    "\n",
    "validation_generator = test_datagen.flow_from_directory(\n",
    "    validation_dir,\n",
    "    target_size=(100,100),\n",
    "    batch_size=20,\n",
    "    class_mode=\"categorical\",\n",
    "    color_mode=\"grayscale\"\n",
    "    )"
   ]
  },
  {
   "cell_type": "code",
   "execution_count": 91,
   "id": "second-taste",
   "metadata": {},
   "outputs": [
    {
     "name": "stdout",
     "output_type": "stream",
     "text": [
      "data batch shape: (20, 100, 100, 1)\n",
      "labels batch shape: (20, 43)\n"
     ]
    }
   ],
   "source": [
    "import sys\n",
    "from PIL import Image\n",
    "sys.modules['Image'] = Image\n",
    "\n",
    "for data_batch, labels_batch in train_generator:\n",
    "    print('data batch shape:', data_batch.shape)\n",
    "    print('labels batch shape:', labels_batch.shape)\n",
    "    break"
   ]
  },
  {
   "cell_type": "markdown",
   "id": "raising-revelation",
   "metadata": {},
   "source": [
    "### Base model"
   ]
  },
  {
   "cell_type": "code",
   "execution_count": 92,
   "id": "agreed-morning",
   "metadata": {},
   "outputs": [
    {
     "name": "stdout",
     "output_type": "stream",
     "text": [
      "Model: \"sequential_13\"\n",
      "_________________________________________________________________\n",
      "Layer (type)                 Output Shape              Param #   \n",
      "=================================================================\n",
      "conv2d_38 (Conv2D)           (None, 98, 98, 32)        320       \n",
      "_________________________________________________________________\n",
      "max_pooling2d_38 (MaxPooling (None, 49, 49, 32)        0         \n",
      "_________________________________________________________________\n",
      "dropout_34 (Dropout)         (None, 49, 49, 32)        0         \n",
      "_________________________________________________________________\n",
      "conv2d_39 (Conv2D)           (None, 45, 45, 64)        51264     \n",
      "_________________________________________________________________\n",
      "max_pooling2d_39 (MaxPooling (None, 22, 22, 64)        0         \n",
      "_________________________________________________________________\n",
      "dropout_35 (Dropout)         (None, 22, 22, 64)        0         \n",
      "_________________________________________________________________\n",
      "conv2d_40 (Conv2D)           (None, 16, 16, 128)       401536    \n",
      "_________________________________________________________________\n",
      "max_pooling2d_40 (MaxPooling (None, 8, 8, 128)         0         \n",
      "_________________________________________________________________\n",
      "dropout_36 (Dropout)         (None, 8, 8, 128)         0         \n",
      "_________________________________________________________________\n",
      "flatten_13 (Flatten)         (None, 8192)              0         \n",
      "_________________________________________________________________\n",
      "dropout_37 (Dropout)         (None, 8192)              0         \n",
      "_________________________________________________________________\n",
      "dense_26 (Dense)             (None, 512)               4194816   \n",
      "_________________________________________________________________\n",
      "dense_27 (Dense)             (None, 43)                22059     \n",
      "=================================================================\n",
      "Total params: 4,669,995\n",
      "Trainable params: 4,669,995\n",
      "Non-trainable params: 0\n",
      "_________________________________________________________________\n"
     ]
    }
   ],
   "source": [
    "from tensorflow.keras import layers\n",
    "from tensorflow.keras import models\n",
    "\n",
    "model = models.Sequential()\n",
    "model.add(layers.Conv2D(32, (3, 3), activation='relu', input_shape=(100, 100, 1)))\n",
    "model.add(layers.MaxPooling2D((2, 2), strides=2 ))\n",
    "model.add(layers.Dropout(0.1))\n",
    "model.add(layers.Conv2D(64, (5, 5), activation='relu'))\n",
    "model.add(layers.MaxPooling2D((2, 2), strides=2 ))\n",
    "model.add(layers.Dropout(0.15))\n",
    "model.add(layers.Conv2D(128, (7, 7), activation='relu'))\n",
    "model.add(layers.MaxPooling2D((2, 2), strides=2  ))\n",
    "model.add(layers.Dropout(0.15))\n",
    "model.add(layers.Flatten())\n",
    "model.add(layers.Dropout(0.4))\n",
    "model.add(layers.Dense(512, activation='relu'))\n",
    "model.add(layers.Dense (43, activation='softmax'))\n",
    "\n",
    "model.summary()"
   ]
  },
  {
   "cell_type": "code",
   "execution_count": 93,
   "id": "romance-tackle",
   "metadata": {},
   "outputs": [],
   "source": [
    "from tensorflow.keras import optimizers\n",
    "\n",
    "#compilation\n",
    "model.compile(loss=\"categorical_crossentropy\", optimizer=optimizers.RMSprop(lr=1e-4), metrics=[\"acc\"])"
   ]
  },
  {
   "cell_type": "code",
   "execution_count": 94,
   "id": "defined-martial",
   "metadata": {},
   "outputs": [
    {
     "name": "stdout",
     "output_type": "stream",
     "text": [
      "Epoch 1/50\n",
      "1373/1373 [==============================] - 104s 76ms/step - loss: 45.4339 - acc: 0.0503 - val_loss: 3.7214 - val_acc: 0.0561\n",
      "Epoch 2/50\n",
      "1373/1373 [==============================] - 105s 77ms/step - loss: 99.9693 - acc: 0.0565 - val_loss: 3.6831 - val_acc: 0.0587\n",
      "Epoch 3/50\n",
      "1373/1373 [==============================] - 102s 74ms/step - loss: 92.6209 - acc: 0.0582 - val_loss: 3.6502 - val_acc: 0.0561\n",
      "Epoch 4/50\n",
      "1373/1373 [==============================] - 102s 74ms/step - loss: 98.7252 - acc: 0.0561 - val_loss: 3.6222 - val_acc: 0.0561\n",
      "Epoch 5/50\n",
      "1373/1373 [==============================] - 101s 74ms/step - loss: 103.7084 - acc: 0.0588 - val_loss: 3.5984 - val_acc: 0.0561\n",
      "Epoch 6/50\n",
      "1373/1373 [==============================] - 102s 74ms/step - loss: 113.4461 - acc: 0.0561 - val_loss: 3.5785 - val_acc: 0.0561\n",
      "Epoch 7/50\n",
      "1373/1373 [==============================] - 102s 74ms/step - loss: 151.1077 - acc: 0.0578 - val_loss: 3.5616 - val_acc: 0.0561\n",
      "Epoch 8/50\n",
      "1373/1373 [==============================] - 102s 74ms/step - loss: 138.2693 - acc: 0.0573 - val_loss: 3.5477 - val_acc: 0.0561\n",
      "Epoch 9/50\n",
      "1373/1373 [==============================] - 102s 74ms/step - loss: 127.1114 - acc: 0.0534 - val_loss: 3.5360 - val_acc: 0.0561\n",
      "Epoch 10/50\n",
      "1373/1373 [==============================] - 102s 74ms/step - loss: 190.9810 - acc: 0.0583 - val_loss: 3.5262 - val_acc: 0.0561\n",
      "Epoch 11/50\n",
      "1373/1373 [==============================] - 102s 74ms/step - loss: 175.7962 - acc: 0.0553 - val_loss: 3.5183 - val_acc: 0.0561\n",
      "Epoch 12/50\n",
      "1373/1373 [==============================] - 102s 74ms/step - loss: 142.3883 - acc: 0.0556 - val_loss: 3.5116 - val_acc: 0.0561\n",
      "Epoch 13/50\n",
      "1373/1373 [==============================] - 102s 74ms/step - loss: 95.0809 - acc: 0.0582 - val_loss: 3.5060 - val_acc: 0.0561\n",
      "Epoch 14/50\n",
      "1373/1373 [==============================] - 102s 74ms/step - loss: 115.1711 - acc: 0.0561 - val_loss: 3.5014 - val_acc: 0.0561\n",
      "Epoch 15/50\n",
      "1373/1373 [==============================] - 102s 74ms/step - loss: 61.1875 - acc: 0.0544 - val_loss: 3.4976 - val_acc: 0.0561\n",
      "Epoch 16/50\n",
      "1373/1373 [==============================] - 102s 74ms/step - loss: 105.4619 - acc: 0.0559 - val_loss: 3.4944 - val_acc: 0.0561\n",
      "Epoch 17/50\n",
      "1373/1373 [==============================] - 102s 74ms/step - loss: 222.9730 - acc: 0.0588 - val_loss: 3.4918 - val_acc: 0.0561\n",
      "Epoch 18/50\n",
      "1373/1373 [==============================] - 102s 74ms/step - loss: 224.9279 - acc: 0.0568 - val_loss: 3.4897 - val_acc: 0.0561\n",
      "Epoch 19/50\n",
      "1373/1373 [==============================] - 102s 74ms/step - loss: 226.3514 - acc: 0.0561 - val_loss: 3.4878 - val_acc: 0.0561\n",
      "Epoch 20/50\n",
      "1373/1373 [==============================] - 102s 74ms/step - loss: 267.5796 - acc: 0.0558 - val_loss: 3.4863 - val_acc: 0.0587\n",
      "Epoch 21/50\n",
      "1373/1373 [==============================] - 102s 74ms/step - loss: 107.6677 - acc: 0.0587 - val_loss: 3.4851 - val_acc: 0.0561\n",
      "Epoch 22/50\n",
      "1373/1373 [==============================] - 102s 74ms/step - loss: 75.0519 - acc: 0.0564 - val_loss: 3.4840 - val_acc: 0.0561\n",
      "Epoch 23/50\n",
      " 604/1373 [============>.................] - ETA: 52s - loss: 492.6851 - acc: 0.0571"
     ]
    },
    {
     "ename": "KeyboardInterrupt",
     "evalue": "",
     "output_type": "error",
     "traceback": [
      "\u001b[0;31m---------------------------------------------------------------------------\u001b[0m",
      "\u001b[0;31mKeyboardInterrupt\u001b[0m                         Traceback (most recent call last)",
      "\u001b[0;32m<ipython-input-94-10b4f9366fd2>\u001b[0m in \u001b[0;36m<module>\u001b[0;34m\u001b[0m\n\u001b[0;32m----> 1\u001b[0;31m history = model.fit(\n\u001b[0m\u001b[1;32m      2\u001b[0m     \u001b[0mtrain_generator\u001b[0m\u001b[0;34m,\u001b[0m\u001b[0;34m\u001b[0m\u001b[0;34m\u001b[0m\u001b[0m\n\u001b[1;32m      3\u001b[0m     \u001b[0mepochs\u001b[0m\u001b[0;34m=\u001b[0m\u001b[0;36m50\u001b[0m\u001b[0;34m,\u001b[0m\u001b[0;34m\u001b[0m\u001b[0;34m\u001b[0m\u001b[0m\n\u001b[1;32m      4\u001b[0m     \u001b[0mvalidation_data\u001b[0m\u001b[0;34m=\u001b[0m\u001b[0mvalidation_generator\u001b[0m\u001b[0;34m,\u001b[0m\u001b[0;34m\u001b[0m\u001b[0;34m\u001b[0m\u001b[0m\n\u001b[1;32m      5\u001b[0m     )\n",
      "\u001b[0;32m~/miniforge3/envs/dplearn/lib/python3.8/site-packages/tensorflow/python/keras/engine/training.py\u001b[0m in \u001b[0;36mfit\u001b[0;34m(self, x, y, batch_size, epochs, verbose, callbacks, validation_split, validation_data, shuffle, class_weight, sample_weight, initial_epoch, steps_per_epoch, validation_steps, validation_batch_size, validation_freq, max_queue_size, workers, use_multiprocessing)\u001b[0m\n\u001b[1;32m   1098\u001b[0m                 _r=1):\n\u001b[1;32m   1099\u001b[0m               \u001b[0mcallbacks\u001b[0m\u001b[0;34m.\u001b[0m\u001b[0mon_train_batch_begin\u001b[0m\u001b[0;34m(\u001b[0m\u001b[0mstep\u001b[0m\u001b[0;34m)\u001b[0m\u001b[0;34m\u001b[0m\u001b[0;34m\u001b[0m\u001b[0m\n\u001b[0;32m-> 1100\u001b[0;31m               \u001b[0mtmp_logs\u001b[0m \u001b[0;34m=\u001b[0m \u001b[0mself\u001b[0m\u001b[0;34m.\u001b[0m\u001b[0mtrain_function\u001b[0m\u001b[0;34m(\u001b[0m\u001b[0miterator\u001b[0m\u001b[0;34m)\u001b[0m\u001b[0;34m\u001b[0m\u001b[0;34m\u001b[0m\u001b[0m\n\u001b[0m\u001b[1;32m   1101\u001b[0m               \u001b[0;32mif\u001b[0m \u001b[0mdata_handler\u001b[0m\u001b[0;34m.\u001b[0m\u001b[0mshould_sync\u001b[0m\u001b[0;34m:\u001b[0m\u001b[0;34m\u001b[0m\u001b[0;34m\u001b[0m\u001b[0m\n\u001b[1;32m   1102\u001b[0m                 \u001b[0mcontext\u001b[0m\u001b[0;34m.\u001b[0m\u001b[0masync_wait\u001b[0m\u001b[0;34m(\u001b[0m\u001b[0;34m)\u001b[0m\u001b[0;34m\u001b[0m\u001b[0;34m\u001b[0m\u001b[0m\n",
      "\u001b[0;32m~/miniforge3/envs/dplearn/lib/python3.8/site-packages/tensorflow/python/eager/def_function.py\u001b[0m in \u001b[0;36m__call__\u001b[0;34m(self, *args, **kwds)\u001b[0m\n\u001b[1;32m    826\u001b[0m     \u001b[0mtracing_count\u001b[0m \u001b[0;34m=\u001b[0m \u001b[0mself\u001b[0m\u001b[0;34m.\u001b[0m\u001b[0mexperimental_get_tracing_count\u001b[0m\u001b[0;34m(\u001b[0m\u001b[0;34m)\u001b[0m\u001b[0;34m\u001b[0m\u001b[0;34m\u001b[0m\u001b[0m\n\u001b[1;32m    827\u001b[0m     \u001b[0;32mwith\u001b[0m \u001b[0mtrace\u001b[0m\u001b[0;34m.\u001b[0m\u001b[0mTrace\u001b[0m\u001b[0;34m(\u001b[0m\u001b[0mself\u001b[0m\u001b[0;34m.\u001b[0m\u001b[0m_name\u001b[0m\u001b[0;34m)\u001b[0m \u001b[0;32mas\u001b[0m \u001b[0mtm\u001b[0m\u001b[0;34m:\u001b[0m\u001b[0;34m\u001b[0m\u001b[0;34m\u001b[0m\u001b[0m\n\u001b[0;32m--> 828\u001b[0;31m       \u001b[0mresult\u001b[0m \u001b[0;34m=\u001b[0m \u001b[0mself\u001b[0m\u001b[0;34m.\u001b[0m\u001b[0m_call\u001b[0m\u001b[0;34m(\u001b[0m\u001b[0;34m*\u001b[0m\u001b[0margs\u001b[0m\u001b[0;34m,\u001b[0m \u001b[0;34m**\u001b[0m\u001b[0mkwds\u001b[0m\u001b[0;34m)\u001b[0m\u001b[0;34m\u001b[0m\u001b[0;34m\u001b[0m\u001b[0m\n\u001b[0m\u001b[1;32m    829\u001b[0m       \u001b[0mcompiler\u001b[0m \u001b[0;34m=\u001b[0m \u001b[0;34m\"xla\"\u001b[0m \u001b[0;32mif\u001b[0m \u001b[0mself\u001b[0m\u001b[0;34m.\u001b[0m\u001b[0m_experimental_compile\u001b[0m \u001b[0;32melse\u001b[0m \u001b[0;34m\"nonXla\"\u001b[0m\u001b[0;34m\u001b[0m\u001b[0;34m\u001b[0m\u001b[0m\n\u001b[1;32m    830\u001b[0m       \u001b[0mnew_tracing_count\u001b[0m \u001b[0;34m=\u001b[0m \u001b[0mself\u001b[0m\u001b[0;34m.\u001b[0m\u001b[0mexperimental_get_tracing_count\u001b[0m\u001b[0;34m(\u001b[0m\u001b[0;34m)\u001b[0m\u001b[0;34m\u001b[0m\u001b[0;34m\u001b[0m\u001b[0m\n",
      "\u001b[0;32m~/miniforge3/envs/dplearn/lib/python3.8/site-packages/tensorflow/python/eager/def_function.py\u001b[0m in \u001b[0;36m_call\u001b[0;34m(self, *args, **kwds)\u001b[0m\n\u001b[1;32m    853\u001b[0m       \u001b[0;31m# In this case we have created variables on the first call, so we run the\u001b[0m\u001b[0;34m\u001b[0m\u001b[0;34m\u001b[0m\u001b[0;34m\u001b[0m\u001b[0m\n\u001b[1;32m    854\u001b[0m       \u001b[0;31m# defunned version which is guaranteed to never create variables.\u001b[0m\u001b[0;34m\u001b[0m\u001b[0;34m\u001b[0m\u001b[0;34m\u001b[0m\u001b[0m\n\u001b[0;32m--> 855\u001b[0;31m       \u001b[0;32mreturn\u001b[0m \u001b[0mself\u001b[0m\u001b[0;34m.\u001b[0m\u001b[0m_stateless_fn\u001b[0m\u001b[0;34m(\u001b[0m\u001b[0;34m*\u001b[0m\u001b[0margs\u001b[0m\u001b[0;34m,\u001b[0m \u001b[0;34m**\u001b[0m\u001b[0mkwds\u001b[0m\u001b[0;34m)\u001b[0m  \u001b[0;31m# pylint: disable=not-callable\u001b[0m\u001b[0;34m\u001b[0m\u001b[0;34m\u001b[0m\u001b[0m\n\u001b[0m\u001b[1;32m    856\u001b[0m     \u001b[0;32melif\u001b[0m \u001b[0mself\u001b[0m\u001b[0;34m.\u001b[0m\u001b[0m_stateful_fn\u001b[0m \u001b[0;32mis\u001b[0m \u001b[0;32mnot\u001b[0m \u001b[0;32mNone\u001b[0m\u001b[0;34m:\u001b[0m\u001b[0;34m\u001b[0m\u001b[0;34m\u001b[0m\u001b[0m\n\u001b[1;32m    857\u001b[0m       \u001b[0;31m# Release the lock early so that multiple threads can perform the call\u001b[0m\u001b[0;34m\u001b[0m\u001b[0;34m\u001b[0m\u001b[0;34m\u001b[0m\u001b[0m\n",
      "\u001b[0;32m~/miniforge3/envs/dplearn/lib/python3.8/site-packages/tensorflow/python/eager/function.py\u001b[0m in \u001b[0;36m__call__\u001b[0;34m(self, *args, **kwargs)\u001b[0m\n\u001b[1;32m   2940\u001b[0m       (graph_function,\n\u001b[1;32m   2941\u001b[0m        filtered_flat_args) = self._maybe_define_function(args, kwargs)\n\u001b[0;32m-> 2942\u001b[0;31m     return graph_function._call_flat(\n\u001b[0m\u001b[1;32m   2943\u001b[0m         filtered_flat_args, captured_inputs=graph_function.captured_inputs)  # pylint: disable=protected-access\n\u001b[1;32m   2944\u001b[0m \u001b[0;34m\u001b[0m\u001b[0m\n",
      "\u001b[0;32m~/miniforge3/envs/dplearn/lib/python3.8/site-packages/tensorflow/python/eager/function.py\u001b[0m in \u001b[0;36m_call_flat\u001b[0;34m(self, args, captured_inputs, cancellation_manager)\u001b[0m\n\u001b[1;32m   1916\u001b[0m         and executing_eagerly):\n\u001b[1;32m   1917\u001b[0m       \u001b[0;31m# No tape is watching; skip to running the function.\u001b[0m\u001b[0;34m\u001b[0m\u001b[0;34m\u001b[0m\u001b[0;34m\u001b[0m\u001b[0m\n\u001b[0;32m-> 1918\u001b[0;31m       return self._build_call_outputs(self._inference_function.call(\n\u001b[0m\u001b[1;32m   1919\u001b[0m           ctx, args, cancellation_manager=cancellation_manager))\n\u001b[1;32m   1920\u001b[0m     forward_backward = self._select_forward_and_backward_functions(\n",
      "\u001b[0;32m~/miniforge3/envs/dplearn/lib/python3.8/site-packages/tensorflow/python/eager/function.py\u001b[0m in \u001b[0;36mcall\u001b[0;34m(self, ctx, args, cancellation_manager)\u001b[0m\n\u001b[1;32m    553\u001b[0m       \u001b[0;32mwith\u001b[0m \u001b[0m_InterpolateFunctionError\u001b[0m\u001b[0;34m(\u001b[0m\u001b[0mself\u001b[0m\u001b[0;34m)\u001b[0m\u001b[0;34m:\u001b[0m\u001b[0;34m\u001b[0m\u001b[0;34m\u001b[0m\u001b[0m\n\u001b[1;32m    554\u001b[0m         \u001b[0;32mif\u001b[0m \u001b[0mcancellation_manager\u001b[0m \u001b[0;32mis\u001b[0m \u001b[0;32mNone\u001b[0m\u001b[0;34m:\u001b[0m\u001b[0;34m\u001b[0m\u001b[0;34m\u001b[0m\u001b[0m\n\u001b[0;32m--> 555\u001b[0;31m           outputs = execute.execute(\n\u001b[0m\u001b[1;32m    556\u001b[0m               \u001b[0mstr\u001b[0m\u001b[0;34m(\u001b[0m\u001b[0mself\u001b[0m\u001b[0;34m.\u001b[0m\u001b[0msignature\u001b[0m\u001b[0;34m.\u001b[0m\u001b[0mname\u001b[0m\u001b[0;34m)\u001b[0m\u001b[0;34m,\u001b[0m\u001b[0;34m\u001b[0m\u001b[0;34m\u001b[0m\u001b[0m\n\u001b[1;32m    557\u001b[0m               \u001b[0mnum_outputs\u001b[0m\u001b[0;34m=\u001b[0m\u001b[0mself\u001b[0m\u001b[0;34m.\u001b[0m\u001b[0m_num_outputs\u001b[0m\u001b[0;34m,\u001b[0m\u001b[0;34m\u001b[0m\u001b[0;34m\u001b[0m\u001b[0m\n",
      "\u001b[0;32m~/miniforge3/envs/dplearn/lib/python3.8/site-packages/tensorflow/python/eager/execute.py\u001b[0m in \u001b[0;36mquick_execute\u001b[0;34m(op_name, num_outputs, inputs, attrs, ctx, name)\u001b[0m\n\u001b[1;32m     57\u001b[0m   \u001b[0;32mtry\u001b[0m\u001b[0;34m:\u001b[0m\u001b[0;34m\u001b[0m\u001b[0;34m\u001b[0m\u001b[0m\n\u001b[1;32m     58\u001b[0m     \u001b[0mctx\u001b[0m\u001b[0;34m.\u001b[0m\u001b[0mensure_initialized\u001b[0m\u001b[0;34m(\u001b[0m\u001b[0;34m)\u001b[0m\u001b[0;34m\u001b[0m\u001b[0;34m\u001b[0m\u001b[0m\n\u001b[0;32m---> 59\u001b[0;31m     tensors = pywrap_tfe.TFE_Py_Execute(ctx._handle, device_name, op_name,\n\u001b[0m\u001b[1;32m     60\u001b[0m                                         inputs, attrs, num_outputs)\n\u001b[1;32m     61\u001b[0m   \u001b[0;32mexcept\u001b[0m \u001b[0mcore\u001b[0m\u001b[0;34m.\u001b[0m\u001b[0m_NotOkStatusException\u001b[0m \u001b[0;32mas\u001b[0m \u001b[0me\u001b[0m\u001b[0;34m:\u001b[0m\u001b[0;34m\u001b[0m\u001b[0;34m\u001b[0m\u001b[0m\n",
      "\u001b[0;31mKeyboardInterrupt\u001b[0m: "
     ]
    }
   ],
   "source": [
    "history = model.fit(\n",
    "    train_generator,\n",
    "    epochs=50,\n",
    "    validation_data=validation_generator,\n",
    "    )"
   ]
  },
  {
   "cell_type": "code",
   "execution_count": null,
   "id": "promotional-awareness",
   "metadata": {},
   "outputs": [],
   "source": [
    "save_hist_to_excel('history_AD+GS+IN+100x100+DO01-015-015-04')"
   ]
  },
  {
   "cell_type": "markdown",
   "id": "fixed-carry",
   "metadata": {},
   "source": [
    "### Without Image Normalization"
   ]
  },
  {
   "cell_type": "code",
   "execution_count": 101,
   "id": "american-librarian",
   "metadata": {},
   "outputs": [],
   "source": [
    "train_dir = new_train_dir\n",
    "validation_dir = new_val_dir"
   ]
  },
  {
   "cell_type": "code",
   "execution_count": 102,
   "id": "spare-entrepreneur",
   "metadata": {},
   "outputs": [
    {
     "name": "stdout",
     "output_type": "stream",
     "text": [
      "Found 27450 images belonging to 43 classes.\n",
      "Found 11759 images belonging to 43 classes.\n"
     ]
    }
   ],
   "source": [
    "from tensorflow.keras.preprocessing.image import ImageDataGenerator\n",
    "\n",
    "train_datagen = ImageDataGenerator(rescale=1./255)\n",
    "test_datagen = ImageDataGenerator(rescale=1./255)\n",
    "\n",
    "train_generator = train_datagen.flow_from_directory(\n",
    "    train_dir,\n",
    "    target_size=(100,100),\n",
    "    batch_size=20,\n",
    "    class_mode=\"categorical\",\n",
    "    color_mode=\"grayscale\"\n",
    "    )\n",
    "\n",
    "validation_generator = test_datagen.flow_from_directory(\n",
    "    validation_dir,\n",
    "    target_size=(100,100),\n",
    "    batch_size=20,\n",
    "    class_mode=\"categorical\",\n",
    "    color_mode=\"grayscale\"\n",
    "    )"
   ]
  },
  {
   "cell_type": "code",
   "execution_count": 103,
   "id": "black-acoustic",
   "metadata": {},
   "outputs": [
    {
     "name": "stdout",
     "output_type": "stream",
     "text": [
      "data batch shape: (20, 100, 100, 1)\n",
      "labels batch shape: (20, 43)\n"
     ]
    }
   ],
   "source": [
    "import sys\n",
    "from PIL import Image\n",
    "sys.modules['Image'] = Image\n",
    "\n",
    "for data_batch, labels_batch in train_generator:\n",
    "    print('data batch shape:', data_batch.shape)\n",
    "    print('labels batch shape:', labels_batch.shape)\n",
    "    break"
   ]
  },
  {
   "cell_type": "code",
   "execution_count": 104,
   "id": "designing-prison",
   "metadata": {},
   "outputs": [
    {
     "name": "stdout",
     "output_type": "stream",
     "text": [
      "Model: \"sequential_15\"\n",
      "_________________________________________________________________\n",
      "Layer (type)                 Output Shape              Param #   \n",
      "=================================================================\n",
      "conv2d_44 (Conv2D)           (None, 98, 98, 32)        320       \n",
      "_________________________________________________________________\n",
      "max_pooling2d_44 (MaxPooling (None, 49, 49, 32)        0         \n",
      "_________________________________________________________________\n",
      "dropout_42 (Dropout)         (None, 49, 49, 32)        0         \n",
      "_________________________________________________________________\n",
      "conv2d_45 (Conv2D)           (None, 45, 45, 64)        51264     \n",
      "_________________________________________________________________\n",
      "max_pooling2d_45 (MaxPooling (None, 22, 22, 64)        0         \n",
      "_________________________________________________________________\n",
      "dropout_43 (Dropout)         (None, 22, 22, 64)        0         \n",
      "_________________________________________________________________\n",
      "conv2d_46 (Conv2D)           (None, 16, 16, 128)       401536    \n",
      "_________________________________________________________________\n",
      "max_pooling2d_46 (MaxPooling (None, 8, 8, 128)         0         \n",
      "_________________________________________________________________\n",
      "dropout_44 (Dropout)         (None, 8, 8, 128)         0         \n",
      "_________________________________________________________________\n",
      "flatten_15 (Flatten)         (None, 8192)              0         \n",
      "_________________________________________________________________\n",
      "dropout_45 (Dropout)         (None, 8192)              0         \n",
      "_________________________________________________________________\n",
      "dense_30 (Dense)             (None, 512)               4194816   \n",
      "_________________________________________________________________\n",
      "dense_31 (Dense)             (None, 43)                22059     \n",
      "=================================================================\n",
      "Total params: 4,669,995\n",
      "Trainable params: 4,669,995\n",
      "Non-trainable params: 0\n",
      "_________________________________________________________________\n"
     ]
    }
   ],
   "source": [
    "from tensorflow.keras import layers\n",
    "from tensorflow.keras import models\n",
    "\n",
    "model = models.Sequential()\n",
    "model.add(layers.Conv2D(32, (3, 3), activation='relu', input_shape=(100, 100, 1)))\n",
    "model.add(layers.MaxPooling2D((2, 2), strides=2 ))\n",
    "model.add(layers.Dropout(0.1))\n",
    "model.add(layers.Conv2D(64, (5, 5), activation='relu'))\n",
    "model.add(layers.MaxPooling2D((2, 2), strides=2 ))\n",
    "model.add(layers.Dropout(0.15))\n",
    "model.add(layers.Conv2D(128, (7, 7), activation='relu'))\n",
    "model.add(layers.MaxPooling2D((2, 2), strides=2  ))\n",
    "model.add(layers.Dropout(0.15))\n",
    "model.add(layers.Flatten())\n",
    "model.add(layers.Dropout(0.4))\n",
    "model.add(layers.Dense(512, activation='relu'))\n",
    "model.add(layers.Dense (43, activation='softmax'))\n",
    "\n",
    "model.summary()"
   ]
  },
  {
   "cell_type": "code",
   "execution_count": 105,
   "id": "satisfactory-huntington",
   "metadata": {},
   "outputs": [],
   "source": [
    "from tensorflow.keras import optimizers\n",
    "\n",
    "#compilation\n",
    "model.compile(loss=\"categorical_crossentropy\", optimizer=optimizers.RMSprop(lr=1e-4), metrics=[\"acc\"])"
   ]
  },
  {
   "cell_type": "code",
   "execution_count": 106,
   "id": "emotional-enemy",
   "metadata": {
    "scrolled": false
   },
   "outputs": [
    {
     "name": "stdout",
     "output_type": "stream",
     "text": [
      "Epoch 1/50\n",
      "1373/1373 [==============================] - 102s 74ms/step - loss: 2.4320 - acc: 0.3761 - val_loss: 0.8632 - val_acc: 0.8045\n",
      "Epoch 2/50\n",
      "1373/1373 [==============================] - 102s 74ms/step - loss: 0.6863 - acc: 0.8387 - val_loss: 0.8893 - val_acc: 0.8464\n",
      "Epoch 3/50\n",
      "1373/1373 [==============================] - 102s 74ms/step - loss: 0.4680 - acc: 0.9090 - val_loss: 0.8261 - val_acc: 0.8883\n",
      "Epoch 4/50\n",
      "1373/1373 [==============================] - 102s 74ms/step - loss: 0.3585 - acc: 0.9381 - val_loss: 1.2433 - val_acc: 0.8936\n",
      "Epoch 5/50\n",
      "1373/1373 [==============================] - 102s 74ms/step - loss: 0.2973 - acc: 0.9555 - val_loss: 0.8710 - val_acc: 0.9266\n",
      "Epoch 6/50\n",
      "1373/1373 [==============================] - 102s 74ms/step - loss: 0.2822 - acc: 0.9620 - val_loss: 1.1365 - val_acc: 0.9225\n",
      "Epoch 7/50\n",
      "1373/1373 [==============================] - 102s 74ms/step - loss: 0.2987 - acc: 0.9673 - val_loss: 1.4072 - val_acc: 0.9183\n",
      "Epoch 8/50\n",
      "1373/1373 [==============================] - 102s 74ms/step - loss: 0.3343 - acc: 0.9679 - val_loss: 1.7499 - val_acc: 0.9190\n",
      "Epoch 9/50\n",
      "1373/1373 [==============================] - 102s 74ms/step - loss: 0.2959 - acc: 0.9739 - val_loss: 2.7959 - val_acc: 0.9159\n",
      "Epoch 10/50\n",
      "1373/1373 [==============================] - 102s 74ms/step - loss: 0.3760 - acc: 0.9716 - val_loss: 2.7788 - val_acc: 0.9207\n",
      "Epoch 11/50\n",
      "1373/1373 [==============================] - 102s 74ms/step - loss: 0.4465 - acc: 0.9743 - val_loss: 3.3370 - val_acc: 0.9172\n",
      "Epoch 12/50\n",
      "1373/1373 [==============================] - 102s 74ms/step - loss: 0.4209 - acc: 0.9801 - val_loss: 4.1424 - val_acc: 0.9168\n",
      "Epoch 13/50\n",
      "1373/1373 [==============================] - 102s 74ms/step - loss: 0.4801 - acc: 0.9799 - val_loss: 4.3985 - val_acc: 0.9274\n",
      "Epoch 14/50\n",
      "1373/1373 [==============================] - 102s 74ms/step - loss: 0.5041 - acc: 0.9803 - val_loss: 5.6043 - val_acc: 0.9151\n",
      "Epoch 15/50\n",
      "1373/1373 [==============================] - 102s 74ms/step - loss: 0.5942 - acc: 0.9797 - val_loss: 6.8143 - val_acc: 0.9232\n",
      "Epoch 16/50\n",
      "1373/1373 [==============================] - 102s 74ms/step - loss: 0.5999 - acc: 0.9822 - val_loss: 8.2577 - val_acc: 0.9204\n",
      "Epoch 17/50\n",
      "1373/1373 [==============================] - 102s 74ms/step - loss: 0.7861 - acc: 0.9809 - val_loss: 7.3888 - val_acc: 0.9314\n",
      "Epoch 18/50\n",
      "1373/1373 [==============================] - 102s 74ms/step - loss: 0.7776 - acc: 0.9821 - val_loss: 8.3239 - val_acc: 0.9300\n",
      "Epoch 19/50\n",
      "1373/1373 [==============================] - 102s 74ms/step - loss: 0.7317 - acc: 0.9840 - val_loss: 9.4163 - val_acc: 0.9183\n",
      "Epoch 20/50\n",
      "1373/1373 [==============================] - 102s 74ms/step - loss: 1.1044 - acc: 0.9829 - val_loss: 11.8985 - val_acc: 0.9163\n",
      "Epoch 21/50\n",
      "1373/1373 [==============================] - 102s 74ms/step - loss: 0.7810 - acc: 0.9845 - val_loss: 12.9566 - val_acc: 0.9283\n",
      "Epoch 22/50\n",
      "1373/1373 [==============================] - 102s 74ms/step - loss: 1.1248 - acc: 0.9840 - val_loss: 15.0286 - val_acc: 0.9131\n",
      "Epoch 23/50\n",
      "1373/1373 [==============================] - 102s 74ms/step - loss: 1.0980 - acc: 0.9867 - val_loss: 17.3914 - val_acc: 0.9196\n",
      "Epoch 24/50\n",
      "1373/1373 [==============================] - 102s 74ms/step - loss: 1.3623 - acc: 0.9840 - val_loss: 17.4547 - val_acc: 0.9287\n",
      "Epoch 25/50\n",
      "1373/1373 [==============================] - 102s 74ms/step - loss: 1.3710 - acc: 0.9835 - val_loss: 19.9943 - val_acc: 0.9295\n",
      "Epoch 26/50\n",
      "1373/1373 [==============================] - 102s 74ms/step - loss: 1.3999 - acc: 0.9859 - val_loss: 23.3962 - val_acc: 0.9222\n",
      "Epoch 27/50\n",
      "1373/1373 [==============================] - 102s 74ms/step - loss: 1.4235 - acc: 0.9855 - val_loss: 24.4227 - val_acc: 0.9234\n",
      "Epoch 28/50\n",
      "1373/1373 [==============================] - 102s 74ms/step - loss: 1.5398 - acc: 0.9875 - val_loss: 27.9959 - val_acc: 0.9271\n",
      "Epoch 29/50\n",
      "1373/1373 [==============================] - 102s 74ms/step - loss: 2.3875 - acc: 0.9843 - val_loss: 27.6299 - val_acc: 0.9260\n",
      "Epoch 30/50\n",
      "1373/1373 [==============================] - 102s 74ms/step - loss: 1.5308 - acc: 0.9878 - val_loss: 27.0113 - val_acc: 0.9320\n",
      "Epoch 31/50\n",
      "1373/1373 [==============================] - 102s 74ms/step - loss: 2.2452 - acc: 0.9859 - val_loss: 36.7511 - val_acc: 0.9218\n",
      "Epoch 32/50\n",
      "1373/1373 [==============================] - 102s 74ms/step - loss: 1.9711 - acc: 0.9870 - val_loss: 36.8790 - val_acc: 0.9281\n",
      "Epoch 33/50\n",
      "1373/1373 [==============================] - 102s 74ms/step - loss: 1.9567 - acc: 0.9880 - val_loss: 41.4190 - val_acc: 0.9285\n",
      "Epoch 34/50\n",
      "1373/1373 [==============================] - 102s 74ms/step - loss: 2.4927 - acc: 0.9865 - val_loss: 48.1700 - val_acc: 0.9186\n",
      "Epoch 35/50\n",
      "1373/1373 [==============================] - 102s 74ms/step - loss: 2.7012 - acc: 0.9876 - val_loss: 45.7425 - val_acc: 0.9233\n",
      "Epoch 36/50\n",
      "1373/1373 [==============================] - 102s 74ms/step - loss: 2.9101 - acc: 0.9873 - val_loss: 55.3116 - val_acc: 0.9148\n",
      "Epoch 37/50\n",
      "1373/1373 [==============================] - 102s 74ms/step - loss: 2.5439 - acc: 0.9896 - val_loss: 52.9691 - val_acc: 0.9266\n",
      "Epoch 38/50\n",
      "1373/1373 [==============================] - 102s 74ms/step - loss: 2.5759 - acc: 0.9885 - val_loss: 63.3741 - val_acc: 0.9192\n",
      "Epoch 39/50\n",
      "1373/1373 [==============================] - 102s 74ms/step - loss: 3.1365 - acc: 0.9882 - val_loss: 52.6542 - val_acc: 0.9299\n",
      "Epoch 40/50\n",
      "1373/1373 [==============================] - 102s 74ms/step - loss: 2.7784 - acc: 0.9906 - val_loss: 56.9403 - val_acc: 0.9277\n",
      "Epoch 41/50\n",
      "1373/1373 [==============================] - 103s 75ms/step - loss: 3.1236 - acc: 0.9886 - val_loss: 64.7979 - val_acc: 0.9249\n",
      "Epoch 42/50\n",
      "1373/1373 [==============================] - 102s 74ms/step - loss: 2.9548 - acc: 0.9891 - val_loss: 62.2360 - val_acc: 0.9343\n",
      "Epoch 43/50\n",
      "1373/1373 [==============================] - 102s 75ms/step - loss: 3.2017 - acc: 0.9887 - val_loss: 82.3243 - val_acc: 0.9249\n",
      "Epoch 44/50\n",
      "1373/1373 [==============================] - 102s 74ms/step - loss: 3.9158 - acc: 0.9895 - val_loss: 97.5735 - val_acc: 0.9255\n",
      "Epoch 45/50\n",
      "1373/1373 [==============================] - 102s 74ms/step - loss: 4.3551 - acc: 0.9898 - val_loss: 78.8915 - val_acc: 0.9332\n",
      "Epoch 46/50\n",
      "1373/1373 [==============================] - 102s 74ms/step - loss: 4.0632 - acc: 0.9889 - val_loss: 83.9440 - val_acc: 0.9270\n",
      "Epoch 47/50\n",
      "1373/1373 [==============================] - 102s 74ms/step - loss: 4.5871 - acc: 0.9894 - val_loss: 101.7668 - val_acc: 0.9258\n",
      "Epoch 48/50\n",
      "1373/1373 [==============================] - 103s 75ms/step - loss: 4.1668 - acc: 0.9895 - val_loss: 101.9001 - val_acc: 0.9287\n",
      "Epoch 49/50\n",
      "1373/1373 [==============================] - 101s 74ms/step - loss: 4.9359 - acc: 0.9903 - val_loss: 119.7019 - val_acc: 0.9264\n",
      "Epoch 50/50\n",
      "1373/1373 [==============================] - 101s 74ms/step - loss: 5.0760 - acc: 0.9886 - val_loss: 108.1145 - val_acc: 0.9275\n"
     ]
    }
   ],
   "source": [
    "history = model.fit(\n",
    "    train_generator,\n",
    "    epochs=50,\n",
    "    validation_data=validation_generator,\n",
    "    )"
   ]
  },
  {
   "cell_type": "code",
   "execution_count": 107,
   "id": "published-storage",
   "metadata": {},
   "outputs": [],
   "source": [
    "save_hist_to_excel('history_AD+GS+100x100+DO01-015-015-04')"
   ]
  },
  {
   "cell_type": "code",
   "execution_count": 108,
   "id": "pursuant-chorus",
   "metadata": {
    "scrolled": true
   },
   "outputs": [
    {
     "data": {
      "image/png": "[encoded data removed]",
      "text/plain": [
       "<Figure size 1440x576 with 1 Axes>"
      ]
     },
     "metadata": {
      "needs_background": "light"
     },
     "output_type": "display_data"
    },
    {
     "data": {
      "image/png": "[encoded data removed]",
      "text/plain": [
       "<Figure size 1440x576 with 1 Axes>"
      ]
     },
     "metadata": {
      "needs_background": "light"
     },
     "output_type": "display_data"
    }
   ],
   "source": [
    "#Displaying curves of loss and accuracy during training\n",
    "\n",
    "import matplotlib.pyplot as plt\n",
    "\n",
    "acc = history.history[\"acc\"]\n",
    "val_acc = history.history[\"val_acc\"]\n",
    "loss = history.history[\"loss\"]\n",
    "val_loss = history.history[\"val_loss\"]\n",
    "\n",
    "epochs = range(1, len(acc) + 1)\n",
    "\n",
    "plt.plot(epochs, acc, \"bo\", label=\"Training acc\")\n",
    "plt.plot(epochs, val_acc, \"b\", label=\"Validation acc\")\n",
    "plt.title(\"Training and validation accuracy\")\n",
    "plt.legend()\n",
    "\n",
    "plt.show()\n",
    "\n",
    "plt.plot(epochs, loss, \"bo\", label=\"Training loss\")\n",
    "plt.plot(epochs, val_loss, \"b\", label=\"Validation loss\")\n",
    "plt.title(\"Training and validation loss\")\n",
    "plt.legend()\n",
    "\n",
    "plt.show()"
   ]
  },
  {
   "cell_type": "markdown",
   "id": "finite-freeware",
   "metadata": {},
   "source": [
    "#### Changing the size of the input image"
   ]
  },
  {
   "cell_type": "code",
   "execution_count": 130,
   "id": "attended-pregnancy",
   "metadata": {},
   "outputs": [],
   "source": [
    "train_dir = new_train_dir\n",
    "validation_dir = new_val_dir"
   ]
  },
  {
   "cell_type": "code",
   "execution_count": 131,
   "id": "historical-company",
   "metadata": {},
   "outputs": [
    {
     "name": "stdout",
     "output_type": "stream",
     "text": [
      "Found 27450 images belonging to 43 classes.\n",
      "Found 11759 images belonging to 43 classes.\n"
     ]
    }
   ],
   "source": [
    "from tensorflow.keras.preprocessing.image import ImageDataGenerator\n",
    "\n",
    "train_datagen = ImageDataGenerator(rescale=1./255)\n",
    "test_datagen = ImageDataGenerator(rescale=1./255)\n",
    "\n",
    "train_generator = train_datagen.flow_from_directory(\n",
    "    train_dir,\n",
    "    target_size=(80,80),\n",
    "    batch_size=20,\n",
    "    class_mode=\"categorical\",\n",
    "    color_mode=\"grayscale\"\n",
    "    )\n",
    "\n",
    "validation_generator = test_datagen.flow_from_directory(\n",
    "    validation_dir,\n",
    "    target_size=(80,80),\n",
    "    batch_size=20,\n",
    "    class_mode=\"categorical\",\n",
    "    color_mode=\"grayscale\"\n",
    "    )"
   ]
  },
  {
   "cell_type": "code",
   "execution_count": 132,
   "id": "piano-cargo",
   "metadata": {},
   "outputs": [
    {
     "name": "stdout",
     "output_type": "stream",
     "text": [
      "data batch shape: (20, 80, 80, 1)\n",
      "labels batch shape: (20, 43)\n"
     ]
    }
   ],
   "source": [
    "import sys\n",
    "from PIL import Image\n",
    "sys.modules['Image'] = Image\n",
    "\n",
    "for data_batch, labels_batch in train_generator:\n",
    "    print('data batch shape:', data_batch.shape)\n",
    "    print('labels batch shape:', labels_batch.shape)\n",
    "    break"
   ]
  },
  {
   "cell_type": "code",
   "execution_count": 133,
   "id": "plastic-programmer",
   "metadata": {},
   "outputs": [
    {
     "name": "stdout",
     "output_type": "stream",
     "text": [
      "Model: \"sequential_18\"\n",
      "_________________________________________________________________\n",
      "Layer (type)                 Output Shape              Param #   \n",
      "=================================================================\n",
      "conv2d_53 (Conv2D)           (None, 78, 78, 32)        320       \n",
      "_________________________________________________________________\n",
      "max_pooling2d_53 (MaxPooling (None, 39, 39, 32)        0         \n",
      "_________________________________________________________________\n",
      "dropout_54 (Dropout)         (None, 39, 39, 32)        0         \n",
      "_________________________________________________________________\n",
      "conv2d_54 (Conv2D)           (None, 35, 35, 64)        51264     \n",
      "_________________________________________________________________\n",
      "max_pooling2d_54 (MaxPooling (None, 17, 17, 64)        0         \n",
      "_________________________________________________________________\n",
      "dropout_55 (Dropout)         (None, 17, 17, 64)        0         \n",
      "_________________________________________________________________\n",
      "conv2d_55 (Conv2D)           (None, 11, 11, 128)       401536    \n",
      "_________________________________________________________________\n",
      "max_pooling2d_55 (MaxPooling (None, 5, 5, 128)         0         \n",
      "_________________________________________________________________\n",
      "dropout_56 (Dropout)         (None, 5, 5, 128)         0         \n",
      "_________________________________________________________________\n",
      "flatten_18 (Flatten)         (None, 3200)              0         \n",
      "_________________________________________________________________\n",
      "dropout_57 (Dropout)         (None, 3200)              0         \n",
      "_________________________________________________________________\n",
      "dense_36 (Dense)             (None, 512)               1638912   \n",
      "_________________________________________________________________\n",
      "dense_37 (Dense)             (None, 43)                22059     \n",
      "=================================================================\n",
      "Total params: 2,114,091\n",
      "Trainable params: 2,114,091\n",
      "Non-trainable params: 0\n",
      "_________________________________________________________________\n"
     ]
    }
   ],
   "source": [
    "from tensorflow.keras import layers\n",
    "from tensorflow.keras import models\n",
    "\n",
    "model = models.Sequential()\n",
    "model.add(layers.Conv2D(32, (3, 3), activation='relu', input_shape=(80, 80, 1)))\n",
    "model.add(layers.MaxPooling2D((2, 2), strides=2 ))\n",
    "model.add(layers.Dropout(0.1))\n",
    "model.add(layers.Conv2D(64, (5, 5), activation='relu'))\n",
    "model.add(layers.MaxPooling2D((2, 2), strides=2 ))\n",
    "model.add(layers.Dropout(0.15))\n",
    "model.add(layers.Conv2D(128, (7, 7), activation='relu'))\n",
    "model.add(layers.MaxPooling2D((2, 2), strides=2  ))\n",
    "model.add(layers.Dropout(0.15))\n",
    "model.add(layers.Flatten())\n",
    "model.add(layers.Dropout(0.4))\n",
    "model.add(layers.Dense(512, activation='relu'))\n",
    "model.add(layers.Dense (43, activation='softmax'))\n",
    "\n",
    "model.summary()"
   ]
  },
  {
   "cell_type": "code",
   "execution_count": 134,
   "id": "requested-consequence",
   "metadata": {},
   "outputs": [],
   "source": [
    "from tensorflow.keras import optimizers\n",
    "\n",
    "#compilation\n",
    "model.compile(loss=\"categorical_crossentropy\", optimizer=optimizers.RMSprop(lr=1e-4), metrics=[\"acc\"])"
   ]
  },
  {
   "cell_type": "code",
   "execution_count": null,
   "id": "leading-birthday",
   "metadata": {},
   "outputs": [
    {
     "name": "stdout",
     "output_type": "stream",
     "text": [
      "Epoch 1/25\n",
      "1373/1373 [==============================] - 65s 47ms/step - loss: 3.0122 - acc: 0.2221 - val_loss: 1.1854 - val_acc: 0.7156\n",
      "Epoch 2/25\n",
      "1260/1373 [==========================>...] - ETA: 4s - loss: 1.5145 - acc: 0.6676"
     ]
    }
   ],
   "source": [
    "history = model.fit(\n",
    "    train_generator,\n",
    "    epochs=25,\n",
    "    validation_data=validation_generator,\n",
    "    )"
   ]
  },
  {
   "cell_type": "code",
   "execution_count": null,
   "id": "social-radio",
   "metadata": {},
   "outputs": [],
   "source": [
    "save_hist_to_excel('history_AD+GS+64x64+DO01-015-015-04')"
   ]
  },
  {
   "cell_type": "code",
   "execution_count": null,
   "id": "artistic-mandate",
   "metadata": {
    "scrolled": true
   },
   "outputs": [],
   "source": [
    "#Displaying curves of loss and accuracy during training\n",
    "\n",
    "import matplotlib.pyplot as plt\n",
    "\n",
    "acc = history.history[\"acc\"]\n",
    "val_acc = history.history[\"val_acc\"]\n",
    "loss = history.history[\"loss\"]\n",
    "val_loss = history.history[\"val_loss\"]\n",
    "\n",
    "epochs = range(1, len(acc) + 1)\n",
    "\n",
    "plt.plot(epochs, acc, \"bo\", label=\"Training acc\")\n",
    "plt.plot(epochs, val_acc, \"b\", label=\"Validation acc\")\n",
    "plt.title(\"Training and validation accuracy\")\n",
    "plt.legend()\n",
    "\n",
    "plt.show()\n",
    "\n",
    "plt.plot(epochs, loss, \"bo\", label=\"Training loss\")\n",
    "plt.plot(epochs, val_loss, \"b\", label=\"Validation loss\")\n",
    "plt.title(\"Training and validation loss\")\n",
    "plt.legend()\n",
    "\n",
    "plt.show()"
   ]
  },
  {
   "cell_type": "code",
   "execution_count": null,
   "id": "unsigned-words",
   "metadata": {},
   "outputs": [],
   "source": []
  }
 ],
 "metadata": {
  "kernelspec": {
   "display_name": "Python 3",
   "language": "python",
   "name": "python3"
  },
  "language_info": {
   "codemirror_mode": {
    "name": "ipython",
    "version": 3
   },
   "file_extension": ".py",
   "mimetype": "text/x-python",
   "name": "python",
   "nbconvert_exporter": "python",
   "pygments_lexer": "ipython3",
   "version": "3.8.8"
  }
 },
 "nbformat": 4,
 "nbformat_minor": 5
}

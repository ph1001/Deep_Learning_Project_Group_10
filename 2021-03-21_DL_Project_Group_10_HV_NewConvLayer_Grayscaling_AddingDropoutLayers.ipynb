{
 "cells": [
  {
   "cell_type": "markdown",
   "id": "periodic-skirt",
   "metadata": {},
   "source": [
    "# Deep Learning Project - Traffic Signs Image Classification"
   ]
  },
  {
   "cell_type": "code",
   "execution_count": 109,
   "id": "announced-interstate",
   "metadata": {},
   "outputs": [],
   "source": [
    "import os, shutil\n",
    "import pandas as pd\n",
    "import seaborn as sns\n",
    "import matplotlib.pyplot as plt"
   ]
  },
  {
   "cell_type": "code",
   "execution_count": 19,
   "id": "lyric-screening",
   "metadata": {},
   "outputs": [],
   "source": [
    "def save_hist_to_excel(filename):\n",
    "    df = pd.DataFrame(history.history)\n",
    "    df.to_excel(filename + '.xlsx')"
   ]
  },
  {
   "cell_type": "markdown",
   "id": "radical-winter",
   "metadata": {},
   "source": [
    "## Overview of the training data"
   ]
  },
  {
   "cell_type": "code",
   "execution_count": 111,
   "id": "dated-alert",
   "metadata": {},
   "outputs": [
    {
     "name": "stdout",
     "output_type": "stream",
     "text": [
      "There are 43 different classes within the training data!\n"
     ]
    }
   ],
   "source": [
    "#setting the training directory (the training images can be found there, already sorted by class into folders)\n",
    "base_training_dir = \"/Users/henriquevaz/NOVA IMS/YEAR 1/SPRING SEMESTER/DL/Project/my_notebooks/Data/Training/Final_Training/Images/\"\n",
    "#base_training_dir = \"/Users/philippmetzger/Documents/GitHub/Deep_Learning_Project_Group_10/Data/GTSRB_Final_Training_Images/GTSRB/Final_Training/Images/\"\n",
    "\n",
    "#setting the directory where the selected training and validation images will be stored in\n",
    "created_dir = \"/Users/henriquevaz/NOVA IMS/YEAR 1/SPRING SEMESTER/DL/Project/my_notebooks/Data/Selected\"\n",
    "#created_dir = \"/Users/philippmetzger/Documents/GitHub/Deep_Learning_Project_Group_10/Data/Selected\"\n",
    "\n",
    "#storing all the folder names that belong to the respective classes\n",
    "all_classes = sorted(i for i in os.listdir(base_training_dir) if i.startswith(\"0\"))\n",
    "\n",
    "print(\"There are\", len(all_classes), \"different classes within the training data!\")"
   ]
  },
  {
   "cell_type": "code",
   "execution_count": 112,
   "id": "departmental-torture",
   "metadata": {},
   "outputs": [],
   "source": [
    "#getting the number of images within each class of the training data\n",
    "amount_per_class = {}\n",
    "\n",
    "for i in range(len(all_classes)):\n",
    "    directory = base_training_dir + \"/\" + all_classes[i]\n",
    "    amount_per_class[i] = len(sorted(i for i in os.listdir(directory) if i.startswith(\"0\")))\n",
    "\n",
    "amount_per_class_df = pd.DataFrame.from_dict(amount_per_class, orient='index').rename(columns={0:\"amount\"})\n",
    "amount_per_class_df.index.name = 'class'\n",
    "\n",
    "#remove the \"#\" of the following line to display the number of images within each class\n",
    "#amount_per_class_df"
   ]
  },
  {
   "cell_type": "code",
   "execution_count": 113,
   "id": "saved-advantage",
   "metadata": {},
   "outputs": [
    {
     "data": {
      "image/png": "[encoded data removed]",
      "text/plain": [
       "<Figure size 1440x576 with 1 Axes>"
      ]
     },
     "metadata": {
      "needs_background": "light"
     },
     "output_type": "display_data"
    }
   ],
   "source": [
    "#displaying the number of images per class visually\n",
    "\n",
    "plt.rcParams[\"figure.figsize\"] = (20,8)\n",
    "fig, ax = plt.subplots()\n",
    "plt.bar(amount_per_class_df.index, amount_per_class_df.amount)\n",
    "plt.title(\"Number of images per class\", fontsize=20)\n",
    "plt.xlabel('class', fontsize=18)\n",
    "plt.ylabel('number of images', fontsize=18)\n",
    "ax.spines['right'].set_visible(False)\n",
    "ax.spines['top'].set_visible(False)\n",
    "plt.xticks(amount_per_class_df.index)\n",
    "plt.grid(axis=\"y\")\n",
    "plt.show()"
   ]
  },
  {
   "cell_type": "markdown",
   "id": "later-school",
   "metadata": {},
   "source": [
    "As it can be seen in the bar chart, the dataset is highly unbalanced. Some classes have over 2000 instances, while others only have 210."
   ]
  },
  {
   "cell_type": "code",
   "execution_count": 114,
   "id": "noted-coordinator",
   "metadata": {},
   "outputs": [
    {
     "data": {
      "text/html": [
       "<div>\n",
       "<style scoped>\n",
       "    .dataframe tbody tr th:only-of-type {\n",
       "        vertical-align: middle;\n",
       "    }\n",
       "\n",
       "    .dataframe tbody tr th {\n",
       "        vertical-align: top;\n",
       "    }\n",
       "\n",
       "    .dataframe thead th {\n",
       "        text-align: right;\n",
       "    }\n",
       "</style>\n",
       "<table border=\"1\" class=\"dataframe\">\n",
       "  <thead>\n",
       "    <tr style=\"text-align: right;\">\n",
       "      <th>class</th>\n",
       "      <th>0</th>\n",
       "      <th>37</th>\n",
       "      <th>19</th>\n",
       "      <th>32</th>\n",
       "      <th>27</th>\n",
       "      <th>41</th>\n",
       "      <th>42</th>\n",
       "      <th>24</th>\n",
       "      <th>29</th>\n",
       "      <th>39</th>\n",
       "      <th>21</th>\n",
       "      <th>40</th>\n",
       "      <th>20</th>\n",
       "      <th>36</th>\n",
       "      <th>22</th>\n",
       "      <th>6</th>\n",
       "      <th>16</th>\n",
       "      <th>34</th>\n",
       "      <th>30</th>\n",
       "      <th>23</th>\n",
       "    </tr>\n",
       "  </thead>\n",
       "  <tbody>\n",
       "    <tr>\n",
       "      <th>amount</th>\n",
       "      <td>210</td>\n",
       "      <td>210</td>\n",
       "      <td>210</td>\n",
       "      <td>240</td>\n",
       "      <td>240</td>\n",
       "      <td>240</td>\n",
       "      <td>240</td>\n",
       "      <td>270</td>\n",
       "      <td>270</td>\n",
       "      <td>300</td>\n",
       "      <td>330</td>\n",
       "      <td>360</td>\n",
       "      <td>360</td>\n",
       "      <td>390</td>\n",
       "      <td>390</td>\n",
       "      <td>420</td>\n",
       "      <td>420</td>\n",
       "      <td>420</td>\n",
       "      <td>450</td>\n",
       "      <td>510</td>\n",
       "    </tr>\n",
       "  </tbody>\n",
       "</table>\n",
       "</div>"
      ],
      "text/plain": [
       "class    0    37   19   32   27   41   42   24   29   39   21   40   20   36  \\\n",
       "amount  210  210  210  240  240  240  240  270  270  300  330  360  360  390   \n",
       "\n",
       "class    22   6    16   34   30   23  \n",
       "amount  390  420  420  420  450  510  "
      ]
     },
     "execution_count": 114,
     "metadata": {},
     "output_type": "execute_result"
    }
   ],
   "source": [
    "#displaying the 20 classes with the fewest images\n",
    "amount_per_class_df.sort_values(\"amount\").head(20).T"
   ]
  },
  {
   "cell_type": "markdown",
   "id": "frank-advantage",
   "metadata": {},
   "source": [
    "Within each class, there are several groups of images, that belong together (these are basically all images of the very same traffic sign, that just differ in that they were made as a series while approaching the actual sign). These series of images shouldn't be splitted later when the data is split into training and validation sets, so some precautions might be useful:"
   ]
  },
  {
   "cell_type": "code",
   "execution_count": 115,
   "id": "effective-bicycle",
   "metadata": {},
   "outputs": [
    {
     "name": "stdout",
     "output_type": "stream",
     "text": [
      "There is a series whose number doesn't match the others in class 00033 , with the prefix 00019 !\n",
      "It only contains 29 images.\n",
      "All the other series of images contain exactly 30 images!\n"
     ]
    }
   ],
   "source": [
    "#checking the size(=amount of images) of these series and whether they are all having the same size\n",
    "\n",
    "#running a for loop over all classes\n",
    "for i in range(len(all_classes)):\n",
    "    directory = base_training_dir + \"/\" + all_classes[i]\n",
    "    \n",
    "    #get the names of all images within a class\n",
    "    list_of_images = sorted(i for i in os.listdir(directory) if i.startswith(\"0\"))\n",
    "\n",
    "    image_series = []\n",
    "    \n",
    "    #store all the prefixes of the images (which correspond to the series they belong to)\n",
    "    for element in list_of_images:\n",
    "        image_series.append(element.split(\"_\")[0])\n",
    "    \n",
    "    #count the frequency of each prefix, which equals the size of each respective series\n",
    "    image_counts = pd.Series(image_series).value_counts().sort_index()\n",
    "\n",
    "    for element in image_counts.values.tolist():\n",
    "        if element != image_counts.values.tolist()[0]:\n",
    "            #this line will show if there is a series that contains not the same number of images than the others\n",
    "            print(\"There is a series whose number doesn't match the others in class\", all_classes[i], \", with the prefix\", image_counts.sort_values().index[0], \"!\\nIt only contains\", element, \"images.\")\n",
    "            \n",
    "\n",
    "#apart from only one series, all others consist of exactly 30 images\n",
    "print(\"All the other series of images contain exactly\", image_counts.values.tolist()[0], \"images!\")"
   ]
  },
  {
   "cell_type": "markdown",
   "id": "insured-spencer",
   "metadata": {},
   "source": [
    "## Split into training and validation datasets"
   ]
  },
  {
   "cell_type": "markdown",
   "id": "flexible-sympathy",
   "metadata": {},
   "source": [
    "As already mentioned, it is important for the split into training and validation sets that the individual image series stay together. As a first approach, there will be 210 images used per class, as this number corresponds to the amount of images in the \"smallest\" class. This will fix the problem of imbalance in the dataset. Subsequently, the data will be splitted by a 5:2 (150:60) ratio into training and validation set, in order to guarantee that the series will stay together."
   ]
  },
  {
   "cell_type": "code",
   "execution_count": 4,
   "id": "reported-break",
   "metadata": {},
   "outputs": [],
   "source": [
    "new_train_dir = \"/Users/henriquevaz/NOVA IMS/YEAR 1/SPRING SEMESTER/DL/Project/my_notebooks/Data/Selected/train_all\"\n",
    "new_val_dir = \"/Users/henriquevaz/NOVA IMS/YEAR 1/SPRING SEMESTER/DL/Project/my_notebooks/Data/Selected/val_all\""
   ]
  },
  {
   "cell_type": "code",
   "execution_count": 61,
   "id": "norman-broad",
   "metadata": {},
   "outputs": [],
   "source": [
    "for i in range(len(all_classes)):\n",
    "    os.mkdir(new_train_dir + \"/\" + all_classes[i])\n",
    "    os.mkdir(new_val_dir + \"/\" + all_classes[i])"
   ]
  },
  {
   "cell_type": "code",
   "execution_count": 62,
   "id": "superior-earthquake",
   "metadata": {},
   "outputs": [],
   "source": [
    "import random\n",
    "\n",
    "for i in range(len(all_classes)):\n",
    "    \n",
    "    list_ = os.listdir(base_training_dir + \"/\" + all_classes[i])\n",
    "    random.shuffle(list_)\n",
    "    new_list = []\n",
    "    for element in list_:\n",
    "        if element.startswith(\"000\"):\n",
    "            new_list.append(element)\n",
    "    \n",
    "    new_list = sorted(new_list)\n",
    "    for image in range(len(new_list)):\n",
    "        \n",
    "        \n",
    "        #setting the cut off according to the next closest number in steps of 30 according to a 70:30 ratio\n",
    "        if len(new_list) == 210 or len(new_list) == 240:\n",
    "            cut = 60\n",
    "        elif len(new_list) == 270 or len(new_list) == 300 or len(new_list) == 330:\n",
    "            cut = 90\n",
    "        elif len(new_list) == 360 or len(new_list) == 390 or len(new_list) == 420:\n",
    "            cut = 120\n",
    "        elif len(new_list) == 450 or len(new_list) == 510 or len(new_list) == 540:\n",
    "            cut = 150\n",
    "        elif len(new_list) == 600 or len(new_list) == 630:\n",
    "            cut = 180\n",
    "        elif len(new_list) == 689:\n",
    "            cut = 210 - 1\n",
    "        elif len(new_list) == 780:\n",
    "            cut = 240\n",
    "        elif len(new_list) == 1110:\n",
    "            cut = 330\n",
    "        elif len(new_list) == 1200:\n",
    "            cut = 360\n",
    "        elif len(new_list) == 1320:\n",
    "            cut = 390\n",
    "        elif len(new_list) == 1410 or len(new_list) == 1440:\n",
    "            cut = 420\n",
    "        elif len(new_list) == 1470 or len(new_list) == 1500:\n",
    "            cut = 450\n",
    "        elif len(new_list) == 1860:\n",
    "            cut = 570\n",
    "        elif len(new_list) == 1980 or len(new_list) == 2010:\n",
    "            cut = 600\n",
    "        elif len(new_list) == 2070 or len(new_list) == 2100:\n",
    "            cut = 630\n",
    "        elif len(new_list) == 2160 or len(new_list) == 2220:\n",
    "            cut = 660\n",
    "        elif len(new_list) == 2250:\n",
    "            cut = 690\n",
    "         \n",
    "        \n",
    "        if image < len(new_list) - cut:\n",
    "            \n",
    "            src = base_training_dir + \"/\" + all_classes[i] + \"/\" + new_list[image]\n",
    "            dst = new_train_dir + \"/\" + all_classes[i] + \"/\"  + new_list[image]\n",
    "            shutil.copyfile(src, dst)\n",
    "            \n",
    "        else:\n",
    "            src = base_training_dir + \"/\" + all_classes[i] + \"/\" + new_list[image]\n",
    "            dst = new_val_dir + \"/\" + all_classes[i] + \"/\"  + new_list[image]\n",
    "            shutil.copyfile(src, dst)"
   ]
  },
  {
   "cell_type": "code",
   "execution_count": 117,
   "id": "precious-society",
   "metadata": {},
   "outputs": [
    {
     "name": "stdout",
     "output_type": "stream",
     "text": [
      "Class 0 : training set size = 150 ; validation set size: 60\n",
      "Class 1 : training set size = 1560 ; validation set size: 660\n",
      "Class 2 : training set size = 1560 ; validation set size: 690\n",
      "Class 3 : training set size = 990 ; validation set size: 420\n",
      "Class 4 : training set size = 1380 ; validation set size: 600\n",
      "Class 5 : training set size = 1290 ; validation set size: 570\n",
      "Class 6 : training set size = 300 ; validation set size: 120\n",
      "Class 7 : training set size = 1020 ; validation set size: 420\n",
      "Class 8 : training set size = 990 ; validation set size: 420\n",
      "Class 9 : training set size = 1020 ; validation set size: 450\n",
      "Class 10 : training set size = 1410 ; validation set size: 600\n",
      "Class 11 : training set size = 930 ; validation set size: 390\n",
      "Class 12 : training set size = 1470 ; validation set size: 630\n",
      "Class 13 : training set size = 1500 ; validation set size: 660\n",
      "Class 14 : training set size = 540 ; validation set size: 240\n",
      "Class 15 : training set size = 450 ; validation set size: 180\n",
      "Class 16 : training set size = 300 ; validation set size: 120\n",
      "Class 17 : training set size = 780 ; validation set size: 330\n",
      "Class 18 : training set size = 840 ; validation set size: 360\n",
      "Class 19 : training set size = 150 ; validation set size: 60\n",
      "Class 20 : training set size = 240 ; validation set size: 120\n",
      "Class 21 : training set size = 240 ; validation set size: 90\n",
      "Class 22 : training set size = 270 ; validation set size: 120\n",
      "Class 23 : training set size = 360 ; validation set size: 150\n",
      "Class 24 : training set size = 180 ; validation set size: 90\n",
      "Class 25 : training set size = 1050 ; validation set size: 450\n",
      "Class 26 : training set size = 420 ; validation set size: 180\n",
      "Class 27 : training set size = 180 ; validation set size: 60\n",
      "Class 28 : training set size = 390 ; validation set size: 150\n",
      "Class 29 : training set size = 180 ; validation set size: 90\n",
      "Class 30 : training set size = 300 ; validation set size: 150\n",
      "Class 31 : training set size = 540 ; validation set size: 240\n",
      "Class 32 : training set size = 180 ; validation set size: 60\n",
      "Class 33 : training set size = 480 ; validation set size: 209\n",
      "Class 34 : training set size = 300 ; validation set size: 120\n",
      "Class 35 : training set size = 840 ; validation set size: 360\n",
      "Class 36 : training set size = 270 ; validation set size: 120\n",
      "Class 37 : training set size = 150 ; validation set size: 60\n",
      "Class 38 : training set size = 1440 ; validation set size: 630\n",
      "Class 39 : training set size = 210 ; validation set size: 90\n",
      "Class 40 : training set size = 240 ; validation set size: 120\n",
      "Class 41 : training set size = 180 ; validation set size: 60\n",
      "Class 42 : training set size = 180 ; validation set size: 60\n"
     ]
    }
   ],
   "source": [
    "size_per_class_list = []\n",
    "\n",
    "for i in range(len(all_classes)):\n",
    "    size_per_class_list.append([len(os.listdir(new_train_dir + \"/\" + all_classes[i])), len(os.listdir(new_val_dir + \"/\" + all_classes[i]))])\n",
    "    print(\"Class\", i, \": training set size =\", len(os.listdir(new_train_dir + \"/\" + all_classes[i])), \"; validation set size:\", len(os.listdir(new_val_dir + \"/\" + all_classes[i])))"
   ]
  },
  {
   "cell_type": "markdown",
   "id": "permanent-speed",
   "metadata": {},
   "source": [
    "Now, there should be exactly 150 images within the train folder of each class and 60 images within the validation folder. Having 43 different classes, this means that there are a total of 6,450 (150x43) training images and another 2,580 (60x43) validation images. A sanity check will show if this worked correctly:"
   ]
  },
  {
   "cell_type": "markdown",
   "id": "based-jamaica",
   "metadata": {},
   "source": [
    "As it can be seen, it worked correctly!"
   ]
  },
  {
   "cell_type": "markdown",
   "id": "floating-supplier",
   "metadata": {},
   "source": [
    "## Data Preprocessing"
   ]
  },
  {
   "cell_type": "markdown",
   "id": "aerial-speed",
   "metadata": {},
   "source": [
    "After running the upper part once, the notebook can be started from here from now on:"
   ]
  },
  {
   "cell_type": "code",
   "execution_count": 1,
   "id": "ready-dialogue",
   "metadata": {
    "scrolled": true
   },
   "outputs": [],
   "source": [
    "#this cell is optional and the notebook should be runned from here once the upper part has been executed once\n",
    "\n",
    "import os, shutil\n",
    "import pandas as pd\n",
    "import seaborn as sns\n",
    "import matplotlib.pyplot as plt\n",
    "import tensorflow as tf"
   ]
  },
  {
   "cell_type": "code",
   "execution_count": 5,
   "id": "foster-vampire",
   "metadata": {},
   "outputs": [],
   "source": [
    "train_dir = new_train_dir\n",
    "validation_dir = new_val_dir"
   ]
  },
  {
   "cell_type": "code",
   "execution_count": 6,
   "id": "increasing-creature",
   "metadata": {},
   "outputs": [
    {
     "name": "stdout",
     "output_type": "stream",
     "text": [
      "Found 27450 images belonging to 43 classes.\n",
      "Found 11759 images belonging to 43 classes.\n"
     ]
    }
   ],
   "source": [
    "from tensorflow.keras.preprocessing.image import ImageDataGenerator\n",
    "\n",
    "train_datagen = ImageDataGenerator(rescale=1./255)\n",
    "test_datagen = ImageDataGenerator(rescale=1./255)\n",
    "\n",
    "train_generator = train_datagen.flow_from_directory(\n",
    "    train_dir,\n",
    "    target_size=(100,100),\n",
    "    batch_size=20,\n",
    "    class_mode=\"categorical\",\n",
    "    color_mode=\"grayscale\"\n",
    "    )\n",
    "\n",
    "validation_generator = test_datagen.flow_from_directory(\n",
    "    validation_dir,\n",
    "    target_size=(100,100),\n",
    "    batch_size=20,\n",
    "    class_mode=\"categorical\",\n",
    "    color_mode=\"grayscale\"\n",
    "    )"
   ]
  },
  {
   "cell_type": "code",
   "execution_count": 7,
   "id": "second-taste",
   "metadata": {},
   "outputs": [
    {
     "name": "stdout",
     "output_type": "stream",
     "text": [
      "data batch shape: (20, 100, 100, 1)\n",
      "labels batch shape: (20, 43)\n"
     ]
    }
   ],
   "source": [
    "import sys\n",
    "from PIL import Image\n",
    "sys.modules['Image'] = Image\n",
    "\n",
    "for data_batch, labels_batch in train_generator:\n",
    "    print('data batch shape:', data_batch.shape)\n",
    "    print('labels batch shape:', labels_batch.shape)\n",
    "    break"
   ]
  },
  {
   "cell_type": "markdown",
   "id": "expected-closer",
   "metadata": {},
   "source": [
    "## Draft of the model"
   ]
  },
  {
   "cell_type": "markdown",
   "id": "raising-revelation",
   "metadata": {},
   "source": [
    "### Base model"
   ]
  },
  {
   "cell_type": "code",
   "execution_count": 10,
   "id": "light-pepper",
   "metadata": {},
   "outputs": [],
   "source": [
    "from tensorflow.keras import layers\n",
    "from tensorflow.keras import models\n",
    "\n",
    "model = models.Sequential()\n",
    "model.add(layers.Conv2D(32, (2, 2), activation='relu', input_shape=(100, 100, 1)))\n",
    "model.add(layers.MaxPooling2D((2, 2)))\n",
    "model.add(layers.Dropout(0.25))\n",
    "model.add(layers.Conv2D(64, (3, 3), activation='relu'))\n",
    "model.add(layers.MaxPooling2D((2, 2) ))\n",
    "model.add(layers.Dropout(0.25))\n",
    "model.add(layers.Conv2D(128, (4, 4), activation='relu'))\n",
    "model.add(layers.MaxPooling2D((2, 2) ))\n",
    "model.add(layers.Dropout(0.25))\n",
    "model.add(layers.Flatten())\n",
    "model.add(layers.Dense(512, activation='relu'))\n",
    "model.add(layers.Dropout(0.5))\n",
    "model.add(layers.Dense (43, activation='softmax'))"
   ]
  },
  {
   "cell_type": "code",
   "execution_count": 11,
   "id": "needed-internet",
   "metadata": {},
   "outputs": [
    {
     "name": "stdout",
     "output_type": "stream",
     "text": [
      "Model: \"sequential_1\"\n",
      "_________________________________________________________________\n",
      "Layer (type)                 Output Shape              Param #   \n",
      "=================================================================\n",
      "conv2d_3 (Conv2D)            (None, 99, 99, 32)        160       \n",
      "_________________________________________________________________\n",
      "max_pooling2d_3 (MaxPooling2 (None, 49, 49, 32)        0         \n",
      "_________________________________________________________________\n",
      "dropout_4 (Dropout)          (None, 49, 49, 32)        0         \n",
      "_________________________________________________________________\n",
      "conv2d_4 (Conv2D)            (None, 47, 47, 64)        18496     \n",
      "_________________________________________________________________\n",
      "max_pooling2d_4 (MaxPooling2 (None, 23, 23, 64)        0         \n",
      "_________________________________________________________________\n",
      "dropout_5 (Dropout)          (None, 23, 23, 64)        0         \n",
      "_________________________________________________________________\n",
      "conv2d_5 (Conv2D)            (None, 20, 20, 128)       131200    \n",
      "_________________________________________________________________\n",
      "max_pooling2d_5 (MaxPooling2 (None, 10, 10, 128)       0         \n",
      "_________________________________________________________________\n",
      "dropout_6 (Dropout)          (None, 10, 10, 128)       0         \n",
      "_________________________________________________________________\n",
      "flatten_1 (Flatten)          (None, 12800)             0         \n",
      "_________________________________________________________________\n",
      "dense_2 (Dense)              (None, 512)               6554112   \n",
      "_________________________________________________________________\n",
      "dropout_7 (Dropout)          (None, 512)               0         \n",
      "_________________________________________________________________\n",
      "dense_3 (Dense)              (None, 43)                22059     \n",
      "=================================================================\n",
      "Total params: 6,726,027\n",
      "Trainable params: 6,726,027\n",
      "Non-trainable params: 0\n",
      "_________________________________________________________________\n"
     ]
    }
   ],
   "source": [
    "model.summary()"
   ]
  },
  {
   "cell_type": "code",
   "execution_count": 12,
   "id": "hairy-juice",
   "metadata": {},
   "outputs": [],
   "source": [
    "from tensorflow.keras import optimizers\n",
    "\n",
    "#compilation\n",
    "model.compile(loss=\"categorical_crossentropy\", optimizer=optimizers.RMSprop(lr=1e-4), metrics=[\"acc\"])"
   ]
  },
  {
   "cell_type": "code",
   "execution_count": 14,
   "id": "frozen-porcelain",
   "metadata": {
    "scrolled": true
   },
   "outputs": [
    {
     "name": "stdout",
     "output_type": "stream",
     "text": [
      "Epoch 1/50\n",
      "1373/1373 [==============================] - 91s 66ms/step - loss: 16049.1621 - acc: 0.3736 - val_loss: 7153.6221 - val_acc: 0.6472\n",
      "Epoch 2/50\n",
      "1373/1373 [==============================] - 92s 67ms/step - loss: 30318.6660 - acc: 0.4251 - val_loss: 14657.0479 - val_acc: 0.6455\n",
      "Epoch 3/50\n",
      "1373/1373 [==============================] - 90s 66ms/step - loss: 65191.9727 - acc: 0.4248 - val_loss: 35605.9219 - val_acc: 0.6320\n",
      "Epoch 4/50\n",
      "1373/1373 [==============================] - 92s 67ms/step - loss: 115154.0469 - acc: 0.4372 - val_loss: 54073.0664 - val_acc: 0.6558\n",
      "Epoch 5/50\n",
      "1373/1373 [==============================] - 92s 67ms/step - loss: 175486.6406 - acc: 0.4576 - val_loss: 68452.1797 - val_acc: 0.7100\n",
      "Epoch 6/50\n",
      "1373/1373 [==============================] - 89s 65ms/step - loss: 239612.9844 - acc: 0.4780 - val_loss: 115673.1094 - val_acc: 0.6887\n",
      "Epoch 7/50\n",
      "1373/1373 [==============================] - 89s 65ms/step - loss: 350921.0625 - acc: 0.4794 - val_loss: 187002.9375 - val_acc: 0.6786\n",
      "Epoch 8/50\n",
      "1373/1373 [==============================] - 89s 65ms/step - loss: 459153.6875 - acc: 0.4933 - val_loss: 220716.5000 - val_acc: 0.7001\n",
      "Epoch 9/50\n",
      "1373/1373 [==============================] - 338s 246ms/step - loss: 547457.0625 - acc: 0.5113 - val_loss: 258324.0312 - val_acc: 0.7017\n",
      "Epoch 10/50\n",
      "1373/1373 [==============================] - 97s 70ms/step - loss: 628074.2500 - acc: 0.5302 - val_loss: 335969.7812 - val_acc: 0.7063\n",
      "Epoch 11/50\n",
      "1373/1373 [==============================] - 93s 68ms/step - loss: 731554.3125 - acc: 0.5418 - val_loss: 402160.0000 - val_acc: 0.7067\n",
      "Epoch 12/50\n",
      "1373/1373 [==============================] - 93s 67ms/step - loss: 810200.0625 - acc: 0.5546 - val_loss: 456480.1562 - val_acc: 0.7190\n",
      "Epoch 13/50\n",
      "1373/1373 [==============================] - 90s 65ms/step - loss: 859195.3750 - acc: 0.5686 - val_loss: 515008.4375 - val_acc: 0.7337\n",
      "Epoch 14/50\n",
      "1373/1373 [==============================] - 92s 67ms/step - loss: 932927.2500 - acc: 0.5773 - val_loss: 554929.1250 - val_acc: 0.7422\n",
      "Epoch 15/50\n",
      "1373/1373 [==============================] - 91s 66ms/step - loss: 1001490.1875 - acc: 0.5906 - val_loss: 639099.0000 - val_acc: 0.7342\n",
      "Epoch 16/50\n",
      "1373/1373 [==============================] - 91s 66ms/step - loss: 1012970.9375 - acc: 0.6026 - val_loss: 682177.5625 - val_acc: 0.7443\n",
      "Epoch 17/50\n",
      "1373/1373 [==============================] - 92s 67ms/step - loss: 1053006.7500 - acc: 0.6057 - val_loss: 773011.1250 - val_acc: 0.7081\n",
      "Epoch 18/50\n",
      "1373/1373 [==============================] - 89s 65ms/step - loss: 1089689.1250 - acc: 0.6188 - val_loss: 808466.8750 - val_acc: 0.7526\n",
      "Epoch 19/50\n",
      "1373/1373 [==============================] - 89s 65ms/step - loss: 1099390.8750 - acc: 0.6275 - val_loss: 904612.8125 - val_acc: 0.7244\n",
      "Epoch 20/50\n",
      "1373/1373 [==============================] - 91s 67ms/step - loss: 1076115.0000 - acc: 0.6390 - val_loss: 831615.7500 - val_acc: 0.7405\n",
      "Epoch 21/50\n",
      "1373/1373 [==============================] - 90s 66ms/step - loss: 980535.2500 - acc: 0.6566 - val_loss: 815893.0625 - val_acc: 0.7545\n",
      "Epoch 22/50\n",
      "1373/1373 [==============================] - 90s 66ms/step - loss: 962249.5625 - acc: 0.6575 - val_loss: 875917.4375 - val_acc: 0.7485\n",
      "Epoch 23/50\n",
      "1373/1373 [==============================] - 92s 67ms/step - loss: 970156.1250 - acc: 0.6639 - val_loss: 846121.1875 - val_acc: 0.7712\n",
      "Epoch 24/50\n",
      "1373/1373 [==============================] - 90s 66ms/step - loss: 935508.0000 - acc: 0.6758 - val_loss: 889551.0625 - val_acc: 0.7491\n",
      "Epoch 25/50\n",
      "1373/1373 [==============================] - 91s 67ms/step - loss: 962512.2500 - acc: 0.6737 - val_loss: 958276.0000 - val_acc: 0.7626\n",
      "Epoch 26/50\n",
      "1373/1373 [==============================] - 90s 66ms/step - loss: 976077.8750 - acc: 0.6813 - val_loss: 959667.1250 - val_acc: 0.7793\n",
      "Epoch 27/50\n",
      "1373/1373 [==============================] - 91s 66ms/step - loss: 1047576.1250 - acc: 0.6781 - val_loss: 1078322.7500 - val_acc: 0.7711\n",
      "Epoch 28/50\n",
      "1373/1373 [==============================] - 91s 66ms/step - loss: 1153736.6250 - acc: 0.6715 - val_loss: 1073119.3750 - val_acc: 0.7474\n",
      "Epoch 29/50\n",
      "1373/1373 [==============================] - 90s 65ms/step - loss: 1144308.5000 - acc: 0.6783 - val_loss: 1187319.5000 - val_acc: 0.7700\n",
      "Epoch 30/50\n",
      "1373/1373 [==============================] - 93s 68ms/step - loss: 1129915.2500 - acc: 0.6831 - val_loss: 1140913.3750 - val_acc: 0.7834\n",
      "Epoch 31/50\n",
      "1373/1373 [==============================] - 91s 66ms/step - loss: 1109563.5000 - acc: 0.6836 - val_loss: 1200861.6250 - val_acc: 0.7644\n",
      "Epoch 32/50\n",
      "1373/1373 [==============================] - 90s 66ms/step - loss: 1053211.3750 - acc: 0.6962 - val_loss: 1153542.0000 - val_acc: 0.7668\n",
      "Epoch 33/50\n",
      "1373/1373 [==============================] - 92s 67ms/step - loss: 1136936.7500 - acc: 0.6918 - val_loss: 1467957.7500 - val_acc: 0.7064\n",
      "Epoch 34/50\n",
      "1373/1373 [==============================] - 89s 65ms/step - loss: 1055297.0000 - acc: 0.7023 - val_loss: 1354374.3750 - val_acc: 0.7755\n",
      "Epoch 35/50\n",
      "1373/1373 [==============================] - 91s 66ms/step - loss: 1058443.0000 - acc: 0.7028 - val_loss: 1300268.3750 - val_acc: 0.7681\n",
      "Epoch 36/50\n",
      "1373/1373 [==============================] - 89s 65ms/step - loss: 1006087.9375 - acc: 0.7132 - val_loss: 1437234.0000 - val_acc: 0.7450\n",
      "Epoch 37/50\n",
      "1373/1373 [==============================] - 90s 65ms/step - loss: 969420.6250 - acc: 0.7134 - val_loss: 1274356.1250 - val_acc: 0.7890\n",
      "Epoch 38/50\n",
      "1373/1373 [==============================] - 94s 69ms/step - loss: 940337.2500 - acc: 0.7197 - val_loss: 1324769.8750 - val_acc: 0.7988\n",
      "Epoch 39/50\n",
      "1373/1373 [==============================] - 91s 66ms/step - loss: 967943.3125 - acc: 0.7230 - val_loss: 1392589.0000 - val_acc: 0.8012\n",
      "Epoch 40/50\n",
      "1373/1373 [==============================] - 89s 65ms/step - loss: 972872.6250 - acc: 0.7256 - val_loss: 1411260.5000 - val_acc: 0.7835\n",
      "Epoch 41/50\n",
      "1373/1373 [==============================] - 89s 65ms/step - loss: 959287.3750 - acc: 0.7280 - val_loss: 1435864.2500 - val_acc: 0.7724\n",
      "Epoch 42/50\n",
      "1373/1373 [==============================] - 89s 65ms/step - loss: 915338.4375 - acc: 0.7298 - val_loss: 1412873.1250 - val_acc: 0.7870\n",
      "Epoch 43/50\n",
      "1373/1373 [==============================] - 90s 65ms/step - loss: 932434.7500 - acc: 0.7312 - val_loss: 1435838.3750 - val_acc: 0.7762\n",
      "Epoch 44/50\n",
      "1373/1373 [==============================] - 89s 64ms/step - loss: 1011839.0625 - acc: 0.7273 - val_loss: 1467906.3750 - val_acc: 0.7851\n",
      "Epoch 45/50\n",
      "1373/1373 [==============================] - 90s 66ms/step - loss: 994450.7500 - acc: 0.7336 - val_loss: 1644008.6250 - val_acc: 0.7311\n",
      "Epoch 46/50\n",
      "1373/1373 [==============================] - 91s 67ms/step - loss: 996109.6250 - acc: 0.7358 - val_loss: 1444662.1250 - val_acc: 0.7926\n",
      "Epoch 47/50\n",
      "1373/1373 [==============================] - 92s 67ms/step - loss: 986939.0625 - acc: 0.7374 - val_loss: 1644223.3750 - val_acc: 0.8136\n",
      "Epoch 48/50\n",
      "1373/1373 [==============================] - 89s 64ms/step - loss: 967318.6250 - acc: 0.7437 - val_loss: 1521160.3750 - val_acc: 0.8154\n",
      "Epoch 49/50\n",
      "1373/1373 [==============================] - 88s 64ms/step - loss: 956130.3750 - acc: 0.7411 - val_loss: 1488081.3750 - val_acc: 0.8139\n",
      "Epoch 50/50\n",
      "1373/1373 [==============================] - 90s 66ms/step - loss: 919619.5000 - acc: 0.7455 - val_loss: 1557749.6250 - val_acc: 0.7820\n"
     ]
    }
   ],
   "source": [
    "history = model.fit(\n",
    "    train_generator,\n",
    "    epochs=50,\n",
    "    validation_data=validation_generator,\n",
    "    )"
   ]
  },
  {
   "cell_type": "code",
   "execution_count": 17,
   "id": "brave-participation",
   "metadata": {
    "scrolled": true
   },
   "outputs": [
    {
     "name": "stdout",
     "output_type": "stream",
     "text": [
      "WARNING:tensorflow:FOR KERAS USERS: The object that you are saving contains one or more Keras models or layers. If you are loading the SavedModel with `tf.keras.models.load_model`, continue reading (otherwise, you may ignore the following instructions). Please change your code to save with `tf.keras.models.save_model` or `model.save`, and confirm that the file \"keras.metadata\" exists in the export directory. In the future, Keras will only load the SavedModels that have this file. In other words, `tf.saved_model.save` will no longer write SavedModels that can be recovered as Keras models (this will apply in TF 2.5).\n",
      "\n",
      "FOR DEVS: If you are overwriting _tracking_metadata in your class, this property has been used to save metadata in the SavedModel. The metadta field will be deprecated soon, so please move the metadata to a different file.\n",
      "INFO:tensorflow:Assets written to: model_all_data_dropout_0_5_new_convlayer_grayscale_more_ropout_layers_up/assets\n"
     ]
    }
   ],
   "source": [
    "model.save('model_all_data_dropout_0_5_new_convlayer_grayscale_more_ropout_layers_up')"
   ]
  },
  {
   "cell_type": "code",
   "execution_count": 20,
   "id": "unauthorized-iceland",
   "metadata": {},
   "outputs": [],
   "source": [
    "save_hist_to_excel('history_model_all_data_dropout_0_5_new_convlayer_grayscale_mored_ropout_layers_up')"
   ]
  },
  {
   "cell_type": "code",
   "execution_count": 21,
   "id": "sophisticated-romania",
   "metadata": {},
   "outputs": [
    {
     "data": {
      "image/png": "[encoded data removed]",
      "text/plain": [
       "<Figure size 432x288 with 1 Axes>"
      ]
     },
     "metadata": {
      "needs_background": "light"
     },
     "output_type": "display_data"
    },
    {
     "data": {
      "image/png": "[encoded data removed]",
      "text/plain": [
       "<Figure size 432x288 with 1 Axes>"
      ]
     },
     "metadata": {
      "needs_background": "light"
     },
     "output_type": "display_data"
    }
   ],
   "source": [
    "#Displaying curves of loss and accuracy during training\n",
    "\n",
    "import matplotlib.pyplot as plt\n",
    "\n",
    "acc = history.history[\"acc\"]\n",
    "val_acc = history.history[\"val_acc\"]\n",
    "loss = history.history[\"loss\"]\n",
    "val_loss = history.history[\"val_loss\"]\n",
    "\n",
    "epochs = range(1, len(acc) + 1)\n",
    "\n",
    "plt.plot(epochs, acc, \"bo\", label=\"Training acc\")\n",
    "plt.plot(epochs, val_acc, \"b\", label=\"Validation acc\")\n",
    "plt.title(\"Training and validation accuracy\")\n",
    "plt.legend()\n",
    "\n",
    "plt.show()\n",
    "\n",
    "plt.plot(epochs, loss, \"bo\", label=\"Training loss\")\n",
    "plt.plot(epochs, val_loss, \"b\", label=\"Validation loss\")\n",
    "plt.title(\"Training and validation loss\")\n",
    "plt.legend()\n",
    "\n",
    "plt.show()"
   ]
  },
  {
   "cell_type": "markdown",
   "id": "union-decade",
   "metadata": {},
   "source": [
    "### Reduce dropout rates"
   ]
  },
  {
   "cell_type": "code",
   "execution_count": 22,
   "id": "proud-saint",
   "metadata": {},
   "outputs": [],
   "source": [
    "from tensorflow.keras import layers\n",
    "from tensorflow.keras import models\n",
    "\n",
    "model = models.Sequential()\n",
    "model.add(layers.Conv2D(32, (2, 2), activation='relu', input_shape=(100, 100, 1)))\n",
    "model.add(layers.MaxPooling2D((2, 2)))\n",
    "model.add(layers.Dropout(0.15))\n",
    "model.add(layers.Conv2D(64, (3, 3), activation='relu'))\n",
    "model.add(layers.MaxPooling2D((2, 2) ))\n",
    "model.add(layers.Dropout(0.1))\n",
    "model.add(layers.Conv2D(128, (4, 4), activation='relu'))\n",
    "model.add(layers.MaxPooling2D((2, 2) ))\n",
    "model.add(layers.Dropout(0.1))\n",
    "model.add(layers.Flatten())\n",
    "model.add(layers.Dense(512, activation='relu'))\n",
    "model.add(layers.Dropout(0.3))\n",
    "model.add(layers.Dense (43, activation='softmax'))"
   ]
  },
  {
   "cell_type": "code",
   "execution_count": 23,
   "id": "handed-graduate",
   "metadata": {},
   "outputs": [
    {
     "name": "stdout",
     "output_type": "stream",
     "text": [
      "Model: \"sequential_2\"\n",
      "_________________________________________________________________\n",
      "Layer (type)                 Output Shape              Param #   \n",
      "=================================================================\n",
      "conv2d_6 (Conv2D)            (None, 99, 99, 32)        160       \n",
      "_________________________________________________________________\n",
      "max_pooling2d_6 (MaxPooling2 (None, 49, 49, 32)        0         \n",
      "_________________________________________________________________\n",
      "dropout_8 (Dropout)          (None, 49, 49, 32)        0         \n",
      "_________________________________________________________________\n",
      "conv2d_7 (Conv2D)            (None, 47, 47, 64)        18496     \n",
      "_________________________________________________________________\n",
      "max_pooling2d_7 (MaxPooling2 (None, 23, 23, 64)        0         \n",
      "_________________________________________________________________\n",
      "dropout_9 (Dropout)          (None, 23, 23, 64)        0         \n",
      "_________________________________________________________________\n",
      "conv2d_8 (Conv2D)            (None, 20, 20, 128)       131200    \n",
      "_________________________________________________________________\n",
      "max_pooling2d_8 (MaxPooling2 (None, 10, 10, 128)       0         \n",
      "_________________________________________________________________\n",
      "dropout_10 (Dropout)         (None, 10, 10, 128)       0         \n",
      "_________________________________________________________________\n",
      "flatten_2 (Flatten)          (None, 12800)             0         \n",
      "_________________________________________________________________\n",
      "dense_4 (Dense)              (None, 512)               6554112   \n",
      "_________________________________________________________________\n",
      "dropout_11 (Dropout)         (None, 512)               0         \n",
      "_________________________________________________________________\n",
      "dense_5 (Dense)              (None, 43)                22059     \n",
      "=================================================================\n",
      "Total params: 6,726,027\n",
      "Trainable params: 6,726,027\n",
      "Non-trainable params: 0\n",
      "_________________________________________________________________\n"
     ]
    }
   ],
   "source": [
    "model.summary()"
   ]
  },
  {
   "cell_type": "code",
   "execution_count": 24,
   "id": "identified-metropolitan",
   "metadata": {},
   "outputs": [],
   "source": [
    "from tensorflow.keras import optimizers\n",
    "\n",
    "#compilation\n",
    "model.compile(loss=\"categorical_crossentropy\", optimizer=optimizers.RMSprop(lr=1e-4), metrics=[\"acc\"])"
   ]
  },
  {
   "cell_type": "code",
   "execution_count": 25,
   "id": "comic-finland",
   "metadata": {},
   "outputs": [
    {
     "name": "stdout",
     "output_type": "stream",
     "text": [
      "Epoch 1/50\n",
      "1373/1373 [==============================] - 90s 65ms/step - loss: 3.2116 - acc: 0.2319 - val_loss: 2.6278 - val_acc: 0.7453\n",
      "Epoch 2/50\n",
      "1373/1373 [==============================] - 89s 65ms/step - loss: 16.6489 - acc: 0.5878 - val_loss: 29.2488 - val_acc: 0.7707\n",
      "Epoch 3/50\n",
      "1373/1373 [==============================] - 91s 66ms/step - loss: 85.4710 - acc: 0.6550 - val_loss: 88.7993 - val_acc: 0.8172\n",
      "Epoch 4/50\n",
      "1373/1373 [==============================] - 90s 65ms/step - loss: 250.4916 - acc: 0.6962 - val_loss: 239.7944 - val_acc: 0.8218\n",
      "Epoch 5/50\n",
      "1373/1373 [==============================] - 93s 67ms/step - loss: 535.0765 - acc: 0.7197 - val_loss: 576.9066 - val_acc: 0.8061\n",
      "Epoch 6/50\n",
      "1373/1373 [==============================] - 93s 68ms/step - loss: 1028.1485 - acc: 0.7376 - val_loss: 1059.4622 - val_acc: 0.8167\n",
      "Epoch 7/50\n",
      "1373/1373 [==============================] - 93s 68ms/step - loss: 1695.9180 - acc: 0.7540 - val_loss: 1892.6028 - val_acc: 0.8234\n",
      "Epoch 8/50\n",
      "1373/1373 [==============================] - 92s 67ms/step - loss: 2719.3853 - acc: 0.7562 - val_loss: 2715.1453 - val_acc: 0.8295\n",
      "Epoch 9/50\n",
      "1373/1373 [==============================] - 91s 66ms/step - loss: 3923.5963 - acc: 0.7651 - val_loss: 3905.5320 - val_acc: 0.8424\n",
      "Epoch 10/50\n",
      "1373/1373 [==============================] - 91s 66ms/step - loss: 5545.4730 - acc: 0.7719 - val_loss: 5837.8477 - val_acc: 0.8479\n",
      "Epoch 11/50\n",
      "1373/1373 [==============================] - 90s 66ms/step - loss: 7723.6074 - acc: 0.7777 - val_loss: 7444.4673 - val_acc: 0.8484\n",
      "Epoch 12/50\n",
      "1373/1373 [==============================] - 89s 65ms/step - loss: 8609.0607 - acc: 0.7969 - val_loss: 9931.4307 - val_acc: 0.8451\n",
      "Epoch 13/50\n",
      "1373/1373 [==============================] - 89s 65ms/step - loss: 10602.9336 - acc: 0.8014 - val_loss: 12521.5781 - val_acc: 0.8457\n",
      "Epoch 14/50\n",
      "1373/1373 [==============================] - 90s 65ms/step - loss: 12676.0618 - acc: 0.8126 - val_loss: 13825.6357 - val_acc: 0.8511\n",
      "Epoch 15/50\n",
      "1373/1373 [==============================] - 89s 65ms/step - loss: 13289.4192 - acc: 0.8257 - val_loss: 15661.7441 - val_acc: 0.8672\n",
      "Epoch 16/50\n",
      "1373/1373 [==============================] - 91s 66ms/step - loss: 13980.1001 - acc: 0.8376 - val_loss: 18482.3926 - val_acc: 0.8681\n",
      "Epoch 17/50\n",
      "1373/1373 [==============================] - 89s 65ms/step - loss: 15677.8706 - acc: 0.8407 - val_loss: 22315.4512 - val_acc: 0.8610\n",
      "Epoch 18/50\n",
      "1373/1373 [==============================] - 89s 65ms/step - loss: 18080.7561 - acc: 0.8369 - val_loss: 25335.7715 - val_acc: 0.8690\n",
      "Epoch 19/50\n",
      "1373/1373 [==============================] - 90s 65ms/step - loss: 18824.8764 - acc: 0.8539 - val_loss: 29894.6230 - val_acc: 0.8604\n",
      "Epoch 20/50\n",
      "1373/1373 [==============================] - 89s 65ms/step - loss: 22695.4135 - acc: 0.8450 - val_loss: 38228.9180 - val_acc: 0.8474\n",
      "Epoch 21/50\n",
      "1373/1373 [==============================] - 89s 65ms/step - loss: 26918.3580 - acc: 0.8450 - val_loss: 41905.8008 - val_acc: 0.8593\n",
      "Epoch 22/50\n",
      "1373/1373 [==============================] - 90s 66ms/step - loss: 29104.9017 - acc: 0.8448 - val_loss: 43811.9336 - val_acc: 0.8753\n",
      "Epoch 23/50\n",
      "1373/1373 [==============================] - 90s 66ms/step - loss: 30489.6658 - acc: 0.8507 - val_loss: 52693.2930 - val_acc: 0.8528\n",
      "Epoch 24/50\n",
      "1373/1373 [==============================] - 91s 66ms/step - loss: 35562.2305 - acc: 0.8460 - val_loss: 56133.6211 - val_acc: 0.8654\n",
      "Epoch 25/50\n",
      "1373/1373 [==============================] - 90s 66ms/step - loss: 35859.6808 - acc: 0.8559 - val_loss: 63720.8750 - val_acc: 0.8743\n",
      "Epoch 26/50\n",
      "1373/1373 [==============================] - 91s 66ms/step - loss: 36172.8236 - acc: 0.8605 - val_loss: 68748.1719 - val_acc: 0.8633\n",
      "Epoch 27/50\n",
      "1373/1373 [==============================] - 93s 68ms/step - loss: 37271.0879 - acc: 0.8638 - val_loss: 71266.9609 - val_acc: 0.8680\n",
      "Epoch 28/50\n",
      "1373/1373 [==============================] - 90s 66ms/step - loss: 39601.7289 - acc: 0.8664 - val_loss: 75591.6641 - val_acc: 0.8532\n",
      "Epoch 29/50\n",
      "1373/1373 [==============================] - 91s 66ms/step - loss: 40534.7499 - acc: 0.8707 - val_loss: 85775.7656 - val_acc: 0.8569\n",
      "Epoch 30/50\n",
      "1373/1373 [==============================] - 90s 66ms/step - loss: 37222.8007 - acc: 0.8797 - val_loss: 85829.3047 - val_acc: 0.8635\n",
      "Epoch 31/50\n",
      "1373/1373 [==============================] - 89s 65ms/step - loss: 41345.1478 - acc: 0.8762 - val_loss: 87256.1328 - val_acc: 0.8786\n",
      "Epoch 32/50\n",
      "1373/1373 [==============================] - 89s 65ms/step - loss: 41027.5890 - acc: 0.8804 - val_loss: 99689.6406 - val_acc: 0.8715\n",
      "Epoch 33/50\n",
      "1373/1373 [==============================] - 89s 65ms/step - loss: 40403.1662 - acc: 0.8883 - val_loss: 103541.1016 - val_acc: 0.8535\n",
      "Epoch 34/50\n",
      "1373/1373 [==============================] - 198s 144ms/step - loss: 41767.6965 - acc: 0.8880 - val_loss: 109749.7109 - val_acc: 0.8731\n",
      "Epoch 35/50\n",
      "1373/1373 [==============================] - 89s 65ms/step - loss: 43041.1997 - acc: 0.8895 - val_loss: 114575.8516 - val_acc: 0.8735\n",
      "Epoch 36/50\n",
      "1373/1373 [==============================] - 89s 65ms/step - loss: 48348.2540 - acc: 0.8858 - val_loss: 116102.6328 - val_acc: 0.8778\n",
      "Epoch 37/50\n",
      "1373/1373 [==============================] - 92s 67ms/step - loss: 49249.9660 - acc: 0.8837 - val_loss: 127313.9766 - val_acc: 0.8756\n",
      "Epoch 38/50\n",
      "1373/1373 [==============================] - 94s 69ms/step - loss: 44519.9384 - acc: 0.8919 - val_loss: 142002.4375 - val_acc: 0.8640\n",
      "Epoch 39/50\n",
      "1373/1373 [==============================] - 91s 66ms/step - loss: 51729.8560 - acc: 0.8892 - val_loss: 138945.8594 - val_acc: 0.8764\n",
      "Epoch 40/50\n",
      "1373/1373 [==============================] - 91s 66ms/step - loss: 50459.5823 - acc: 0.8875 - val_loss: 155814.0938 - val_acc: 0.8714\n",
      "Epoch 41/50\n",
      "1373/1373 [==============================] - 90s 65ms/step - loss: 50769.7784 - acc: 0.8931 - val_loss: 150677.5781 - val_acc: 0.8803\n",
      "Epoch 42/50\n",
      "1373/1373 [==============================] - 88s 64ms/step - loss: 54221.7818 - acc: 0.8880 - val_loss: 166446.2344 - val_acc: 0.8787\n",
      "Epoch 43/50\n",
      "1373/1373 [==============================] - 88s 64ms/step - loss: 51757.9388 - acc: 0.8937 - val_loss: 162726.3438 - val_acc: 0.8718\n",
      "Epoch 44/50\n",
      "1373/1373 [==============================] - 89s 65ms/step - loss: 52856.1560 - acc: 0.8959 - val_loss: 170805.7344 - val_acc: 0.8735\n",
      "Epoch 45/50\n",
      "1373/1373 [==============================] - 90s 65ms/step - loss: 52595.8667 - acc: 0.8961 - val_loss: 165354.2031 - val_acc: 0.8810\n",
      "Epoch 46/50\n",
      "1373/1373 [==============================] - 90s 65ms/step - loss: 48491.4667 - acc: 0.9021 - val_loss: 168382.7500 - val_acc: 0.8617\n",
      "Epoch 47/50\n",
      "1373/1373 [==============================] - 90s 65ms/step - loss: 53982.9074 - acc: 0.9016 - val_loss: 195131.7344 - val_acc: 0.8622\n",
      "Epoch 48/50\n",
      "1373/1373 [==============================] - 92s 67ms/step - loss: 56062.3690 - acc: 0.8979 - val_loss: 206137.0312 - val_acc: 0.8677\n",
      "Epoch 49/50\n",
      "1373/1373 [==============================] - 89s 65ms/step - loss: 48245.3825 - acc: 0.8997 - val_loss: 205147.7656 - val_acc: 0.8761\n",
      "Epoch 50/50\n",
      "1373/1373 [==============================] - 89s 65ms/step - loss: 55900.8471 - acc: 0.9039 - val_loss: 207960.2969 - val_acc: 0.8767\n"
     ]
    }
   ],
   "source": [
    "history = model.fit(\n",
    "    train_generator,\n",
    "    epochs=50,\n",
    "    validation_data=validation_generator,\n",
    "    )"
   ]
  },
  {
   "cell_type": "code",
   "execution_count": 26,
   "id": "compressed-elements",
   "metadata": {},
   "outputs": [
    {
     "name": "stdout",
     "output_type": "stream",
     "text": [
      "WARNING:tensorflow:FOR KERAS USERS: The object that you are saving contains one or more Keras models or layers. If you are loading the SavedModel with `tf.keras.models.load_model`, continue reading (otherwise, you may ignore the following instructions). Please change your code to save with `tf.keras.models.save_model` or `model.save`, and confirm that the file \"keras.metadata\" exists in the export directory. In the future, Keras will only load the SavedModels that have this file. In other words, `tf.saved_model.save` will no longer write SavedModels that can be recovered as Keras models (this will apply in TF 2.5).\n",
      "\n",
      "FOR DEVS: If you are overwriting _tracking_metadata in your class, this property has been used to save metadata in the SavedModel. The metadta field will be deprecated soon, so please move the metadata to a different file.\n",
      "INFO:tensorflow:Assets written to: model_all_data_dropout_0_5_new_convlayer_grayscale_more_ropout_layers_down/assets\n"
     ]
    }
   ],
   "source": [
    "model.save('model_all_data_dropout_0_5_new_convlayer_grayscale_more_ropout_layers_down')"
   ]
  },
  {
   "cell_type": "code",
   "execution_count": 27,
   "id": "resident-netscape",
   "metadata": {},
   "outputs": [],
   "source": [
    "save_hist_to_excel('history_model_all_data_dropout_0_5_new_convlayer_grayscale_mored_ropout_layers_down')"
   ]
  },
  {
   "cell_type": "code",
   "execution_count": 28,
   "id": "growing-copyright",
   "metadata": {},
   "outputs": [
    {
     "data": {
      "image/png": "[encoded data removed]",
      "text/plain": [
       "<Figure size 432x288 with 1 Axes>"
      ]
     },
     "metadata": {
      "needs_background": "light"
     },
     "output_type": "display_data"
    },
    {
     "data": {
      "image/png": "[encoded data removed]",
      "text/plain": [
       "<Figure size 432x288 with 1 Axes>"
      ]
     },
     "metadata": {
      "needs_background": "light"
     },
     "output_type": "display_data"
    }
   ],
   "source": [
    "#Displaying curves of loss and accuracy during training\n",
    "\n",
    "import matplotlib.pyplot as plt\n",
    "\n",
    "acc = history.history[\"acc\"]\n",
    "val_acc = history.history[\"val_acc\"]\n",
    "loss = history.history[\"loss\"]\n",
    "val_loss = history.history[\"val_loss\"]\n",
    "\n",
    "epochs = range(1, len(acc) + 1)\n",
    "\n",
    "plt.plot(epochs, acc, \"bo\", label=\"Training acc\")\n",
    "plt.plot(epochs, val_acc, \"b\", label=\"Validation acc\")\n",
    "plt.title(\"Training and validation accuracy\")\n",
    "plt.legend()\n",
    "\n",
    "plt.show()\n",
    "\n",
    "plt.plot(epochs, loss, \"bo\", label=\"Training loss\")\n",
    "plt.plot(epochs, val_loss, \"b\", label=\"Validation loss\")\n",
    "plt.title(\"Training and validation loss\")\n",
    "plt.legend()\n",
    "\n",
    "plt.show()"
   ]
  },
  {
   "cell_type": "code",
   "execution_count": null,
   "id": "plastic-stage",
   "metadata": {},
   "outputs": [],
   "source": []
  }
 ],
 "metadata": {
  "kernelspec": {
   "display_name": "Python 3",
   "language": "python",
   "name": "python3"
  },
  "language_info": {
   "codemirror_mode": {
    "name": "ipython",
    "version": 3
   },
   "file_extension": ".py",
   "mimetype": "text/x-python",
   "name": "python",
   "nbconvert_exporter": "python",
   "pygments_lexer": "ipython3",
   "version": "3.8.8"
  }
 },
 "nbformat": 4,
 "nbformat_minor": 5
}

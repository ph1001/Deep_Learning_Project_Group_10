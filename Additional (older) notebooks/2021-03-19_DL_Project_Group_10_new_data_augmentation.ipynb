{
 "cells": [
  {
   "cell_type": "markdown",
   "id": "portuguese-return",
   "metadata": {},
   "source": [
    "# Deep Learning Project - Traffic Signs Image Classification"
   ]
  },
  {
   "cell_type": "code",
   "execution_count": 1,
   "id": "northern-webcam",
   "metadata": {},
   "outputs": [],
   "source": [
    "import os, shutil\n",
    "import pandas as pd\n",
    "import seaborn as sns\n",
    "import matplotlib.pyplot as plt"
   ]
  },
  {
   "cell_type": "markdown",
   "id": "single-answer",
   "metadata": {},
   "source": [
    "# Functions"
   ]
  },
  {
   "cell_type": "code",
   "execution_count": 2,
   "id": "organic-visibility",
   "metadata": {},
   "outputs": [],
   "source": [
    "def save_hist_to_excel(filename):\n",
    "    df = pd.DataFrame(history.history)\n",
    "    df.to_excel(filename + '.xlsx')"
   ]
  },
  {
   "cell_type": "markdown",
   "id": "better-primary",
   "metadata": {},
   "source": [
    "## Overview of the training data"
   ]
  },
  {
   "cell_type": "code",
   "execution_count": 3,
   "id": "enabling-waterproof",
   "metadata": {},
   "outputs": [
    {
     "name": "stdout",
     "output_type": "stream",
     "text": [
      "There are 43 different classes within the training data!\n"
     ]
    }
   ],
   "source": [
    "#setting the training directory (the training images can be found there, already sorted by class into folders)\n",
    "#base_training_dir = \"/Users/franz/Desktop/DL Project/Train/Final_Training/Images\"\n",
    "base_training_dir = \"/Users/philippmetzger/Documents/GitHub/Deep_Learning_Project_Group_10/Data/GTSRB_Final_Training_Images/GTSRB/Final_Training/Images/\"\n",
    "\n",
    "#setting the directory where the selected training and validation images will be stored in\n",
    "#created_dir = \"/Users/franz/Desktop/DL Project/Selected\"\n",
    "created_dir = \"/Users/philippmetzger/Documents/GitHub/Deep_Learning_Project_Group_10/Data/Selected\"\n",
    "\n",
    "#storing all the folder names that belong to the respective classes\n",
    "all_classes = sorted(i for i in os.listdir(base_training_dir) if i.startswith(\"0\"))\n",
    "\n",
    "print(\"There are\", len(all_classes), \"different classes within the training data!\")"
   ]
  },
  {
   "cell_type": "code",
   "execution_count": 4,
   "id": "alike-combine",
   "metadata": {},
   "outputs": [],
   "source": [
    "#getting the number of images within each class of the training data\n",
    "amount_per_class = {}\n",
    "\n",
    "for i in range(len(all_classes)):\n",
    "    directory = base_training_dir + \"/\" + all_classes[i]\n",
    "    amount_per_class[i] = len(sorted(i for i in os.listdir(directory) if i.startswith(\"0\")))\n",
    "\n",
    "amount_per_class_df = pd.DataFrame.from_dict(amount_per_class, orient='index').rename(columns={0:\"amount\"})\n",
    "amount_per_class_df.index.name = 'class'\n",
    "\n",
    "#remove the \"#\" of the following line to display the number of images within each class\n",
    "#amount_per_class_df"
   ]
  },
  {
   "cell_type": "code",
   "execution_count": 5,
   "id": "interesting-beatles",
   "metadata": {},
   "outputs": [
    {
     "data": {
      "image/png": "[encoded data removed]",
      "text/plain": [
       "<Figure size 1440x576 with 1 Axes>"
      ]
     },
     "metadata": {
      "needs_background": "light"
     },
     "output_type": "display_data"
    }
   ],
   "source": [
    "#displaying the number of images per class visually\n",
    "\n",
    "plt.rcParams[\"figure.figsize\"] = (20,8)\n",
    "fig, ax = plt.subplots()\n",
    "plt.bar(amount_per_class_df.index, amount_per_class_df.amount)\n",
    "plt.title(\"Number of images per class\", fontsize=20)\n",
    "plt.xlabel('class', fontsize=18)\n",
    "plt.ylabel('number of images', fontsize=18)\n",
    "ax.spines['right'].set_visible(False)\n",
    "ax.spines['top'].set_visible(False)\n",
    "plt.xticks(amount_per_class_df.index)\n",
    "plt.grid(axis=\"y\")\n",
    "plt.show()"
   ]
  },
  {
   "cell_type": "markdown",
   "id": "closed-lucas",
   "metadata": {},
   "source": [
    "As it can be seen in the bar chart, the dataset is highly unbalanced. Some classes have over 2000 instances, while others only have 210."
   ]
  },
  {
   "cell_type": "code",
   "execution_count": 6,
   "id": "nearby-satin",
   "metadata": {},
   "outputs": [
    {
     "data": {
      "text/html": [
       "<div>\n",
       "<style scoped>\n",
       "    .dataframe tbody tr th:only-of-type {\n",
       "        vertical-align: middle;\n",
       "    }\n",
       "\n",
       "    .dataframe tbody tr th {\n",
       "        vertical-align: top;\n",
       "    }\n",
       "\n",
       "    .dataframe thead th {\n",
       "        text-align: right;\n",
       "    }\n",
       "</style>\n",
       "<table border=\"1\" class=\"dataframe\">\n",
       "  <thead>\n",
       "    <tr style=\"text-align: right;\">\n",
       "      <th>class</th>\n",
       "      <th>0</th>\n",
       "      <th>37</th>\n",
       "      <th>19</th>\n",
       "      <th>32</th>\n",
       "      <th>27</th>\n",
       "      <th>41</th>\n",
       "      <th>42</th>\n",
       "      <th>24</th>\n",
       "      <th>29</th>\n",
       "      <th>39</th>\n",
       "      <th>21</th>\n",
       "      <th>40</th>\n",
       "      <th>20</th>\n",
       "      <th>36</th>\n",
       "      <th>22</th>\n",
       "      <th>6</th>\n",
       "      <th>16</th>\n",
       "      <th>34</th>\n",
       "      <th>30</th>\n",
       "      <th>23</th>\n",
       "    </tr>\n",
       "  </thead>\n",
       "  <tbody>\n",
       "    <tr>\n",
       "      <th>amount</th>\n",
       "      <td>210</td>\n",
       "      <td>210</td>\n",
       "      <td>210</td>\n",
       "      <td>240</td>\n",
       "      <td>240</td>\n",
       "      <td>240</td>\n",
       "      <td>240</td>\n",
       "      <td>270</td>\n",
       "      <td>270</td>\n",
       "      <td>300</td>\n",
       "      <td>330</td>\n",
       "      <td>360</td>\n",
       "      <td>360</td>\n",
       "      <td>390</td>\n",
       "      <td>390</td>\n",
       "      <td>420</td>\n",
       "      <td>420</td>\n",
       "      <td>420</td>\n",
       "      <td>450</td>\n",
       "      <td>510</td>\n",
       "    </tr>\n",
       "  </tbody>\n",
       "</table>\n",
       "</div>"
      ],
      "text/plain": [
       "class    0    37   19   32   27   41   42   24   29   39   21   40   20   36  \\\n",
       "amount  210  210  210  240  240  240  240  270  270  300  330  360  360  390   \n",
       "\n",
       "class    22   6    16   34   30   23  \n",
       "amount  390  420  420  420  450  510  "
      ]
     },
     "execution_count": 6,
     "metadata": {},
     "output_type": "execute_result"
    }
   ],
   "source": [
    "#displaying the 20 classes with the fewest images\n",
    "amount_per_class_df.sort_values(\"amount\").head(20).T"
   ]
  },
  {
   "cell_type": "markdown",
   "id": "cosmetic-platinum",
   "metadata": {},
   "source": [
    "Within each class, there are several groups of images, that belong together (these are basically all images of the very same traffic sign, that just differ in that they were made as a series while approaching the actual sign). These series of images shouldn't be splitted later when the data is split into training and validation sets, so some precautions might be useful:"
   ]
  },
  {
   "cell_type": "code",
   "execution_count": 7,
   "id": "close-start",
   "metadata": {},
   "outputs": [
    {
     "name": "stdout",
     "output_type": "stream",
     "text": [
      "There is a series whose number doesn't match the others in class 00033 , with the prefix 00019 !\n",
      "It only contains 29 images.\n",
      "All the other series of images contain exactly 30 images!\n"
     ]
    }
   ],
   "source": [
    "#checking the size(=amount of images) of these series and whether they are all having the same size\n",
    "\n",
    "#running a for loop over all classes\n",
    "for i in range(len(all_classes)):\n",
    "    directory = base_training_dir + \"/\" + all_classes[i]\n",
    "    \n",
    "    #get the names of all images within a class\n",
    "    list_of_images = sorted(i for i in os.listdir(directory) if i.startswith(\"0\"))\n",
    "\n",
    "    image_series = []\n",
    "    \n",
    "    #store all the prefixes of the images (which correspond to the series they belong to)\n",
    "    for element in list_of_images:\n",
    "        image_series.append(element.split(\"_\")[0])\n",
    "    \n",
    "    #count the frequency of each prefix, which equals the size of each respective series\n",
    "    image_counts = pd.Series(image_series).value_counts().sort_index()\n",
    "\n",
    "    for element in image_counts.values.tolist():\n",
    "        if element != image_counts.values.tolist()[0]:\n",
    "            #this line will show if there is a series that contains not the same number of images than the others\n",
    "            print(\"There is a series whose number doesn't match the others in class\", all_classes[i], \", with the prefix\", image_counts.sort_values().index[0], \"!\\nIt only contains\", element, \"images.\")\n",
    "            \n",
    "\n",
    "#apart from only one series, all others consist of exactly 30 images\n",
    "print(\"All the other series of images contain exactly\", image_counts.values.tolist()[0], \"images!\")"
   ]
  },
  {
   "cell_type": "markdown",
   "id": "blind-glass",
   "metadata": {},
   "source": [
    "## Split into training and validation datasets"
   ]
  },
  {
   "cell_type": "code",
   "execution_count": 4,
   "id": "careful-skirt",
   "metadata": {},
   "outputs": [],
   "source": [
    "#new_train_dir = \"/Users/franz/Desktop/DL Project/Selected/train_all\"\n",
    "new_train_dir = '/Users/philippmetzger/Documents/GitHub/Deep_Learning_Project_Group_10/Data/Selected/train_all'\n",
    "#new_val_dir = \"/Users/franz/Desktop/DL Project/Selected/val_all\"\n",
    "new_val_dir = '/Users/philippmetzger/Documents/GitHub/Deep_Learning_Project_Group_10/Data/Selected/val_all'"
   ]
  },
  {
   "cell_type": "code",
   "execution_count": 10,
   "id": "fixed-kingdom",
   "metadata": {},
   "outputs": [],
   "source": [
    "for i in range(len(all_classes)):\n",
    "    os.mkdir(new_train_dir + \"/\" + all_classes[i])\n",
    "    os.mkdir(new_val_dir + \"/\" + all_classes[i])"
   ]
  },
  {
   "cell_type": "code",
   "execution_count": 11,
   "id": "aquatic-martial",
   "metadata": {},
   "outputs": [],
   "source": [
    "import random\n",
    "\n",
    "for i in range(len(all_classes)):\n",
    "    \n",
    "    list_ = os.listdir(base_training_dir + \"/\" + all_classes[i])\n",
    "    random.shuffle(list_)\n",
    "    new_list = []\n",
    "    for element in list_:\n",
    "        if element.startswith(\"000\"):\n",
    "            new_list.append(element)\n",
    "    \n",
    "    new_list = sorted(new_list)\n",
    "    for image in range(len(new_list)):\n",
    "        \n",
    "        \n",
    "        #setting the cut off according to the next closest number in steps of 30 according to a 70:30 ratio\n",
    "        if len(new_list) == 210 or len(new_list) == 240:\n",
    "            cut = 60\n",
    "        elif len(new_list) == 270 or len(new_list) == 300 or len(new_list) == 330:\n",
    "            cut = 90\n",
    "        elif len(new_list) == 360 or len(new_list) == 390 or len(new_list) == 420:\n",
    "            cut = 120\n",
    "        elif len(new_list) == 450 or len(new_list) == 510 or len(new_list) == 540:\n",
    "            cut = 150\n",
    "        elif len(new_list) == 600 or len(new_list) == 630:\n",
    "            cut = 180\n",
    "        elif len(new_list) == 689:\n",
    "            cut = 210 - 1\n",
    "        elif len(new_list) == 780:\n",
    "            cut = 240\n",
    "        elif len(new_list) == 1110:\n",
    "            cut = 330\n",
    "        elif len(new_list) == 1200:\n",
    "            cut = 360\n",
    "        elif len(new_list) == 1320:\n",
    "            cut = 390\n",
    "        elif len(new_list) == 1410 or len(new_list) == 1440:\n",
    "            cut = 420\n",
    "        elif len(new_list) == 1470 or len(new_list) == 1500:\n",
    "            cut = 450\n",
    "        elif len(new_list) == 1860:\n",
    "            cut = 570\n",
    "        elif len(new_list) == 1980 or len(new_list) == 2010:\n",
    "            cut = 600\n",
    "        elif len(new_list) == 2070 or len(new_list) == 2100:\n",
    "            cut = 630\n",
    "        elif len(new_list) == 2160 or len(new_list) == 2220:\n",
    "            cut = 660\n",
    "        elif len(new_list) == 2250:\n",
    "            cut = 690\n",
    "         \n",
    "        \n",
    "        if image < len(new_list) - cut:\n",
    "            \n",
    "            src = base_training_dir + \"/\" + all_classes[i] + \"/\" + new_list[image]\n",
    "            dst = new_train_dir + \"/\" + all_classes[i] + \"/\"  + new_list[image]\n",
    "            shutil.copyfile(src, dst)\n",
    "            \n",
    "        else:\n",
    "            src = base_training_dir + \"/\" + all_classes[i] + \"/\" + new_list[image]\n",
    "            dst = new_val_dir + \"/\" + all_classes[i] + \"/\"  + new_list[image]\n",
    "            shutil.copyfile(src, dst)"
   ]
  },
  {
   "cell_type": "code",
   "execution_count": 12,
   "id": "sized-timber",
   "metadata": {},
   "outputs": [
    {
     "name": "stdout",
     "output_type": "stream",
     "text": [
      "Class 0 : training set size = 150 ; validation set size: 60\n",
      "Class 1 : training set size = 1560 ; validation set size: 660\n",
      "Class 2 : training set size = 1560 ; validation set size: 690\n",
      "Class 3 : training set size = 990 ; validation set size: 420\n",
      "Class 4 : training set size = 1380 ; validation set size: 600\n",
      "Class 5 : training set size = 1290 ; validation set size: 570\n",
      "Class 6 : training set size = 300 ; validation set size: 120\n",
      "Class 7 : training set size = 1020 ; validation set size: 420\n",
      "Class 8 : training set size = 990 ; validation set size: 420\n",
      "Class 9 : training set size = 1020 ; validation set size: 450\n",
      "Class 10 : training set size = 1410 ; validation set size: 600\n",
      "Class 11 : training set size = 930 ; validation set size: 390\n",
      "Class 12 : training set size = 1470 ; validation set size: 630\n",
      "Class 13 : training set size = 1500 ; validation set size: 660\n",
      "Class 14 : training set size = 540 ; validation set size: 240\n",
      "Class 15 : training set size = 450 ; validation set size: 180\n",
      "Class 16 : training set size = 300 ; validation set size: 120\n",
      "Class 17 : training set size = 780 ; validation set size: 330\n",
      "Class 18 : training set size = 840 ; validation set size: 360\n",
      "Class 19 : training set size = 150 ; validation set size: 60\n",
      "Class 20 : training set size = 240 ; validation set size: 120\n",
      "Class 21 : training set size = 240 ; validation set size: 90\n",
      "Class 22 : training set size = 270 ; validation set size: 120\n",
      "Class 23 : training set size = 360 ; validation set size: 150\n",
      "Class 24 : training set size = 180 ; validation set size: 90\n",
      "Class 25 : training set size = 1050 ; validation set size: 450\n",
      "Class 26 : training set size = 420 ; validation set size: 180\n",
      "Class 27 : training set size = 180 ; validation set size: 60\n",
      "Class 28 : training set size = 390 ; validation set size: 150\n",
      "Class 29 : training set size = 180 ; validation set size: 90\n",
      "Class 30 : training set size = 300 ; validation set size: 150\n",
      "Class 31 : training set size = 540 ; validation set size: 240\n",
      "Class 32 : training set size = 180 ; validation set size: 60\n",
      "Class 33 : training set size = 480 ; validation set size: 209\n",
      "Class 34 : training set size = 300 ; validation set size: 120\n",
      "Class 35 : training set size = 840 ; validation set size: 360\n",
      "Class 36 : training set size = 270 ; validation set size: 120\n",
      "Class 37 : training set size = 150 ; validation set size: 60\n",
      "Class 38 : training set size = 1440 ; validation set size: 630\n",
      "Class 39 : training set size = 210 ; validation set size: 90\n",
      "Class 40 : training set size = 240 ; validation set size: 120\n",
      "Class 41 : training set size = 180 ; validation set size: 60\n",
      "Class 42 : training set size = 180 ; validation set size: 60\n"
     ]
    }
   ],
   "source": [
    "size_per_class_list = []\n",
    "\n",
    "for i in range(len(all_classes)):\n",
    "    size_per_class_list.append([len(os.listdir(new_train_dir + \"/\" + all_classes[i])), len(os.listdir(new_val_dir + \"/\" + all_classes[i]))])\n",
    "    print(\"Class\", i, \": training set size =\", len(os.listdir(new_train_dir + \"/\" + all_classes[i])), \"; validation set size:\", len(os.listdir(new_val_dir + \"/\" + all_classes[i])))"
   ]
  },
  {
   "cell_type": "markdown",
   "id": "mounted-bridges",
   "metadata": {},
   "source": [
    "## Data augmentation for balancing the data set"
   ]
  },
  {
   "cell_type": "code",
   "execution_count": 14,
   "id": "experienced-vertex",
   "metadata": {},
   "outputs": [],
   "source": [
    "#augdir_train = \"/Users/franz/Desktop/DL Project/Selected/augmented_train\"\n",
    "augdir_train = '/Users/philippmetzger/Documents/GitHub/Deep_Learning_Project_Group_10/Data/Selected/augmented_train'\n",
    "#augdir_val = \"/Users/franz/Desktop/DL Project/Selected/augmented_val\"\n",
    "augdir_val = '/Users/philippmetzger/Documents/GitHub/Deep_Learning_Project_Group_10/Data/Selected/augmented_val'"
   ]
  },
  {
   "cell_type": "code",
   "execution_count": 15,
   "id": "later-holder",
   "metadata": {},
   "outputs": [
    {
     "data": {
      "text/html": [
       "<div>\n",
       "<style scoped>\n",
       "    .dataframe tbody tr th:only-of-type {\n",
       "        vertical-align: middle;\n",
       "    }\n",
       "\n",
       "    .dataframe tbody tr th {\n",
       "        vertical-align: top;\n",
       "    }\n",
       "\n",
       "    .dataframe thead th {\n",
       "        text-align: right;\n",
       "    }\n",
       "</style>\n",
       "<table border=\"1\" class=\"dataframe\">\n",
       "  <thead>\n",
       "    <tr style=\"text-align: right;\">\n",
       "      <th></th>\n",
       "      <th>train_size</th>\n",
       "      <th>validation_size</th>\n",
       "    </tr>\n",
       "  </thead>\n",
       "  <tbody>\n",
       "    <tr>\n",
       "      <th>2</th>\n",
       "      <td>1560</td>\n",
       "      <td>690</td>\n",
       "    </tr>\n",
       "  </tbody>\n",
       "</table>\n",
       "</div>"
      ],
      "text/plain": [
       "   train_size  validation_size\n",
       "2        1560              690"
      ]
     },
     "execution_count": 15,
     "metadata": {},
     "output_type": "execute_result"
    }
   ],
   "source": [
    "size_per_class_df = pd.DataFrame(size_per_class_list).rename(columns={0:\"train_size\", 1:\"validation_size\"})\n",
    "size_per_class_df.sort_values(\"train_size\", ascending=False).head(1)"
   ]
  },
  {
   "cell_type": "markdown",
   "id": "possible-withdrawal",
   "metadata": {},
   "source": [
    "The biggest class is class 2, with a train_size of 1560 images and a validation_size of 690 images. The following approach will upsample all the classes accordingly, so that the are all of this size:"
   ]
  },
  {
   "cell_type": "code",
   "execution_count": 16,
   "id": "supreme-thomas",
   "metadata": {},
   "outputs": [
    {
     "data": {
      "text/html": [
       "<div>\n",
       "<style scoped>\n",
       "    .dataframe tbody tr th:only-of-type {\n",
       "        vertical-align: middle;\n",
       "    }\n",
       "\n",
       "    .dataframe tbody tr th {\n",
       "        vertical-align: top;\n",
       "    }\n",
       "\n",
       "    .dataframe thead th {\n",
       "        text-align: right;\n",
       "    }\n",
       "</style>\n",
       "<table border=\"1\" class=\"dataframe\">\n",
       "  <thead>\n",
       "    <tr style=\"text-align: right;\">\n",
       "      <th></th>\n",
       "      <th>train_size</th>\n",
       "      <th>validation_size</th>\n",
       "    </tr>\n",
       "  </thead>\n",
       "  <tbody>\n",
       "    <tr>\n",
       "      <th>0</th>\n",
       "      <td>1410</td>\n",
       "      <td>630</td>\n",
       "    </tr>\n",
       "    <tr>\n",
       "      <th>1</th>\n",
       "      <td>0</td>\n",
       "      <td>30</td>\n",
       "    </tr>\n",
       "    <tr>\n",
       "      <th>2</th>\n",
       "      <td>0</td>\n",
       "      <td>0</td>\n",
       "    </tr>\n",
       "    <tr>\n",
       "      <th>3</th>\n",
       "      <td>570</td>\n",
       "      <td>270</td>\n",
       "    </tr>\n",
       "    <tr>\n",
       "      <th>4</th>\n",
       "      <td>180</td>\n",
       "      <td>90</td>\n",
       "    </tr>\n",
       "  </tbody>\n",
       "</table>\n",
       "</div>"
      ],
      "text/plain": [
       "   train_size  validation_size\n",
       "0        1410              630\n",
       "1           0               30\n",
       "2           0                0\n",
       "3         570              270\n",
       "4         180               90"
      ]
     },
     "execution_count": 16,
     "metadata": {},
     "output_type": "execute_result"
    }
   ],
   "source": [
    "needed_images = size_per_class_df.copy()\n",
    "needed_images[\"train_size\"] =  int(size_per_class_df.sort_values(\"train_size\", ascending=False).head(1)[\"train_size\"]) - needed_images[\"train_size\"]\n",
    "needed_images[\"validation_size\"] = int(size_per_class_df.sort_values(\"validation_size\", ascending=False).head(1)[\"validation_size\"]) - needed_images[\"validation_size\"]\n",
    "needed_images.head()"
   ]
  },
  {
   "cell_type": "code",
   "execution_count": 17,
   "id": "pressing-cambridge",
   "metadata": {},
   "outputs": [],
   "source": [
    "for element in os.listdir(new_train_dir):\n",
    "    if element != \".DS_Store\":\n",
    "        os.mkdir(augdir_train + \"/\" + element)\n",
    "        os.mkdir(augdir_val + \"/\" + element)"
   ]
  },
  {
   "cell_type": "code",
   "execution_count": 9,
   "id": "clinical-colleague",
   "metadata": {},
   "outputs": [],
   "source": [
    "train_dir = new_train_dir\n",
    "validation_dir = new_val_dir"
   ]
  },
  {
   "cell_type": "code",
   "execution_count": 19,
   "id": "metallic-buddy",
   "metadata": {},
   "outputs": [],
   "source": [
    "from keras.preprocessing.image import ImageDataGenerator\n",
    "\n",
    "#defining the parameters how the images will be adjusted\n",
    "datagen = ImageDataGenerator(\n",
    "    # rotation_range=40,\n",
    "    width_shift_range=0.2,\n",
    "    height_shift_range=0.2,\n",
    "    shear_range=0.1,\n",
    "    zoom_range=0.2,\n",
    "    horizontal_flip=False,\n",
    "    brightness_range=[0.5, 1.5],\n",
    "    fill_mode=\"nearest\")"
   ]
  },
  {
   "cell_type": "code",
   "execution_count": 20,
   "id": "tropical-campus",
   "metadata": {},
   "outputs": [
    {
     "name": "stdout",
     "output_type": "stream",
     "text": [
      "1/43 completed...\n",
      "2/43 completed...\n",
      "3/43 completed...\n",
      "4/43 completed...\n",
      "5/43 completed...\n",
      "6/43 completed...\n",
      "7/43 completed...\n",
      "8/43 completed...\n",
      "9/43 completed...\n",
      "10/43 completed...\n",
      "11/43 completed...\n",
      "12/43 completed...\n",
      "13/43 completed...\n",
      "14/43 completed...\n",
      "15/43 completed...\n",
      "16/43 completed...\n",
      "17/43 completed...\n",
      "18/43 completed...\n",
      "19/43 completed...\n",
      "20/43 completed...\n",
      "21/43 completed...\n",
      "22/43 completed...\n",
      "23/43 completed...\n",
      "24/43 completed...\n",
      "25/43 completed...\n",
      "26/43 completed...\n",
      "27/43 completed...\n",
      "28/43 completed...\n",
      "29/43 completed...\n",
      "30/43 completed...\n",
      "31/43 completed...\n",
      "32/43 completed...\n",
      "33/43 completed...\n",
      "34/43 completed...\n",
      "35/43 completed...\n",
      "36/43 completed...\n",
      "37/43 completed...\n",
      "38/43 completed...\n",
      "39/43 completed...\n",
      "40/43 completed...\n",
      "41/43 completed...\n",
      "42/43 completed...\n",
      "43/43 completed!\n"
     ]
    }
   ],
   "source": [
    "#upsampling the training images for each class until they have the same size as the biggest one\n",
    "\n",
    "from keras.preprocessing import image\n",
    "import matplotlib.pyplot as plt\n",
    "import random\n",
    "\n",
    "classes = os.listdir(train_dir)\n",
    "#classes.remove(\".DS_Store\")\n",
    "classes = sorted(classes)\n",
    "\n",
    "completed = 1\n",
    "\n",
    "for number in range(len(classes)):\n",
    "    names = os.listdir(os.path.join(train_dir, classes[number]))\n",
    "    \n",
    "    limit = 0\n",
    "    \n",
    "    i = 0\n",
    "    \n",
    "    while limit < needed_images.iloc[number][\"train_size\"]:\n",
    "        random_number = random.randint(0, size_per_class_df.iloc[number][\"train_size\"]-1)\n",
    "        img_path = os.path.join(train_dir, classes[number], names[random_number])\n",
    "\n",
    "        img = image.load_img(img_path, target_size=(150, 150))\n",
    "\n",
    "        x = image.img_to_array(img)\n",
    "\n",
    "        x = x.reshape((1,) + x.shape)\n",
    "\n",
    "        \n",
    "        batch = datagen.flow(x, batch_size=1)\n",
    "        fig = plt.figure(0,frameon=False,figsize=(6,6))\n",
    "        ax = plt.Axes(fig, [0., 0., 1., 1.])\n",
    "        ax.set_axis_off()\n",
    "        fig.add_axes(ax)\n",
    "        imgplot = ax.imshow(image.array_to_img(batch[0][0]))\n",
    "        plt.savefig(augdir_train + \"/\" + classes[number] + \"/augmented_\" + str(i) + \".jpg\")\n",
    "        i += 1\n",
    "        plt.close()\n",
    "            \n",
    "    \n",
    "        limit += 1\n",
    "    \n",
    "    if completed < 43:\n",
    "        print(str(completed) + \"/43 completed...\")\n",
    "    else:\n",
    "        print(str(completed) + \"/43 completed!\")\n",
    "    completed += 1\n",
    "    \n"
   ]
  },
  {
   "cell_type": "code",
   "execution_count": 21,
   "id": "positive-blade",
   "metadata": {},
   "outputs": [
    {
     "name": "stdout",
     "output_type": "stream",
     "text": [
      "1/43 completed...\n",
      "2/43 completed...\n",
      "3/43 completed...\n",
      "4/43 completed...\n",
      "5/43 completed...\n",
      "6/43 completed...\n",
      "7/43 completed...\n",
      "8/43 completed...\n",
      "9/43 completed...\n",
      "10/43 completed...\n",
      "11/43 completed...\n",
      "12/43 completed...\n",
      "13/43 completed...\n",
      "14/43 completed...\n",
      "15/43 completed...\n",
      "16/43 completed...\n",
      "17/43 completed...\n",
      "18/43 completed...\n",
      "19/43 completed...\n",
      "20/43 completed...\n",
      "21/43 completed...\n",
      "22/43 completed...\n",
      "23/43 completed...\n",
      "24/43 completed...\n",
      "25/43 completed...\n",
      "26/43 completed...\n",
      "27/43 completed...\n",
      "28/43 completed...\n",
      "29/43 completed...\n",
      "30/43 completed...\n",
      "31/43 completed...\n",
      "32/43 completed...\n",
      "33/43 completed...\n",
      "34/43 completed...\n",
      "35/43 completed...\n",
      "36/43 completed...\n",
      "37/43 completed...\n",
      "38/43 completed...\n",
      "39/43 completed...\n",
      "40/43 completed...\n",
      "41/43 completed...\n",
      "42/43 completed...\n",
      "43/43 completed!\n"
     ]
    }
   ],
   "source": [
    "#upsampling the validation images for each class until they have the same size as the biggest one\n",
    "\n",
    "classes = os.listdir(validation_dir)\n",
    "#classes.remove(\".DS_Store\")\n",
    "classes = sorted(classes)\n",
    "\n",
    "completed = 1\n",
    "\n",
    "for number in range(len(classes)):\n",
    "    names = os.listdir(os.path.join(validation_dir, classes[number]))\n",
    "    \n",
    "    limit = 0\n",
    "    \n",
    "    i = 0\n",
    "    \n",
    "    while limit < needed_images.iloc[number][\"validation_size\"]:\n",
    "        random_number = random.randint(0, size_per_class_df.iloc[number][\"validation_size\"]-1)\n",
    "        img_path = os.path.join(validation_dir, classes[number], names[random_number])\n",
    "\n",
    "        img = image.load_img(img_path, target_size=(150, 150))\n",
    "\n",
    "        x = image.img_to_array(img)\n",
    "\n",
    "        x = x.reshape((1,) + x.shape)\n",
    "\n",
    "        \n",
    "        batch = datagen.flow(x, batch_size=1)\n",
    "        fig = plt.figure(0,frameon=False,figsize=(6,6))\n",
    "        ax = plt.Axes(fig, [0., 0., 1., 1.])\n",
    "        ax.set_axis_off()\n",
    "        fig.add_axes(ax)\n",
    "        imgplot = ax.imshow(image.array_to_img(batch[0][0]))\n",
    "        plt.savefig(augdir_val + \"/\" + classes[number] + \"/augmented_\" + str(i) + \".jpg\")\n",
    "        i += 1\n",
    "        plt.close()\n",
    "            \n",
    "    \n",
    "        limit += 1\n",
    "    \n",
    "    if completed < 43:\n",
    "        print(str(completed) + \"/43 completed...\")\n",
    "    else:\n",
    "        print(str(completed) + \"/43 completed!\")\n",
    "    completed += 1\n",
    "    \n"
   ]
  },
  {
   "cell_type": "code",
   "execution_count": 22,
   "id": "widespread-arthritis",
   "metadata": {},
   "outputs": [],
   "source": [
    "#copying the augmented images into the folder with the actual ones\n",
    "\n",
    "for i in range(len(all_classes)):\n",
    "    \n",
    "    image_list = os.listdir(augdir_train + \"/\" + all_classes[i])\n",
    "    \n",
    "    for image in image_list:\n",
    "    \n",
    "        src = augdir_train + \"/\" + all_classes[i] + \"/\" + image\n",
    "        dst = train_dir + \"/\" + all_classes[i] + \"/\"  + image\n",
    "        shutil.copyfile(src, dst)\n",
    "    \n",
    "    \n",
    "for i in range(len(all_classes)):\n",
    "    \n",
    "    image_list = os.listdir(augdir_val + \"/\" + all_classes[i])\n",
    "    \n",
    "    for image in image_list:\n",
    "    \n",
    "        src = augdir_val + \"/\" + all_classes[i] + \"/\" + image\n",
    "        dst = validation_dir + \"/\" + all_classes[i] + \"/\"  + image\n",
    "        shutil.copyfile(src, dst)"
   ]
  },
  {
   "cell_type": "code",
   "execution_count": 23,
   "id": "aging-luxury",
   "metadata": {},
   "outputs": [],
   "source": [
    "#checking the number of images within each class (should now be all the same size)\n",
    "amount_per_class = {}\n",
    "\n",
    "for i in range(len(all_classes)):\n",
    "    directory = train_dir + \"/\" + all_classes[i]\n",
    "    amount_per_class[i] = len(sorted(i for i in os.listdir(directory)))\n",
    "\n",
    "amount_per_class_df = pd.DataFrame.from_dict(amount_per_class, orient='index').rename(columns={0:\"amount\"})\n",
    "amount_per_class_df.index.name = 'class'\n",
    "\n",
    "#remove the \"#\" of the following line to display the number of images within each class\n",
    "#amount_per_class_df"
   ]
  },
  {
   "cell_type": "code",
   "execution_count": 24,
   "id": "focused-customer",
   "metadata": {},
   "outputs": [
    {
     "data": {
      "image/png": "[encoded data removed]",
      "text/plain": [
       "<Figure size 1440x576 with 1 Axes>"
      ]
     },
     "metadata": {
      "needs_background": "light"
     },
     "output_type": "display_data"
    }
   ],
   "source": [
    "#displaying the number of images per class visually\n",
    "\n",
    "plt.rcParams[\"figure.figsize\"] = (20,8)\n",
    "fig, ax = plt.subplots()\n",
    "plt.bar(amount_per_class_df.index, amount_per_class_df.amount)\n",
    "plt.title(\"Number of images per class (training)\", fontsize=20)\n",
    "plt.xlabel('class', fontsize=18)\n",
    "plt.ylabel('number of images', fontsize=18)\n",
    "ax.spines['right'].set_visible(False)\n",
    "ax.spines['top'].set_visible(False)\n",
    "plt.xticks(amount_per_class_df.index)\n",
    "plt.grid(axis=\"y\")\n",
    "plt.show()"
   ]
  },
  {
   "cell_type": "code",
   "execution_count": 25,
   "id": "piano-sucking",
   "metadata": {},
   "outputs": [],
   "source": [
    "#checking the number of images within each class (should now be all the same size)\n",
    "amount_per_class = {}\n",
    "\n",
    "for i in range(len(all_classes)):\n",
    "    directory = validation_dir + \"/\" + all_classes[i]\n",
    "    amount_per_class[i] = len(sorted(i for i in os.listdir(directory)))\n",
    "\n",
    "amount_per_class_df = pd.DataFrame.from_dict(amount_per_class, orient='index').rename(columns={0:\"amount\"})\n",
    "amount_per_class_df.index.name = 'class'\n",
    "\n",
    "#remove the \"#\" of the following line to display the number of images within each class\n",
    "#amount_per_class_df"
   ]
  },
  {
   "cell_type": "code",
   "execution_count": 26,
   "id": "historical-heading",
   "metadata": {},
   "outputs": [
    {
     "data": {
      "image/png": "[encoded data removed]",
      "text/plain": [
       "<Figure size 1440x576 with 1 Axes>"
      ]
     },
     "metadata": {
      "needs_background": "light"
     },
     "output_type": "display_data"
    }
   ],
   "source": [
    "#displaying the number of images per class visually\n",
    "\n",
    "plt.rcParams[\"figure.figsize\"] = (20,8)\n",
    "fig, ax = plt.subplots()\n",
    "plt.bar(amount_per_class_df.index, amount_per_class_df.amount)\n",
    "plt.title(\"Number of images per class (validation)\", fontsize=20)\n",
    "plt.xlabel('class', fontsize=18)\n",
    "plt.ylabel('number of images', fontsize=18)\n",
    "ax.spines['right'].set_visible(False)\n",
    "ax.spines['top'].set_visible(False)\n",
    "plt.xticks(amount_per_class_df.index)\n",
    "plt.grid(axis=\"y\")\n",
    "plt.show()"
   ]
  },
  {
   "cell_type": "markdown",
   "id": "intensive-wrist",
   "metadata": {},
   "source": [
    "## Data Preprocessing"
   ]
  },
  {
   "cell_type": "code",
   "execution_count": 10,
   "id": "measured-vancouver",
   "metadata": {},
   "outputs": [],
   "source": [
    "import os, shutil\n",
    "import pandas as pd\n",
    "import seaborn as sns\n",
    "import matplotlib.pyplot as plt\n"
   ]
  },
  {
   "cell_type": "code",
   "execution_count": 11,
   "id": "static-crash",
   "metadata": {},
   "outputs": [
    {
     "name": "stdout",
     "output_type": "stream",
     "text": [
      "Found 67080 images belonging to 43 classes.\n",
      "Found 29670 images belonging to 43 classes.\n"
     ]
    }
   ],
   "source": [
    "from keras.preprocessing.image import ImageDataGenerator\n",
    "\n",
    "train_datagen = ImageDataGenerator(rescale=1./255)\n",
    "test_datagen = ImageDataGenerator(rescale=1./255)\n",
    "\n",
    "train_generator = train_datagen.flow_from_directory(\n",
    "    train_dir,\n",
    "    target_size=(150,150),\n",
    "    batch_size=20,\n",
    "    class_mode=\"categorical\")\n",
    "\n",
    "validation_generator = test_datagen.flow_from_directory(\n",
    "    validation_dir,\n",
    "    target_size=(150,150),\n",
    "    batch_size=20,\n",
    "    class_mode=\"categorical\")"
   ]
  },
  {
   "cell_type": "markdown",
   "id": "religious-quarter",
   "metadata": {},
   "source": [
    "## Draft of the model"
   ]
  },
  {
   "cell_type": "markdown",
   "id": "closed-laundry",
   "metadata": {},
   "source": [
    "#### Building the model"
   ]
  },
  {
   "cell_type": "code",
   "execution_count": null,
   "id": "corporate-norwegian",
   "metadata": {},
   "outputs": [],
   "source": [
    "from keras import layers\n",
    "from keras import models\n",
    "\n",
    "model = models.Sequential()\n",
    "model.add(layers.Conv2D(32, (3, 3), activation='relu', input_shape=(150, 150, 3)))\n",
    "model.add(layers.MaxPooling2D((2, 2)))\n",
    "model.add(layers.Conv2D(64, (3, 3), activation='relu'))\n",
    "model.add(layers.MaxPooling2D((2, 2) ))\n",
    "model.add(layers.Flatten())\n",
    "model.add(layers.Dense(512, activation='relu'))\n",
    "model.add(layers.Dense (43, activation='softmax'))"
   ]
  },
  {
   "cell_type": "code",
   "execution_count": null,
   "id": "general-microphone",
   "metadata": {},
   "outputs": [],
   "source": [
    "model.summary()"
   ]
  },
  {
   "cell_type": "markdown",
   "id": "express-teach",
   "metadata": {},
   "source": [
    "#### Training the model"
   ]
  },
  {
   "cell_type": "code",
   "execution_count": null,
   "id": "diverse-orleans",
   "metadata": {},
   "outputs": [],
   "source": [
    "from keras import optimizers\n",
    "\n",
    "#compilation\n",
    "model.compile(loss=\"categorical_crossentropy\", optimizer=optimizers.RMSprop(lr=1e-4), metrics=[\"acc\"])"
   ]
  },
  {
   "cell_type": "code",
   "execution_count": null,
   "id": "minus-chance",
   "metadata": {},
   "outputs": [],
   "source": [
    "import sys\n",
    "from PIL import Image\n",
    "sys.modules['Image'] = Image\n",
    "\n",
    "for data_batch, labels_batch in train_generator:\n",
    "    print('data batch shape:', data_batch.shape)\n",
    "    print('labels batch shape:', labels_batch.shape)\n",
    "    break"
   ]
  },
  {
   "cell_type": "code",
   "execution_count": null,
   "id": "formed-honey",
   "metadata": {},
   "outputs": [],
   "source": [
    "history = model.fit_generator(\n",
    "    train_generator,\n",
    "    epochs=30,\n",
    "    validation_data=validation_generator\n",
    ")"
   ]
  },
  {
   "cell_type": "code",
   "execution_count": null,
   "id": "appropriate-blend",
   "metadata": {},
   "outputs": [],
   "source": [
    "#Displaying curves of loss and accuracy during training\n",
    "\n",
    "import matplotlib.pyplot as plt\n",
    "\n",
    "acc = history.history[\"acc\"]\n",
    "val_acc = history.history[\"val_acc\"]\n",
    "loss = history.history[\"loss\"]\n",
    "val_loss = history.history[\"val_loss\"]\n",
    "\n",
    "epochs = range(1, len(acc) + 1)\n",
    "\n",
    "plt.plot(epochs, acc, \"bo\", label=\"Training acc\")\n",
    "plt.plot(epochs, val_acc, \"b\", label=\"Validation acc\")\n",
    "plt.title(\"Training and validation accuracy\")\n",
    "plt.legend()\n",
    "\n",
    "plt.show()\n",
    "\n",
    "plt.plot(epochs, loss, \"bo\", label=\"Training loss\")\n",
    "plt.plot(epochs, val_loss, \"b\", label=\"Validation loss\")\n",
    "plt.title(\"Training and validation loss\")\n",
    "plt.legend()\n",
    "\n",
    "plt.show()"
   ]
  },
  {
   "cell_type": "markdown",
   "id": "ancient-portable",
   "metadata": {},
   "source": [
    "As it can be seen, the major problem so far is overfitting!"
   ]
  },
  {
   "cell_type": "markdown",
   "id": "composite-metropolitan",
   "metadata": {},
   "source": [
    "## Overfitting reduce technique 1: Rebuidling the model with dropout"
   ]
  },
  {
   "cell_type": "markdown",
   "id": "continental-procurement",
   "metadata": {},
   "source": [
    "Overview of some techniques: https://towardsdatascience.com/deep-learning-3-more-on-cnns-handling-overfitting-2bd5d99abe5d"
   ]
  },
  {
   "cell_type": "code",
   "execution_count": 29,
   "id": "short-handy",
   "metadata": {},
   "outputs": [],
   "source": [
    "#train_dir = os.path.join(created_dir, \"training\")\n",
    "# os.mkdir(train_dir)\n",
    "#validation_dir = os.path.join(created_dir, \"validation\")\n",
    "# os.mkdir(validation_dir)"
   ]
  },
  {
   "cell_type": "code",
   "execution_count": 30,
   "id": "operating-looking",
   "metadata": {},
   "outputs": [],
   "source": [
    "from keras import layers\n",
    "from keras import models\n",
    "\n",
    "dropout_prob = 0.9\n",
    "\n",
    "model = models.Sequential()\n",
    "model.add(layers.Conv2D(32, (3, 3), activation='relu', input_shape=(150, 150, 3)))\n",
    "model.add(layers.MaxPooling2D((2, 2)))\n",
    "model.add(layers.Conv2D(64, (3, 3), activation='relu'))\n",
    "model.add(layers.MaxPooling2D((2, 2) ))\n",
    "model.add(layers.Flatten())\n",
    "model.add(layers.Dropout(dropout_prob))\n",
    "model.add(layers.Dense(512, activation='relu'))\n",
    "model.add(layers.Dense (43, activation='softmax'))"
   ]
  },
  {
   "cell_type": "code",
   "execution_count": 31,
   "id": "coordinated-mission",
   "metadata": {},
   "outputs": [
    {
     "name": "stdout",
     "output_type": "stream",
     "text": [
      "Model: \"sequential\"\n",
      "_________________________________________________________________\n",
      "Layer (type)                 Output Shape              Param #   \n",
      "=================================================================\n",
      "conv2d (Conv2D)              (None, 148, 148, 32)      896       \n",
      "_________________________________________________________________\n",
      "max_pooling2d (MaxPooling2D) (None, 74, 74, 32)        0         \n",
      "_________________________________________________________________\n",
      "conv2d_1 (Conv2D)            (None, 72, 72, 64)        18496     \n",
      "_________________________________________________________________\n",
      "max_pooling2d_1 (MaxPooling2 (None, 36, 36, 64)        0         \n",
      "_________________________________________________________________\n",
      "flatten (Flatten)            (None, 82944)             0         \n",
      "_________________________________________________________________\n",
      "dropout (Dropout)            (None, 82944)             0         \n",
      "_________________________________________________________________\n",
      "dense (Dense)                (None, 512)               42467840  \n",
      "_________________________________________________________________\n",
      "dense_1 (Dense)              (None, 43)                22059     \n",
      "=================================================================\n",
      "Total params: 42,509,291\n",
      "Trainable params: 42,509,291\n",
      "Non-trainable params: 0\n",
      "_________________________________________________________________\n"
     ]
    }
   ],
   "source": [
    "model.summary()"
   ]
  },
  {
   "cell_type": "code",
   "execution_count": 32,
   "id": "operating-perfume",
   "metadata": {},
   "outputs": [],
   "source": [
    "from keras import optimizers\n",
    "\n",
    "#compilation\n",
    "model.compile(loss=\"categorical_crossentropy\", optimizer=optimizers.RMSprop(lr=1e-4), metrics=[\"acc\"])"
   ]
  },
  {
   "cell_type": "code",
   "execution_count": 5,
   "id": "reverse-sarah",
   "metadata": {},
   "outputs": [],
   "source": [
    "# Load a saved model\n",
    "\n",
    "import keras\n",
    "\n",
    "model = keras.models.load_model('model_large_dataset_augmented_new_6_epochs_dropout_0_9')"
   ]
  },
  {
   "cell_type": "code",
   "execution_count": 12,
   "id": "polyphonic-entrepreneur",
   "metadata": {
    "scrolled": true
   },
   "outputs": [
    {
     "name": "stderr",
     "output_type": "stream",
     "text": [
      "/Users/philippmetzger/anaconda3/envs/dl_pip_2/lib/python3.8/site-packages/tensorflow/python/keras/engine/training.py:1844: UserWarning: `Model.fit_generator` is deprecated and will be removed in a future version. Please use `Model.fit`, which supports generators.\n",
      "  warnings.warn('`Model.fit_generator` is deprecated and '\n"
     ]
    },
    {
     "name": "stdout",
     "output_type": "stream",
     "text": [
      "Epoch 1/4\n",
      "3354/3354 [==============================] - 1834s 547ms/step - loss: 0.5847 - acc: 0.8304 - val_loss: 2.1927 - val_acc: 0.5208\n",
      "Epoch 2/4\n",
      "3354/3354 [==============================] - 1833s 547ms/step - loss: 0.5372 - acc: 0.8430 - val_loss: 2.1772 - val_acc: 0.5299\n",
      "Epoch 3/4\n",
      "3354/3354 [==============================] - 1838s 548ms/step - loss: 0.5041 - acc: 0.8540 - val_loss: 2.2383 - val_acc: 0.5303\n",
      "Epoch 4/4\n",
      "3354/3354 [==============================] - 1849s 551ms/step - loss: 0.4700 - acc: 0.8634 - val_loss: 2.2781 - val_acc: 0.5313\n"
     ]
    }
   ],
   "source": [
    "# Epochs 7 - 10: 4 epochs with the newly augmented dataset and Dropout(0.9)\n",
    "\n",
    "history = model.fit_generator(\n",
    "    train_generator,\n",
    "    epochs=4,\n",
    "    validation_data=validation_generator\n",
    "    )"
   ]
  },
  {
   "cell_type": "code",
   "execution_count": 35,
   "id": "appreciated-dealer",
   "metadata": {},
   "outputs": [
    {
     "name": "stdout",
     "output_type": "stream",
     "text": [
      "Epoch 1/2\n",
      "3354/3354 [==============================] - 2045s 610ms/step - loss: 0.9869 - acc: 0.7159 - val_loss: 2.1939 - val_acc: 0.4900\n",
      "Epoch 2/2\n",
      "3354/3354 [==============================] - 2037s 607ms/step - loss: 0.8275 - acc: 0.7621 - val_loss: 2.1479 - val_acc: 0.4872\n"
     ]
    }
   ],
   "source": [
    "# Epochs 3 - 4: another 2 epochs with the newly augmented dataset and Dropout(0.9)\n",
    "\n",
    "history = model.fit_generator(\n",
    "    train_generator,\n",
    "    epochs=2,\n",
    "    validation_data=validation_generator\n",
    "    )"
   ]
  },
  {
   "cell_type": "code",
   "execution_count": 36,
   "id": "clean-silly",
   "metadata": {},
   "outputs": [
    {
     "name": "stdout",
     "output_type": "stream",
     "text": [
      "Epoch 1/2\n",
      "3354/3354 [==============================] - 2383s 710ms/step - loss: 0.7198 - acc: 0.7921 - val_loss: 2.3043 - val_acc: 0.5091\n",
      "Epoch 2/2\n",
      "3354/3354 [==============================] - 3186s 950ms/step - loss: 0.6446 - acc: 0.8123 - val_loss: 2.1934 - val_acc: 0.4855\n"
     ]
    }
   ],
   "source": [
    "# Epochs 5 - 6: another 2 epochs with the newly augmented dataset and Dropout(0.9)\n",
    "history = model.fit_generator(\n",
    "    train_generator,\n",
    "    epochs=2,\n",
    "    validation_data=validation_generator\n",
    "    )"
   ]
  },
  {
   "cell_type": "code",
   "execution_count": null,
   "id": "rational-light",
   "metadata": {},
   "outputs": [],
   "source": [
    "# Epochs 16 - 20: Another 5 epochs with dropout(0.9)\n",
    "\n",
    "history = model.fit_generator(\n",
    "    train_generator,\n",
    "    epochs=5,\n",
    "    validation_data=validation_generator\n",
    "    )"
   ]
  },
  {
   "cell_type": "code",
   "execution_count": null,
   "id": "oriental-elizabeth",
   "metadata": {},
   "outputs": [],
   "source": [
    "# This was with dropout(0.3):\n",
    "\n",
    "history = model.fit_generator(\n",
    "    train_generator,\n",
    "    epochs=5,\n",
    "    validation_data=validation_generator\n",
    "    )"
   ]
  },
  {
   "cell_type": "code",
   "execution_count": 13,
   "id": "acoustic-election",
   "metadata": {},
   "outputs": [
    {
     "name": "stdout",
     "output_type": "stream",
     "text": [
      "INFO:tensorflow:Assets written to: model_large_dataset_augmented_new_10_epochs_dropout_0_9/assets\n"
     ]
    }
   ],
   "source": [
    "model.save('model_large_dataset_augmented_new_10_epochs_dropout_0_9')"
   ]
  },
  {
   "cell_type": "code",
   "execution_count": 14,
   "id": "residential-simpson",
   "metadata": {},
   "outputs": [],
   "source": [
    "save_hist_to_excel('history_large_dataset_augmented_new_10_epochs_dropout_0_9')"
   ]
  },
  {
   "cell_type": "code",
   "execution_count": 39,
   "id": "advised-encounter",
   "metadata": {},
   "outputs": [
    {
     "data": {
      "image/png": "[encoded data removed]",
      "text/plain": [
       "<Figure size 1440x576 with 1 Axes>"
      ]
     },
     "metadata": {
      "needs_background": "light"
     },
     "output_type": "display_data"
    },
    {
     "data": {
      "image/png": "[encoded data removed]",
      "text/plain": [
       "<Figure size 1440x576 with 1 Axes>"
      ]
     },
     "metadata": {
      "needs_background": "light"
     },
     "output_type": "display_data"
    }
   ],
   "source": [
    "#Displaying curves of loss and accuracy during training\n",
    "\n",
    "import matplotlib.pyplot as plt\n",
    "\n",
    "acc = history.history[\"acc\"]\n",
    "val_acc = history.history[\"val_acc\"]\n",
    "loss = history.history[\"loss\"]\n",
    "val_loss = history.history[\"val_loss\"]\n",
    "\n",
    "epochs = range(1, len(acc) + 1)\n",
    "\n",
    "plt.plot(epochs, acc, \"bo\", label=\"Training acc\")\n",
    "plt.plot(epochs, val_acc, \"b\", label=\"Validation acc\")\n",
    "plt.title(\"Training and validation accuracy\")\n",
    "plt.legend()\n",
    "\n",
    "plt.show()\n",
    "\n",
    "plt.plot(epochs, loss, \"bo\", label=\"Training loss\")\n",
    "plt.plot(epochs, val_loss, \"b\", label=\"Validation loss\")\n",
    "plt.title(\"Training and validation loss\")\n",
    "plt.legend()\n",
    "\n",
    "plt.show()"
   ]
  },
  {
   "cell_type": "markdown",
   "id": "handmade-duncan",
   "metadata": {},
   "source": [
    "## Overfitting reduce technique 2: Data Augmentation"
   ]
  },
  {
   "cell_type": "code",
   "execution_count": null,
   "id": "golden-clarity",
   "metadata": {},
   "outputs": [],
   "source": [
    "from keras.preprocessing.image import ImageDataGenerator\n",
    "\n",
    "#defining the parameters how the images will be adjusted\n",
    "datagen = ImageDataGenerator(\n",
    "    rotation_range=40,\n",
    "    width_shift_range=0.2,\n",
    "    shear_range=0.2,\n",
    "    zoom_range=0.2,\n",
    "    horizontal_flip=True,\n",
    "    fill_mode=\"nearest\")"
   ]
  },
  {
   "cell_type": "markdown",
   "id": "cutting-beach",
   "metadata": {},
   "source": [
    "##### Creating augmented images"
   ]
  },
  {
   "cell_type": "code",
   "execution_count": null,
   "id": "matched-hurricane",
   "metadata": {
    "scrolled": true
   },
   "outputs": [],
   "source": [
    "from keras.preprocessing import image\n",
    "import matplotlib.pyplot as plt\n",
    "import random\n",
    "\n",
    "completed = 1\n",
    "#getting one image from each series of pictures and create 30 new augmented ones and save them\n",
    "for element in range(len(os.listdir(train_dir))):\n",
    "    if \".DS_Store\" not in os.listdir(train_dir)[element]:\n",
    "        series = []\n",
    "\n",
    "        while len(series) < 5:\n",
    "\n",
    "            names = [os.path.join(train_dir + \"/\" + os.listdir(train_dir)[element], name) for name in os.listdir(train_dir + \"/\" + os.listdir(train_dir)[element])]\n",
    "            for element_name in names:\n",
    "                if \".DS_Store\" in element_name:\n",
    "                    names.remove(element_name)\n",
    "                \n",
    "            #choosing a random image\n",
    "            number = random.randint(0, 149)\n",
    "        \n",
    "        \n",
    "            img_path = names[number]\n",
    "    \n",
    "            if img_path.split(\"/\")[-1].split(\"_\")[0] not in series:\n",
    "                #make sure that each series will be dealt with\n",
    "                series.append(img_path.split(\"/\")[-1].split(\"_\")[0])\n",
    "\n",
    "                img = image.load_img(img_path, target_size=(150, 150))\n",
    "\n",
    "                x = image.img_to_array(img)\n",
    "\n",
    "                x = x.reshape((1,) + x.shape)\n",
    "\n",
    "                i = 0\n",
    "                #create the images and save them\n",
    "                for batch in datagen.flow(x, batch_size=1):\n",
    "                    fig = plt.figure(i,frameon=False,figsize=(6,6))\n",
    "                    ax = plt.Axes(fig, [0., 0., 1., 1.])\n",
    "                    ax.set_axis_off()\n",
    "                    fig.add_axes(ax)\n",
    "                    imgplot = ax.imshow(image.array_to_img(batch[0]))\n",
    "                    image_name = str(i)\n",
    "                    plt.savefig(train_dir + \"/\" + os.listdir(train_dir)[element] + \"/\" + img_path.split(\"/\")[-1].split(\"_\")[0] +\"_augmented\"+str(i)+\".jpg\")\n",
    "                    plt.close()\n",
    "                    i += 1\n",
    "                    if i == 30:\n",
    "                        break\n",
    "                    \n",
    "    print(str(completed)+\"/43 completed...\")\n",
    "    completed += 1"
   ]
  },
  {
   "cell_type": "markdown",
   "id": "pediatric-directive",
   "metadata": {},
   "source": [
    "##### Redefining the generators"
   ]
  },
  {
   "cell_type": "code",
   "execution_count": null,
   "id": "corporate-hungary",
   "metadata": {},
   "outputs": [],
   "source": [
    "train_datagen = ImageDataGenerator(rescale=1./255)\n",
    "test_datagen = ImageDataGenerator(rescale=1./255)\n",
    "\n",
    "train_generator = train_datagen.flow_from_directory(\n",
    "    train_dir,\n",
    "    target_size=(150,150),\n",
    "    batch_size=20,\n",
    "    class_mode=\"categorical\")\n",
    "\n",
    "validation_generator = test_datagen.flow_from_directory(\n",
    "    validation_dir,\n",
    "    target_size=(150,150),\n",
    "    batch_size=20,\n",
    "    class_mode=\"categorical\")"
   ]
  },
  {
   "cell_type": "markdown",
   "id": "flying-factor",
   "metadata": {},
   "source": [
    "##### Rebuilding the model"
   ]
  },
  {
   "cell_type": "code",
   "execution_count": null,
   "id": "center-music",
   "metadata": {},
   "outputs": [],
   "source": [
    "from keras import layers\n",
    "from keras import models\n",
    "\n",
    "model = models.Sequential()\n",
    "model.add(layers.Conv2D(32, (3, 3), activation='relu', input_shape=(150, 150, 3)))\n",
    "model.add(layers.MaxPooling2D((2, 2)))\n",
    "model.add(layers.Conv2D(64, (3, 3), activation='relu'))\n",
    "model.add(layers.MaxPooling2D((2, 2) ))\n",
    "model.add(layers.Flatten())\n",
    "model.add(layers.Dense(512, activation='relu'))\n",
    "model.add(layers.Dense (43, activation='softmax'))"
   ]
  },
  {
   "cell_type": "code",
   "execution_count": null,
   "id": "defined-secondary",
   "metadata": {},
   "outputs": [],
   "source": [
    "model.summary()"
   ]
  },
  {
   "cell_type": "markdown",
   "id": "moved-surface",
   "metadata": {},
   "source": [
    "##### Training the model"
   ]
  },
  {
   "cell_type": "code",
   "execution_count": null,
   "id": "accompanied-adolescent",
   "metadata": {},
   "outputs": [],
   "source": [
    "from keras import optimizers\n",
    "\n",
    "#compilation\n",
    "model.compile(loss=\"categorical_crossentropy\", optimizer=optimizers.RMSprop(lr=1e-4), metrics=[\"acc\"])"
   ]
  },
  {
   "cell_type": "code",
   "execution_count": null,
   "id": "phantom-nurse",
   "metadata": {},
   "outputs": [],
   "source": [
    "import sys\n",
    "from PIL import Image\n",
    "sys.modules['Image'] = Image\n",
    "\n",
    "for data_batch, labels_batch in train_generator:\n",
    "    print('data batch shape:', data_batch.shape)\n",
    "    print('labels batch shape:', labels_batch.shape)\n",
    "    break"
   ]
  },
  {
   "cell_type": "code",
   "execution_count": null,
   "id": "auburn-analyst",
   "metadata": {},
   "outputs": [],
   "source": [
    "history = model.fit_generator(\n",
    "    train_generator,\n",
    "    epochs=30,\n",
    "    validation_data=validation_generator\n",
    "    )"
   ]
  },
  {
   "cell_type": "code",
   "execution_count": null,
   "id": "plain-reduction",
   "metadata": {},
   "outputs": [],
   "source": [
    "#Displaying curves of loss and accuracy during training\n",
    "\n",
    "import matplotlib.pyplot as plt\n",
    "\n",
    "acc = history.history[\"acc\"]\n",
    "val_acc = history.history[\"val_acc\"]\n",
    "loss = history.history[\"loss\"]\n",
    "val_loss = history.history[\"val_loss\"]\n",
    "\n",
    "epochs = range(1, len(acc) + 1)\n",
    "\n",
    "plt.plot(epochs, acc, \"bo\", label=\"Training acc\")\n",
    "plt.plot(epochs, val_acc, \"b\", label=\"Validation acc\")\n",
    "plt.title(\"Training and validation accuracy\")\n",
    "plt.legend()\n",
    "\n",
    "plt.show()\n",
    "\n",
    "plt.plot(epochs, loss, \"bo\", label=\"Training loss\")\n",
    "plt.plot(epochs, val_loss, \"b\", label=\"Validation loss\")\n",
    "plt.title(\"Training and validation loss\")\n",
    "plt.legend()\n",
    "\n",
    "plt.show()"
   ]
  },
  {
   "cell_type": "code",
   "execution_count": null,
   "id": "invisible-rebound",
   "metadata": {},
   "outputs": [],
   "source": []
  },
  {
   "cell_type": "code",
   "execution_count": null,
   "id": "superb-accountability",
   "metadata": {},
   "outputs": [],
   "source": []
  },
  {
   "cell_type": "code",
   "execution_count": null,
   "id": "exterior-working",
   "metadata": {},
   "outputs": [],
   "source": []
  },
  {
   "cell_type": "code",
   "execution_count": null,
   "id": "timely-needle",
   "metadata": {},
   "outputs": [],
   "source": []
  },
  {
   "cell_type": "code",
   "execution_count": null,
   "id": "opposed-civilian",
   "metadata": {},
   "outputs": [],
   "source": []
  },
  {
   "cell_type": "code",
   "execution_count": null,
   "id": "residential-detective",
   "metadata": {},
   "outputs": [],
   "source": []
  },
  {
   "cell_type": "code",
   "execution_count": null,
   "id": "excessive-russia",
   "metadata": {},
   "outputs": [],
   "source": []
  },
  {
   "cell_type": "code",
   "execution_count": null,
   "id": "fifty-grove",
   "metadata": {},
   "outputs": [],
   "source": []
  },
  {
   "cell_type": "code",
   "execution_count": null,
   "id": "angry-vessel",
   "metadata": {},
   "outputs": [],
   "source": []
  },
  {
   "cell_type": "code",
   "execution_count": null,
   "id": "sustainable-disposal",
   "metadata": {},
   "outputs": [],
   "source": []
  },
  {
   "cell_type": "code",
   "execution_count": null,
   "id": "trying-punch",
   "metadata": {},
   "outputs": [],
   "source": []
  },
  {
   "cell_type": "code",
   "execution_count": null,
   "id": "experienced-terrace",
   "metadata": {},
   "outputs": [],
   "source": []
  },
  {
   "cell_type": "code",
   "execution_count": null,
   "id": "paperback-allowance",
   "metadata": {},
   "outputs": [],
   "source": []
  },
  {
   "cell_type": "code",
   "execution_count": null,
   "id": "collectible-settlement",
   "metadata": {},
   "outputs": [],
   "source": []
  },
  {
   "cell_type": "code",
   "execution_count": null,
   "id": "governmental-making",
   "metadata": {},
   "outputs": [],
   "source": []
  },
  {
   "cell_type": "code",
   "execution_count": null,
   "id": "statutory-immigration",
   "metadata": {},
   "outputs": [],
   "source": []
  },
  {
   "cell_type": "code",
   "execution_count": null,
   "id": "charged-submission",
   "metadata": {},
   "outputs": [],
   "source": []
  }
 ],
 "metadata": {
  "kernelspec": {
   "display_name": "Python 3",
   "language": "python",
   "name": "python3"
  },
  "language_info": {
   "codemirror_mode": {
    "name": "ipython",
    "version": 3
   },
   "file_extension": ".py",
   "mimetype": "text/x-python",
   "name": "python",
   "nbconvert_exporter": "python",
   "pygments_lexer": "ipython3",
   "version": "3.8.5"
  }
 },
 "nbformat": 4,
 "nbformat_minor": 5
}

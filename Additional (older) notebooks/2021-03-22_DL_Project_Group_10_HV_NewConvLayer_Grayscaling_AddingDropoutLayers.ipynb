{
 "cells": [
  {
   "cell_type": "markdown",
   "id": "periodic-skirt",
   "metadata": {},
   "source": [
    "# Deep Learning Project - Traffic Signs Image Classification"
   ]
  },
  {
   "cell_type": "code",
   "execution_count": 109,
   "id": "announced-interstate",
   "metadata": {},
   "outputs": [],
   "source": [
    "import os, shutil\n",
    "import pandas as pd\n",
    "import seaborn as sns\n",
    "import matplotlib.pyplot as plt"
   ]
  },
  {
   "cell_type": "code",
   "execution_count": 19,
   "id": "lyric-screening",
   "metadata": {},
   "outputs": [],
   "source": [
    "def save_hist_to_excel(filename):\n",
    "    df = pd.DataFrame(history.history)\n",
    "    df.to_excel(filename + '.xlsx')"
   ]
  },
  {
   "cell_type": "markdown",
   "id": "radical-winter",
   "metadata": {},
   "source": [
    "## Overview of the training data"
   ]
  },
  {
   "cell_type": "code",
   "execution_count": 111,
   "id": "dated-alert",
   "metadata": {},
   "outputs": [
    {
     "name": "stdout",
     "output_type": "stream",
     "text": [
      "There are 43 different classes within the training data!\n"
     ]
    }
   ],
   "source": [
    "#setting the training directory (the training images can be found there, already sorted by class into folders)\n",
    "base_training_dir = \"/Users/henriquevaz/NOVA IMS/YEAR 1/SPRING SEMESTER/DL/Project/my_notebooks/Data/Training/Final_Training/Images/\"\n",
    "#base_training_dir = \"/Users/philippmetzger/Documents/GitHub/Deep_Learning_Project_Group_10/Data/GTSRB_Final_Training_Images/GTSRB/Final_Training/Images/\"\n",
    "\n",
    "#setting the directory where the selected training and validation images will be stored in\n",
    "created_dir = \"/Users/henriquevaz/NOVA IMS/YEAR 1/SPRING SEMESTER/DL/Project/my_notebooks/Data/Selected\"\n",
    "#created_dir = \"/Users/philippmetzger/Documents/GitHub/Deep_Learning_Project_Group_10/Data/Selected\"\n",
    "\n",
    "#storing all the folder names that belong to the respective classes\n",
    "all_classes = sorted(i for i in os.listdir(base_training_dir) if i.startswith(\"0\"))\n",
    "\n",
    "print(\"There are\", len(all_classes), \"different classes within the training data!\")"
   ]
  },
  {
   "cell_type": "code",
   "execution_count": 112,
   "id": "departmental-torture",
   "metadata": {},
   "outputs": [],
   "source": [
    "#getting the number of images within each class of the training data\n",
    "amount_per_class = {}\n",
    "\n",
    "for i in range(len(all_classes)):\n",
    "    directory = base_training_dir + \"/\" + all_classes[i]\n",
    "    amount_per_class[i] = len(sorted(i for i in os.listdir(directory) if i.startswith(\"0\")))\n",
    "\n",
    "amount_per_class_df = pd.DataFrame.from_dict(amount_per_class, orient='index').rename(columns={0:\"amount\"})\n",
    "amount_per_class_df.index.name = 'class'\n",
    "\n",
    "#remove the \"#\" of the following line to display the number of images within each class\n",
    "#amount_per_class_df"
   ]
  },
  {
   "cell_type": "code",
   "execution_count": 113,
   "id": "saved-advantage",
   "metadata": {},
   "outputs": [
    {
     "data": {
      "image/png": "[encoded data removed]",
      "text/plain": [
       "<Figure size 1440x576 with 1 Axes>"
      ]
     },
     "metadata": {
      "needs_background": "light"
     },
     "output_type": "display_data"
    }
   ],
   "source": [
    "#displaying the number of images per class visually\n",
    "\n",
    "plt.rcParams[\"figure.figsize\"] = (20,8)\n",
    "fig, ax = plt.subplots()\n",
    "plt.bar(amount_per_class_df.index, amount_per_class_df.amount)\n",
    "plt.title(\"Number of images per class\", fontsize=20)\n",
    "plt.xlabel('class', fontsize=18)\n",
    "plt.ylabel('number of images', fontsize=18)\n",
    "ax.spines['right'].set_visible(False)\n",
    "ax.spines['top'].set_visible(False)\n",
    "plt.xticks(amount_per_class_df.index)\n",
    "plt.grid(axis=\"y\")\n",
    "plt.show()"
   ]
  },
  {
   "cell_type": "markdown",
   "id": "later-school",
   "metadata": {},
   "source": [
    "As it can be seen in the bar chart, the dataset is highly unbalanced. Some classes have over 2000 instances, while others only have 210."
   ]
  },
  {
   "cell_type": "code",
   "execution_count": 114,
   "id": "noted-coordinator",
   "metadata": {},
   "outputs": [
    {
     "data": {
      "text/html": [
       "<div>\n",
       "<style scoped>\n",
       "    .dataframe tbody tr th:only-of-type {\n",
       "        vertical-align: middle;\n",
       "    }\n",
       "\n",
       "    .dataframe tbody tr th {\n",
       "        vertical-align: top;\n",
       "    }\n",
       "\n",
       "    .dataframe thead th {\n",
       "        text-align: right;\n",
       "    }\n",
       "</style>\n",
       "<table border=\"1\" class=\"dataframe\">\n",
       "  <thead>\n",
       "    <tr style=\"text-align: right;\">\n",
       "      <th>class</th>\n",
       "      <th>0</th>\n",
       "      <th>37</th>\n",
       "      <th>19</th>\n",
       "      <th>32</th>\n",
       "      <th>27</th>\n",
       "      <th>41</th>\n",
       "      <th>42</th>\n",
       "      <th>24</th>\n",
       "      <th>29</th>\n",
       "      <th>39</th>\n",
       "      <th>21</th>\n",
       "      <th>40</th>\n",
       "      <th>20</th>\n",
       "      <th>36</th>\n",
       "      <th>22</th>\n",
       "      <th>6</th>\n",
       "      <th>16</th>\n",
       "      <th>34</th>\n",
       "      <th>30</th>\n",
       "      <th>23</th>\n",
       "    </tr>\n",
       "  </thead>\n",
       "  <tbody>\n",
       "    <tr>\n",
       "      <th>amount</th>\n",
       "      <td>210</td>\n",
       "      <td>210</td>\n",
       "      <td>210</td>\n",
       "      <td>240</td>\n",
       "      <td>240</td>\n",
       "      <td>240</td>\n",
       "      <td>240</td>\n",
       "      <td>270</td>\n",
       "      <td>270</td>\n",
       "      <td>300</td>\n",
       "      <td>330</td>\n",
       "      <td>360</td>\n",
       "      <td>360</td>\n",
       "      <td>390</td>\n",
       "      <td>390</td>\n",
       "      <td>420</td>\n",
       "      <td>420</td>\n",
       "      <td>420</td>\n",
       "      <td>450</td>\n",
       "      <td>510</td>\n",
       "    </tr>\n",
       "  </tbody>\n",
       "</table>\n",
       "</div>"
      ],
      "text/plain": [
       "class    0    37   19   32   27   41   42   24   29   39   21   40   20   36  \\\n",
       "amount  210  210  210  240  240  240  240  270  270  300  330  360  360  390   \n",
       "\n",
       "class    22   6    16   34   30   23  \n",
       "amount  390  420  420  420  450  510  "
      ]
     },
     "execution_count": 114,
     "metadata": {},
     "output_type": "execute_result"
    }
   ],
   "source": [
    "#displaying the 20 classes with the fewest images\n",
    "amount_per_class_df.sort_values(\"amount\").head(20).T"
   ]
  },
  {
   "cell_type": "markdown",
   "id": "frank-advantage",
   "metadata": {},
   "source": [
    "Within each class, there are several groups of images, that belong together (these are basically all images of the very same traffic sign, that just differ in that they were made as a series while approaching the actual sign). These series of images shouldn't be splitted later when the data is split into training and validation sets, so some precautions might be useful:"
   ]
  },
  {
   "cell_type": "code",
   "execution_count": 115,
   "id": "effective-bicycle",
   "metadata": {},
   "outputs": [
    {
     "name": "stdout",
     "output_type": "stream",
     "text": [
      "There is a series whose number doesn't match the others in class 00033 , with the prefix 00019 !\n",
      "It only contains 29 images.\n",
      "All the other series of images contain exactly 30 images!\n"
     ]
    }
   ],
   "source": [
    "#checking the size(=amount of images) of these series and whether they are all having the same size\n",
    "\n",
    "#running a for loop over all classes\n",
    "for i in range(len(all_classes)):\n",
    "    directory = base_training_dir + \"/\" + all_classes[i]\n",
    "    \n",
    "    #get the names of all images within a class\n",
    "    list_of_images = sorted(i for i in os.listdir(directory) if i.startswith(\"0\"))\n",
    "\n",
    "    image_series = []\n",
    "    \n",
    "    #store all the prefixes of the images (which correspond to the series they belong to)\n",
    "    for element in list_of_images:\n",
    "        image_series.append(element.split(\"_\")[0])\n",
    "    \n",
    "    #count the frequency of each prefix, which equals the size of each respective series\n",
    "    image_counts = pd.Series(image_series).value_counts().sort_index()\n",
    "\n",
    "    for element in image_counts.values.tolist():\n",
    "        if element != image_counts.values.tolist()[0]:\n",
    "            #this line will show if there is a series that contains not the same number of images than the others\n",
    "            print(\"There is a series whose number doesn't match the others in class\", all_classes[i], \", with the prefix\", image_counts.sort_values().index[0], \"!\\nIt only contains\", element, \"images.\")\n",
    "            \n",
    "\n",
    "#apart from only one series, all others consist of exactly 30 images\n",
    "print(\"All the other series of images contain exactly\", image_counts.values.tolist()[0], \"images!\")"
   ]
  },
  {
   "cell_type": "markdown",
   "id": "insured-spencer",
   "metadata": {},
   "source": [
    "## Split into training and validation datasets"
   ]
  },
  {
   "cell_type": "markdown",
   "id": "flexible-sympathy",
   "metadata": {},
   "source": [
    "As already mentioned, it is important for the split into training and validation sets that the individual image series stay together. As a first approach, there will be 210 images used per class, as this number corresponds to the amount of images in the \"smallest\" class. This will fix the problem of imbalance in the dataset. Subsequently, the data will be splitted by a 5:2 (150:60) ratio into training and validation set, in order to guarantee that the series will stay together."
   ]
  },
  {
   "cell_type": "code",
   "execution_count": 4,
   "id": "reported-break",
   "metadata": {},
   "outputs": [],
   "source": [
    "new_train_dir = \"/Users/henriquevaz/NOVA IMS/YEAR 1/SPRING SEMESTER/DL/Project/my_notebooks/Data/Selected/train_all\"\n",
    "new_val_dir = \"/Users/henriquevaz/NOVA IMS/YEAR 1/SPRING SEMESTER/DL/Project/my_notebooks/Data/Selected/val_all\""
   ]
  },
  {
   "cell_type": "code",
   "execution_count": 61,
   "id": "norman-broad",
   "metadata": {},
   "outputs": [],
   "source": [
    "for i in range(len(all_classes)):\n",
    "    os.mkdir(new_train_dir + \"/\" + all_classes[i])\n",
    "    os.mkdir(new_val_dir + \"/\" + all_classes[i])"
   ]
  },
  {
   "cell_type": "code",
   "execution_count": 62,
   "id": "superior-earthquake",
   "metadata": {},
   "outputs": [],
   "source": [
    "import random\n",
    "\n",
    "for i in range(len(all_classes)):\n",
    "    \n",
    "    list_ = os.listdir(base_training_dir + \"/\" + all_classes[i])\n",
    "    random.shuffle(list_)\n",
    "    new_list = []\n",
    "    for element in list_:\n",
    "        if element.startswith(\"000\"):\n",
    "            new_list.append(element)\n",
    "    \n",
    "    new_list = sorted(new_list)\n",
    "    for image in range(len(new_list)):\n",
    "        \n",
    "        \n",
    "        #setting the cut off according to the next closest number in steps of 30 according to a 70:30 ratio\n",
    "        if len(new_list) == 210 or len(new_list) == 240:\n",
    "            cut = 60\n",
    "        elif len(new_list) == 270 or len(new_list) == 300 or len(new_list) == 330:\n",
    "            cut = 90\n",
    "        elif len(new_list) == 360 or len(new_list) == 390 or len(new_list) == 420:\n",
    "            cut = 120\n",
    "        elif len(new_list) == 450 or len(new_list) == 510 or len(new_list) == 540:\n",
    "            cut = 150\n",
    "        elif len(new_list) == 600 or len(new_list) == 630:\n",
    "            cut = 180\n",
    "        elif len(new_list) == 689:\n",
    "            cut = 210 - 1\n",
    "        elif len(new_list) == 780:\n",
    "            cut = 240\n",
    "        elif len(new_list) == 1110:\n",
    "            cut = 330\n",
    "        elif len(new_list) == 1200:\n",
    "            cut = 360\n",
    "        elif len(new_list) == 1320:\n",
    "            cut = 390\n",
    "        elif len(new_list) == 1410 or len(new_list) == 1440:\n",
    "            cut = 420\n",
    "        elif len(new_list) == 1470 or len(new_list) == 1500:\n",
    "            cut = 450\n",
    "        elif len(new_list) == 1860:\n",
    "            cut = 570\n",
    "        elif len(new_list) == 1980 or len(new_list) == 2010:\n",
    "            cut = 600\n",
    "        elif len(new_list) == 2070 or len(new_list) == 2100:\n",
    "            cut = 630\n",
    "        elif len(new_list) == 2160 or len(new_list) == 2220:\n",
    "            cut = 660\n",
    "        elif len(new_list) == 2250:\n",
    "            cut = 690\n",
    "         \n",
    "        \n",
    "        if image < len(new_list) - cut:\n",
    "            \n",
    "            src = base_training_dir + \"/\" + all_classes[i] + \"/\" + new_list[image]\n",
    "            dst = new_train_dir + \"/\" + all_classes[i] + \"/\"  + new_list[image]\n",
    "            shutil.copyfile(src, dst)\n",
    "            \n",
    "        else:\n",
    "            src = base_training_dir + \"/\" + all_classes[i] + \"/\" + new_list[image]\n",
    "            dst = new_val_dir + \"/\" + all_classes[i] + \"/\"  + new_list[image]\n",
    "            shutil.copyfile(src, dst)"
   ]
  },
  {
   "cell_type": "code",
   "execution_count": 117,
   "id": "precious-society",
   "metadata": {},
   "outputs": [
    {
     "name": "stdout",
     "output_type": "stream",
     "text": [
      "Class 0 : training set size = 150 ; validation set size: 60\n",
      "Class 1 : training set size = 1560 ; validation set size: 660\n",
      "Class 2 : training set size = 1560 ; validation set size: 690\n",
      "Class 3 : training set size = 990 ; validation set size: 420\n",
      "Class 4 : training set size = 1380 ; validation set size: 600\n",
      "Class 5 : training set size = 1290 ; validation set size: 570\n",
      "Class 6 : training set size = 300 ; validation set size: 120\n",
      "Class 7 : training set size = 1020 ; validation set size: 420\n",
      "Class 8 : training set size = 990 ; validation set size: 420\n",
      "Class 9 : training set size = 1020 ; validation set size: 450\n",
      "Class 10 : training set size = 1410 ; validation set size: 600\n",
      "Class 11 : training set size = 930 ; validation set size: 390\n",
      "Class 12 : training set size = 1470 ; validation set size: 630\n",
      "Class 13 : training set size = 1500 ; validation set size: 660\n",
      "Class 14 : training set size = 540 ; validation set size: 240\n",
      "Class 15 : training set size = 450 ; validation set size: 180\n",
      "Class 16 : training set size = 300 ; validation set size: 120\n",
      "Class 17 : training set size = 780 ; validation set size: 330\n",
      "Class 18 : training set size = 840 ; validation set size: 360\n",
      "Class 19 : training set size = 150 ; validation set size: 60\n",
      "Class 20 : training set size = 240 ; validation set size: 120\n",
      "Class 21 : training set size = 240 ; validation set size: 90\n",
      "Class 22 : training set size = 270 ; validation set size: 120\n",
      "Class 23 : training set size = 360 ; validation set size: 150\n",
      "Class 24 : training set size = 180 ; validation set size: 90\n",
      "Class 25 : training set size = 1050 ; validation set size: 450\n",
      "Class 26 : training set size = 420 ; validation set size: 180\n",
      "Class 27 : training set size = 180 ; validation set size: 60\n",
      "Class 28 : training set size = 390 ; validation set size: 150\n",
      "Class 29 : training set size = 180 ; validation set size: 90\n",
      "Class 30 : training set size = 300 ; validation set size: 150\n",
      "Class 31 : training set size = 540 ; validation set size: 240\n",
      "Class 32 : training set size = 180 ; validation set size: 60\n",
      "Class 33 : training set size = 480 ; validation set size: 209\n",
      "Class 34 : training set size = 300 ; validation set size: 120\n",
      "Class 35 : training set size = 840 ; validation set size: 360\n",
      "Class 36 : training set size = 270 ; validation set size: 120\n",
      "Class 37 : training set size = 150 ; validation set size: 60\n",
      "Class 38 : training set size = 1440 ; validation set size: 630\n",
      "Class 39 : training set size = 210 ; validation set size: 90\n",
      "Class 40 : training set size = 240 ; validation set size: 120\n",
      "Class 41 : training set size = 180 ; validation set size: 60\n",
      "Class 42 : training set size = 180 ; validation set size: 60\n"
     ]
    }
   ],
   "source": [
    "size_per_class_list = []\n",
    "\n",
    "for i in range(len(all_classes)):\n",
    "    size_per_class_list.append([len(os.listdir(new_train_dir + \"/\" + all_classes[i])), len(os.listdir(new_val_dir + \"/\" + all_classes[i]))])\n",
    "    print(\"Class\", i, \": training set size =\", len(os.listdir(new_train_dir + \"/\" + all_classes[i])), \"; validation set size:\", len(os.listdir(new_val_dir + \"/\" + all_classes[i])))"
   ]
  },
  {
   "cell_type": "markdown",
   "id": "permanent-speed",
   "metadata": {},
   "source": [
    "Now, there should be exactly 150 images within the train folder of each class and 60 images within the validation folder. Having 43 different classes, this means that there are a total of 6,450 (150x43) training images and another 2,580 (60x43) validation images. A sanity check will show if this worked correctly:"
   ]
  },
  {
   "cell_type": "markdown",
   "id": "based-jamaica",
   "metadata": {},
   "source": [
    "As it can be seen, it worked correctly!"
   ]
  },
  {
   "cell_type": "markdown",
   "id": "floating-supplier",
   "metadata": {},
   "source": [
    "## Data Preprocessing"
   ]
  },
  {
   "cell_type": "markdown",
   "id": "aerial-speed",
   "metadata": {},
   "source": [
    "After running the upper part once, the notebook can be started from here from now on:"
   ]
  },
  {
   "cell_type": "code",
   "execution_count": 1,
   "id": "ready-dialogue",
   "metadata": {
    "scrolled": true
   },
   "outputs": [],
   "source": [
    "#this cell is optional and the notebook should be runned from here once the upper part has been executed once\n",
    "\n",
    "import os, shutil\n",
    "import pandas as pd\n",
    "import seaborn as sns\n",
    "import matplotlib.pyplot as plt\n",
    "import tensorflow as tf"
   ]
  },
  {
   "cell_type": "code",
   "execution_count": 5,
   "id": "foster-vampire",
   "metadata": {},
   "outputs": [],
   "source": [
    "train_dir = new_train_dir\n",
    "validation_dir = new_val_dir"
   ]
  },
  {
   "cell_type": "code",
   "execution_count": 6,
   "id": "increasing-creature",
   "metadata": {},
   "outputs": [
    {
     "name": "stdout",
     "output_type": "stream",
     "text": [
      "Found 27450 images belonging to 43 classes.\n",
      "Found 11759 images belonging to 43 classes.\n"
     ]
    }
   ],
   "source": [
    "from tensorflow.keras.preprocessing.image import ImageDataGenerator\n",
    "\n",
    "train_datagen = ImageDataGenerator(rescale=1./255)\n",
    "test_datagen = ImageDataGenerator(rescale=1./255)\n",
    "\n",
    "train_generator = train_datagen.flow_from_directory(\n",
    "    train_dir,\n",
    "    target_size=(100,100),\n",
    "    batch_size=20,\n",
    "    class_mode=\"categorical\",\n",
    "    color_mode=\"grayscale\"\n",
    "    )\n",
    "\n",
    "validation_generator = test_datagen.flow_from_directory(\n",
    "    validation_dir,\n",
    "    target_size=(100,100),\n",
    "    batch_size=20,\n",
    "    class_mode=\"categorical\",\n",
    "    color_mode=\"grayscale\"\n",
    "    )"
   ]
  },
  {
   "cell_type": "code",
   "execution_count": 7,
   "id": "second-taste",
   "metadata": {},
   "outputs": [
    {
     "name": "stdout",
     "output_type": "stream",
     "text": [
      "data batch shape: (20, 100, 100, 1)\n",
      "labels batch shape: (20, 43)\n"
     ]
    }
   ],
   "source": [
    "import sys\n",
    "from PIL import Image\n",
    "sys.modules['Image'] = Image\n",
    "\n",
    "for data_batch, labels_batch in train_generator:\n",
    "    print('data batch shape:', data_batch.shape)\n",
    "    print('labels batch shape:', labels_batch.shape)\n",
    "    break"
   ]
  },
  {
   "cell_type": "markdown",
   "id": "expected-closer",
   "metadata": {},
   "source": [
    "## Draft of the model"
   ]
  },
  {
   "cell_type": "markdown",
   "id": "raising-revelation",
   "metadata": {},
   "source": [
    "### Base model"
   ]
  },
  {
   "cell_type": "code",
   "execution_count": 10,
   "id": "light-pepper",
   "metadata": {},
   "outputs": [],
   "source": [
    "from tensorflow.keras import layers\n",
    "from tensorflow.keras import models\n",
    "\n",
    "model = models.Sequential()\n",
    "model.add(layers.Conv2D(32, (2, 2), activation='relu', input_shape=(100, 100, 1)))\n",
    "model.add(layers.MaxPooling2D((2, 2)))\n",
    "model.add(layers.Dropout(0.25))\n",
    "model.add(layers.Conv2D(64, (3, 3), activation='relu'))\n",
    "model.add(layers.MaxPooling2D((2, 2) ))\n",
    "model.add(layers.Dropout(0.25))\n",
    "model.add(layers.Conv2D(128, (4, 4), activation='relu'))\n",
    "model.add(layers.MaxPooling2D((2, 2) ))\n",
    "model.add(layers.Dropout(0.25))\n",
    "model.add(layers.Flatten())\n",
    "model.add(layers.Dense(512, activation='relu'))\n",
    "model.add(layers.Dropout(0.5))\n",
    "model.add(layers.Dense (43, activation='softmax'))"
   ]
  },
  {
   "cell_type": "code",
   "execution_count": 11,
   "id": "needed-internet",
   "metadata": {},
   "outputs": [
    {
     "name": "stdout",
     "output_type": "stream",
     "text": [
      "Model: \"sequential_1\"\n",
      "_________________________________________________________________\n",
      "Layer (type)                 Output Shape              Param #   \n",
      "=================================================================\n",
      "conv2d_3 (Conv2D)            (None, 99, 99, 32)        160       \n",
      "_________________________________________________________________\n",
      "max_pooling2d_3 (MaxPooling2 (None, 49, 49, 32)        0         \n",
      "_________________________________________________________________\n",
      "dropout_4 (Dropout)          (None, 49, 49, 32)        0         \n",
      "_________________________________________________________________\n",
      "conv2d_4 (Conv2D)            (None, 47, 47, 64)        18496     \n",
      "_________________________________________________________________\n",
      "max_pooling2d_4 (MaxPooling2 (None, 23, 23, 64)        0         \n",
      "_________________________________________________________________\n",
      "dropout_5 (Dropout)          (None, 23, 23, 64)        0         \n",
      "_________________________________________________________________\n",
      "conv2d_5 (Conv2D)            (None, 20, 20, 128)       131200    \n",
      "_________________________________________________________________\n",
      "max_pooling2d_5 (MaxPooling2 (None, 10, 10, 128)       0         \n",
      "_________________________________________________________________\n",
      "dropout_6 (Dropout)          (None, 10, 10, 128)       0         \n",
      "_________________________________________________________________\n",
      "flatten_1 (Flatten)          (None, 12800)             0         \n",
      "_________________________________________________________________\n",
      "dense_2 (Dense)              (None, 512)               6554112   \n",
      "_________________________________________________________________\n",
      "dropout_7 (Dropout)          (None, 512)               0         \n",
      "_________________________________________________________________\n",
      "dense_3 (Dense)              (None, 43)                22059     \n",
      "=================================================================\n",
      "Total params: 6,726,027\n",
      "Trainable params: 6,726,027\n",
      "Non-trainable params: 0\n",
      "_________________________________________________________________\n"
     ]
    }
   ],
   "source": [
    "model.summary()"
   ]
  },
  {
   "cell_type": "code",
   "execution_count": 12,
   "id": "hairy-juice",
   "metadata": {},
   "outputs": [],
   "source": [
    "from tensorflow.keras import optimizers\n",
    "\n",
    "#compilation\n",
    "model.compile(loss=\"categorical_crossentropy\", optimizer=optimizers.RMSprop(lr=1e-4), metrics=[\"acc\"])"
   ]
  },
  {
   "cell_type": "code",
   "execution_count": 14,
   "id": "frozen-porcelain",
   "metadata": {
    "scrolled": true
   },
   "outputs": [
    {
     "name": "stdout",
     "output_type": "stream",
     "text": [
      "Epoch 1/50\n",
      "1373/1373 [==============================] - 91s 66ms/step - loss: 16049.1621 - acc: 0.3736 - val_loss: 7153.6221 - val_acc: 0.6472\n",
      "Epoch 2/50\n",
      "1373/1373 [==============================] - 92s 67ms/step - loss: 30318.6660 - acc: 0.4251 - val_loss: 14657.0479 - val_acc: 0.6455\n",
      "Epoch 3/50\n",
      "1373/1373 [==============================] - 90s 66ms/step - loss: 65191.9727 - acc: 0.4248 - val_loss: 35605.9219 - val_acc: 0.6320\n",
      "Epoch 4/50\n",
      "1373/1373 [==============================] - 92s 67ms/step - loss: 115154.0469 - acc: 0.4372 - val_loss: 54073.0664 - val_acc: 0.6558\n",
      "Epoch 5/50\n",
      "1373/1373 [==============================] - 92s 67ms/step - loss: 175486.6406 - acc: 0.4576 - val_loss: 68452.1797 - val_acc: 0.7100\n",
      "Epoch 6/50\n",
      "1373/1373 [==============================] - 89s 65ms/step - loss: 239612.9844 - acc: 0.4780 - val_loss: 115673.1094 - val_acc: 0.6887\n",
      "Epoch 7/50\n",
      "1373/1373 [==============================] - 89s 65ms/step - loss: 350921.0625 - acc: 0.4794 - val_loss: 187002.9375 - val_acc: 0.6786\n",
      "Epoch 8/50\n",
      "1373/1373 [==============================] - 89s 65ms/step - loss: 459153.6875 - acc: 0.4933 - val_loss: 220716.5000 - val_acc: 0.7001\n",
      "Epoch 9/50\n",
      "1373/1373 [==============================] - 338s 246ms/step - loss: 547457.0625 - acc: 0.5113 - val_loss: 258324.0312 - val_acc: 0.7017\n",
      "Epoch 10/50\n",
      "1373/1373 [==============================] - 97s 70ms/step - loss: 628074.2500 - acc: 0.5302 - val_loss: 335969.7812 - val_acc: 0.7063\n",
      "Epoch 11/50\n",
      "1373/1373 [==============================] - 93s 68ms/step - loss: 731554.3125 - acc: 0.5418 - val_loss: 402160.0000 - val_acc: 0.7067\n",
      "Epoch 12/50\n",
      "1373/1373 [==============================] - 93s 67ms/step - loss: 810200.0625 - acc: 0.5546 - val_loss: 456480.1562 - val_acc: 0.7190\n",
      "Epoch 13/50\n",
      "1373/1373 [==============================] - 90s 65ms/step - loss: 859195.3750 - acc: 0.5686 - val_loss: 515008.4375 - val_acc: 0.7337\n",
      "Epoch 14/50\n",
      "1373/1373 [==============================] - 92s 67ms/step - loss: 932927.2500 - acc: 0.5773 - val_loss: 554929.1250 - val_acc: 0.7422\n",
      "Epoch 15/50\n",
      "1373/1373 [==============================] - 91s 66ms/step - loss: 1001490.1875 - acc: 0.5906 - val_loss: 639099.0000 - val_acc: 0.7342\n",
      "Epoch 16/50\n",
      "1373/1373 [==============================] - 91s 66ms/step - loss: 1012970.9375 - acc: 0.6026 - val_loss: 682177.5625 - val_acc: 0.7443\n",
      "Epoch 17/50\n",
      "1373/1373 [==============================] - 92s 67ms/step - loss: 1053006.7500 - acc: 0.6057 - val_loss: 773011.1250 - val_acc: 0.7081\n",
      "Epoch 18/50\n",
      "1373/1373 [==============================] - 89s 65ms/step - loss: 1089689.1250 - acc: 0.6188 - val_loss: 808466.8750 - val_acc: 0.7526\n",
      "Epoch 19/50\n",
      "1373/1373 [==============================] - 89s 65ms/step - loss: 1099390.8750 - acc: 0.6275 - val_loss: 904612.8125 - val_acc: 0.7244\n",
      "Epoch 20/50\n",
      "1373/1373 [==============================] - 91s 67ms/step - loss: 1076115.0000 - acc: 0.6390 - val_loss: 831615.7500 - val_acc: 0.7405\n",
      "Epoch 21/50\n",
      "1373/1373 [==============================] - 90s 66ms/step - loss: 980535.2500 - acc: 0.6566 - val_loss: 815893.0625 - val_acc: 0.7545\n",
      "Epoch 22/50\n",
      "1373/1373 [==============================] - 90s 66ms/step - loss: 962249.5625 - acc: 0.6575 - val_loss: 875917.4375 - val_acc: 0.7485\n",
      "Epoch 23/50\n",
      "1373/1373 [==============================] - 92s 67ms/step - loss: 970156.1250 - acc: 0.6639 - val_loss: 846121.1875 - val_acc: 0.7712\n",
      "Epoch 24/50\n",
      "1373/1373 [==============================] - 90s 66ms/step - loss: 935508.0000 - acc: 0.6758 - val_loss: 889551.0625 - val_acc: 0.7491\n",
      "Epoch 25/50\n",
      "1373/1373 [==============================] - 91s 67ms/step - loss: 962512.2500 - acc: 0.6737 - val_loss: 958276.0000 - val_acc: 0.7626\n",
      "Epoch 26/50\n",
      "1373/1373 [==============================] - 90s 66ms/step - loss: 976077.8750 - acc: 0.6813 - val_loss: 959667.1250 - val_acc: 0.7793\n",
      "Epoch 27/50\n",
      "1373/1373 [==============================] - 91s 66ms/step - loss: 1047576.1250 - acc: 0.6781 - val_loss: 1078322.7500 - val_acc: 0.7711\n",
      "Epoch 28/50\n",
      "1373/1373 [==============================] - 91s 66ms/step - loss: 1153736.6250 - acc: 0.6715 - val_loss: 1073119.3750 - val_acc: 0.7474\n",
      "Epoch 29/50\n",
      "1373/1373 [==============================] - 90s 65ms/step - loss: 1144308.5000 - acc: 0.6783 - val_loss: 1187319.5000 - val_acc: 0.7700\n",
      "Epoch 30/50\n",
      "1373/1373 [==============================] - 93s 68ms/step - loss: 1129915.2500 - acc: 0.6831 - val_loss: 1140913.3750 - val_acc: 0.7834\n",
      "Epoch 31/50\n",
      "1373/1373 [==============================] - 91s 66ms/step - loss: 1109563.5000 - acc: 0.6836 - val_loss: 1200861.6250 - val_acc: 0.7644\n",
      "Epoch 32/50\n",
      "1373/1373 [==============================] - 90s 66ms/step - loss: 1053211.3750 - acc: 0.6962 - val_loss: 1153542.0000 - val_acc: 0.7668\n",
      "Epoch 33/50\n",
      "1373/1373 [==============================] - 92s 67ms/step - loss: 1136936.7500 - acc: 0.6918 - val_loss: 1467957.7500 - val_acc: 0.7064\n",
      "Epoch 34/50\n",
      "1373/1373 [==============================] - 89s 65ms/step - loss: 1055297.0000 - acc: 0.7023 - val_loss: 1354374.3750 - val_acc: 0.7755\n",
      "Epoch 35/50\n",
      "1373/1373 [==============================] - 91s 66ms/step - loss: 1058443.0000 - acc: 0.7028 - val_loss: 1300268.3750 - val_acc: 0.7681\n",
      "Epoch 36/50\n",
      "1373/1373 [==============================] - 89s 65ms/step - loss: 1006087.9375 - acc: 0.7132 - val_loss: 1437234.0000 - val_acc: 0.7450\n",
      "Epoch 37/50\n",
      "1373/1373 [==============================] - 90s 65ms/step - loss: 969420.6250 - acc: 0.7134 - val_loss: 1274356.1250 - val_acc: 0.7890\n",
      "Epoch 38/50\n",
      "1373/1373 [==============================] - 94s 69ms/step - loss: 940337.2500 - acc: 0.7197 - val_loss: 1324769.8750 - val_acc: 0.7988\n",
      "Epoch 39/50\n",
      "1373/1373 [==============================] - 91s 66ms/step - loss: 967943.3125 - acc: 0.7230 - val_loss: 1392589.0000 - val_acc: 0.8012\n",
      "Epoch 40/50\n",
      "1373/1373 [==============================] - 89s 65ms/step - loss: 972872.6250 - acc: 0.7256 - val_loss: 1411260.5000 - val_acc: 0.7835\n",
      "Epoch 41/50\n",
      "1373/1373 [==============================] - 89s 65ms/step - loss: 959287.3750 - acc: 0.7280 - val_loss: 1435864.2500 - val_acc: 0.7724\n",
      "Epoch 42/50\n",
      "1373/1373 [==============================] - 89s 65ms/step - loss: 915338.4375 - acc: 0.7298 - val_loss: 1412873.1250 - val_acc: 0.7870\n",
      "Epoch 43/50\n",
      "1373/1373 [==============================] - 90s 65ms/step - loss: 932434.7500 - acc: 0.7312 - val_loss: 1435838.3750 - val_acc: 0.7762\n",
      "Epoch 44/50\n",
      "1373/1373 [==============================] - 89s 64ms/step - loss: 1011839.0625 - acc: 0.7273 - val_loss: 1467906.3750 - val_acc: 0.7851\n",
      "Epoch 45/50\n",
      "1373/1373 [==============================] - 90s 66ms/step - loss: 994450.7500 - acc: 0.7336 - val_loss: 1644008.6250 - val_acc: 0.7311\n",
      "Epoch 46/50\n",
      "1373/1373 [==============================] - 91s 67ms/step - loss: 996109.6250 - acc: 0.7358 - val_loss: 1444662.1250 - val_acc: 0.7926\n",
      "Epoch 47/50\n",
      "1373/1373 [==============================] - 92s 67ms/step - loss: 986939.0625 - acc: 0.7374 - val_loss: 1644223.3750 - val_acc: 0.8136\n",
      "Epoch 48/50\n",
      "1373/1373 [==============================] - 89s 64ms/step - loss: 967318.6250 - acc: 0.7437 - val_loss: 1521160.3750 - val_acc: 0.8154\n",
      "Epoch 49/50\n",
      "1373/1373 [==============================] - 88s 64ms/step - loss: 956130.3750 - acc: 0.7411 - val_loss: 1488081.3750 - val_acc: 0.8139\n",
      "Epoch 50/50\n",
      "1373/1373 [==============================] - 90s 66ms/step - loss: 919619.5000 - acc: 0.7455 - val_loss: 1557749.6250 - val_acc: 0.7820\n"
     ]
    }
   ],
   "source": [
    "history = model.fit(\n",
    "    train_generator,\n",
    "    epochs=50,\n",
    "    validation_data=validation_generator,\n",
    "    )"
   ]
  },
  {
   "cell_type": "code",
   "execution_count": 17,
   "id": "brave-participation",
   "metadata": {
    "scrolled": true
   },
   "outputs": [
    {
     "name": "stdout",
     "output_type": "stream",
     "text": [
      "WARNING:tensorflow:FOR KERAS USERS: The object that you are saving contains one or more Keras models or layers. If you are loading the SavedModel with `tf.keras.models.load_model`, continue reading (otherwise, you may ignore the following instructions). Please change your code to save with `tf.keras.models.save_model` or `model.save`, and confirm that the file \"keras.metadata\" exists in the export directory. In the future, Keras will only load the SavedModels that have this file. In other words, `tf.saved_model.save` will no longer write SavedModels that can be recovered as Keras models (this will apply in TF 2.5).\n",
      "\n",
      "FOR DEVS: If you are overwriting _tracking_metadata in your class, this property has been used to save metadata in the SavedModel. The metadta field will be deprecated soon, so please move the metadata to a different file.\n",
      "INFO:tensorflow:Assets written to: model_all_data_dropout_0_5_new_convlayer_grayscale_more_ropout_layers_up/assets\n"
     ]
    }
   ],
   "source": [
    "model.save('model_all_data_dropout_0_5_new_convlayer_grayscale_more_ropout_layers_up')"
   ]
  },
  {
   "cell_type": "code",
   "execution_count": 20,
   "id": "unauthorized-iceland",
   "metadata": {},
   "outputs": [],
   "source": [
    "save_hist_to_excel('history_model_all_data_dropout_0_5_new_convlayer_grayscale_mored_ropout_layers_up')"
   ]
  },
  {
   "cell_type": "code",
   "execution_count": 21,
   "id": "sophisticated-romania",
   "metadata": {},
   "outputs": [
    {
     "data": {
      "image/png": "[encoded data removed]",
      "text/plain": [
       "<Figure size 432x288 with 1 Axes>"
      ]
     },
     "metadata": {
      "needs_background": "light"
     },
     "output_type": "display_data"
    },
    {
     "data": {
      "image/png": "[encoded data removed]",
      "text/plain": [
       "<Figure size 432x288 with 1 Axes>"
      ]
     },
     "metadata": {
      "needs_background": "light"
     },
     "output_type": "display_data"
    }
   ],
   "source": [
    "#Displaying curves of loss and accuracy during training\n",
    "\n",
    "import matplotlib.pyplot as plt\n",
    "\n",
    "acc = history.history[\"acc\"]\n",
    "val_acc = history.history[\"val_acc\"]\n",
    "loss = history.history[\"loss\"]\n",
    "val_loss = history.history[\"val_loss\"]\n",
    "\n",
    "epochs = range(1, len(acc) + 1)\n",
    "\n",
    "plt.plot(epochs, acc, \"bo\", label=\"Training acc\")\n",
    "plt.plot(epochs, val_acc, \"b\", label=\"Validation acc\")\n",
    "plt.title(\"Training and validation accuracy\")\n",
    "plt.legend()\n",
    "\n",
    "plt.show()\n",
    "\n",
    "plt.plot(epochs, loss, \"bo\", label=\"Training loss\")\n",
    "plt.plot(epochs, val_loss, \"b\", label=\"Validation loss\")\n",
    "plt.title(\"Training and validation loss\")\n",
    "plt.legend()\n",
    "\n",
    "plt.show()"
   ]
  },
  {
   "cell_type": "markdown",
   "id": "possible-boundary",
   "metadata": {},
   "source": [
    "### Reduce dropout rates"
   ]
  },
  {
   "cell_type": "code",
   "execution_count": 22,
   "id": "forward-priority",
   "metadata": {},
   "outputs": [],
   "source": [
    "from tensorflow.keras import layers\n",
    "from tensorflow.keras import models\n",
    "\n",
    "model = models.Sequential()\n",
    "model.add(layers.Conv2D(32, (2, 2), activation='relu', input_shape=(100, 100, 1)))\n",
    "model.add(layers.MaxPooling2D((2, 2)))\n",
    "model.add(layers.Dropout(0.15))\n",
    "model.add(layers.Conv2D(64, (3, 3), activation='relu'))\n",
    "model.add(layers.MaxPooling2D((2, 2) ))\n",
    "model.add(layers.Dropout(0.1))\n",
    "model.add(layers.Conv2D(128, (4, 4), activation='relu'))\n",
    "model.add(layers.MaxPooling2D((2, 2) ))\n",
    "model.add(layers.Dropout(0.1))\n",
    "model.add(layers.Flatten())\n",
    "model.add(layers.Dense(512, activation='relu'))\n",
    "model.add(layers.Dropout(0.3))\n",
    "model.add(layers.Dense (43, activation='softmax'))"
   ]
  },
  {
   "cell_type": "code",
   "execution_count": 23,
   "id": "assigned-policy",
   "metadata": {},
   "outputs": [
    {
     "name": "stdout",
     "output_type": "stream",
     "text": [
      "Model: \"sequential_2\"\n",
      "_________________________________________________________________\n",
      "Layer (type)                 Output Shape              Param #   \n",
      "=================================================================\n",
      "conv2d_6 (Conv2D)            (None, 99, 99, 32)        160       \n",
      "_________________________________________________________________\n",
      "max_pooling2d_6 (MaxPooling2 (None, 49, 49, 32)        0         \n",
      "_________________________________________________________________\n",
      "dropout_8 (Dropout)          (None, 49, 49, 32)        0         \n",
      "_________________________________________________________________\n",
      "conv2d_7 (Conv2D)            (None, 47, 47, 64)        18496     \n",
      "_________________________________________________________________\n",
      "max_pooling2d_7 (MaxPooling2 (None, 23, 23, 64)        0         \n",
      "_________________________________________________________________\n",
      "dropout_9 (Dropout)          (None, 23, 23, 64)        0         \n",
      "_________________________________________________________________\n",
      "conv2d_8 (Conv2D)            (None, 20, 20, 128)       131200    \n",
      "_________________________________________________________________\n",
      "max_pooling2d_8 (MaxPooling2 (None, 10, 10, 128)       0         \n",
      "_________________________________________________________________\n",
      "dropout_10 (Dropout)         (None, 10, 10, 128)       0         \n",
      "_________________________________________________________________\n",
      "flatten_2 (Flatten)          (None, 12800)             0         \n",
      "_________________________________________________________________\n",
      "dense_4 (Dense)              (None, 512)               6554112   \n",
      "_________________________________________________________________\n",
      "dropout_11 (Dropout)         (None, 512)               0         \n",
      "_________________________________________________________________\n",
      "dense_5 (Dense)              (None, 43)                22059     \n",
      "=================================================================\n",
      "Total params: 6,726,027\n",
      "Trainable params: 6,726,027\n",
      "Non-trainable params: 0\n",
      "_________________________________________________________________\n"
     ]
    }
   ],
   "source": [
    "model.summary()"
   ]
  },
  {
   "cell_type": "code",
   "execution_count": 24,
   "id": "younger-arabic",
   "metadata": {},
   "outputs": [],
   "source": [
    "from tensorflow.keras import optimizers\n",
    "\n",
    "#compilation\n",
    "model.compile(loss=\"categorical_crossentropy\", optimizer=optimizers.RMSprop(lr=1e-4), metrics=[\"acc\"])"
   ]
  },
  {
   "cell_type": "code",
   "execution_count": 25,
   "id": "simplified-hundred",
   "metadata": {},
   "outputs": [
    {
     "name": "stdout",
     "output_type": "stream",
     "text": [
      "Epoch 1/50\n",
      "1373/1373 [==============================] - 90s 65ms/step - loss: 3.2116 - acc: 0.2319 - val_loss: 2.6278 - val_acc: 0.7453\n",
      "Epoch 2/50\n",
      "1373/1373 [==============================] - 89s 65ms/step - loss: 16.6489 - acc: 0.5878 - val_loss: 29.2488 - val_acc: 0.7707\n",
      "Epoch 3/50\n",
      "1373/1373 [==============================] - 91s 66ms/step - loss: 85.4710 - acc: 0.6550 - val_loss: 88.7993 - val_acc: 0.8172\n",
      "Epoch 4/50\n",
      "1373/1373 [==============================] - 90s 65ms/step - loss: 250.4916 - acc: 0.6962 - val_loss: 239.7944 - val_acc: 0.8218\n",
      "Epoch 5/50\n",
      "1373/1373 [==============================] - 93s 67ms/step - loss: 535.0765 - acc: 0.7197 - val_loss: 576.9066 - val_acc: 0.8061\n",
      "Epoch 6/50\n",
      "1373/1373 [==============================] - 93s 68ms/step - loss: 1028.1485 - acc: 0.7376 - val_loss: 1059.4622 - val_acc: 0.8167\n",
      "Epoch 7/50\n",
      "1373/1373 [==============================] - 93s 68ms/step - loss: 1695.9180 - acc: 0.7540 - val_loss: 1892.6028 - val_acc: 0.8234\n",
      "Epoch 8/50\n",
      "1373/1373 [==============================] - 92s 67ms/step - loss: 2719.3853 - acc: 0.7562 - val_loss: 2715.1453 - val_acc: 0.8295\n",
      "Epoch 9/50\n",
      "1373/1373 [==============================] - 91s 66ms/step - loss: 3923.5963 - acc: 0.7651 - val_loss: 3905.5320 - val_acc: 0.8424\n",
      "Epoch 10/50\n",
      "1373/1373 [==============================] - 91s 66ms/step - loss: 5545.4730 - acc: 0.7719 - val_loss: 5837.8477 - val_acc: 0.8479\n",
      "Epoch 11/50\n",
      "1373/1373 [==============================] - 90s 66ms/step - loss: 7723.6074 - acc: 0.7777 - val_loss: 7444.4673 - val_acc: 0.8484\n",
      "Epoch 12/50\n",
      "1373/1373 [==============================] - 89s 65ms/step - loss: 8609.0607 - acc: 0.7969 - val_loss: 9931.4307 - val_acc: 0.8451\n",
      "Epoch 13/50\n",
      "1373/1373 [==============================] - 89s 65ms/step - loss: 10602.9336 - acc: 0.8014 - val_loss: 12521.5781 - val_acc: 0.8457\n",
      "Epoch 14/50\n",
      "1373/1373 [==============================] - 90s 65ms/step - loss: 12676.0618 - acc: 0.8126 - val_loss: 13825.6357 - val_acc: 0.8511\n",
      "Epoch 15/50\n",
      "1373/1373 [==============================] - 89s 65ms/step - loss: 13289.4192 - acc: 0.8257 - val_loss: 15661.7441 - val_acc: 0.8672\n",
      "Epoch 16/50\n",
      "1373/1373 [==============================] - 91s 66ms/step - loss: 13980.1001 - acc: 0.8376 - val_loss: 18482.3926 - val_acc: 0.8681\n",
      "Epoch 17/50\n",
      "1373/1373 [==============================] - 89s 65ms/step - loss: 15677.8706 - acc: 0.8407 - val_loss: 22315.4512 - val_acc: 0.8610\n",
      "Epoch 18/50\n",
      "1373/1373 [==============================] - 89s 65ms/step - loss: 18080.7561 - acc: 0.8369 - val_loss: 25335.7715 - val_acc: 0.8690\n",
      "Epoch 19/50\n",
      "1373/1373 [==============================] - 90s 65ms/step - loss: 18824.8764 - acc: 0.8539 - val_loss: 29894.6230 - val_acc: 0.8604\n",
      "Epoch 20/50\n",
      "1373/1373 [==============================] - 89s 65ms/step - loss: 22695.4135 - acc: 0.8450 - val_loss: 38228.9180 - val_acc: 0.8474\n",
      "Epoch 21/50\n",
      "1373/1373 [==============================] - 89s 65ms/step - loss: 26918.3580 - acc: 0.8450 - val_loss: 41905.8008 - val_acc: 0.8593\n",
      "Epoch 22/50\n",
      "1373/1373 [==============================] - 90s 66ms/step - loss: 29104.9017 - acc: 0.8448 - val_loss: 43811.9336 - val_acc: 0.8753\n",
      "Epoch 23/50\n",
      "1373/1373 [==============================] - 90s 66ms/step - loss: 30489.6658 - acc: 0.8507 - val_loss: 52693.2930 - val_acc: 0.8528\n",
      "Epoch 24/50\n",
      "1373/1373 [==============================] - 91s 66ms/step - loss: 35562.2305 - acc: 0.8460 - val_loss: 56133.6211 - val_acc: 0.8654\n",
      "Epoch 25/50\n",
      "1373/1373 [==============================] - 90s 66ms/step - loss: 35859.6808 - acc: 0.8559 - val_loss: 63720.8750 - val_acc: 0.8743\n",
      "Epoch 26/50\n",
      "1373/1373 [==============================] - 91s 66ms/step - loss: 36172.8236 - acc: 0.8605 - val_loss: 68748.1719 - val_acc: 0.8633\n",
      "Epoch 27/50\n",
      "1373/1373 [==============================] - 93s 68ms/step - loss: 37271.0879 - acc: 0.8638 - val_loss: 71266.9609 - val_acc: 0.8680\n",
      "Epoch 28/50\n",
      "1373/1373 [==============================] - 90s 66ms/step - loss: 39601.7289 - acc: 0.8664 - val_loss: 75591.6641 - val_acc: 0.8532\n",
      "Epoch 29/50\n",
      "1373/1373 [==============================] - 91s 66ms/step - loss: 40534.7499 - acc: 0.8707 - val_loss: 85775.7656 - val_acc: 0.8569\n",
      "Epoch 30/50\n",
      "1373/1373 [==============================] - 90s 66ms/step - loss: 37222.8007 - acc: 0.8797 - val_loss: 85829.3047 - val_acc: 0.8635\n",
      "Epoch 31/50\n",
      "1373/1373 [==============================] - 89s 65ms/step - loss: 41345.1478 - acc: 0.8762 - val_loss: 87256.1328 - val_acc: 0.8786\n",
      "Epoch 32/50\n",
      "1373/1373 [==============================] - 89s 65ms/step - loss: 41027.5890 - acc: 0.8804 - val_loss: 99689.6406 - val_acc: 0.8715\n",
      "Epoch 33/50\n",
      "1373/1373 [==============================] - 89s 65ms/step - loss: 40403.1662 - acc: 0.8883 - val_loss: 103541.1016 - val_acc: 0.8535\n",
      "Epoch 34/50\n",
      "1373/1373 [==============================] - 198s 144ms/step - loss: 41767.6965 - acc: 0.8880 - val_loss: 109749.7109 - val_acc: 0.8731\n",
      "Epoch 35/50\n",
      "1373/1373 [==============================] - 89s 65ms/step - loss: 43041.1997 - acc: 0.8895 - val_loss: 114575.8516 - val_acc: 0.8735\n",
      "Epoch 36/50\n",
      "1373/1373 [==============================] - 89s 65ms/step - loss: 48348.2540 - acc: 0.8858 - val_loss: 116102.6328 - val_acc: 0.8778\n",
      "Epoch 37/50\n",
      "1373/1373 [==============================] - 92s 67ms/step - loss: 49249.9660 - acc: 0.8837 - val_loss: 127313.9766 - val_acc: 0.8756\n",
      "Epoch 38/50\n",
      "1373/1373 [==============================] - 94s 69ms/step - loss: 44519.9384 - acc: 0.8919 - val_loss: 142002.4375 - val_acc: 0.8640\n",
      "Epoch 39/50\n",
      "1373/1373 [==============================] - 91s 66ms/step - loss: 51729.8560 - acc: 0.8892 - val_loss: 138945.8594 - val_acc: 0.8764\n",
      "Epoch 40/50\n",
      "1373/1373 [==============================] - 91s 66ms/step - loss: 50459.5823 - acc: 0.8875 - val_loss: 155814.0938 - val_acc: 0.8714\n",
      "Epoch 41/50\n",
      "1373/1373 [==============================] - 90s 65ms/step - loss: 50769.7784 - acc: 0.8931 - val_loss: 150677.5781 - val_acc: 0.8803\n",
      "Epoch 42/50\n",
      "1373/1373 [==============================] - 88s 64ms/step - loss: 54221.7818 - acc: 0.8880 - val_loss: 166446.2344 - val_acc: 0.8787\n",
      "Epoch 43/50\n",
      "1373/1373 [==============================] - 88s 64ms/step - loss: 51757.9388 - acc: 0.8937 - val_loss: 162726.3438 - val_acc: 0.8718\n",
      "Epoch 44/50\n",
      "1373/1373 [==============================] - 89s 65ms/step - loss: 52856.1560 - acc: 0.8959 - val_loss: 170805.7344 - val_acc: 0.8735\n",
      "Epoch 45/50\n",
      "1373/1373 [==============================] - 90s 65ms/step - loss: 52595.8667 - acc: 0.8961 - val_loss: 165354.2031 - val_acc: 0.8810\n",
      "Epoch 46/50\n",
      "1373/1373 [==============================] - 90s 65ms/step - loss: 48491.4667 - acc: 0.9021 - val_loss: 168382.7500 - val_acc: 0.8617\n",
      "Epoch 47/50\n",
      "1373/1373 [==============================] - 90s 65ms/step - loss: 53982.9074 - acc: 0.9016 - val_loss: 195131.7344 - val_acc: 0.8622\n",
      "Epoch 48/50\n",
      "1373/1373 [==============================] - 92s 67ms/step - loss: 56062.3690 - acc: 0.8979 - val_loss: 206137.0312 - val_acc: 0.8677\n",
      "Epoch 49/50\n",
      "1373/1373 [==============================] - 89s 65ms/step - loss: 48245.3825 - acc: 0.8997 - val_loss: 205147.7656 - val_acc: 0.8761\n",
      "Epoch 50/50\n",
      "1373/1373 [==============================] - 89s 65ms/step - loss: 55900.8471 - acc: 0.9039 - val_loss: 207960.2969 - val_acc: 0.8767\n"
     ]
    }
   ],
   "source": [
    "history = model.fit(\n",
    "    train_generator,\n",
    "    epochs=50,\n",
    "    validation_data=validation_generator,\n",
    "    )"
   ]
  },
  {
   "cell_type": "code",
   "execution_count": 26,
   "id": "medium-fortune",
   "metadata": {},
   "outputs": [
    {
     "name": "stdout",
     "output_type": "stream",
     "text": [
      "WARNING:tensorflow:FOR KERAS USERS: The object that you are saving contains one or more Keras models or layers. If you are loading the SavedModel with `tf.keras.models.load_model`, continue reading (otherwise, you may ignore the following instructions). Please change your code to save with `tf.keras.models.save_model` or `model.save`, and confirm that the file \"keras.metadata\" exists in the export directory. In the future, Keras will only load the SavedModels that have this file. In other words, `tf.saved_model.save` will no longer write SavedModels that can be recovered as Keras models (this will apply in TF 2.5).\n",
      "\n",
      "FOR DEVS: If you are overwriting _tracking_metadata in your class, this property has been used to save metadata in the SavedModel. The metadta field will be deprecated soon, so please move the metadata to a different file.\n",
      "INFO:tensorflow:Assets written to: model_all_data_dropout_0_5_new_convlayer_grayscale_more_ropout_layers_down/assets\n"
     ]
    }
   ],
   "source": [
    "model.save('model_all_data_dropout_0_5_new_convlayer_grayscale_more_ropout_layers_down')"
   ]
  },
  {
   "cell_type": "code",
   "execution_count": 27,
   "id": "provincial-sodium",
   "metadata": {},
   "outputs": [],
   "source": [
    "save_hist_to_excel('history_model_all_data_dropout_0_5_new_convlayer_grayscale_mored_ropout_layers_down')"
   ]
  },
  {
   "cell_type": "code",
   "execution_count": 28,
   "id": "interracial-endorsement",
   "metadata": {},
   "outputs": [
    {
     "data": {
      "image/png": "[encoded data removed]",
      "text/plain": [
       "<Figure size 432x288 with 1 Axes>"
      ]
     },
     "metadata": {
      "needs_background": "light"
     },
     "output_type": "display_data"
    },
    {
     "data": {
      "image/png": "[encoded data removed]",
      "text/plain": [
       "<Figure size 432x288 with 1 Axes>"
      ]
     },
     "metadata": {
      "needs_background": "light"
     },
     "output_type": "display_data"
    }
   ],
   "source": [
    "#Displaying curves of loss and accuracy during training\n",
    "\n",
    "import matplotlib.pyplot as plt\n",
    "\n",
    "acc = history.history[\"acc\"]\n",
    "val_acc = history.history[\"val_acc\"]\n",
    "loss = history.history[\"loss\"]\n",
    "val_loss = history.history[\"val_loss\"]\n",
    "\n",
    "epochs = range(1, len(acc) + 1)\n",
    "\n",
    "plt.plot(epochs, acc, \"bo\", label=\"Training acc\")\n",
    "plt.plot(epochs, val_acc, \"b\", label=\"Validation acc\")\n",
    "plt.title(\"Training and validation accuracy\")\n",
    "plt.legend()\n",
    "\n",
    "plt.show()\n",
    "\n",
    "plt.plot(epochs, loss, \"bo\", label=\"Training loss\")\n",
    "plt.plot(epochs, val_loss, \"b\", label=\"Validation loss\")\n",
    "plt.title(\"Training and validation loss\")\n",
    "plt.legend()\n",
    "\n",
    "plt.show()"
   ]
  },
  {
   "cell_type": "markdown",
   "id": "smaller-foster",
   "metadata": {},
   "source": [
    "### Remove one dropout layer"
   ]
  },
  {
   "cell_type": "code",
   "execution_count": 33,
   "id": "referenced-motel",
   "metadata": {},
   "outputs": [],
   "source": [
    "from tensorflow.keras import layers\n",
    "from tensorflow.keras import models\n",
    "\n",
    "model = models.Sequential()\n",
    "model.add(layers.Conv2D(32, (2, 2), activation='relu', input_shape=(100, 100, 1)))\n",
    "model.add(layers.MaxPooling2D((2, 2)))\n",
    "model.add(layers.Dropout(0.15))\n",
    "model.add(layers.Conv2D(64, (3, 3), activation='relu'))\n",
    "model.add(layers.MaxPooling2D((2, 2) ))\n",
    "model.add(layers.Dropout(0.1))\n",
    "model.add(layers.Conv2D(128, (4, 4), activation='relu'))\n",
    "model.add(layers.MaxPooling2D((2, 2) ))\n",
    "model.add(layers.Flatten())\n",
    "model.add(layers.Dense(512, activation='relu'))\n",
    "model.add(layers.Dropout(0.5))\n",
    "model.add(layers.Dense (43, activation='softmax'))"
   ]
  },
  {
   "cell_type": "code",
   "execution_count": 34,
   "id": "spiritual-fellow",
   "metadata": {},
   "outputs": [
    {
     "name": "stdout",
     "output_type": "stream",
     "text": [
      "Model: \"sequential_4\"\n",
      "_________________________________________________________________\n",
      "Layer (type)                 Output Shape              Param #   \n",
      "=================================================================\n",
      "conv2d_12 (Conv2D)           (None, 99, 99, 32)        160       \n",
      "_________________________________________________________________\n",
      "max_pooling2d_12 (MaxPooling (None, 49, 49, 32)        0         \n",
      "_________________________________________________________________\n",
      "dropout_15 (Dropout)         (None, 49, 49, 32)        0         \n",
      "_________________________________________________________________\n",
      "conv2d_13 (Conv2D)           (None, 47, 47, 64)        18496     \n",
      "_________________________________________________________________\n",
      "max_pooling2d_13 (MaxPooling (None, 23, 23, 64)        0         \n",
      "_________________________________________________________________\n",
      "dropout_16 (Dropout)         (None, 23, 23, 64)        0         \n",
      "_________________________________________________________________\n",
      "conv2d_14 (Conv2D)           (None, 20, 20, 128)       131200    \n",
      "_________________________________________________________________\n",
      "max_pooling2d_14 (MaxPooling (None, 10, 10, 128)       0         \n",
      "_________________________________________________________________\n",
      "flatten_4 (Flatten)          (None, 12800)             0         \n",
      "_________________________________________________________________\n",
      "dense_8 (Dense)              (None, 512)               6554112   \n",
      "_________________________________________________________________\n",
      "dropout_17 (Dropout)         (None, 512)               0         \n",
      "_________________________________________________________________\n",
      "dense_9 (Dense)              (None, 43)                22059     \n",
      "=================================================================\n",
      "Total params: 6,726,027\n",
      "Trainable params: 6,726,027\n",
      "Non-trainable params: 0\n",
      "_________________________________________________________________\n"
     ]
    }
   ],
   "source": [
    "model.summary()"
   ]
  },
  {
   "cell_type": "code",
   "execution_count": 35,
   "id": "authentic-baghdad",
   "metadata": {},
   "outputs": [],
   "source": [
    "from tensorflow.keras import optimizers\n",
    "\n",
    "#compilation\n",
    "model.compile(loss=\"categorical_crossentropy\", optimizer=optimizers.RMSprop(lr=1e-4), metrics=[\"acc\"])"
   ]
  },
  {
   "cell_type": "code",
   "execution_count": 36,
   "id": "compressed-essay",
   "metadata": {},
   "outputs": [
    {
     "name": "stdout",
     "output_type": "stream",
     "text": [
      "Epoch 1/70\n",
      "1373/1373 [==============================] - 91s 66ms/step - loss: 8.4333 - acc: 0.1516 - val_loss: 30.9368 - val_acc: 0.5339\n",
      "Epoch 2/70\n",
      "1373/1373 [==============================] - 89s 65ms/step - loss: 453.8602 - acc: 0.3070 - val_loss: 659.1957 - val_acc: 0.5905\n",
      "Epoch 3/70\n",
      "1373/1373 [==============================] - 89s 65ms/step - loss: 3268.1971 - acc: 0.3550 - val_loss: 2281.0220 - val_acc: 0.6427\n",
      "Epoch 4/70\n",
      "1373/1373 [==============================] - 91s 66ms/step - loss: 11467.4961 - acc: 0.3979 - val_loss: 8701.4033 - val_acc: 0.6291\n",
      "Epoch 5/70\n",
      "1373/1373 [==============================] - 90s 66ms/step - loss: 36093.4981 - acc: 0.3929 - val_loss: 16769.2988 - val_acc: 0.6735\n",
      "Epoch 6/70\n",
      "1373/1373 [==============================] - 89s 65ms/step - loss: 64148.2790 - acc: 0.4321 - val_loss: 35081.6523 - val_acc: 0.6620\n",
      "Epoch 7/70\n",
      "1373/1373 [==============================] - 89s 65ms/step - loss: 117662.5118 - acc: 0.4400 - val_loss: 50678.5625 - val_acc: 0.6944\n",
      "Epoch 8/70\n",
      "1373/1373 [==============================] - 90s 66ms/step - loss: 152715.3883 - acc: 0.4899 - val_loss: 83888.6719 - val_acc: 0.6937\n",
      "Epoch 9/70\n",
      "1373/1373 [==============================] - 89s 65ms/step - loss: 202742.9335 - acc: 0.5106 - val_loss: 101339.5859 - val_acc: 0.7194\n",
      "Epoch 10/70\n",
      "1373/1373 [==============================] - 89s 65ms/step - loss: 296032.2627 - acc: 0.5119 - val_loss: 147309.1875 - val_acc: 0.7173\n",
      "Epoch 11/70\n",
      "1373/1373 [==============================] - 89s 65ms/step - loss: 367716.2423 - acc: 0.5335 - val_loss: 184017.6875 - val_acc: 0.7290\n",
      "Epoch 12/70\n",
      "1373/1373 [==============================] - 89s 65ms/step - loss: 407488.6132 - acc: 0.5633 - val_loss: 234603.8906 - val_acc: 0.7382\n",
      "Epoch 13/70\n",
      "1373/1373 [==============================] - 91s 66ms/step - loss: 524719.9120 - acc: 0.5639 - val_loss: 267228.0312 - val_acc: 0.7572\n",
      "Epoch 14/70\n",
      "1373/1373 [==============================] - 90s 66ms/step - loss: 582089.1890 - acc: 0.5790 - val_loss: 325024.2500 - val_acc: 0.7330\n",
      "Epoch 15/70\n",
      "1373/1373 [==============================] - 93s 68ms/step - loss: 670546.2510 - acc: 0.5918 - val_loss: 440207.4062 - val_acc: 0.7580\n",
      "Epoch 16/70\n",
      "1373/1373 [==============================] - 90s 65ms/step - loss: 751921.6087 - acc: 0.5948 - val_loss: 490466.3438 - val_acc: 0.7366\n",
      "Epoch 17/70\n",
      "1373/1373 [==============================] - 90s 65ms/step - loss: 856756.8632 - acc: 0.6016 - val_loss: 574750.2500 - val_acc: 0.7450\n",
      "Epoch 18/70\n",
      "1373/1373 [==============================] - 91s 66ms/step - loss: 857771.0242 - acc: 0.6177 - val_loss: 545155.9375 - val_acc: 0.7512\n",
      "Epoch 19/70\n",
      "1373/1373 [==============================] - 90s 65ms/step - loss: 920217.6891 - acc: 0.6258 - val_loss: 623912.1250 - val_acc: 0.7473\n",
      "Epoch 20/70\n",
      "1373/1373 [==============================] - 91s 66ms/step - loss: 960896.6666 - acc: 0.6312 - val_loss: 682171.3750 - val_acc: 0.7508\n",
      "Epoch 21/70\n",
      "1373/1373 [==============================] - 90s 65ms/step - loss: 1006304.2870 - acc: 0.6379 - val_loss: 728241.8750 - val_acc: 0.7695\n",
      "Epoch 22/70\n",
      "1373/1373 [==============================] - 90s 66ms/step - loss: 1003963.6830 - acc: 0.6499 - val_loss: 799522.6250 - val_acc: 0.7134\n",
      "Epoch 23/70\n",
      "1373/1373 [==============================] - 89s 65ms/step - loss: 1092288.4024 - acc: 0.6491 - val_loss: 794419.3750 - val_acc: 0.7486\n",
      "Epoch 24/70\n",
      "1373/1373 [==============================] - 89s 64ms/step - loss: 1015798.3343 - acc: 0.6645 - val_loss: 798586.1250 - val_acc: 0.7742\n",
      "Epoch 25/70\n",
      "1373/1373 [==============================] - 89s 65ms/step - loss: 1021800.7215 - acc: 0.6588 - val_loss: 993559.8750 - val_acc: 0.7244\n",
      "Epoch 26/70\n",
      "1373/1373 [==============================] - 2292s 2s/step - loss: 967789.2471 - acc: 0.6720 - val_loss: 906885.1875 - val_acc: 0.7705\n",
      "Epoch 27/70\n",
      "1373/1373 [==============================] - 89s 65ms/step - loss: 917296.2438 - acc: 0.6859 - val_loss: 875783.6250 - val_acc: 0.7716\n",
      "Epoch 28/70\n",
      "1373/1373 [==============================] - 89s 65ms/step - loss: 890011.5096 - acc: 0.6847 - val_loss: 1015356.6250 - val_acc: 0.7437\n",
      "Epoch 29/70\n",
      "1373/1373 [==============================] - 89s 65ms/step - loss: 962286.3761 - acc: 0.6838 - val_loss: 998841.7500 - val_acc: 0.7292\n",
      "Epoch 30/70\n",
      "1373/1373 [==============================] - 133s 97ms/step - loss: 938558.5646 - acc: 0.6886 - val_loss: 1083089.7500 - val_acc: 0.7351\n",
      "Epoch 31/70\n",
      "1373/1373 [==============================] - 89s 65ms/step - loss: 938080.9430 - acc: 0.6921 - val_loss: 1086081.0000 - val_acc: 0.7776\n",
      "Epoch 32/70\n",
      "1373/1373 [==============================] - 89s 65ms/step - loss: 926869.2702 - acc: 0.6904 - val_loss: 1104785.8750 - val_acc: 0.7589\n",
      "Epoch 33/70\n",
      "1373/1373 [==============================] - 89s 65ms/step - loss: 922255.1363 - acc: 0.6955 - val_loss: 1111780.1250 - val_acc: 0.7630\n",
      "Epoch 34/70\n",
      "1373/1373 [==============================] - 91s 66ms/step - loss: 911180.2882 - acc: 0.7023 - val_loss: 1243909.1250 - val_acc: 0.7637\n",
      "Epoch 35/70\n",
      "1373/1373 [==============================] - 92s 67ms/step - loss: 912313.2313 - acc: 0.7094 - val_loss: 1200407.6250 - val_acc: 0.7936\n",
      "Epoch 36/70\n",
      "1373/1373 [==============================] - 91s 66ms/step - loss: 907302.2320 - acc: 0.7102 - val_loss: 1185582.5000 - val_acc: 0.7356\n",
      "Epoch 37/70\n",
      "1373/1373 [==============================] - 89s 65ms/step - loss: 857846.0202 - acc: 0.7226 - val_loss: 1215683.3750 - val_acc: 0.7129\n",
      "Epoch 38/70\n",
      "1373/1373 [==============================] - 90s 66ms/step - loss: 820061.7963 - acc: 0.7201 - val_loss: 1056156.1250 - val_acc: 0.7653\n",
      "Epoch 39/70\n",
      "1373/1373 [==============================] - 91s 66ms/step - loss: 820595.1826 - acc: 0.7279 - val_loss: 1188650.8750 - val_acc: 0.7959\n",
      "Epoch 40/70\n",
      "1373/1373 [==============================] - 90s 65ms/step - loss: 825549.1412 - acc: 0.7343 - val_loss: 1250998.8750 - val_acc: 0.7771\n",
      "Epoch 41/70\n",
      "1373/1373 [==============================] - 91s 66ms/step - loss: 796131.2738 - acc: 0.7374 - val_loss: 1175044.3750 - val_acc: 0.7946\n",
      "Epoch 42/70\n",
      "1373/1373 [==============================] - 90s 65ms/step - loss: 775643.3031 - acc: 0.7349 - val_loss: 1160755.2500 - val_acc: 0.8174\n",
      "Epoch 43/70\n",
      "1373/1373 [==============================] - 90s 65ms/step - loss: 735872.4719 - acc: 0.7407 - val_loss: 1351639.6250 - val_acc: 0.7144\n",
      "Epoch 44/70\n",
      "1373/1373 [==============================] - 89s 65ms/step - loss: 825454.1796 - acc: 0.7395 - val_loss: 1335616.6250 - val_acc: 0.7498\n",
      "Epoch 45/70\n",
      "1373/1373 [==============================] - 88s 64ms/step - loss: 775974.8502 - acc: 0.7474 - val_loss: 1236834.2500 - val_acc: 0.8039\n",
      "Epoch 46/70\n",
      "1373/1373 [==============================] - 89s 65ms/step - loss: 831468.9450 - acc: 0.7490 - val_loss: 1165721.0000 - val_acc: 0.8176\n",
      "Epoch 47/70\n",
      "1373/1373 [==============================] - 89s 65ms/step - loss: 768189.5125 - acc: 0.7518 - val_loss: 1270497.6250 - val_acc: 0.7969\n",
      "Epoch 48/70\n",
      "1373/1373 [==============================] - 92s 67ms/step - loss: 757383.6715 - acc: 0.7524 - val_loss: 1204255.7500 - val_acc: 0.8178\n",
      "Epoch 49/70\n",
      "1373/1373 [==============================] - 94s 69ms/step - loss: 779721.3681 - acc: 0.7563 - val_loss: 1323313.6250 - val_acc: 0.7883\n",
      "Epoch 50/70\n",
      "1373/1373 [==============================] - 94s 68ms/step - loss: 758468.4309 - acc: 0.7568 - val_loss: 1207303.8750 - val_acc: 0.8156\n",
      "Epoch 51/70\n",
      "1373/1373 [==============================] - 90s 66ms/step - loss: 809565.4998 - acc: 0.7619 - val_loss: 1391436.2500 - val_acc: 0.8032\n",
      "Epoch 52/70\n",
      "1373/1373 [==============================] - 89s 65ms/step - loss: 793014.7699 - acc: 0.7604 - val_loss: 1390640.6250 - val_acc: 0.8016\n",
      "Epoch 53/70\n",
      "1373/1373 [==============================] - 89s 65ms/step - loss: 801581.9755 - acc: 0.7698 - val_loss: 1315247.1250 - val_acc: 0.8064\n",
      "Epoch 54/70\n",
      "1373/1373 [==============================] - 88s 64ms/step - loss: 802831.3564 - acc: 0.7634 - val_loss: 1552339.7500 - val_acc: 0.7977\n",
      "Epoch 55/70\n",
      "1373/1373 [==============================] - 88s 64ms/step - loss: 809879.1751 - acc: 0.7625 - val_loss: 1398682.2500 - val_acc: 0.8172\n",
      "Epoch 56/70\n",
      "1373/1373 [==============================] - 88s 64ms/step - loss: 772758.2020 - acc: 0.7631 - val_loss: 1326396.2500 - val_acc: 0.8025\n"
     ]
    },
    {
     "name": "stdout",
     "output_type": "stream",
     "text": [
      "Epoch 57/70\n",
      "1373/1373 [==============================] - 88s 64ms/step - loss: 829924.7407 - acc: 0.7656 - val_loss: 1477372.0000 - val_acc: 0.8071\n",
      "Epoch 58/70\n",
      "1373/1373 [==============================] - 88s 64ms/step - loss: 788135.7081 - acc: 0.7757 - val_loss: 1644232.2500 - val_acc: 0.7965\n",
      "Epoch 59/70\n",
      "1373/1373 [==============================] - 88s 64ms/step - loss: 753141.3382 - acc: 0.7761 - val_loss: 1421858.1250 - val_acc: 0.7991\n",
      "Epoch 60/70\n",
      "1373/1373 [==============================] - 89s 65ms/step - loss: 793218.5973 - acc: 0.7824 - val_loss: 1665827.7500 - val_acc: 0.8087\n",
      "Epoch 61/70\n",
      "1373/1373 [==============================] - 89s 65ms/step - loss: 769810.0247 - acc: 0.7803 - val_loss: 1460363.0000 - val_acc: 0.8042\n",
      "Epoch 62/70\n",
      "1373/1373 [==============================] - 89s 65ms/step - loss: 758068.5022 - acc: 0.7848 - val_loss: 1656710.1250 - val_acc: 0.7962\n",
      "Epoch 63/70\n",
      "1373/1373 [==============================] - 89s 65ms/step - loss: 767215.6477 - acc: 0.7820 - val_loss: 1602276.5000 - val_acc: 0.7944\n",
      "Epoch 64/70\n",
      "1373/1373 [==============================] - 89s 65ms/step - loss: 839261.4782 - acc: 0.7865 - val_loss: 1507261.8750 - val_acc: 0.8333\n",
      "Epoch 65/70\n",
      "1373/1373 [==============================] - 89s 65ms/step - loss: 773884.2039 - acc: 0.7841 - val_loss: 1720518.7500 - val_acc: 0.8046\n",
      "Epoch 66/70\n",
      "1373/1373 [==============================] - 89s 65ms/step - loss: 717654.7905 - acc: 0.7956 - val_loss: 1743147.3750 - val_acc: 0.7905\n",
      "Epoch 67/70\n",
      "1373/1373 [==============================] - 89s 65ms/step - loss: 811259.4214 - acc: 0.7895 - val_loss: 1662811.7500 - val_acc: 0.8122\n",
      "Epoch 68/70\n",
      "1373/1373 [==============================] - 89s 65ms/step - loss: 732898.4773 - acc: 0.8004 - val_loss: 1608760.8750 - val_acc: 0.8184\n",
      "Epoch 69/70\n",
      "1373/1373 [==============================] - 89s 65ms/step - loss: 835552.8332 - acc: 0.7885 - val_loss: 1680662.0000 - val_acc: 0.8056\n",
      "Epoch 70/70\n",
      "1373/1373 [==============================] - 89s 65ms/step - loss: 822677.0195 - acc: 0.7904 - val_loss: 1723871.5000 - val_acc: 0.7985\n"
     ]
    }
   ],
   "source": [
    "history = model.fit(\n",
    "    train_generator,\n",
    "    epochs=70,\n",
    "    validation_data=validation_generator,\n",
    "    )"
   ]
  },
  {
   "cell_type": "code",
   "execution_count": 38,
   "id": "white-person",
   "metadata": {},
   "outputs": [
    {
     "name": "stdout",
     "output_type": "stream",
     "text": [
      "WARNING:tensorflow:FOR KERAS USERS: The object that you are saving contains one or more Keras models or layers. If you are loading the SavedModel with `tf.keras.models.load_model`, continue reading (otherwise, you may ignore the following instructions). Please change your code to save with `tf.keras.models.save_model` or `model.save`, and confirm that the file \"keras.metadata\" exists in the export directory. In the future, Keras will only load the SavedModels that have this file. In other words, `tf.saved_model.save` will no longer write SavedModels that can be recovered as Keras models (this will apply in TF 2.5).\n",
      "\n",
      "FOR DEVS: If you are overwriting _tracking_metadata in your class, this property has been used to save metadata in the SavedModel. The metadta field will be deprecated soon, so please move the metadata to a different file.\n",
      "INFO:tensorflow:Assets written to: model_all_data_dropout_0_5_new_convlayer_grayscale_more_ropout_layers_down_removed1/assets\n"
     ]
    }
   ],
   "source": [
    "model.save('model_all_data_dropout_0_5_new_convlayer_grayscale_more_ropout_layers_down_removed1')"
   ]
  },
  {
   "cell_type": "code",
   "execution_count": 39,
   "id": "precious-cleaners",
   "metadata": {},
   "outputs": [],
   "source": [
    "save_hist_to_excel('history_model_all_data_dropout_0_5_new_convlayer_grayscale_mored_ropout_layers_down_removed1')"
   ]
  },
  {
   "cell_type": "markdown",
   "id": "detailed-montana",
   "metadata": {},
   "source": [
    "### Reduce dropout rates again"
   ]
  },
  {
   "cell_type": "code",
   "execution_count": 40,
   "id": "practical-portland",
   "metadata": {},
   "outputs": [
    {
     "name": "stdout",
     "output_type": "stream",
     "text": [
      "Model: \"sequential_6\"\n",
      "_________________________________________________________________\n",
      "Layer (type)                 Output Shape              Param #   \n",
      "=================================================================\n",
      "conv2d_18 (Conv2D)           (None, 99, 99, 32)        160       \n",
      "_________________________________________________________________\n",
      "max_pooling2d_18 (MaxPooling (None, 49, 49, 32)        0         \n",
      "_________________________________________________________________\n",
      "dropout_22 (Dropout)         (None, 49, 49, 32)        0         \n",
      "_________________________________________________________________\n",
      "conv2d_19 (Conv2D)           (None, 47, 47, 64)        18496     \n",
      "_________________________________________________________________\n",
      "max_pooling2d_19 (MaxPooling (None, 23, 23, 64)        0         \n",
      "_________________________________________________________________\n",
      "dropout_23 (Dropout)         (None, 23, 23, 64)        0         \n",
      "_________________________________________________________________\n",
      "conv2d_20 (Conv2D)           (None, 20, 20, 128)       131200    \n",
      "_________________________________________________________________\n",
      "max_pooling2d_20 (MaxPooling (None, 10, 10, 128)       0         \n",
      "_________________________________________________________________\n",
      "dropout_24 (Dropout)         (None, 10, 10, 128)       0         \n",
      "_________________________________________________________________\n",
      "flatten_6 (Flatten)          (None, 12800)             0         \n",
      "_________________________________________________________________\n",
      "dense_12 (Dense)             (None, 512)               6554112   \n",
      "_________________________________________________________________\n",
      "dropout_25 (Dropout)         (None, 512)               0         \n",
      "_________________________________________________________________\n",
      "dense_13 (Dense)             (None, 43)                22059     \n",
      "=================================================================\n",
      "Total params: 6,726,027\n",
      "Trainable params: 6,726,027\n",
      "Non-trainable params: 0\n",
      "_________________________________________________________________\n"
     ]
    }
   ],
   "source": [
    "from tensorflow.keras import layers\n",
    "from tensorflow.keras import models\n",
    "\n",
    "model = models.Sequential()\n",
    "model.add(layers.Conv2D(32, (2, 2), activation='relu', input_shape=(100, 100, 1)))\n",
    "model.add(layers.MaxPooling2D((2, 2)))\n",
    "model.add(layers.Dropout(0.1))\n",
    "model.add(layers.Conv2D(64, (3, 3), activation='relu'))\n",
    "model.add(layers.MaxPooling2D((2, 2) ))\n",
    "model.add(layers.Dropout(0.05))\n",
    "model.add(layers.Conv2D(128, (4, 4), activation='relu'))\n",
    "model.add(layers.MaxPooling2D((2, 2) ))\n",
    "model.add(layers.Dropout(0.05))\n",
    "model.add(layers.Flatten())\n",
    "model.add(layers.Dense(512, activation='relu'))\n",
    "model.add(layers.Dropout(0.2))\n",
    "model.add(layers.Dense (43, activation='softmax'))\n",
    "\n",
    "model.summary()"
   ]
  },
  {
   "cell_type": "code",
   "execution_count": 41,
   "id": "portuguese-assist",
   "metadata": {},
   "outputs": [],
   "source": [
    "from tensorflow.keras import optimizers\n",
    "\n",
    "#compilation\n",
    "model.compile(loss=\"categorical_crossentropy\", optimizer=optimizers.RMSprop(lr=1e-4), metrics=[\"acc\"])"
   ]
  },
  {
   "cell_type": "code",
   "execution_count": 42,
   "id": "distinct-queensland",
   "metadata": {},
   "outputs": [
    {
     "name": "stdout",
     "output_type": "stream",
     "text": [
      "Epoch 1/150\n",
      "1373/1373 [==============================] - 89s 65ms/step - loss: 2.7279 - acc: 0.3030 - val_loss: 1.3044 - val_acc: 0.8007\n",
      "Epoch 2/150\n",
      "1373/1373 [==============================] - 89s 65ms/step - loss: 2.5804 - acc: 0.7464 - val_loss: 5.0986 - val_acc: 0.8190\n",
      "Epoch 3/150\n",
      "1373/1373 [==============================] - 89s 65ms/step - loss: 6.7105 - acc: 0.8093 - val_loss: 14.3354 - val_acc: 0.8335\n",
      "Epoch 4/150\n",
      "1373/1373 [==============================] - 89s 65ms/step - loss: 16.2332 - acc: 0.8259 - val_loss: 38.3386 - val_acc: 0.8229\n",
      "Epoch 5/150\n",
      "1373/1373 [==============================] - 89s 65ms/step - loss: 28.6220 - acc: 0.8540 - val_loss: 57.2747 - val_acc: 0.8513\n",
      "Epoch 6/150\n",
      "1373/1373 [==============================] - 89s 65ms/step - loss: 40.2969 - acc: 0.8755 - val_loss: 86.6112 - val_acc: 0.8697\n",
      "Epoch 7/150\n",
      "1373/1373 [==============================] - 89s 65ms/step - loss: 64.9478 - acc: 0.8737 - val_loss: 151.6716 - val_acc: 0.8689\n",
      "Epoch 8/150\n",
      "1373/1373 [==============================] - 89s 65ms/step - loss: 104.6459 - acc: 0.8795 - val_loss: 259.2338 - val_acc: 0.8648\n",
      "Epoch 9/150\n",
      "1373/1373 [==============================] - 89s 65ms/step - loss: 147.4851 - acc: 0.8822 - val_loss: 340.4672 - val_acc: 0.8749\n",
      "Epoch 10/150\n",
      "1373/1373 [==============================] - 89s 65ms/step - loss: 202.3195 - acc: 0.8926 - val_loss: 398.7264 - val_acc: 0.8760\n",
      "Epoch 11/150\n",
      "1373/1373 [==============================] - 89s 65ms/step - loss: 231.9436 - acc: 0.9030 - val_loss: 678.7271 - val_acc: 0.8751\n",
      "Epoch 12/150\n",
      "1373/1373 [==============================] - 89s 65ms/step - loss: 289.2602 - acc: 0.9058 - val_loss: 811.2019 - val_acc: 0.8756\n",
      "Epoch 13/150\n",
      "1373/1373 [==============================] - 89s 65ms/step - loss: 392.7434 - acc: 0.9042 - val_loss: 1059.0702 - val_acc: 0.8786\n",
      "Epoch 14/150\n",
      "1373/1373 [==============================] - 89s 65ms/step - loss: 468.1639 - acc: 0.9103 - val_loss: 1273.5186 - val_acc: 0.8775\n",
      "Epoch 15/150\n",
      "1373/1373 [==============================] - 89s 65ms/step - loss: 516.7858 - acc: 0.9161 - val_loss: 1615.7299 - val_acc: 0.8756\n",
      "Epoch 16/150\n",
      "1373/1373 [==============================] - 89s 65ms/step - loss: 621.3691 - acc: 0.9190 - val_loss: 1991.8224 - val_acc: 0.8810\n",
      "Epoch 17/150\n",
      "1373/1373 [==============================] - 89s 65ms/step - loss: 788.2306 - acc: 0.9162 - val_loss: 2144.6260 - val_acc: 0.8834\n",
      "Epoch 18/150\n",
      "1373/1373 [==============================] - 89s 65ms/step - loss: 860.2919 - acc: 0.9185 - val_loss: 2594.9058 - val_acc: 0.8881\n",
      "Epoch 19/150\n",
      "1373/1373 [==============================] - 89s 65ms/step - loss: 948.9110 - acc: 0.9228 - val_loss: 3337.9163 - val_acc: 0.8707\n",
      "Epoch 20/150\n",
      "1373/1373 [==============================] - 89s 65ms/step - loss: 1028.1737 - acc: 0.9291 - val_loss: 3666.4910 - val_acc: 0.8896\n",
      "Epoch 21/150\n",
      "1373/1373 [==============================] - 89s 64ms/step - loss: 1202.6242 - acc: 0.9261 - val_loss: 4077.6572 - val_acc: 0.8907\n",
      "Epoch 22/150\n",
      "1373/1373 [==============================] - 89s 65ms/step - loss: 1348.0415 - acc: 0.9264 - val_loss: 4821.2207 - val_acc: 0.8884\n",
      "Epoch 23/150\n",
      "1373/1373 [==============================] - 89s 64ms/step - loss: 1466.2727 - acc: 0.9276 - val_loss: 5854.1230 - val_acc: 0.8792\n",
      "Epoch 24/150\n",
      "1373/1373 [==============================] - 89s 65ms/step - loss: 1818.9386 - acc: 0.9289 - val_loss: 5815.9551 - val_acc: 0.8946\n",
      "Epoch 25/150\n",
      "1373/1373 [==============================] - 89s 65ms/step - loss: 1818.6859 - acc: 0.9345 - val_loss: 5735.4585 - val_acc: 0.8938\n",
      "Epoch 26/150\n",
      "1373/1373 [==============================] - 89s 65ms/step - loss: 1904.1821 - acc: 0.9372 - val_loss: 7404.2725 - val_acc: 0.8930\n",
      "Epoch 27/150\n",
      "1373/1373 [==============================] - 89s 64ms/step - loss: 1940.4963 - acc: 0.9372 - val_loss: 9106.9824 - val_acc: 0.8760\n",
      "Epoch 28/150\n",
      "1373/1373 [==============================] - 89s 64ms/step - loss: 2201.6610 - acc: 0.9382 - val_loss: 8563.5088 - val_acc: 0.8852\n",
      "Epoch 29/150\n",
      "1373/1373 [==============================] - 89s 64ms/step - loss: 2495.5878 - acc: 0.9381 - val_loss: 9067.7109 - val_acc: 0.9043\n",
      "Epoch 30/150\n",
      "1373/1373 [==============================] - 89s 65ms/step - loss: 2276.9981 - acc: 0.9432 - val_loss: 11226.1367 - val_acc: 0.8946\n",
      "Epoch 31/150\n",
      "1373/1373 [==============================] - 88s 64ms/step - loss: 2690.7463 - acc: 0.9414 - val_loss: 14566.5947 - val_acc: 0.8730\n",
      "Epoch 32/150\n",
      "1373/1373 [==============================] - 89s 65ms/step - loss: 3144.6989 - acc: 0.9374 - val_loss: 13987.4248 - val_acc: 0.8798\n",
      "Epoch 33/150\n",
      "1373/1373 [==============================] - 89s 64ms/step - loss: 2830.7854 - acc: 0.9469 - val_loss: 15622.0098 - val_acc: 0.8837\n",
      "Epoch 34/150\n",
      "1373/1373 [==============================] - 89s 64ms/step - loss: 3348.0760 - acc: 0.9419 - val_loss: 17608.1992 - val_acc: 0.8819\n",
      "Epoch 35/150\n",
      "1373/1373 [==============================] - 88s 64ms/step - loss: 3267.2065 - acc: 0.9443 - val_loss: 17742.2812 - val_acc: 0.8927\n",
      "Epoch 36/150\n",
      "1373/1373 [==============================] - 88s 64ms/step - loss: 3410.2849 - acc: 0.9444 - val_loss: 18383.3848 - val_acc: 0.8904\n",
      "Epoch 37/150\n",
      "1373/1373 [==============================] - 88s 64ms/step - loss: 3733.5762 - acc: 0.9463 - val_loss: 20350.4258 - val_acc: 0.8878\n",
      "Epoch 38/150\n",
      "1373/1373 [==============================] - 88s 64ms/step - loss: 4168.5303 - acc: 0.9462 - val_loss: 21018.6133 - val_acc: 0.8845\n",
      "Epoch 39/150\n",
      "1373/1373 [==============================] - 88s 64ms/step - loss: 4290.0215 - acc: 0.9469 - val_loss: 24375.1582 - val_acc: 0.8861\n",
      "Epoch 40/150\n",
      "1373/1373 [==============================] - 88s 64ms/step - loss: 4434.9233 - acc: 0.9473 - val_loss: 23004.7559 - val_acc: 0.8983\n",
      "Epoch 41/150\n",
      "1373/1373 [==============================] - 88s 64ms/step - loss: 4627.3979 - acc: 0.9495 - val_loss: 24845.0000 - val_acc: 0.8957\n",
      "Epoch 42/150\n",
      "1373/1373 [==============================] - 88s 64ms/step - loss: 4327.2610 - acc: 0.9538 - val_loss: 25943.6777 - val_acc: 0.8917\n",
      "Epoch 43/150\n",
      "1373/1373 [==============================] - 88s 64ms/step - loss: 4773.0686 - acc: 0.9516 - val_loss: 28493.9746 - val_acc: 0.8933\n",
      "Epoch 44/150\n",
      "1373/1373 [==============================] - 88s 64ms/step - loss: 4963.2036 - acc: 0.9525 - val_loss: 26347.4082 - val_acc: 0.9002\n",
      "Epoch 45/150\n",
      "1373/1373 [==============================] - 88s 64ms/step - loss: 5397.2237 - acc: 0.9497 - val_loss: 37041.8320 - val_acc: 0.8839\n",
      "Epoch 46/150\n",
      "1373/1373 [==============================] - 88s 64ms/step - loss: 5384.2883 - acc: 0.9523 - val_loss: 34157.2969 - val_acc: 0.8990\n",
      "Epoch 47/150\n",
      "1373/1373 [==============================] - 88s 64ms/step - loss: 5709.8256 - acc: 0.9536 - val_loss: 37711.9766 - val_acc: 0.8974\n",
      "Epoch 48/150\n",
      "1373/1373 [==============================] - 88s 64ms/step - loss: 6120.6543 - acc: 0.9553 - val_loss: 42041.3047 - val_acc: 0.8953\n",
      "Epoch 49/150\n",
      "1373/1373 [==============================] - 88s 64ms/step - loss: 5491.5158 - acc: 0.9539 - val_loss: 38900.5742 - val_acc: 0.8968\n",
      "Epoch 50/150\n",
      "1373/1373 [==============================] - 88s 64ms/step - loss: 5556.9783 - acc: 0.9541 - val_loss: 35542.4141 - val_acc: 0.9067\n",
      "Epoch 51/150\n",
      "1373/1373 [==============================] - 88s 64ms/step - loss: 5260.1696 - acc: 0.9588 - val_loss: 44171.2422 - val_acc: 0.8974\n",
      "Epoch 52/150\n",
      "1373/1373 [==============================] - 88s 64ms/step - loss: 5976.4188 - acc: 0.9550 - val_loss: 45651.6875 - val_acc: 0.8949\n",
      "Epoch 53/150\n",
      "1373/1373 [==============================] - 88s 64ms/step - loss: 5880.2791 - acc: 0.9588 - val_loss: 44941.5664 - val_acc: 0.8923\n",
      "Epoch 54/150\n",
      "1373/1373 [==============================] - 88s 64ms/step - loss: 6082.4248 - acc: 0.9575 - val_loss: 43768.7891 - val_acc: 0.8990\n",
      "Epoch 55/150\n",
      "1373/1373 [==============================] - 88s 64ms/step - loss: 6121.2712 - acc: 0.9574 - val_loss: 44201.4062 - val_acc: 0.8974\n",
      "Epoch 56/150\n",
      "1373/1373 [==============================] - 88s 64ms/step - loss: 6412.7530 - acc: 0.9567 - val_loss: 56271.9141 - val_acc: 0.8955\n",
      "Epoch 57/150\n",
      "1373/1373 [==============================] - 88s 64ms/step - loss: 6832.1767 - acc: 0.9607 - val_loss: 59353.4062 - val_acc: 0.8915\n",
      "Epoch 58/150\n",
      "1373/1373 [==============================] - 89s 64ms/step - loss: 7133.0754 - acc: 0.9600 - val_loss: 60008.8594 - val_acc: 0.8907\n",
      "Epoch 59/150\n",
      "1373/1373 [==============================] - 89s 64ms/step - loss: 6073.8357 - acc: 0.9608 - val_loss: 61115.4883 - val_acc: 0.8933\n",
      "Epoch 60/150\n",
      "1373/1373 [==============================] - 89s 64ms/step - loss: 7337.8362 - acc: 0.9601 - val_loss: 65807.2734 - val_acc: 0.8940\n",
      "Epoch 61/150\n",
      "1373/1373 [==============================] - 88s 64ms/step - loss: 7548.4593 - acc: 0.9582 - val_loss: 61952.2617 - val_acc: 0.8975\n",
      "Epoch 62/150\n",
      "1373/1373 [==============================] - 88s 64ms/step - loss: 6954.6411 - acc: 0.9612 - val_loss: 70354.9766 - val_acc: 0.8897\n",
      "Epoch 63/150\n",
      "1373/1373 [==============================] - 89s 64ms/step - loss: 7863.3804 - acc: 0.9576 - val_loss: 70220.8906 - val_acc: 0.8881\n",
      "Epoch 64/150\n",
      "1373/1373 [==============================] - 89s 64ms/step - loss: 9568.8115 - acc: 0.9594 - val_loss: 73059.9453 - val_acc: 0.8849\n",
      "Epoch 65/150\n",
      "1373/1373 [==============================] - 89s 64ms/step - loss: 8069.2326 - acc: 0.9581 - val_loss: 83018.9688 - val_acc: 0.8929\n",
      "Epoch 66/150\n",
      "1373/1373 [==============================] - 88s 64ms/step - loss: 8022.7853 - acc: 0.9607 - val_loss: 78926.2188 - val_acc: 0.8949\n",
      "Epoch 67/150\n",
      "1373/1373 [==============================] - 89s 64ms/step - loss: 9304.5360 - acc: 0.9583 - val_loss: 86758.0469 - val_acc: 0.8887\n",
      "Epoch 68/150\n",
      "1373/1373 [==============================] - 89s 64ms/step - loss: 9557.2459 - acc: 0.9602 - val_loss: 87781.7812 - val_acc: 0.8956\n",
      "Epoch 69/150\n",
      "1373/1373 [==============================] - 89s 64ms/step - loss: 11136.2317 - acc: 0.9576 - val_loss: 98066.1562 - val_acc: 0.8905\n",
      "Epoch 70/150\n",
      "1373/1373 [==============================] - 88s 64ms/step - loss: 9838.6135 - acc: 0.9579 - val_loss: 102736.4531 - val_acc: 0.8966\n",
      "Epoch 71/150\n",
      "1373/1373 [==============================] - 88s 64ms/step - loss: 9332.1343 - acc: 0.9586 - val_loss: 108322.4766 - val_acc: 0.8934\n",
      "Epoch 72/150\n",
      "1373/1373 [==============================] - 88s 64ms/step - loss: 9725.2493 - acc: 0.9636 - val_loss: 99750.0781 - val_acc: 0.8852\n",
      "Epoch 73/150\n",
      "1373/1373 [==============================] - 88s 64ms/step - loss: 8989.8525 - acc: 0.9642 - val_loss: 100475.2031 - val_acc: 0.8948\n",
      "Epoch 74/150\n",
      "1373/1373 [==============================] - 88s 64ms/step - loss: 9928.3720 - acc: 0.9637 - val_loss: 94692.2656 - val_acc: 0.9058\n",
      "Epoch 75/150\n",
      "1373/1373 [==============================] - 88s 64ms/step - loss: 9769.9573 - acc: 0.9639 - val_loss: 108801.6406 - val_acc: 0.8967\n",
      "Epoch 76/150\n",
      "1373/1373 [==============================] - 88s 64ms/step - loss: 9593.0771 - acc: 0.9622 - val_loss: 110077.2969 - val_acc: 0.8885\n",
      "Epoch 77/150\n",
      "1373/1373 [==============================] - 88s 64ms/step - loss: 9464.1128 - acc: 0.9632 - val_loss: 122727.8906 - val_acc: 0.8835\n",
      "Epoch 78/150\n",
      "1373/1373 [==============================] - 88s 64ms/step - loss: 9806.4209 - acc: 0.9623 - val_loss: 130820.4375 - val_acc: 0.8825\n",
      "Epoch 79/150\n",
      "1373/1373 [==============================] - 88s 64ms/step - loss: 10019.1418 - acc: 0.9641 - val_loss: 124745.8750 - val_acc: 0.8933\n",
      "Epoch 80/150\n",
      "1373/1373 [==============================] - 88s 64ms/step - loss: 11534.6229 - acc: 0.9630 - val_loss: 119717.2891 - val_acc: 0.8914\n",
      "Epoch 81/150\n",
      "1373/1373 [==============================] - 88s 64ms/step - loss: 11481.1449 - acc: 0.9632 - val_loss: 134700.9219 - val_acc: 0.8906\n",
      "Epoch 82/150\n",
      "1373/1373 [==============================] - 88s 64ms/step - loss: 9444.4885 - acc: 0.9696 - val_loss: 133402.4219 - val_acc: 0.8825\n",
      "Epoch 83/150\n",
      "1373/1373 [==============================] - 88s 64ms/step - loss: 10386.8552 - acc: 0.9655 - val_loss: 138958.9688 - val_acc: 0.8866\n",
      "Epoch 84/150\n",
      "1373/1373 [==============================] - 88s 64ms/step - loss: 11873.3035 - acc: 0.9648 - val_loss: 156113.9375 - val_acc: 0.8802\n",
      "Epoch 85/150\n",
      "1373/1373 [==============================] - 88s 64ms/step - loss: 11464.5200 - acc: 0.9632 - val_loss: 145443.3125 - val_acc: 0.8857\n",
      "Epoch 86/150\n",
      "1373/1373 [==============================] - 88s 64ms/step - loss: 11110.8753 - acc: 0.9626 - val_loss: 147650.4062 - val_acc: 0.8841\n",
      "Epoch 87/150\n",
      "1373/1373 [==============================] - 88s 64ms/step - loss: 11226.6927 - acc: 0.9669 - val_loss: 145362.6250 - val_acc: 0.8953\n",
      "Epoch 88/150\n",
      "1373/1373 [==============================] - 88s 64ms/step - loss: 13399.6153 - acc: 0.9640 - val_loss: 167059.0781 - val_acc: 0.8728\n",
      "Epoch 89/150\n",
      "1373/1373 [==============================] - 88s 64ms/step - loss: 11753.3678 - acc: 0.9659 - val_loss: 160113.2344 - val_acc: 0.8972\n",
      "Epoch 90/150\n",
      "1373/1373 [==============================] - 88s 64ms/step - loss: 11182.3295 - acc: 0.9664 - val_loss: 145241.2656 - val_acc: 0.8817\n",
      "Epoch 91/150\n",
      "1373/1373 [==============================] - 88s 64ms/step - loss: 10121.2783 - acc: 0.9672 - val_loss: 155721.5938 - val_acc: 0.8896\n",
      "Epoch 92/150\n",
      "1373/1373 [==============================] - 88s 64ms/step - loss: 10590.1888 - acc: 0.9679 - val_loss: 153723.4531 - val_acc: 0.8877\n",
      "Epoch 93/150\n",
      "1373/1373 [==============================] - 88s 64ms/step - loss: 12653.6776 - acc: 0.9685 - val_loss: 155926.9844 - val_acc: 0.8842\n",
      "Epoch 94/150\n",
      "1373/1373 [==============================] - 88s 64ms/step - loss: 11203.9223 - acc: 0.9669 - val_loss: 177019.4531 - val_acc: 0.8951\n",
      "Epoch 95/150\n",
      "1373/1373 [==============================] - 88s 64ms/step - loss: 10675.1508 - acc: 0.9674 - val_loss: 201314.1875 - val_acc: 0.8815\n",
      "Epoch 96/150\n",
      "1373/1373 [==============================] - 88s 64ms/step - loss: 13294.8687 - acc: 0.9654 - val_loss: 210680.4219 - val_acc: 0.8826\n",
      "Epoch 97/150\n",
      "1373/1373 [==============================] - 88s 64ms/step - loss: 11289.5336 - acc: 0.9686 - val_loss: 184011.5312 - val_acc: 0.8906\n",
      "Epoch 98/150\n",
      "1373/1373 [==============================] - 88s 64ms/step - loss: 11498.8190 - acc: 0.9674 - val_loss: 187886.1406 - val_acc: 0.8978\n",
      "Epoch 99/150\n",
      "1373/1373 [==============================] - 88s 64ms/step - loss: 13630.3898 - acc: 0.9668 - val_loss: 182851.7969 - val_acc: 0.8961\n",
      "Epoch 100/150\n",
      "1373/1373 [==============================] - 88s 64ms/step - loss: 11504.4593 - acc: 0.9684 - val_loss: 198755.3750 - val_acc: 0.8891\n",
      "Epoch 101/150\n",
      "1373/1373 [==============================] - 88s 64ms/step - loss: 13298.6681 - acc: 0.9670 - val_loss: 177514.1250 - val_acc: 0.8930\n",
      "Epoch 102/150\n",
      "1373/1373 [==============================] - 88s 64ms/step - loss: 13361.1843 - acc: 0.9657 - val_loss: 197774.0938 - val_acc: 0.8911\n",
      "Epoch 103/150\n",
      "1373/1373 [==============================] - 88s 64ms/step - loss: 14436.7505 - acc: 0.9664 - val_loss: 197439.3594 - val_acc: 0.8989\n",
      "Epoch 104/150\n",
      "1373/1373 [==============================] - 88s 64ms/step - loss: 12636.3283 - acc: 0.9675 - val_loss: 213167.4219 - val_acc: 0.8900\n",
      "Epoch 105/150\n",
      "1373/1373 [==============================] - 88s 64ms/step - loss: 13743.4926 - acc: 0.9674 - val_loss: 231420.3594 - val_acc: 0.8933\n",
      "Epoch 106/150\n",
      "1373/1373 [==============================] - 88s 64ms/step - loss: 14345.6037 - acc: 0.9665 - val_loss: 240483.4062 - val_acc: 0.8870\n",
      "Epoch 107/150\n",
      "1373/1373 [==============================] - 88s 64ms/step - loss: 14366.0034 - acc: 0.9682 - val_loss: 225507.4219 - val_acc: 0.8839\n",
      "Epoch 108/150\n",
      "1373/1373 [==============================] - 88s 64ms/step - loss: 15035.4471 - acc: 0.9674 - val_loss: 241677.5156 - val_acc: 0.8877\n",
      "Epoch 109/150\n",
      "1373/1373 [==============================] - 88s 64ms/step - loss: 14611.5859 - acc: 0.9697 - val_loss: 243521.6094 - val_acc: 0.8797\n",
      "Epoch 110/150\n",
      "1373/1373 [==============================] - 88s 64ms/step - loss: 12423.7126 - acc: 0.9687 - val_loss: 223720.7344 - val_acc: 0.8947\n",
      "Epoch 111/150\n",
      "1373/1373 [==============================] - 88s 64ms/step - loss: 13169.8263 - acc: 0.9684 - val_loss: 245265.1562 - val_acc: 0.8906\n",
      "Epoch 112/150\n",
      "1373/1373 [==============================] - 88s 64ms/step - loss: 15089.6703 - acc: 0.9676 - val_loss: 291240.2188 - val_acc: 0.8860\n",
      "Epoch 113/150\n",
      "1373/1373 [==============================] - 88s 64ms/step - loss: 14381.5548 - acc: 0.9694 - val_loss: 267405.0625 - val_acc: 0.8898\n"
     ]
    },
    {
     "name": "stdout",
     "output_type": "stream",
     "text": [
      "Epoch 114/150\n",
      "1373/1373 [==============================] - 89s 65ms/step - loss: 12940.4452 - acc: 0.9717 - val_loss: 265664.8125 - val_acc: 0.8818\n",
      "Epoch 115/150\n",
      "1373/1373 [==============================] - 89s 64ms/step - loss: 12757.2937 - acc: 0.9716 - val_loss: 265722.5312 - val_acc: 0.8935\n",
      "Epoch 116/150\n",
      "1373/1373 [==============================] - 89s 64ms/step - loss: 15301.6144 - acc: 0.9678 - val_loss: 278796.4062 - val_acc: 0.8928\n",
      "Epoch 117/150\n",
      "1373/1373 [==============================] - 89s 64ms/step - loss: 16611.2811 - acc: 0.9692 - val_loss: 283409.4062 - val_acc: 0.8964\n",
      "Epoch 118/150\n",
      "1373/1373 [==============================] - 88s 64ms/step - loss: 15367.4269 - acc: 0.9689 - val_loss: 288871.4062 - val_acc: 0.8842\n",
      "Epoch 119/150\n",
      "1373/1373 [==============================] - 88s 64ms/step - loss: 16746.6630 - acc: 0.9667 - val_loss: 300151.8750 - val_acc: 0.8695\n",
      "Epoch 120/150\n",
      "1373/1373 [==============================] - 88s 64ms/step - loss: 15276.5351 - acc: 0.9688 - val_loss: 290983.2500 - val_acc: 0.8945\n",
      "Epoch 121/150\n",
      "1373/1373 [==============================] - 88s 64ms/step - loss: 15699.5808 - acc: 0.9688 - val_loss: 288129.5938 - val_acc: 0.8987\n",
      "Epoch 122/150\n",
      "1373/1373 [==============================] - 89s 64ms/step - loss: 14607.2845 - acc: 0.9700 - val_loss: 299441.3125 - val_acc: 0.8828\n",
      "Epoch 123/150\n",
      "1373/1373 [==============================] - 89s 64ms/step - loss: 15497.5305 - acc: 0.9698 - val_loss: 335718.1562 - val_acc: 0.8809\n",
      "Epoch 124/150\n",
      "1373/1373 [==============================] - 88s 64ms/step - loss: 16687.5072 - acc: 0.9704 - val_loss: 318312.6875 - val_acc: 0.8932\n",
      "Epoch 125/150\n",
      "1373/1373 [==============================] - 88s 64ms/step - loss: 20395.7731 - acc: 0.9658 - val_loss: 293396.0938 - val_acc: 0.8860\n",
      "Epoch 126/150\n",
      "1373/1373 [==============================] - 88s 64ms/step - loss: 16682.2075 - acc: 0.9675 - val_loss: 284926.3438 - val_acc: 0.8874\n",
      "Epoch 127/150\n",
      "1373/1373 [==============================] - 88s 64ms/step - loss: 15392.4825 - acc: 0.9713 - val_loss: 289099.9375 - val_acc: 0.8952\n",
      "Epoch 128/150\n",
      "1373/1373 [==============================] - 88s 64ms/step - loss: 16444.7363 - acc: 0.9708 - val_loss: 278471.0938 - val_acc: 0.9003\n",
      "Epoch 129/150\n",
      "1373/1373 [==============================] - 89s 64ms/step - loss: 18459.1877 - acc: 0.9708 - val_loss: 303388.5938 - val_acc: 0.8968\n",
      "Epoch 130/150\n",
      "1373/1373 [==============================] - 88s 64ms/step - loss: 16499.5087 - acc: 0.9705 - val_loss: 328324.2188 - val_acc: 0.8945\n",
      "Epoch 131/150\n",
      "1373/1373 [==============================] - 88s 64ms/step - loss: 15683.4398 - acc: 0.9726 - val_loss: 341231.8750 - val_acc: 0.8973\n",
      "Epoch 132/150\n",
      "1373/1373 [==============================] - 88s 64ms/step - loss: 15253.3760 - acc: 0.9725 - val_loss: 331538.4062 - val_acc: 0.8917\n",
      "Epoch 133/150\n",
      "1373/1373 [==============================] - 88s 64ms/step - loss: 16360.8035 - acc: 0.9709 - val_loss: 358680.0000 - val_acc: 0.8962\n",
      "Epoch 134/150\n",
      "1373/1373 [==============================] - 88s 64ms/step - loss: 18896.6882 - acc: 0.9718 - val_loss: 364338.6562 - val_acc: 0.8934\n",
      "Epoch 135/150\n",
      "1373/1373 [==============================] - 88s 64ms/step - loss: 15452.9203 - acc: 0.9754 - val_loss: 346440.1250 - val_acc: 0.8922\n",
      "Epoch 136/150\n",
      "1373/1373 [==============================] - 88s 64ms/step - loss: 16321.6314 - acc: 0.9703 - val_loss: 360465.9688 - val_acc: 0.8886\n",
      "Epoch 137/150\n",
      "1373/1373 [==============================] - 88s 64ms/step - loss: 17078.3440 - acc: 0.9712 - val_loss: 372130.3125 - val_acc: 0.8907\n",
      "Epoch 138/150\n",
      "1373/1373 [==============================] - 88s 64ms/step - loss: 21515.3026 - acc: 0.9698 - val_loss: 372796.3438 - val_acc: 0.8932\n",
      "Epoch 139/150\n",
      "1373/1373 [==============================] - 88s 64ms/step - loss: 15745.3021 - acc: 0.9724 - val_loss: 411990.1875 - val_acc: 0.8917\n",
      "Epoch 140/150\n",
      "1373/1373 [==============================] - 88s 64ms/step - loss: 17883.2122 - acc: 0.9720 - val_loss: 405885.2500 - val_acc: 0.8814\n",
      "Epoch 141/150\n",
      "1373/1373 [==============================] - 88s 64ms/step - loss: 18206.8508 - acc: 0.9713 - val_loss: 432058.3438 - val_acc: 0.8843\n",
      "Epoch 142/150\n",
      "1373/1373 [==============================] - 88s 64ms/step - loss: 17595.4182 - acc: 0.9713 - val_loss: 424419.3438 - val_acc: 0.8962\n",
      "Epoch 143/150\n",
      "1373/1373 [==============================] - 88s 64ms/step - loss: 18901.0662 - acc: 0.9717 - val_loss: 391872.2188 - val_acc: 0.9002\n",
      "Epoch 144/150\n",
      "1373/1373 [==============================] - 88s 64ms/step - loss: 18944.1612 - acc: 0.9725 - val_loss: 424602.2188 - val_acc: 0.8855\n",
      "Epoch 145/150\n",
      "1373/1373 [==============================] - 88s 64ms/step - loss: 19433.0456 - acc: 0.9715 - val_loss: 429292.3750 - val_acc: 0.8906\n",
      "Epoch 146/150\n",
      "1373/1373 [==============================] - 88s 64ms/step - loss: 21112.2670 - acc: 0.9689 - val_loss: 415847.2812 - val_acc: 0.8990\n",
      "Epoch 147/150\n",
      "1373/1373 [==============================] - 88s 64ms/step - loss: 18374.9181 - acc: 0.9704 - val_loss: 416839.6562 - val_acc: 0.8913\n",
      "Epoch 148/150\n",
      "1373/1373 [==============================] - 88s 64ms/step - loss: 20539.9784 - acc: 0.9718 - val_loss: 406786.0625 - val_acc: 0.8947\n",
      "Epoch 149/150\n",
      "1373/1373 [==============================] - 89s 65ms/step - loss: 20098.9887 - acc: 0.9721 - val_loss: 429019.5625 - val_acc: 0.8893\n",
      "Epoch 150/150\n",
      "1373/1373 [==============================] - 88s 64ms/step - loss: 19358.0294 - acc: 0.9717 - val_loss: 430940.4062 - val_acc: 0.8942\n"
     ]
    }
   ],
   "source": [
    "history = model.fit(\n",
    "    train_generator,\n",
    "    epochs=150,\n",
    "    validation_data=validation_generator,\n",
    "    )"
   ]
  },
  {
   "cell_type": "code",
   "execution_count": 43,
   "id": "neither-silver",
   "metadata": {},
   "outputs": [],
   "source": [
    "save_hist_to_excel('history_model_all_data_dropout_0_5_new_convlayer_grayscale_mored_ropout_layers_down_down')"
   ]
  },
  {
   "cell_type": "code",
   "execution_count": 44,
   "id": "peaceful-grocery",
   "metadata": {},
   "outputs": [
    {
     "data": {
      "image/png": "[encoded data removed]",
      "text/plain": [
       "<Figure size 432x288 with 1 Axes>"
      ]
     },
     "metadata": {
      "needs_background": "light"
     },
     "output_type": "display_data"
    },
    {
     "data": {
      "image/png": "[encoded data removed]",
      "text/plain": [
       "<Figure size 432x288 with 1 Axes>"
      ]
     },
     "metadata": {
      "needs_background": "light"
     },
     "output_type": "display_data"
    }
   ],
   "source": [
    "#Displaying curves of loss and accuracy during training\n",
    "\n",
    "import matplotlib.pyplot as plt\n",
    "\n",
    "acc = history.history[\"acc\"]\n",
    "val_acc = history.history[\"val_acc\"]\n",
    "loss = history.history[\"loss\"]\n",
    "val_loss = history.history[\"val_loss\"]\n",
    "\n",
    "epochs = range(1, len(acc) + 1)\n",
    "\n",
    "plt.plot(epochs, acc, \"bo\", label=\"Training acc\")\n",
    "plt.plot(epochs, val_acc, \"b\", label=\"Validation acc\")\n",
    "plt.title(\"Training and validation accuracy\")\n",
    "plt.legend()\n",
    "\n",
    "plt.show()\n",
    "\n",
    "plt.plot(epochs, loss, \"bo\", label=\"Training loss\")\n",
    "plt.plot(epochs, val_loss, \"b\", label=\"Validation loss\")\n",
    "plt.title(\"Training and validation loss\")\n",
    "plt.legend()\n",
    "\n",
    "plt.show()"
   ]
  },
  {
   "cell_type": "code",
   "execution_count": null,
   "id": "simple-overhead",
   "metadata": {},
   "outputs": [],
   "source": []
  }
 ],
 "metadata": {
  "kernelspec": {
   "display_name": "Python 3",
   "language": "python",
   "name": "python3"
  },
  "language_info": {
   "codemirror_mode": {
    "name": "ipython",
    "version": 3
   },
   "file_extension": ".py",
   "mimetype": "text/x-python",
   "name": "python",
   "nbconvert_exporter": "python",
   "pygments_lexer": "ipython3",
   "version": "3.8.5"
  }
 },
 "nbformat": 4,
 "nbformat_minor": 5
}

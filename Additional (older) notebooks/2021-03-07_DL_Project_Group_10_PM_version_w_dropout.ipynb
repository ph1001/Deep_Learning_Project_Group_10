{
 "cells": [
  {
   "cell_type": "markdown",
   "id": "speaking-darkness",
   "metadata": {},
   "source": [
    "# Deep Learning Project - Traffic Signs Image Classification"
   ]
  },
  {
   "cell_type": "code",
   "execution_count": 3,
   "id": "equivalent-march",
   "metadata": {},
   "outputs": [],
   "source": [
    "import os, shutil\n",
    "import pandas as pd\n",
    "import seaborn as sns\n",
    "import matplotlib.pyplot as plt"
   ]
  },
  {
   "cell_type": "markdown",
   "id": "continental-membership",
   "metadata": {},
   "source": [
    "## Overview of the training data"
   ]
  },
  {
   "cell_type": "code",
   "execution_count": 4,
   "id": "selective-provider",
   "metadata": {},
   "outputs": [
    {
     "name": "stdout",
     "output_type": "stream",
     "text": [
      "There are 43 different classes within the training data!\n"
     ]
    }
   ],
   "source": [
    "#setting the training directory (the training images can be found there, already sorted by class into folders)\n",
    "# base_training_dir = \"/Users/franz/Desktop/DL Project/Train/Final_Training/Images\"\n",
    "base_training_dir = \"/Users/philippmetzger/Documents/GitHub/Deep_Learning_Project_Group_10/Data/GTSRB_Final_Training_Images/GTSRB/Final_Training/Images/\"\n",
    "\n",
    "#setting the directory where the selected training and validation images will be stored in\n",
    "# created_dir = \"/Users/franz/Desktop/DL Project/Selected\"\n",
    "created_dir = \"/Users/philippmetzger/Documents/GitHub/Deep_Learning_Project_Group_10/Data/Selected\"\n",
    "\n",
    "#storing all the folder names that belong to the respective classes\n",
    "all_classes = sorted(i for i in os.listdir(base_training_dir) if i.startswith(\"0\"))\n",
    "\n",
    "print(\"There are\", len(all_classes), \"different classes within the training data!\")"
   ]
  },
  {
   "cell_type": "code",
   "execution_count": 3,
   "id": "statutory-douglas",
   "metadata": {},
   "outputs": [],
   "source": [
    "#getting the number of images within each class of the training data\n",
    "amount_per_class = {}\n",
    "\n",
    "for i in range(len(all_classes)):\n",
    "    directory = base_training_dir + \"/\" + all_classes[i]\n",
    "    amount_per_class[i] = len(sorted(i for i in os.listdir(directory) if i.startswith(\"0\")))\n",
    "\n",
    "amount_per_class_df = pd.DataFrame.from_dict(amount_per_class, orient='index').rename(columns={0:\"amount\"})\n",
    "amount_per_class_df.index.name = 'class'\n",
    "\n",
    "#remove the \"#\" of the following line to display the number of images within each class\n",
    "#amount_per_class_df"
   ]
  },
  {
   "cell_type": "code",
   "execution_count": 4,
   "id": "compact-terminology",
   "metadata": {},
   "outputs": [
    {
     "data": {
      "image/png": "[encoded data removed]",
      "text/plain": [
       "<Figure size 1440x576 with 1 Axes>"
      ]
     },
     "metadata": {
      "needs_background": "light"
     },
     "output_type": "display_data"
    }
   ],
   "source": [
    "#displaying the number of images per class visually\n",
    "\n",
    "plt.rcParams[\"figure.figsize\"] = (20,8)\n",
    "fig, ax = plt.subplots()\n",
    "plt.bar(amount_per_class_df.index, amount_per_class_df.amount)\n",
    "plt.title(\"Number of images per class\", fontsize=20)\n",
    "plt.xlabel('class', fontsize=18)\n",
    "plt.ylabel('number of images', fontsize=18)\n",
    "ax.spines['right'].set_visible(False)\n",
    "ax.spines['top'].set_visible(False)\n",
    "plt.xticks(amount_per_class_df.index)\n",
    "plt.grid(axis=\"y\")\n",
    "plt.show()"
   ]
  },
  {
   "cell_type": "markdown",
   "id": "north-prompt",
   "metadata": {},
   "source": [
    "As it can be seen in the bar chart, the dataset is highly unbalanced. Some classes have over 2000 instances, while others only have 210."
   ]
  },
  {
   "cell_type": "code",
   "execution_count": 5,
   "id": "hispanic-relation",
   "metadata": {},
   "outputs": [
    {
     "data": {
      "text/html": [
       "<div>\n",
       "<style scoped>\n",
       "    .dataframe tbody tr th:only-of-type {\n",
       "        vertical-align: middle;\n",
       "    }\n",
       "\n",
       "    .dataframe tbody tr th {\n",
       "        vertical-align: top;\n",
       "    }\n",
       "\n",
       "    .dataframe thead th {\n",
       "        text-align: right;\n",
       "    }\n",
       "</style>\n",
       "<table border=\"1\" class=\"dataframe\">\n",
       "  <thead>\n",
       "    <tr style=\"text-align: right;\">\n",
       "      <th>class</th>\n",
       "      <th>0</th>\n",
       "      <th>37</th>\n",
       "      <th>19</th>\n",
       "      <th>32</th>\n",
       "      <th>27</th>\n",
       "      <th>41</th>\n",
       "      <th>42</th>\n",
       "      <th>24</th>\n",
       "      <th>29</th>\n",
       "      <th>39</th>\n",
       "      <th>21</th>\n",
       "      <th>40</th>\n",
       "      <th>20</th>\n",
       "      <th>36</th>\n",
       "      <th>22</th>\n",
       "      <th>6</th>\n",
       "      <th>16</th>\n",
       "      <th>34</th>\n",
       "      <th>30</th>\n",
       "      <th>23</th>\n",
       "    </tr>\n",
       "  </thead>\n",
       "  <tbody>\n",
       "    <tr>\n",
       "      <th>amount</th>\n",
       "      <td>210</td>\n",
       "      <td>210</td>\n",
       "      <td>210</td>\n",
       "      <td>240</td>\n",
       "      <td>240</td>\n",
       "      <td>240</td>\n",
       "      <td>240</td>\n",
       "      <td>270</td>\n",
       "      <td>270</td>\n",
       "      <td>300</td>\n",
       "      <td>330</td>\n",
       "      <td>360</td>\n",
       "      <td>360</td>\n",
       "      <td>390</td>\n",
       "      <td>390</td>\n",
       "      <td>420</td>\n",
       "      <td>420</td>\n",
       "      <td>420</td>\n",
       "      <td>450</td>\n",
       "      <td>510</td>\n",
       "    </tr>\n",
       "  </tbody>\n",
       "</table>\n",
       "</div>"
      ],
      "text/plain": [
       "class    0    37   19   32   27   41   42   24   29   39   21   40   20   36  \\\n",
       "amount  210  210  210  240  240  240  240  270  270  300  330  360  360  390   \n",
       "\n",
       "class    22   6    16   34   30   23  \n",
       "amount  390  420  420  420  450  510  "
      ]
     },
     "execution_count": 5,
     "metadata": {},
     "output_type": "execute_result"
    }
   ],
   "source": [
    "#displaying the 20 classes with the fewest images\n",
    "amount_per_class_df.sort_values(\"amount\").head(20).T"
   ]
  },
  {
   "cell_type": "markdown",
   "id": "printable-firmware",
   "metadata": {},
   "source": [
    "Within each class, there are several groups of images, that belong together (these are basically all images of the very same traffic sign, that just differ in that they were made as a series while approaching the actual sign). These series of images shouldn't be splitted later when the data is split into training and validation sets, so some precautions might be useful:"
   ]
  },
  {
   "cell_type": "code",
   "execution_count": 6,
   "id": "geological-particle",
   "metadata": {},
   "outputs": [
    {
     "name": "stdout",
     "output_type": "stream",
     "text": [
      "There is a series whose number doesn't match the others in class 00033 , with the prefix 00019 !\n",
      "It only contains 29 images.\n",
      "All the other series of images contain exactly 30 images!\n"
     ]
    }
   ],
   "source": [
    "#checking the size(=amount of images) of these series and whether they are all having the same size\n",
    "\n",
    "#running a for loop over all classes\n",
    "for i in range(len(all_classes)):\n",
    "    directory = base_training_dir + \"/\" + all_classes[i]\n",
    "    \n",
    "    #get the names of all images within a class\n",
    "    list_of_images = sorted(i for i in os.listdir(directory) if i.startswith(\"0\"))\n",
    "\n",
    "    image_series = []\n",
    "    \n",
    "    #store all the prefixes of the images (which correspond to the series they belong to)\n",
    "    for element in list_of_images:\n",
    "        image_series.append(element.split(\"_\")[0])\n",
    "    \n",
    "    #count the frequency of each prefix, which equals the size of each respective series\n",
    "    image_counts = pd.Series(image_series).value_counts().sort_index()\n",
    "\n",
    "    for element in image_counts.values.tolist():\n",
    "        if element != image_counts.values.tolist()[0]:\n",
    "            #this line will show if there is a series that contains not the same number of images than the others\n",
    "            print(\"There is a series whose number doesn't match the others in class\", all_classes[i], \", with the prefix\", image_counts.sort_values().index[0], \"!\\nIt only contains\", element, \"images.\")\n",
    "            \n",
    "\n",
    "#apart from only one series, all others consist of exactly 30 images\n",
    "print(\"All the other series of images contain exactly\", image_counts.values.tolist()[0], \"images!\")"
   ]
  },
  {
   "cell_type": "markdown",
   "id": "needed-belly",
   "metadata": {},
   "source": [
    "## Split into training and validation datasets"
   ]
  },
  {
   "cell_type": "markdown",
   "id": "adverse-cheese",
   "metadata": {},
   "source": [
    "As already mentioned, it is important for the split into training and validation sets that the individual image series stay together. As a first approach, there will be 210 images used per class, as this number corresponds to the amount of images in the \"smallest\" class. This will fix the problem of imbalance in the dataset. Subsequently, the data will be splitted by a 5:2 (150:60) ratio into training and validation set, in order to guarantee that the series will stay together."
   ]
  },
  {
   "cell_type": "code",
   "execution_count": 5,
   "id": "atlantic-hybrid",
   "metadata": {},
   "outputs": [
    {
     "ename": "FileExistsError",
     "evalue": "[Errno 17] File exists: '/Users/philippmetzger/Documents/GitHub/Deep_Learning_Project_Group_10/Data/Selected/training'",
     "output_type": "error",
     "traceback": [
      "\u001b[0;31m---------------------------------------------------------------------------\u001b[0m",
      "\u001b[0;31mFileExistsError\u001b[0m                           Traceback (most recent call last)",
      "\u001b[0;32m<ipython-input-5-2ce2d01508d9>\u001b[0m in \u001b[0;36m<module>\u001b[0;34m\u001b[0m\n\u001b[1;32m      1\u001b[0m \u001b[0;31m#creating folders within the class folders for the training and validation sets\u001b[0m\u001b[0;34m\u001b[0m\u001b[0;34m\u001b[0m\u001b[0;34m\u001b[0m\u001b[0m\n\u001b[1;32m      2\u001b[0m \u001b[0mtrain_dir\u001b[0m \u001b[0;34m=\u001b[0m \u001b[0mos\u001b[0m\u001b[0;34m.\u001b[0m\u001b[0mpath\u001b[0m\u001b[0;34m.\u001b[0m\u001b[0mjoin\u001b[0m\u001b[0;34m(\u001b[0m\u001b[0mcreated_dir\u001b[0m\u001b[0;34m,\u001b[0m \u001b[0;34m\"training\"\u001b[0m\u001b[0;34m)\u001b[0m\u001b[0;34m\u001b[0m\u001b[0;34m\u001b[0m\u001b[0m\n\u001b[0;32m----> 3\u001b[0;31m \u001b[0mos\u001b[0m\u001b[0;34m.\u001b[0m\u001b[0mmkdir\u001b[0m\u001b[0;34m(\u001b[0m\u001b[0mtrain_dir\u001b[0m\u001b[0;34m)\u001b[0m\u001b[0;34m\u001b[0m\u001b[0;34m\u001b[0m\u001b[0m\n\u001b[0m\u001b[1;32m      4\u001b[0m \u001b[0mvalidation_dir\u001b[0m \u001b[0;34m=\u001b[0m \u001b[0mos\u001b[0m\u001b[0;34m.\u001b[0m\u001b[0mpath\u001b[0m\u001b[0;34m.\u001b[0m\u001b[0mjoin\u001b[0m\u001b[0;34m(\u001b[0m\u001b[0mcreated_dir\u001b[0m\u001b[0;34m,\u001b[0m \u001b[0;34m\"validation\"\u001b[0m\u001b[0;34m)\u001b[0m\u001b[0;34m\u001b[0m\u001b[0;34m\u001b[0m\u001b[0m\n\u001b[1;32m      5\u001b[0m \u001b[0mos\u001b[0m\u001b[0;34m.\u001b[0m\u001b[0mmkdir\u001b[0m\u001b[0;34m(\u001b[0m\u001b[0mvalidation_dir\u001b[0m\u001b[0;34m)\u001b[0m\u001b[0;34m\u001b[0m\u001b[0;34m\u001b[0m\u001b[0m\n",
      "\u001b[0;31mFileExistsError\u001b[0m: [Errno 17] File exists: '/Users/philippmetzger/Documents/GitHub/Deep_Learning_Project_Group_10/Data/Selected/training'"
     ]
    }
   ],
   "source": [
    "#creating folders within the class folders for the training and validation sets\n",
    "train_dir = os.path.join(created_dir, \"training\")\n",
    "os.mkdir(train_dir)\n",
    "validation_dir = os.path.join(created_dir, \"validation\")\n",
    "os.mkdir(validation_dir)\n",
    "\n",
    "#creating folders for each class within the training and validation folders\n",
    "for i in range(len(all_classes)):\n",
    "    directory_train = os.path.join(train_dir, all_classes[i])\n",
    "    directory_val = os.path.join(validation_dir, all_classes[i])\n",
    "\n",
    "    os.mkdir(directory_train)\n",
    "    os.mkdir(directory_val)"
   ]
  },
  {
   "cell_type": "code",
   "execution_count": 11,
   "id": "widespread-vision",
   "metadata": {},
   "outputs": [],
   "source": [
    "#creating a list that contains the names of the 1st, 2nd and 3rd series of images (3x30 names)\n",
    "training_names = []\n",
    "\n",
    "for i in range(5):\n",
    "    name = \"0000\" + str(i)\n",
    "    for i2 in range(30):\n",
    "        if i2 < 10:\n",
    "            name = name + \"_0000\" + str(i2) + \".ppm\"\n",
    "            training_names.append(name)\n",
    "            name = \"0000\" + str(i)\n",
    "        else:\n",
    "            name = name + \"_000\" + str(i2) + \".ppm\"\n",
    "            training_names.append(name)\n",
    "            name = \"0000\" + str(i)\n",
    "\n",
    "\n",
    "#creating a list that contains the names of the 4th and 5th series of images (2x30 names)\n",
    "val_names = []\n",
    "\n",
    "for i in range(5,7):\n",
    "    name = \"0000\" + str(i)\n",
    "    for i2 in range(30):\n",
    "        if i2 < 10:\n",
    "            name = name + \"_0000\" + str(i2) + \".ppm\"\n",
    "            val_names.append(name)\n",
    "            name = \"0000\" + str(i)\n",
    "        else:\n",
    "            name = name + \"_000\" + str(i2) + \".ppm\"\n",
    "            val_names.append(name)\n",
    "            name = \"0000\" + str(i)"
   ]
  },
  {
   "cell_type": "code",
   "execution_count": 12,
   "id": "north-corrections",
   "metadata": {},
   "outputs": [],
   "source": [
    "#copying the first 3 series within a class into the train folder and the 2 consecutive series into the validation folder \n",
    "for i in range(len(all_classes)):\n",
    "\n",
    "    for name in training_names:\n",
    "        src = base_training_dir + \"/\" + all_classes[i] + \"/\" + name\n",
    "        dst = train_dir + \"/\" + all_classes[i] + \"/\"  + name\n",
    "        shutil.copyfile(src, dst)\n",
    "    \n",
    "    for name in val_names:\n",
    "        src = base_training_dir + \"/\" + all_classes[i] + \"/\" + name\n",
    "        dst = validation_dir + \"/\" + all_classes[i] + \"/\"  + name\n",
    "        shutil.copyfile(src, dst)"
   ]
  },
  {
   "cell_type": "markdown",
   "id": "efficient-retrieval",
   "metadata": {},
   "source": [
    "Now, there should be exactly 150 images within the train folder of each class and 60 images within the validation folder. Having 43 different classes, this means that there are a total of 6,450 (150x43) training images and another 2,580 (60x43) validation images. A sanity check will show if this worked correctly:"
   ]
  },
  {
   "cell_type": "code",
   "execution_count": 13,
   "id": "infectious-student",
   "metadata": {},
   "outputs": [
    {
     "name": "stdout",
     "output_type": "stream",
     "text": [
      "Class 0 : training set size = 150 ; validation set size: 60\n",
      "Class 1 : training set size = 150 ; validation set size: 60\n",
      "Class 2 : training set size = 150 ; validation set size: 60\n",
      "Class 3 : training set size = 150 ; validation set size: 60\n",
      "Class 4 : training set size = 150 ; validation set size: 60\n",
      "Class 5 : training set size = 150 ; validation set size: 60\n",
      "Class 6 : training set size = 150 ; validation set size: 60\n",
      "Class 7 : training set size = 150 ; validation set size: 60\n",
      "Class 8 : training set size = 150 ; validation set size: 60\n",
      "Class 9 : training set size = 150 ; validation set size: 60\n",
      "Class 10 : training set size = 150 ; validation set size: 60\n",
      "Class 11 : training set size = 150 ; validation set size: 60\n",
      "Class 12 : training set size = 150 ; validation set size: 60\n",
      "Class 13 : training set size = 150 ; validation set size: 60\n",
      "Class 14 : training set size = 150 ; validation set size: 60\n",
      "Class 15 : training set size = 150 ; validation set size: 60\n",
      "Class 16 : training set size = 150 ; validation set size: 60\n",
      "Class 17 : training set size = 150 ; validation set size: 60\n",
      "Class 18 : training set size = 150 ; validation set size: 60\n",
      "Class 19 : training set size = 150 ; validation set size: 60\n",
      "Class 20 : training set size = 150 ; validation set size: 60\n",
      "Class 21 : training set size = 150 ; validation set size: 60\n",
      "Class 22 : training set size = 150 ; validation set size: 60\n",
      "Class 23 : training set size = 150 ; validation set size: 60\n",
      "Class 24 : training set size = 150 ; validation set size: 60\n",
      "Class 25 : training set size = 150 ; validation set size: 60\n",
      "Class 26 : training set size = 150 ; validation set size: 60\n",
      "Class 27 : training set size = 150 ; validation set size: 60\n",
      "Class 28 : training set size = 150 ; validation set size: 60\n",
      "Class 29 : training set size = 150 ; validation set size: 60\n",
      "Class 30 : training set size = 150 ; validation set size: 60\n",
      "Class 31 : training set size = 150 ; validation set size: 60\n",
      "Class 32 : training set size = 150 ; validation set size: 60\n",
      "Class 33 : training set size = 150 ; validation set size: 60\n",
      "Class 34 : training set size = 150 ; validation set size: 60\n",
      "Class 35 : training set size = 150 ; validation set size: 60\n",
      "Class 36 : training set size = 150 ; validation set size: 60\n",
      "Class 37 : training set size = 150 ; validation set size: 60\n",
      "Class 38 : training set size = 150 ; validation set size: 60\n",
      "Class 39 : training set size = 150 ; validation set size: 60\n",
      "Class 40 : training set size = 150 ; validation set size: 60\n",
      "Class 41 : training set size = 150 ; validation set size: 60\n",
      "Class 42 : training set size = 150 ; validation set size: 60\n"
     ]
    }
   ],
   "source": [
    "for i in range(len(all_classes)):\n",
    "    print(\"Class\", i, \": training set size =\", len(os.listdir(train_dir + \"/\" + all_classes[i])), \"; validation set size:\", len(os.listdir(validation_dir + \"/\" + all_classes[i])))"
   ]
  },
  {
   "cell_type": "markdown",
   "id": "micro-period",
   "metadata": {},
   "source": [
    "As it can be seen, it worked correctly!"
   ]
  },
  {
   "cell_type": "markdown",
   "id": "loose-houston",
   "metadata": {},
   "source": [
    "## Data Preprocessing"
   ]
  },
  {
   "cell_type": "code",
   "execution_count": 10,
   "id": "failing-familiar",
   "metadata": {},
   "outputs": [
    {
     "name": "stdout",
     "output_type": "stream",
     "text": [
      "Found 6450 images belonging to 43 classes.\n",
      "Found 2580 images belonging to 43 classes.\n"
     ]
    }
   ],
   "source": [
    "from keras.preprocessing.image import ImageDataGenerator\n",
    "\n",
    "train_datagen = ImageDataGenerator(rescale=1./255)\n",
    "test_datagen = ImageDataGenerator(rescale=1./255)\n",
    "\n",
    "train_generator = train_datagen.flow_from_directory(\n",
    "    train_dir,\n",
    "    target_size=(150,150),\n",
    "    batch_size=20,\n",
    "    class_mode=\"categorical\")\n",
    "\n",
    "validation_generator = test_datagen.flow_from_directory(\n",
    "    validation_dir,\n",
    "    target_size=(150,150),\n",
    "    batch_size=20,\n",
    "    class_mode=\"categorical\")"
   ]
  },
  {
   "cell_type": "code",
   "execution_count": null,
   "id": "noticed-awareness",
   "metadata": {},
   "outputs": [],
   "source": []
  },
  {
   "cell_type": "markdown",
   "id": "relative-translator",
   "metadata": {},
   "source": [
    "## Draft of the model"
   ]
  },
  {
   "cell_type": "markdown",
   "id": "eleven-religion",
   "metadata": {},
   "source": [
    "#### Building the model"
   ]
  },
  {
   "cell_type": "code",
   "execution_count": 15,
   "id": "exciting-marshall",
   "metadata": {},
   "outputs": [],
   "source": [
    "from keras import layers\n",
    "from keras import models\n",
    "\n",
    "model = models.Sequential()\n",
    "model.add(layers.Conv2D(32, (3, 3), activation='relu', input_shape=(150, 150, 3)))\n",
    "model.add(layers.MaxPooling2D((2, 2)))\n",
    "model.add(layers.Conv2D(64, (3, 3), activation='relu'))\n",
    "model.add(layers.MaxPooling2D((2, 2) ))\n",
    "model.add(layers.Flatten())\n",
    "model.add(layers.Dense(512, activation='relu'))\n",
    "model.add(layers.Dense (43, activation='softmax'))"
   ]
  },
  {
   "cell_type": "code",
   "execution_count": 16,
   "id": "competent-american",
   "metadata": {},
   "outputs": [
    {
     "name": "stdout",
     "output_type": "stream",
     "text": [
      "Model: \"sequential\"\n",
      "_________________________________________________________________\n",
      "Layer (type)                 Output Shape              Param #   \n",
      "=================================================================\n",
      "conv2d (Conv2D)              (None, 148, 148, 32)      896       \n",
      "_________________________________________________________________\n",
      "max_pooling2d (MaxPooling2D) (None, 74, 74, 32)        0         \n",
      "_________________________________________________________________\n",
      "conv2d_1 (Conv2D)            (None, 72, 72, 64)        18496     \n",
      "_________________________________________________________________\n",
      "max_pooling2d_1 (MaxPooling2 (None, 36, 36, 64)        0         \n",
      "_________________________________________________________________\n",
      "flatten (Flatten)            (None, 82944)             0         \n",
      "_________________________________________________________________\n",
      "dense (Dense)                (None, 512)               42467840  \n",
      "_________________________________________________________________\n",
      "dense_1 (Dense)              (None, 43)                22059     \n",
      "=================================================================\n",
      "Total params: 42,509,291\n",
      "Trainable params: 42,509,291\n",
      "Non-trainable params: 0\n",
      "_________________________________________________________________\n"
     ]
    }
   ],
   "source": [
    "model.summary()"
   ]
  },
  {
   "cell_type": "markdown",
   "id": "smoking-oxygen",
   "metadata": {},
   "source": [
    "#### Training the model"
   ]
  },
  {
   "cell_type": "code",
   "execution_count": 17,
   "id": "authentic-competition",
   "metadata": {},
   "outputs": [],
   "source": [
    "from keras import optimizers\n",
    "\n",
    "#compilation\n",
    "model.compile(loss=\"categorical_crossentropy\", optimizer=optimizers.RMSprop(lr=1e-4), metrics=[\"acc\"])"
   ]
  },
  {
   "cell_type": "code",
   "execution_count": 18,
   "id": "environmental-development",
   "metadata": {},
   "outputs": [
    {
     "name": "stdout",
     "output_type": "stream",
     "text": [
      "data batch shape: (20, 150, 150, 3)\n",
      "labels batch shape: (20, 43)\n"
     ]
    }
   ],
   "source": [
    "import sys\n",
    "from PIL import Image\n",
    "sys.modules['Image'] = Image\n",
    "\n",
    "for data_batch, labels_batch in train_generator:\n",
    "    print('data batch shape:', data_batch.shape)\n",
    "    print('labels batch shape:', labels_batch.shape)\n",
    "    break"
   ]
  },
  {
   "cell_type": "code",
   "execution_count": 19,
   "id": "arbitrary-salmon",
   "metadata": {},
   "outputs": [
    {
     "name": "stderr",
     "output_type": "stream",
     "text": [
      "/Users/philippmetzger/anaconda3/envs/dl_pip_2/lib/python3.8/site-packages/tensorflow/python/keras/engine/training.py:1844: UserWarning: `Model.fit_generator` is deprecated and will be removed in a future version. Please use `Model.fit`, which supports generators.\n",
      "  warnings.warn('`Model.fit_generator` is deprecated and '\n"
     ]
    },
    {
     "name": "stdout",
     "output_type": "stream",
     "text": [
      "Epoch 1/30\n",
      "100/100 [==============================] - 59s 584ms/step - loss: 3.6939 - acc: 0.1018 - val_loss: 3.1527 - val_acc: 0.2150\n",
      "Epoch 2/30\n",
      "100/100 [==============================] - 66s 659ms/step - loss: 2.2891 - acc: 0.4432 - val_loss: 2.7771 - val_acc: 0.3090\n",
      "Epoch 3/30\n",
      "100/100 [==============================] - 61s 607ms/step - loss: 1.5225 - acc: 0.6354 - val_loss: 2.3801 - val_acc: 0.3780\n",
      "Epoch 4/30\n",
      "100/100 [==============================] - 61s 603ms/step - loss: 1.0086 - acc: 0.7583 - val_loss: 2.3676 - val_acc: 0.4160\n",
      "Epoch 5/30\n",
      "100/100 [==============================] - 60s 601ms/step - loss: 0.8230 - acc: 0.7792 - val_loss: 2.2118 - val_acc: 0.4840\n",
      "Epoch 6/30\n",
      "100/100 [==============================] - 58s 585ms/step - loss: 0.5411 - acc: 0.8782 - val_loss: 2.4693 - val_acc: 0.4590\n",
      "Epoch 7/30\n",
      "100/100 [==============================] - 58s 577ms/step - loss: 0.4222 - acc: 0.9094 - val_loss: 2.2561 - val_acc: 0.4820\n",
      "Epoch 8/30\n",
      "100/100 [==============================] - 56s 557ms/step - loss: 0.3491 - acc: 0.9297 - val_loss: 2.3564 - val_acc: 0.4850\n",
      "Epoch 9/30\n",
      "100/100 [==============================] - 56s 556ms/step - loss: 0.2645 - acc: 0.9420 - val_loss: 2.1787 - val_acc: 0.5350\n",
      "Epoch 10/30\n",
      "100/100 [==============================] - 56s 558ms/step - loss: 0.1762 - acc: 0.9691 - val_loss: 2.3569 - val_acc: 0.5130\n",
      "Epoch 11/30\n",
      "100/100 [==============================] - 56s 561ms/step - loss: 0.1547 - acc: 0.9677 - val_loss: 2.1757 - val_acc: 0.5610\n",
      "Epoch 12/30\n",
      "100/100 [==============================] - 62s 619ms/step - loss: 0.1328 - acc: 0.9749 - val_loss: 2.3408 - val_acc: 0.5730\n",
      "Epoch 13/30\n",
      "100/100 [==============================] - 53s 535ms/step - loss: 0.1312 - acc: 0.9733 - val_loss: 2.6627 - val_acc: 0.5580\n",
      "Epoch 14/30\n",
      "100/100 [==============================] - 54s 537ms/step - loss: 0.1017 - acc: 0.9761 - val_loss: 2.0666 - val_acc: 0.6020\n",
      "Epoch 15/30\n",
      "100/100 [==============================] - 53s 532ms/step - loss: 0.0895 - acc: 0.9820 - val_loss: 2.1873 - val_acc: 0.5550\n",
      "Epoch 16/30\n",
      "100/100 [==============================] - 53s 532ms/step - loss: 0.0706 - acc: 0.9848 - val_loss: 2.5625 - val_acc: 0.5350\n",
      "Epoch 17/30\n",
      "100/100 [==============================] - 53s 532ms/step - loss: 0.0690 - acc: 0.9778 - val_loss: 2.4401 - val_acc: 0.5850\n",
      "Epoch 18/30\n",
      "100/100 [==============================] - 53s 532ms/step - loss: 0.0491 - acc: 0.9863 - val_loss: 2.5170 - val_acc: 0.5780\n",
      "Epoch 19/30\n",
      "100/100 [==============================] - 54s 536ms/step - loss: 0.0372 - acc: 0.9902 - val_loss: 2.5818 - val_acc: 0.5650\n",
      "Epoch 20/30\n",
      "100/100 [==============================] - 53s 533ms/step - loss: 0.0550 - acc: 0.9855 - val_loss: 2.2606 - val_acc: 0.6040\n",
      "Epoch 21/30\n",
      "100/100 [==============================] - 53s 530ms/step - loss: 0.0278 - acc: 0.9964 - val_loss: 2.5956 - val_acc: 0.5620\n",
      "Epoch 22/30\n",
      "100/100 [==============================] - 53s 530ms/step - loss: 0.0240 - acc: 0.9944 - val_loss: 2.9884 - val_acc: 0.5600\n",
      "Epoch 23/30\n",
      "100/100 [==============================] - 53s 531ms/step - loss: 0.0229 - acc: 0.9949 - val_loss: 2.6412 - val_acc: 0.5790\n",
      "Epoch 24/30\n",
      "100/100 [==============================] - 53s 529ms/step - loss: 0.0242 - acc: 0.9950 - val_loss: 2.8946 - val_acc: 0.5920\n",
      "Epoch 25/30\n",
      "100/100 [==============================] - 53s 531ms/step - loss: 0.0194 - acc: 0.9959 - val_loss: 2.5163 - val_acc: 0.6240\n",
      "Epoch 26/30\n",
      "100/100 [==============================] - 53s 531ms/step - loss: 0.0196 - acc: 0.9934 - val_loss: 2.5352 - val_acc: 0.6200\n",
      "Epoch 27/30\n",
      "100/100 [==============================] - 53s 528ms/step - loss: 0.0329 - acc: 0.9921 - val_loss: 2.8427 - val_acc: 0.5920\n",
      "Epoch 28/30\n",
      "100/100 [==============================] - 53s 529ms/step - loss: 0.0070 - acc: 0.9986 - val_loss: 2.8665 - val_acc: 0.5890\n",
      "Epoch 29/30\n",
      "100/100 [==============================] - 53s 532ms/step - loss: 0.0094 - acc: 0.9983 - val_loss: 2.8065 - val_acc: 0.5830\n",
      "Epoch 30/30\n",
      "100/100 [==============================] - 53s 531ms/step - loss: 0.0339 - acc: 0.9978 - val_loss: 2.9416 - val_acc: 0.5950\n"
     ]
    }
   ],
   "source": [
    "history = model.fit_generator(\n",
    "    train_generator,\n",
    "    steps_per_epoch=100,\n",
    "    epochs=30,\n",
    "    validation_data=validation_generator,\n",
    "    validation_steps=50)"
   ]
  },
  {
   "cell_type": "code",
   "execution_count": 21,
   "id": "handled-reggae",
   "metadata": {},
   "outputs": [
    {
     "data": {
      "image/png": "[encoded data removed]",
      "text/plain": [
       "<Figure size 1440x576 with 1 Axes>"
      ]
     },
     "metadata": {
      "needs_background": "light"
     },
     "output_type": "display_data"
    },
    {
     "data": {
      "image/png": "[encoded data removed]",
      "text/plain": [
       "<Figure size 1440x576 with 1 Axes>"
      ]
     },
     "metadata": {
      "needs_background": "light"
     },
     "output_type": "display_data"
    }
   ],
   "source": [
    "#Displaying curves of loss and accuracy during training\n",
    "\n",
    "import matplotlib.pyplot as plt\n",
    "\n",
    "acc = history.history[\"acc\"]\n",
    "val_acc = history.history[\"val_acc\"]\n",
    "loss = history.history[\"loss\"]\n",
    "val_loss = history.history[\"val_loss\"]\n",
    "\n",
    "epochs = range(1, len(acc) + 1)\n",
    "\n",
    "plt.plot(epochs, acc, \"bo\", label=\"Training acc\")\n",
    "plt.plot(epochs, val_acc, \"b\", label=\"Validation acc\")\n",
    "plt.title(\"Training and validation accuracy\")\n",
    "plt.legend()\n",
    "\n",
    "plt.show()\n",
    "\n",
    "plt.plot(epochs, loss, \"bo\", label=\"Training loss\")\n",
    "plt.plot(epochs, val_loss, \"b\", label=\"Validation loss\")\n",
    "plt.title(\"Training and validation loss\")\n",
    "plt.legend()\n",
    "\n",
    "plt.show()"
   ]
  },
  {
   "cell_type": "markdown",
   "id": "classical-appliance",
   "metadata": {},
   "source": [
    "## Rebuidling the model with dropout"
   ]
  },
  {
   "cell_type": "code",
   "execution_count": 6,
   "id": "given-lloyd",
   "metadata": {},
   "outputs": [],
   "source": [
    "train_dir = os.path.join(created_dir, \"training\")\n",
    "# os.mkdir(train_dir)\n",
    "validation_dir = os.path.join(created_dir, \"validation\")\n",
    "# os.mkdir(validation_dir)"
   ]
  },
  {
   "cell_type": "code",
   "execution_count": 1,
   "id": "ruled-greensboro",
   "metadata": {},
   "outputs": [],
   "source": [
    "from keras import layers\n",
    "from keras import models\n",
    "\n",
    "model = models.Sequential()\n",
    "model.add(layers.Conv2D(32, (3, 3), activation='relu', input_shape=(150, 150, 3)))\n",
    "model.add(layers.MaxPooling2D((2, 2)))\n",
    "model.add(layers.Conv2D(64, (3, 3), activation='relu'))\n",
    "model.add(layers.MaxPooling2D((2, 2) ))\n",
    "model.add(layers.Flatten())\n",
    "model.add(layers.Dropout(0.5))\n",
    "model.add(layers.Dense(512, activation='relu'))\n",
    "model.add(layers.Dense (43, activation='softmax'))"
   ]
  },
  {
   "cell_type": "code",
   "execution_count": 7,
   "id": "imperial-japanese",
   "metadata": {},
   "outputs": [
    {
     "name": "stdout",
     "output_type": "stream",
     "text": [
      "Model: \"sequential\"\n",
      "_________________________________________________________________\n",
      "Layer (type)                 Output Shape              Param #   \n",
      "=================================================================\n",
      "conv2d (Conv2D)              (None, 148, 148, 32)      896       \n",
      "_________________________________________________________________\n",
      "max_pooling2d (MaxPooling2D) (None, 74, 74, 32)        0         \n",
      "_________________________________________________________________\n",
      "conv2d_1 (Conv2D)            (None, 72, 72, 64)        18496     \n",
      "_________________________________________________________________\n",
      "max_pooling2d_1 (MaxPooling2 (None, 36, 36, 64)        0         \n",
      "_________________________________________________________________\n",
      "flatten (Flatten)            (None, 82944)             0         \n",
      "_________________________________________________________________\n",
      "dropout (Dropout)            (None, 82944)             0         \n",
      "_________________________________________________________________\n",
      "dense (Dense)                (None, 512)               42467840  \n",
      "_________________________________________________________________\n",
      "dense_1 (Dense)              (None, 43)                22059     \n",
      "=================================================================\n",
      "Total params: 42,509,291\n",
      "Trainable params: 42,509,291\n",
      "Non-trainable params: 0\n",
      "_________________________________________________________________\n"
     ]
    }
   ],
   "source": [
    "model.summary()"
   ]
  },
  {
   "cell_type": "code",
   "execution_count": 8,
   "id": "ecological-restriction",
   "metadata": {},
   "outputs": [],
   "source": [
    "from keras import optimizers\n",
    "\n",
    "#compilation\n",
    "model.compile(loss=\"categorical_crossentropy\", optimizer=optimizers.RMSprop(lr=1e-4), metrics=[\"acc\"])"
   ]
  },
  {
   "cell_type": "code",
   "execution_count": 11,
   "id": "coordinate-overhead",
   "metadata": {},
   "outputs": [
    {
     "name": "stderr",
     "output_type": "stream",
     "text": [
      "/Users/philippmetzger/anaconda3/envs/dl_pip_2/lib/python3.8/site-packages/tensorflow/python/keras/engine/training.py:1844: UserWarning: `Model.fit_generator` is deprecated and will be removed in a future version. Please use `Model.fit`, which supports generators.\n",
      "  warnings.warn('`Model.fit_generator` is deprecated and '\n"
     ]
    },
    {
     "name": "stdout",
     "output_type": "stream",
     "text": [
      "Epoch 1/30\n",
      "100/100 [==============================] - 60s 593ms/step - loss: 3.8127 - acc: 0.0793 - val_loss: 3.2372 - val_acc: 0.1670\n",
      "Epoch 2/30\n",
      "100/100 [==============================] - 57s 572ms/step - loss: 2.5475 - acc: 0.3434 - val_loss: 2.9126 - val_acc: 0.2460\n",
      "Epoch 3/30\n",
      "100/100 [==============================] - 55s 545ms/step - loss: 1.7922 - acc: 0.5687 - val_loss: 2.7502 - val_acc: 0.2900\n",
      "Epoch 4/30\n",
      "100/100 [==============================] - 55s 546ms/step - loss: 1.2811 - acc: 0.6831 - val_loss: 2.7081 - val_acc: 0.3000\n",
      "Epoch 5/30\n",
      "100/100 [==============================] - 55s 549ms/step - loss: 0.8998 - acc: 0.7829 - val_loss: 2.4706 - val_acc: 0.4000\n",
      "Epoch 6/30\n",
      "100/100 [==============================] - 55s 552ms/step - loss: 0.6977 - acc: 0.8364 - val_loss: 2.5336 - val_acc: 0.3950\n",
      "Epoch 7/30\n",
      "100/100 [==============================] - 55s 551ms/step - loss: 0.5296 - acc: 0.8748 - val_loss: 2.7183 - val_acc: 0.4130\n",
      "Epoch 8/30\n",
      "100/100 [==============================] - 55s 551ms/step - loss: 0.4534 - acc: 0.9064 - val_loss: 2.1639 - val_acc: 0.4960\n",
      "Epoch 9/30\n",
      "100/100 [==============================] - 55s 551ms/step - loss: 0.3562 - acc: 0.9228 - val_loss: 2.3099 - val_acc: 0.4800\n",
      "Epoch 10/30\n",
      "100/100 [==============================] - 55s 551ms/step - loss: 0.2679 - acc: 0.9471 - val_loss: 2.6702 - val_acc: 0.4520\n",
      "Epoch 11/30\n",
      "100/100 [==============================] - 55s 552ms/step - loss: 0.2383 - acc: 0.9459 - val_loss: 2.8137 - val_acc: 0.4760\n",
      "Epoch 12/30\n",
      "100/100 [==============================] - 55s 552ms/step - loss: 0.2163 - acc: 0.9559 - val_loss: 2.7065 - val_acc: 0.4820\n",
      "Epoch 13/30\n",
      "100/100 [==============================] - 56s 556ms/step - loss: 0.1463 - acc: 0.9749 - val_loss: 2.9161 - val_acc: 0.4970\n",
      "Epoch 14/30\n",
      "100/100 [==============================] - 55s 552ms/step - loss: 0.1417 - acc: 0.9707 - val_loss: 3.0190 - val_acc: 0.4500\n",
      "Epoch 15/30\n",
      "100/100 [==============================] - 55s 552ms/step - loss: 0.1169 - acc: 0.9740 - val_loss: 2.9229 - val_acc: 0.4990\n",
      "Epoch 16/30\n",
      "100/100 [==============================] - 55s 554ms/step - loss: 0.0852 - acc: 0.9770 - val_loss: 3.0670 - val_acc: 0.4870\n",
      "Epoch 17/30\n",
      "100/100 [==============================] - 55s 553ms/step - loss: 0.0711 - acc: 0.9821 - val_loss: 2.9723 - val_acc: 0.4910\n",
      "Epoch 18/30\n",
      "100/100 [==============================] - 55s 555ms/step - loss: 0.0563 - acc: 0.9883 - val_loss: 3.0429 - val_acc: 0.5280\n",
      "Epoch 19/30\n",
      "100/100 [==============================] - 56s 561ms/step - loss: 0.0755 - acc: 0.9884 - val_loss: 2.8475 - val_acc: 0.5120\n",
      "Epoch 20/30\n",
      "100/100 [==============================] - 54s 545ms/step - loss: 0.0501 - acc: 0.9910 - val_loss: 3.0697 - val_acc: 0.4930\n",
      "Epoch 21/30\n",
      "100/100 [==============================] - 57s 567ms/step - loss: 0.0365 - acc: 0.9926 - val_loss: 3.4342 - val_acc: 0.4620\n",
      "Epoch 22/30\n",
      "100/100 [==============================] - 55s 555ms/step - loss: 0.0628 - acc: 0.9904 - val_loss: 2.8637 - val_acc: 0.5300\n",
      "Epoch 23/30\n",
      "100/100 [==============================] - 55s 554ms/step - loss: 0.0291 - acc: 0.9969 - val_loss: 3.0467 - val_acc: 0.5560\n",
      "Epoch 24/30\n",
      "100/100 [==============================] - 56s 555ms/step - loss: 0.0607 - acc: 0.9893 - val_loss: 3.4894 - val_acc: 0.4870\n",
      "Epoch 25/30\n",
      "100/100 [==============================] - 55s 555ms/step - loss: 0.0198 - acc: 0.9942 - val_loss: 3.1353 - val_acc: 0.5250\n",
      "Epoch 26/30\n",
      "100/100 [==============================] - 56s 556ms/step - loss: 0.0262 - acc: 0.9937 - val_loss: 3.2032 - val_acc: 0.5220\n",
      "Epoch 27/30\n",
      "100/100 [==============================] - 55s 554ms/step - loss: 0.0243 - acc: 0.9953 - val_loss: 3.2947 - val_acc: 0.4910\n",
      "Epoch 28/30\n",
      "100/100 [==============================] - 56s 556ms/step - loss: 0.0152 - acc: 0.9973 - val_loss: 3.6888 - val_acc: 0.5270\n",
      "Epoch 29/30\n",
      "100/100 [==============================] - 56s 557ms/step - loss: 0.0144 - acc: 0.9977 - val_loss: 2.8653 - val_acc: 0.5580\n",
      "Epoch 30/30\n",
      "100/100 [==============================] - 56s 555ms/step - loss: 0.0145 - acc: 0.9961 - val_loss: 3.3320 - val_acc: 0.5540\n"
     ]
    }
   ],
   "source": [
    "history = model.fit_generator(\n",
    "    train_generator,\n",
    "    steps_per_epoch=100,\n",
    "    epochs=30,\n",
    "    validation_data=validation_generator,\n",
    "    validation_steps=50\n",
    "    )"
   ]
  },
  {
   "cell_type": "code",
   "execution_count": 14,
   "id": "pregnant-hollywood",
   "metadata": {},
   "outputs": [
    {
     "data": {
      "image/png": "[encoded data removed]",
      "text/plain": [
       "<Figure size 432x288 with 1 Axes>"
      ]
     },
     "metadata": {
      "needs_background": "light"
     },
     "output_type": "display_data"
    },
    {
     "data": {
      "image/png": "[encoded data removed]",
      "text/plain": [
       "<Figure size 432x288 with 1 Axes>"
      ]
     },
     "metadata": {
      "needs_background": "light"
     },
     "output_type": "display_data"
    }
   ],
   "source": [
    "#Displaying curves of loss and accuracy during training\n",
    "\n",
    "import matplotlib.pyplot as plt\n",
    "\n",
    "acc = history.history[\"acc\"]\n",
    "val_acc = history.history[\"val_acc\"]\n",
    "loss = history.history[\"loss\"]\n",
    "val_loss = history.history[\"val_loss\"]\n",
    "\n",
    "epochs = range(1, len(acc) + 1)\n",
    "\n",
    "plt.plot(epochs, acc, \"bo\", label=\"Training acc\")\n",
    "plt.plot(epochs, val_acc, \"b\", label=\"Validation acc\")\n",
    "plt.title(\"Training and validation accuracy\")\n",
    "plt.legend()\n",
    "\n",
    "plt.show()\n",
    "\n",
    "plt.plot(epochs, loss, \"bo\", label=\"Training loss\")\n",
    "plt.plot(epochs, val_loss, \"b\", label=\"Validation loss\")\n",
    "plt.title(\"Training and validation loss\")\n",
    "plt.legend()\n",
    "\n",
    "plt.show()"
   ]
  },
  {
   "cell_type": "code",
   "execution_count": null,
   "id": "colored-sociology",
   "metadata": {},
   "outputs": [],
   "source": []
  },
  {
   "cell_type": "code",
   "execution_count": null,
   "id": "allied-group",
   "metadata": {},
   "outputs": [],
   "source": []
  },
  {
   "cell_type": "code",
   "execution_count": null,
   "id": "impressed-georgia",
   "metadata": {},
   "outputs": [],
   "source": []
  }
 ],
 "metadata": {
  "kernelspec": {
   "display_name": "Python 3",
   "language": "python",
   "name": "python3"
  },
  "language_info": {
   "codemirror_mode": {
    "name": "ipython",
    "version": 3
   },
   "file_extension": ".py",
   "mimetype": "text/x-python",
   "name": "python",
   "nbconvert_exporter": "python",
   "pygments_lexer": "ipython3",
   "version": "3.8.5"
  }
 },
 "nbformat": 4,
 "nbformat_minor": 5
}

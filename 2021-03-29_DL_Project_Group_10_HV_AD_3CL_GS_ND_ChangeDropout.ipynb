{
 "cells": [
  {
   "cell_type": "markdown",
   "id": "determined-remark",
   "metadata": {},
   "source": [
    "# Deep Learning Project - Traffic Signs Image Classification"
   ]
  },
  {
   "cell_type": "code",
   "execution_count": 1,
   "id": "authentic-cyprus",
   "metadata": {},
   "outputs": [],
   "source": [
    "import os, shutil\n",
    "import pandas as pd\n",
    "import seaborn as sns\n",
    "import matplotlib.pyplot as plt"
   ]
  },
  {
   "cell_type": "code",
   "execution_count": 2,
   "id": "prescription-conspiracy",
   "metadata": {},
   "outputs": [],
   "source": [
    "def save_hist_to_excel(filename):\n",
    "    df = pd.DataFrame(history.history)\n",
    "    df.to_excel(filename + '.xlsx')"
   ]
  },
  {
   "cell_type": "markdown",
   "id": "vietnamese-attention",
   "metadata": {},
   "source": [
    "## Overview of the training data"
   ]
  },
  {
   "cell_type": "code",
   "execution_count": null,
   "id": "civic-alberta",
   "metadata": {},
   "outputs": [],
   "source": [
    "#setting the training directory (the training images can be found there, already sorted by class into folders)\n",
    "base_training_dir = \"/Users/henriquevaz/NOVA IMS/YEAR 1/SPRING SEMESTER/DL/Project/my_notebooks/Data/Training/Final_Training/Images/\"\n",
    "#base_training_dir = \"/Users/philippmetzger/Documents/GitHub/Deep_Learning_Project_Group_10/Data/GTSRB_Final_Training_Images/GTSRB/Final_Training/Images/\"\n",
    "#base_training_dir = \"/Users/franz/Desktop/DL Project/Train/Final_Training/Images\"\n",
    "\n",
    "#setting the directory where the selected training and validation images will be stored in\n",
    "created_dir = \"/Users/henriquevaz/NOVA IMS/YEAR 1/SPRING SEMESTER/DL/Project/my_notebooks/Data/Selected\"\n",
    "#created_dir = \"/Users/philippmetzger/Documents/GitHub/Deep_Learning_Project_Group_10/Data/Selected\"\n",
    "#created_dir = \"/Users/franz/Desktop/DL Project/Selected\"\n",
    "\n",
    "#storing all the folder names that belong to the respective classes\n",
    "all_classes = sorted(i for i in os.listdir(base_training_dir) if i.startswith(\"0\"))\n",
    "\n",
    "print(\"There are\", len(all_classes), \"different classes within the training data!\")"
   ]
  },
  {
   "cell_type": "code",
   "execution_count": null,
   "id": "passing-copper",
   "metadata": {},
   "outputs": [],
   "source": [
    "#getting the number of images within each class of the training data\n",
    "amount_per_class = {}\n",
    "\n",
    "for i in range(len(all_classes)):\n",
    "    directory = base_training_dir + \"/\" + all_classes[i]\n",
    "    amount_per_class[i] = len(sorted(i for i in os.listdir(directory) if i.startswith(\"0\")))\n",
    "\n",
    "amount_per_class_df = pd.DataFrame.from_dict(amount_per_class, orient='index').rename(columns={0:\"amount\"})\n",
    "amount_per_class_df.index.name = 'class'\n",
    "\n",
    "#remove the \"#\" of the following line to display the number of images within each class\n",
    "#amount_per_class_df"
   ]
  },
  {
   "cell_type": "code",
   "execution_count": null,
   "id": "smart-notification",
   "metadata": {},
   "outputs": [],
   "source": [
    "#displaying the number of images per class visually\n",
    "\n",
    "plt.rcParams[\"figure.figsize\"] = (20,8)\n",
    "fig, ax = plt.subplots()\n",
    "plt.bar(amount_per_class_df.index, amount_per_class_df.amount)\n",
    "plt.title(\"Number of images per class\", fontsize=20)\n",
    "plt.xlabel('class', fontsize=18)\n",
    "plt.ylabel('number of images', fontsize=18)\n",
    "ax.spines['right'].set_visible(False)\n",
    "ax.spines['top'].set_visible(False)\n",
    "plt.xticks(amount_per_class_df.index)\n",
    "plt.grid(axis=\"y\")\n",
    "plt.show()"
   ]
  },
  {
   "cell_type": "markdown",
   "id": "contained-certification",
   "metadata": {},
   "source": [
    "As it can be seen in the bar chart, the dataset is highly unbalanced. Some classes have over 2000 instances, while others only have 210."
   ]
  },
  {
   "cell_type": "code",
   "execution_count": null,
   "id": "exempt-married",
   "metadata": {},
   "outputs": [],
   "source": [
    "#displaying the 20 classes with the fewest images\n",
    "amount_per_class_df.sort_values(\"amount\").head(20).T"
   ]
  },
  {
   "cell_type": "markdown",
   "id": "favorite-romance",
   "metadata": {},
   "source": [
    "Within each class, there are several groups of images, that belong together (these are basically all images of the very same traffic sign, that just differ in that they were made as a series while approaching the actual sign). These series of images shouldn't be splitted later when the data is split into training and validation sets, so some precautions might be useful:"
   ]
  },
  {
   "cell_type": "code",
   "execution_count": null,
   "id": "closed-romania",
   "metadata": {},
   "outputs": [],
   "source": [
    "#checking the size(=amount of images) of these series and whether they are all having the same size\n",
    "\n",
    "#running a for loop over all classes\n",
    "for i in range(len(all_classes)):\n",
    "    directory = base_training_dir + \"/\" + all_classes[i]\n",
    "    \n",
    "    #get the names of all images within a class\n",
    "    list_of_images = sorted(i for i in os.listdir(directory) if i.startswith(\"0\"))\n",
    "\n",
    "    image_series = []\n",
    "    \n",
    "    #store all the prefixes of the images (which correspond to the series they belong to)\n",
    "    for element in list_of_images:\n",
    "        image_series.append(element.split(\"_\")[0])\n",
    "    \n",
    "    #count the frequency of each prefix, which equals the size of each respective series\n",
    "    image_counts = pd.Series(image_series).value_counts().sort_index()\n",
    "\n",
    "    for element in image_counts.values.tolist():\n",
    "        if element != image_counts.values.tolist()[0]:\n",
    "            #this line will show if there is a series that contains not the same number of images than the others\n",
    "            print(\"There is a series whose number doesn't match the others in class\", all_classes[i], \", with the prefix\", image_counts.sort_values().index[0], \"!\\nIt only contains\", element, \"images.\")\n",
    "            \n",
    "\n",
    "#apart from only one series, all others consist of exactly 30 images\n",
    "print(\"All the other series of images contain exactly\", image_counts.values.tolist()[0], \"images!\")"
   ]
  },
  {
   "cell_type": "markdown",
   "id": "czech-watson",
   "metadata": {},
   "source": [
    "## Split into training and validation datasets"
   ]
  },
  {
   "cell_type": "markdown",
   "id": "adverse-contents",
   "metadata": {},
   "source": [
    "As already mentioned, it is important for the split into training and validation sets that the individual image series stay together. As a first approach, there will be 210 images used per class, as this number corresponds to the amount of images in the \"smallest\" class. This will fix the problem of imbalance in the dataset. Subsequently, the data will be splitted by a 5:2 (150:60) ratio into training and validation set, in order to guarantee that the series will stay together."
   ]
  },
  {
   "cell_type": "code",
   "execution_count": 3,
   "id": "ordinary-sensitivity",
   "metadata": {},
   "outputs": [],
   "source": [
    "new_train_dir = \"/Users/henriquevaz/NOVA IMS/YEAR 1/SPRING SEMESTER/DL/Project/my_notebooks/Data/Selected/train_all\"\n",
    "new_val_dir = \"/Users/henriquevaz/NOVA IMS/YEAR 1/SPRING SEMESTER/DL/Project/my_notebooks/Data/Selected/val_all\"\n",
    "\n",
    "#new_train_dir = \"/Users/franz/Desktop/DL Project/Selected/train_all\"\n",
    "#new_val_dir = \"/Users/franz/Desktop/DL Project/Selected/val_all\""
   ]
  },
  {
   "cell_type": "code",
   "execution_count": null,
   "id": "color-hardware",
   "metadata": {},
   "outputs": [],
   "source": [
    "for i in range(len(all_classes)):\n",
    "    os.mkdir(new_train_dir + \"/\" + all_classes[i])\n",
    "    os.mkdir(new_val_dir + \"/\" + all_classes[i])"
   ]
  },
  {
   "cell_type": "code",
   "execution_count": null,
   "id": "absolute-jones",
   "metadata": {},
   "outputs": [],
   "source": [
    "import random\n",
    "\n",
    "for i in range(len(all_classes)):\n",
    "    \n",
    "    list_ = os.listdir(base_training_dir + \"/\" + all_classes[i])\n",
    "    random.shuffle(list_)\n",
    "    new_list = []\n",
    "    for element in list_:\n",
    "        if element.startswith(\"000\"):\n",
    "            new_list.append(element)\n",
    "    \n",
    "    new_list = sorted(new_list)\n",
    "    for image in range(len(new_list)):\n",
    "        \n",
    "        \n",
    "        #setting the cut off according to the next closest number in steps of 30 according to a 70:30 ratio\n",
    "        if len(new_list) == 210 or len(new_list) == 240:\n",
    "            cut = 60\n",
    "        elif len(new_list) == 270 or len(new_list) == 300 or len(new_list) == 330:\n",
    "            cut = 90\n",
    "        elif len(new_list) == 360 or len(new_list) == 390 or len(new_list) == 420:\n",
    "            cut = 120\n",
    "        elif len(new_list) == 450 or len(new_list) == 510 or len(new_list) == 540:\n",
    "            cut = 150\n",
    "        elif len(new_list) == 600 or len(new_list) == 630:\n",
    "            cut = 180\n",
    "        elif len(new_list) == 689:\n",
    "            cut = 210 - 1\n",
    "        elif len(new_list) == 780:\n",
    "            cut = 240\n",
    "        elif len(new_list) == 1110:\n",
    "            cut = 330\n",
    "        elif len(new_list) == 1200:\n",
    "            cut = 360\n",
    "        elif len(new_list) == 1320:\n",
    "            cut = 390\n",
    "        elif len(new_list) == 1410 or len(new_list) == 1440:\n",
    "            cut = 420\n",
    "        elif len(new_list) == 1470 or len(new_list) == 1500:\n",
    "            cut = 450\n",
    "        elif len(new_list) == 1860:\n",
    "            cut = 570\n",
    "        elif len(new_list) == 1980 or len(new_list) == 2010:\n",
    "            cut = 600\n",
    "        elif len(new_list) == 2070 or len(new_list) == 2100:\n",
    "            cut = 630\n",
    "        elif len(new_list) == 2160 or len(new_list) == 2220:\n",
    "            cut = 660\n",
    "        elif len(new_list) == 2250:\n",
    "            cut = 690\n",
    "         \n",
    "        \n",
    "        if image < len(new_list) - cut:\n",
    "            \n",
    "            src = base_training_dir + \"/\" + all_classes[i] + \"/\" + new_list[image]\n",
    "            dst = new_train_dir + \"/\" + all_classes[i] + \"/\"  + new_list[image]\n",
    "            shutil.copyfile(src, dst)\n",
    "            \n",
    "        else:\n",
    "            src = base_training_dir + \"/\" + all_classes[i] + \"/\" + new_list[image]\n",
    "            dst = new_val_dir + \"/\" + all_classes[i] + \"/\"  + new_list[image]\n",
    "            shutil.copyfile(src, dst)"
   ]
  },
  {
   "cell_type": "code",
   "execution_count": null,
   "id": "timely-diary",
   "metadata": {},
   "outputs": [],
   "source": [
    "size_per_class_list = []\n",
    "\n",
    "for i in range(len(all_classes)):\n",
    "    size_per_class_list.append([len(os.listdir(new_train_dir + \"/\" + all_classes[i])), len(os.listdir(new_val_dir + \"/\" + all_classes[i]))])\n",
    "    print(\"Class\", i, \": training set size =\", len(os.listdir(new_train_dir + \"/\" + all_classes[i])), \"; validation set size:\", len(os.listdir(new_val_dir + \"/\" + all_classes[i])))"
   ]
  },
  {
   "cell_type": "markdown",
   "id": "liable-climate",
   "metadata": {},
   "source": [
    "Now, there should be exactly 150 images within the train folder of each class and 60 images within the validation folder. Having 43 different classes, this means that there are a total of 6,450 (150x43) training images and another 2,580 (60x43) validation images. A sanity check will show if this worked correctly:"
   ]
  },
  {
   "cell_type": "markdown",
   "id": "close-bloom",
   "metadata": {},
   "source": [
    "As it can be seen, it worked correctly!"
   ]
  },
  {
   "cell_type": "markdown",
   "id": "enormous-council",
   "metadata": {},
   "source": [
    "## Data Preprocessing"
   ]
  },
  {
   "cell_type": "markdown",
   "id": "infinite-attraction",
   "metadata": {},
   "source": [
    "After running the upper part once, the notebook can be started from here from now on:"
   ]
  },
  {
   "cell_type": "code",
   "execution_count": 4,
   "id": "dental-decrease",
   "metadata": {
    "scrolled": true
   },
   "outputs": [],
   "source": [
    "#this cell is optional and the notebook should be runned from here once the upper part has been executed once\n",
    "\n",
    "import os, shutil\n",
    "import pandas as pd\n",
    "import seaborn as sns\n",
    "import matplotlib.pyplot as plt\n",
    "import tensorflow as tf\n",
    "import sys\n",
    "from PIL import Image\n",
    "import numpy as np"
   ]
  },
  {
   "cell_type": "code",
   "execution_count": 5,
   "id": "beginning-dover",
   "metadata": {},
   "outputs": [],
   "source": [
    "train_dir = new_train_dir\n",
    "validation_dir = new_val_dir"
   ]
  },
  {
   "cell_type": "markdown",
   "id": "individual-cliff",
   "metadata": {},
   "source": [
    "##### Normalization"
   ]
  },
  {
   "cell_type": "code",
   "execution_count": 6,
   "id": "improving-tribute",
   "metadata": {},
   "outputs": [
    {
     "name": "stdout",
     "output_type": "stream",
     "text": [
      "Found 27450 images belonging to 43 classes.\n",
      "Found 11759 images belonging to 43 classes.\n"
     ]
    }
   ],
   "source": [
    "from tensorflow.keras.preprocessing.image import ImageDataGenerator\n",
    "\n",
    "train_datagen = ImageDataGenerator(rescale=1./255)\n",
    "test_datagen = ImageDataGenerator(rescale=1./255)\n",
    "\n",
    "train_generator = train_datagen.flow_from_directory(\n",
    "    train_dir,\n",
    "    target_size=(150,150),\n",
    "    batch_size=20,\n",
    "    class_mode=\"categorical\",\n",
    "    color_mode=\"grayscale\"\n",
    "    )\n",
    "\n",
    "\n",
    "validation_generator = test_datagen.flow_from_directory(\n",
    "    validation_dir,\n",
    "    target_size=(150,150),\n",
    "    batch_size=20,\n",
    "    class_mode=\"categorical\",\n",
    "    color_mode=\"grayscale\"\n",
    "    )"
   ]
  },
  {
   "cell_type": "code",
   "execution_count": 7,
   "id": "continuing-threat",
   "metadata": {},
   "outputs": [],
   "source": [
    "x_train=np.concatenate([train_generator.next()[0] for i in range(train_generator.__len__())])\n",
    "x_val=np.concatenate([validation_generator.next()[0] for i in range(validation_generator.__len__())])"
   ]
  },
  {
   "cell_type": "code",
   "execution_count": 8,
   "id": "turkish-mozambique",
   "metadata": {},
   "outputs": [],
   "source": [
    "train_datagen = ImageDataGenerator(featurewise_center=True, featurewise_std_normalization=True)\n",
    "test_datagen = ImageDataGenerator(featurewise_center=True, featurewise_std_normalization=True)\n",
    "\n",
    "train_datagen.fit(x_train)\n",
    "test_datagen.fit(x_val)"
   ]
  },
  {
   "cell_type": "markdown",
   "id": "happy-amplifier",
   "metadata": {},
   "source": [
    "##### Re-Creating the generators with the normalized image data"
   ]
  },
  {
   "cell_type": "code",
   "execution_count": 9,
   "id": "particular-fireplace",
   "metadata": {},
   "outputs": [
    {
     "name": "stdout",
     "output_type": "stream",
     "text": [
      "Found 27450 images belonging to 43 classes.\n",
      "Found 11759 images belonging to 43 classes.\n"
     ]
    }
   ],
   "source": [
    "train_generator = train_datagen.flow_from_directory(\n",
    "    train_dir,\n",
    "    target_size=(150,150),\n",
    "    batch_size=20,\n",
    "    class_mode=\"categorical\",\n",
    "    color_mode=\"grayscale\"\n",
    "    )\n",
    "\n",
    "\n",
    "\n",
    "validation_generator = test_datagen.flow_from_directory(\n",
    "    validation_dir,\n",
    "    target_size=(150,150),\n",
    "    batch_size=20,\n",
    "    class_mode=\"categorical\",\n",
    "    color_mode=\"grayscale\"\n",
    "    )"
   ]
  },
  {
   "cell_type": "code",
   "execution_count": 10,
   "id": "peripheral-exercise",
   "metadata": {},
   "outputs": [
    {
     "name": "stdout",
     "output_type": "stream",
     "text": [
      "data batch shape: (20, 150, 150, 1)\n",
      "labels batch shape: (20, 43)\n"
     ]
    }
   ],
   "source": [
    "sys.modules['Image'] = Image\n",
    "\n",
    "for data_batch, labels_batch in train_generator:\n",
    "    print('data batch shape:', data_batch.shape)\n",
    "    print('labels batch shape:', labels_batch.shape)\n",
    "    break"
   ]
  },
  {
   "cell_type": "markdown",
   "id": "plastic-dominican",
   "metadata": {},
   "source": [
    "## Draft of the model"
   ]
  },
  {
   "cell_type": "markdown",
   "id": "coated-sector",
   "metadata": {},
   "source": [
    "### Base model (Using the 'Down' Version) - (0.15 ; 0.15 ; 0.15)"
   ]
  },
  {
   "cell_type": "code",
   "execution_count": 15,
   "id": "placed-representation",
   "metadata": {},
   "outputs": [],
   "source": [
    "from tensorflow.keras import layers\n",
    "from tensorflow.keras import models\n",
    "\n",
    "model = models.Sequential()\n",
    "model.add(layers.Conv2D(32, (2, 2), activation='relu', input_shape=(150, 150, 1)))\n",
    "model.add(layers.MaxPooling2D((2, 2)))\n",
    "model.add(layers.Dropout(0.15))\n",
    "model.add(layers.Conv2D(64, (3, 3), activation='relu'))\n",
    "model.add(layers.MaxPooling2D((2, 2) ))\n",
    "model.add(layers.Dropout(0.15))\n",
    "model.add(layers.Conv2D(128, (4, 4), activation='relu'))\n",
    "model.add(layers.MaxPooling2D((2, 2) ))\n",
    "model.add(layers.Dropout(0.15))\n",
    "model.add(layers.Flatten())\n",
    "model.add(layers.Dense(512, activation='relu'))\n",
    "model.add(layers.Dropout(0.3))\n",
    "model.add(layers.Dense (43, activation='softmax'))"
   ]
  },
  {
   "cell_type": "code",
   "execution_count": 16,
   "id": "collect-dimension",
   "metadata": {},
   "outputs": [
    {
     "name": "stdout",
     "output_type": "stream",
     "text": [
      "Model: \"sequential_1\"\n",
      "_________________________________________________________________\n",
      "Layer (type)                 Output Shape              Param #   \n",
      "=================================================================\n",
      "conv2d_3 (Conv2D)            (None, 149, 149, 32)      160       \n",
      "_________________________________________________________________\n",
      "max_pooling2d_3 (MaxPooling2 (None, 74, 74, 32)        0         \n",
      "_________________________________________________________________\n",
      "dropout_4 (Dropout)          (None, 74, 74, 32)        0         \n",
      "_________________________________________________________________\n",
      "conv2d_4 (Conv2D)            (None, 72, 72, 64)        18496     \n",
      "_________________________________________________________________\n",
      "max_pooling2d_4 (MaxPooling2 (None, 36, 36, 64)        0         \n",
      "_________________________________________________________________\n",
      "dropout_5 (Dropout)          (None, 36, 36, 64)        0         \n",
      "_________________________________________________________________\n",
      "conv2d_5 (Conv2D)            (None, 33, 33, 128)       131200    \n",
      "_________________________________________________________________\n",
      "max_pooling2d_5 (MaxPooling2 (None, 16, 16, 128)       0         \n",
      "_________________________________________________________________\n",
      "dropout_6 (Dropout)          (None, 16, 16, 128)       0         \n",
      "_________________________________________________________________\n",
      "flatten_1 (Flatten)          (None, 32768)             0         \n",
      "_________________________________________________________________\n",
      "dense_2 (Dense)              (None, 512)               16777728  \n",
      "_________________________________________________________________\n",
      "dropout_7 (Dropout)          (None, 512)               0         \n",
      "_________________________________________________________________\n",
      "dense_3 (Dense)              (None, 43)                22059     \n",
      "=================================================================\n",
      "Total params: 16,949,643\n",
      "Trainable params: 16,949,643\n",
      "Non-trainable params: 0\n",
      "_________________________________________________________________\n"
     ]
    }
   ],
   "source": [
    "model.summary()"
   ]
  },
  {
   "cell_type": "code",
   "execution_count": 17,
   "id": "central-inquiry",
   "metadata": {},
   "outputs": [],
   "source": [
    "from tensorflow.keras import optimizers\n",
    "\n",
    "#compilation\n",
    "model.compile(loss=\"categorical_crossentropy\", optimizer=optimizers.RMSprop(lr=1e-4), metrics=[\"acc\"])"
   ]
  },
  {
   "cell_type": "code",
   "execution_count": 18,
   "id": "prostate-funeral",
   "metadata": {},
   "outputs": [
    {
     "name": "stdout",
     "output_type": "stream",
     "text": [
      "Epoch 1/10\n",
      "1373/1373 [==============================] - 236s 172ms/step - loss: 48.8532 - acc: 0.2982 - val_loss: 250.6489 - val_acc: 0.7299\n",
      "Epoch 2/10\n",
      "1373/1373 [==============================] - 234s 170ms/step - loss: 1523.4500 - acc: 0.6536 - val_loss: 6988.4404 - val_acc: 0.7923\n",
      "Epoch 3/10\n",
      "1373/1373 [==============================] - 234s 170ms/step - loss: 21203.8718 - acc: 0.7156 - val_loss: 41043.4297 - val_acc: 0.8193\n",
      "Epoch 4/10\n",
      "1373/1373 [==============================] - 233s 170ms/step - loss: 85391.4517 - acc: 0.7660 - val_loss: 150506.2031 - val_acc: 0.8370\n",
      "Epoch 5/10\n",
      "1373/1373 [==============================] - 233s 170ms/step - loss: 239056.8945 - acc: 0.7936 - val_loss: 300831.5938 - val_acc: 0.8597\n",
      "Epoch 6/10\n",
      "1373/1373 [==============================] - 249s 182ms/step - loss: 549996.7753 - acc: 0.8026 - val_loss: 899185.1875 - val_acc: 0.8380\n",
      "Epoch 7/10\n",
      "1373/1373 [==============================] - 246s 179ms/step - loss: 1494548.4599 - acc: 0.7762 - val_loss: 1586297.6250 - val_acc: 0.8589\n",
      "Epoch 8/10\n",
      "1373/1373 [==============================] - 245s 179ms/step - loss: 1966673.0043 - acc: 0.8144 - val_loss: 2248802.5000 - val_acc: 0.8646\n",
      "Epoch 9/10\n",
      "1373/1373 [==============================] - 247s 180ms/step - loss: 3286120.0035 - acc: 0.8198 - val_loss: 3688171.0000 - val_acc: 0.8698\n",
      "Epoch 10/10\n",
      "1373/1373 [==============================] - 253s 184ms/step - loss: 5007906.9165 - acc: 0.8183 - val_loss: 5766178.5000 - val_acc: 0.8640\n"
     ]
    }
   ],
   "source": [
    "# 1-10\n",
    "history = model.fit(\n",
    "    train_generator,\n",
    "    epochs=10,\n",
    "    validation_data=validation_generator,\n",
    "    )"
   ]
  },
  {
   "cell_type": "code",
   "execution_count": 20,
   "id": "meaning-modem",
   "metadata": {},
   "outputs": [],
   "source": [
    "save_hist_to_excel('history_model_all_data_3ConvLayers_down_015_015_015_1to10')"
   ]
  },
  {
   "cell_type": "code",
   "execution_count": 21,
   "id": "reliable-arizona",
   "metadata": {},
   "outputs": [
    {
     "name": "stdout",
     "output_type": "stream",
     "text": [
      "Epoch 1/10\n",
      "1373/1373 [==============================] - 246s 179ms/step - loss: 7312574.5000 - acc: 0.8320 - val_loss: 8148077.0000 - val_acc: 0.8743\n",
      "Epoch 2/10\n",
      "1373/1373 [==============================] - 245s 179ms/step - loss: 9607637.0000 - acc: 0.8418 - val_loss: 11119907.0000 - val_acc: 0.8671\n",
      "Epoch 3/10\n",
      "1373/1373 [==============================] - 241s 176ms/step - loss: 12745489.0000 - acc: 0.8396 - val_loss: 14923061.0000 - val_acc: 0.8717\n",
      "Epoch 4/10\n",
      "1373/1373 [==============================] - 232s 169ms/step - loss: 13477982.0000 - acc: 0.8597 - val_loss: 17616872.0000 - val_acc: 0.8762\n",
      "Epoch 5/10\n",
      "1373/1373 [==============================] - 226s 165ms/step - loss: 18227464.0000 - acc: 0.8554 - val_loss: 26183722.0000 - val_acc: 0.8612\n",
      "Epoch 6/10\n",
      "1373/1373 [==============================] - 229s 167ms/step - loss: 22722914.0000 - acc: 0.8570 - val_loss: 27556662.0000 - val_acc: 0.8709\n",
      "Epoch 7/10\n",
      "1373/1373 [==============================] - 230s 167ms/step - loss: 26157604.0000 - acc: 0.8618 - val_loss: 35505672.0000 - val_acc: 0.8724\n",
      "Epoch 8/10\n",
      "1373/1373 [==============================] - 229s 167ms/step - loss: 27957200.0000 - acc: 0.8709 - val_loss: 49920648.0000 - val_acc: 0.8631\n",
      "Epoch 9/10\n",
      "1373/1373 [==============================] - 228s 166ms/step - loss: 33336168.0000 - acc: 0.8728 - val_loss: 55931804.0000 - val_acc: 0.8744\n",
      "Epoch 10/10\n",
      "1373/1373 [==============================] - 225s 164ms/step - loss: 38801104.0000 - acc: 0.8739 - val_loss: 64067572.0000 - val_acc: 0.8822\n"
     ]
    }
   ],
   "source": [
    "# 11-20\n",
    "history = model.fit(\n",
    "    train_generator,\n",
    "    epochs=10,\n",
    "    validation_data=validation_generator,\n",
    "    )"
   ]
  },
  {
   "cell_type": "code",
   "execution_count": 22,
   "id": "perceived-minutes",
   "metadata": {},
   "outputs": [],
   "source": [
    "save_hist_to_excel('history_model_all_data_3ConvLayers_down_015_015_015_11to20')"
   ]
  },
  {
   "cell_type": "code",
   "execution_count": 23,
   "id": "interesting-cylinder",
   "metadata": {},
   "outputs": [
    {
     "name": "stdout",
     "output_type": "stream",
     "text": [
      "Epoch 1/10\n",
      "1373/1373 [==============================] - 226s 164ms/step - loss: 41107340.0000 - acc: 0.8793 - val_loss: 67325688.0000 - val_acc: 0.8800\n",
      "Epoch 2/10\n",
      "1373/1373 [==============================] - 227s 166ms/step - loss: 41805876.0000 - acc: 0.8871 - val_loss: 76303464.0000 - val_acc: 0.8785\n",
      "Epoch 3/10\n",
      "1373/1373 [==============================] - 228s 166ms/step - loss: 47182948.0000 - acc: 0.8851 - val_loss: 95114344.0000 - val_acc: 0.8744\n",
      "Epoch 4/10\n",
      "1373/1373 [==============================] - 227s 165ms/step - loss: 48014304.0000 - acc: 0.8928 - val_loss: 104047136.0000 - val_acc: 0.8809\n",
      "Epoch 5/10\n",
      "1373/1373 [==============================] - 227s 166ms/step - loss: 48507540.0000 - acc: 0.8985 - val_loss: 113504728.0000 - val_acc: 0.8849\n",
      "Epoch 6/10\n",
      "1373/1373 [==============================] - 223s 163ms/step - loss: 54361996.0000 - acc: 0.8971 - val_loss: 108207040.0000 - val_acc: 0.8900\n",
      "Epoch 7/10\n",
      "1373/1373 [==============================] - 215s 156ms/step - loss: 58774708.0000 - acc: 0.9009 - val_loss: 122800200.0000 - val_acc: 0.8871\n",
      "Epoch 8/10\n",
      "1373/1373 [==============================] - 214s 156ms/step - loss: 62532116.0000 - acc: 0.9026 - val_loss: 132481392.0000 - val_acc: 0.8870\n",
      "Epoch 9/10\n",
      "1373/1373 [==============================] - 214s 156ms/step - loss: 70984008.0000 - acc: 0.9020 - val_loss: 158322288.0000 - val_acc: 0.8791\n",
      "Epoch 10/10\n",
      "1373/1373 [==============================] - 214s 156ms/step - loss: 70497720.0000 - acc: 0.9068 - val_loss: 159174384.0000 - val_acc: 0.8927\n"
     ]
    }
   ],
   "source": [
    "# 21-30\n",
    "history = model.fit(\n",
    "    train_generator,\n",
    "    epochs=10,\n",
    "    validation_data=validation_generator,\n",
    "    )"
   ]
  },
  {
   "cell_type": "code",
   "execution_count": 24,
   "id": "excess-chair",
   "metadata": {},
   "outputs": [],
   "source": [
    "save_hist_to_excel('history_model_all_data_3ConvLayers_down_015_015_015_21to30')"
   ]
  },
  {
   "cell_type": "code",
   "execution_count": 25,
   "id": "median-blake",
   "metadata": {},
   "outputs": [
    {
     "name": "stdout",
     "output_type": "stream",
     "text": [
      "Epoch 1/10\n",
      "1373/1373 [==============================] - 215s 156ms/step - loss: 73172552.0000 - acc: 0.9089 - val_loss: 176515856.0000 - val_acc: 0.8883\n",
      "Epoch 2/10\n",
      "1373/1373 [==============================] - 215s 156ms/step - loss: 76192360.0000 - acc: 0.9109 - val_loss: 203744112.0000 - val_acc: 0.8727\n",
      "Epoch 3/10\n",
      "1373/1373 [==============================] - 215s 156ms/step - loss: 72098104.0000 - acc: 0.9168 - val_loss: 210290576.0000 - val_acc: 0.8931\n",
      "Epoch 4/10\n",
      "1373/1373 [==============================] - 214s 156ms/step - loss: 83578160.0000 - acc: 0.9128 - val_loss: 228597408.0000 - val_acc: 0.8822\n",
      "Epoch 5/10\n",
      "1373/1373 [==============================] - 214s 156ms/step - loss: 83012336.0000 - acc: 0.9160 - val_loss: 220409952.0000 - val_acc: 0.8832\n",
      "Epoch 6/10\n",
      "1373/1373 [==============================] - 214s 156ms/step - loss: 81480304.0000 - acc: 0.9221 - val_loss: 224112320.0000 - val_acc: 0.8895\n",
      "Epoch 7/10\n",
      "1373/1373 [==============================] - 214s 156ms/step - loss: 81231600.0000 - acc: 0.9230 - val_loss: 264817792.0000 - val_acc: 0.8940\n",
      "Epoch 8/10\n",
      "1373/1373 [==============================] - 214s 156ms/step - loss: 74887368.0000 - acc: 0.9259 - val_loss: 273821248.0000 - val_acc: 0.8901\n",
      "Epoch 9/10\n",
      "1373/1373 [==============================] - 214s 156ms/step - loss: 86723840.0000 - acc: 0.9218 - val_loss: 295322560.0000 - val_acc: 0.8828\n",
      "Epoch 10/10\n",
      "1373/1373 [==============================] - 214s 156ms/step - loss: 94069312.0000 - acc: 0.9211 - val_loss: 326438848.0000 - val_acc: 0.8871\n"
     ]
    }
   ],
   "source": [
    "# 31-40\n",
    "history = model.fit(\n",
    "    train_generator,\n",
    "    epochs=10,\n",
    "    validation_data=validation_generator,\n",
    "    )"
   ]
  },
  {
   "cell_type": "code",
   "execution_count": 26,
   "id": "unauthorized-cheat",
   "metadata": {},
   "outputs": [],
   "source": [
    "save_hist_to_excel('history_model_all_data_3ConvLayers_down_015_015_015_31to40')"
   ]
  },
  {
   "cell_type": "code",
   "execution_count": 27,
   "id": "figured-script",
   "metadata": {},
   "outputs": [
    {
     "name": "stdout",
     "output_type": "stream",
     "text": [
      "Epoch 1/10\n",
      "1373/1373 [==============================] - 215s 156ms/step - loss: 93105448.0000 - acc: 0.9252 - val_loss: 317887232.0000 - val_acc: 0.8897\n",
      "Epoch 2/10\n",
      "1373/1373 [==============================] - 215s 156ms/step - loss: 98529232.0000 - acc: 0.9251 - val_loss: 347565312.0000 - val_acc: 0.8938\n",
      "Epoch 3/10\n",
      "1373/1373 [==============================] - 215s 156ms/step - loss: 98141536.0000 - acc: 0.9260 - val_loss: 354840480.0000 - val_acc: 0.8991\n",
      "Epoch 4/10\n",
      "1373/1373 [==============================] - 215s 156ms/step - loss: 97342224.0000 - acc: 0.9259 - val_loss: 358056544.0000 - val_acc: 0.8906\n",
      "Epoch 5/10\n",
      "1373/1373 [==============================] - 215s 156ms/step - loss: 98727488.0000 - acc: 0.9283 - val_loss: 434362688.0000 - val_acc: 0.8867\n",
      "Epoch 6/10\n",
      "1373/1373 [==============================] - 215s 156ms/step - loss: 101386488.0000 - acc: 0.9299 - val_loss: 462194016.0000 - val_acc: 0.8904\n",
      "Epoch 7/10\n",
      "1373/1373 [==============================] - 214s 156ms/step - loss: 108445232.0000 - acc: 0.9307 - val_loss: 448308288.0000 - val_acc: 0.8888\n",
      "Epoch 8/10\n",
      "1373/1373 [==============================] - 214s 156ms/step - loss: 98688792.0000 - acc: 0.9334 - val_loss: 432641312.0000 - val_acc: 0.8920\n",
      "Epoch 9/10\n",
      "1373/1373 [==============================] - 215s 157ms/step - loss: 96855128.0000 - acc: 0.9336 - val_loss: 451999648.0000 - val_acc: 0.8928\n",
      "Epoch 10/10\n",
      "1373/1373 [==============================] - 217s 158ms/step - loss: 101231344.0000 - acc: 0.9346 - val_loss: 455148672.0000 - val_acc: 0.8945\n"
     ]
    }
   ],
   "source": [
    "# 41-50\n",
    "history = model.fit(\n",
    "    train_generator,\n",
    "    epochs=10,\n",
    "    validation_data=validation_generator,\n",
    "    )"
   ]
  },
  {
   "cell_type": "code",
   "execution_count": 28,
   "id": "stuffed-accreditation",
   "metadata": {},
   "outputs": [],
   "source": [
    "save_hist_to_excel('history_model_all_data_3ConvLayers_down_015_015_015_41to50')"
   ]
  },
  {
   "cell_type": "code",
   "execution_count": 29,
   "id": "special-struggle",
   "metadata": {},
   "outputs": [
    {
     "data": {
      "image/png": "[encoded data removed]",
      "text/plain": [
       "<Figure size 432x288 with 1 Axes>"
      ]
     },
     "metadata": {
      "needs_background": "light"
     },
     "output_type": "display_data"
    },
    {
     "data": {
      "image/png": "[encoded data removed]",
      "text/plain": [
       "<Figure size 432x288 with 1 Axes>"
      ]
     },
     "metadata": {
      "needs_background": "light"
     },
     "output_type": "display_data"
    }
   ],
   "source": [
    "#Displaying curves of loss and accuracy during training\n",
    "\n",
    "import matplotlib.pyplot as plt\n",
    "\n",
    "acc = history.history[\"acc\"]\n",
    "val_acc = history.history[\"val_acc\"]\n",
    "loss = history.history[\"loss\"]\n",
    "val_loss = history.history[\"val_loss\"]\n",
    "\n",
    "epochs = range(1, len(acc) + 1)\n",
    "\n",
    "plt.plot(epochs, acc, \"bo\", label=\"Training acc\")\n",
    "plt.plot(epochs, val_acc, \"b\", label=\"Validation acc\")\n",
    "plt.title(\"Training and validation accuracy\")\n",
    "plt.legend()\n",
    "\n",
    "plt.show()\n",
    "\n",
    "plt.plot(epochs, loss, \"bo\", label=\"Training loss\")\n",
    "plt.plot(epochs, val_loss, \"b\", label=\"Validation loss\")\n",
    "plt.title(\"Training and validation loss\")\n",
    "plt.legend()\n",
    "\n",
    "plt.show()"
   ]
  },
  {
   "cell_type": "markdown",
   "id": "beginning-destruction",
   "metadata": {},
   "source": [
    "### Base model (Using the 'Down' Version) - (0.15 ; 0.1 ; 0.1)"
   ]
  },
  {
   "cell_type": "code",
   "execution_count": 30,
   "id": "peripheral-deviation",
   "metadata": {},
   "outputs": [
    {
     "name": "stdout",
     "output_type": "stream",
     "text": [
      "Model: \"sequential_2\"\n",
      "_________________________________________________________________\n",
      "Layer (type)                 Output Shape              Param #   \n",
      "=================================================================\n",
      "conv2d_6 (Conv2D)            (None, 149, 149, 32)      160       \n",
      "_________________________________________________________________\n",
      "max_pooling2d_6 (MaxPooling2 (None, 74, 74, 32)        0         \n",
      "_________________________________________________________________\n",
      "dropout_8 (Dropout)          (None, 74, 74, 32)        0         \n",
      "_________________________________________________________________\n",
      "conv2d_7 (Conv2D)            (None, 72, 72, 64)        18496     \n",
      "_________________________________________________________________\n",
      "max_pooling2d_7 (MaxPooling2 (None, 36, 36, 64)        0         \n",
      "_________________________________________________________________\n",
      "dropout_9 (Dropout)          (None, 36, 36, 64)        0         \n",
      "_________________________________________________________________\n",
      "conv2d_8 (Conv2D)            (None, 33, 33, 128)       131200    \n",
      "_________________________________________________________________\n",
      "max_pooling2d_8 (MaxPooling2 (None, 16, 16, 128)       0         \n",
      "_________________________________________________________________\n",
      "dropout_10 (Dropout)         (None, 16, 16, 128)       0         \n",
      "_________________________________________________________________\n",
      "flatten_2 (Flatten)          (None, 32768)             0         \n",
      "_________________________________________________________________\n",
      "dense_4 (Dense)              (None, 512)               16777728  \n",
      "_________________________________________________________________\n",
      "dropout_11 (Dropout)         (None, 512)               0         \n",
      "_________________________________________________________________\n",
      "dense_5 (Dense)              (None, 43)                22059     \n",
      "=================================================================\n",
      "Total params: 16,949,643\n",
      "Trainable params: 16,949,643\n",
      "Non-trainable params: 0\n",
      "_________________________________________________________________\n"
     ]
    }
   ],
   "source": [
    "from tensorflow.keras import layers\n",
    "from tensorflow.keras import models\n",
    "\n",
    "model = models.Sequential()\n",
    "model.add(layers.Conv2D(32, (2, 2), activation='relu', input_shape=(150, 150, 1)))\n",
    "model.add(layers.MaxPooling2D((2, 2)))\n",
    "model.add(layers.Dropout(0.15))\n",
    "model.add(layers.Conv2D(64, (3, 3), activation='relu'))\n",
    "model.add(layers.MaxPooling2D((2, 2) ))\n",
    "model.add(layers.Dropout(0.1))\n",
    "model.add(layers.Conv2D(128, (4, 4), activation='relu'))\n",
    "model.add(layers.MaxPooling2D((2, 2) ))\n",
    "model.add(layers.Dropout(0.1))\n",
    "model.add(layers.Flatten())\n",
    "model.add(layers.Dense(512, activation='relu'))\n",
    "model.add(layers.Dropout(0.3))\n",
    "model.add(layers.Dense (43, activation='softmax'))\n",
    "\n",
    "model.summary()"
   ]
  },
  {
   "cell_type": "code",
   "execution_count": 31,
   "id": "optional-wheel",
   "metadata": {},
   "outputs": [],
   "source": [
    "from tensorflow.keras import optimizers\n",
    "\n",
    "#compilation\n",
    "model.compile(loss=\"categorical_crossentropy\", optimizer=optimizers.RMSprop(lr=1e-4), metrics=[\"acc\"])"
   ]
  },
  {
   "cell_type": "code",
   "execution_count": 33,
   "id": "noble-coast",
   "metadata": {},
   "outputs": [
    {
     "name": "stdout",
     "output_type": "stream",
     "text": [
      "Epoch 1/25\n",
      "1373/1373 [==============================] - 221s 161ms/step - loss: 328.0956 - acc: 0.6317 - val_loss: 652.2593 - val_acc: 0.7604\n",
      "Epoch 2/25\n",
      "1373/1373 [==============================] - 216s 157ms/step - loss: 6455.9839 - acc: 0.7295 - val_loss: 10189.2764 - val_acc: 0.8252\n",
      "Epoch 3/25\n",
      "1373/1373 [==============================] - 219s 159ms/step - loss: 44854.7656 - acc: 0.7553 - val_loss: 56825.4805 - val_acc: 0.8418\n",
      "Epoch 4/25\n",
      "1373/1373 [==============================] - 217s 158ms/step - loss: 121934.5625 - acc: 0.8003 - val_loss: 170586.8750 - val_acc: 0.8353\n",
      "Epoch 5/25\n",
      "1373/1373 [==============================] - 218s 159ms/step - loss: 323920.2188 - acc: 0.8073 - val_loss: 371333.5938 - val_acc: 0.8565\n",
      "Epoch 6/25\n",
      "1373/1373 [==============================] - 218s 159ms/step - loss: 694845.1875 - acc: 0.8098 - val_loss: 716706.8125 - val_acc: 0.8627\n",
      "Epoch 7/25\n",
      "1373/1373 [==============================] - 217s 158ms/step - loss: 1315244.3750 - acc: 0.8176 - val_loss: 1396392.5000 - val_acc: 0.8673\n",
      "Epoch 8/25\n",
      "1373/1373 [==============================] - 218s 159ms/step - loss: 1831718.1250 - acc: 0.8392 - val_loss: 2196445.0000 - val_acc: 0.8767\n",
      "Epoch 9/25\n",
      "1373/1373 [==============================] - 220s 160ms/step - loss: 2701310.0000 - acc: 0.8462 - val_loss: 3077954.7500 - val_acc: 0.8741\n",
      "Epoch 10/25\n",
      "1373/1373 [==============================] - 220s 161ms/step - loss: 4534727.0000 - acc: 0.8417 - val_loss: 5563932.5000 - val_acc: 0.8571\n",
      "Epoch 11/25\n",
      "1373/1373 [==============================] - 219s 160ms/step - loss: 6376921.0000 - acc: 0.8399 - val_loss: 7963246.0000 - val_acc: 0.8780\n",
      "Epoch 12/25\n",
      "1373/1373 [==============================] - 225s 164ms/step - loss: 7829505.5000 - acc: 0.8533 - val_loss: 10801242.0000 - val_acc: 0.8820\n",
      "Epoch 13/25\n",
      "1373/1373 [==============================] - 223s 162ms/step - loss: 10037913.0000 - acc: 0.8592 - val_loss: 13448337.0000 - val_acc: 0.8708\n",
      "Epoch 14/25\n",
      "1373/1373 [==============================] - 221s 161ms/step - loss: 10342059.0000 - acc: 0.8777 - val_loss: 16312935.0000 - val_acc: 0.8831\n",
      "Epoch 15/25\n",
      "1373/1373 [==============================] - 217s 158ms/step - loss: 12979521.0000 - acc: 0.8779 - val_loss: 19663230.0000 - val_acc: 0.8820\n",
      "Epoch 16/25\n",
      "1373/1373 [==============================] - 221s 161ms/step - loss: 15591975.0000 - acc: 0.8801 - val_loss: 25084894.0000 - val_acc: 0.8852\n",
      "Epoch 17/25\n",
      "1373/1373 [==============================] - 222s 162ms/step - loss: 18205192.0000 - acc: 0.8836 - val_loss: 27134158.0000 - val_acc: 0.8911\n",
      "Epoch 18/25\n",
      "1373/1373 [==============================] - 221s 161ms/step - loss: 19949660.0000 - acc: 0.8883 - val_loss: 39240792.0000 - val_acc: 0.8691\n",
      "Epoch 19/25\n",
      "1373/1373 [==============================] - 220s 160ms/step - loss: 21137058.0000 - acc: 0.8964 - val_loss: 42817360.0000 - val_acc: 0.8789\n",
      "Epoch 20/25\n",
      "1373/1373 [==============================] - 218s 159ms/step - loss: 26005642.0000 - acc: 0.8908 - val_loss: 49213780.0000 - val_acc: 0.8860\n",
      "Epoch 21/25\n",
      "1373/1373 [==============================] - 221s 161ms/step - loss: 28448540.0000 - acc: 0.8986 - val_loss: 54299204.0000 - val_acc: 0.8931\n",
      "Epoch 22/25\n",
      "1373/1373 [==============================] - 219s 159ms/step - loss: 29337786.0000 - acc: 0.9047 - val_loss: 60255736.0000 - val_acc: 0.8830\n",
      "Epoch 23/25\n",
      "1373/1373 [==============================] - 223s 163ms/step - loss: 33889604.0000 - acc: 0.9027 - val_loss: 66193100.0000 - val_acc: 0.8946\n",
      "Epoch 24/25\n",
      "1373/1373 [==============================] - 222s 161ms/step - loss: 35826880.0000 - acc: 0.9052 - val_loss: 75515544.0000 - val_acc: 0.8891\n",
      "Epoch 25/25\n",
      "1373/1373 [==============================] - 218s 159ms/step - loss: 39825360.0000 - acc: 0.9077 - val_loss: 90167848.0000 - val_acc: 0.8819\n"
     ]
    }
   ],
   "source": [
    "# 1-25\n",
    "history = model.fit(\n",
    "    train_generator,\n",
    "    epochs=25,\n",
    "    validation_data=validation_generator,\n",
    "    )"
   ]
  },
  {
   "cell_type": "code",
   "execution_count": 34,
   "id": "threaded-daisy",
   "metadata": {},
   "outputs": [],
   "source": [
    "save_hist_to_excel('history_model_all_data_3ConvLayers_down_015_01_01_1to25')"
   ]
  },
  {
   "cell_type": "code",
   "execution_count": null,
   "id": "comprehensive-divorce",
   "metadata": {},
   "outputs": [
    {
     "name": "stdout",
     "output_type": "stream",
     "text": [
      "Epoch 1/25\n",
      "1373/1373 [==============================] - 221s 161ms/step - loss: 43229824.0000 - acc: 0.9077 - val_loss: 101071472.0000 - val_acc: 0.8810\n",
      "Epoch 2/25\n",
      "1373/1373 [==============================] - 227s 165ms/step - loss: 49137588.0000 - acc: 0.9071 - val_loss: 114774064.0000 - val_acc: 0.8846\n",
      "Epoch 3/25\n",
      "1373/1373 [==============================] - 222s 161ms/step - loss: 47521108.0000 - acc: 0.9144 - val_loss: 120511304.0000 - val_acc: 0.8948\n",
      "Epoch 4/25\n",
      "1373/1373 [==============================] - 223s 163ms/step - loss: 54632904.0000 - acc: 0.9097 - val_loss: 133338928.0000 - val_acc: 0.8933\n",
      "Epoch 5/25\n",
      "1373/1373 [==============================] - 225s 164ms/step - loss: 56727188.0000 - acc: 0.9137 - val_loss: 139691728.0000 - val_acc: 0.8872\n",
      "Epoch 6/25\n",
      "1373/1373 [==============================] - 223s 163ms/step - loss: 63928776.0000 - acc: 0.9150 - val_loss: 144076880.0000 - val_acc: 0.8965\n",
      "Epoch 7/25\n",
      "1373/1373 [==============================] - 217s 158ms/step - loss: 64677408.0000 - acc: 0.9157 - val_loss: 189702832.0000 - val_acc: 0.8895\n",
      "Epoch 8/25\n",
      "1373/1373 [==============================] - 214s 156ms/step - loss: 70401936.0000 - acc: 0.9182 - val_loss: 179410912.0000 - val_acc: 0.8948\n",
      "Epoch 9/25\n",
      "1373/1373 [==============================] - 215s 157ms/step - loss: 70802656.0000 - acc: 0.9230 - val_loss: 183464880.0000 - val_acc: 0.8981\n",
      "Epoch 10/25\n",
      "1373/1373 [==============================] - 216s 158ms/step - loss: 68279016.0000 - acc: 0.9249 - val_loss: 218100512.0000 - val_acc: 0.8937\n",
      "Epoch 11/25\n",
      "1373/1373 [==============================] - 217s 158ms/step - loss: 70427808.0000 - acc: 0.9274 - val_loss: 211183264.0000 - val_acc: 0.8931\n",
      "Epoch 12/25\n",
      " 298/1373 [=====>........................] - ETA: 2:32 - loss: 69556240.0000 - acc: 0.9317"
     ]
    }
   ],
   "source": [
    "# 25-50\n",
    "history = model.fit(\n",
    "    train_generator,\n",
    "    epochs=25,\n",
    "    validation_data=validation_generator,\n",
    "    )"
   ]
  },
  {
   "cell_type": "code",
   "execution_count": null,
   "id": "polyphonic-deputy",
   "metadata": {},
   "outputs": [],
   "source": [
    "save_hist_to_excel('history_model_all_data_3ConvLayers_down_015_01_01_26to50')"
   ]
  },
  {
   "cell_type": "markdown",
   "id": "terminal-denver",
   "metadata": {},
   "source": [
    "### Using the 'Down' Version - (0.15 ; 0.15 ; 0.1; 0.4)"
   ]
  },
  {
   "cell_type": "code",
   "execution_count": null,
   "id": "split-michigan",
   "metadata": {},
   "outputs": [],
   "source": [
    "from tensorflow.keras import layers\n",
    "from tensorflow.keras import models\n",
    "\n",
    "model = models.Sequential()\n",
    "model.add(layers.Conv2D(32, (2, 2), activation='relu', input_shape=(150, 150, 1)))\n",
    "model.add(layers.MaxPooling2D((2, 2)))\n",
    "model.add(layers.Dropout(0.15))\n",
    "model.add(layers.Conv2D(64, (3, 3), activation='relu'))\n",
    "model.add(layers.MaxPooling2D((2, 2) ))\n",
    "model.add(layers.Dropout(0.15))\n",
    "model.add(layers.Conv2D(128, (4, 4), activation='relu'))\n",
    "model.add(layers.MaxPooling2D((2, 2) ))\n",
    "model.add(layers.Dropout(0.1))\n",
    "model.add(layers.Flatten())\n",
    "model.add(layers.Dense(512, activation='relu'))\n",
    "model.add(layers.Dropout(0.4))\n",
    "model.add(layers.Dense (43, activation='softmax'))\n",
    "\n",
    "model.summary()"
   ]
  },
  {
   "cell_type": "code",
   "execution_count": null,
   "id": "amazing-pennsylvania",
   "metadata": {},
   "outputs": [],
   "source": [
    "from tensorflow.keras import optimizers\n",
    "\n",
    "#compilation\n",
    "model.compile(loss=\"categorical_crossentropy\", optimizer=optimizers.RMSprop(lr=1e-4), metrics=[\"acc\"])"
   ]
  },
  {
   "cell_type": "code",
   "execution_count": null,
   "id": "peripheral-narrative",
   "metadata": {},
   "outputs": [],
   "source": [
    "history = model.fit(\n",
    "    train_generator,\n",
    "    epochs=50,\n",
    "    validation_data=validation_generator,\n",
    "    )"
   ]
  },
  {
   "cell_type": "code",
   "execution_count": null,
   "id": "moved-vatican",
   "metadata": {},
   "outputs": [],
   "source": [
    "save_hist_to_excel('history_model_all_data_3ConvLayers_down_015_015_01_0.4')"
   ]
  },
  {
   "cell_type": "markdown",
   "id": "fitting-seller",
   "metadata": {},
   "source": [
    "### Using the 'Down' Version - (0.15 ; 0.15 ; 0.1; 0.3)  - LR = 1e-5"
   ]
  },
  {
   "cell_type": "code",
   "execution_count": null,
   "id": "vocational-venue",
   "metadata": {},
   "outputs": [],
   "source": [
    "from tensorflow.keras import layers\n",
    "from tensorflow.keras import models\n",
    "\n",
    "model = models.Sequential()\n",
    "model.add(layers.Conv2D(32, (2, 2), activation='relu', input_shape=(150, 150, 1)))\n",
    "model.add(layers.MaxPooling2D((2, 2)))\n",
    "model.add(layers.Dropout(0.15))\n",
    "model.add(layers.Conv2D(64, (3, 3), activation='relu'))\n",
    "model.add(layers.MaxPooling2D((2, 2) ))\n",
    "model.add(layers.Dropout(0.15))\n",
    "model.add(layers.Conv2D(128, (4, 4), activation='relu'))\n",
    "model.add(layers.MaxPooling2D((2, 2) ))\n",
    "model.add(layers.Dropout(0.1))\n",
    "model.add(layers.Flatten())\n",
    "model.add(layers.Dense(512, activation='relu'))\n",
    "model.add(layers.Dropout(0.3))\n",
    "model.add(layers.Dense (43, activation='softmax'))\n",
    "\n",
    "model.summary()"
   ]
  },
  {
   "cell_type": "code",
   "execution_count": null,
   "id": "forced-empire",
   "metadata": {},
   "outputs": [],
   "source": [
    "from tensorflow.keras import optimizers\n",
    "\n",
    "#compilation\n",
    "model.compile(loss=\"categorical_crossentropy\", optimizer=optimizers.RMSprop(lr=1e-5), metrics=[\"acc\"])"
   ]
  },
  {
   "cell_type": "code",
   "execution_count": null,
   "id": "velvet-berry",
   "metadata": {},
   "outputs": [],
   "source": [
    "history = model.fit(\n",
    "    train_generator,\n",
    "    epochs=100,\n",
    "    validation_data=validation_generator,\n",
    "    )"
   ]
  },
  {
   "cell_type": "code",
   "execution_count": null,
   "id": "spoken-howard",
   "metadata": {},
   "outputs": [],
   "source": [
    "save_hist_to_excel('history_model_all_data_3ConvLayers_down_decrease_lr')"
   ]
  },
  {
   "cell_type": "code",
   "execution_count": null,
   "id": "ruled-programming",
   "metadata": {},
   "outputs": [],
   "source": [
    "#Displaying curves of loss and accuracy during training\n",
    "\n",
    "import matplotlib.pyplot as plt\n",
    "\n",
    "acc = history.history[\"acc\"]\n",
    "val_acc = history.history[\"val_acc\"]\n",
    "loss = history.history[\"loss\"]\n",
    "val_loss = history.history[\"val_loss\"]\n",
    "\n",
    "epochs = range(1, len(acc) + 1)\n",
    "\n",
    "plt.plot(epochs, acc, \"bo\", label=\"Training acc\")\n",
    "plt.plot(epochs, val_acc, \"b\", label=\"Validation acc\")\n",
    "plt.title(\"Training and validation accuracy\")\n",
    "plt.legend()\n",
    "\n",
    "plt.show()\n",
    "\n",
    "plt.plot(epochs, loss, \"bo\", label=\"Training loss\")\n",
    "plt.plot(epochs, val_loss, \"b\", label=\"Validation loss\")\n",
    "plt.title(\"Training and validation loss\")\n",
    "plt.legend()\n",
    "\n",
    "plt.show()"
   ]
  },
  {
   "cell_type": "code",
   "execution_count": null,
   "id": "paperback-hughes",
   "metadata": {},
   "outputs": [],
   "source": []
  }
 ],
 "metadata": {
  "kernelspec": {
   "display_name": "Python 3",
   "language": "python",
   "name": "python3"
  },
  "language_info": {
   "codemirror_mode": {
    "name": "ipython",
    "version": 3
   },
   "file_extension": ".py",
   "mimetype": "text/x-python",
   "name": "python",
   "nbconvert_exporter": "python",
   "pygments_lexer": "ipython3",
   "version": "3.8.8"
  }
 },
 "nbformat": 4,
 "nbformat_minor": 5
}

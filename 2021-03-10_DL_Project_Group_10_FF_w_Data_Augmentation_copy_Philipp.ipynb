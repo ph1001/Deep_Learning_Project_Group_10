{
 "cells": [
  {
   "cell_type": "markdown",
   "id": "looking-buffer",
   "metadata": {},
   "source": [
    "# Deep Learning Project - Traffic Signs Image Classification"
   ]
  },
  {
   "cell_type": "code",
   "execution_count": 1,
   "id": "subjective-passage",
   "metadata": {},
   "outputs": [],
   "source": [
    "import os, shutil\n",
    "import pandas as pd\n",
    "import seaborn as sns\n",
    "import matplotlib.pyplot as plt"
   ]
  },
  {
   "cell_type": "markdown",
   "id": "bound-commission",
   "metadata": {},
   "source": [
    "## Overview of the training data"
   ]
  },
  {
   "cell_type": "code",
   "execution_count": 2,
   "id": "indoor-network",
   "metadata": {},
   "outputs": [
    {
     "name": "stdout",
     "output_type": "stream",
     "text": [
      "There are 43 different classes within the training data!\n"
     ]
    }
   ],
   "source": [
    "#setting the training directory (the training images can be found there, already sorted by class into folders)\n",
    "# base_training_dir = \"/Users/franz/Desktop/DL Project/Train/Final_Training/Images\"\n",
    "base_training_dir = \"/Users/philippmetzger/Documents/GitHub/Deep_Learning_Project_Group_10/Data/GTSRB_Final_Training_Images/GTSRB/Final_Training/Images/\"\n",
    "\n",
    "#setting the directory where the selected training and validation images will be stored in\n",
    "# created_dir = \"/Users/franz/Desktop/DL Project/Selected\"\n",
    "created_dir = \"/Users/philippmetzger/Documents/GitHub/Deep_Learning_Project_Group_10/Data/Selected\"\n",
    "\n",
    "#storing all the folder names that belong to the respective classes\n",
    "all_classes = sorted(i for i in os.listdir(base_training_dir) if i.startswith(\"0\"))\n",
    "\n",
    "print(\"There are\", len(all_classes), \"different classes within the training data!\")"
   ]
  },
  {
   "cell_type": "code",
   "execution_count": 3,
   "id": "olympic-cylinder",
   "metadata": {},
   "outputs": [],
   "source": [
    "#getting the number of images within each class of the training data\n",
    "amount_per_class = {}\n",
    "\n",
    "for i in range(len(all_classes)):\n",
    "    directory = base_training_dir + \"/\" + all_classes[i]\n",
    "    amount_per_class[i] = len(sorted(i for i in os.listdir(directory) if i.startswith(\"0\")))\n",
    "\n",
    "amount_per_class_df = pd.DataFrame.from_dict(amount_per_class, orient='index').rename(columns={0:\"amount\"})\n",
    "amount_per_class_df.index.name = 'class'\n",
    "\n",
    "#remove the \"#\" of the following line to display the number of images within each class\n",
    "#amount_per_class_df"
   ]
  },
  {
   "cell_type": "code",
   "execution_count": 4,
   "id": "furnished-glance",
   "metadata": {},
   "outputs": [
    {
     "data": {
      "image/png": "[encoded data removed]",
      "text/plain": [
       "<Figure size 1440x576 with 1 Axes>"
      ]
     },
     "metadata": {
      "needs_background": "light"
     },
     "output_type": "display_data"
    }
   ],
   "source": [
    "#displaying the number of images per class visually\n",
    "\n",
    "plt.rcParams[\"figure.figsize\"] = (20,8)\n",
    "fig, ax = plt.subplots()\n",
    "plt.bar(amount_per_class_df.index, amount_per_class_df.amount)\n",
    "plt.title(\"Number of images per class\", fontsize=20)\n",
    "plt.xlabel('class', fontsize=18)\n",
    "plt.ylabel('number of images', fontsize=18)\n",
    "ax.spines['right'].set_visible(False)\n",
    "ax.spines['top'].set_visible(False)\n",
    "plt.xticks(amount_per_class_df.index)\n",
    "plt.grid(axis=\"y\")\n",
    "plt.show()"
   ]
  },
  {
   "cell_type": "markdown",
   "id": "imported-monaco",
   "metadata": {},
   "source": [
    "As it can be seen in the bar chart, the dataset is highly unbalanced. Some classes have over 2000 instances, while others only have 210."
   ]
  },
  {
   "cell_type": "code",
   "execution_count": 5,
   "id": "acceptable-preserve",
   "metadata": {},
   "outputs": [
    {
     "data": {
      "text/html": [
       "<div>\n",
       "<style scoped>\n",
       "    .dataframe tbody tr th:only-of-type {\n",
       "        vertical-align: middle;\n",
       "    }\n",
       "\n",
       "    .dataframe tbody tr th {\n",
       "        vertical-align: top;\n",
       "    }\n",
       "\n",
       "    .dataframe thead th {\n",
       "        text-align: right;\n",
       "    }\n",
       "</style>\n",
       "<table border=\"1\" class=\"dataframe\">\n",
       "  <thead>\n",
       "    <tr style=\"text-align: right;\">\n",
       "      <th>class</th>\n",
       "      <th>0</th>\n",
       "      <th>37</th>\n",
       "      <th>19</th>\n",
       "      <th>32</th>\n",
       "      <th>27</th>\n",
       "      <th>41</th>\n",
       "      <th>42</th>\n",
       "      <th>24</th>\n",
       "      <th>29</th>\n",
       "      <th>39</th>\n",
       "      <th>21</th>\n",
       "      <th>40</th>\n",
       "      <th>20</th>\n",
       "      <th>36</th>\n",
       "      <th>22</th>\n",
       "      <th>6</th>\n",
       "      <th>16</th>\n",
       "      <th>34</th>\n",
       "      <th>30</th>\n",
       "      <th>23</th>\n",
       "    </tr>\n",
       "  </thead>\n",
       "  <tbody>\n",
       "    <tr>\n",
       "      <th>amount</th>\n",
       "      <td>210</td>\n",
       "      <td>210</td>\n",
       "      <td>210</td>\n",
       "      <td>240</td>\n",
       "      <td>240</td>\n",
       "      <td>240</td>\n",
       "      <td>240</td>\n",
       "      <td>270</td>\n",
       "      <td>270</td>\n",
       "      <td>300</td>\n",
       "      <td>330</td>\n",
       "      <td>360</td>\n",
       "      <td>360</td>\n",
       "      <td>390</td>\n",
       "      <td>390</td>\n",
       "      <td>420</td>\n",
       "      <td>420</td>\n",
       "      <td>420</td>\n",
       "      <td>450</td>\n",
       "      <td>510</td>\n",
       "    </tr>\n",
       "  </tbody>\n",
       "</table>\n",
       "</div>"
      ],
      "text/plain": [
       "class    0    37   19   32   27   41   42   24   29   39   21   40   20   36  \\\n",
       "amount  210  210  210  240  240  240  240  270  270  300  330  360  360  390   \n",
       "\n",
       "class    22   6    16   34   30   23  \n",
       "amount  390  420  420  420  450  510  "
      ]
     },
     "execution_count": 5,
     "metadata": {},
     "output_type": "execute_result"
    }
   ],
   "source": [
    "#displaying the 20 classes with the fewest images\n",
    "amount_per_class_df.sort_values(\"amount\").head(20).T"
   ]
  },
  {
   "cell_type": "markdown",
   "id": "medium-majority",
   "metadata": {},
   "source": [
    "Within each class, there are several groups of images, that belong together (these are basically all images of the very same traffic sign, that just differ in that they were made as a series while approaching the actual sign). These series of images shouldn't be splitted later when the data is split into training and validation sets, so some precautions might be useful:"
   ]
  },
  {
   "cell_type": "code",
   "execution_count": 6,
   "id": "strategic-senegal",
   "metadata": {},
   "outputs": [
    {
     "name": "stdout",
     "output_type": "stream",
     "text": [
      "There is a series whose number doesn't match the others in class 00033 , with the prefix 00019 !\n",
      "It only contains 29 images.\n",
      "All the other series of images contain exactly 30 images!\n"
     ]
    }
   ],
   "source": [
    "#checking the size(=amount of images) of these series and whether they are all having the same size\n",
    "\n",
    "#running a for loop over all classes\n",
    "for i in range(len(all_classes)):\n",
    "    directory = base_training_dir + \"/\" + all_classes[i]\n",
    "    \n",
    "    #get the names of all images within a class\n",
    "    list_of_images = sorted(i for i in os.listdir(directory) if i.startswith(\"0\"))\n",
    "\n",
    "    image_series = []\n",
    "    \n",
    "    #store all the prefixes of the images (which correspond to the series they belong to)\n",
    "    for element in list_of_images:\n",
    "        image_series.append(element.split(\"_\")[0])\n",
    "    \n",
    "    #count the frequency of each prefix, which equals the size of each respective series\n",
    "    image_counts = pd.Series(image_series).value_counts().sort_index()\n",
    "\n",
    "    for element in image_counts.values.tolist():\n",
    "        if element != image_counts.values.tolist()[0]:\n",
    "            #this line will show if there is a series that contains not the same number of images than the others\n",
    "            print(\"There is a series whose number doesn't match the others in class\", all_classes[i], \", with the prefix\", image_counts.sort_values().index[0], \"!\\nIt only contains\", element, \"images.\")\n",
    "            \n",
    "\n",
    "#apart from only one series, all others consist of exactly 30 images\n",
    "print(\"All the other series of images contain exactly\", image_counts.values.tolist()[0], \"images!\")"
   ]
  },
  {
   "cell_type": "markdown",
   "id": "velvet-breakdown",
   "metadata": {},
   "source": [
    "## Split into training and validation datasets"
   ]
  },
  {
   "cell_type": "markdown",
   "id": "surprised-fight",
   "metadata": {},
   "source": [
    "As already mentioned, it is important for the split into training and validation sets that the individual image series stay together. As a first approach, there will be 210 images used per class, as this number corresponds to the amount of images in the \"smallest\" class. This will fix the problem of imbalance in the dataset. Subsequently, the data will be splitted by a 5:2 (150:60) ratio into training and validation set, in order to guarantee that the series will stay together."
   ]
  },
  {
   "cell_type": "code",
   "execution_count": 8,
   "id": "wooden-willow",
   "metadata": {},
   "outputs": [],
   "source": [
    "#creating folders within the class folders for the training and validation sets\n",
    "train_dir = os.path.join(created_dir, \"training\")\n",
    "os.mkdir(train_dir)\n",
    "validation_dir = os.path.join(created_dir, \"validation\")\n",
    "os.mkdir(validation_dir)\n",
    "\n",
    "#creating folders for each class within the training and validation folders\n",
    "for i in range(len(all_classes)):\n",
    "    directory_train = os.path.join(train_dir, all_classes[i])\n",
    "    directory_val = os.path.join(validation_dir, all_classes[i])\n",
    "\n",
    "    os.mkdir(directory_train)\n",
    "    os.mkdir(directory_val)"
   ]
  },
  {
   "cell_type": "code",
   "execution_count": 9,
   "id": "common-glenn",
   "metadata": {},
   "outputs": [],
   "source": [
    "#creating a list that contains the names of the 1st, 2nd and 3rd series of images (3x30 names)\n",
    "training_names = []\n",
    "\n",
    "for i in range(5):\n",
    "    name = \"0000\" + str(i)\n",
    "    for i2 in range(30):\n",
    "        if i2 < 10:\n",
    "            name = name + \"_0000\" + str(i2) + \".ppm\"\n",
    "            training_names.append(name)\n",
    "            name = \"0000\" + str(i)\n",
    "        else:\n",
    "            name = name + \"_000\" + str(i2) + \".ppm\"\n",
    "            training_names.append(name)\n",
    "            name = \"0000\" + str(i)\n",
    "\n",
    "\n",
    "#creating a list that contains the names of the 4th and 5th series of images (2x30 names)\n",
    "val_names = []\n",
    "\n",
    "for i in range(5,7):\n",
    "    name = \"0000\" + str(i)\n",
    "    for i2 in range(30):\n",
    "        if i2 < 10:\n",
    "            name = name + \"_0000\" + str(i2) + \".ppm\"\n",
    "            val_names.append(name)\n",
    "            name = \"0000\" + str(i)\n",
    "        else:\n",
    "            name = name + \"_000\" + str(i2) + \".ppm\"\n",
    "            val_names.append(name)\n",
    "            name = \"0000\" + str(i)"
   ]
  },
  {
   "cell_type": "code",
   "execution_count": 10,
   "id": "noble-fantasy",
   "metadata": {},
   "outputs": [],
   "source": [
    "#copying the first 3 series within a class into the train folder and the 2 consecutive series into the validation folder \n",
    "for i in range(len(all_classes)):\n",
    "\n",
    "    for name in training_names:\n",
    "        src = base_training_dir + \"/\" + all_classes[i] + \"/\" + name\n",
    "        dst = train_dir + \"/\" + all_classes[i] + \"/\"  + name\n",
    "        shutil.copyfile(src, dst)\n",
    "    \n",
    "    for name in val_names:\n",
    "        src = base_training_dir + \"/\" + all_classes[i] + \"/\" + name\n",
    "        dst = validation_dir + \"/\" + all_classes[i] + \"/\"  + name\n",
    "        shutil.copyfile(src, dst)"
   ]
  },
  {
   "cell_type": "markdown",
   "id": "difficult-retailer",
   "metadata": {},
   "source": [
    "Now, there should be exactly 150 images within the train folder of each class and 60 images within the validation folder. Having 43 different classes, this means that there are a total of 6,450 (150x43) training images and another 2,580 (60x43) validation images. A sanity check will show if this worked correctly:"
   ]
  },
  {
   "cell_type": "code",
   "execution_count": 11,
   "id": "stunning-printing",
   "metadata": {},
   "outputs": [
    {
     "name": "stdout",
     "output_type": "stream",
     "text": [
      "Class 0 : training set size = 150 ; validation set size: 60\n",
      "Class 1 : training set size = 150 ; validation set size: 60\n",
      "Class 2 : training set size = 150 ; validation set size: 60\n",
      "Class 3 : training set size = 150 ; validation set size: 60\n",
      "Class 4 : training set size = 150 ; validation set size: 60\n",
      "Class 5 : training set size = 150 ; validation set size: 60\n",
      "Class 6 : training set size = 150 ; validation set size: 60\n",
      "Class 7 : training set size = 150 ; validation set size: 60\n",
      "Class 8 : training set size = 150 ; validation set size: 60\n",
      "Class 9 : training set size = 150 ; validation set size: 60\n",
      "Class 10 : training set size = 150 ; validation set size: 60\n",
      "Class 11 : training set size = 150 ; validation set size: 60\n",
      "Class 12 : training set size = 150 ; validation set size: 60\n",
      "Class 13 : training set size = 150 ; validation set size: 60\n",
      "Class 14 : training set size = 150 ; validation set size: 60\n",
      "Class 15 : training set size = 150 ; validation set size: 60\n",
      "Class 16 : training set size = 150 ; validation set size: 60\n",
      "Class 17 : training set size = 150 ; validation set size: 60\n",
      "Class 18 : training set size = 150 ; validation set size: 60\n",
      "Class 19 : training set size = 150 ; validation set size: 60\n",
      "Class 20 : training set size = 150 ; validation set size: 60\n",
      "Class 21 : training set size = 150 ; validation set size: 60\n",
      "Class 22 : training set size = 150 ; validation set size: 60\n",
      "Class 23 : training set size = 150 ; validation set size: 60\n",
      "Class 24 : training set size = 150 ; validation set size: 60\n",
      "Class 25 : training set size = 150 ; validation set size: 60\n",
      "Class 26 : training set size = 150 ; validation set size: 60\n",
      "Class 27 : training set size = 150 ; validation set size: 60\n",
      "Class 28 : training set size = 150 ; validation set size: 60\n",
      "Class 29 : training set size = 150 ; validation set size: 60\n",
      "Class 30 : training set size = 150 ; validation set size: 60\n",
      "Class 31 : training set size = 150 ; validation set size: 60\n",
      "Class 32 : training set size = 150 ; validation set size: 60\n",
      "Class 33 : training set size = 150 ; validation set size: 60\n",
      "Class 34 : training set size = 150 ; validation set size: 60\n",
      "Class 35 : training set size = 150 ; validation set size: 60\n",
      "Class 36 : training set size = 150 ; validation set size: 60\n",
      "Class 37 : training set size = 150 ; validation set size: 60\n",
      "Class 38 : training set size = 150 ; validation set size: 60\n",
      "Class 39 : training set size = 150 ; validation set size: 60\n",
      "Class 40 : training set size = 150 ; validation set size: 60\n",
      "Class 41 : training set size = 150 ; validation set size: 60\n",
      "Class 42 : training set size = 150 ; validation set size: 60\n"
     ]
    }
   ],
   "source": [
    "for i in range(len(all_classes)):\n",
    "    print(\"Class\", i, \": training set size =\", len(os.listdir(train_dir + \"/\" + all_classes[i])), \"; validation set size:\", len(os.listdir(validation_dir + \"/\" + all_classes[i])))"
   ]
  },
  {
   "cell_type": "markdown",
   "id": "powerful-bidding",
   "metadata": {},
   "source": [
    "As it can be seen, it worked correctly!"
   ]
  },
  {
   "cell_type": "markdown",
   "id": "imperial-local",
   "metadata": {},
   "source": [
    "## Data Preprocessing"
   ]
  },
  {
   "cell_type": "markdown",
   "id": "applicable-meeting",
   "metadata": {},
   "source": [
    "After running the upper part once, the notebook can be started from here from now on:"
   ]
  },
  {
   "cell_type": "code",
   "execution_count": 12,
   "id": "unique-timothy",
   "metadata": {},
   "outputs": [],
   "source": [
    "#this cell is optional and the notebook should be runned from here once the upper part has been executed once\n",
    "\n",
    "import os, shutil\n",
    "import pandas as pd\n",
    "import seaborn as sns\n",
    "import matplotlib.pyplot as plt\n",
    "\n",
    "# train_dir = \"/Users/franz/Desktop/DL Project/Selected/training\"\n",
    "# validation_dir = \"/Users/franz/Desktop/DL Project/Selected/validation\"\n",
    "\n",
    "train_dir = \"/Users/philippmetzger/Documents/GitHub/Deep_Learning_Project_Group_10/Data/Selected/training\"\n",
    "validation_dir = \"/Users/philippmetzger/Documents/GitHub/Deep_Learning_Project_Group_10/Data/Selected/validation\""
   ]
  },
  {
   "cell_type": "code",
   "execution_count": 13,
   "id": "involved-saturn",
   "metadata": {},
   "outputs": [
    {
     "name": "stdout",
     "output_type": "stream",
     "text": [
      "Found 6450 images belonging to 43 classes.\n",
      "Found 2580 images belonging to 43 classes.\n"
     ]
    }
   ],
   "source": [
    "from keras.preprocessing.image import ImageDataGenerator\n",
    "\n",
    "train_datagen = ImageDataGenerator(rescale=1./255)\n",
    "test_datagen = ImageDataGenerator(rescale=1./255)\n",
    "\n",
    "train_generator = train_datagen.flow_from_directory(\n",
    "    train_dir,\n",
    "    target_size=(150,150),\n",
    "    batch_size=20,\n",
    "    class_mode=\"categorical\")\n",
    "\n",
    "validation_generator = test_datagen.flow_from_directory(\n",
    "    validation_dir,\n",
    "    target_size=(150,150),\n",
    "    batch_size=20,\n",
    "    class_mode=\"categorical\",\n",
    "    shuffle = False)"
   ]
  },
  {
   "cell_type": "markdown",
   "id": "finnish-factory",
   "metadata": {},
   "source": [
    "## Draft of the model"
   ]
  },
  {
   "cell_type": "markdown",
   "id": "bibliographic-productivity",
   "metadata": {},
   "source": [
    "#### Building the model"
   ]
  },
  {
   "cell_type": "code",
   "execution_count": 14,
   "id": "thrown-compromise",
   "metadata": {},
   "outputs": [],
   "source": [
    "from keras import layers\n",
    "from keras import models\n",
    "\n",
    "model = models.Sequential()\n",
    "model.add(layers.Conv2D(32, (3, 3), activation='relu', input_shape=(150, 150, 3)))\n",
    "model.add(layers.MaxPooling2D((2, 2)))\n",
    "model.add(layers.Conv2D(64, (3, 3), activation='relu'))\n",
    "model.add(layers.MaxPooling2D((2, 2) ))\n",
    "model.add(layers.Flatten())\n",
    "model.add(layers.Dense(512, activation='relu'))\n",
    "model.add(layers.Dense (43, activation='softmax'))"
   ]
  },
  {
   "cell_type": "code",
   "execution_count": 15,
   "id": "united-coach",
   "metadata": {},
   "outputs": [
    {
     "name": "stdout",
     "output_type": "stream",
     "text": [
      "Model: \"sequential\"\n",
      "_________________________________________________________________\n",
      "Layer (type)                 Output Shape              Param #   \n",
      "=================================================================\n",
      "conv2d (Conv2D)              (None, 148, 148, 32)      896       \n",
      "_________________________________________________________________\n",
      "max_pooling2d (MaxPooling2D) (None, 74, 74, 32)        0         \n",
      "_________________________________________________________________\n",
      "conv2d_1 (Conv2D)            (None, 72, 72, 64)        18496     \n",
      "_________________________________________________________________\n",
      "max_pooling2d_1 (MaxPooling2 (None, 36, 36, 64)        0         \n",
      "_________________________________________________________________\n",
      "flatten (Flatten)            (None, 82944)             0         \n",
      "_________________________________________________________________\n",
      "dense (Dense)                (None, 512)               42467840  \n",
      "_________________________________________________________________\n",
      "dense_1 (Dense)              (None, 43)                22059     \n",
      "=================================================================\n",
      "Total params: 42,509,291\n",
      "Trainable params: 42,509,291\n",
      "Non-trainable params: 0\n",
      "_________________________________________________________________\n"
     ]
    }
   ],
   "source": [
    "model.summary()"
   ]
  },
  {
   "cell_type": "markdown",
   "id": "nutritional-country",
   "metadata": {},
   "source": [
    "#### Training the model"
   ]
  },
  {
   "cell_type": "code",
   "execution_count": 16,
   "id": "intellectual-hayes",
   "metadata": {},
   "outputs": [],
   "source": [
    "from keras import optimizers\n",
    "\n",
    "#compilation\n",
    "model.compile(loss=\"categorical_crossentropy\", optimizer=optimizers.RMSprop(lr=1e-4), metrics=[\"acc\"])"
   ]
  },
  {
   "cell_type": "code",
   "execution_count": 17,
   "id": "painful-words",
   "metadata": {},
   "outputs": [
    {
     "name": "stdout",
     "output_type": "stream",
     "text": [
      "data batch shape: (20, 150, 150, 3)\n",
      "labels batch shape: (20, 43)\n"
     ]
    }
   ],
   "source": [
    "import sys\n",
    "from PIL import Image\n",
    "sys.modules['Image'] = Image\n",
    "\n",
    "for data_batch, labels_batch in train_generator:\n",
    "    print('data batch shape:', data_batch.shape)\n",
    "    print('labels batch shape:', labels_batch.shape)\n",
    "    break"
   ]
  },
  {
   "cell_type": "code",
   "execution_count": 18,
   "id": "electrical-fleece",
   "metadata": {},
   "outputs": [
    {
     "name": "stderr",
     "output_type": "stream",
     "text": [
      "/Users/philippmetzger/anaconda3/envs/dl_pip_2/lib/python3.8/site-packages/tensorflow/python/keras/engine/training.py:1844: UserWarning: `Model.fit_generator` is deprecated and will be removed in a future version. Please use `Model.fit`, which supports generators.\n",
      "  warnings.warn('`Model.fit_generator` is deprecated and '\n"
     ]
    },
    {
     "name": "stdout",
     "output_type": "stream",
     "text": [
      "Epoch 1/30\n",
      "100/100 [==============================] - 67s 666ms/step - loss: 4.1185 - acc: 0.0695 - val_loss: 3.3535 - val_acc: 0.1950\n",
      "Epoch 2/30\n",
      "100/100 [==============================] - 62s 618ms/step - loss: 2.6432 - acc: 0.3667 - val_loss: 2.9924 - val_acc: 0.1880\n",
      "Epoch 3/30\n",
      "100/100 [==============================] - 62s 622ms/step - loss: 1.8138 - acc: 0.5901 - val_loss: 2.7015 - val_acc: 0.2990\n",
      "Epoch 4/30\n",
      "100/100 [==============================] - 63s 626ms/step - loss: 1.2928 - acc: 0.6899 - val_loss: 2.5325 - val_acc: 0.3360\n",
      "Epoch 5/30\n",
      "100/100 [==============================] - 63s 626ms/step - loss: 0.8849 - acc: 0.7939 - val_loss: 2.3682 - val_acc: 0.3780\n",
      "Epoch 6/30\n",
      "100/100 [==============================] - 63s 632ms/step - loss: 0.7239 - acc: 0.8384 - val_loss: 2.1277 - val_acc: 0.4400\n",
      "Epoch 7/30\n",
      "100/100 [==============================] - 63s 635ms/step - loss: 0.6194 - acc: 0.8628 - val_loss: 2.1289 - val_acc: 0.5480\n",
      "Epoch 8/30\n",
      "100/100 [==============================] - 63s 634ms/step - loss: 0.4433 - acc: 0.9063 - val_loss: 2.3077 - val_acc: 0.4650\n",
      "Epoch 9/30\n",
      "100/100 [==============================] - 62s 623ms/step - loss: 0.3604 - acc: 0.9226 - val_loss: 2.4421 - val_acc: 0.5230\n",
      "Epoch 10/30\n",
      "100/100 [==============================] - 63s 626ms/step - loss: 0.3144 - acc: 0.9316 - val_loss: 2.3589 - val_acc: 0.5030\n",
      "Epoch 11/30\n",
      "100/100 [==============================] - 63s 635ms/step - loss: 0.2369 - acc: 0.9483 - val_loss: 2.9185 - val_acc: 0.4850\n",
      "Epoch 12/30\n",
      "100/100 [==============================] - 64s 640ms/step - loss: 0.1851 - acc: 0.9542 - val_loss: 2.4245 - val_acc: 0.4800\n",
      "Epoch 13/30\n",
      "100/100 [==============================] - 66s 658ms/step - loss: 0.1716 - acc: 0.9640 - val_loss: 2.2585 - val_acc: 0.5430\n",
      "Epoch 14/30\n",
      "100/100 [==============================] - 65s 648ms/step - loss: 0.1325 - acc: 0.9707 - val_loss: 2.5068 - val_acc: 0.5410\n",
      "Epoch 15/30\n",
      "100/100 [==============================] - 69s 687ms/step - loss: 0.1122 - acc: 0.9767 - val_loss: 2.2075 - val_acc: 0.5730\n",
      "Epoch 16/30\n",
      "100/100 [==============================] - 65s 650ms/step - loss: 0.1062 - acc: 0.9744 - val_loss: 2.7520 - val_acc: 0.5380\n",
      "Epoch 17/30\n",
      "100/100 [==============================] - 64s 637ms/step - loss: 0.1092 - acc: 0.9799 - val_loss: 2.5157 - val_acc: 0.5780\n",
      "Epoch 18/30\n",
      "100/100 [==============================] - 63s 631ms/step - loss: 0.0917 - acc: 0.9835 - val_loss: 2.9074 - val_acc: 0.5700\n",
      "Epoch 19/30\n",
      "100/100 [==============================] - 64s 640ms/step - loss: 0.0593 - acc: 0.9896 - val_loss: 3.0603 - val_acc: 0.5450\n",
      "Epoch 20/30\n",
      "100/100 [==============================] - 63s 627ms/step - loss: 0.0605 - acc: 0.9863 - val_loss: 2.9756 - val_acc: 0.4790\n",
      "Epoch 21/30\n",
      "100/100 [==============================] - 64s 644ms/step - loss: 0.0730 - acc: 0.9845 - val_loss: 3.0709 - val_acc: 0.5280\n",
      "Epoch 22/30\n",
      "100/100 [==============================] - 64s 636ms/step - loss: 0.0515 - acc: 0.9867 - val_loss: 2.8382 - val_acc: 0.5590\n",
      "Epoch 23/30\n",
      "100/100 [==============================] - 66s 657ms/step - loss: 0.0454 - acc: 0.9904 - val_loss: 2.9421 - val_acc: 0.5250\n",
      "Epoch 24/30\n",
      "100/100 [==============================] - 66s 655ms/step - loss: 0.0313 - acc: 0.9959 - val_loss: 3.1723 - val_acc: 0.5560\n",
      "Epoch 25/30\n",
      "100/100 [==============================] - 65s 649ms/step - loss: 0.0400 - acc: 0.9912 - val_loss: 2.8816 - val_acc: 0.5350\n",
      "Epoch 26/30\n",
      "100/100 [==============================] - 66s 663ms/step - loss: 0.0307 - acc: 0.9955 - val_loss: 2.7744 - val_acc: 0.5690\n",
      "Epoch 27/30\n",
      "100/100 [==============================] - 66s 664ms/step - loss: 0.0321 - acc: 0.9959 - val_loss: 3.0096 - val_acc: 0.5610\n",
      "Epoch 28/30\n",
      "100/100 [==============================] - 66s 661ms/step - loss: 0.0244 - acc: 0.9954 - val_loss: 2.9995 - val_acc: 0.5470\n",
      "Epoch 29/30\n",
      "100/100 [==============================] - 66s 656ms/step - loss: 0.0336 - acc: 0.9917 - val_loss: 3.0132 - val_acc: 0.5830\n",
      "Epoch 30/30\n",
      "100/100 [==============================] - 65s 649ms/step - loss: 0.0428 - acc: 0.9919 - val_loss: 2.9879 - val_acc: 0.5940\n"
     ]
    }
   ],
   "source": [
    "history = model.fit_generator(\n",
    "    train_generator,\n",
    "    steps_per_epoch=100,\n",
    "    epochs=30,\n",
    "    validation_data=validation_generator,\n",
    "    validation_steps=50)"
   ]
  },
  {
   "cell_type": "code",
   "execution_count": 19,
   "id": "express-finger",
   "metadata": {},
   "outputs": [],
   "source": [
    "# convert the history.history dict to a pandas DataFrame:     \n",
    "history_base_model_df = pd.DataFrame(history.history)"
   ]
  },
  {
   "cell_type": "code",
   "execution_count": 20,
   "id": "minus-france",
   "metadata": {},
   "outputs": [],
   "source": [
    "# save to csv: \n",
    "hist_csv_file = 'history_base_model.csv'\n",
    "with open(hist_csv_file, mode='w') as f:\n",
    "    history_base_model_df.to_csv(f)"
   ]
  },
  {
   "cell_type": "code",
   "execution_count": 21,
   "id": "destroyed-broadway",
   "metadata": {},
   "outputs": [
    {
     "data": {
      "image/png": "[encoded data removed]",
      "text/plain": [
       "<Figure size 1440x576 with 1 Axes>"
      ]
     },
     "metadata": {
      "needs_background": "light"
     },
     "output_type": "display_data"
    },
    {
     "data": {
      "image/png": "[encoded data removed]",
      "text/plain": [
       "<Figure size 1440x576 with 1 Axes>"
      ]
     },
     "metadata": {
      "needs_background": "light"
     },
     "output_type": "display_data"
    }
   ],
   "source": [
    "#Displaying curves of loss and accuracy during training\n",
    "\n",
    "import matplotlib.pyplot as plt\n",
    "\n",
    "acc = history.history[\"acc\"]\n",
    "val_acc = history.history[\"val_acc\"]\n",
    "loss = history.history[\"loss\"]\n",
    "val_loss = history.history[\"val_loss\"]\n",
    "\n",
    "epochs = range(1, len(acc) + 1)\n",
    "\n",
    "plt.plot(epochs, acc, \"bo\", label=\"Training acc\")\n",
    "plt.plot(epochs, val_acc, \"b\", label=\"Validation acc\")\n",
    "plt.title(\"Training and validation accuracy\")\n",
    "plt.legend()\n",
    "\n",
    "plt.show()\n",
    "\n",
    "plt.plot(epochs, loss, \"bo\", label=\"Training loss\")\n",
    "plt.plot(epochs, val_loss, \"b\", label=\"Validation loss\")\n",
    "plt.title(\"Training and validation loss\")\n",
    "plt.legend()\n",
    "\n",
    "plt.show()"
   ]
  },
  {
   "cell_type": "markdown",
   "id": "attempted-february",
   "metadata": {},
   "source": [
    "As it can be seen, the major problem so far is overfitting!"
   ]
  },
  {
   "cell_type": "markdown",
   "id": "suffering-empire",
   "metadata": {},
   "source": [
    "## Overfitting reduce technique 1: Rebuidling the model with dropout"
   ]
  },
  {
   "cell_type": "markdown",
   "id": "loving-scratch",
   "metadata": {},
   "source": [
    "Overview of some techniques: https://towardsdatascience.com/deep-learning-3-more-on-cnns-handling-overfitting-2bd5d99abe5d"
   ]
  },
  {
   "cell_type": "code",
   "execution_count": 22,
   "id": "sacred-ceramic",
   "metadata": {},
   "outputs": [],
   "source": [
    "train_dir = os.path.join(created_dir, \"training\")\n",
    "# os.mkdir(train_dir)\n",
    "validation_dir = os.path.join(created_dir, \"validation\")\n",
    "# os.mkdir(validation_dir)"
   ]
  },
  {
   "cell_type": "code",
   "execution_count": 23,
   "id": "light-prime",
   "metadata": {},
   "outputs": [],
   "source": [
    "from keras import layers\n",
    "from keras import models\n",
    "\n",
    "model = models.Sequential()\n",
    "model.add(layers.Conv2D(32, (3, 3), activation='relu', input_shape=(150, 150, 3)))\n",
    "model.add(layers.MaxPooling2D((2, 2)))\n",
    "model.add(layers.Conv2D(64, (3, 3), activation='relu'))\n",
    "model.add(layers.MaxPooling2D((2, 2) ))\n",
    "model.add(layers.Flatten())\n",
    "model.add(layers.Dropout(0.5))\n",
    "model.add(layers.Dense(512, activation='relu'))\n",
    "model.add(layers.Dense (43, activation='softmax'))"
   ]
  },
  {
   "cell_type": "code",
   "execution_count": 24,
   "id": "binary-plasma",
   "metadata": {},
   "outputs": [
    {
     "name": "stdout",
     "output_type": "stream",
     "text": [
      "Model: \"sequential_1\"\n",
      "_________________________________________________________________\n",
      "Layer (type)                 Output Shape              Param #   \n",
      "=================================================================\n",
      "conv2d_2 (Conv2D)            (None, 148, 148, 32)      896       \n",
      "_________________________________________________________________\n",
      "max_pooling2d_2 (MaxPooling2 (None, 74, 74, 32)        0         \n",
      "_________________________________________________________________\n",
      "conv2d_3 (Conv2D)            (None, 72, 72, 64)        18496     \n",
      "_________________________________________________________________\n",
      "max_pooling2d_3 (MaxPooling2 (None, 36, 36, 64)        0         \n",
      "_________________________________________________________________\n",
      "flatten_1 (Flatten)          (None, 82944)             0         \n",
      "_________________________________________________________________\n",
      "dropout (Dropout)            (None, 82944)             0         \n",
      "_________________________________________________________________\n",
      "dense_2 (Dense)              (None, 512)               42467840  \n",
      "_________________________________________________________________\n",
      "dense_3 (Dense)              (None, 43)                22059     \n",
      "=================================================================\n",
      "Total params: 42,509,291\n",
      "Trainable params: 42,509,291\n",
      "Non-trainable params: 0\n",
      "_________________________________________________________________\n"
     ]
    }
   ],
   "source": [
    "model.summary()"
   ]
  },
  {
   "cell_type": "code",
   "execution_count": 25,
   "id": "laden-likelihood",
   "metadata": {},
   "outputs": [],
   "source": [
    "from keras import optimizers\n",
    "\n",
    "#compilation\n",
    "model.compile(loss=\"categorical_crossentropy\", optimizer=optimizers.RMSprop(lr=1e-4), metrics=[\"acc\"])"
   ]
  },
  {
   "cell_type": "code",
   "execution_count": 28,
   "id": "original-center",
   "metadata": {},
   "outputs": [
    {
     "name": "stdout",
     "output_type": "stream",
     "text": [
      "Epoch 1/30\n",
      "100/100 [==============================] - 69s 686ms/step - loss: 3.6181 - acc: 0.0868 - val_loss: 3.1089 - val_acc: 0.2380\n",
      "Epoch 2/30\n",
      "100/100 [==============================] - 66s 663ms/step - loss: 2.3032 - acc: 0.4263 - val_loss: 2.8018 - val_acc: 0.3330\n",
      "Epoch 3/30\n",
      "100/100 [==============================] - 68s 681ms/step - loss: 1.5430 - acc: 0.6220 - val_loss: 2.4331 - val_acc: 0.3570\n",
      "Epoch 4/30\n",
      "100/100 [==============================] - 65s 650ms/step - loss: 1.1304 - acc: 0.7240 - val_loss: 2.3240 - val_acc: 0.3870\n",
      "Epoch 5/30\n",
      "100/100 [==============================] - 66s 664ms/step - loss: 0.7886 - acc: 0.8119 - val_loss: 2.2373 - val_acc: 0.4350\n",
      "Epoch 6/30\n",
      "100/100 [==============================] - 65s 649ms/step - loss: 0.6287 - acc: 0.8601 - val_loss: 2.2784 - val_acc: 0.4340\n",
      "Epoch 7/30\n",
      "100/100 [==============================] - 65s 650ms/step - loss: 0.4532 - acc: 0.8987 - val_loss: 2.2149 - val_acc: 0.4710\n",
      "Epoch 8/30\n",
      "100/100 [==============================] - 65s 654ms/step - loss: 0.3584 - acc: 0.9261 - val_loss: 2.1623 - val_acc: 0.5090\n",
      "Epoch 9/30\n",
      "100/100 [==============================] - 64s 644ms/step - loss: 0.2694 - acc: 0.9376 - val_loss: 2.1291 - val_acc: 0.5070\n",
      "Epoch 10/30\n",
      "100/100 [==============================] - 65s 649ms/step - loss: 0.1999 - acc: 0.9608 - val_loss: 2.0252 - val_acc: 0.5200\n",
      "Epoch 11/30\n",
      "100/100 [==============================] - 64s 645ms/step - loss: 0.1422 - acc: 0.9749 - val_loss: 1.9379 - val_acc: 0.5640\n",
      "Epoch 12/30\n",
      "100/100 [==============================] - 65s 646ms/step - loss: 0.1399 - acc: 0.9683 - val_loss: 2.4740 - val_acc: 0.5020\n",
      "Epoch 13/30\n",
      "100/100 [==============================] - 65s 648ms/step - loss: 0.0980 - acc: 0.9828 - val_loss: 2.2714 - val_acc: 0.5320\n",
      "Epoch 14/30\n",
      "100/100 [==============================] - 65s 651ms/step - loss: 0.0993 - acc: 0.9768 - val_loss: 2.3633 - val_acc: 0.5550\n",
      "Epoch 15/30\n",
      "100/100 [==============================] - 64s 644ms/step - loss: 0.0745 - acc: 0.9817 - val_loss: 2.2901 - val_acc: 0.5700\n",
      "Epoch 16/30\n",
      "100/100 [==============================] - 65s 648ms/step - loss: 0.0685 - acc: 0.9820 - val_loss: 2.2830 - val_acc: 0.5740\n",
      "Epoch 17/30\n",
      "100/100 [==============================] - 66s 656ms/step - loss: 0.0429 - acc: 0.9931 - val_loss: 2.3400 - val_acc: 0.5700\n",
      "Epoch 18/30\n",
      "100/100 [==============================] - 65s 653ms/step - loss: 0.0494 - acc: 0.9864 - val_loss: 2.3492 - val_acc: 0.6000\n",
      "Epoch 19/30\n",
      "100/100 [==============================] - 65s 652ms/step - loss: 0.0341 - acc: 0.9898 - val_loss: 2.3918 - val_acc: 0.5820\n",
      "Epoch 20/30\n",
      "100/100 [==============================] - 65s 647ms/step - loss: 0.0215 - acc: 0.9964 - val_loss: 2.3706 - val_acc: 0.5830\n",
      "Epoch 21/30\n",
      "100/100 [==============================] - 65s 649ms/step - loss: 0.0214 - acc: 0.9968 - val_loss: 2.6852 - val_acc: 0.5730\n",
      "Epoch 22/30\n",
      "100/100 [==============================] - 65s 653ms/step - loss: 0.0184 - acc: 0.9958 - val_loss: 2.5880 - val_acc: 0.5970\n",
      "Epoch 23/30\n",
      "100/100 [==============================] - 65s 651ms/step - loss: 0.0212 - acc: 0.9946 - val_loss: 2.5956 - val_acc: 0.6300\n",
      "Epoch 24/30\n",
      "100/100 [==============================] - 65s 651ms/step - loss: 0.0114 - acc: 0.9986 - val_loss: 2.2870 - val_acc: 0.6170\n",
      "Epoch 25/30\n",
      "100/100 [==============================] - 65s 652ms/step - loss: 0.0166 - acc: 0.9965 - val_loss: 2.3721 - val_acc: 0.6190\n",
      "Epoch 26/30\n",
      "100/100 [==============================] - 65s 649ms/step - loss: 0.0211 - acc: 0.9937 - val_loss: 2.3750 - val_acc: 0.6060\n",
      "Epoch 27/30\n",
      "100/100 [==============================] - 65s 655ms/step - loss: 0.0122 - acc: 0.9949 - val_loss: 2.7385 - val_acc: 0.5940\n",
      "Epoch 28/30\n",
      "100/100 [==============================] - 65s 650ms/step - loss: 0.0085 - acc: 0.9991 - val_loss: 2.3404 - val_acc: 0.6540\n",
      "Epoch 29/30\n",
      "100/100 [==============================] - 65s 654ms/step - loss: 0.0056 - acc: 0.9993 - val_loss: 2.6222 - val_acc: 0.5470\n",
      "Epoch 30/30\n",
      "100/100 [==============================] - 63s 632ms/step - loss: 0.0049 - acc: 0.9991 - val_loss: 2.2540 - val_acc: 0.6580\n"
     ]
    }
   ],
   "source": [
    "history = model.fit_generator(\n",
    "    train_generator,\n",
    "    steps_per_epoch=100,\n",
    "    epochs=30,\n",
    "    validation_data=validation_generator,\n",
    "    validation_steps=50\n",
    "    )"
   ]
  },
  {
   "cell_type": "code",
   "execution_count": 30,
   "id": "renewable-silver",
   "metadata": {},
   "outputs": [],
   "source": [
    "# convert the history.history dict to a pandas DataFrame:     \n",
    "history_dropout_1_df = pd.DataFrame(history.history)"
   ]
  },
  {
   "cell_type": "code",
   "execution_count": 31,
   "id": "classical-representative",
   "metadata": {},
   "outputs": [],
   "source": [
    "# save to csv: \n",
    "hist_csv_file = 'history_dropout_1.csv'\n",
    "with open(hist_csv_file, mode='w') as f:\n",
    "    history_dropout_1_df.to_csv(f)"
   ]
  },
  {
   "cell_type": "code",
   "execution_count": 29,
   "id": "neutral-wednesday",
   "metadata": {},
   "outputs": [
    {
     "data": {
      "image/png": "[encoded data removed]",
      "text/plain": [
       "<Figure size 1440x576 with 1 Axes>"
      ]
     },
     "metadata": {
      "needs_background": "light"
     },
     "output_type": "display_data"
    },
    {
     "data": {
      "image/png": "[encoded data removed]",
      "text/plain": [
       "<Figure size 1440x576 with 1 Axes>"
      ]
     },
     "metadata": {
      "needs_background": "light"
     },
     "output_type": "display_data"
    }
   ],
   "source": [
    "#Displaying curves of loss and accuracy during training\n",
    "\n",
    "import matplotlib.pyplot as plt\n",
    "\n",
    "acc = history.history[\"acc\"]\n",
    "val_acc = history.history[\"val_acc\"]\n",
    "loss = history.history[\"loss\"]\n",
    "val_loss = history.history[\"val_loss\"]\n",
    "\n",
    "epochs = range(1, len(acc) + 1)\n",
    "\n",
    "plt.plot(epochs, acc, \"bo\", label=\"Training acc\")\n",
    "plt.plot(epochs, val_acc, \"b\", label=\"Validation acc\")\n",
    "plt.title(\"Training and validation accuracy\")\n",
    "plt.legend()\n",
    "\n",
    "plt.show()\n",
    "\n",
    "plt.plot(epochs, loss, \"bo\", label=\"Training loss\")\n",
    "plt.plot(epochs, val_loss, \"b\", label=\"Validation loss\")\n",
    "plt.title(\"Training and validation loss\")\n",
    "plt.legend()\n",
    "\n",
    "plt.show()"
   ]
  },
  {
   "cell_type": "markdown",
   "id": "balanced-institution",
   "metadata": {},
   "source": [
    "## Overfitting reduce technique 2: Data Augmentation"
   ]
  },
  {
   "cell_type": "code",
   "execution_count": 32,
   "id": "operational-anger",
   "metadata": {},
   "outputs": [],
   "source": [
    "from keras.preprocessing.image import ImageDataGenerator\n",
    "\n",
    "#defining the parameters how the images will be adjusted\n",
    "datagen = ImageDataGenerator(\n",
    "    rotation_range=40,\n",
    "    width_shift_range=0.2,\n",
    "    shear_range=0.2,\n",
    "    zoom_range=0.2,\n",
    "    horizontal_flip=True,\n",
    "    fill_mode=\"nearest\")"
   ]
  },
  {
   "cell_type": "markdown",
   "id": "interior-beverage",
   "metadata": {},
   "source": [
    "##### Creating augmented images"
   ]
  },
  {
   "cell_type": "code",
   "execution_count": 33,
   "id": "dominant-latitude",
   "metadata": {
    "scrolled": false
   },
   "outputs": [
    {
     "name": "stdout",
     "output_type": "stream",
     "text": [
      "1/43 completed...\n",
      "2/43 completed...\n",
      "3/43 completed...\n",
      "4/43 completed...\n",
      "5/43 completed...\n",
      "6/43 completed...\n",
      "7/43 completed...\n",
      "8/43 completed...\n",
      "9/43 completed...\n",
      "10/43 completed...\n",
      "11/43 completed...\n",
      "12/43 completed...\n",
      "13/43 completed...\n",
      "14/43 completed...\n",
      "15/43 completed...\n",
      "16/43 completed...\n",
      "17/43 completed...\n",
      "18/43 completed...\n",
      "19/43 completed...\n",
      "20/43 completed...\n",
      "21/43 completed...\n",
      "22/43 completed...\n",
      "23/43 completed...\n",
      "24/43 completed...\n",
      "25/43 completed...\n",
      "26/43 completed...\n",
      "27/43 completed...\n",
      "28/43 completed...\n",
      "29/43 completed...\n",
      "30/43 completed...\n",
      "31/43 completed...\n",
      "32/43 completed...\n",
      "33/43 completed...\n",
      "34/43 completed...\n",
      "35/43 completed...\n",
      "36/43 completed...\n",
      "37/43 completed...\n",
      "38/43 completed...\n",
      "39/43 completed...\n",
      "40/43 completed...\n",
      "41/43 completed...\n",
      "42/43 completed...\n",
      "43/43 completed...\n",
      "44/43 completed...\n"
     ]
    }
   ],
   "source": [
    "from keras.preprocessing import image\n",
    "import matplotlib.pyplot as plt\n",
    "import random\n",
    "\n",
    "completed = 1\n",
    "#getting one image from each series of pictures and create 30 new augmented ones and save them\n",
    "for element in range(len(os.listdir(train_dir))):\n",
    "    if \".DS_Store\" not in os.listdir(train_dir)[element]:\n",
    "        series = []\n",
    "\n",
    "        while len(series) < 5:\n",
    "\n",
    "            names = [os.path.join(train_dir + \"/\" + os.listdir(train_dir)[element], name) for name in os.listdir(train_dir + \"/\" + os.listdir(train_dir)[element])]\n",
    "            for element_name in names:\n",
    "                if \".DS_Store\" in element_name:\n",
    "                    names.remove(element_name)\n",
    "                \n",
    "            #choosing a random image\n",
    "            number = random.randint(0, 149)\n",
    "        \n",
    "        \n",
    "            img_path = names[number]\n",
    "    \n",
    "            if img_path.split(\"/\")[-1].split(\"_\")[0] not in series:\n",
    "                #make sure that each series will be dealt with\n",
    "                series.append(img_path.split(\"/\")[-1].split(\"_\")[0])\n",
    "\n",
    "                img = image.load_img(img_path, target_size=(150, 150))\n",
    "\n",
    "                x = image.img_to_array(img)\n",
    "\n",
    "                x = x.reshape((1,) + x.shape)\n",
    "\n",
    "                i = 0\n",
    "                #create the images and save them\n",
    "                for batch in datagen.flow(x, batch_size=1):\n",
    "                    fig = plt.figure(i,frameon=False,figsize=(6,6))\n",
    "                    ax = plt.Axes(fig, [0., 0., 1., 1.])\n",
    "                    ax.set_axis_off()\n",
    "                    fig.add_axes(ax)\n",
    "                    imgplot = ax.imshow(image.array_to_img(batch[0]))\n",
    "                    image_name = str(i)\n",
    "                    plt.savefig(train_dir + \"/\" + os.listdir(train_dir)[element] + \"/\" + img_path.split(\"/\")[-1].split(\"_\")[0] +\"_augmented\"+str(i)+\".jpg\")\n",
    "                    plt.close()\n",
    "                    i += 1\n",
    "                    if i == 30:\n",
    "                        break\n",
    "                    \n",
    "    print(str(completed)+\"/43 completed...\")\n",
    "    completed += 1"
   ]
  },
  {
   "cell_type": "markdown",
   "id": "after-crash",
   "metadata": {},
   "source": [
    "##### Redefining the generators"
   ]
  },
  {
   "cell_type": "code",
   "execution_count": 34,
   "id": "cross-virgin",
   "metadata": {},
   "outputs": [
    {
     "name": "stdout",
     "output_type": "stream",
     "text": [
      "Found 12900 images belonging to 43 classes.\n",
      "Found 2580 images belonging to 43 classes.\n"
     ]
    }
   ],
   "source": [
    "train_datagen = ImageDataGenerator(rescale=1./255)\n",
    "test_datagen = ImageDataGenerator(rescale=1./255)\n",
    "\n",
    "train_generator = train_datagen.flow_from_directory(\n",
    "    train_dir,\n",
    "    target_size=(150,150),\n",
    "    batch_size=20,\n",
    "    class_mode=\"categorical\")\n",
    "\n",
    "validation_generator = test_datagen.flow_from_directory(\n",
    "    validation_dir,\n",
    "    target_size=(150,150),\n",
    "    batch_size=20,\n",
    "    class_mode=\"categorical\",\n",
    "    shuffle = False)"
   ]
  },
  {
   "cell_type": "markdown",
   "id": "controlling-nature",
   "metadata": {},
   "source": [
    "##### Rebuilding the model"
   ]
  },
  {
   "cell_type": "code",
   "execution_count": 35,
   "id": "suspended-strand",
   "metadata": {},
   "outputs": [],
   "source": [
    "from keras import layers\n",
    "from keras import models\n",
    "\n",
    "model = models.Sequential()\n",
    "model.add(layers.Conv2D(32, (3, 3), activation='relu', input_shape=(150, 150, 3)))\n",
    "model.add(layers.MaxPooling2D((2, 2)))\n",
    "model.add(layers.Conv2D(64, (3, 3), activation='relu'))\n",
    "model.add(layers.MaxPooling2D((2, 2) ))\n",
    "model.add(layers.Flatten())\n",
    "model.add(layers.Dense(512, activation='relu'))\n",
    "model.add(layers.Dense (43, activation='softmax'))"
   ]
  },
  {
   "cell_type": "code",
   "execution_count": 36,
   "id": "supposed-editing",
   "metadata": {},
   "outputs": [
    {
     "name": "stdout",
     "output_type": "stream",
     "text": [
      "Model: \"sequential_2\"\n",
      "_________________________________________________________________\n",
      "Layer (type)                 Output Shape              Param #   \n",
      "=================================================================\n",
      "conv2d_4 (Conv2D)            (None, 148, 148, 32)      896       \n",
      "_________________________________________________________________\n",
      "max_pooling2d_4 (MaxPooling2 (None, 74, 74, 32)        0         \n",
      "_________________________________________________________________\n",
      "conv2d_5 (Conv2D)            (None, 72, 72, 64)        18496     \n",
      "_________________________________________________________________\n",
      "max_pooling2d_5 (MaxPooling2 (None, 36, 36, 64)        0         \n",
      "_________________________________________________________________\n",
      "flatten_2 (Flatten)          (None, 82944)             0         \n",
      "_________________________________________________________________\n",
      "dense_4 (Dense)              (None, 512)               42467840  \n",
      "_________________________________________________________________\n",
      "dense_5 (Dense)              (None, 43)                22059     \n",
      "=================================================================\n",
      "Total params: 42,509,291\n",
      "Trainable params: 42,509,291\n",
      "Non-trainable params: 0\n",
      "_________________________________________________________________\n"
     ]
    }
   ],
   "source": [
    "model.summary()"
   ]
  },
  {
   "cell_type": "markdown",
   "id": "established-strategy",
   "metadata": {},
   "source": [
    "##### Training the model"
   ]
  },
  {
   "cell_type": "code",
   "execution_count": 37,
   "id": "prerequisite-detection",
   "metadata": {},
   "outputs": [],
   "source": [
    "from keras import optimizers\n",
    "\n",
    "#compilation\n",
    "model.compile(loss=\"categorical_crossentropy\", optimizer=optimizers.RMSprop(lr=1e-4), metrics=[\"acc\"])"
   ]
  },
  {
   "cell_type": "code",
   "execution_count": 38,
   "id": "judicial-macro",
   "metadata": {},
   "outputs": [
    {
     "name": "stdout",
     "output_type": "stream",
     "text": [
      "data batch shape: (20, 150, 150, 3)\n",
      "labels batch shape: (20, 43)\n"
     ]
    }
   ],
   "source": [
    "import sys\n",
    "from PIL import Image\n",
    "sys.modules['Image'] = Image\n",
    "\n",
    "for data_batch, labels_batch in train_generator:\n",
    "    print('data batch shape:', data_batch.shape)\n",
    "    print('labels batch shape:', labels_batch.shape)\n",
    "    break"
   ]
  },
  {
   "cell_type": "code",
   "execution_count": null,
   "id": "horizontal-creation",
   "metadata": {},
   "outputs": [
    {
     "name": "stdout",
     "output_type": "stream",
     "text": [
      "Epoch 1/30\n",
      "100/100 [==============================] - 71s 702ms/step - loss: 3.9086 - acc: 0.0557 - val_loss: 3.5121 - val_acc: 0.1150\n",
      "Epoch 2/30\n",
      "100/100 [==============================] - 71s 710ms/step - loss: 2.9150 - acc: 0.2434 - val_loss: 3.0394 - val_acc: 0.2400\n",
      "Epoch 3/30\n",
      "100/100 [==============================] - 67s 666ms/step - loss: 2.3290 - acc: 0.3924 - val_loss: 2.9327 - val_acc: 0.2630\n",
      "Epoch 4/30\n",
      " 47/100 [=============>................] - ETA: 32s - loss: 2.0230 - acc: 0.4453"
     ]
    }
   ],
   "source": [
    "history = model.fit_generator(\n",
    "    train_generator,\n",
    "    steps_per_epoch=100,\n",
    "    epochs=30,\n",
    "    validation_data=validation_generator,\n",
    "    validation_steps=50)"
   ]
  },
  {
   "cell_type": "code",
   "execution_count": 10,
   "id": "tracked-bacon",
   "metadata": {},
   "outputs": [],
   "source": [
    "history_overfitting_reduce_technique_2_data_augmentation = history"
   ]
  },
  {
   "cell_type": "code",
   "execution_count": 11,
   "id": "sitting-blackberry",
   "metadata": {},
   "outputs": [],
   "source": [
    "# convert the history.history dict to a pandas DataFrame:     \n",
    "history_overfitting_reduce_technique_2_data_augmentation_df = pd.DataFrame(history.history) "
   ]
  },
  {
   "cell_type": "code",
   "execution_count": 12,
   "id": "subsequent-satellite",
   "metadata": {},
   "outputs": [],
   "source": [
    "# save to csv: \n",
    "hist_csv_file = 'history_overfitting_reduce_technique_2_data_augmentation.csv'\n",
    "with open(hist_csv_file, mode='w') as f:\n",
    "    history_overfitting_reduce_technique_2_data_augmentation_df.to_csv(f)"
   ]
  },
  {
   "cell_type": "code",
   "execution_count": 13,
   "id": "knowing-lease",
   "metadata": {},
   "outputs": [
    {
     "data": {
      "image/png": "[encoded data removed]",
      "text/plain": [
       "<Figure size 432x288 with 1 Axes>"
      ]
     },
     "metadata": {
      "needs_background": "light"
     },
     "output_type": "display_data"
    },
    {
     "data": {
      "image/png": "[encoded data removed]",
      "text/plain": [
       "<Figure size 432x288 with 1 Axes>"
      ]
     },
     "metadata": {
      "needs_background": "light"
     },
     "output_type": "display_data"
    }
   ],
   "source": [
    "#Displaying curves of loss and accuracy during training\n",
    "\n",
    "import matplotlib.pyplot as plt\n",
    "\n",
    "acc = history.history[\"acc\"]\n",
    "val_acc = history.history[\"val_acc\"]\n",
    "loss = history.history[\"loss\"]\n",
    "val_loss = history.history[\"val_loss\"]\n",
    "\n",
    "epochs = range(1, len(acc) + 1)\n",
    "\n",
    "plt.plot(epochs, acc, \"bo\", label=\"Training acc\")\n",
    "plt.plot(epochs, val_acc, \"b\", label=\"Validation acc\")\n",
    "plt.title(\"Training and validation accuracy\")\n",
    "plt.legend()\n",
    "\n",
    "plt.show()\n",
    "\n",
    "plt.plot(epochs, loss, \"bo\", label=\"Training loss\")\n",
    "plt.plot(epochs, val_loss, \"b\", label=\"Validation loss\")\n",
    "plt.title(\"Training and validation loss\")\n",
    "plt.legend()\n",
    "\n",
    "plt.show()"
   ]
  },
  {
   "cell_type": "code",
   "execution_count": null,
   "id": "complex-immunology",
   "metadata": {},
   "outputs": [],
   "source": []
  },
  {
   "cell_type": "code",
   "execution_count": null,
   "id": "educational-variety",
   "metadata": {},
   "outputs": [],
   "source": []
  },
  {
   "cell_type": "code",
   "execution_count": null,
   "id": "worst-hungarian",
   "metadata": {},
   "outputs": [],
   "source": []
  }
 ],
 "metadata": {
  "kernelspec": {
   "display_name": "Python 3",
   "language": "python",
   "name": "python3"
  },
  "language_info": {
   "codemirror_mode": {
    "name": "ipython",
    "version": 3
   },
   "file_extension": ".py",
   "mimetype": "text/x-python",
   "name": "python",
   "nbconvert_exporter": "python",
   "pygments_lexer": "ipython3",
   "version": "3.8.5"
  }
 },
 "nbformat": 4,
 "nbformat_minor": 5
}

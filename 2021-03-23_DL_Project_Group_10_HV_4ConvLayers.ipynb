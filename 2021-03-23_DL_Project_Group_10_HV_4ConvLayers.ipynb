{
 "cells": [
  {
   "cell_type": "markdown",
   "id": "periodic-skirt",
   "metadata": {},
   "source": [
    "# Deep Learning Project - Traffic Signs Image Classification"
   ]
  },
  {
   "cell_type": "code",
   "execution_count": 10,
   "id": "announced-interstate",
   "metadata": {},
   "outputs": [],
   "source": [
    "import os, shutil\n",
    "import pandas as pd\n",
    "import seaborn as sns\n",
    "import matplotlib.pyplot as plt"
   ]
  },
  {
   "cell_type": "code",
   "execution_count": 11,
   "id": "lyric-screening",
   "metadata": {},
   "outputs": [],
   "source": [
    "def save_hist_to_excel(filename):\n",
    "    df = pd.DataFrame(history.history)\n",
    "    df.to_excel(filename + '.xlsx')"
   ]
  },
  {
   "cell_type": "markdown",
   "id": "radical-winter",
   "metadata": {},
   "source": [
    "## Overview of the training data"
   ]
  },
  {
   "cell_type": "code",
   "execution_count": 12,
   "id": "dated-alert",
   "metadata": {},
   "outputs": [
    {
     "name": "stdout",
     "output_type": "stream",
     "text": [
      "There are 43 different classes within the training data!\n"
     ]
    }
   ],
   "source": [
    "#setting the training directory (the training images can be found there, already sorted by class into folders)\n",
    "base_training_dir = \"/Users/henriquevaz/NOVA IMS/YEAR 1/SPRING SEMESTER/DL/Project/my_notebooks/Data/Training/Final_Training/Images/\"\n",
    "#base_training_dir = \"/Users/philippmetzger/Documents/GitHub/Deep_Learning_Project_Group_10/Data/GTSRB_Final_Training_Images/GTSRB/Final_Training/Images/\"\n",
    "\n",
    "#setting the directory where the selected training and validation images will be stored in\n",
    "created_dir = \"/Users/henriquevaz/NOVA IMS/YEAR 1/SPRING SEMESTER/DL/Project/my_notebooks/Data/Selected\"\n",
    "#created_dir = \"/Users/philippmetzger/Documents/GitHub/Deep_Learning_Project_Group_10/Data/Selected\"\n",
    "\n",
    "#storing all the folder names that belong to the respective classes\n",
    "all_classes = sorted(i for i in os.listdir(base_training_dir) if i.startswith(\"0\"))\n",
    "\n",
    "print(\"There are\", len(all_classes), \"different classes within the training data!\")"
   ]
  },
  {
   "cell_type": "code",
   "execution_count": 13,
   "id": "departmental-torture",
   "metadata": {},
   "outputs": [],
   "source": [
    "#getting the number of images within each class of the training data\n",
    "amount_per_class = {}\n",
    "\n",
    "for i in range(len(all_classes)):\n",
    "    directory = base_training_dir + \"/\" + all_classes[i]\n",
    "    amount_per_class[i] = len(sorted(i for i in os.listdir(directory) if i.startswith(\"0\")))\n",
    "\n",
    "amount_per_class_df = pd.DataFrame.from_dict(amount_per_class, orient='index').rename(columns={0:\"amount\"})\n",
    "amount_per_class_df.index.name = 'class'\n",
    "\n",
    "#remove the \"#\" of the following line to display the number of images within each class\n",
    "#amount_per_class_df"
   ]
  },
  {
   "cell_type": "code",
   "execution_count": 14,
   "id": "saved-advantage",
   "metadata": {},
   "outputs": [
    {
     "data": {
      "image/png": "[encoded data removed]",
      "text/plain": [
       "<Figure size 1440x576 with 1 Axes>"
      ]
     },
     "metadata": {
      "needs_background": "light"
     },
     "output_type": "display_data"
    }
   ],
   "source": [
    "#displaying the number of images per class visually\n",
    "\n",
    "plt.rcParams[\"figure.figsize\"] = (20,8)\n",
    "fig, ax = plt.subplots()\n",
    "plt.bar(amount_per_class_df.index, amount_per_class_df.amount)\n",
    "plt.title(\"Number of images per class\", fontsize=20)\n",
    "plt.xlabel('class', fontsize=18)\n",
    "plt.ylabel('number of images', fontsize=18)\n",
    "ax.spines['right'].set_visible(False)\n",
    "ax.spines['top'].set_visible(False)\n",
    "plt.xticks(amount_per_class_df.index)\n",
    "plt.grid(axis=\"y\")\n",
    "plt.show()"
   ]
  },
  {
   "cell_type": "markdown",
   "id": "later-school",
   "metadata": {},
   "source": [
    "As it can be seen in the bar chart, the dataset is highly unbalanced. Some classes have over 2000 instances, while others only have 210."
   ]
  },
  {
   "cell_type": "code",
   "execution_count": 15,
   "id": "noted-coordinator",
   "metadata": {},
   "outputs": [
    {
     "data": {
      "text/html": [
       "<div>\n",
       "<style scoped>\n",
       "    .dataframe tbody tr th:only-of-type {\n",
       "        vertical-align: middle;\n",
       "    }\n",
       "\n",
       "    .dataframe tbody tr th {\n",
       "        vertical-align: top;\n",
       "    }\n",
       "\n",
       "    .dataframe thead th {\n",
       "        text-align: right;\n",
       "    }\n",
       "</style>\n",
       "<table border=\"1\" class=\"dataframe\">\n",
       "  <thead>\n",
       "    <tr style=\"text-align: right;\">\n",
       "      <th>class</th>\n",
       "      <th>0</th>\n",
       "      <th>37</th>\n",
       "      <th>19</th>\n",
       "      <th>32</th>\n",
       "      <th>27</th>\n",
       "      <th>41</th>\n",
       "      <th>42</th>\n",
       "      <th>24</th>\n",
       "      <th>29</th>\n",
       "      <th>39</th>\n",
       "      <th>21</th>\n",
       "      <th>40</th>\n",
       "      <th>20</th>\n",
       "      <th>36</th>\n",
       "      <th>22</th>\n",
       "      <th>6</th>\n",
       "      <th>16</th>\n",
       "      <th>34</th>\n",
       "      <th>30</th>\n",
       "      <th>23</th>\n",
       "    </tr>\n",
       "  </thead>\n",
       "  <tbody>\n",
       "    <tr>\n",
       "      <th>amount</th>\n",
       "      <td>210</td>\n",
       "      <td>210</td>\n",
       "      <td>210</td>\n",
       "      <td>240</td>\n",
       "      <td>240</td>\n",
       "      <td>240</td>\n",
       "      <td>240</td>\n",
       "      <td>270</td>\n",
       "      <td>270</td>\n",
       "      <td>300</td>\n",
       "      <td>330</td>\n",
       "      <td>360</td>\n",
       "      <td>360</td>\n",
       "      <td>390</td>\n",
       "      <td>390</td>\n",
       "      <td>420</td>\n",
       "      <td>420</td>\n",
       "      <td>420</td>\n",
       "      <td>450</td>\n",
       "      <td>510</td>\n",
       "    </tr>\n",
       "  </tbody>\n",
       "</table>\n",
       "</div>"
      ],
      "text/plain": [
       "class    0    37   19   32   27   41   42   24   29   39   21   40   20   36  \\\n",
       "amount  210  210  210  240  240  240  240  270  270  300  330  360  360  390   \n",
       "\n",
       "class    22   6    16   34   30   23  \n",
       "amount  390  420  420  420  450  510  "
      ]
     },
     "execution_count": 15,
     "metadata": {},
     "output_type": "execute_result"
    }
   ],
   "source": [
    "#displaying the 20 classes with the fewest images\n",
    "amount_per_class_df.sort_values(\"amount\").head(20).T"
   ]
  },
  {
   "cell_type": "markdown",
   "id": "frank-advantage",
   "metadata": {},
   "source": [
    "Within each class, there are several groups of images, that belong together (these are basically all images of the very same traffic sign, that just differ in that they were made as a series while approaching the actual sign). These series of images shouldn't be splitted later when the data is split into training and validation sets, so some precautions might be useful:"
   ]
  },
  {
   "cell_type": "code",
   "execution_count": 16,
   "id": "effective-bicycle",
   "metadata": {},
   "outputs": [
    {
     "name": "stdout",
     "output_type": "stream",
     "text": [
      "There is a series whose number doesn't match the others in class 00033 , with the prefix 00019 !\n",
      "It only contains 29 images.\n",
      "All the other series of images contain exactly 30 images!\n"
     ]
    }
   ],
   "source": [
    "#checking the size(=amount of images) of these series and whether they are all having the same size\n",
    "\n",
    "#running a for loop over all classes\n",
    "for i in range(len(all_classes)):\n",
    "    directory = base_training_dir + \"/\" + all_classes[i]\n",
    "    \n",
    "    #get the names of all images within a class\n",
    "    list_of_images = sorted(i for i in os.listdir(directory) if i.startswith(\"0\"))\n",
    "\n",
    "    image_series = []\n",
    "    \n",
    "    #store all the prefixes of the images (which correspond to the series they belong to)\n",
    "    for element in list_of_images:\n",
    "        image_series.append(element.split(\"_\")[0])\n",
    "    \n",
    "    #count the frequency of each prefix, which equals the size of each respective series\n",
    "    image_counts = pd.Series(image_series).value_counts().sort_index()\n",
    "\n",
    "    for element in image_counts.values.tolist():\n",
    "        if element != image_counts.values.tolist()[0]:\n",
    "            #this line will show if there is a series that contains not the same number of images than the others\n",
    "            print(\"There is a series whose number doesn't match the others in class\", all_classes[i], \", with the prefix\", image_counts.sort_values().index[0], \"!\\nIt only contains\", element, \"images.\")\n",
    "            \n",
    "\n",
    "#apart from only one series, all others consist of exactly 30 images\n",
    "print(\"All the other series of images contain exactly\", image_counts.values.tolist()[0], \"images!\")"
   ]
  },
  {
   "cell_type": "markdown",
   "id": "insured-spencer",
   "metadata": {},
   "source": [
    "## Split into training and validation datasets"
   ]
  },
  {
   "cell_type": "markdown",
   "id": "flexible-sympathy",
   "metadata": {},
   "source": [
    "As already mentioned, it is important for the split into training and validation sets that the individual image series stay together. As a first approach, there will be 210 images used per class, as this number corresponds to the amount of images in the \"smallest\" class. This will fix the problem of imbalance in the dataset. Subsequently, the data will be splitted by a 5:2 (150:60) ratio into training and validation set, in order to guarantee that the series will stay together."
   ]
  },
  {
   "cell_type": "code",
   "execution_count": 17,
   "id": "reported-break",
   "metadata": {},
   "outputs": [],
   "source": [
    "new_train_dir = \"/Users/henriquevaz/NOVA IMS/YEAR 1/SPRING SEMESTER/DL/Project/my_notebooks/Data/Selected/train_all\"\n",
    "new_val_dir = \"/Users/henriquevaz/NOVA IMS/YEAR 1/SPRING SEMESTER/DL/Project/my_notebooks/Data/Selected/val_all\""
   ]
  },
  {
   "cell_type": "code",
   "execution_count": 61,
   "id": "norman-broad",
   "metadata": {},
   "outputs": [],
   "source": [
    "for i in range(len(all_classes)):\n",
    "    os.mkdir(new_train_dir + \"/\" + all_classes[i])\n",
    "    os.mkdir(new_val_dir + \"/\" + all_classes[i])"
   ]
  },
  {
   "cell_type": "code",
   "execution_count": 62,
   "id": "superior-earthquake",
   "metadata": {},
   "outputs": [],
   "source": [
    "import random\n",
    "\n",
    "for i in range(len(all_classes)):\n",
    "    \n",
    "    list_ = os.listdir(base_training_dir + \"/\" + all_classes[i])\n",
    "    random.shuffle(list_)\n",
    "    new_list = []\n",
    "    for element in list_:\n",
    "        if element.startswith(\"000\"):\n",
    "            new_list.append(element)\n",
    "    \n",
    "    new_list = sorted(new_list)\n",
    "    for image in range(len(new_list)):\n",
    "        \n",
    "        \n",
    "        #setting the cut off according to the next closest number in steps of 30 according to a 70:30 ratio\n",
    "        if len(new_list) == 210 or len(new_list) == 240:\n",
    "            cut = 60\n",
    "        elif len(new_list) == 270 or len(new_list) == 300 or len(new_list) == 330:\n",
    "            cut = 90\n",
    "        elif len(new_list) == 360 or len(new_list) == 390 or len(new_list) == 420:\n",
    "            cut = 120\n",
    "        elif len(new_list) == 450 or len(new_list) == 510 or len(new_list) == 540:\n",
    "            cut = 150\n",
    "        elif len(new_list) == 600 or len(new_list) == 630:\n",
    "            cut = 180\n",
    "        elif len(new_list) == 689:\n",
    "            cut = 210 - 1\n",
    "        elif len(new_list) == 780:\n",
    "            cut = 240\n",
    "        elif len(new_list) == 1110:\n",
    "            cut = 330\n",
    "        elif len(new_list) == 1200:\n",
    "            cut = 360\n",
    "        elif len(new_list) == 1320:\n",
    "            cut = 390\n",
    "        elif len(new_list) == 1410 or len(new_list) == 1440:\n",
    "            cut = 420\n",
    "        elif len(new_list) == 1470 or len(new_list) == 1500:\n",
    "            cut = 450\n",
    "        elif len(new_list) == 1860:\n",
    "            cut = 570\n",
    "        elif len(new_list) == 1980 or len(new_list) == 2010:\n",
    "            cut = 600\n",
    "        elif len(new_list) == 2070 or len(new_list) == 2100:\n",
    "            cut = 630\n",
    "        elif len(new_list) == 2160 or len(new_list) == 2220:\n",
    "            cut = 660\n",
    "        elif len(new_list) == 2250:\n",
    "            cut = 690\n",
    "         \n",
    "        \n",
    "        if image < len(new_list) - cut:\n",
    "            \n",
    "            src = base_training_dir + \"/\" + all_classes[i] + \"/\" + new_list[image]\n",
    "            dst = new_train_dir + \"/\" + all_classes[i] + \"/\"  + new_list[image]\n",
    "            shutil.copyfile(src, dst)\n",
    "            \n",
    "        else:\n",
    "            src = base_training_dir + \"/\" + all_classes[i] + \"/\" + new_list[image]\n",
    "            dst = new_val_dir + \"/\" + all_classes[i] + \"/\"  + new_list[image]\n",
    "            shutil.copyfile(src, dst)"
   ]
  },
  {
   "cell_type": "code",
   "execution_count": 18,
   "id": "precious-society",
   "metadata": {},
   "outputs": [
    {
     "name": "stdout",
     "output_type": "stream",
     "text": [
      "Class 0 : training set size = 150 ; validation set size: 60\n",
      "Class 1 : training set size = 1560 ; validation set size: 660\n",
      "Class 2 : training set size = 1560 ; validation set size: 690\n",
      "Class 3 : training set size = 990 ; validation set size: 420\n",
      "Class 4 : training set size = 1380 ; validation set size: 600\n",
      "Class 5 : training set size = 1290 ; validation set size: 570\n",
      "Class 6 : training set size = 300 ; validation set size: 120\n",
      "Class 7 : training set size = 1020 ; validation set size: 420\n",
      "Class 8 : training set size = 990 ; validation set size: 420\n",
      "Class 9 : training set size = 1020 ; validation set size: 450\n",
      "Class 10 : training set size = 1410 ; validation set size: 600\n",
      "Class 11 : training set size = 930 ; validation set size: 390\n",
      "Class 12 : training set size = 1470 ; validation set size: 630\n",
      "Class 13 : training set size = 1500 ; validation set size: 660\n",
      "Class 14 : training set size = 540 ; validation set size: 240\n",
      "Class 15 : training set size = 450 ; validation set size: 180\n",
      "Class 16 : training set size = 300 ; validation set size: 120\n",
      "Class 17 : training set size = 780 ; validation set size: 330\n",
      "Class 18 : training set size = 840 ; validation set size: 360\n",
      "Class 19 : training set size = 150 ; validation set size: 60\n",
      "Class 20 : training set size = 240 ; validation set size: 120\n",
      "Class 21 : training set size = 240 ; validation set size: 90\n",
      "Class 22 : training set size = 270 ; validation set size: 120\n",
      "Class 23 : training set size = 360 ; validation set size: 150\n",
      "Class 24 : training set size = 180 ; validation set size: 90\n",
      "Class 25 : training set size = 1050 ; validation set size: 450\n",
      "Class 26 : training set size = 420 ; validation set size: 180\n",
      "Class 27 : training set size = 180 ; validation set size: 60\n",
      "Class 28 : training set size = 390 ; validation set size: 150\n",
      "Class 29 : training set size = 180 ; validation set size: 90\n",
      "Class 30 : training set size = 300 ; validation set size: 150\n",
      "Class 31 : training set size = 540 ; validation set size: 240\n",
      "Class 32 : training set size = 180 ; validation set size: 60\n",
      "Class 33 : training set size = 480 ; validation set size: 209\n",
      "Class 34 : training set size = 300 ; validation set size: 120\n",
      "Class 35 : training set size = 840 ; validation set size: 360\n",
      "Class 36 : training set size = 270 ; validation set size: 120\n",
      "Class 37 : training set size = 150 ; validation set size: 60\n",
      "Class 38 : training set size = 1440 ; validation set size: 630\n",
      "Class 39 : training set size = 210 ; validation set size: 90\n",
      "Class 40 : training set size = 240 ; validation set size: 120\n",
      "Class 41 : training set size = 180 ; validation set size: 60\n",
      "Class 42 : training set size = 180 ; validation set size: 60\n"
     ]
    }
   ],
   "source": [
    "size_per_class_list = []\n",
    "\n",
    "for i in range(len(all_classes)):\n",
    "    size_per_class_list.append([len(os.listdir(new_train_dir + \"/\" + all_classes[i])), len(os.listdir(new_val_dir + \"/\" + all_classes[i]))])\n",
    "    print(\"Class\", i, \": training set size =\", len(os.listdir(new_train_dir + \"/\" + all_classes[i])), \"; validation set size:\", len(os.listdir(new_val_dir + \"/\" + all_classes[i])))"
   ]
  },
  {
   "cell_type": "markdown",
   "id": "permanent-speed",
   "metadata": {},
   "source": [
    "Now, there should be exactly 150 images within the train folder of each class and 60 images within the validation folder. Having 43 different classes, this means that there are a total of 6,450 (150x43) training images and another 2,580 (60x43) validation images. A sanity check will show if this worked correctly:"
   ]
  },
  {
   "cell_type": "markdown",
   "id": "based-jamaica",
   "metadata": {},
   "source": [
    "As it can be seen, it worked correctly!"
   ]
  },
  {
   "cell_type": "markdown",
   "id": "floating-supplier",
   "metadata": {},
   "source": [
    "## Data Preprocessing"
   ]
  },
  {
   "cell_type": "markdown",
   "id": "aerial-speed",
   "metadata": {},
   "source": [
    "After running the upper part once, the notebook can be started from here from now on:"
   ]
  },
  {
   "cell_type": "code",
   "execution_count": 23,
   "id": "ready-dialogue",
   "metadata": {
    "scrolled": true
   },
   "outputs": [],
   "source": [
    "#this cell is optional and the notebook should be runned from here once the upper part has been executed once\n",
    "\n",
    "import os, shutil\n",
    "import pandas as pd\n",
    "import seaborn as sns\n",
    "import matplotlib.pyplot as plt\n",
    "import tensorflow as tf"
   ]
  },
  {
   "cell_type": "code",
   "execution_count": 24,
   "id": "foster-vampire",
   "metadata": {},
   "outputs": [],
   "source": [
    "train_dir = new_train_dir\n",
    "validation_dir = new_val_dir"
   ]
  },
  {
   "cell_type": "code",
   "execution_count": 25,
   "id": "increasing-creature",
   "metadata": {},
   "outputs": [
    {
     "name": "stdout",
     "output_type": "stream",
     "text": [
      "Found 27450 images belonging to 43 classes.\n",
      "Found 11759 images belonging to 43 classes.\n"
     ]
    }
   ],
   "source": [
    "from tensorflow.keras.preprocessing.image import ImageDataGenerator\n",
    "\n",
    "train_datagen = ImageDataGenerator(rescale=1./255)\n",
    "test_datagen = ImageDataGenerator(rescale=1./255)\n",
    "\n",
    "train_generator = train_datagen.flow_from_directory(\n",
    "    train_dir,\n",
    "    target_size=(100,100),\n",
    "    batch_size=20,\n",
    "    class_mode=\"categorical\",\n",
    "    color_mode=\"grayscale\"\n",
    "    )\n",
    "\n",
    "validation_generator = test_datagen.flow_from_directory(\n",
    "    validation_dir,\n",
    "    target_size=(100,100),\n",
    "    batch_size=20,\n",
    "    class_mode=\"categorical\",\n",
    "    color_mode=\"grayscale\"\n",
    "    )"
   ]
  },
  {
   "cell_type": "code",
   "execution_count": 26,
   "id": "second-taste",
   "metadata": {},
   "outputs": [
    {
     "name": "stdout",
     "output_type": "stream",
     "text": [
      "data batch shape: (20, 100, 100, 1)\n",
      "labels batch shape: (20, 43)\n"
     ]
    }
   ],
   "source": [
    "import sys\n",
    "from PIL import Image\n",
    "sys.modules['Image'] = Image\n",
    "\n",
    "for data_batch, labels_batch in train_generator:\n",
    "    print('data batch shape:', data_batch.shape)\n",
    "    print('labels batch shape:', labels_batch.shape)\n",
    "    break"
   ]
  },
  {
   "cell_type": "markdown",
   "id": "expected-closer",
   "metadata": {},
   "source": [
    "## Draft of the model"
   ]
  },
  {
   "cell_type": "markdown",
   "id": "raising-revelation",
   "metadata": {},
   "source": [
    "### Base model (Using the 'Down' Version)"
   ]
  },
  {
   "cell_type": "code",
   "execution_count": 27,
   "id": "forward-priority",
   "metadata": {},
   "outputs": [],
   "source": [
    "from tensorflow.keras import layers\n",
    "from tensorflow.keras import models\n",
    "\n",
    "model = models.Sequential()\n",
    "model.add(layers.Conv2D(32, (2, 2), activation='relu', input_shape=(100, 100, 1)))\n",
    "model.add(layers.MaxPooling2D((2, 2)))\n",
    "model.add(layers.Dropout(0.15))\n",
    "model.add(layers.Conv2D(64, (3, 3), activation='relu'))\n",
    "model.add(layers.MaxPooling2D((2, 2) ))\n",
    "model.add(layers.Dropout(0.1))\n",
    "model.add(layers.Conv2D(64, (3, 3), activation='relu'))\n",
    "model.add(layers.MaxPooling2D((2, 2) ))\n",
    "model.add(layers.Dropout(0.1))\n",
    "model.add(layers.Conv2D(128, (4, 4), activation='relu'))\n",
    "model.add(layers.MaxPooling2D((2, 2) ))\n",
    "model.add(layers.Dropout(0.1))\n",
    "model.add(layers.Flatten())\n",
    "model.add(layers.Dense(512, activation='relu'))\n",
    "model.add(layers.Dropout(0.3))\n",
    "model.add(layers.Dense (43, activation='softmax'))"
   ]
  },
  {
   "cell_type": "code",
   "execution_count": 28,
   "id": "assigned-policy",
   "metadata": {},
   "outputs": [
    {
     "name": "stdout",
     "output_type": "stream",
     "text": [
      "Model: \"sequential\"\n",
      "_________________________________________________________________\n",
      "Layer (type)                 Output Shape              Param #   \n",
      "=================================================================\n",
      "conv2d (Conv2D)              (None, 99, 99, 32)        160       \n",
      "_________________________________________________________________\n",
      "max_pooling2d (MaxPooling2D) (None, 49, 49, 32)        0         \n",
      "_________________________________________________________________\n",
      "dropout (Dropout)            (None, 49, 49, 32)        0         \n",
      "_________________________________________________________________\n",
      "conv2d_1 (Conv2D)            (None, 47, 47, 64)        18496     \n",
      "_________________________________________________________________\n",
      "max_pooling2d_1 (MaxPooling2 (None, 23, 23, 64)        0         \n",
      "_________________________________________________________________\n",
      "dropout_1 (Dropout)          (None, 23, 23, 64)        0         \n",
      "_________________________________________________________________\n",
      "conv2d_2 (Conv2D)            (None, 21, 21, 64)        36928     \n",
      "_________________________________________________________________\n",
      "max_pooling2d_2 (MaxPooling2 (None, 10, 10, 64)        0         \n",
      "_________________________________________________________________\n",
      "dropout_2 (Dropout)          (None, 10, 10, 64)        0         \n",
      "_________________________________________________________________\n",
      "conv2d_3 (Conv2D)            (None, 7, 7, 128)         131200    \n",
      "_________________________________________________________________\n",
      "max_pooling2d_3 (MaxPooling2 (None, 3, 3, 128)         0         \n",
      "_________________________________________________________________\n",
      "dropout_3 (Dropout)          (None, 3, 3, 128)         0         \n",
      "_________________________________________________________________\n",
      "flatten (Flatten)            (None, 1152)              0         \n",
      "_________________________________________________________________\n",
      "dense (Dense)                (None, 512)               590336    \n",
      "_________________________________________________________________\n",
      "dropout_4 (Dropout)          (None, 512)               0         \n",
      "_________________________________________________________________\n",
      "dense_1 (Dense)              (None, 43)                22059     \n",
      "=================================================================\n",
      "Total params: 799,179\n",
      "Trainable params: 799,179\n",
      "Non-trainable params: 0\n",
      "_________________________________________________________________\n"
     ]
    }
   ],
   "source": [
    "model.summary()"
   ]
  },
  {
   "cell_type": "code",
   "execution_count": 29,
   "id": "younger-arabic",
   "metadata": {},
   "outputs": [],
   "source": [
    "from tensorflow.keras import optimizers\n",
    "\n",
    "#compilation\n",
    "model.compile(loss=\"categorical_crossentropy\", optimizer=optimizers.RMSprop(lr=1e-4), metrics=[\"acc\"])"
   ]
  },
  {
   "cell_type": "code",
   "execution_count": 30,
   "id": "simplified-hundred",
   "metadata": {},
   "outputs": [
    {
     "name": "stdout",
     "output_type": "stream",
     "text": [
      "Epoch 1/50\n",
      "1373/1373 [==============================] - 64s 46ms/step - loss: 3.4879 - acc: 0.1177 - val_loss: 2.6922 - val_acc: 0.4874\n",
      "Epoch 2/50\n",
      "1373/1373 [==============================] - 62s 45ms/step - loss: 10.4535 - acc: 0.3608 - val_loss: 17.7485 - val_acc: 0.5749\n",
      "Epoch 3/50\n",
      "1373/1373 [==============================] - 62s 45ms/step - loss: 80.3973 - acc: 0.4280 - val_loss: 112.1829 - val_acc: 0.6465\n",
      "Epoch 4/50\n",
      "1373/1373 [==============================] - 65s 47ms/step - loss: 365.8469 - acc: 0.4879 - val_loss: 328.9066 - val_acc: 0.6810\n",
      "Epoch 5/50\n",
      "1373/1373 [==============================] - 60s 44ms/step - loss: 1044.7374 - acc: 0.5278 - val_loss: 1001.5072 - val_acc: 0.7001\n",
      "Epoch 6/50\n",
      "1373/1373 [==============================] - 61s 44ms/step - loss: 2394.7678 - acc: 0.5642 - val_loss: 2229.1025 - val_acc: 0.7155\n",
      "Epoch 7/50\n",
      "1373/1373 [==============================] - 61s 44ms/step - loss: 4464.0516 - acc: 0.5903 - val_loss: 3687.4490 - val_acc: 0.7366\n",
      "Epoch 8/50\n",
      "1373/1373 [==============================] - 61s 44ms/step - loss: 7309.2406 - acc: 0.6182 - val_loss: 6894.3325 - val_acc: 0.7209\n",
      "Epoch 9/50\n",
      "1373/1373 [==============================] - 61s 44ms/step - loss: 10934.9392 - acc: 0.6372 - val_loss: 8844.3184 - val_acc: 0.7749\n",
      "Epoch 10/50\n",
      "1373/1373 [==============================] - 61s 44ms/step - loss: 16698.5957 - acc: 0.6556 - val_loss: 14799.1807 - val_acc: 0.7660\n",
      "Epoch 11/50\n",
      "1373/1373 [==============================] - 61s 44ms/step - loss: 26159.1137 - acc: 0.6583 - val_loss: 19961.6016 - val_acc: 0.7743\n",
      "Epoch 12/50\n",
      "1373/1373 [==============================] - 61s 44ms/step - loss: 31039.9984 - acc: 0.6812 - val_loss: 27274.9297 - val_acc: 0.7660\n",
      "Epoch 13/50\n",
      "1373/1373 [==============================] - 61s 44ms/step - loss: 37098.8903 - acc: 0.7061 - val_loss: 39113.7656 - val_acc: 0.7865\n",
      "Epoch 14/50\n",
      "1373/1373 [==============================] - 61s 44ms/step - loss: 50311.7750 - acc: 0.7027 - val_loss: 50218.3867 - val_acc: 0.7958\n",
      "Epoch 15/50\n",
      "1373/1373 [==============================] - 61s 44ms/step - loss: 62684.7373 - acc: 0.7138 - val_loss: 64339.3555 - val_acc: 0.7902\n",
      "Epoch 16/50\n",
      "1373/1373 [==============================] - 61s 44ms/step - loss: 73405.0702 - acc: 0.7218 - val_loss: 81232.8594 - val_acc: 0.8002\n",
      "Epoch 17/50\n",
      "1373/1373 [==============================] - 61s 44ms/step - loss: 93607.8041 - acc: 0.7224 - val_loss: 99243.6094 - val_acc: 0.7988\n",
      "Epoch 18/50\n",
      "1373/1373 [==============================] - 61s 44ms/step - loss: 104431.5023 - acc: 0.7379 - val_loss: 124811.2109 - val_acc: 0.8030\n",
      "Epoch 19/50\n",
      "1373/1373 [==============================] - 61s 44ms/step - loss: 119012.8205 - acc: 0.7484 - val_loss: 141257.5938 - val_acc: 0.8132\n",
      "Epoch 20/50\n",
      "1373/1373 [==============================] - 63s 46ms/step - loss: 139256.3774 - acc: 0.7529 - val_loss: 148844.6094 - val_acc: 0.8096\n",
      "Epoch 21/50\n",
      "1373/1373 [==============================] - 65s 48ms/step - loss: 147016.6171 - acc: 0.7608 - val_loss: 193687.4531 - val_acc: 0.8036\n",
      "Epoch 22/50\n",
      "1373/1373 [==============================] - 62s 45ms/step - loss: 167160.5014 - acc: 0.7627 - val_loss: 253443.4844 - val_acc: 0.8007\n",
      "Epoch 23/50\n",
      "1373/1373 [==============================] - 62s 45ms/step - loss: 188509.9530 - acc: 0.7680 - val_loss: 246862.4219 - val_acc: 0.8095\n",
      "Epoch 24/50\n",
      "1373/1373 [==============================] - 61s 45ms/step - loss: 231538.4110 - acc: 0.7628 - val_loss: 267512.4375 - val_acc: 0.8218\n",
      "Epoch 25/50\n",
      "1373/1373 [==============================] - 61s 45ms/step - loss: 243832.4324 - acc: 0.7749 - val_loss: 348286.1875 - val_acc: 0.8009\n",
      "Epoch 26/50\n",
      "1373/1373 [==============================] - 61s 45ms/step - loss: 272047.7851 - acc: 0.7817 - val_loss: 363229.8750 - val_acc: 0.8215\n",
      "Epoch 27/50\n",
      "1373/1373 [==============================] - 63s 46ms/step - loss: 259351.0495 - acc: 0.7906 - val_loss: 404484.7500 - val_acc: 0.8203\n",
      "Epoch 28/50\n",
      "1373/1373 [==============================] - 63s 46ms/step - loss: 297395.1297 - acc: 0.7876 - val_loss: 469413.5625 - val_acc: 0.8172\n",
      "Epoch 29/50\n",
      "1373/1373 [==============================] - 61s 45ms/step - loss: 308029.4925 - acc: 0.7934 - val_loss: 461186.2188 - val_acc: 0.8292\n",
      "Epoch 30/50\n",
      "1373/1373 [==============================] - 61s 45ms/step - loss: 336607.1113 - acc: 0.7934 - val_loss: 514048.5312 - val_acc: 0.8256\n",
      "Epoch 31/50\n",
      "1373/1373 [==============================] - 61s 45ms/step - loss: 331633.2258 - acc: 0.8027 - val_loss: 599653.4375 - val_acc: 0.8194\n",
      "Epoch 32/50\n",
      "1373/1373 [==============================] - 61s 45ms/step - loss: 344489.3556 - acc: 0.8111 - val_loss: 668075.4375 - val_acc: 0.7996\n",
      "Epoch 33/50\n",
      "1373/1373 [==============================] - 61s 45ms/step - loss: 357740.2873 - acc: 0.8093 - val_loss: 732230.1250 - val_acc: 0.8190\n",
      "Epoch 34/50\n",
      "1373/1373 [==============================] - 61s 45ms/step - loss: 411805.7638 - acc: 0.8046 - val_loss: 738029.8750 - val_acc: 0.8078\n",
      "Epoch 35/50\n",
      "1373/1373 [==============================] - 61s 45ms/step - loss: 416728.4236 - acc: 0.8125 - val_loss: 788071.6875 - val_acc: 0.8218\n",
      "Epoch 36/50\n",
      "1373/1373 [==============================] - 62s 45ms/step - loss: 440179.1551 - acc: 0.8133 - val_loss: 861991.9375 - val_acc: 0.8269\n",
      "Epoch 37/50\n",
      "1373/1373 [==============================] - 61s 45ms/step - loss: 476331.0652 - acc: 0.8188 - val_loss: 961526.0000 - val_acc: 0.8174\n",
      "Epoch 38/50\n",
      "1373/1373 [==============================] - 62s 45ms/step - loss: 490244.6879 - acc: 0.8189 - val_loss: 939667.6250 - val_acc: 0.8354\n",
      "Epoch 39/50\n",
      "1373/1373 [==============================] - 61s 45ms/step - loss: 490892.1423 - acc: 0.8210 - val_loss: 1193345.3750 - val_acc: 0.7852\n",
      "Epoch 40/50\n",
      "1373/1373 [==============================] - 63s 46ms/step - loss: 517920.2138 - acc: 0.8220 - val_loss: 1205090.8750 - val_acc: 0.8252\n",
      "Epoch 41/50\n",
      "1373/1373 [==============================] - 64s 47ms/step - loss: 546246.3863 - acc: 0.8280 - val_loss: 1209991.1250 - val_acc: 0.8087\n",
      "Epoch 42/50\n",
      "1373/1373 [==============================] - 64s 46ms/step - loss: 605017.8482 - acc: 0.8160 - val_loss: 1224274.5000 - val_acc: 0.8326\n",
      "Epoch 43/50\n",
      "1373/1373 [==============================] - 63s 46ms/step - loss: 546576.7297 - acc: 0.8258 - val_loss: 1409445.0000 - val_acc: 0.7828\n",
      "Epoch 44/50\n",
      "1373/1373 [==============================] - 63s 46ms/step - loss: 573073.4782 - acc: 0.8286 - val_loss: 1437621.0000 - val_acc: 0.8297\n",
      "Epoch 45/50\n",
      "1373/1373 [==============================] - 64s 47ms/step - loss: 609812.4290 - acc: 0.8287 - val_loss: 1349980.0000 - val_acc: 0.8357\n",
      "Epoch 46/50\n",
      "1373/1373 [==============================] - 64s 47ms/step - loss: 629598.8198 - acc: 0.8324 - val_loss: 1522796.3750 - val_acc: 0.8246\n",
      "Epoch 47/50\n",
      "1373/1373 [==============================] - 63s 46ms/step - loss: 651143.2802 - acc: 0.8314 - val_loss: 1653658.7500 - val_acc: 0.8157\n",
      "Epoch 48/50\n",
      "1373/1373 [==============================] - 63s 46ms/step - loss: 659553.8322 - acc: 0.8316 - val_loss: 1869184.1250 - val_acc: 0.7919\n",
      "Epoch 49/50\n",
      "1373/1373 [==============================] - 63s 46ms/step - loss: 675675.9383 - acc: 0.8350 - val_loss: 1766219.1250 - val_acc: 0.8126\n",
      "Epoch 50/50\n",
      "1373/1373 [==============================] - 62s 46ms/step - loss: 662104.3670 - acc: 0.8377 - val_loss: 1978051.3750 - val_acc: 0.8184\n"
     ]
    }
   ],
   "source": [
    "history = model.fit(\n",
    "    train_generator,\n",
    "    epochs=50,\n",
    "    validation_data=validation_generator,\n",
    "    )"
   ]
  },
  {
   "cell_type": "code",
   "execution_count": 31,
   "id": "medium-fortune",
   "metadata": {},
   "outputs": [
    {
     "name": "stderr",
     "output_type": "stream",
     "text": [
      "/Users/henriquevaz/miniforge3/envs/dplearn/lib/python3.8/site-packages/tensorflow/python/keras/engine/training.py:2325: UserWarning: `Model.state_updates` will be removed in a future version. This property should not be used in TensorFlow 2.0, as `updates` are applied automatically.\n",
      "  warnings.warn('`Model.state_updates` will be removed in a future version. '\n",
      "/Users/henriquevaz/miniforge3/envs/dplearn/lib/python3.8/site-packages/tensorflow/python/keras/engine/base_layer.py:1397: UserWarning: `layer.updates` will be removed in a future version. This property should not be used in TensorFlow 2.0, as `updates` are applied automatically.\n",
      "  warnings.warn('`layer.updates` will be removed in a future version. '\n"
     ]
    },
    {
     "name": "stdout",
     "output_type": "stream",
     "text": [
      "WARNING:tensorflow:FOR KERAS USERS: The object that you are saving contains one or more Keras models or layers. If you are loading the SavedModel with `tf.keras.models.load_model`, continue reading (otherwise, you may ignore the following instructions). Please change your code to save with `tf.keras.models.save_model` or `model.save`, and confirm that the file \"keras.metadata\" exists in the export directory. In the future, Keras will only load the SavedModels that have this file. In other words, `tf.saved_model.save` will no longer write SavedModels that can be recovered as Keras models (this will apply in TF 2.5).\n",
      "\n",
      "FOR DEVS: If you are overwriting _tracking_metadata in your class, this property has been used to save metadata in the SavedModel. The metadta field will be deprecated soon, so please move the metadata to a different file.\n",
      "INFO:tensorflow:Assets written to: model_all_data_4ConvLayers_grayscale_more_ropout_layers_down/assets\n"
     ]
    }
   ],
   "source": [
    "model.save('model_all_data_4ConvLayers_grayscale_more_ropout_layers_down')"
   ]
  },
  {
   "cell_type": "code",
   "execution_count": 32,
   "id": "provincial-sodium",
   "metadata": {},
   "outputs": [],
   "source": [
    "save_hist_to_excel('history_model_all_data_4ConvLayers_grayscale_more_ropout_layers_down')"
   ]
  },
  {
   "cell_type": "code",
   "execution_count": 33,
   "id": "interracial-endorsement",
   "metadata": {},
   "outputs": [
    {
     "data": {
      "image/png": "[encoded data removed]",
      "text/plain": [
       "<Figure size 1440x576 with 1 Axes>"
      ]
     },
     "metadata": {
      "needs_background": "light"
     },
     "output_type": "display_data"
    },
    {
     "data": {
      "image/png": "[encoded data removed]",
      "text/plain": [
       "<Figure size 1440x576 with 1 Axes>"
      ]
     },
     "metadata": {
      "needs_background": "light"
     },
     "output_type": "display_data"
    }
   ],
   "source": [
    "#Displaying curves of loss and accuracy during training\n",
    "\n",
    "import matplotlib.pyplot as plt\n",
    "\n",
    "acc = history.history[\"acc\"]\n",
    "val_acc = history.history[\"val_acc\"]\n",
    "loss = history.history[\"loss\"]\n",
    "val_loss = history.history[\"val_loss\"]\n",
    "\n",
    "epochs = range(1, len(acc) + 1)\n",
    "\n",
    "plt.plot(epochs, acc, \"bo\", label=\"Training acc\")\n",
    "plt.plot(epochs, val_acc, \"b\", label=\"Validation acc\")\n",
    "plt.title(\"Training and validation accuracy\")\n",
    "plt.legend()\n",
    "\n",
    "plt.show()\n",
    "\n",
    "plt.plot(epochs, loss, \"bo\", label=\"Training loss\")\n",
    "plt.plot(epochs, val_loss, \"b\", label=\"Validation loss\")\n",
    "plt.title(\"Training and validation loss\")\n",
    "plt.legend()\n",
    "\n",
    "plt.show()"
   ]
  },
  {
   "cell_type": "markdown",
   "id": "forty-furniture",
   "metadata": {},
   "source": [
    "### Replicating the above one but with two 128 filters layers"
   ]
  },
  {
   "cell_type": "code",
   "execution_count": 34,
   "id": "english-stock",
   "metadata": {},
   "outputs": [
    {
     "name": "stdout",
     "output_type": "stream",
     "text": [
      "Model: \"sequential_1\"\n",
      "_________________________________________________________________\n",
      "Layer (type)                 Output Shape              Param #   \n",
      "=================================================================\n",
      "conv2d_4 (Conv2D)            (None, 99, 99, 32)        160       \n",
      "_________________________________________________________________\n",
      "max_pooling2d_4 (MaxPooling2 (None, 49, 49, 32)        0         \n",
      "_________________________________________________________________\n",
      "dropout_5 (Dropout)          (None, 49, 49, 32)        0         \n",
      "_________________________________________________________________\n",
      "conv2d_5 (Conv2D)            (None, 47, 47, 64)        18496     \n",
      "_________________________________________________________________\n",
      "max_pooling2d_5 (MaxPooling2 (None, 23, 23, 64)        0         \n",
      "_________________________________________________________________\n",
      "dropout_6 (Dropout)          (None, 23, 23, 64)        0         \n",
      "_________________________________________________________________\n",
      "conv2d_6 (Conv2D)            (None, 21, 21, 128)       73856     \n",
      "_________________________________________________________________\n",
      "max_pooling2d_6 (MaxPooling2 (None, 10, 10, 128)       0         \n",
      "_________________________________________________________________\n",
      "dropout_7 (Dropout)          (None, 10, 10, 128)       0         \n",
      "_________________________________________________________________\n",
      "conv2d_7 (Conv2D)            (None, 7, 7, 128)         262272    \n",
      "_________________________________________________________________\n",
      "max_pooling2d_7 (MaxPooling2 (None, 3, 3, 128)         0         \n",
      "_________________________________________________________________\n",
      "dropout_8 (Dropout)          (None, 3, 3, 128)         0         \n",
      "_________________________________________________________________\n",
      "flatten_1 (Flatten)          (None, 1152)              0         \n",
      "_________________________________________________________________\n",
      "dense_2 (Dense)              (None, 512)               590336    \n",
      "_________________________________________________________________\n",
      "dropout_9 (Dropout)          (None, 512)               0         \n",
      "_________________________________________________________________\n",
      "dense_3 (Dense)              (None, 43)                22059     \n",
      "=================================================================\n",
      "Total params: 967,179\n",
      "Trainable params: 967,179\n",
      "Non-trainable params: 0\n",
      "_________________________________________________________________\n"
     ]
    }
   ],
   "source": [
    "from tensorflow.keras import layers\n",
    "from tensorflow.keras import models\n",
    "\n",
    "model = models.Sequential()\n",
    "model.add(layers.Conv2D(32, (2, 2), activation='relu', input_shape=(100, 100, 1)))\n",
    "model.add(layers.MaxPooling2D((2, 2)))\n",
    "model.add(layers.Dropout(0.15))\n",
    "model.add(layers.Conv2D(64, (3, 3), activation='relu'))\n",
    "model.add(layers.MaxPooling2D((2, 2) ))\n",
    "model.add(layers.Dropout(0.1))\n",
    "model.add(layers.Conv2D(128, (3, 3), activation='relu'))\n",
    "model.add(layers.MaxPooling2D((2, 2) ))\n",
    "model.add(layers.Dropout(0.1))\n",
    "model.add(layers.Conv2D(128, (4, 4), activation='relu'))\n",
    "model.add(layers.MaxPooling2D((2, 2) ))\n",
    "model.add(layers.Dropout(0.1))\n",
    "model.add(layers.Flatten())\n",
    "model.add(layers.Dense(512, activation='relu'))\n",
    "model.add(layers.Dropout(0.3))\n",
    "model.add(layers.Dense (43, activation='softmax'))\n",
    "\n",
    "model.summary()"
   ]
  },
  {
   "cell_type": "code",
   "execution_count": 35,
   "id": "organizational-turner",
   "metadata": {},
   "outputs": [],
   "source": [
    "#compilation\n",
    "model.compile(loss=\"categorical_crossentropy\", optimizer=optimizers.RMSprop(lr=1e-4), metrics=[\"acc\"])"
   ]
  },
  {
   "cell_type": "code",
   "execution_count": 41,
   "id": "powerful-viewer",
   "metadata": {},
   "outputs": [
    {
     "name": "stdout",
     "output_type": "stream",
     "text": [
      "Epoch 1/100\n",
      "1373/1373 [==============================] - 71s 51ms/step - loss: 1168621.0000 - acc: 0.8701 - val_loss: 3392630.7500 - val_acc: 0.8478\n",
      "Epoch 2/100\n",
      "1373/1373 [==============================] - 71s 51ms/step - loss: 1177070.3750 - acc: 0.8731 - val_loss: 3309519.5000 - val_acc: 0.8569\n",
      "Epoch 3/100\n",
      "1373/1373 [==============================] - 71s 52ms/step - loss: 1233999.6250 - acc: 0.8726 - val_loss: 3728810.5000 - val_acc: 0.8612\n",
      "Epoch 4/100\n",
      "1373/1373 [==============================] - 72s 53ms/step - loss: 1235190.2500 - acc: 0.8715 - val_loss: 4275770.0000 - val_acc: 0.8531\n",
      "Epoch 5/100\n",
      "1373/1373 [==============================] - 71s 52ms/step - loss: 1312736.5000 - acc: 0.8753 - val_loss: 4061277.7500 - val_acc: 0.8552\n",
      "Epoch 6/100\n",
      "1373/1373 [==============================] - 72s 52ms/step - loss: 1354673.3750 - acc: 0.8748 - val_loss: 4733259.5000 - val_acc: 0.8472\n",
      "Epoch 7/100\n",
      "1373/1373 [==============================] - 70s 51ms/step - loss: 1334935.2500 - acc: 0.8784 - val_loss: 4136780.2500 - val_acc: 0.8546\n",
      "Epoch 8/100\n",
      "1373/1373 [==============================] - 70s 51ms/step - loss: 1258594.8750 - acc: 0.8832 - val_loss: 4482352.0000 - val_acc: 0.8688\n",
      "Epoch 9/100\n",
      "1373/1373 [==============================] - 71s 52ms/step - loss: 1318233.1250 - acc: 0.8826 - val_loss: 4143385.2500 - val_acc: 0.8661\n",
      "Epoch 10/100\n",
      "1373/1373 [==============================] - 70s 51ms/step - loss: 1362073.5000 - acc: 0.8823 - val_loss: 5114650.0000 - val_acc: 0.8589\n",
      "Epoch 11/100\n",
      "1373/1373 [==============================] - 70s 51ms/step - loss: 1354764.6250 - acc: 0.8822 - val_loss: 5486689.5000 - val_acc: 0.8432\n",
      "Epoch 12/100\n",
      "1373/1373 [==============================] - 71s 52ms/step - loss: 1399762.1250 - acc: 0.8831 - val_loss: 4969912.5000 - val_acc: 0.8611\n",
      "Epoch 13/100\n",
      "1373/1373 [==============================] - 75s 55ms/step - loss: 1470116.1250 - acc: 0.8841 - val_loss: 5646795.0000 - val_acc: 0.8636\n",
      "Epoch 14/100\n",
      "1373/1373 [==============================] - 71s 52ms/step - loss: 1611281.6250 - acc: 0.8798 - val_loss: 5382843.0000 - val_acc: 0.8660\n",
      "Epoch 15/100\n",
      "1373/1373 [==============================] - 70s 51ms/step - loss: 1576643.3750 - acc: 0.8833 - val_loss: 5859267.5000 - val_acc: 0.8679\n",
      "Epoch 16/100\n",
      "1373/1373 [==============================] - 73s 53ms/step - loss: 1623763.8750 - acc: 0.8839 - val_loss: 5517874.5000 - val_acc: 0.8616\n",
      "Epoch 17/100\n",
      "1373/1373 [==============================] - 70s 51ms/step - loss: 1577047.0000 - acc: 0.8857 - val_loss: 5245419.0000 - val_acc: 0.8731\n",
      "Epoch 18/100\n",
      "1373/1373 [==============================] - 71s 51ms/step - loss: 1627599.7500 - acc: 0.8878 - val_loss: 6443675.0000 - val_acc: 0.8607\n",
      "Epoch 19/100\n",
      "1373/1373 [==============================] - 72s 52ms/step - loss: 1771892.2500 - acc: 0.8842 - val_loss: 6431610.5000 - val_acc: 0.8582\n",
      "Epoch 20/100\n",
      "1373/1373 [==============================] - 73s 53ms/step - loss: 1717444.7500 - acc: 0.8871 - val_loss: 6597479.5000 - val_acc: 0.8563\n",
      "Epoch 21/100\n",
      "1373/1373 [==============================] - 70s 51ms/step - loss: 1634485.1250 - acc: 0.8893 - val_loss: 7220393.5000 - val_acc: 0.8604\n",
      "Epoch 22/100\n",
      "1373/1373 [==============================] - 70s 51ms/step - loss: 1693061.8750 - acc: 0.8885 - val_loss: 6984749.0000 - val_acc: 0.8465\n",
      "Epoch 23/100\n",
      "1373/1373 [==============================] - 72s 52ms/step - loss: 1797259.7500 - acc: 0.8895 - val_loss: 6367564.0000 - val_acc: 0.8730\n",
      "Epoch 24/100\n",
      "1373/1373 [==============================] - 70s 51ms/step - loss: 1903548.8750 - acc: 0.8884 - val_loss: 7286738.5000 - val_acc: 0.8632\n",
      "Epoch 25/100\n",
      "1373/1373 [==============================] - 72s 52ms/step - loss: 1935034.8750 - acc: 0.8886 - val_loss: 7620830.5000 - val_acc: 0.8582\n",
      "Epoch 26/100\n",
      "1373/1373 [==============================] - 72s 52ms/step - loss: 1790750.6250 - acc: 0.8902 - val_loss: 7382961.0000 - val_acc: 0.8588\n",
      "Epoch 27/100\n",
      "1373/1373 [==============================] - 70s 51ms/step - loss: 1804395.1250 - acc: 0.8919 - val_loss: 7465400.0000 - val_acc: 0.8571\n",
      "Epoch 28/100\n",
      "1373/1373 [==============================] - 70s 51ms/step - loss: 1870639.5000 - acc: 0.8937 - val_loss: 7829695.5000 - val_acc: 0.8632\n",
      "Epoch 29/100\n",
      "1373/1373 [==============================] - 70s 51ms/step - loss: 1895674.7500 - acc: 0.8937 - val_loss: 8305516.0000 - val_acc: 0.8544\n",
      "Epoch 30/100\n",
      "1373/1373 [==============================] - 70s 51ms/step - loss: 2159064.0000 - acc: 0.8913 - val_loss: 8601013.0000 - val_acc: 0.8765\n",
      "Epoch 31/100\n",
      "1373/1373 [==============================] - 70s 51ms/step - loss: 2105690.0000 - acc: 0.8891 - val_loss: 8222898.0000 - val_acc: 0.8707\n",
      "Epoch 32/100\n",
      "1373/1373 [==============================] - 71s 52ms/step - loss: 2109290.7500 - acc: 0.8948 - val_loss: 9796170.0000 - val_acc: 0.8529\n",
      "Epoch 33/100\n",
      "1373/1373 [==============================] - 73s 53ms/step - loss: 2061394.7500 - acc: 0.8945 - val_loss: 9459951.0000 - val_acc: 0.8621\n",
      "Epoch 34/100\n",
      "1373/1373 [==============================] - 70s 51ms/step - loss: 2256658.7500 - acc: 0.8926 - val_loss: 9379352.0000 - val_acc: 0.8660\n",
      "Epoch 35/100\n",
      "1373/1373 [==============================] - 70s 51ms/step - loss: 2251803.0000 - acc: 0.8943 - val_loss: 8887182.0000 - val_acc: 0.8480\n",
      "Epoch 36/100\n",
      "1373/1373 [==============================] - 70s 51ms/step - loss: 2335528.7500 - acc: 0.8940 - val_loss: 9482426.0000 - val_acc: 0.8669\n",
      "Epoch 37/100\n",
      "1373/1373 [==============================] - 70s 51ms/step - loss: 2389836.0000 - acc: 0.8948 - val_loss: 9818246.0000 - val_acc: 0.8714\n",
      "Epoch 38/100\n",
      "1373/1373 [==============================] - 70s 51ms/step - loss: 2514349.7500 - acc: 0.8921 - val_loss: 9694167.0000 - val_acc: 0.8353\n",
      "Epoch 39/100\n",
      "1373/1373 [==============================] - 79s 57ms/step - loss: 2427501.7500 - acc: 0.8953 - val_loss: 10486324.0000 - val_acc: 0.8720\n",
      "Epoch 40/100\n",
      "1373/1373 [==============================] - 71s 52ms/step - loss: 2450052.0000 - acc: 0.8940 - val_loss: 11326021.0000 - val_acc: 0.8722\n",
      "Epoch 41/100\n",
      "1373/1373 [==============================] - 71s 52ms/step - loss: 2494585.2500 - acc: 0.8985 - val_loss: 10652950.0000 - val_acc: 0.8756\n",
      "Epoch 42/100\n",
      "1373/1373 [==============================] - 70s 51ms/step - loss: 2521434.7500 - acc: 0.9007 - val_loss: 11098179.0000 - val_acc: 0.8663\n",
      "Epoch 43/100\n",
      "1373/1373 [==============================] - 72s 52ms/step - loss: 2573317.5000 - acc: 0.8978 - val_loss: 13222080.0000 - val_acc: 0.8634\n",
      "Epoch 44/100\n",
      "1373/1373 [==============================] - 70s 51ms/step - loss: 2691803.7500 - acc: 0.8945 - val_loss: 13734012.0000 - val_acc: 0.8476\n",
      "Epoch 45/100\n",
      "1373/1373 [==============================] - 71s 52ms/step - loss: 2628886.7500 - acc: 0.8973 - val_loss: 12625546.0000 - val_acc: 0.8643\n",
      "Epoch 46/100\n",
      "1373/1373 [==============================] - 71s 52ms/step - loss: 2763600.5000 - acc: 0.8992 - val_loss: 11676720.0000 - val_acc: 0.8736\n",
      "Epoch 47/100\n",
      "1373/1373 [==============================] - 74s 54ms/step - loss: 2887632.2500 - acc: 0.8978 - val_loss: 14055616.0000 - val_acc: 0.8580\n",
      "Epoch 48/100\n",
      "1373/1373 [==============================] - 74s 54ms/step - loss: 2813690.2500 - acc: 0.8986 - val_loss: 13352830.0000 - val_acc: 0.8633\n",
      "Epoch 49/100\n",
      "1373/1373 [==============================] - 71s 52ms/step - loss: 3148175.7500 - acc: 0.8970 - val_loss: 15141409.0000 - val_acc: 0.8618\n",
      "Epoch 50/100\n",
      "1373/1373 [==============================] - 72s 52ms/step - loss: 3042553.7500 - acc: 0.8997 - val_loss: 16620957.0000 - val_acc: 0.8557\n",
      "Epoch 51/100\n",
      "1373/1373 [==============================] - 74s 54ms/step - loss: 3187799.2500 - acc: 0.8990 - val_loss: 16259074.0000 - val_acc: 0.8695\n",
      "Epoch 52/100\n",
      "1373/1373 [==============================] - 71s 52ms/step - loss: 3592631.2500 - acc: 0.8940 - val_loss: 14875541.0000 - val_acc: 0.8541\n",
      "Epoch 53/100\n",
      "1373/1373 [==============================] - 70s 51ms/step - loss: 3180797.0000 - acc: 0.9002 - val_loss: 14976874.0000 - val_acc: 0.8754\n",
      "Epoch 54/100\n",
      "1373/1373 [==============================] - 70s 51ms/step - loss: 3333919.0000 - acc: 0.9004 - val_loss: 17445614.0000 - val_acc: 0.8753\n",
      "Epoch 55/100\n"
     ]
    },
    {
     "name": "stdout",
     "output_type": "stream",
     "text": [
      "1373/1373 [==============================] - 72s 52ms/step - loss: 3598304.2500 - acc: 0.8981 - val_loss: 20434814.0000 - val_acc: 0.8565\n",
      "Epoch 56/100\n",
      "1373/1373 [==============================] - 70s 51ms/step - loss: 3599917.5000 - acc: 0.8989 - val_loss: 18817028.0000 - val_acc: 0.8695\n",
      "Epoch 57/100\n",
      "1373/1373 [==============================] - 70s 51ms/step - loss: 3803853.2500 - acc: 0.8998 - val_loss: 19120764.0000 - val_acc: 0.8519\n",
      "Epoch 58/100\n",
      "1373/1373 [==============================] - 71s 52ms/step - loss: 3861950.7500 - acc: 0.8968 - val_loss: 19874136.0000 - val_acc: 0.8519\n",
      "Epoch 59/100\n",
      "1373/1373 [==============================] - 73s 53ms/step - loss: 3460622.0000 - acc: 0.9015 - val_loss: 17981356.0000 - val_acc: 0.8692\n",
      "Epoch 60/100\n",
      "1373/1373 [==============================] - 73s 53ms/step - loss: 3498923.2500 - acc: 0.9001 - val_loss: 18083690.0000 - val_acc: 0.8585\n",
      "Epoch 61/100\n",
      "1373/1373 [==============================] - 70s 51ms/step - loss: 3526603.2500 - acc: 0.9022 - val_loss: 19263426.0000 - val_acc: 0.8469\n",
      "Epoch 62/100\n",
      "1373/1373 [==============================] - 71s 52ms/step - loss: 3823725.5000 - acc: 0.9021 - val_loss: 19628714.0000 - val_acc: 0.8742\n",
      "Epoch 63/100\n",
      "1373/1373 [==============================] - 71s 52ms/step - loss: 3880895.7500 - acc: 0.8996 - val_loss: 20298898.0000 - val_acc: 0.8674\n",
      "Epoch 64/100\n",
      "1373/1373 [==============================] - 72s 53ms/step - loss: 4109999.0000 - acc: 0.9019 - val_loss: 21767004.0000 - val_acc: 0.8582\n",
      "Epoch 65/100\n",
      "1373/1373 [==============================] - 74s 54ms/step - loss: 4140552.7500 - acc: 0.9021 - val_loss: 21277368.0000 - val_acc: 0.8610\n",
      "Epoch 66/100\n",
      "1373/1373 [==============================] - 70s 51ms/step - loss: 3972461.0000 - acc: 0.9038 - val_loss: 24077366.0000 - val_acc: 0.8738\n",
      "Epoch 67/100\n",
      "1373/1373 [==============================] - 71s 51ms/step - loss: 4050309.7500 - acc: 0.9050 - val_loss: 21922300.0000 - val_acc: 0.8691\n",
      "Epoch 68/100\n",
      "1373/1373 [==============================] - 72s 53ms/step - loss: 4231836.0000 - acc: 0.9039 - val_loss: 21859726.0000 - val_acc: 0.8771\n",
      "Epoch 69/100\n",
      "1373/1373 [==============================] - 72s 53ms/step - loss: 4044347.2500 - acc: 0.9079 - val_loss: 20471776.0000 - val_acc: 0.8785\n",
      "Epoch 70/100\n",
      "1373/1373 [==============================] - 72s 53ms/step - loss: 4331700.5000 - acc: 0.9042 - val_loss: 25397268.0000 - val_acc: 0.8803\n",
      "Epoch 71/100\n",
      "1373/1373 [==============================] - 73s 53ms/step - loss: 4898958.5000 - acc: 0.9009 - val_loss: 25304036.0000 - val_acc: 0.8667\n",
      "Epoch 72/100\n",
      "1373/1373 [==============================] - 72s 52ms/step - loss: 4739287.0000 - acc: 0.9013 - val_loss: 24807672.0000 - val_acc: 0.8570\n",
      "Epoch 73/100\n",
      "1373/1373 [==============================] - 73s 53ms/step - loss: 4856270.5000 - acc: 0.9031 - val_loss: 27090690.0000 - val_acc: 0.8697\n",
      "Epoch 74/100\n",
      "1373/1373 [==============================] - 73s 53ms/step - loss: 4952206.0000 - acc: 0.9041 - val_loss: 25173560.0000 - val_acc: 0.8554\n",
      "Epoch 75/100\n",
      "1373/1373 [==============================] - 70s 51ms/step - loss: 4848064.5000 - acc: 0.9068 - val_loss: 26698688.0000 - val_acc: 0.8710\n",
      "Epoch 76/100\n",
      "1373/1373 [==============================] - 70s 51ms/step - loss: 5114697.5000 - acc: 0.9043 - val_loss: 25364548.0000 - val_acc: 0.8709\n",
      "Epoch 77/100\n",
      "1373/1373 [==============================] - 74s 54ms/step - loss: 5171011.0000 - acc: 0.9039 - val_loss: 27220240.0000 - val_acc: 0.8630\n",
      "Epoch 78/100\n",
      "1373/1373 [==============================] - 73s 53ms/step - loss: 5190625.5000 - acc: 0.9065 - val_loss: 32256658.0000 - val_acc: 0.8560\n",
      "Epoch 79/100\n",
      "1373/1373 [==============================] - 72s 53ms/step - loss: 5164585.5000 - acc: 0.9034 - val_loss: 27722558.0000 - val_acc: 0.8818\n",
      "Epoch 80/100\n",
      "1373/1373 [==============================] - 73s 53ms/step - loss: 5394444.0000 - acc: 0.9046 - val_loss: 30601406.0000 - val_acc: 0.8711\n",
      "Epoch 81/100\n",
      "1373/1373 [==============================] - 74s 54ms/step - loss: 5383917.5000 - acc: 0.9066 - val_loss: 27769098.0000 - val_acc: 0.8575\n",
      "Epoch 82/100\n",
      "1373/1373 [==============================] - 73s 53ms/step - loss: 5429910.5000 - acc: 0.9044 - val_loss: 28401750.0000 - val_acc: 0.8626\n",
      "Epoch 83/100\n",
      "1373/1373 [==============================] - 73s 53ms/step - loss: 5603460.5000 - acc: 0.9062 - val_loss: 33068418.0000 - val_acc: 0.8515\n",
      "Epoch 84/100\n",
      "1373/1373 [==============================] - 73s 53ms/step - loss: 5926532.5000 - acc: 0.9046 - val_loss: 34194468.0000 - val_acc: 0.8669\n",
      "Epoch 85/100\n",
      "1373/1373 [==============================] - 71s 52ms/step - loss: 6191258.0000 - acc: 0.9048 - val_loss: 36765952.0000 - val_acc: 0.8542\n",
      "Epoch 86/100\n",
      "1373/1373 [==============================] - 71s 52ms/step - loss: 6226936.0000 - acc: 0.9055 - val_loss: 34969260.0000 - val_acc: 0.8723\n",
      "Epoch 87/100\n",
      "1373/1373 [==============================] - 71s 52ms/step - loss: 6030997.5000 - acc: 0.9054 - val_loss: 36338420.0000 - val_acc: 0.8542\n",
      "Epoch 88/100\n",
      "1373/1373 [==============================] - 71s 52ms/step - loss: 6292932.0000 - acc: 0.9056 - val_loss: 32228372.0000 - val_acc: 0.8816\n",
      "Epoch 89/100\n",
      "1373/1373 [==============================] - 72s 52ms/step - loss: 6063035.0000 - acc: 0.9087 - val_loss: 34960280.0000 - val_acc: 0.8764\n",
      "Epoch 90/100\n",
      "1373/1373 [==============================] - 71s 52ms/step - loss: 6461882.0000 - acc: 0.9064 - val_loss: 35534744.0000 - val_acc: 0.8739\n",
      "Epoch 91/100\n",
      "1373/1373 [==============================] - 71s 52ms/step - loss: 6410853.5000 - acc: 0.9079 - val_loss: 38804952.0000 - val_acc: 0.8794\n",
      "Epoch 92/100\n",
      "1373/1373 [==============================] - 71s 52ms/step - loss: 7553169.0000 - acc: 0.9059 - val_loss: 37314200.0000 - val_acc: 0.8698\n",
      "Epoch 93/100\n",
      "1373/1373 [==============================] - 72s 52ms/step - loss: 6602545.0000 - acc: 0.9091 - val_loss: 36045372.0000 - val_acc: 0.8630\n",
      "Epoch 94/100\n",
      "1373/1373 [==============================] - 73s 53ms/step - loss: 7068099.0000 - acc: 0.9070 - val_loss: 39502652.0000 - val_acc: 0.8746\n",
      "Epoch 95/100\n",
      "1373/1373 [==============================] - 72s 53ms/step - loss: 6889075.0000 - acc: 0.9068 - val_loss: 37741796.0000 - val_acc: 0.8716\n",
      "Epoch 96/100\n",
      "1373/1373 [==============================] - 71s 52ms/step - loss: 7119832.0000 - acc: 0.9091 - val_loss: 46620052.0000 - val_acc: 0.8620\n",
      "Epoch 97/100\n",
      "1373/1373 [==============================] - 70s 51ms/step - loss: 7087068.0000 - acc: 0.9070 - val_loss: 44209004.0000 - val_acc: 0.8729\n",
      "Epoch 98/100\n",
      "1373/1373 [==============================] - 74s 54ms/step - loss: 7745269.0000 - acc: 0.9079 - val_loss: 43179996.0000 - val_acc: 0.8779\n",
      "Epoch 99/100\n",
      "1373/1373 [==============================] - 74s 54ms/step - loss: 7486926.0000 - acc: 0.9077 - val_loss: 45437056.0000 - val_acc: 0.8677\n",
      "Epoch 100/100\n",
      "1373/1373 [==============================] - 73s 54ms/step - loss: 7758685.5000 - acc: 0.9075 - val_loss: 40319676.0000 - val_acc: 0.8684\n"
     ]
    }
   ],
   "source": [
    "history = model.fit(\n",
    "    train_generator,\n",
    "    epochs=100,\n",
    "    validation_data=validation_generator,\n",
    "    )"
   ]
  },
  {
   "cell_type": "code",
   "execution_count": 42,
   "id": "accredited-seafood",
   "metadata": {},
   "outputs": [
    {
     "name": "stdout",
     "output_type": "stream",
     "text": [
      "WARNING:tensorflow:FOR KERAS USERS: The object that you are saving contains one or more Keras models or layers. If you are loading the SavedModel with `tf.keras.models.load_model`, continue reading (otherwise, you may ignore the following instructions). Please change your code to save with `tf.keras.models.save_model` or `model.save`, and confirm that the file \"keras.metadata\" exists in the export directory. In the future, Keras will only load the SavedModels that have this file. In other words, `tf.saved_model.save` will no longer write SavedModels that can be recovered as Keras models (this will apply in TF 2.5).\n",
      "\n",
      "FOR DEVS: If you are overwriting _tracking_metadata in your class, this property has been used to save metadata in the SavedModel. The metadta field will be deprecated soon, so please move the metadata to a different file.\n",
      "INFO:tensorflow:Assets written to: model_all_data_4ConvLayers_grayscale_more_ropout_layers_down_2x128/assets\n"
     ]
    }
   ],
   "source": [
    "model.save('model_all_data_4ConvLayers_grayscale_more_ropout_layers_down_2x128')"
   ]
  },
  {
   "cell_type": "code",
   "execution_count": 43,
   "id": "limiting-immunology",
   "metadata": {},
   "outputs": [],
   "source": [
    "save_hist_to_excel('history_model_all_data_4ConvLayers_grayscale_more_ropout_layers_down_2x128')"
   ]
  },
  {
   "cell_type": "code",
   "execution_count": 44,
   "id": "original-volume",
   "metadata": {},
   "outputs": [
    {
     "data": {
      "image/png": "[encoded data removed]",
      "text/plain": [
       "<Figure size 1440x576 with 1 Axes>"
      ]
     },
     "metadata": {
      "needs_background": "light"
     },
     "output_type": "display_data"
    },
    {
     "data": {
      "image/png": "[encoded data removed]",
      "text/plain": [
       "<Figure size 1440x576 with 1 Axes>"
      ]
     },
     "metadata": {
      "needs_background": "light"
     },
     "output_type": "display_data"
    }
   ],
   "source": [
    "#Displaying curves of loss and accuracy during training\n",
    "\n",
    "import matplotlib.pyplot as plt\n",
    "\n",
    "acc = history.history[\"acc\"]\n",
    "val_acc = history.history[\"val_acc\"]\n",
    "loss = history.history[\"loss\"]\n",
    "val_loss = history.history[\"val_loss\"]\n",
    "\n",
    "epochs = range(1, len(acc) + 1)\n",
    "\n",
    "plt.plot(epochs, acc, \"bo\", label=\"Training acc\")\n",
    "plt.plot(epochs, val_acc, \"b\", label=\"Validation acc\")\n",
    "plt.title(\"Training and validation accuracy\")\n",
    "plt.legend()\n",
    "\n",
    "plt.show()\n",
    "\n",
    "plt.plot(epochs, loss, \"bo\", label=\"Training loss\")\n",
    "plt.plot(epochs, val_loss, \"b\", label=\"Validation loss\")\n",
    "plt.title(\"Training and validation loss\")\n",
    "plt.legend()\n",
    "\n",
    "plt.show()"
   ]
  },
  {
   "cell_type": "code",
   "execution_count": null,
   "id": "logical-sodium",
   "metadata": {},
   "outputs": [],
   "source": []
  }
 ],
 "metadata": {
  "kernelspec": {
   "display_name": "Python 3",
   "language": "python",
   "name": "python3"
  },
  "language_info": {
   "codemirror_mode": {
    "name": "ipython",
    "version": 3
   },
   "file_extension": ".py",
   "mimetype": "text/x-python",
   "name": "python",
   "nbconvert_exporter": "python",
   "pygments_lexer": "ipython3",
   "version": "3.8.8"
  }
 },
 "nbformat": 4,
 "nbformat_minor": 5
}

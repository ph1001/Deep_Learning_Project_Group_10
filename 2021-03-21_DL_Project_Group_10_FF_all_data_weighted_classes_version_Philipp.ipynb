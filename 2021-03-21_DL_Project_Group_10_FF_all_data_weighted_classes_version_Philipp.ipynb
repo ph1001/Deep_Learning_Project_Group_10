{
 "cells": [
  {
   "cell_type": "markdown",
   "id": "smart-aircraft",
   "metadata": {},
   "source": [
    "# Deep Learning Project - Traffic Signs Image Classification"
   ]
  },
  {
   "cell_type": "code",
   "execution_count": 1,
   "id": "painful-marks",
   "metadata": {},
   "outputs": [],
   "source": [
    "import os, shutil\n",
    "import pandas as pd\n",
    "import seaborn as sns\n",
    "import matplotlib.pyplot as plt"
   ]
  },
  {
   "cell_type": "markdown",
   "id": "anonymous-kentucky",
   "metadata": {},
   "source": [
    "# Functions"
   ]
  },
  {
   "cell_type": "code",
   "execution_count": 2,
   "id": "conscious-magnet",
   "metadata": {},
   "outputs": [],
   "source": [
    "def save_hist_to_excel(filename):\n",
    "    df = pd.DataFrame(history.history)\n",
    "    df.to_excel(filename + '.xlsx')"
   ]
  },
  {
   "cell_type": "markdown",
   "id": "random-grenada",
   "metadata": {},
   "source": [
    "## Overview of the training data"
   ]
  },
  {
   "cell_type": "code",
   "execution_count": 3,
   "id": "rental-jewelry",
   "metadata": {},
   "outputs": [
    {
     "name": "stdout",
     "output_type": "stream",
     "text": [
      "There are 43 different classes within the training data!\n"
     ]
    }
   ],
   "source": [
    "#setting the training directory (the training images can be found there, already sorted by class into folders)\n",
    "#base_training_dir = \"/Users/franz/Desktop/DL Project/Train/Final_Training/Images\"\n",
    "base_training_dir = \"/Users/philippmetzger/Documents/GitHub/Deep_Learning_Project_Group_10/Data/GTSRB_Final_Training_Images/GTSRB/Final_Training/Images/\"\n",
    "\n",
    "#setting the directory where the selected training and validation images will be stored in\n",
    "#created_dir = \"/Users/franz/Desktop/DL Project/Selected\"\n",
    "created_dir = \"/Users/philippmetzger/Documents/GitHub/Deep_Learning_Project_Group_10/Data/Selected\"\n",
    "\n",
    "#storing all the folder names that belong to the respective classes\n",
    "all_classes = sorted(i for i in os.listdir(base_training_dir) if i.startswith(\"0\"))\n",
    "\n",
    "print(\"There are\", len(all_classes), \"different classes within the training data!\")"
   ]
  },
  {
   "cell_type": "code",
   "execution_count": 4,
   "id": "retained-presence",
   "metadata": {},
   "outputs": [],
   "source": [
    "#getting the number of images within each class of the training data\n",
    "amount_per_class = {}\n",
    "\n",
    "for i in range(len(all_classes)):\n",
    "    directory = base_training_dir + \"/\" + all_classes[i]\n",
    "    amount_per_class[i] = len(sorted(i for i in os.listdir(directory) if i.startswith(\"0\")))\n",
    "\n",
    "amount_per_class_df = pd.DataFrame.from_dict(amount_per_class, orient='index').rename(columns={0:\"amount\"})\n",
    "amount_per_class_df.index.name = 'class'\n",
    "\n",
    "#remove the \"#\" of the following line to display the number of images within each class\n",
    "#amount_per_class_df"
   ]
  },
  {
   "cell_type": "code",
   "execution_count": 5,
   "id": "funny-australia",
   "metadata": {},
   "outputs": [
    {
     "data": {
      "image/png": "[encoded data removed]",
      "text/plain": [
       "<Figure size 1440x576 with 1 Axes>"
      ]
     },
     "metadata": {
      "needs_background": "light"
     },
     "output_type": "display_data"
    }
   ],
   "source": [
    "#displaying the number of images per class visually\n",
    "\n",
    "plt.rcParams[\"figure.figsize\"] = (20,8)\n",
    "fig, ax = plt.subplots()\n",
    "plt.bar(amount_per_class_df.index, amount_per_class_df.amount)\n",
    "plt.title(\"Number of images per class\", fontsize=20)\n",
    "plt.xlabel('class', fontsize=18)\n",
    "plt.ylabel('number of images', fontsize=18)\n",
    "ax.spines['right'].set_visible(False)\n",
    "ax.spines['top'].set_visible(False)\n",
    "plt.xticks(amount_per_class_df.index)\n",
    "plt.grid(axis=\"y\")\n",
    "plt.show()"
   ]
  },
  {
   "cell_type": "markdown",
   "id": "mighty-shadow",
   "metadata": {},
   "source": [
    "As it can be seen in the bar chart, the dataset is highly unbalanced. Some classes have over 2000 instances, while others only have 210."
   ]
  },
  {
   "cell_type": "code",
   "execution_count": 6,
   "id": "dense-heaven",
   "metadata": {},
   "outputs": [
    {
     "data": {
      "text/html": [
       "<div>\n",
       "<style scoped>\n",
       "    .dataframe tbody tr th:only-of-type {\n",
       "        vertical-align: middle;\n",
       "    }\n",
       "\n",
       "    .dataframe tbody tr th {\n",
       "        vertical-align: top;\n",
       "    }\n",
       "\n",
       "    .dataframe thead th {\n",
       "        text-align: right;\n",
       "    }\n",
       "</style>\n",
       "<table border=\"1\" class=\"dataframe\">\n",
       "  <thead>\n",
       "    <tr style=\"text-align: right;\">\n",
       "      <th>class</th>\n",
       "      <th>0</th>\n",
       "      <th>37</th>\n",
       "      <th>19</th>\n",
       "      <th>32</th>\n",
       "      <th>27</th>\n",
       "      <th>41</th>\n",
       "      <th>42</th>\n",
       "      <th>24</th>\n",
       "      <th>29</th>\n",
       "      <th>39</th>\n",
       "      <th>21</th>\n",
       "      <th>40</th>\n",
       "      <th>20</th>\n",
       "      <th>36</th>\n",
       "      <th>22</th>\n",
       "      <th>6</th>\n",
       "      <th>16</th>\n",
       "      <th>34</th>\n",
       "      <th>30</th>\n",
       "      <th>23</th>\n",
       "    </tr>\n",
       "  </thead>\n",
       "  <tbody>\n",
       "    <tr>\n",
       "      <th>amount</th>\n",
       "      <td>210</td>\n",
       "      <td>210</td>\n",
       "      <td>210</td>\n",
       "      <td>240</td>\n",
       "      <td>240</td>\n",
       "      <td>240</td>\n",
       "      <td>240</td>\n",
       "      <td>270</td>\n",
       "      <td>270</td>\n",
       "      <td>300</td>\n",
       "      <td>330</td>\n",
       "      <td>360</td>\n",
       "      <td>360</td>\n",
       "      <td>390</td>\n",
       "      <td>390</td>\n",
       "      <td>420</td>\n",
       "      <td>420</td>\n",
       "      <td>420</td>\n",
       "      <td>450</td>\n",
       "      <td>510</td>\n",
       "    </tr>\n",
       "  </tbody>\n",
       "</table>\n",
       "</div>"
      ],
      "text/plain": [
       "class    0    37   19   32   27   41   42   24   29   39   21   40   20   36  \\\n",
       "amount  210  210  210  240  240  240  240  270  270  300  330  360  360  390   \n",
       "\n",
       "class    22   6    16   34   30   23  \n",
       "amount  390  420  420  420  450  510  "
      ]
     },
     "execution_count": 6,
     "metadata": {},
     "output_type": "execute_result"
    }
   ],
   "source": [
    "#displaying the 20 classes with the fewest images\n",
    "amount_per_class_df.sort_values(\"amount\").head(20).T"
   ]
  },
  {
   "cell_type": "markdown",
   "id": "featured-belgium",
   "metadata": {},
   "source": [
    "Within each class, there are several groups of images, that belong together (these are basically all images of the very same traffic sign, that just differ in that they were made as a series while approaching the actual sign). These series of images shouldn't be splitted later when the data is split into training and validation sets, so some precautions might be useful:"
   ]
  },
  {
   "cell_type": "code",
   "execution_count": 7,
   "id": "secondary-organ",
   "metadata": {},
   "outputs": [
    {
     "name": "stdout",
     "output_type": "stream",
     "text": [
      "There is a series whose number doesn't match the others in class 00033 , with the prefix 00019 !\n",
      "It only contains 29 images.\n",
      "All the other series of images contain exactly 30 images!\n"
     ]
    }
   ],
   "source": [
    "#checking the size(=amount of images) of these series and whether they are all having the same size\n",
    "\n",
    "#running a for loop over all classes\n",
    "for i in range(len(all_classes)):\n",
    "    directory = base_training_dir + \"/\" + all_classes[i]\n",
    "    \n",
    "    #get the names of all images within a class\n",
    "    list_of_images = sorted(i for i in os.listdir(directory) if i.startswith(\"0\"))\n",
    "\n",
    "    image_series = []\n",
    "    \n",
    "    #store all the prefixes of the images (which correspond to the series they belong to)\n",
    "    for element in list_of_images:\n",
    "        image_series.append(element.split(\"_\")[0])\n",
    "    \n",
    "    #count the frequency of each prefix, which equals the size of each respective series\n",
    "    image_counts = pd.Series(image_series).value_counts().sort_index()\n",
    "\n",
    "    for element in image_counts.values.tolist():\n",
    "        if element != image_counts.values.tolist()[0]:\n",
    "            #this line will show if there is a series that contains not the same number of images than the others\n",
    "            print(\"There is a series whose number doesn't match the others in class\", all_classes[i], \", with the prefix\", image_counts.sort_values().index[0], \"!\\nIt only contains\", element, \"images.\")\n",
    "            \n",
    "\n",
    "#apart from only one series, all others consist of exactly 30 images\n",
    "print(\"All the other series of images contain exactly\", image_counts.values.tolist()[0], \"images!\")"
   ]
  },
  {
   "cell_type": "markdown",
   "id": "interested-rebate",
   "metadata": {},
   "source": [
    "## Split into training and validation datasets"
   ]
  },
  {
   "cell_type": "code",
   "execution_count": 10,
   "id": "functioning-gates",
   "metadata": {},
   "outputs": [],
   "source": [
    "#new_train_dir = \"/Users/franz/Desktop/DL Project/Selected/train_all\"\n",
    "new_train_dir = '/Users/philippmetzger/Documents/GitHub/Deep_Learning_Project_Group_10/Data/Selected/train_all'\n",
    "#new_val_dir = \"/Users/franz/Desktop/DL Project/Selected/val_all\"\n",
    "new_val_dir = '/Users/philippmetzger/Documents/GitHub/Deep_Learning_Project_Group_10/Data/Selected/val_all'"
   ]
  },
  {
   "cell_type": "code",
   "execution_count": 11,
   "id": "simplified-lingerie",
   "metadata": {},
   "outputs": [],
   "source": [
    "for i in range(len(all_classes)):\n",
    "    os.mkdir(new_train_dir + \"/\" + all_classes[i])\n",
    "    os.mkdir(new_val_dir + \"/\" + all_classes[i])"
   ]
  },
  {
   "cell_type": "code",
   "execution_count": 12,
   "id": "fresh-benjamin",
   "metadata": {},
   "outputs": [],
   "source": [
    "import random\n",
    "\n",
    "for i in range(len(all_classes)):\n",
    "    \n",
    "    list_ = os.listdir(base_training_dir + \"/\" + all_classes[i])\n",
    "    random.shuffle(list_)\n",
    "    new_list = []\n",
    "    for element in list_:\n",
    "        if element.startswith(\"000\"):\n",
    "            new_list.append(element)\n",
    "    \n",
    "    new_list = sorted(new_list)\n",
    "    for image in range(len(new_list)):\n",
    "        \n",
    "        \n",
    "        #setting the cut off according to the next closest number in steps of 30 according to a 70:30 ratio\n",
    "        if len(new_list) == 210 or len(new_list) == 240:\n",
    "            cut = 60\n",
    "        elif len(new_list) == 270 or len(new_list) == 300 or len(new_list) == 330:\n",
    "            cut = 90\n",
    "        elif len(new_list) == 360 or len(new_list) == 390 or len(new_list) == 420:\n",
    "            cut = 120\n",
    "        elif len(new_list) == 450 or len(new_list) == 510 or len(new_list) == 540:\n",
    "            cut = 150\n",
    "        elif len(new_list) == 600 or len(new_list) == 630:\n",
    "            cut = 180\n",
    "        elif len(new_list) == 689:\n",
    "            cut = 210 - 1\n",
    "        elif len(new_list) == 780:\n",
    "            cut = 240\n",
    "        elif len(new_list) == 1110:\n",
    "            cut = 330\n",
    "        elif len(new_list) == 1200:\n",
    "            cut = 360\n",
    "        elif len(new_list) == 1320:\n",
    "            cut = 390\n",
    "        elif len(new_list) == 1410 or len(new_list) == 1440:\n",
    "            cut = 420\n",
    "        elif len(new_list) == 1470 or len(new_list) == 1500:\n",
    "            cut = 450\n",
    "        elif len(new_list) == 1860:\n",
    "            cut = 570\n",
    "        elif len(new_list) == 1980 or len(new_list) == 2010:\n",
    "            cut = 600\n",
    "        elif len(new_list) == 2070 or len(new_list) == 2100:\n",
    "            cut = 630\n",
    "        elif len(new_list) == 2160 or len(new_list) == 2220:\n",
    "            cut = 660\n",
    "        elif len(new_list) == 2250:\n",
    "            cut = 690\n",
    "         \n",
    "        \n",
    "        if image < len(new_list) - cut:\n",
    "            \n",
    "            src = base_training_dir + \"/\" + all_classes[i] + \"/\" + new_list[image]\n",
    "            dst = new_train_dir + \"/\" + all_classes[i] + \"/\"  + new_list[image]\n",
    "            shutil.copyfile(src, dst)\n",
    "            \n",
    "        else:\n",
    "            src = base_training_dir + \"/\" + all_classes[i] + \"/\" + new_list[image]\n",
    "            dst = new_val_dir + \"/\" + all_classes[i] + \"/\"  + new_list[image]\n",
    "            shutil.copyfile(src, dst)"
   ]
  },
  {
   "cell_type": "code",
   "execution_count": 13,
   "id": "hearing-christmas",
   "metadata": {},
   "outputs": [
    {
     "name": "stdout",
     "output_type": "stream",
     "text": [
      "Class 0 : training set size = 150 ; validation set size: 60\n",
      "Class 1 : training set size = 1560 ; validation set size: 660\n",
      "Class 2 : training set size = 1560 ; validation set size: 690\n",
      "Class 3 : training set size = 990 ; validation set size: 420\n",
      "Class 4 : training set size = 1380 ; validation set size: 600\n",
      "Class 5 : training set size = 1290 ; validation set size: 570\n",
      "Class 6 : training set size = 300 ; validation set size: 120\n",
      "Class 7 : training set size = 1020 ; validation set size: 420\n",
      "Class 8 : training set size = 990 ; validation set size: 420\n",
      "Class 9 : training set size = 1020 ; validation set size: 450\n",
      "Class 10 : training set size = 1410 ; validation set size: 600\n",
      "Class 11 : training set size = 930 ; validation set size: 390\n",
      "Class 12 : training set size = 1470 ; validation set size: 630\n",
      "Class 13 : training set size = 1500 ; validation set size: 660\n",
      "Class 14 : training set size = 540 ; validation set size: 240\n",
      "Class 15 : training set size = 450 ; validation set size: 180\n",
      "Class 16 : training set size = 300 ; validation set size: 120\n",
      "Class 17 : training set size = 780 ; validation set size: 330\n",
      "Class 18 : training set size = 840 ; validation set size: 360\n",
      "Class 19 : training set size = 150 ; validation set size: 60\n",
      "Class 20 : training set size = 240 ; validation set size: 120\n",
      "Class 21 : training set size = 240 ; validation set size: 90\n",
      "Class 22 : training set size = 270 ; validation set size: 120\n",
      "Class 23 : training set size = 360 ; validation set size: 150\n",
      "Class 24 : training set size = 180 ; validation set size: 90\n",
      "Class 25 : training set size = 1050 ; validation set size: 450\n",
      "Class 26 : training set size = 420 ; validation set size: 180\n",
      "Class 27 : training set size = 180 ; validation set size: 60\n",
      "Class 28 : training set size = 390 ; validation set size: 150\n",
      "Class 29 : training set size = 180 ; validation set size: 90\n",
      "Class 30 : training set size = 300 ; validation set size: 150\n",
      "Class 31 : training set size = 540 ; validation set size: 240\n",
      "Class 32 : training set size = 180 ; validation set size: 60\n",
      "Class 33 : training set size = 480 ; validation set size: 209\n",
      "Class 34 : training set size = 300 ; validation set size: 120\n",
      "Class 35 : training set size = 840 ; validation set size: 360\n",
      "Class 36 : training set size = 270 ; validation set size: 120\n",
      "Class 37 : training set size = 150 ; validation set size: 60\n",
      "Class 38 : training set size = 1440 ; validation set size: 630\n",
      "Class 39 : training set size = 210 ; validation set size: 90\n",
      "Class 40 : training set size = 240 ; validation set size: 120\n",
      "Class 41 : training set size = 180 ; validation set size: 60\n",
      "Class 42 : training set size = 180 ; validation set size: 60\n"
     ]
    }
   ],
   "source": [
    "size_per_class_list = []\n",
    "\n",
    "for i in range(len(all_classes)):\n",
    "    size_per_class_list.append([len(os.listdir(new_train_dir + \"/\" + all_classes[i])), len(os.listdir(new_val_dir + \"/\" + all_classes[i]))])\n",
    "    print(\"Class\", i, \": training set size =\", len(os.listdir(new_train_dir + \"/\" + all_classes[i])), \"; validation set size:\", len(os.listdir(new_val_dir + \"/\" + all_classes[i])))"
   ]
  },
  {
   "cell_type": "markdown",
   "id": "premium-religious",
   "metadata": {},
   "source": [
    "## Data Preprocessing"
   ]
  },
  {
   "cell_type": "code",
   "execution_count": 14,
   "id": "national-shame",
   "metadata": {},
   "outputs": [],
   "source": [
    "import os, shutil\n",
    "import pandas as pd\n",
    "import seaborn as sns\n",
    "import matplotlib.pyplot as plt\n",
    "\n",
    "train_dir = new_train_dir\n",
    "validation_dir = new_val_dir"
   ]
  },
  {
   "cell_type": "code",
   "execution_count": 15,
   "id": "muslim-crack",
   "metadata": {},
   "outputs": [
    {
     "name": "stdout",
     "output_type": "stream",
     "text": [
      "Found 27450 images belonging to 43 classes.\n",
      "Found 11759 images belonging to 43 classes.\n"
     ]
    }
   ],
   "source": [
    "from keras.preprocessing.image import ImageDataGenerator\n",
    "\n",
    "train_datagen = ImageDataGenerator(rescale=1./255)\n",
    "test_datagen = ImageDataGenerator(rescale=1./255)\n",
    "\n",
    "train_generator = train_datagen.flow_from_directory(\n",
    "    train_dir,\n",
    "    target_size=(150,150),\n",
    "    batch_size=20,\n",
    "    class_mode=\"categorical\")\n",
    "\n",
    "validation_generator = test_datagen.flow_from_directory(\n",
    "    validation_dir,\n",
    "    target_size=(150,150),\n",
    "    batch_size=20,\n",
    "    class_mode=\"categorical\")"
   ]
  },
  {
   "cell_type": "markdown",
   "id": "fifth-courage",
   "metadata": {},
   "source": [
    "## Draft of the model"
   ]
  },
  {
   "cell_type": "markdown",
   "id": "timely-throw",
   "metadata": {},
   "source": [
    "#### Building the model"
   ]
  },
  {
   "cell_type": "code",
   "execution_count": 21,
   "id": "sublime-privilege",
   "metadata": {},
   "outputs": [],
   "source": [
    "from keras import layers\n",
    "from keras import models\n",
    "\n",
    "model = models.Sequential()\n",
    "model.add(layers.Conv2D(32, (3, 3), activation='relu', input_shape=(150, 150, 3)))\n",
    "model.add(layers.MaxPooling2D((2, 2)))\n",
    "model.add(layers.Conv2D(64, (3, 3), activation='relu'))\n",
    "model.add(layers.MaxPooling2D((2, 2) ))\n",
    "model.add(layers.Flatten())\n",
    "model.add(layers.Dense(512, activation='relu'))\n",
    "model.add(layers.Dense (43, activation='softmax'))"
   ]
  },
  {
   "cell_type": "code",
   "execution_count": 22,
   "id": "thermal-timing",
   "metadata": {},
   "outputs": [
    {
     "name": "stdout",
     "output_type": "stream",
     "text": [
      "Model: \"sequential_1\"\n",
      "_________________________________________________________________\n",
      "Layer (type)                 Output Shape              Param #   \n",
      "=================================================================\n",
      "conv2d_2 (Conv2D)            (None, 148, 148, 32)      896       \n",
      "_________________________________________________________________\n",
      "max_pooling2d_2 (MaxPooling2 (None, 74, 74, 32)        0         \n",
      "_________________________________________________________________\n",
      "conv2d_3 (Conv2D)            (None, 72, 72, 64)        18496     \n",
      "_________________________________________________________________\n",
      "max_pooling2d_3 (MaxPooling2 (None, 36, 36, 64)        0         \n",
      "_________________________________________________________________\n",
      "flatten_1 (Flatten)          (None, 82944)             0         \n",
      "_________________________________________________________________\n",
      "dense_2 (Dense)              (None, 512)               42467840  \n",
      "_________________________________________________________________\n",
      "dense_3 (Dense)              (None, 43)                22059     \n",
      "=================================================================\n",
      "Total params: 42,509,291\n",
      "Trainable params: 42,509,291\n",
      "Non-trainable params: 0\n",
      "_________________________________________________________________\n"
     ]
    }
   ],
   "source": [
    "model.summary()"
   ]
  },
  {
   "cell_type": "markdown",
   "id": "cellular-george",
   "metadata": {},
   "source": [
    "#### Training the model"
   ]
  },
  {
   "cell_type": "code",
   "execution_count": 23,
   "id": "executed-knight",
   "metadata": {},
   "outputs": [],
   "source": [
    "from keras import optimizers\n",
    "\n",
    "#compilation\n",
    "model.compile(loss=\"categorical_crossentropy\", optimizer=optimizers.RMSprop(lr=1e-4), metrics=[\"acc\"])"
   ]
  },
  {
   "cell_type": "code",
   "execution_count": 24,
   "id": "radio-geography",
   "metadata": {},
   "outputs": [
    {
     "name": "stdout",
     "output_type": "stream",
     "text": [
      "data batch shape: (20, 150, 150, 3)\n",
      "labels batch shape: (20, 43)\n"
     ]
    }
   ],
   "source": [
    "import sys\n",
    "from PIL import Image\n",
    "sys.modules['Image'] = Image\n",
    "\n",
    "for data_batch, labels_batch in train_generator:\n",
    "    print('data batch shape:', data_batch.shape)\n",
    "    print('labels batch shape:', labels_batch.shape)\n",
    "    break"
   ]
  },
  {
   "cell_type": "code",
   "execution_count": 25,
   "id": "balanced-context",
   "metadata": {},
   "outputs": [],
   "source": [
    "train_size_per_class = []\n",
    "\n",
    "for element in size_per_class_list:\n",
    "    train_size_per_class.append(element[0])\n",
    "    \n",
    "class_weights = {}\n",
    "\n",
    "i = 0\n",
    "for element in train_size_per_class:\n",
    "    class_weights[i] = max(train_size_per_class) / element\n",
    "    i += 1"
   ]
  },
  {
   "cell_type": "code",
   "execution_count": 30,
   "id": "equipped-tours",
   "metadata": {},
   "outputs": [
    {
     "data": {
      "text/plain": [
       "{0: 10.4,\n",
       " 1: 1.0,\n",
       " 2: 1.0,\n",
       " 3: 1.5757575757575757,\n",
       " 4: 1.1304347826086956,\n",
       " 5: 1.2093023255813953,\n",
       " 6: 5.2,\n",
       " 7: 1.5294117647058822,\n",
       " 8: 1.5757575757575757,\n",
       " 9: 1.5294117647058822,\n",
       " 10: 1.1063829787234043,\n",
       " 11: 1.6774193548387097,\n",
       " 12: 1.0612244897959184,\n",
       " 13: 1.04,\n",
       " 14: 2.888888888888889,\n",
       " 15: 3.466666666666667,\n",
       " 16: 5.2,\n",
       " 17: 2.0,\n",
       " 18: 1.8571428571428572,\n",
       " 19: 10.4,\n",
       " 20: 6.5,\n",
       " 21: 6.5,\n",
       " 22: 5.777777777777778,\n",
       " 23: 4.333333333333333,\n",
       " 24: 8.666666666666666,\n",
       " 25: 1.4857142857142858,\n",
       " 26: 3.7142857142857144,\n",
       " 27: 8.666666666666666,\n",
       " 28: 4.0,\n",
       " 29: 8.666666666666666,\n",
       " 30: 5.2,\n",
       " 31: 2.888888888888889,\n",
       " 32: 8.666666666666666,\n",
       " 33: 3.25,\n",
       " 34: 5.2,\n",
       " 35: 1.8571428571428572,\n",
       " 36: 5.777777777777778,\n",
       " 37: 10.4,\n",
       " 38: 1.0833333333333333,\n",
       " 39: 7.428571428571429,\n",
       " 40: 6.5,\n",
       " 41: 8.666666666666666,\n",
       " 42: 8.666666666666666}"
      ]
     },
     "execution_count": 30,
     "metadata": {},
     "output_type": "execute_result"
    }
   ],
   "source": [
    "class_weights"
   ]
  },
  {
   "cell_type": "code",
   "execution_count": null,
   "id": "measured-northwest",
   "metadata": {},
   "outputs": [],
   "source": [
    "history = model.fit_generator(\n",
    "    train_generator,\n",
    "    epochs=30,\n",
    "    validation_data=validation_generator,\n",
    "    class_weight=class_weights\n",
    ")"
   ]
  },
  {
   "cell_type": "code",
   "execution_count": null,
   "id": "accessible-israeli",
   "metadata": {},
   "outputs": [],
   "source": [
    "#Displaying curves of loss and accuracy during training\n",
    "\n",
    "import matplotlib.pyplot as plt\n",
    "\n",
    "acc = history.history[\"acc\"]\n",
    "val_acc = history.history[\"val_acc\"]\n",
    "loss = history.history[\"loss\"]\n",
    "val_loss = history.history[\"val_loss\"]\n",
    "\n",
    "epochs = range(1, len(acc) + 1)\n",
    "\n",
    "plt.plot(epochs, acc, \"bo\", label=\"Training acc\")\n",
    "plt.plot(epochs, val_acc, \"b\", label=\"Validation acc\")\n",
    "plt.title(\"Training and validation accuracy\")\n",
    "plt.legend()\n",
    "\n",
    "plt.show()\n",
    "\n",
    "plt.plot(epochs, loss, \"bo\", label=\"Training loss\")\n",
    "plt.plot(epochs, val_loss, \"b\", label=\"Validation loss\")\n",
    "plt.title(\"Training and validation loss\")\n",
    "plt.legend()\n",
    "\n",
    "plt.show()"
   ]
  },
  {
   "cell_type": "markdown",
   "id": "legal-engineering",
   "metadata": {},
   "source": [
    "As it can be seen, the major problem so far is overfitting!"
   ]
  },
  {
   "cell_type": "markdown",
   "id": "unavailable-legislature",
   "metadata": {},
   "source": [
    "## Overfitting reduce technique 1: Rebuidling the model with dropout"
   ]
  },
  {
   "cell_type": "markdown",
   "id": "saved-basement",
   "metadata": {},
   "source": [
    "Overview of some techniques: https://towardsdatascience.com/deep-learning-3-more-on-cnns-handling-overfitting-2bd5d99abe5d"
   ]
  },
  {
   "cell_type": "code",
   "execution_count": 16,
   "id": "global-jason",
   "metadata": {},
   "outputs": [],
   "source": [
    "#train_dir = os.path.join(created_dir, \"training\")\n",
    "# os.mkdir(train_dir)\n",
    "#validation_dir = os.path.join(created_dir, \"validation\")\n",
    "# os.mkdir(validation_dir)"
   ]
  },
  {
   "cell_type": "code",
   "execution_count": 34,
   "id": "accredited-dover",
   "metadata": {},
   "outputs": [],
   "source": [
    "from keras import layers\n",
    "from keras import models\n",
    "\n",
    "dropout_prob = 0.9\n",
    "\n",
    "model = models.Sequential()\n",
    "model.add(layers.Conv2D(32, (3, 3), activation='relu', input_shape=(150, 150, 3)))\n",
    "model.add(layers.MaxPooling2D((2, 2)))\n",
    "model.add(layers.Conv2D(64, (3, 3), activation='relu'))\n",
    "model.add(layers.MaxPooling2D((2, 2) ))\n",
    "model.add(layers.Flatten())\n",
    "model.add(layers.Dropout(dropout_prob))\n",
    "model.add(layers.Dense(512, activation='relu'))\n",
    "model.add(layers.Dense (43, activation='softmax'))"
   ]
  },
  {
   "cell_type": "code",
   "execution_count": 35,
   "id": "healthy-interpretation",
   "metadata": {},
   "outputs": [
    {
     "name": "stdout",
     "output_type": "stream",
     "text": [
      "Model: \"sequential_4\"\n",
      "_________________________________________________________________\n",
      "Layer (type)                 Output Shape              Param #   \n",
      "=================================================================\n",
      "conv2d_8 (Conv2D)            (None, 148, 148, 32)      896       \n",
      "_________________________________________________________________\n",
      "max_pooling2d_8 (MaxPooling2 (None, 74, 74, 32)        0         \n",
      "_________________________________________________________________\n",
      "conv2d_9 (Conv2D)            (None, 72, 72, 64)        18496     \n",
      "_________________________________________________________________\n",
      "max_pooling2d_9 (MaxPooling2 (None, 36, 36, 64)        0         \n",
      "_________________________________________________________________\n",
      "flatten_4 (Flatten)          (None, 82944)             0         \n",
      "_________________________________________________________________\n",
      "dropout_3 (Dropout)          (None, 82944)             0         \n",
      "_________________________________________________________________\n",
      "dense_8 (Dense)              (None, 512)               42467840  \n",
      "_________________________________________________________________\n",
      "dense_9 (Dense)              (None, 43)                22059     \n",
      "=================================================================\n",
      "Total params: 42,509,291\n",
      "Trainable params: 42,509,291\n",
      "Non-trainable params: 0\n",
      "_________________________________________________________________\n"
     ]
    }
   ],
   "source": [
    "model.summary()"
   ]
  },
  {
   "cell_type": "code",
   "execution_count": 36,
   "id": "close-architect",
   "metadata": {},
   "outputs": [],
   "source": [
    "from keras import optimizers\n",
    "\n",
    "#compilation\n",
    "model.compile(loss=\"categorical_crossentropy\", optimizer=optimizers.RMSprop(lr=1e-4), metrics=[\"acc\"])"
   ]
  },
  {
   "cell_type": "code",
   "execution_count": null,
   "id": "virtual-shooting",
   "metadata": {},
   "outputs": [],
   "source": [
    "# Load a saved model\n",
    "\n",
    "import keras\n",
    "\n",
    "# model = keras.models.load_model('all_data_1_epoch')"
   ]
  },
  {
   "cell_type": "code",
   "execution_count": 37,
   "id": "expressed-belfast",
   "metadata": {
    "scrolled": true
   },
   "outputs": [
    {
     "name": "stdout",
     "output_type": "stream",
     "text": [
      "Epoch 1/5\n",
      "1373/1373 [==============================] - 841s 612ms/step - loss: 6.3830 - acc: 0.3667 - val_loss: 1.1228 - val_acc: 0.6961\n",
      "Epoch 2/5\n",
      "1373/1373 [==============================] - 791s 576ms/step - loss: 1.8829 - acc: 0.7821 - val_loss: 0.8053 - val_acc: 0.7637\n",
      "Epoch 3/5\n",
      "1373/1373 [==============================] - 804s 586ms/step - loss: 1.0713 - acc: 0.8614 - val_loss: 0.6892 - val_acc: 0.8133\n",
      "Epoch 4/5\n",
      "1373/1373 [==============================] - 796s 580ms/step - loss: 0.7831 - acc: 0.8974 - val_loss: 0.5805 - val_acc: 0.8473\n",
      "Epoch 5/5\n",
      "1373/1373 [==============================] - 819s 597ms/step - loss: 0.6171 - acc: 0.9152 - val_loss: 0.5817 - val_acc: 0.8479\n"
     ]
    }
   ],
   "source": [
    "# Epochs 1 - 5: 5 epochs with weights and dropout(0.9)\n",
    "history = model.fit_generator(\n",
    "    train_generator,\n",
    "    epochs=5,\n",
    "    validation_data=validation_generator,\n",
    "    class_weight=class_weights\n",
    "    )"
   ]
  },
  {
   "cell_type": "code",
   "execution_count": 41,
   "id": "provincial-sheffield",
   "metadata": {},
   "outputs": [
    {
     "name": "stderr",
     "output_type": "stream",
     "text": [
      "/Users/philippmetzger/anaconda3/envs/dl_pip_2/lib/python3.8/site-packages/tensorflow/python/keras/engine/training.py:1844: UserWarning: `Model.fit_generator` is deprecated and will be removed in a future version. Please use `Model.fit`, which supports generators.\n",
      "  warnings.warn('`Model.fit_generator` is deprecated and '\n"
     ]
    },
    {
     "name": "stdout",
     "output_type": "stream",
     "text": [
      "Epoch 1/5\n",
      "1373/1373 [==============================] - 824s 600ms/step - loss: 0.5008 - acc: 0.9301 - val_loss: 0.5574 - val_acc: 0.8667\n",
      "Epoch 2/5\n",
      "1373/1373 [==============================] - 862s 628ms/step - loss: 0.4490 - acc: 0.9376 - val_loss: 0.6041 - val_acc: 0.8521\n",
      "Epoch 3/5\n",
      "1373/1373 [==============================] - 798s 582ms/step - loss: 0.3950 - acc: 0.9452 - val_loss: 0.5569 - val_acc: 0.8751\n",
      "Epoch 4/5\n",
      "1373/1373 [==============================] - 789s 574ms/step - loss: 0.3699 - acc: 0.9490 - val_loss: 0.5632 - val_acc: 0.8693\n",
      "Epoch 5/5\n",
      "1373/1373 [==============================] - 780s 568ms/step - loss: 0.3216 - acc: 0.9516 - val_loss: 0.5788 - val_acc: 0.8702\n"
     ]
    }
   ],
   "source": [
    "# Epochs 6 - 10: Another 5 epochs with weights and dropout(0.9)\n",
    "history = model.fit_generator(\n",
    "    train_generator,\n",
    "    epochs=5,\n",
    "    validation_data=validation_generator,\n",
    "    class_weight=class_weights\n",
    "    )"
   ]
  },
  {
   "cell_type": "code",
   "execution_count": 45,
   "id": "unique-spectacular",
   "metadata": {},
   "outputs": [
    {
     "name": "stderr",
     "output_type": "stream",
     "text": [
      "/Users/philippmetzger/anaconda3/envs/dl_pip_2/lib/python3.8/site-packages/tensorflow/python/keras/engine/training.py:1844: UserWarning: `Model.fit_generator` is deprecated and will be removed in a future version. Please use `Model.fit`, which supports generators.\n",
      "  warnings.warn('`Model.fit_generator` is deprecated and '\n"
     ]
    },
    {
     "name": "stdout",
     "output_type": "stream",
     "text": [
      "Epoch 1/5\n",
      "1373/1373 [==============================] - 793s 577ms/step - loss: 0.3151 - acc: 0.9544 - val_loss: 0.5573 - val_acc: 0.8754\n",
      "Epoch 2/5\n",
      "1373/1373 [==============================] - 782s 570ms/step - loss: 0.2821 - acc: 0.9576 - val_loss: 0.5640 - val_acc: 0.8758\n",
      "Epoch 3/5\n",
      "1373/1373 [==============================] - 809s 589ms/step - loss: 0.2687 - acc: 0.9600 - val_loss: 0.6177 - val_acc: 0.8798\n",
      "Epoch 4/5\n",
      "1373/1373 [==============================] - 826s 601ms/step - loss: 0.2249 - acc: 0.9647 - val_loss: 0.5540 - val_acc: 0.8829\n",
      "Epoch 5/5\n",
      "1373/1373 [==============================] - 845s 616ms/step - loss: 0.2213 - acc: 0.9663 - val_loss: 0.5639 - val_acc: 0.8821\n"
     ]
    }
   ],
   "source": [
    "# Epochs 11 - 15: Another 5 epochs with weights and dropout(0.9)\n",
    "history = model.fit_generator(\n",
    "    train_generator,\n",
    "    epochs=5,\n",
    "    validation_data=validation_generator,\n",
    "    class_weight=class_weights\n",
    "    )"
   ]
  },
  {
   "cell_type": "code",
   "execution_count": 49,
   "id": "careful-raising",
   "metadata": {},
   "outputs": [
    {
     "name": "stderr",
     "output_type": "stream",
     "text": [
      "/Users/philippmetzger/anaconda3/envs/dl_pip_2/lib/python3.8/site-packages/tensorflow/python/keras/engine/training.py:1844: UserWarning: `Model.fit_generator` is deprecated and will be removed in a future version. Please use `Model.fit`, which supports generators.\n",
      "  warnings.warn('`Model.fit_generator` is deprecated and '\n"
     ]
    },
    {
     "name": "stdout",
     "output_type": "stream",
     "text": [
      "Epoch 1/5\n",
      "1373/1373 [==============================] - 837s 609ms/step - loss: 0.2132 - acc: 0.9674 - val_loss: 0.5662 - val_acc: 0.8861\n",
      "Epoch 2/5\n",
      "1373/1373 [==============================] - 856s 624ms/step - loss: 0.2141 - acc: 0.9705 - val_loss: 0.5588 - val_acc: 0.8864\n",
      "Epoch 3/5\n",
      "1373/1373 [==============================] - 859s 626ms/step - loss: 0.2187 - acc: 0.9691 - val_loss: 0.5880 - val_acc: 0.8807\n",
      "Epoch 4/5\n",
      "1373/1373 [==============================] - 856s 623ms/step - loss: 0.1748 - acc: 0.9736 - val_loss: 0.6517 - val_acc: 0.8814\n",
      "Epoch 5/5\n",
      "1373/1373 [==============================] - 799s 582ms/step - loss: 0.1712 - acc: 0.9722 - val_loss: 0.5598 - val_acc: 0.8907\n"
     ]
    }
   ],
   "source": [
    "# Epochs 16 - 20: Another 5 epochs with weights and dropout(0.9)\n",
    "history = model.fit_generator(\n",
    "    train_generator,\n",
    "    epochs=5,\n",
    "    validation_data=validation_generator,\n",
    "    class_weight=class_weights\n",
    "    )"
   ]
  },
  {
   "cell_type": "code",
   "execution_count": 50,
   "id": "surprised-heading",
   "metadata": {},
   "outputs": [
    {
     "name": "stdout",
     "output_type": "stream",
     "text": [
      "INFO:tensorflow:Assets written to: model_all_data_dropout_0_9_weights_20_epochs/assets\n"
     ]
    }
   ],
   "source": [
    "model.save('model_all_data_dropout_0_9_weights_20_epochs')"
   ]
  },
  {
   "cell_type": "code",
   "execution_count": 51,
   "id": "prepared-translator",
   "metadata": {},
   "outputs": [],
   "source": [
    "save_hist_to_excel('history_all_data_dropout_0_9_weights_20_epochs')"
   ]
  },
  {
   "cell_type": "code",
   "execution_count": 48,
   "id": "potential-mobility",
   "metadata": {},
   "outputs": [
    {
     "data": {
      "image/png": "[encoded data removed]",
      "text/plain": [
       "<Figure size 1440x576 with 1 Axes>"
      ]
     },
     "metadata": {
      "needs_background": "light"
     },
     "output_type": "display_data"
    },
    {
     "data": {
      "image/png": "[encoded data removed]",
      "text/plain": [
       "<Figure size 1440x576 with 1 Axes>"
      ]
     },
     "metadata": {
      "needs_background": "light"
     },
     "output_type": "display_data"
    }
   ],
   "source": [
    "#Displaying curves of loss and accuracy during training\n",
    "\n",
    "import matplotlib.pyplot as plt\n",
    "\n",
    "acc = history.history[\"acc\"]\n",
    "val_acc = history.history[\"val_acc\"]\n",
    "loss = history.history[\"loss\"]\n",
    "val_loss = history.history[\"val_loss\"]\n",
    "\n",
    "epochs = range(1, len(acc) + 1)\n",
    "\n",
    "plt.plot(epochs, acc, \"bo\", label=\"Training acc\")\n",
    "plt.plot(epochs, val_acc, \"b\", label=\"Validation acc\")\n",
    "plt.title(\"Training and validation accuracy\")\n",
    "plt.legend()\n",
    "\n",
    "plt.show()\n",
    "\n",
    "plt.plot(epochs, loss, \"bo\", label=\"Training loss\")\n",
    "plt.plot(epochs, val_loss, \"b\", label=\"Validation loss\")\n",
    "plt.title(\"Training and validation loss\")\n",
    "plt.legend()\n",
    "\n",
    "plt.show()"
   ]
  },
  {
   "cell_type": "code",
   "execution_count": null,
   "id": "fossil-thong",
   "metadata": {},
   "outputs": [],
   "source": []
  },
  {
   "cell_type": "code",
   "execution_count": null,
   "id": "written-clearing",
   "metadata": {},
   "outputs": [],
   "source": []
  },
  {
   "cell_type": "code",
   "execution_count": null,
   "id": "solid-mouse",
   "metadata": {},
   "outputs": [],
   "source": []
  }
 ],
 "metadata": {
  "kernelspec": {
   "display_name": "Python 3",
   "language": "python",
   "name": "python3"
  },
  "language_info": {
   "codemirror_mode": {
    "name": "ipython",
    "version": 3
   },
   "file_extension": ".py",
   "mimetype": "text/x-python",
   "name": "python",
   "nbconvert_exporter": "python",
   "pygments_lexer": "ipython3",
   "version": "3.8.5"
  }
 },
 "nbformat": 4,
 "nbformat_minor": 5
}

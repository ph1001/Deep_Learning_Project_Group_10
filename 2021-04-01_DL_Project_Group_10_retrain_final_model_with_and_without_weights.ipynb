{
 "cells": [
  {
   "cell_type": "markdown",
   "id": "determined-remark",
   "metadata": {},
   "source": [
    "# Deep Learning Project - Traffic Signs Image Classification"
   ]
  },
  {
   "cell_type": "code",
   "execution_count": 1,
   "id": "authentic-cyprus",
   "metadata": {},
   "outputs": [],
   "source": [
    "import os, shutil\n",
    "import pandas as pd\n",
    "import seaborn as sns\n",
    "import matplotlib.pyplot as plt"
   ]
  },
  {
   "cell_type": "code",
   "execution_count": 2,
   "id": "prescription-conspiracy",
   "metadata": {},
   "outputs": [],
   "source": [
    "def save_hist_to_excel(filename):\n",
    "    df = pd.DataFrame(history.history)\n",
    "    df.to_excel(filename + '.xlsx')"
   ]
  },
  {
   "cell_type": "markdown",
   "id": "vietnamese-attention",
   "metadata": {},
   "source": [
    "## Overview of the training data"
   ]
  },
  {
   "cell_type": "code",
   "execution_count": 3,
   "id": "civic-alberta",
   "metadata": {},
   "outputs": [
    {
     "name": "stdout",
     "output_type": "stream",
     "text": [
      "There are 43 different classes within the training data!\n"
     ]
    }
   ],
   "source": [
    "#setting the training directory (the training images can be found there, already sorted by class into folders)\n",
    "#base_training_dir = \"/Users/henriquevaz/NOVA IMS/YEAR 1/SPRING SEMESTER/DL/Project/my_notebooks/Data/Training/Final_Training/Images/\"\n",
    "base_training_dir = \"/Users/philippmetzger/Documents/GitHub/Deep_Learning_Project_Group_10/Data/GTSRB_Final_Training_Images/GTSRB/Final_Training/Images/\"\n",
    "#base_training_dir = \"/Users/franz/Desktop/DL Project/Train/Final_Training/Images\"\n",
    "\n",
    "#setting the directory where the selected training and validation images will be stored in\n",
    "#created_dir = \"/Users/henriquevaz/NOVA IMS/YEAR 1/SPRING SEMESTER/DL/Project/my_notebooks/Data/Selected\"\n",
    "created_dir = \"/Users/philippmetzger/Documents/GitHub/Deep_Learning_Project_Group_10/Data/Selected\"\n",
    "#created_dir = \"/Users/franz/Desktop/DL Project/Selected\"\n",
    "\n",
    "#storing all the folder names that belong to the respective classes\n",
    "all_classes = sorted(i for i in os.listdir(base_training_dir) if i.startswith(\"0\"))\n",
    "\n",
    "print(\"There are\", len(all_classes), \"different classes within the training data!\")"
   ]
  },
  {
   "cell_type": "code",
   "execution_count": 4,
   "id": "passing-copper",
   "metadata": {},
   "outputs": [],
   "source": [
    "#getting the number of images within each class of the training data\n",
    "amount_per_class = {}\n",
    "\n",
    "for i in range(len(all_classes)):\n",
    "    directory = base_training_dir + \"/\" + all_classes[i]\n",
    "    amount_per_class[i] = len(sorted(i for i in os.listdir(directory) if i.startswith(\"0\")))\n",
    "\n",
    "amount_per_class_df = pd.DataFrame.from_dict(amount_per_class, orient='index').rename(columns={0:\"amount\"})\n",
    "amount_per_class_df.index.name = 'class'\n",
    "\n",
    "#remove the \"#\" of the following line to display the number of images within each class\n",
    "#amount_per_class_df"
   ]
  },
  {
   "cell_type": "code",
   "execution_count": 5,
   "id": "smart-notification",
   "metadata": {},
   "outputs": [
    {
     "data": {
      "image/png": "[encoded data removed]",
      "text/plain": [
       "<Figure size 1440x576 with 1 Axes>"
      ]
     },
     "metadata": {
      "needs_background": "light"
     },
     "output_type": "display_data"
    }
   ],
   "source": [
    "#displaying the number of images per class visually\n",
    "\n",
    "plt.rcParams[\"figure.figsize\"] = (20,8)\n",
    "fig, ax = plt.subplots()\n",
    "plt.bar(amount_per_class_df.index, amount_per_class_df.amount)\n",
    "plt.title(\"Number of images per class\", fontsize=20)\n",
    "plt.xlabel('class', fontsize=18)\n",
    "plt.ylabel('number of images', fontsize=18)\n",
    "ax.spines['right'].set_visible(False)\n",
    "ax.spines['top'].set_visible(False)\n",
    "plt.xticks(amount_per_class_df.index)\n",
    "plt.grid(axis=\"y\")\n",
    "plt.show()"
   ]
  },
  {
   "cell_type": "markdown",
   "id": "contained-certification",
   "metadata": {},
   "source": [
    "As it can be seen in the bar chart, the dataset is highly unbalanced. Some classes have over 2000 instances, while others only have 210."
   ]
  },
  {
   "cell_type": "code",
   "execution_count": 6,
   "id": "exempt-married",
   "metadata": {},
   "outputs": [
    {
     "data": {
      "text/html": [
       "<div>\n",
       "<style scoped>\n",
       "    .dataframe tbody tr th:only-of-type {\n",
       "        vertical-align: middle;\n",
       "    }\n",
       "\n",
       "    .dataframe tbody tr th {\n",
       "        vertical-align: top;\n",
       "    }\n",
       "\n",
       "    .dataframe thead th {\n",
       "        text-align: right;\n",
       "    }\n",
       "</style>\n",
       "<table border=\"1\" class=\"dataframe\">\n",
       "  <thead>\n",
       "    <tr style=\"text-align: right;\">\n",
       "      <th>class</th>\n",
       "      <th>0</th>\n",
       "      <th>37</th>\n",
       "      <th>19</th>\n",
       "      <th>32</th>\n",
       "      <th>27</th>\n",
       "      <th>41</th>\n",
       "      <th>42</th>\n",
       "      <th>24</th>\n",
       "      <th>29</th>\n",
       "      <th>39</th>\n",
       "      <th>21</th>\n",
       "      <th>40</th>\n",
       "      <th>20</th>\n",
       "      <th>36</th>\n",
       "      <th>22</th>\n",
       "      <th>6</th>\n",
       "      <th>16</th>\n",
       "      <th>34</th>\n",
       "      <th>30</th>\n",
       "      <th>23</th>\n",
       "    </tr>\n",
       "  </thead>\n",
       "  <tbody>\n",
       "    <tr>\n",
       "      <th>amount</th>\n",
       "      <td>210</td>\n",
       "      <td>210</td>\n",
       "      <td>210</td>\n",
       "      <td>240</td>\n",
       "      <td>240</td>\n",
       "      <td>240</td>\n",
       "      <td>240</td>\n",
       "      <td>270</td>\n",
       "      <td>270</td>\n",
       "      <td>300</td>\n",
       "      <td>330</td>\n",
       "      <td>360</td>\n",
       "      <td>360</td>\n",
       "      <td>390</td>\n",
       "      <td>390</td>\n",
       "      <td>420</td>\n",
       "      <td>420</td>\n",
       "      <td>420</td>\n",
       "      <td>450</td>\n",
       "      <td>510</td>\n",
       "    </tr>\n",
       "  </tbody>\n",
       "</table>\n",
       "</div>"
      ],
      "text/plain": [
       "class    0    37   19   32   27   41   42   24   29   39   21   40   20   36  \\\n",
       "amount  210  210  210  240  240  240  240  270  270  300  330  360  360  390   \n",
       "\n",
       "class    22   6    16   34   30   23  \n",
       "amount  390  420  420  420  450  510  "
      ]
     },
     "execution_count": 6,
     "metadata": {},
     "output_type": "execute_result"
    }
   ],
   "source": [
    "#displaying the 20 classes with the fewest images\n",
    "amount_per_class_df.sort_values(\"amount\").head(20).T"
   ]
  },
  {
   "cell_type": "markdown",
   "id": "favorite-romance",
   "metadata": {},
   "source": [
    "Within each class, there are several groups of images, that belong together (these are basically all images of the very same traffic sign, that just differ in that they were made as a series while approaching the actual sign). These series of images shouldn't be splitted later when the data is split into training and validation sets, so some precautions might be useful:"
   ]
  },
  {
   "cell_type": "code",
   "execution_count": 7,
   "id": "closed-romania",
   "metadata": {},
   "outputs": [
    {
     "name": "stdout",
     "output_type": "stream",
     "text": [
      "There is a series whose number doesn't match the others in class 00033 , with the prefix 00019 !\n",
      "It only contains 29 images.\n",
      "All the other series of images contain exactly 30 images!\n"
     ]
    }
   ],
   "source": [
    "#checking the size(=amount of images) of these series and whether they are all having the same size\n",
    "\n",
    "#running a for loop over all classes\n",
    "for i in range(len(all_classes)):\n",
    "    directory = base_training_dir + \"/\" + all_classes[i]\n",
    "    \n",
    "    #get the names of all images within a class\n",
    "    list_of_images = sorted(i for i in os.listdir(directory) if i.startswith(\"0\"))\n",
    "\n",
    "    image_series = []\n",
    "    \n",
    "    #store all the prefixes of the images (which correspond to the series they belong to)\n",
    "    for element in list_of_images:\n",
    "        image_series.append(element.split(\"_\")[0])\n",
    "    \n",
    "    #count the frequency of each prefix, which equals the size of each respective series\n",
    "    image_counts = pd.Series(image_series).value_counts().sort_index()\n",
    "\n",
    "    for element in image_counts.values.tolist():\n",
    "        if element != image_counts.values.tolist()[0]:\n",
    "            #this line will show if there is a series that contains not the same number of images than the others\n",
    "            print(\"There is a series whose number doesn't match the others in class\", all_classes[i], \", with the prefix\", image_counts.sort_values().index[0], \"!\\nIt only contains\", element, \"images.\")\n",
    "            \n",
    "\n",
    "#apart from only one series, all others consist of exactly 30 images\n",
    "print(\"All the other series of images contain exactly\", image_counts.values.tolist()[0], \"images!\")"
   ]
  },
  {
   "cell_type": "markdown",
   "id": "enormous-council",
   "metadata": {},
   "source": [
    "## Data Preprocessing"
   ]
  },
  {
   "cell_type": "markdown",
   "id": "infinite-attraction",
   "metadata": {},
   "source": [
    "After running the upper part once, the notebook can be started from here from now on:"
   ]
  },
  {
   "cell_type": "code",
   "execution_count": 8,
   "id": "dental-decrease",
   "metadata": {
    "scrolled": true
   },
   "outputs": [],
   "source": [
    "#this cell is optional and the notebook should be runned from here once the upper part has been executed once\n",
    "\n",
    "import os, shutil\n",
    "import pandas as pd\n",
    "import seaborn as sns\n",
    "import matplotlib.pyplot as plt\n",
    "import tensorflow as tf\n",
    "import sys\n",
    "from PIL import Image\n",
    "import numpy as np"
   ]
  },
  {
   "cell_type": "code",
   "execution_count": 9,
   "id": "beginning-dover",
   "metadata": {},
   "outputs": [],
   "source": [
    "#train_dir = new_train_dir\n",
    "#validation_dir = new_val_dir\n",
    "\n",
    "train_dir = '/Users/philippmetzger/Documents/GitHub/Deep_Learning_Project_Group_10/Data/GTSRB_Final_Training_Images/GTSRB/Final_Training/Images'"
   ]
  },
  {
   "cell_type": "markdown",
   "id": "individual-cliff",
   "metadata": {},
   "source": [
    "##### Normalization"
   ]
  },
  {
   "cell_type": "code",
   "execution_count": 10,
   "id": "improving-tribute",
   "metadata": {},
   "outputs": [
    {
     "name": "stdout",
     "output_type": "stream",
     "text": [
      "Found 39209 images belonging to 43 classes.\n"
     ]
    }
   ],
   "source": [
    "from tensorflow.keras.preprocessing.image import ImageDataGenerator\n",
    "\n",
    "train_datagen = ImageDataGenerator(rescale=1./255)\n",
    "#test_datagen = ImageDataGenerator(rescale=1./255)\n",
    "\n",
    "train_generator = train_datagen.flow_from_directory(\n",
    "    train_dir,\n",
    "    target_size=(100,100),\n",
    "    batch_size=20,\n",
    "    class_mode=\"categorical\",\n",
    "    color_mode=\"grayscale\"\n",
    "    )\n",
    "\n",
    "\n",
    "#validation_generator = test_datagen.flow_from_directory(\n",
    "#    validation_dir,\n",
    "#    target_size=(100,100),\n",
    "#    batch_size=20,\n",
    "#    class_mode=\"categorical\",\n",
    "#    color_mode=\"grayscale\"\n",
    "#    )"
   ]
  },
  {
   "cell_type": "code",
   "execution_count": 11,
   "id": "continuing-threat",
   "metadata": {},
   "outputs": [],
   "source": [
    "x_train=np.concatenate([train_generator.next()[0] for i in range(train_generator.__len__())])\n",
    "#x_val=np.concatenate([validation_generator.next()[0] for i in range(validation_generator.__len__())])"
   ]
  },
  {
   "cell_type": "code",
   "execution_count": 12,
   "id": "turkish-mozambique",
   "metadata": {},
   "outputs": [],
   "source": [
    "train_datagen = ImageDataGenerator(featurewise_center=True, featurewise_std_normalization=True)\n",
    "#test_datagen = ImageDataGenerator(featurewise_center=True, featurewise_std_normalization=True)\n",
    "\n",
    "train_datagen.fit(x_train)\n",
    "#test_datagen.fit(x_val)"
   ]
  },
  {
   "cell_type": "markdown",
   "id": "happy-amplifier",
   "metadata": {},
   "source": [
    "##### Re-Creating the generators with the normalized image data"
   ]
  },
  {
   "cell_type": "code",
   "execution_count": 13,
   "id": "particular-fireplace",
   "metadata": {},
   "outputs": [
    {
     "name": "stdout",
     "output_type": "stream",
     "text": [
      "Found 39209 images belonging to 43 classes.\n"
     ]
    }
   ],
   "source": [
    "train_generator = train_datagen.flow_from_directory(\n",
    "    train_dir,\n",
    "    target_size=(100,100),\n",
    "    batch_size=20,\n",
    "    class_mode=\"categorical\",\n",
    "    color_mode=\"grayscale\"\n",
    "    )\n",
    "\n",
    "\n",
    "\n",
    "#validation_generator = test_datagen.flow_from_directory(\n",
    "#    validation_dir,\n",
    "#    target_size=(100,100),\n",
    "#    batch_size=20,\n",
    "#    class_mode=\"categorical\",\n",
    "#    color_mode=\"grayscale\"\n",
    "#    )"
   ]
  },
  {
   "cell_type": "code",
   "execution_count": 14,
   "id": "peripheral-exercise",
   "metadata": {},
   "outputs": [
    {
     "name": "stdout",
     "output_type": "stream",
     "text": [
      "data batch shape: (20, 100, 100, 1)\n",
      "labels batch shape: (20, 43)\n"
     ]
    }
   ],
   "source": [
    "sys.modules['Image'] = Image\n",
    "\n",
    "for data_batch, labels_batch in train_generator:\n",
    "    print('data batch shape:', data_batch.shape)\n",
    "    print('labels batch shape:', labels_batch.shape)\n",
    "    break"
   ]
  },
  {
   "cell_type": "markdown",
   "id": "plastic-dominican",
   "metadata": {},
   "source": [
    "## Define the final model without weights"
   ]
  },
  {
   "cell_type": "markdown",
   "id": "declared-concrete",
   "metadata": {},
   "source": [
    "Note that in this one the filter size is changed"
   ]
  },
  {
   "cell_type": "code",
   "execution_count": 15,
   "id": "widespread-anthony",
   "metadata": {},
   "outputs": [
    {
     "name": "stdout",
     "output_type": "stream",
     "text": [
      "Model: \"sequential\"\n",
      "_________________________________________________________________\n",
      "Layer (type)                 Output Shape              Param #   \n",
      "=================================================================\n",
      "conv2d (Conv2D)              (None, 98, 98, 32)        320       \n",
      "_________________________________________________________________\n",
      "max_pooling2d (MaxPooling2D) (None, 49, 49, 32)        0         \n",
      "_________________________________________________________________\n",
      "dropout (Dropout)            (None, 49, 49, 32)        0         \n",
      "_________________________________________________________________\n",
      "conv2d_1 (Conv2D)            (None, 45, 45, 64)        51264     \n",
      "_________________________________________________________________\n",
      "max_pooling2d_1 (MaxPooling2 (None, 22, 22, 64)        0         \n",
      "_________________________________________________________________\n",
      "dropout_1 (Dropout)          (None, 22, 22, 64)        0         \n",
      "_________________________________________________________________\n",
      "conv2d_2 (Conv2D)            (None, 16, 16, 128)       401536    \n",
      "_________________________________________________________________\n",
      "max_pooling2d_2 (MaxPooling2 (None, 8, 8, 128)         0         \n",
      "_________________________________________________________________\n",
      "dropout_2 (Dropout)          (None, 8, 8, 128)         0         \n",
      "_________________________________________________________________\n",
      "flatten (Flatten)            (None, 8192)              0         \n",
      "_________________________________________________________________\n",
      "dense (Dense)                (None, 512)               4194816   \n",
      "_________________________________________________________________\n",
      "dropout_3 (Dropout)          (None, 512)               0         \n",
      "_________________________________________________________________\n",
      "dense_1 (Dense)              (None, 43)                22059     \n",
      "=================================================================\n",
      "Total params: 4,669,995\n",
      "Trainable params: 4,669,995\n",
      "Non-trainable params: 0\n",
      "_________________________________________________________________\n"
     ]
    }
   ],
   "source": [
    "from tensorflow.keras import layers\n",
    "from tensorflow.keras import models\n",
    "\n",
    "model = models.Sequential()\n",
    "model.add(layers.Conv2D(32, (3, 3), activation='relu', input_shape=(100, 100, 1)))\n",
    "model.add(layers.MaxPooling2D((2, 2), strides=2))\n",
    "model.add(layers.Dropout(0.1))\n",
    "model.add(layers.Conv2D(64, (5, 5), activation='relu'))\n",
    "model.add(layers.MaxPooling2D((2, 2), strides=2))\n",
    "model.add(layers.Dropout(0.15))\n",
    "model.add(layers.Conv2D(128, (7, 7), activation='relu'))\n",
    "model.add(layers.MaxPooling2D((2, 2), strides=2 ))\n",
    "model.add(layers.Dropout(0.15))\n",
    "model.add(layers.Flatten())\n",
    "model.add(layers.Dense(512, activation='relu'))\n",
    "model.add(layers.Dropout(0.4))\n",
    "model.add(layers.Dense (43, activation='softmax'))\n",
    "\n",
    "model.summary()"
   ]
  },
  {
   "cell_type": "code",
   "execution_count": 16,
   "id": "central-inquiry",
   "metadata": {},
   "outputs": [],
   "source": [
    "from tensorflow.keras import optimizers\n",
    "\n",
    "#compilation\n",
    "model.compile(loss=\"categorical_crossentropy\", optimizer=optimizers.RMSprop(lr=1e-4), metrics=[\"acc\"])"
   ]
  },
  {
   "cell_type": "markdown",
   "id": "exact-solomon",
   "metadata": {},
   "source": [
    "## Train the final model without weights"
   ]
  },
  {
   "cell_type": "code",
   "execution_count": 17,
   "id": "liberal-speaker",
   "metadata": {},
   "outputs": [
    {
     "data": {
      "text/plain": [
       "{'loss': [], 'acc': []}"
      ]
     },
     "execution_count": 17,
     "metadata": {},
     "output_type": "execute_result"
    }
   ],
   "source": [
    "items = ['loss', 'acc']\n",
    "history_all = {}\n",
    "for item in items:\n",
    "    history_all[item] = []\n",
    "history_all"
   ]
  },
  {
   "cell_type": "code",
   "execution_count": 18,
   "id": "responsible-combination",
   "metadata": {},
   "outputs": [
    {
     "name": "stdout",
     "output_type": "stream",
     "text": [
      "1961/1961 [==============================] - 486s 248ms/step - loss: 6.6950 - acc: 0.1224\n",
      "INFO:tensorflow:Assets written to: model_final_without_weights_after_epoch_1/assets\n",
      "1961/1961 [==============================] - 483s 246ms/step - loss: 0.8926 - acc: 0.7753\n",
      "INFO:tensorflow:Assets written to: model_final_without_weights_after_epoch_2/assets\n",
      "1961/1961 [==============================] - 469s 239ms/step - loss: 0.3015 - acc: 0.9290\n",
      "INFO:tensorflow:Assets written to: model_final_without_weights_after_epoch_3/assets\n",
      "1961/1961 [==============================] - 471s 240ms/step - loss: 0.1685 - acc: 0.9620\n",
      "INFO:tensorflow:Assets written to: model_final_without_weights_after_epoch_4/assets\n",
      "1961/1961 [==============================] - 479s 244ms/step - loss: 0.1319 - acc: 0.9727\n",
      "INFO:tensorflow:Assets written to: model_final_without_weights_after_epoch_5/assets\n",
      "1961/1961 [==============================] - 475s 242ms/step - loss: 0.1147 - acc: 0.9756\n",
      "INFO:tensorflow:Assets written to: model_final_without_weights_after_epoch_6/assets\n",
      "1961/1961 [==============================] - 472s 241ms/step - loss: 0.1003 - acc: 0.9788\n",
      "INFO:tensorflow:Assets written to: model_final_without_weights_after_epoch_7/assets\n",
      "1961/1961 [==============================] - 464s 237ms/step - loss: 0.0901 - acc: 0.9815\n",
      "INFO:tensorflow:Assets written to: model_final_without_weights_after_epoch_8/assets\n",
      "1961/1961 [==============================] - 467s 238ms/step - loss: 0.1017 - acc: 0.9815\n",
      "INFO:tensorflow:Assets written to: model_final_without_weights_after_epoch_9/assets\n",
      "1961/1961 [==============================] - 463s 236ms/step - loss: 0.0989 - acc: 0.9822\n",
      "INFO:tensorflow:Assets written to: model_final_without_weights_after_epoch_10/assets\n",
      "1961/1961 [==============================] - 462s 236ms/step - loss: 0.0999 - acc: 0.9827\n",
      "INFO:tensorflow:Assets written to: model_final_without_weights_after_epoch_11/assets\n",
      "1961/1961 [==============================] - 462s 235ms/step - loss: 0.0988 - acc: 0.9820\n",
      "INFO:tensorflow:Assets written to: model_final_without_weights_after_epoch_12/assets\n",
      "1961/1961 [==============================] - 461s 235ms/step - loss: 0.1066 - acc: 0.9817\n",
      "INFO:tensorflow:Assets written to: model_final_without_weights_after_epoch_13/assets\n",
      "1961/1961 [==============================] - 462s 235ms/step - loss: 0.1002 - acc: 0.9834\n",
      "INFO:tensorflow:Assets written to: model_final_without_weights_after_epoch_14/assets\n",
      "1961/1961 [==============================] - 487s 248ms/step - loss: 0.1159 - acc: 0.9814\n",
      "INFO:tensorflow:Assets written to: model_final_without_weights_after_epoch_15/assets\n",
      "1961/1961 [==============================] - 483s 246ms/step - loss: 0.1108 - acc: 0.9816\n",
      "INFO:tensorflow:Assets written to: model_final_without_weights_after_epoch_16/assets\n",
      "1961/1961 [==============================] - 496s 253ms/step - loss: 0.1106 - acc: 0.9817\n",
      "INFO:tensorflow:Assets written to: model_final_without_weights_after_epoch_17/assets\n",
      "1961/1961 [==============================] - 497s 254ms/step - loss: 0.1365 - acc: 0.9799\n",
      "INFO:tensorflow:Assets written to: model_final_without_weights_after_epoch_18/assets\n",
      "1961/1961 [==============================] - 482s 246ms/step - loss: 0.1381 - acc: 0.9798\n",
      "INFO:tensorflow:Assets written to: model_final_without_weights_after_epoch_19/assets\n",
      "1961/1961 [==============================] - 527s 269ms/step - loss: 0.1341 - acc: 0.9813\n",
      "INFO:tensorflow:Assets written to: model_final_without_weights_after_epoch_20/assets\n",
      "1961/1961 [==============================] - 711s 362ms/step - loss: 0.1346 - acc: 0.9809\n",
      "INFO:tensorflow:Assets written to: model_final_without_weights_after_epoch_21/assets\n",
      "1961/1961 [==============================] - 702s 358ms/step - loss: 0.1286 - acc: 0.9821\n",
      "INFO:tensorflow:Assets written to: model_final_without_weights_after_epoch_22/assets\n",
      "1961/1961 [==============================] - 772s 394ms/step - loss: 0.1446 - acc: 0.9808\n",
      "INFO:tensorflow:Assets written to: model_final_without_weights_after_epoch_23/assets\n",
      "1961/1961 [==============================] - 772s 394ms/step - loss: 0.1518 - acc: 0.9812\n",
      "INFO:tensorflow:Assets written to: model_final_without_weights_after_epoch_24/assets\n",
      "1961/1961 [==============================] - 780s 398ms/step - loss: 0.1452 - acc: 0.9802\n",
      "INFO:tensorflow:Assets written to: model_final_without_weights_after_epoch_25/assets\n",
      "1961/1961 [==============================] - 659s 336ms/step - loss: 0.1586 - acc: 0.9809\n",
      "INFO:tensorflow:Assets written to: model_final_without_weights_after_epoch_26/assets\n",
      "1961/1961 [==============================] - 540s 275ms/step - loss: 0.1410 - acc: 0.9807\n",
      "INFO:tensorflow:Assets written to: model_final_without_weights_after_epoch_27/assets\n",
      "1961/1961 [==============================] - 514s 262ms/step - loss: 0.1311 - acc: 0.9835\n",
      "INFO:tensorflow:Assets written to: model_final_without_weights_after_epoch_28/assets\n",
      "1961/1961 [==============================] - 502s 256ms/step - loss: 0.1484 - acc: 0.9827\n",
      "INFO:tensorflow:Assets written to: model_final_without_weights_after_epoch_29/assets\n",
      "1961/1961 [==============================] - 486s 248ms/step - loss: 0.1562 - acc: 0.9814\n",
      "INFO:tensorflow:Assets written to: model_final_without_weights_after_epoch_30/assets\n"
     ]
    }
   ],
   "source": [
    "for i in range(30):\n",
    "    \n",
    "    history = model.fit(\n",
    "        train_generator,\n",
    "        epochs=1,\n",
    "        #validation_data=validation_generator,\n",
    "    )\n",
    "    \n",
    "    for item in items:\n",
    "        history_all[item].append(history.history[item][0])\n",
    "    \n",
    "    filename_model = 'model_final_without_weights_after_epoch_' + str(i+1)\n",
    "    model.save(filename_model)"
   ]
  },
  {
   "cell_type": "code",
   "execution_count": 19,
   "id": "wound-placement",
   "metadata": {},
   "outputs": [
    {
     "data": {
      "text/plain": [
       "{'loss': [3.4027109146118164,\n",
       "  0.892641544342041,\n",
       "  0.3014829456806183,\n",
       "  0.16853052377700806,\n",
       "  0.13191065192222595,\n",
       "  0.11468961834907532,\n",
       "  0.10032199323177338,\n",
       "  0.0900762751698494,\n",
       "  0.10165528953075409,\n",
       "  0.09890156239271164,\n",
       "  0.09989015012979507,\n",
       "  0.09875241667032242,\n",
       "  0.10663498938083649,\n",
       "  0.10022079944610596,\n",
       "  0.11589805036783218,\n",
       "  0.1107989251613617,\n",
       "  0.11062225699424744,\n",
       "  0.13650578260421753,\n",
       "  0.13805444538593292,\n",
       "  0.13413140177726746,\n",
       "  0.13459424674510956,\n",
       "  0.12857301533222198,\n",
       "  0.14463230967521667,\n",
       "  0.1517903208732605,\n",
       "  0.14522968232631683,\n",
       "  0.15858441591262817,\n",
       "  0.1410127580165863,\n",
       "  0.13110904395580292,\n",
       "  0.14842389523983002,\n",
       "  0.15623420476913452],\n",
       " 'acc': [0.27264147996902466,\n",
       "  0.7752811908721924,\n",
       "  0.9290469288825989,\n",
       "  0.9619730114936829,\n",
       "  0.972710371017456,\n",
       "  0.9756433367729187,\n",
       "  0.9787548780441284,\n",
       "  0.9814838171005249,\n",
       "  0.9814838171005249,\n",
       "  0.9822489619255066,\n",
       "  0.9827335476875305,\n",
       "  0.9820449352264404,\n",
       "  0.9816879034042358,\n",
       "  0.9834221601486206,\n",
       "  0.9813563227653503,\n",
       "  0.9815603494644165,\n",
       "  0.9817133545875549,\n",
       "  0.9799280762672424,\n",
       "  0.979775071144104,\n",
       "  0.9813053011894226,\n",
       "  0.9809227585792542,\n",
       "  0.9820704460144043,\n",
       "  0.9808207154273987,\n",
       "  0.981177806854248,\n",
       "  0.9802086353302002,\n",
       "  0.9808717370033264,\n",
       "  0.9806932210922241,\n",
       "  0.9835242033004761,\n",
       "  0.9827335476875305,\n",
       "  0.9813563227653503]}"
      ]
     },
     "execution_count": 19,
     "metadata": {},
     "output_type": "execute_result"
    }
   ],
   "source": [
    "history_all"
   ]
  },
  {
   "cell_type": "code",
   "execution_count": 20,
   "id": "tutorial-accordance",
   "metadata": {},
   "outputs": [],
   "source": [
    "df = pd.DataFrame(history_all)\n",
    "df.to_excel('history_final_without_weights.xlsx')"
   ]
  },
  {
   "cell_type": "markdown",
   "id": "exotic-immigration",
   "metadata": {},
   "source": [
    "## Define the final model with weights"
   ]
  },
  {
   "cell_type": "code",
   "execution_count": 22,
   "id": "under-chocolate",
   "metadata": {},
   "outputs": [
    {
     "name": "stdout",
     "output_type": "stream",
     "text": [
      "Class 0 : training set size = 211\n",
      "Class 1 : training set size = 2221\n",
      "Class 2 : training set size = 2251\n",
      "Class 3 : training set size = 1411\n",
      "Class 4 : training set size = 1981\n",
      "Class 5 : training set size = 1861\n",
      "Class 6 : training set size = 421\n",
      "Class 7 : training set size = 1441\n",
      "Class 8 : training set size = 1411\n",
      "Class 9 : training set size = 1471\n",
      "Class 10 : training set size = 2011\n",
      "Class 11 : training set size = 1321\n",
      "Class 12 : training set size = 2101\n",
      "Class 13 : training set size = 2161\n",
      "Class 14 : training set size = 781\n",
      "Class 15 : training set size = 631\n",
      "Class 16 : training set size = 421\n",
      "Class 17 : training set size = 1111\n",
      "Class 18 : training set size = 1201\n",
      "Class 19 : training set size = 211\n",
      "Class 20 : training set size = 361\n",
      "Class 21 : training set size = 331\n",
      "Class 22 : training set size = 391\n",
      "Class 23 : training set size = 511\n",
      "Class 24 : training set size = 271\n",
      "Class 25 : training set size = 1501\n",
      "Class 26 : training set size = 601\n",
      "Class 27 : training set size = 241\n",
      "Class 28 : training set size = 541\n",
      "Class 29 : training set size = 271\n",
      "Class 30 : training set size = 451\n",
      "Class 31 : training set size = 781\n",
      "Class 32 : training set size = 241\n",
      "Class 33 : training set size = 690\n",
      "Class 34 : training set size = 421\n",
      "Class 35 : training set size = 1201\n",
      "Class 36 : training set size = 391\n",
      "Class 37 : training set size = 211\n",
      "Class 38 : training set size = 2071\n",
      "Class 39 : training set size = 301\n",
      "Class 40 : training set size = 361\n",
      "Class 41 : training set size = 241\n",
      "Class 42 : training set size = 241\n"
     ]
    }
   ],
   "source": [
    "size_per_class_list = []\n",
    "\n",
    "for i in range(len(all_classes)):\n",
    "    size_per_class_list.append([len(os.listdir(train_dir + \"/\" + all_classes[i]))])\n",
    "    print(\"Class\", i, \": training set size =\", len(os.listdir(train_dir + \"/\" + all_classes[i])))"
   ]
  },
  {
   "cell_type": "code",
   "execution_count": 23,
   "id": "creative-defendant",
   "metadata": {},
   "outputs": [],
   "source": [
    "train_size_per_class = []\n",
    "\n",
    "for element in size_per_class_list:\n",
    "    train_size_per_class.append(element[0])\n",
    "    \n",
    "class_weights = {}\n",
    "\n",
    "i = 0\n",
    "for element in train_size_per_class:\n",
    "    class_weights[i] = max(train_size_per_class) / element\n",
    "    i += 1"
   ]
  },
  {
   "cell_type": "code",
   "execution_count": 24,
   "id": "southern-nerve",
   "metadata": {},
   "outputs": [
    {
     "data": {
      "text/plain": [
       "{0: 10.66824644549763,\n",
       " 1: 1.0135074290859973,\n",
       " 2: 1.0,\n",
       " 3: 1.595322466335932,\n",
       " 4: 1.1362948006057547,\n",
       " 5: 1.2095647501343363,\n",
       " 6: 5.346793349168646,\n",
       " 7: 1.5621096460791117,\n",
       " 8: 1.595322466335932,\n",
       " 9: 1.5302515295717198,\n",
       " 10: 1.119343610144207,\n",
       " 11: 1.704012112036336,\n",
       " 12: 1.0713945740123751,\n",
       " 13: 1.04164738546969,\n",
       " 14: 2.882202304737516,\n",
       " 15: 3.5673534072900157,\n",
       " 16: 5.346793349168646,\n",
       " 17: 2.026102610261026,\n",
       " 18: 1.8742714404662781,\n",
       " 19: 10.66824644549763,\n",
       " 20: 6.2354570637119116,\n",
       " 21: 6.80060422960725,\n",
       " 22: 5.757033248081841,\n",
       " 23: 4.405088062622309,\n",
       " 24: 8.306273062730627,\n",
       " 25: 1.4996668887408395,\n",
       " 26: 3.7454242928452577,\n",
       " 27: 9.340248962655602,\n",
       " 28: 4.160813308687615,\n",
       " 29: 8.306273062730627,\n",
       " 30: 4.991130820399113,\n",
       " 31: 2.882202304737516,\n",
       " 32: 9.340248962655602,\n",
       " 33: 3.2623188405797103,\n",
       " 34: 5.346793349168646,\n",
       " 35: 1.8742714404662781,\n",
       " 36: 5.757033248081841,\n",
       " 37: 10.66824644549763,\n",
       " 38: 1.0869145340415258,\n",
       " 39: 7.4784053156146175,\n",
       " 40: 6.2354570637119116,\n",
       " 41: 9.340248962655602,\n",
       " 42: 9.340248962655602}"
      ]
     },
     "execution_count": 24,
     "metadata": {},
     "output_type": "execute_result"
    }
   ],
   "source": [
    "class_weights"
   ]
  },
  {
   "cell_type": "code",
   "execution_count": 25,
   "id": "focal-vision",
   "metadata": {},
   "outputs": [
    {
     "name": "stdout",
     "output_type": "stream",
     "text": [
      "Model: \"sequential_1\"\n",
      "_________________________________________________________________\n",
      "Layer (type)                 Output Shape              Param #   \n",
      "=================================================================\n",
      "conv2d_3 (Conv2D)            (None, 98, 98, 32)        320       \n",
      "_________________________________________________________________\n",
      "max_pooling2d_3 (MaxPooling2 (None, 49, 49, 32)        0         \n",
      "_________________________________________________________________\n",
      "dropout_4 (Dropout)          (None, 49, 49, 32)        0         \n",
      "_________________________________________________________________\n",
      "conv2d_4 (Conv2D)            (None, 45, 45, 64)        51264     \n",
      "_________________________________________________________________\n",
      "max_pooling2d_4 (MaxPooling2 (None, 22, 22, 64)        0         \n",
      "_________________________________________________________________\n",
      "dropout_5 (Dropout)          (None, 22, 22, 64)        0         \n",
      "_________________________________________________________________\n",
      "conv2d_5 (Conv2D)            (None, 16, 16, 128)       401536    \n",
      "_________________________________________________________________\n",
      "max_pooling2d_5 (MaxPooling2 (None, 8, 8, 128)         0         \n",
      "_________________________________________________________________\n",
      "dropout_6 (Dropout)          (None, 8, 8, 128)         0         \n",
      "_________________________________________________________________\n",
      "flatten_1 (Flatten)          (None, 8192)              0         \n",
      "_________________________________________________________________\n",
      "dense_2 (Dense)              (None, 512)               4194816   \n",
      "_________________________________________________________________\n",
      "dropout_7 (Dropout)          (None, 512)               0         \n",
      "_________________________________________________________________\n",
      "dense_3 (Dense)              (None, 43)                22059     \n",
      "=================================================================\n",
      "Total params: 4,669,995\n",
      "Trainable params: 4,669,995\n",
      "Non-trainable params: 0\n",
      "_________________________________________________________________\n"
     ]
    }
   ],
   "source": [
    "from tensorflow.keras import layers\n",
    "from tensorflow.keras import models\n",
    "\n",
    "model = models.Sequential()\n",
    "model.add(layers.Conv2D(32, (3, 3), activation='relu', input_shape=(100, 100, 1)))\n",
    "model.add(layers.MaxPooling2D((2, 2), strides=2))\n",
    "model.add(layers.Dropout(0.1))\n",
    "model.add(layers.Conv2D(64, (5, 5), activation='relu'))\n",
    "model.add(layers.MaxPooling2D((2, 2), strides=2))\n",
    "model.add(layers.Dropout(0.15))\n",
    "model.add(layers.Conv2D(128, (7, 7), activation='relu'))\n",
    "model.add(layers.MaxPooling2D((2, 2), strides=2 ))\n",
    "model.add(layers.Dropout(0.15))\n",
    "model.add(layers.Flatten())\n",
    "model.add(layers.Dense(512, activation='relu'))\n",
    "model.add(layers.Dropout(0.4))\n",
    "model.add(layers.Dense (43, activation='softmax'))\n",
    "\n",
    "model.summary()"
   ]
  },
  {
   "cell_type": "code",
   "execution_count": 26,
   "id": "applicable-niger",
   "metadata": {},
   "outputs": [],
   "source": [
    "from tensorflow.keras import optimizers\n",
    "\n",
    "#compilation\n",
    "model.compile(loss=\"categorical_crossentropy\", optimizer=optimizers.RMSprop(lr=1e-4), metrics=[\"acc\"])"
   ]
  },
  {
   "cell_type": "markdown",
   "id": "sexual-standing",
   "metadata": {},
   "source": [
    "## Train the final model with weights"
   ]
  },
  {
   "cell_type": "code",
   "execution_count": 27,
   "id": "demanding-baghdad",
   "metadata": {},
   "outputs": [
    {
     "data": {
      "text/plain": [
       "{'loss': [], 'acc': []}"
      ]
     },
     "execution_count": 27,
     "metadata": {},
     "output_type": "execute_result"
    }
   ],
   "source": [
    "items = ['loss', 'acc']\n",
    "history_all = {}\n",
    "for item in items:\n",
    "    history_all[item] = []\n",
    "history_all"
   ]
  },
  {
   "cell_type": "code",
   "execution_count": null,
   "id": "elect-doubt",
   "metadata": {},
   "outputs": [
    {
     "name": "stdout",
     "output_type": "stream",
     "text": [
      "1961/1961 [==============================] - 495s 252ms/step - loss: 21.1466 - acc: 0.0393\n",
      "INFO:tensorflow:Assets written to: model_final_with_weights_after_epoch_1/assets\n",
      "1961/1961 [==============================] - 729s 372ms/step - loss: 9.3521 - acc: 0.0658\n",
      "INFO:tensorflow:Assets written to: model_final_with_weights_after_epoch_2/assets\n",
      "1961/1961 [==============================] - 848s 432ms/step - loss: 7.9908 - acc: 0.2301\n",
      "INFO:tensorflow:Assets written to: model_final_with_weights_after_epoch_3/assets\n",
      "1961/1961 [==============================] - 844s 431ms/step - loss: 5.6434 - acc: 0.4441\n",
      "INFO:tensorflow:Assets written to: model_final_with_weights_after_epoch_4/assets\n",
      "1961/1961 [==============================] - 854s 435ms/step - loss: 3.4886 - acc: 0.6341\n",
      "INFO:tensorflow:Assets written to: model_final_with_weights_after_epoch_5/assets\n",
      "1961/1961 [==============================] - 605s 308ms/step - loss: 1.5677 - acc: 0.8358\n",
      "INFO:tensorflow:Assets written to: model_final_with_weights_after_epoch_6/assets\n",
      "1961/1961 [==============================] - 560s 285ms/step - loss: 0.9595 - acc: 0.9073\n",
      "INFO:tensorflow:Assets written to: model_final_with_weights_after_epoch_7/assets\n",
      "1961/1961 [==============================] - 551s 281ms/step - loss: 0.7195 - acc: 0.9292\n",
      "INFO:tensorflow:Assets written to: model_final_with_weights_after_epoch_8/assets\n",
      "1961/1961 [==============================] - 512s 261ms/step - loss: 0.6736 - acc: 0.9369\n",
      "INFO:tensorflow:Assets written to: model_final_with_weights_after_epoch_9/assets\n",
      "1961/1961 [==============================] - 491s 251ms/step - loss: 0.6266 - acc: 0.9454\n",
      "INFO:tensorflow:Assets written to: model_final_with_weights_after_epoch_10/assets\n",
      "1961/1961 [==============================] - 494s 252ms/step - loss: 0.6375 - acc: 0.9463\n",
      "INFO:tensorflow:Assets written to: model_final_with_weights_after_epoch_11/assets\n",
      "1961/1961 [==============================] - 496s 253ms/step - loss: 0.6242 - acc: 0.9500\n",
      "INFO:tensorflow:Assets written to: model_final_with_weights_after_epoch_12/assets\n",
      "1961/1961 [==============================] - 503s 257ms/step - loss: 0.5473 - acc: 0.9525\n",
      "INFO:tensorflow:Assets written to: model_final_with_weights_after_epoch_13/assets\n",
      "1961/1961 [==============================] - 533s 272ms/step - loss: 0.6169 - acc: 0.9522\n",
      "INFO:tensorflow:Assets written to: model_final_with_weights_after_epoch_14/assets\n",
      "1961/1961 [==============================] - 515s 262ms/step - loss: 0.6381 - acc: 0.9512\n",
      "INFO:tensorflow:Assets written to: model_final_with_weights_after_epoch_15/assets\n",
      "1961/1961 [==============================] - 505s 258ms/step - loss: 0.5929 - acc: 0.9534\n",
      "INFO:tensorflow:Assets written to: model_final_with_weights_after_epoch_16/assets\n",
      "1961/1961 [==============================] - 500s 255ms/step - loss: 0.6821 - acc: 0.9499\n",
      "INFO:tensorflow:Assets written to: model_final_with_weights_after_epoch_17/assets\n",
      "1961/1961 [==============================] - 501s 256ms/step - loss: 0.6919 - acc: 0.9513\n",
      "INFO:tensorflow:Assets written to: model_final_with_weights_after_epoch_18/assets\n",
      " 831/1961 [===========>..................] - ETA: 4:58 - loss: 0.7572 - acc: 0.9461"
     ]
    }
   ],
   "source": [
    "for i in range(30):\n",
    "    \n",
    "    history = model.fit(\n",
    "        train_generator,\n",
    "        epochs=1,\n",
    "        #validation_data=validation_generator,\n",
    "        class_weight=class_weights\n",
    "    )\n",
    "    \n",
    "    for item in items:\n",
    "        history_all[item].append(history.history[item][0])\n",
    "    \n",
    "    filename_model = 'model_final_with_weights_after_epoch_' + str(i+1)\n",
    "    model.save(filename_model)"
   ]
  },
  {
   "cell_type": "code",
   "execution_count": null,
   "id": "instructional-pattern",
   "metadata": {},
   "outputs": [],
   "source": [
    "history_all"
   ]
  },
  {
   "cell_type": "code",
   "execution_count": null,
   "id": "equal-monitor",
   "metadata": {},
   "outputs": [],
   "source": [
    "df = pd.DataFrame(history_all)\n",
    "df.to_excel('history_final_with_weights.xlsx')"
   ]
  },
  {
   "cell_type": "code",
   "execution_count": null,
   "id": "ignored-calvin",
   "metadata": {},
   "outputs": [],
   "source": []
  },
  {
   "cell_type": "code",
   "execution_count": null,
   "id": "favorite-baseball",
   "metadata": {},
   "outputs": [],
   "source": []
  },
  {
   "cell_type": "code",
   "execution_count": null,
   "id": "velvet-reconstruction",
   "metadata": {},
   "outputs": [],
   "source": []
  },
  {
   "cell_type": "code",
   "execution_count": null,
   "id": "worthy-moldova",
   "metadata": {},
   "outputs": [],
   "source": []
  },
  {
   "cell_type": "code",
   "execution_count": null,
   "id": "authorized-library",
   "metadata": {},
   "outputs": [],
   "source": []
  },
  {
   "cell_type": "code",
   "execution_count": null,
   "id": "grand-terminology",
   "metadata": {},
   "outputs": [],
   "source": []
  },
  {
   "cell_type": "code",
   "execution_count": null,
   "id": "incident-variation",
   "metadata": {},
   "outputs": [],
   "source": []
  },
  {
   "cell_type": "code",
   "execution_count": null,
   "id": "special-struggle",
   "metadata": {},
   "outputs": [],
   "source": [
    "#Displaying curves of loss and accuracy during training\n",
    "\n",
    "import matplotlib.pyplot as plt\n",
    "\n",
    "acc = history.history[\"acc\"]\n",
    "val_acc = history.history[\"val_acc\"]\n",
    "loss = history.history[\"loss\"]\n",
    "val_loss = history.history[\"val_loss\"]\n",
    "\n",
    "epochs = range(1, len(acc) + 1)\n",
    "\n",
    "plt.plot(epochs, acc, \"bo\", label=\"Training acc\")\n",
    "plt.plot(epochs, val_acc, \"b\", label=\"Validation acc\")\n",
    "plt.title(\"Training and validation accuracy\")\n",
    "plt.legend()\n",
    "\n",
    "plt.show()\n",
    "\n",
    "plt.plot(epochs, loss, \"bo\", label=\"Training loss\")\n",
    "plt.plot(epochs, val_loss, \"b\", label=\"Validation loss\")\n",
    "plt.title(\"Training and validation loss\")\n",
    "plt.legend()\n",
    "\n",
    "plt.show()"
   ]
  },
  {
   "cell_type": "code",
   "execution_count": null,
   "id": "hydraulic-beatles",
   "metadata": {},
   "outputs": [],
   "source": []
  }
 ],
 "metadata": {
  "kernelspec": {
   "display_name": "Python 3",
   "language": "python",
   "name": "python3"
  },
  "language_info": {
   "codemirror_mode": {
    "name": "ipython",
    "version": 3
   },
   "file_extension": ".py",
   "mimetype": "text/x-python",
   "name": "python",
   "nbconvert_exporter": "python",
   "pygments_lexer": "ipython3",
   "version": "3.8.5"
  }
 },
 "nbformat": 4,
 "nbformat_minor": 5
}

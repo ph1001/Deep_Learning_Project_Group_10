{
 "cells": [
  {
   "cell_type": "markdown",
   "id": "vulnerable-series",
   "metadata": {},
   "source": [
    "# Deep Learning Project - Template for test accuracy"
   ]
  },
  {
   "cell_type": "code",
   "execution_count": 1,
   "id": "bound-domestic",
   "metadata": {},
   "outputs": [],
   "source": [
    "import numpy as np\n",
    "import pandas as pd\n",
    "import keras\n",
    "from keras.preprocessing.image import ImageDataGenerator\n",
    "from sklearn.metrics import confusion_matrix\n",
    "from sklearn.metrics import accuracy_score\n",
    "import os\n",
    "import matplotlib.pyplot as plt"
   ]
  },
  {
   "cell_type": "markdown",
   "id": "bacterial-muslim",
   "metadata": {},
   "source": [
    "## Visualising the class distribution of the test set"
   ]
  },
  {
   "cell_type": "code",
   "execution_count": 2,
   "id": "cooked-finder",
   "metadata": {},
   "outputs": [
    {
     "data": {
      "text/html": [
       "<div>\n",
       "<style scoped>\n",
       "    .dataframe tbody tr th:only-of-type {\n",
       "        vertical-align: middle;\n",
       "    }\n",
       "\n",
       "    .dataframe tbody tr th {\n",
       "        vertical-align: top;\n",
       "    }\n",
       "\n",
       "    .dataframe thead th {\n",
       "        text-align: right;\n",
       "    }\n",
       "</style>\n",
       "<table border=\"1\" class=\"dataframe\">\n",
       "  <thead>\n",
       "    <tr style=\"text-align: right;\">\n",
       "      <th></th>\n",
       "      <th>Filename</th>\n",
       "      <th>Width</th>\n",
       "      <th>Height</th>\n",
       "      <th>Roi.X1</th>\n",
       "      <th>Roi.Y1</th>\n",
       "      <th>Roi.X2</th>\n",
       "      <th>Roi.Y2</th>\n",
       "      <th>ClassId</th>\n",
       "    </tr>\n",
       "  </thead>\n",
       "  <tbody>\n",
       "    <tr>\n",
       "      <th>0</th>\n",
       "      <td>00000.ppm</td>\n",
       "      <td>53</td>\n",
       "      <td>54</td>\n",
       "      <td>6</td>\n",
       "      <td>5</td>\n",
       "      <td>48</td>\n",
       "      <td>49</td>\n",
       "      <td>16</td>\n",
       "    </tr>\n",
       "    <tr>\n",
       "      <th>1</th>\n",
       "      <td>00001.ppm</td>\n",
       "      <td>42</td>\n",
       "      <td>45</td>\n",
       "      <td>5</td>\n",
       "      <td>5</td>\n",
       "      <td>36</td>\n",
       "      <td>40</td>\n",
       "      <td>1</td>\n",
       "    </tr>\n",
       "    <tr>\n",
       "      <th>2</th>\n",
       "      <td>00002.ppm</td>\n",
       "      <td>48</td>\n",
       "      <td>52</td>\n",
       "      <td>6</td>\n",
       "      <td>6</td>\n",
       "      <td>43</td>\n",
       "      <td>47</td>\n",
       "      <td>38</td>\n",
       "    </tr>\n",
       "    <tr>\n",
       "      <th>3</th>\n",
       "      <td>00003.ppm</td>\n",
       "      <td>27</td>\n",
       "      <td>29</td>\n",
       "      <td>5</td>\n",
       "      <td>5</td>\n",
       "      <td>22</td>\n",
       "      <td>24</td>\n",
       "      <td>33</td>\n",
       "    </tr>\n",
       "    <tr>\n",
       "      <th>4</th>\n",
       "      <td>00004.ppm</td>\n",
       "      <td>60</td>\n",
       "      <td>57</td>\n",
       "      <td>5</td>\n",
       "      <td>5</td>\n",
       "      <td>55</td>\n",
       "      <td>52</td>\n",
       "      <td>11</td>\n",
       "    </tr>\n",
       "    <tr>\n",
       "      <th>...</th>\n",
       "      <td>...</td>\n",
       "      <td>...</td>\n",
       "      <td>...</td>\n",
       "      <td>...</td>\n",
       "      <td>...</td>\n",
       "      <td>...</td>\n",
       "      <td>...</td>\n",
       "      <td>...</td>\n",
       "    </tr>\n",
       "    <tr>\n",
       "      <th>12625</th>\n",
       "      <td>12625.ppm</td>\n",
       "      <td>42</td>\n",
       "      <td>41</td>\n",
       "      <td>5</td>\n",
       "      <td>6</td>\n",
       "      <td>37</td>\n",
       "      <td>36</td>\n",
       "      <td>12</td>\n",
       "    </tr>\n",
       "    <tr>\n",
       "      <th>12626</th>\n",
       "      <td>12626.ppm</td>\n",
       "      <td>50</td>\n",
       "      <td>51</td>\n",
       "      <td>6</td>\n",
       "      <td>5</td>\n",
       "      <td>45</td>\n",
       "      <td>46</td>\n",
       "      <td>33</td>\n",
       "    </tr>\n",
       "    <tr>\n",
       "      <th>12627</th>\n",
       "      <td>12627.ppm</td>\n",
       "      <td>29</td>\n",
       "      <td>29</td>\n",
       "      <td>6</td>\n",
       "      <td>6</td>\n",
       "      <td>24</td>\n",
       "      <td>24</td>\n",
       "      <td>6</td>\n",
       "    </tr>\n",
       "    <tr>\n",
       "      <th>12628</th>\n",
       "      <td>12628.ppm</td>\n",
       "      <td>48</td>\n",
       "      <td>49</td>\n",
       "      <td>5</td>\n",
       "      <td>6</td>\n",
       "      <td>43</td>\n",
       "      <td>44</td>\n",
       "      <td>7</td>\n",
       "    </tr>\n",
       "    <tr>\n",
       "      <th>12629</th>\n",
       "      <td>12629.ppm</td>\n",
       "      <td>32</td>\n",
       "      <td>31</td>\n",
       "      <td>6</td>\n",
       "      <td>5</td>\n",
       "      <td>27</td>\n",
       "      <td>26</td>\n",
       "      <td>10</td>\n",
       "    </tr>\n",
       "  </tbody>\n",
       "</table>\n",
       "<p>12630 rows × 8 columns</p>\n",
       "</div>"
      ],
      "text/plain": [
       "        Filename  Width  Height  Roi.X1  Roi.Y1  Roi.X2  Roi.Y2  ClassId\n",
       "0      00000.ppm     53      54       6       5      48      49       16\n",
       "1      00001.ppm     42      45       5       5      36      40        1\n",
       "2      00002.ppm     48      52       6       6      43      47       38\n",
       "3      00003.ppm     27      29       5       5      22      24       33\n",
       "4      00004.ppm     60      57       5       5      55      52       11\n",
       "...          ...    ...     ...     ...     ...     ...     ...      ...\n",
       "12625  12625.ppm     42      41       5       6      37      36       12\n",
       "12626  12626.ppm     50      51       6       5      45      46       33\n",
       "12627  12627.ppm     29      29       6       6      24      24        6\n",
       "12628  12628.ppm     48      49       5       6      43      44        7\n",
       "12629  12629.ppm     32      31       6       5      27      26       10\n",
       "\n",
       "[12630 rows x 8 columns]"
      ]
     },
     "execution_count": 2,
     "metadata": {},
     "output_type": "execute_result"
    }
   ],
   "source": [
    "gt_test = pd.read_csv('/Users/philippmetzger/Documents/GitHub/Deep_Learning_Project_Group_10/Data/Test Folder/gt_test.csv', delimiter = ';')\n",
    "gt_test"
   ]
  },
  {
   "cell_type": "code",
   "execution_count": 3,
   "id": "emotional-execution",
   "metadata": {},
   "outputs": [
    {
     "data": {
      "text/html": [
       "<div>\n",
       "<style scoped>\n",
       "    .dataframe tbody tr th:only-of-type {\n",
       "        vertical-align: middle;\n",
       "    }\n",
       "\n",
       "    .dataframe tbody tr th {\n",
       "        vertical-align: top;\n",
       "    }\n",
       "\n",
       "    .dataframe thead th {\n",
       "        text-align: right;\n",
       "    }\n",
       "</style>\n",
       "<table border=\"1\" class=\"dataframe\">\n",
       "  <thead>\n",
       "    <tr style=\"text-align: right;\">\n",
       "      <th></th>\n",
       "      <th>class</th>\n",
       "      <th>count</th>\n",
       "    </tr>\n",
       "  </thead>\n",
       "  <tbody>\n",
       "    <tr>\n",
       "      <th>37</th>\n",
       "      <td>0</td>\n",
       "      <td>60</td>\n",
       "    </tr>\n",
       "    <tr>\n",
       "      <th>1</th>\n",
       "      <td>1</td>\n",
       "      <td>720</td>\n",
       "    </tr>\n",
       "    <tr>\n",
       "      <th>0</th>\n",
       "      <td>2</td>\n",
       "      <td>750</td>\n",
       "    </tr>\n",
       "    <tr>\n",
       "      <th>11</th>\n",
       "      <td>3</td>\n",
       "      <td>450</td>\n",
       "    </tr>\n",
       "    <tr>\n",
       "      <th>6</th>\n",
       "      <td>4</td>\n",
       "      <td>660</td>\n",
       "    </tr>\n",
       "    <tr>\n",
       "      <th>7</th>\n",
       "      <td>5</td>\n",
       "      <td>630</td>\n",
       "    </tr>\n",
       "    <tr>\n",
       "      <th>22</th>\n",
       "      <td>6</td>\n",
       "      <td>150</td>\n",
       "    </tr>\n",
       "    <tr>\n",
       "      <th>12</th>\n",
       "      <td>7</td>\n",
       "      <td>450</td>\n",
       "    </tr>\n",
       "    <tr>\n",
       "      <th>10</th>\n",
       "      <td>8</td>\n",
       "      <td>450</td>\n",
       "    </tr>\n",
       "    <tr>\n",
       "      <th>8</th>\n",
       "      <td>9</td>\n",
       "      <td>480</td>\n",
       "    </tr>\n",
       "    <tr>\n",
       "      <th>5</th>\n",
       "      <td>10</td>\n",
       "      <td>660</td>\n",
       "    </tr>\n",
       "    <tr>\n",
       "      <th>13</th>\n",
       "      <td>11</td>\n",
       "      <td>420</td>\n",
       "    </tr>\n",
       "    <tr>\n",
       "      <th>4</th>\n",
       "      <td>12</td>\n",
       "      <td>690</td>\n",
       "    </tr>\n",
       "    <tr>\n",
       "      <th>2</th>\n",
       "      <td>13</td>\n",
       "      <td>720</td>\n",
       "    </tr>\n",
       "    <tr>\n",
       "      <th>18</th>\n",
       "      <td>14</td>\n",
       "      <td>270</td>\n",
       "    </tr>\n",
       "    <tr>\n",
       "      <th>19</th>\n",
       "      <td>15</td>\n",
       "      <td>210</td>\n",
       "    </tr>\n",
       "    <tr>\n",
       "      <th>26</th>\n",
       "      <td>16</td>\n",
       "      <td>150</td>\n",
       "    </tr>\n",
       "    <tr>\n",
       "      <th>16</th>\n",
       "      <td>17</td>\n",
       "      <td>360</td>\n",
       "    </tr>\n",
       "    <tr>\n",
       "      <th>14</th>\n",
       "      <td>18</td>\n",
       "      <td>390</td>\n",
       "    </tr>\n",
       "    <tr>\n",
       "      <th>39</th>\n",
       "      <td>19</td>\n",
       "      <td>60</td>\n",
       "    </tr>\n",
       "    <tr>\n",
       "      <th>30</th>\n",
       "      <td>20</td>\n",
       "      <td>90</td>\n",
       "    </tr>\n",
       "    <tr>\n",
       "      <th>32</th>\n",
       "      <td>21</td>\n",
       "      <td>90</td>\n",
       "    </tr>\n",
       "    <tr>\n",
       "      <th>29</th>\n",
       "      <td>22</td>\n",
       "      <td>120</td>\n",
       "    </tr>\n",
       "    <tr>\n",
       "      <th>25</th>\n",
       "      <td>23</td>\n",
       "      <td>150</td>\n",
       "    </tr>\n",
       "    <tr>\n",
       "      <th>35</th>\n",
       "      <td>24</td>\n",
       "      <td>90</td>\n",
       "    </tr>\n",
       "    <tr>\n",
       "      <th>9</th>\n",
       "      <td>25</td>\n",
       "      <td>480</td>\n",
       "    </tr>\n",
       "    <tr>\n",
       "      <th>21</th>\n",
       "      <td>26</td>\n",
       "      <td>180</td>\n",
       "    </tr>\n",
       "    <tr>\n",
       "      <th>42</th>\n",
       "      <td>27</td>\n",
       "      <td>60</td>\n",
       "    </tr>\n",
       "    <tr>\n",
       "      <th>23</th>\n",
       "      <td>28</td>\n",
       "      <td>150</td>\n",
       "    </tr>\n",
       "    <tr>\n",
       "      <th>33</th>\n",
       "      <td>29</td>\n",
       "      <td>90</td>\n",
       "    </tr>\n",
       "    <tr>\n",
       "      <th>24</th>\n",
       "      <td>30</td>\n",
       "      <td>150</td>\n",
       "    </tr>\n",
       "    <tr>\n",
       "      <th>17</th>\n",
       "      <td>31</td>\n",
       "      <td>270</td>\n",
       "    </tr>\n",
       "    <tr>\n",
       "      <th>41</th>\n",
       "      <td>32</td>\n",
       "      <td>60</td>\n",
       "    </tr>\n",
       "    <tr>\n",
       "      <th>20</th>\n",
       "      <td>33</td>\n",
       "      <td>210</td>\n",
       "    </tr>\n",
       "    <tr>\n",
       "      <th>28</th>\n",
       "      <td>34</td>\n",
       "      <td>120</td>\n",
       "    </tr>\n",
       "    <tr>\n",
       "      <th>15</th>\n",
       "      <td>35</td>\n",
       "      <td>390</td>\n",
       "    </tr>\n",
       "    <tr>\n",
       "      <th>27</th>\n",
       "      <td>36</td>\n",
       "      <td>120</td>\n",
       "    </tr>\n",
       "    <tr>\n",
       "      <th>38</th>\n",
       "      <td>37</td>\n",
       "      <td>60</td>\n",
       "    </tr>\n",
       "    <tr>\n",
       "      <th>3</th>\n",
       "      <td>38</td>\n",
       "      <td>690</td>\n",
       "    </tr>\n",
       "    <tr>\n",
       "      <th>36</th>\n",
       "      <td>39</td>\n",
       "      <td>90</td>\n",
       "    </tr>\n",
       "    <tr>\n",
       "      <th>34</th>\n",
       "      <td>40</td>\n",
       "      <td>90</td>\n",
       "    </tr>\n",
       "    <tr>\n",
       "      <th>40</th>\n",
       "      <td>41</td>\n",
       "      <td>60</td>\n",
       "    </tr>\n",
       "    <tr>\n",
       "      <th>31</th>\n",
       "      <td>42</td>\n",
       "      <td>90</td>\n",
       "    </tr>\n",
       "  </tbody>\n",
       "</table>\n",
       "</div>"
      ],
      "text/plain": [
       "    class  count\n",
       "37      0     60\n",
       "1       1    720\n",
       "0       2    750\n",
       "11      3    450\n",
       "6       4    660\n",
       "7       5    630\n",
       "22      6    150\n",
       "12      7    450\n",
       "10      8    450\n",
       "8       9    480\n",
       "5      10    660\n",
       "13     11    420\n",
       "4      12    690\n",
       "2      13    720\n",
       "18     14    270\n",
       "19     15    210\n",
       "26     16    150\n",
       "16     17    360\n",
       "14     18    390\n",
       "39     19     60\n",
       "30     20     90\n",
       "32     21     90\n",
       "29     22    120\n",
       "25     23    150\n",
       "35     24     90\n",
       "9      25    480\n",
       "21     26    180\n",
       "42     27     60\n",
       "23     28    150\n",
       "33     29     90\n",
       "24     30    150\n",
       "17     31    270\n",
       "41     32     60\n",
       "20     33    210\n",
       "28     34    120\n",
       "15     35    390\n",
       "27     36    120\n",
       "38     37     60\n",
       "3      38    690\n",
       "36     39     90\n",
       "34     40     90\n",
       "40     41     60\n",
       "31     42     90"
      ]
     },
     "execution_count": 3,
     "metadata": {},
     "output_type": "execute_result"
    }
   ],
   "source": [
    "# Retrieve last column\n",
    "class_ids = gt_test['ClassId']\n",
    "# Count and rename\n",
    "class_counts = class_ids.value_counts().reset_index().rename(columns={'index':'class', 'ClassId':'count'})\n",
    "# Sort\n",
    "class_counts.sort_values(by='class', axis=0)"
   ]
  },
  {
   "cell_type": "code",
   "execution_count": 4,
   "id": "legitimate-citizenship",
   "metadata": {},
   "outputs": [
    {
     "data": {
      "image/png": "[encoded data removed]",
      "text/plain": [
       "<Figure size 1440x576 with 1 Axes>"
      ]
     },
     "metadata": {
      "needs_background": "light"
     },
     "output_type": "display_data"
    }
   ],
   "source": [
    "#displaying the number of images per class visually\n",
    "\n",
    "plt.rcParams[\"figure.figsize\"] = (20,8)\n",
    "fig, ax = plt.subplots()\n",
    "plt.bar(class_counts['class'], class_counts['count'])\n",
    "plt.title(\"Number of images per class\", fontsize=20)\n",
    "plt.xlabel('class', fontsize=18)\n",
    "plt.ylabel('number of images', fontsize=18)\n",
    "ax.spines['right'].set_visible(False)\n",
    "ax.spines['top'].set_visible(False)\n",
    "plt.xticks(class_counts['class'])\n",
    "plt.grid(axis=\"y\")\n",
    "plt.show()"
   ]
  },
  {
   "cell_type": "markdown",
   "id": "partial-spice",
   "metadata": {},
   "source": [
    "## Predicting test set images"
   ]
  },
  {
   "cell_type": "markdown",
   "id": "nonprofit-cross",
   "metadata": {},
   "source": [
    "### model_all_data_3ConvLayers_down_changed_architecture_100_100_16to30"
   ]
  },
  {
   "cell_type": "markdown",
   "id": "excited-package",
   "metadata": {},
   "source": [
    "#### For model that was trained for 30 epochs"
   ]
  },
  {
   "cell_type": "code",
   "execution_count": 36,
   "id": "uniform-carry",
   "metadata": {},
   "outputs": [],
   "source": [
    "# Load a saved model\n",
    "model = keras.models.load_model('model_all_data_3ConvLayers_down_changed_architecture_100_100_16to30')"
   ]
  },
  {
   "cell_type": "code",
   "execution_count": 37,
   "id": "commercial-technical",
   "metadata": {},
   "outputs": [],
   "source": [
    "# test_dir = \"/Users/franz/Desktop/DL Project/Test Folder/\"\n",
    "test_dir = '/Users/philippmetzger/Documents/GitHub/Deep_Learning_Project_Group_10/Data/Test Folder'"
   ]
  },
  {
   "cell_type": "markdown",
   "id": "typical-greene",
   "metadata": {},
   "source": [
    "##### Normalization"
   ]
  },
  {
   "cell_type": "code",
   "execution_count": 38,
   "id": "artistic-merchant",
   "metadata": {},
   "outputs": [
    {
     "name": "stdout",
     "output_type": "stream",
     "text": [
      "Found 12630 images belonging to 1 classes.\n"
     ]
    }
   ],
   "source": [
    "from tensorflow.keras.preprocessing.image import ImageDataGenerator\n",
    "\n",
    "test_datagen = ImageDataGenerator(rescale=1./255)\n",
    "\n",
    "test_generator = test_datagen.flow_from_directory(\n",
    "    test_dir,\n",
    "    target_size=(100,100),\n",
    "    batch_size=20,\n",
    "    shuffle=False,\n",
    "    #class_mode=None,\n",
    "    class_mode=\"categorical\",\n",
    "    color_mode=\"grayscale\"\n",
    "    )\n",
    "\n",
    "x_test=np.concatenate([test_generator.next()[0] for i in range(test_generator.__len__())])\n",
    "\n",
    "test_datagen = ImageDataGenerator(featurewise_center=True, featurewise_std_normalization=True)\n",
    "\n",
    "test_datagen.fit(x_test)"
   ]
  },
  {
   "cell_type": "markdown",
   "id": "hybrid-hygiene",
   "metadata": {},
   "source": [
    "##### Re-Creating the generators with the normalized image data"
   ]
  },
  {
   "cell_type": "code",
   "execution_count": 39,
   "id": "amended-investing",
   "metadata": {},
   "outputs": [
    {
     "name": "stdout",
     "output_type": "stream",
     "text": [
      "Found 12630 images belonging to 1 classes.\n"
     ]
    },
    {
     "name": "stderr",
     "output_type": "stream",
     "text": [
      "/Users/philippmetzger/anaconda3/envs/dl_pip_2/lib/python3.8/site-packages/tensorflow/python/keras/engine/training.py:1905: UserWarning: `Model.predict_generator` is deprecated and will be removed in a future version. Please use `Model.predict`, which supports generators.\n",
      "  warnings.warn('`Model.predict_generator` is deprecated and '\n"
     ]
    }
   ],
   "source": [
    "test_generator = test_datagen.flow_from_directory(\n",
    "        test_dir,\n",
    "        target_size=(100, 100),\n",
    "        batch_size=20,\n",
    "        shuffle=False,\n",
    "        color_mode=\"grayscale\",\n",
    "        class_mode=None)\n",
    "\n",
    "test_generator.reset() \n",
    "pred_scores = model.predict_generator(test_generator)\n",
    "class_pred = np.argmax(pred_scores, axis=-1)"
   ]
  },
  {
   "cell_type": "code",
   "execution_count": 41,
   "id": "successful-america",
   "metadata": {},
   "outputs": [
    {
     "data": {
      "text/plain": [
       "array([16,  1, 38, ...,  5,  7, 10])"
      ]
     },
     "execution_count": 41,
     "metadata": {},
     "output_type": "execute_result"
    }
   ],
   "source": [
    "class_pred"
   ]
  },
  {
   "cell_type": "code",
   "execution_count": 42,
   "id": "indirect-coach",
   "metadata": {},
   "outputs": [
    {
     "data": {
      "text/plain": [
       "array([16,  1, 38, 33, 11, 18, 12, 25, 35,  7, 23,  5,  4,  9, 21, 20, 27,\n",
       "        3, 13, 10, 17, 34,  2,  8, 30, 24, 31, 15, 26, 28, 22, 14, 32,  6,\n",
       "       36, 40, 41, 29, 19,  0, 39, 42, 37])"
      ]
     },
     "execution_count": 42,
     "metadata": {},
     "output_type": "execute_result"
    }
   ],
   "source": [
    "pd.unique(class_pred)"
   ]
  },
  {
   "cell_type": "code",
   "execution_count": 43,
   "id": "marked-supervision",
   "metadata": {},
   "outputs": [
    {
     "name": "stdout",
     "output_type": "stream",
     "text": [
      "Test set accuracy: 0.9487727632620744\n"
     ]
    }
   ],
   "source": [
    "# Get the true values and compute accuracy\n",
    "\n",
    "class_true = pd.read_csv(\"/Users/philippmetzger/Documents/GitHub/Deep_Learning_Project_Group_10/Data/Test Folder/gt_test.csv\", \";\")[\"ClassId\"]\n",
    "\n",
    "print(\"Test set accuracy:\", accuracy_score(class_pred, class_true))"
   ]
  },
  {
   "cell_type": "code",
   "execution_count": 44,
   "id": "characteristic-continent",
   "metadata": {},
   "outputs": [],
   "source": [
    "# Compute confusion matrix\n",
    "\n",
    "#!pip install git+http://github.com/scikit-learn/scikit-learn.git\n",
    "\n",
    "# multilabel_confusion_matrix(class_pred, class_true)\n",
    "cm = pd.DataFrame(confusion_matrix(class_true, class_pred))"
   ]
  },
  {
   "cell_type": "code",
   "execution_count": 45,
   "id": "mobile-singer",
   "metadata": {},
   "outputs": [],
   "source": [
    "# Double check accuracy\n",
    "#np.trace(cm) / cm.sum().sum()"
   ]
  },
  {
   "cell_type": "code",
   "execution_count": 46,
   "id": "bottom-minute",
   "metadata": {},
   "outputs": [],
   "source": [
    "# Save the confusion matrix to an excel file\n",
    "cm.to_excel('cm_all_data_3ConvLayers_down_changed_architecture_100_100_16to30.xlsx')"
   ]
  },
  {
   "cell_type": "markdown",
   "id": "atmospheric-garage",
   "metadata": {},
   "source": [
    "#### For model that was trained for 15 epochs"
   ]
  },
  {
   "cell_type": "code",
   "execution_count": 47,
   "id": "mighty-shelf",
   "metadata": {},
   "outputs": [],
   "source": [
    "# Load a saved model\n",
    "model = keras.models.load_model('model_all_data_3ConvLayers_down_changed_architecture_100_100_1to15')"
   ]
  },
  {
   "cell_type": "markdown",
   "id": "universal-pharmacy",
   "metadata": {},
   "source": [
    "##### Normalization"
   ]
  },
  {
   "cell_type": "code",
   "execution_count": 56,
   "id": "understanding-joint",
   "metadata": {},
   "outputs": [
    {
     "name": "stdout",
     "output_type": "stream",
     "text": [
      "Found 12630 images belonging to 1 classes.\n"
     ]
    }
   ],
   "source": [
    "from tensorflow.keras.preprocessing.image import ImageDataGenerator\n",
    "\n",
    "test_datagen = ImageDataGenerator(rescale=1./255)\n",
    "\n",
    "test_generator = test_datagen.flow_from_directory(\n",
    "    test_dir,\n",
    "    target_size=(100,100),\n",
    "    batch_size=20,\n",
    "    shuffle=False,\n",
    "    #class_mode=None,\n",
    "    class_mode=\"categorical\",\n",
    "    color_mode=\"grayscale\"\n",
    "    )\n",
    "\n",
    "x_test=np.concatenate([test_generator.next()[0] for i in range(test_generator.__len__())])\n",
    "\n",
    "test_datagen = ImageDataGenerator(featurewise_center=True, featurewise_std_normalization=True)\n",
    "\n",
    "test_datagen.fit(x_test)"
   ]
  },
  {
   "cell_type": "markdown",
   "id": "fifty-infrared",
   "metadata": {},
   "source": [
    "##### Re-Creating the generators with the normalized image data"
   ]
  },
  {
   "cell_type": "code",
   "execution_count": 57,
   "id": "dated-structure",
   "metadata": {},
   "outputs": [
    {
     "name": "stdout",
     "output_type": "stream",
     "text": [
      "Found 12630 images belonging to 1 classes.\n"
     ]
    },
    {
     "name": "stderr",
     "output_type": "stream",
     "text": [
      "/Users/philippmetzger/anaconda3/envs/dl_pip_2/lib/python3.8/site-packages/tensorflow/python/keras/engine/training.py:1905: UserWarning: `Model.predict_generator` is deprecated and will be removed in a future version. Please use `Model.predict`, which supports generators.\n",
      "  warnings.warn('`Model.predict_generator` is deprecated and '\n"
     ]
    }
   ],
   "source": [
    "test_generator = test_datagen.flow_from_directory(\n",
    "        test_dir,\n",
    "        target_size=(100, 100),\n",
    "        batch_size=20,\n",
    "        shuffle=False,\n",
    "        color_mode=\"grayscale\",\n",
    "        class_mode=None)\n",
    "\n",
    "test_generator.reset() \n",
    "pred_scores = model.predict_generator(test_generator)\n",
    "class_pred = np.argmax(pred_scores, axis=-1)"
   ]
  },
  {
   "cell_type": "code",
   "execution_count": 58,
   "id": "painted-ecuador",
   "metadata": {},
   "outputs": [
    {
     "data": {
      "text/plain": [
       "array([16,  1, 38, ...,  5,  7, 10])"
      ]
     },
     "execution_count": 58,
     "metadata": {},
     "output_type": "execute_result"
    }
   ],
   "source": [
    "class_pred"
   ]
  },
  {
   "cell_type": "code",
   "execution_count": 59,
   "id": "sought-trick",
   "metadata": {},
   "outputs": [
    {
     "data": {
      "text/plain": [
       "array([16,  1, 38, 33, 11, 18, 12, 25, 35,  7, 23,  4,  9, 21, 20, 27,  3,\n",
       "       13, 10,  5, 17, 34,  2,  8, 30, 24, 15, 26, 22, 14, 32,  6, 36, 40,\n",
       "       41, 28, 29, 31, 19,  0, 39, 42, 37])"
      ]
     },
     "execution_count": 59,
     "metadata": {},
     "output_type": "execute_result"
    }
   ],
   "source": [
    "pd.unique(class_pred)"
   ]
  },
  {
   "cell_type": "code",
   "execution_count": 60,
   "id": "brutal-employment",
   "metadata": {},
   "outputs": [
    {
     "name": "stdout",
     "output_type": "stream",
     "text": [
      "Test set accuracy: 0.9521773555027712\n"
     ]
    }
   ],
   "source": [
    "# Get the true values and compute accuracy\n",
    "\n",
    "class_true = pd.read_csv(\"/Users/philippmetzger/Documents/GitHub/Deep_Learning_Project_Group_10/Data/Test Folder/gt_test.csv\", \";\")[\"ClassId\"]\n",
    "\n",
    "print(\"Test set accuracy:\", accuracy_score(class_pred, class_true))"
   ]
  },
  {
   "cell_type": "code",
   "execution_count": 61,
   "id": "piano-heavy",
   "metadata": {},
   "outputs": [],
   "source": [
    "# Compute confusion matrix\n",
    "\n",
    "#!pip install git+http://github.com/scikit-learn/scikit-learn.git\n",
    "\n",
    "# multilabel_confusion_matrix(class_pred, class_true)\n",
    "cm = pd.DataFrame(confusion_matrix(class_true, class_pred))"
   ]
  },
  {
   "cell_type": "code",
   "execution_count": 62,
   "id": "collective-blast",
   "metadata": {},
   "outputs": [],
   "source": [
    "# Double check accuracy\n",
    "#np.trace(cm) / cm.sum().sum()"
   ]
  },
  {
   "cell_type": "code",
   "execution_count": 63,
   "id": "alternative-saudi",
   "metadata": {},
   "outputs": [],
   "source": [
    "# Save the confusion matrix to an excel file\n",
    "cm.to_excel('cm_all_data_3ConvLayers_down_changed_architecture_100_100_1to15.xlsx')"
   ]
  },
  {
   "cell_type": "code",
   "execution_count": null,
   "id": "automotive-general",
   "metadata": {},
   "outputs": [],
   "source": []
  },
  {
   "cell_type": "code",
   "execution_count": null,
   "id": "gorgeous-plaza",
   "metadata": {},
   "outputs": [],
   "source": []
  },
  {
   "cell_type": "code",
   "execution_count": null,
   "id": "usual-patio",
   "metadata": {},
   "outputs": [],
   "source": []
  },
  {
   "cell_type": "code",
   "execution_count": null,
   "id": "configured-finger",
   "metadata": {},
   "outputs": [],
   "source": []
  },
  {
   "cell_type": "code",
   "execution_count": null,
   "id": "animated-header",
   "metadata": {},
   "outputs": [],
   "source": []
  },
  {
   "cell_type": "markdown",
   "id": "extended-catalog",
   "metadata": {},
   "source": [
    "# Old:"
   ]
  },
  {
   "cell_type": "markdown",
   "id": "departmental-helen",
   "metadata": {},
   "source": [
    "## Analysing the results"
   ]
  },
  {
   "cell_type": "code",
   "execution_count": 2,
   "id": "pregnant-plenty",
   "metadata": {},
   "outputs": [],
   "source": [
    "res = pd.read_csv(\"cm_all_data_dropout_0_9_20_epochs.csv\", \";\").drop(columns=\"Unnamed: 0\")\n",
    "number_per_class = res.sum(axis=1)\n",
    "\n",
    "true_pos = []\n",
    "for i in range(43):\n",
    "    true_pos.append(res.iloc[i,i])\n",
    "\n",
    "analysis = pd.DataFrame(true_pos, number_per_class).reset_index().rename(columns={\"index\":\"actual_number\", 0:\"true_positives\"})\n",
    "analysis[\"acc\"] = analysis[\"true_positives\"] / analysis[\"actual_number\"]"
   ]
  },
  {
   "cell_type": "code",
   "execution_count": 3,
   "id": "bottom-password",
   "metadata": {},
   "outputs": [],
   "source": [
    "#setting the training directory (the training images can be found there, already sorted by class into folders)\n",
    "base_training_dir = \"/Users/franz/Desktop/DL Project/Train/Final_Training/Images\"\n",
    "\n",
    "#setting the directory where the selected training and validation images will be stored in\n",
    "created_dir = \"/Users/franz/Desktop/DL Project/Selected\"\n",
    "\n",
    "#storing all the folder names that belong to the respective classes\n",
    "all_classes = sorted(i for i in os.listdir(base_training_dir) if i.startswith(\"0\"))"
   ]
  },
  {
   "cell_type": "code",
   "execution_count": 4,
   "id": "entire-secondary",
   "metadata": {},
   "outputs": [],
   "source": [
    "#getting the number of images within each class of the training data\n",
    "amount_per_class = {}\n",
    "\n",
    "for i in range(len(all_classes)):\n",
    "    directory = base_training_dir + \"/\" + all_classes[i]\n",
    "    amount_per_class[i] = len(sorted(i for i in os.listdir(directory) if i.startswith(\"0\")))\n",
    "\n",
    "amount_per_class_df = pd.DataFrame.from_dict(amount_per_class, orient='index').rename(columns={0:\"amount\"})\n",
    "amount_per_class_df.index.name = 'class'"
   ]
  },
  {
   "cell_type": "code",
   "execution_count": 6,
   "id": "instructional-enlargement",
   "metadata": {},
   "outputs": [
    {
     "data": {
      "text/html": [
       "<div>\n",
       "<style scoped>\n",
       "    .dataframe tbody tr th:only-of-type {\n",
       "        vertical-align: middle;\n",
       "    }\n",
       "\n",
       "    .dataframe tbody tr th {\n",
       "        vertical-align: top;\n",
       "    }\n",
       "\n",
       "    .dataframe thead th {\n",
       "        text-align: right;\n",
       "    }\n",
       "</style>\n",
       "<table border=\"1\" class=\"dataframe\">\n",
       "  <thead>\n",
       "    <tr style=\"text-align: right;\">\n",
       "      <th></th>\n",
       "      <th>actual_number</th>\n",
       "      <th>true_positives</th>\n",
       "      <th>acc</th>\n",
       "      <th>class_size_in_training</th>\n",
       "    </tr>\n",
       "  </thead>\n",
       "  <tbody>\n",
       "    <tr>\n",
       "      <th>0</th>\n",
       "      <td>60</td>\n",
       "      <td>21</td>\n",
       "      <td>0.350000</td>\n",
       "      <td>210</td>\n",
       "    </tr>\n",
       "    <tr>\n",
       "      <th>1</th>\n",
       "      <td>720</td>\n",
       "      <td>675</td>\n",
       "      <td>0.937500</td>\n",
       "      <td>2220</td>\n",
       "    </tr>\n",
       "    <tr>\n",
       "      <th>2</th>\n",
       "      <td>750</td>\n",
       "      <td>657</td>\n",
       "      <td>0.876000</td>\n",
       "      <td>2250</td>\n",
       "    </tr>\n",
       "    <tr>\n",
       "      <th>3</th>\n",
       "      <td>450</td>\n",
       "      <td>351</td>\n",
       "      <td>0.780000</td>\n",
       "      <td>1410</td>\n",
       "    </tr>\n",
       "    <tr>\n",
       "      <th>4</th>\n",
       "      <td>660</td>\n",
       "      <td>582</td>\n",
       "      <td>0.881818</td>\n",
       "      <td>1980</td>\n",
       "    </tr>\n",
       "    <tr>\n",
       "      <th>5</th>\n",
       "      <td>630</td>\n",
       "      <td>509</td>\n",
       "      <td>0.807937</td>\n",
       "      <td>1860</td>\n",
       "    </tr>\n",
       "    <tr>\n",
       "      <th>6</th>\n",
       "      <td>150</td>\n",
       "      <td>106</td>\n",
       "      <td>0.706667</td>\n",
       "      <td>420</td>\n",
       "    </tr>\n",
       "    <tr>\n",
       "      <th>7</th>\n",
       "      <td>450</td>\n",
       "      <td>329</td>\n",
       "      <td>0.731111</td>\n",
       "      <td>1440</td>\n",
       "    </tr>\n",
       "    <tr>\n",
       "      <th>8</th>\n",
       "      <td>450</td>\n",
       "      <td>364</td>\n",
       "      <td>0.808889</td>\n",
       "      <td>1410</td>\n",
       "    </tr>\n",
       "    <tr>\n",
       "      <th>9</th>\n",
       "      <td>480</td>\n",
       "      <td>462</td>\n",
       "      <td>0.962500</td>\n",
       "      <td>1470</td>\n",
       "    </tr>\n",
       "    <tr>\n",
       "      <th>10</th>\n",
       "      <td>660</td>\n",
       "      <td>653</td>\n",
       "      <td>0.989394</td>\n",
       "      <td>2010</td>\n",
       "    </tr>\n",
       "    <tr>\n",
       "      <th>11</th>\n",
       "      <td>420</td>\n",
       "      <td>380</td>\n",
       "      <td>0.904762</td>\n",
       "      <td>1320</td>\n",
       "    </tr>\n",
       "    <tr>\n",
       "      <th>12</th>\n",
       "      <td>690</td>\n",
       "      <td>642</td>\n",
       "      <td>0.930435</td>\n",
       "      <td>2100</td>\n",
       "    </tr>\n",
       "    <tr>\n",
       "      <th>13</th>\n",
       "      <td>720</td>\n",
       "      <td>716</td>\n",
       "      <td>0.994444</td>\n",
       "      <td>2160</td>\n",
       "    </tr>\n",
       "    <tr>\n",
       "      <th>14</th>\n",
       "      <td>270</td>\n",
       "      <td>234</td>\n",
       "      <td>0.866667</td>\n",
       "      <td>780</td>\n",
       "    </tr>\n",
       "    <tr>\n",
       "      <th>15</th>\n",
       "      <td>210</td>\n",
       "      <td>206</td>\n",
       "      <td>0.980952</td>\n",
       "      <td>630</td>\n",
       "    </tr>\n",
       "    <tr>\n",
       "      <th>16</th>\n",
       "      <td>150</td>\n",
       "      <td>124</td>\n",
       "      <td>0.826667</td>\n",
       "      <td>420</td>\n",
       "    </tr>\n",
       "    <tr>\n",
       "      <th>17</th>\n",
       "      <td>360</td>\n",
       "      <td>291</td>\n",
       "      <td>0.808333</td>\n",
       "      <td>1110</td>\n",
       "    </tr>\n",
       "    <tr>\n",
       "      <th>18</th>\n",
       "      <td>390</td>\n",
       "      <td>297</td>\n",
       "      <td>0.761538</td>\n",
       "      <td>1200</td>\n",
       "    </tr>\n",
       "    <tr>\n",
       "      <th>19</th>\n",
       "      <td>60</td>\n",
       "      <td>59</td>\n",
       "      <td>0.983333</td>\n",
       "      <td>210</td>\n",
       "    </tr>\n",
       "    <tr>\n",
       "      <th>20</th>\n",
       "      <td>90</td>\n",
       "      <td>75</td>\n",
       "      <td>0.833333</td>\n",
       "      <td>360</td>\n",
       "    </tr>\n",
       "    <tr>\n",
       "      <th>21</th>\n",
       "      <td>90</td>\n",
       "      <td>48</td>\n",
       "      <td>0.533333</td>\n",
       "      <td>330</td>\n",
       "    </tr>\n",
       "    <tr>\n",
       "      <th>22</th>\n",
       "      <td>120</td>\n",
       "      <td>114</td>\n",
       "      <td>0.950000</td>\n",
       "      <td>390</td>\n",
       "    </tr>\n",
       "    <tr>\n",
       "      <th>23</th>\n",
       "      <td>150</td>\n",
       "      <td>94</td>\n",
       "      <td>0.626667</td>\n",
       "      <td>510</td>\n",
       "    </tr>\n",
       "    <tr>\n",
       "      <th>24</th>\n",
       "      <td>90</td>\n",
       "      <td>41</td>\n",
       "      <td>0.455556</td>\n",
       "      <td>270</td>\n",
       "    </tr>\n",
       "    <tr>\n",
       "      <th>25</th>\n",
       "      <td>480</td>\n",
       "      <td>442</td>\n",
       "      <td>0.920833</td>\n",
       "      <td>1500</td>\n",
       "    </tr>\n",
       "    <tr>\n",
       "      <th>26</th>\n",
       "      <td>180</td>\n",
       "      <td>139</td>\n",
       "      <td>0.772222</td>\n",
       "      <td>600</td>\n",
       "    </tr>\n",
       "    <tr>\n",
       "      <th>27</th>\n",
       "      <td>60</td>\n",
       "      <td>30</td>\n",
       "      <td>0.500000</td>\n",
       "      <td>240</td>\n",
       "    </tr>\n",
       "    <tr>\n",
       "      <th>28</th>\n",
       "      <td>150</td>\n",
       "      <td>139</td>\n",
       "      <td>0.926667</td>\n",
       "      <td>540</td>\n",
       "    </tr>\n",
       "    <tr>\n",
       "      <th>29</th>\n",
       "      <td>90</td>\n",
       "      <td>80</td>\n",
       "      <td>0.888889</td>\n",
       "      <td>270</td>\n",
       "    </tr>\n",
       "    <tr>\n",
       "      <th>30</th>\n",
       "      <td>150</td>\n",
       "      <td>54</td>\n",
       "      <td>0.360000</td>\n",
       "      <td>450</td>\n",
       "    </tr>\n",
       "    <tr>\n",
       "      <th>31</th>\n",
       "      <td>270</td>\n",
       "      <td>234</td>\n",
       "      <td>0.866667</td>\n",
       "      <td>780</td>\n",
       "    </tr>\n",
       "    <tr>\n",
       "      <th>32</th>\n",
       "      <td>60</td>\n",
       "      <td>60</td>\n",
       "      <td>1.000000</td>\n",
       "      <td>240</td>\n",
       "    </tr>\n",
       "    <tr>\n",
       "      <th>33</th>\n",
       "      <td>210</td>\n",
       "      <td>207</td>\n",
       "      <td>0.985714</td>\n",
       "      <td>689</td>\n",
       "    </tr>\n",
       "    <tr>\n",
       "      <th>34</th>\n",
       "      <td>120</td>\n",
       "      <td>109</td>\n",
       "      <td>0.908333</td>\n",
       "      <td>420</td>\n",
       "    </tr>\n",
       "    <tr>\n",
       "      <th>35</th>\n",
       "      <td>390</td>\n",
       "      <td>379</td>\n",
       "      <td>0.971795</td>\n",
       "      <td>1200</td>\n",
       "    </tr>\n",
       "    <tr>\n",
       "      <th>36</th>\n",
       "      <td>120</td>\n",
       "      <td>118</td>\n",
       "      <td>0.983333</td>\n",
       "      <td>390</td>\n",
       "    </tr>\n",
       "    <tr>\n",
       "      <th>37</th>\n",
       "      <td>60</td>\n",
       "      <td>50</td>\n",
       "      <td>0.833333</td>\n",
       "      <td>210</td>\n",
       "    </tr>\n",
       "    <tr>\n",
       "      <th>38</th>\n",
       "      <td>690</td>\n",
       "      <td>648</td>\n",
       "      <td>0.939130</td>\n",
       "      <td>2070</td>\n",
       "    </tr>\n",
       "    <tr>\n",
       "      <th>39</th>\n",
       "      <td>90</td>\n",
       "      <td>60</td>\n",
       "      <td>0.666667</td>\n",
       "      <td>300</td>\n",
       "    </tr>\n",
       "    <tr>\n",
       "      <th>40</th>\n",
       "      <td>90</td>\n",
       "      <td>86</td>\n",
       "      <td>0.955556</td>\n",
       "      <td>360</td>\n",
       "    </tr>\n",
       "    <tr>\n",
       "      <th>41</th>\n",
       "      <td>60</td>\n",
       "      <td>33</td>\n",
       "      <td>0.550000</td>\n",
       "      <td>240</td>\n",
       "    </tr>\n",
       "    <tr>\n",
       "      <th>42</th>\n",
       "      <td>90</td>\n",
       "      <td>82</td>\n",
       "      <td>0.911111</td>\n",
       "      <td>240</td>\n",
       "    </tr>\n",
       "  </tbody>\n",
       "</table>\n",
       "</div>"
      ],
      "text/plain": [
       "    actual_number  true_positives       acc  class_size_in_training\n",
       "0              60              21  0.350000                     210\n",
       "1             720             675  0.937500                    2220\n",
       "2             750             657  0.876000                    2250\n",
       "3             450             351  0.780000                    1410\n",
       "4             660             582  0.881818                    1980\n",
       "5             630             509  0.807937                    1860\n",
       "6             150             106  0.706667                     420\n",
       "7             450             329  0.731111                    1440\n",
       "8             450             364  0.808889                    1410\n",
       "9             480             462  0.962500                    1470\n",
       "10            660             653  0.989394                    2010\n",
       "11            420             380  0.904762                    1320\n",
       "12            690             642  0.930435                    2100\n",
       "13            720             716  0.994444                    2160\n",
       "14            270             234  0.866667                     780\n",
       "15            210             206  0.980952                     630\n",
       "16            150             124  0.826667                     420\n",
       "17            360             291  0.808333                    1110\n",
       "18            390             297  0.761538                    1200\n",
       "19             60              59  0.983333                     210\n",
       "20             90              75  0.833333                     360\n",
       "21             90              48  0.533333                     330\n",
       "22            120             114  0.950000                     390\n",
       "23            150              94  0.626667                     510\n",
       "24             90              41  0.455556                     270\n",
       "25            480             442  0.920833                    1500\n",
       "26            180             139  0.772222                     600\n",
       "27             60              30  0.500000                     240\n",
       "28            150             139  0.926667                     540\n",
       "29             90              80  0.888889                     270\n",
       "30            150              54  0.360000                     450\n",
       "31            270             234  0.866667                     780\n",
       "32             60              60  1.000000                     240\n",
       "33            210             207  0.985714                     689\n",
       "34            120             109  0.908333                     420\n",
       "35            390             379  0.971795                    1200\n",
       "36            120             118  0.983333                     390\n",
       "37             60              50  0.833333                     210\n",
       "38            690             648  0.939130                    2070\n",
       "39             90              60  0.666667                     300\n",
       "40             90              86  0.955556                     360\n",
       "41             60              33  0.550000                     240\n",
       "42             90              82  0.911111                     240"
      ]
     },
     "execution_count": 6,
     "metadata": {},
     "output_type": "execute_result"
    }
   ],
   "source": [
    "res = pd.concat([analysis, amount_per_class_df],axis = 1).rename(columns={\"amount\":\"class_size_in_training\"})\n",
    "res.to_excel('cm_all_data_dropout_0_9_20_epochs_analysed.xlsx')\n",
    "res"
   ]
  },
  {
   "cell_type": "code",
   "execution_count": null,
   "id": "metropolitan-sheriff",
   "metadata": {},
   "outputs": [],
   "source": [
    "res.corr()"
   ]
  },
  {
   "cell_type": "markdown",
   "id": "affected-thanksgiving",
   "metadata": {},
   "source": [
    "### 'Weighted 1'"
   ]
  },
  {
   "cell_type": "code",
   "execution_count": 98,
   "id": "nominated-skating",
   "metadata": {},
   "outputs": [],
   "source": [
    "accs = {}"
   ]
  },
  {
   "cell_type": "markdown",
   "id": "absolute-arthritis",
   "metadata": {},
   "source": [
    "#### 5 epochs"
   ]
  },
  {
   "cell_type": "code",
   "execution_count": 99,
   "id": "anticipated-purse",
   "metadata": {},
   "outputs": [
    {
     "name": "stdout",
     "output_type": "stream",
     "text": [
      "Found 12630 images belonging to 1 classes.\n",
      "Test set accuracy: 0.8235946159936659\n",
      "Accuracy double checked: 0.8235946159936659\n"
     ]
    }
   ],
   "source": [
    "# Provide the name of this model\n",
    "name = '_all_data_dropout_0_9_weights_5_epochs'\n",
    "\n",
    "# Load a saved model\n",
    "model = keras.models.load_model('model' + name)\n",
    "\n",
    "# Define the test set directory\n",
    "#test_dir = \"/Users/franz/Desktop/DL Project/Test Folder/\"\n",
    "test_dir = '/Users/philippmetzger/Documents/GitHub/Deep_Learning_Project_Group_10/Data/Test Folder'\n",
    "\n",
    "# Define the generator\n",
    "test_datagen = ImageDataGenerator(rescale=1./255)\n",
    "test_generator = test_datagen.flow_from_directory(\n",
    "        test_dir,\n",
    "        target_size=(150, 150),\n",
    "        batch_size=20,\n",
    "        shuffle=False,\n",
    "        class_mode=None)\n",
    "test_generator.reset()\n",
    "\n",
    "# Predict\n",
    "pred_scores = model.predict_generator(test_generator)\n",
    "class_pred = np.argmax(pred_scores, axis=-1)\n",
    "\n",
    "\n",
    "# Get the true values and compute, save and print accuracy\n",
    "class_true = pd.read_csv(\"/Users/philippmetzger/Documents/GitHub/Deep_Learning_Project_Group_10/Data/Test Folder/gt_test.csv\", \";\")[\"ClassId\"]\n",
    "acc = accuracy_score(class_pred, class_true)\n",
    "accs[name] = acc\n",
    "print(\"Test set accuracy:\", acc)\n",
    "\n",
    "# Get the confusion matrix\n",
    "cm = pd.DataFrame(confusion_matrix(class_true, class_pred))\n",
    "\n",
    "# Double check accuracy\n",
    "#print('Accuracy double checked:', np.trace(cm) / cm.sum().sum())\n",
    "\n",
    "# Print the confusion matrix and save it to an excel file\n",
    "save_path = 'cm' + name + '.xlsx'\n",
    "cm.to_excel(save_path)"
   ]
  },
  {
   "cell_type": "markdown",
   "id": "authentic-polyester",
   "metadata": {},
   "source": [
    "#### 10 epochs"
   ]
  },
  {
   "cell_type": "code",
   "execution_count": 100,
   "id": "modular-teacher",
   "metadata": {},
   "outputs": [
    {
     "name": "stdout",
     "output_type": "stream",
     "text": [
      "Found 12630 images belonging to 1 classes.\n"
     ]
    },
    {
     "name": "stderr",
     "output_type": "stream",
     "text": [
      "/Users/philippmetzger/anaconda3/envs/dl_pip_2/lib/python3.8/site-packages/tensorflow/python/keras/engine/training.py:1905: UserWarning: `Model.predict_generator` is deprecated and will be removed in a future version. Please use `Model.predict`, which supports generators.\n",
      "  warnings.warn('`Model.predict_generator` is deprecated and '\n"
     ]
    },
    {
     "name": "stdout",
     "output_type": "stream",
     "text": [
      "Test set accuracy: 0.8517022961203484\n",
      "Accuracy double checked: 0.8517022961203484\n"
     ]
    }
   ],
   "source": [
    "# Provide the name of this model\n",
    "name = '_all_data_dropout_0_9_weights_10_epochs'\n",
    "\n",
    "# Load a saved model\n",
    "model = keras.models.load_model('model' + name)\n",
    "\n",
    "# Define the test set directory\n",
    "#test_dir = \"/Users/franz/Desktop/DL Project/Test Folder/\"\n",
    "test_dir = '/Users/philippmetzger/Documents/GitHub/Deep_Learning_Project_Group_10/Data/Test Folder'\n",
    "\n",
    "# Define the generator\n",
    "test_datagen = ImageDataGenerator(rescale=1./255)\n",
    "test_generator = test_datagen.flow_from_directory(\n",
    "        test_dir,\n",
    "        target_size=(150, 150),\n",
    "        batch_size=20,\n",
    "        shuffle=False,\n",
    "        class_mode=None)\n",
    "test_generator.reset()\n",
    "\n",
    "# Predict\n",
    "pred_scores = model.predict_generator(test_generator)\n",
    "class_pred = np.argmax(pred_scores, axis=-1)\n",
    "\n",
    "\n",
    "# Get the true values and compute, save and print accuracy\n",
    "class_true = pd.read_csv(\"/Users/philippmetzger/Documents/GitHub/Deep_Learning_Project_Group_10/Data/Test Folder/gt_test.csv\", \";\")[\"ClassId\"]\n",
    "acc = accuracy_score(class_pred, class_true)\n",
    "accs[name] = acc\n",
    "print(\"Test set accuracy:\", acc)\n",
    "\n",
    "# Get the confusion matrix\n",
    "cm = pd.DataFrame(confusion_matrix(class_true, class_pred))\n",
    "\n",
    "# Double check accuracy\n",
    "#print('Accuracy double checked:', np.trace(cm) / cm.sum().sum())\n",
    "\n",
    "# Print the confusion matrix and save it to an excel file\n",
    "save_path = 'cm' + name + '.xlsx'\n",
    "cm.to_excel(save_path)"
   ]
  },
  {
   "cell_type": "markdown",
   "id": "functioning-elephant",
   "metadata": {},
   "source": [
    "#### 15 epochs"
   ]
  },
  {
   "cell_type": "code",
   "execution_count": 101,
   "id": "affecting-occurrence",
   "metadata": {},
   "outputs": [
    {
     "name": "stdout",
     "output_type": "stream",
     "text": [
      "Found 12630 images belonging to 1 classes.\n"
     ]
    },
    {
     "name": "stderr",
     "output_type": "stream",
     "text": [
      "/Users/philippmetzger/anaconda3/envs/dl_pip_2/lib/python3.8/site-packages/tensorflow/python/keras/engine/training.py:1905: UserWarning: `Model.predict_generator` is deprecated and will be removed in a future version. Please use `Model.predict`, which supports generators.\n",
      "  warnings.warn('`Model.predict_generator` is deprecated and '\n"
     ]
    },
    {
     "name": "stdout",
     "output_type": "stream",
     "text": [
      "Test set accuracy: 0.8586698337292161\n",
      "Accuracy double checked: 0.8586698337292161\n"
     ]
    }
   ],
   "source": [
    "# Provide the name of this model\n",
    "name = '_all_data_dropout_0_9_weights_15_epochs'\n",
    "\n",
    "# Load a saved model\n",
    "model = keras.models.load_model('model' + name)\n",
    "\n",
    "# Define the test set directory\n",
    "#test_dir = \"/Users/franz/Desktop/DL Project/Test Folder/\"\n",
    "test_dir = '/Users/philippmetzger/Documents/GitHub/Deep_Learning_Project_Group_10/Data/Test Folder'\n",
    "\n",
    "# Define the generator\n",
    "test_datagen = ImageDataGenerator(rescale=1./255)\n",
    "test_generator = test_datagen.flow_from_directory(\n",
    "        test_dir,\n",
    "        target_size=(150, 150),\n",
    "        batch_size=20,\n",
    "        shuffle=False,\n",
    "        class_mode=None)\n",
    "test_generator.reset()\n",
    "\n",
    "# Predict\n",
    "pred_scores = model.predict_generator(test_generator)\n",
    "class_pred = np.argmax(pred_scores, axis=-1)\n",
    "\n",
    "\n",
    "# Get the true values and compute, save and print accuracy\n",
    "class_true = pd.read_csv(\"/Users/philippmetzger/Documents/GitHub/Deep_Learning_Project_Group_10/Data/Test Folder/gt_test.csv\", \";\")[\"ClassId\"]\n",
    "acc = accuracy_score(class_pred, class_true)\n",
    "accs[name] = acc\n",
    "print(\"Test set accuracy:\", acc)\n",
    "\n",
    "# Get the confusion matrix\n",
    "cm = pd.DataFrame(confusion_matrix(class_true, class_pred))\n",
    "\n",
    "# Double check accuracy\n",
    "#print('Accuracy double checked:', np.trace(cm) / cm.sum().sum())\n",
    "\n",
    "# Print the confusion matrix and save it to an excel file\n",
    "save_path = 'cm' + name + '.xlsx'\n",
    "cm.to_excel(save_path)"
   ]
  },
  {
   "cell_type": "markdown",
   "id": "specialized-audit",
   "metadata": {},
   "source": [
    "#### 20 epochs"
   ]
  },
  {
   "cell_type": "code",
   "execution_count": 102,
   "id": "experimental-responsibility",
   "metadata": {},
   "outputs": [
    {
     "name": "stdout",
     "output_type": "stream",
     "text": [
      "Found 12630 images belonging to 1 classes.\n"
     ]
    },
    {
     "name": "stderr",
     "output_type": "stream",
     "text": [
      "/Users/philippmetzger/anaconda3/envs/dl_pip_2/lib/python3.8/site-packages/tensorflow/python/keras/engine/training.py:1905: UserWarning: `Model.predict_generator` is deprecated and will be removed in a future version. Please use `Model.predict`, which supports generators.\n",
      "  warnings.warn('`Model.predict_generator` is deprecated and '\n"
     ]
    },
    {
     "name": "stdout",
     "output_type": "stream",
     "text": [
      "Test set accuracy: 0.8669833729216152\n",
      "Accuracy double checked: 0.8669833729216152\n"
     ]
    }
   ],
   "source": [
    "# Provide the name of this model\n",
    "name = '_all_data_dropout_0_9_weights_20_epochs'\n",
    "\n",
    "# Load a saved model\n",
    "model = keras.models.load_model('model' + name)\n",
    "\n",
    "# Define the test set directory\n",
    "#test_dir = \"/Users/franz/Desktop/DL Project/Test Folder/\"\n",
    "test_dir = '/Users/philippmetzger/Documents/GitHub/Deep_Learning_Project_Group_10/Data/Test Folder'\n",
    "\n",
    "# Define the generator\n",
    "test_datagen = ImageDataGenerator(rescale=1./255)\n",
    "test_generator = test_datagen.flow_from_directory(\n",
    "        test_dir,\n",
    "        target_size=(150, 150),\n",
    "        batch_size=20,\n",
    "        shuffle=False,\n",
    "        class_mode=None)\n",
    "test_generator.reset()\n",
    "\n",
    "# Predict\n",
    "pred_scores = model.predict_generator(test_generator)\n",
    "class_pred = np.argmax(pred_scores, axis=-1)\n",
    "\n",
    "\n",
    "# Get the true values and compute, save and print accuracy\n",
    "class_true = pd.read_csv(\"/Users/philippmetzger/Documents/GitHub/Deep_Learning_Project_Group_10/Data/Test Folder/gt_test.csv\", \";\")[\"ClassId\"]\n",
    "acc = accuracy_score(class_pred, class_true)\n",
    "accs[name] = acc\n",
    "print(\"Test set accuracy:\", acc)\n",
    "\n",
    "# Get the confusion matrix\n",
    "cm = pd.DataFrame(confusion_matrix(class_true, class_pred))\n",
    "\n",
    "# Double check accuracy\n",
    "#print('Accuracy double checked:', np.trace(cm) / cm.sum().sum())\n",
    "\n",
    "# Print the confusion matrix and save it to an excel file\n",
    "save_path = 'cm' + name + '.xlsx'\n",
    "cm.to_excel(save_path)"
   ]
  },
  {
   "cell_type": "code",
   "execution_count": 103,
   "id": "skilled-civilian",
   "metadata": {},
   "outputs": [
    {
     "data": {
      "text/plain": [
       "{'_all_data_dropout_0_9_weights_5_epochs': 0.8235946159936659,\n",
       " '_all_data_dropout_0_9_weights_10_epochs': 0.8517022961203484,\n",
       " '_all_data_dropout_0_9_weights_15_epochs': 0.8586698337292161,\n",
       " '_all_data_dropout_0_9_weights_20_epochs': 0.8669833729216152}"
      ]
     },
     "execution_count": 103,
     "metadata": {},
     "output_type": "execute_result"
    }
   ],
   "source": [
    "accs"
   ]
  },
  {
   "cell_type": "code",
   "execution_count": null,
   "id": "brief-armor",
   "metadata": {},
   "outputs": [],
   "source": []
  }
 ],
 "metadata": {
  "kernelspec": {
   "display_name": "Python 3",
   "language": "python",
   "name": "python3"
  },
  "language_info": {
   "codemirror_mode": {
    "name": "ipython",
    "version": 3
   },
   "file_extension": ".py",
   "mimetype": "text/x-python",
   "name": "python",
   "nbconvert_exporter": "python",
   "pygments_lexer": "ipython3",
   "version": "3.8.5"
  }
 },
 "nbformat": 4,
 "nbformat_minor": 5
}
